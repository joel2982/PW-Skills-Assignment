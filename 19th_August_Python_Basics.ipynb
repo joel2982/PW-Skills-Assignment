{
  "nbformat": 4,
  "nbformat_minor": 0,
  "metadata": {
    "colab": {
      "provenance": [],
      "authorship_tag": "ABX9TyMVxGYmjrXRFyHUA44OMpBS",
      "include_colab_link": true
    },
    "kernelspec": {
      "name": "python3",
      "display_name": "Python 3"
    },
    "language_info": {
      "name": "python"
    }
  },
  "cells": [
    {
      "cell_type": "markdown",
      "metadata": {
        "id": "view-in-github",
        "colab_type": "text"
      },
      "source": [
        "<a href=\"https://colab.research.google.com/github/joel2982/PW-Skills-Assignment/blob/master/19th_August_Python_Basics.ipynb\" target=\"_parent\"><img src=\"https://colab.research.google.com/assets/colab-badge.svg\" alt=\"Open In Colab\"/></a>"
      ]
    },
    {
      "cell_type": "markdown",
      "source": [
        "# Python Basics Variable"
      ],
      "metadata": {
        "id": "cAe-KGuCBhlh"
      }
    },
    {
      "cell_type": "markdown",
      "source": [
        "##### 1. Declare two variables, `x` and `y`, and assign them integer values. Swap the values of these variables without using any temporary variable."
      ],
      "metadata": {
        "id": "HJucq6wcBrN6"
      }
    },
    {
      "cell_type": "code",
      "execution_count": 5,
      "metadata": {
        "colab": {
          "base_uri": "https://localhost:8080/"
        },
        "id": "F_R-YzARA1Q3",
        "outputId": "20054f70-d9fe-4dbc-915c-6664879ba4f3"
      },
      "outputs": [
        {
          "output_type": "stream",
          "name": "stdout",
          "text": [
            "Initial values of x = 10 , y = 12\n",
            "Values after swapping x = 12 , y = 10\n"
          ]
        }
      ],
      "source": [
        "x = 10\n",
        "y = 12\n",
        "print('Initial values of x =',x,', y =',y)\n",
        "x = x + y\n",
        "y = x - y\n",
        "x = x - y\n",
        "print('Values after swapping x =',x,', y =',y)"
      ]
    },
    {
      "cell_type": "markdown",
      "source": [
        "##### 2. Create a program that calculates the area of a rectangle. Take the length and width as inputs from the user and store them in variables. Calculate and display the area."
      ],
      "metadata": {
        "id": "RhEIKJTsDIzT"
      }
    },
    {
      "cell_type": "code",
      "execution_count": 6,
      "metadata": {
        "colab": {
          "base_uri": "https://localhost:8080/"
        },
        "outputId": "d03107a7-f57a-407d-c0cd-5c362caee0e6",
        "id": "xfhrhzTIDIzb"
      },
      "outputs": [
        {
          "output_type": "stream",
          "name": "stdout",
          "text": [
            "Enter the Length of the Rectangle : 21.2\n",
            "Enter the Width of the Rectangle : 12.1\n",
            "Area of the Rectangle : 256.52\n"
          ]
        }
      ],
      "source": [
        "length = float(input('Enter the Length of the Rectangle : '))\n",
        "width = float(input('Enter the Width of the Rectangle : '))\n",
        "area = length*width\n",
        "print('Area of the Rectangle :',area)"
      ]
    },
    {
      "cell_type": "markdown",
      "source": [
        "##### 3. Write a Python program that converts temperatures from Celsius to Fahrenheit. Take the temperature in Celsius as input, store it in a variable, convert it to Fahrenheit, and display the result."
      ],
      "metadata": {
        "id": "0-2qYEuLEqaK"
      }
    },
    {
      "cell_type": "code",
      "execution_count": 8,
      "metadata": {
        "colab": {
          "base_uri": "https://localhost:8080/"
        },
        "outputId": "1d62534d-4226-493a-fd00-0f08611c1b7d",
        "id": "ub-v3y6WEqaj"
      },
      "outputs": [
        {
          "output_type": "stream",
          "name": "stdout",
          "text": [
            "Enter the Temperature in °C : 5\n",
            "Temperature in °F : 41.0\n"
          ]
        }
      ],
      "source": [
        "temp_in_c = float(input('Enter the Temperature in °C : '))\n",
        "temp_in_f = temp_in_c*1.8 + 32\n",
        "print('Temperature in °F :',temp_in_f)"
      ]
    },
    {
      "cell_type": "markdown",
      "source": [
        "# String Based Questions"
      ],
      "metadata": {
        "id": "inI-j3DIGiNF"
      }
    },
    {
      "cell_type": "markdown",
      "source": [
        "##### 1. Write a Python program that takes a string as input and prints the length of the string."
      ],
      "metadata": {
        "id": "T8SDhc5uGiNO"
      }
    },
    {
      "cell_type": "code",
      "execution_count": 12,
      "metadata": {
        "colab": {
          "base_uri": "https://localhost:8080/"
        },
        "outputId": "7d2257f5-c94c-421d-95d9-4bb81776c7e6",
        "id": "81RFo72IGiNO"
      },
      "outputs": [
        {
          "output_type": "stream",
          "name": "stdout",
          "text": [
            "Enter the String : PW Skills\n",
            "Length of String : 9\n"
          ]
        }
      ],
      "source": [
        "string = input('Enter the String : ')\n",
        "length = len(string)\n",
        "print('Length of String :',length)"
      ]
    },
    {
      "cell_type": "markdown",
      "source": [
        "##### 2. Create a program that takes a sentence from the user and counts the number of vowels (a, e, i, o, u) in the string."
      ],
      "metadata": {
        "id": "bWJZXohiGiNO"
      }
    },
    {
      "cell_type": "code",
      "execution_count": 61,
      "metadata": {
        "colab": {
          "base_uri": "https://localhost:8080/"
        },
        "outputId": "822a6ffb-a9c8-4be9-c598-e2426dab1475",
        "id": "7VS8ehDOGiNP"
      },
      "outputs": [
        {
          "output_type": "stream",
          "name": "stdout",
          "text": [
            "Enter the String : python is a high level language \n",
            "No of Vowels : 10\n"
          ]
        }
      ],
      "source": [
        "sentence = input('Enter the String : ')\n",
        "sentence = sentence.upper()\n",
        "count = 0\n",
        "for char in sentence:\n",
        "  if char in 'AEIOU':\n",
        "    count = count + 1\n",
        "print('No of Vowels :',count)"
      ]
    },
    {
      "cell_type": "markdown",
      "source": [
        "##### 3. Given a string, reverse the order of characters using string slicing and print the reversed string."
      ],
      "metadata": {
        "id": "Z3fSP-qfGiNP"
      }
    },
    {
      "cell_type": "code",
      "execution_count": 53,
      "metadata": {
        "colab": {
          "base_uri": "https://localhost:8080/"
        },
        "outputId": "ca4095cb-840f-4548-f5ae-7b06532d7752",
        "id": "elpRFr5QGiNP"
      },
      "outputs": [
        {
          "output_type": "stream",
          "name": "stdout",
          "text": [
            "Enter the String : python langauge\n",
            "Reversed String : eguagnal nohtyp\n"
          ]
        }
      ],
      "source": [
        "string = input('Enter the String : ')\n",
        "reversed = string[::-1]\n",
        "print('Reversed String :',reversed)"
      ]
    },
    {
      "cell_type": "markdown",
      "source": [
        "##### 4. Write a program that takes a string as input and checks if it is a palindrome (reads the same forwards and backwards)."
      ],
      "metadata": {
        "id": "7ofISr27XlZR"
      }
    },
    {
      "cell_type": "code",
      "execution_count": 65,
      "metadata": {
        "colab": {
          "base_uri": "https://localhost:8080/"
        },
        "outputId": "dcb79005-201a-40c7-d0e5-f983d938981e",
        "id": "UNRkQ_7FXlZR"
      },
      "outputs": [
        {
          "output_type": "stream",
          "name": "stdout",
          "text": [
            "Enter the String : malayalam\n",
            "malayalam is a palindrome string\n"
          ]
        }
      ],
      "source": [
        "string = input('Enter the String : ')\n",
        "temp = string.upper()\n",
        "reversed = temp[::-1]\n",
        "if reversed == temp:\n",
        "  print(string,'is a palindrome string')\n",
        "else:\n",
        "  print(string,'is not a palindrome string')"
      ]
    },
    {
      "cell_type": "markdown",
      "source": [
        "##### 5. Create a program that takes a string as input and removes all the spaces from it. Print the modified string without spaces."
      ],
      "metadata": {
        "id": "KbvbrtwhY15L"
      }
    },
    {
      "cell_type": "code",
      "execution_count": 70,
      "metadata": {
        "colab": {
          "base_uri": "https://localhost:8080/"
        },
        "outputId": "ef596c65-c80d-4e84-ae02-14cf06882c09",
        "id": "JGtg7UBCY15W"
      },
      "outputs": [
        {
          "output_type": "stream",
          "name": "stdout",
          "text": [
            "Enter the String : python is a high level language \n",
            "pythonisahighlevellanguage\n"
          ]
        }
      ],
      "source": [
        "string = input('Enter the String : ')\n",
        "new_string = string.replace(' ','')\n",
        "print(new_string)"
      ]
    }
  ]
}