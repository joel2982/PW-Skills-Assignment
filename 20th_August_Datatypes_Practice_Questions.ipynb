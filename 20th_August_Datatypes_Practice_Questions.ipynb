{
  "nbformat": 4,
  "nbformat_minor": 0,
  "metadata": {
    "colab": {
      "provenance": [],
      "authorship_tag": "ABX9TyP5JtdDw70nnsG0Y9yvz9yT",
      "include_colab_link": true
    },
    "kernelspec": {
      "name": "python3",
      "display_name": "Python 3"
    },
    "language_info": {
      "name": "python"
    }
  },
  "cells": [
    {
      "cell_type": "markdown",
      "metadata": {
        "id": "view-in-github",
        "colab_type": "text"
      },
      "source": [
        "<a href=\"https://colab.research.google.com/github/joel2982/PW-Skills-Assignment/blob/master/20th_August_Datatypes_Practice_Questions.ipynb\" target=\"_parent\"><img src=\"https://colab.research.google.com/assets/colab-badge.svg\" alt=\"Open In Colab\"/></a>"
      ]
    },
    {
      "cell_type": "markdown",
      "source": [
        "# String Based Assignment Problem"
      ],
      "metadata": {
        "id": "RJOgKBdyW-wK"
      }
    },
    {
      "cell_type": "markdown",
      "source": [
        "### 1. Write a program to reverse a string."
      ],
      "metadata": {
        "id": "fIe2CcidXTkS"
      }
    },
    {
      "cell_type": "code",
      "execution_count": null,
      "metadata": {
        "colab": {
          "base_uri": "https://localhost:8080/"
        },
        "id": "vR1RFwwLWJn6",
        "outputId": "a82dcfd6-61e1-4d96-929a-49254d67a9a8"
      },
      "outputs": [
        {
          "output_type": "stream",
          "name": "stdout",
          "text": [
            "Enter the String : Python\n",
            "Reversed String : nohtyP\n"
          ]
        }
      ],
      "source": [
        "string = input('Enter the String : ')\n",
        "reversed = string[::-1]\n",
        "print('Reversed String :',reversed)"
      ]
    },
    {
      "cell_type": "markdown",
      "source": [
        "### 2. Check if a string is a palindrome."
      ],
      "metadata": {
        "id": "Ob7iTE_KYFfV"
      }
    },
    {
      "cell_type": "code",
      "execution_count": null,
      "metadata": {
        "colab": {
          "base_uri": "https://localhost:8080/"
        },
        "outputId": "986391e9-41fa-4c0b-dea7-10f1a4589eae",
        "id": "81JPbZZsYFfd"
      },
      "outputs": [
        {
          "output_type": "stream",
          "name": "stdout",
          "text": [
            "Enter the String : malayalam\n",
            "malayalam is a palindrome string\n"
          ]
        }
      ],
      "source": [
        "string = input('Enter the String : ')\n",
        "# converting the whole string into uppercase characters\n",
        "temp = string.upper()\n",
        "# reversing the string\n",
        "reversed = temp[::-1]\n",
        "if reversed == temp:\n",
        "  print(string,'is a palindrome string')\n",
        "else:\n",
        "  print(string,'is not a palindrome string')"
      ]
    },
    {
      "cell_type": "markdown",
      "source": [
        "### 3. Convert a string to uppercase."
      ],
      "metadata": {
        "id": "vaLhMsVnZDvX"
      }
    },
    {
      "cell_type": "code",
      "execution_count": null,
      "metadata": {
        "colab": {
          "base_uri": "https://localhost:8080/"
        },
        "outputId": "5b5e4e23-9d1a-4d41-c215-b75078c72bfd",
        "id": "mnS5ER3PZDvj"
      },
      "outputs": [
        {
          "output_type": "stream",
          "name": "stdout",
          "text": [
            "Enter the String : assignment\n",
            "ASSIGNMENT\n"
          ]
        }
      ],
      "source": [
        "string = input('Enter the String : ')\n",
        "# converting the whole string into uppercase characters\n",
        "new_string = string.upper()\n",
        "print(new_string)"
      ]
    },
    {
      "cell_type": "markdown",
      "source": [
        "### 4. Convert a string to lowercase."
      ],
      "metadata": {
        "id": "rnnWWWxGZvDA"
      }
    },
    {
      "cell_type": "code",
      "execution_count": null,
      "metadata": {
        "colab": {
          "base_uri": "https://localhost:8080/"
        },
        "outputId": "c08be2dd-5894-41fa-d1e1-6f49c3a1f0fb",
        "id": "8RDszJPCZvDL"
      },
      "outputs": [
        {
          "output_type": "stream",
          "name": "stdout",
          "text": [
            "Enter the String : sTRIng PrOBLEMS\n",
            "string problems\n"
          ]
        }
      ],
      "source": [
        "string = input('Enter the String : ')\n",
        "# converting the whole string into lowercase characters\n",
        "new_string = string.lower()\n",
        "print(new_string)"
      ]
    },
    {
      "cell_type": "markdown",
      "source": [
        "### 5,6. Count the number of vowels and consonants in a string."
      ],
      "metadata": {
        "id": "CuxMcrI6aCT7"
      }
    },
    {
      "cell_type": "code",
      "execution_count": null,
      "metadata": {
        "colab": {
          "base_uri": "https://localhost:8080/"
        },
        "outputId": "c65dd873-68a2-4246-b033-185543a03a3e",
        "id": "LCos9GhuaCUD"
      },
      "outputs": [
        {
          "output_type": "stream",
          "name": "stdout",
          "text": [
            "Enter the String : what is a string?\n",
            "No of Vowels : 4\n",
            "No of Consonants : 9\n"
          ]
        }
      ],
      "source": [
        "string = input('Enter the String : ')\n",
        "string = string.upper()\n",
        "vowel_count = 0\n",
        "consonant_count = 0\n",
        "for char in string:\n",
        "  # checking if the char is a vowel\n",
        "  if char in 'AEIOU':\n",
        "    vowel_count = vowel_count + 1\n",
        "  # checking if character is alphabet and it will only if char is not a vowel.\n",
        "  # hence it increments when char is consonant but not when it is a special char\n",
        "  elif char.isalpha():\n",
        "    consonant_count = consonant_count + 1\n",
        "print('No of Vowels :',vowel_count)\n",
        "print('No of Consonants :',consonant_count)"
      ]
    },
    {
      "cell_type": "markdown",
      "source": [
        "### 7. Remove all whitespaces from a string."
      ],
      "metadata": {
        "id": "_fn6Hxs5deAb"
      }
    },
    {
      "cell_type": "code",
      "execution_count": null,
      "metadata": {
        "colab": {
          "base_uri": "https://localhost:8080/"
        },
        "outputId": "b14936fa-641a-4ce7-b0f1-618e188757d5",
        "id": "ivFafr_WdeA0"
      },
      "outputs": [
        {
          "output_type": "stream",
          "name": "stdout",
          "text": [
            "Enter the String : what is a string.\n",
            "whatisastring.\n"
          ]
        }
      ],
      "source": [
        "string = input('Enter the String : ')\n",
        "# using join over splitting the string is more efficient than relpace\n",
        "# as it takes into consideration multi-line strings also\n",
        "new_string = \"\".join(string.split())\n",
        "print(new_string)"
      ]
    },
    {
      "cell_type": "markdown",
      "source": [
        "### 8. Find the length of a string without using the `len()` function."
      ],
      "metadata": {
        "id": "2RScM2UQghWE"
      }
    },
    {
      "cell_type": "code",
      "execution_count": null,
      "metadata": {
        "colab": {
          "base_uri": "https://localhost:8080/"
        },
        "outputId": "20f01593-d94d-4cf6-8c72-2385d9793da7",
        "id": "zsHZc2HKghWP"
      },
      "outputs": [
        {
          "output_type": "stream",
          "name": "stdout",
          "text": [
            "Enter the String : practice is important\n",
            "Length of the String : 21\n"
          ]
        }
      ],
      "source": [
        "string = input('Enter the String : ')\n",
        "# using for loop to find the length\n",
        "count = 0\n",
        "# iterates untill all characters of the string are accessed\n",
        "for char in string:\n",
        "    count = count + 1\n",
        "print('Length of the String :',count)"
      ]
    },
    {
      "cell_type": "markdown",
      "source": [
        "### 9. Check if a string contains a specific word."
      ],
      "metadata": {
        "id": "Zvda0-EYiCLq"
      }
    },
    {
      "cell_type": "markdown",
      "source": [
        "There can be 2 sub-cases for the above question.\n",
        "\n",
        "\n",
        "1.   If the specific word is present in the string as a whole word\n",
        "2.   If the specific word is present in the string not necessarily as a whole word. It can also be a part of any word in the string.\n",
        "\n"
      ],
      "metadata": {
        "id": "p0LV9S3CoRm8"
      }
    },
    {
      "cell_type": "code",
      "execution_count": null,
      "metadata": {
        "colab": {
          "base_uri": "https://localhost:8080/"
        },
        "outputId": "3b617600-cee2-4e25-ac66-844293ca1432",
        "id": "A0h3aJk0iCLz"
      },
      "outputs": [
        {
          "output_type": "stream",
          "name": "stdout",
          "text": [
            "Enter the String : water is a necessity\n",
            "Enter the Word to be searched : water\n",
            "water is present in water is a necessity\n"
          ]
        }
      ],
      "source": [
        "string = input('Enter the String : ')\n",
        "word = input('Enter the Word to be searched : ')\n",
        "# using 'in' keyword to find if word is there in the string\n",
        "# 'split' is used just check if the whole word is present\n",
        "# 'ate' is not present in 'water is a necessity' but if we just use 'in' is will return True because ate is a substring in water but ate is not a specific word in the string\n",
        "if word in string.split():\n",
        "  print(word,'is present in',string)\n",
        "else:\n",
        "  print(word,'is not present in',string)"
      ]
    },
    {
      "cell_type": "code",
      "execution_count": null,
      "metadata": {
        "colab": {
          "base_uri": "https://localhost:8080/"
        },
        "outputId": "636c195d-d6bc-49eb-9b8d-61d95b04c09b",
        "id": "j-oEaVohn2K5"
      },
      "outputs": [
        {
          "output_type": "stream",
          "name": "stdout",
          "text": [
            "Enter the String : water is a necessity\n",
            "Enter the Word to be searched : ate\n",
            "ate is present in water is a necessity\n"
          ]
        }
      ],
      "source": [
        "string = input('Enter the String : ')\n",
        "word = input('Enter the Word to be searched : ')\n",
        "# using 'in' keyword to find if word is there in the string as a whole word or a part of a sub-word\n",
        "if word in string:\n",
        "  print(word,'is present in',string)\n",
        "else:\n",
        "  print(word,'is not present in',string)"
      ]
    },
    {
      "cell_type": "markdown",
      "source": [
        "### 10. Replace a word in a string with another word."
      ],
      "metadata": {
        "id": "wS7SpAxjRxHD"
      }
    },
    {
      "cell_type": "code",
      "execution_count": 12,
      "metadata": {
        "id": "qEC4gEZeRxHE"
      },
      "outputs": [],
      "source": [
        "def replaceWord(string,word,new_word):\n",
        "  '''replaces all occurences of a specific word present in a string with another word\n",
        "\n",
        "  Parameters\n",
        "  string: main string to check if word is present\n",
        "  word: the word to be swapped from the string\n",
        "  new_word: the word taking place of the older word\n",
        "\n",
        "  Returns\n",
        "  the new string if the word is present, else prompts that string is not present\n",
        "  '''\n",
        "  # checking if word is present in the string\n",
        "  if word in string:\n",
        "      new_string = ''.join(string.replace(word,new_word))\n",
        "  else:\n",
        "    return f'{word} is not present in the string'\n",
        "  return new_string"
      ]
    },
    {
      "cell_type": "code",
      "source": [
        "replaceWord('air water air air','air','land')"
      ],
      "metadata": {
        "colab": {
          "base_uri": "https://localhost:8080/",
          "height": 35
        },
        "id": "hwdcT2p-ZD46",
        "outputId": "ea380747-09c5-49d2-9d9c-203f47b6e98c"
      },
      "execution_count": 13,
      "outputs": [
        {
          "output_type": "execute_result",
          "data": {
            "text/plain": [
              "'land water land land'"
            ],
            "application/vnd.google.colaboratory.intrinsic+json": {
              "type": "string"
            }
          },
          "metadata": {},
          "execution_count": 13
        }
      ]
    },
    {
      "cell_type": "code",
      "source": [
        "replaceWord('air water air air','land','air')"
      ],
      "metadata": {
        "colab": {
          "base_uri": "https://localhost:8080/",
          "height": 35
        },
        "id": "o7EFXXFjbT-8",
        "outputId": "723d79f4-1a8b-48a9-90b2-912476989f82"
      },
      "execution_count": 14,
      "outputs": [
        {
          "output_type": "execute_result",
          "data": {
            "text/plain": [
              "'land is not present in the string'"
            ],
            "application/vnd.google.colaboratory.intrinsic+json": {
              "type": "string"
            }
          },
          "metadata": {},
          "execution_count": 14
        }
      ]
    },
    {
      "cell_type": "markdown",
      "source": [
        "### 11. Count the occurrences of a word in a string."
      ],
      "metadata": {
        "id": "GAEK-WEQiMMW"
      }
    },
    {
      "cell_type": "code",
      "execution_count": null,
      "metadata": {
        "id": "XeLIR2vUiMMd"
      },
      "outputs": [],
      "source": [
        "def countWordOccurences(string,word):\n",
        "  '''find the no of occurences of a specific word in the given string\n",
        "\n",
        "  Parameters\n",
        "  string: main string\n",
        "  word: find the no of occurences in the string\n",
        "\n",
        "  Returns int\n",
        "  count: no of occurences of the word\n",
        "  '''\n",
        "  # checking if word is present in the string\n",
        "  words = string.split()\n",
        "  count = 0\n",
        "  for w in words:\n",
        "    if word == w:\n",
        "      count += 1\n",
        "  return count"
      ]
    },
    {
      "cell_type": "code",
      "source": [
        "replaceWord('air water air air','air','land')"
      ],
      "metadata": {
        "colab": {
          "base_uri": "https://localhost:8080/",
          "height": 35
        },
        "outputId": "ea380747-09c5-49d2-9d9c-203f47b6e98c",
        "id": "7qqjEgHKiMMd"
      },
      "execution_count": null,
      "outputs": [
        {
          "output_type": "execute_result",
          "data": {
            "text/plain": [
              "'land water land land'"
            ],
            "application/vnd.google.colaboratory.intrinsic+json": {
              "type": "string"
            }
          },
          "metadata": {},
          "execution_count": 13
        }
      ]
    },
    {
      "cell_type": "code",
      "source": [
        "replaceWord('air water air air','land','air')"
      ],
      "metadata": {
        "colab": {
          "base_uri": "https://localhost:8080/",
          "height": 35
        },
        "outputId": "723d79f4-1a8b-48a9-90b2-912476989f82",
        "id": "F6loG0_kiMMd"
      },
      "execution_count": null,
      "outputs": [
        {
          "output_type": "execute_result",
          "data": {
            "text/plain": [
              "'land is not present in the string'"
            ],
            "application/vnd.google.colaboratory.intrinsic+json": {
              "type": "string"
            }
          },
          "metadata": {},
          "execution_count": 14
        }
      ]
    }
  ]
}