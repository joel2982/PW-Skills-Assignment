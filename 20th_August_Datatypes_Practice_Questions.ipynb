{
  "nbformat": 4,
  "nbformat_minor": 0,
  "metadata": {
    "colab": {
      "provenance": [],
      "collapsed_sections": [
        "6xDCRmKBZGhC",
        "PMKbVjheZG8G",
        "ig4Lhn2zSemW",
        "cp-9Zh1NkCC0",
        "1Qyt9PEflHCG",
        "arFIu2sGlHWh",
        "xgBZtlFflHgi",
        "_esudfOglJmA",
        "DJerGeFolKUO",
        "nuefA6QNkCRk",
        "ruTrT6lzkCWK",
        "MQePlrM4lwoT",
        "yS4ldfowkCaY",
        "ccn-NfMjkCd_",
        "FqgVdT7RkCiK",
        "SJeyf5YvkCmj",
        "39pFAwVVkCpw",
        "hlKlY2GGkCs0"
      ],
      "authorship_tag": "ABX9TyNsOxYub2QCjkUygyUICBme",
      "include_colab_link": true
    },
    "kernelspec": {
      "name": "python3",
      "display_name": "Python 3"
    },
    "language_info": {
      "name": "python"
    }
  },
  "cells": [
    {
      "cell_type": "markdown",
      "metadata": {
        "id": "view-in-github",
        "colab_type": "text"
      },
      "source": [
        "<a href=\"https://colab.research.google.com/github/joel2982/PW-Skills-Assignment/blob/master/20th_August_Datatypes_Practice_Questions.ipynb\" target=\"_parent\"><img src=\"https://colab.research.google.com/assets/colab-badge.svg\" alt=\"Open In Colab\"/></a>"
      ]
    },
    {
      "cell_type": "markdown",
      "source": [
        "# String Based Assignment Problem"
      ],
      "metadata": {
        "id": "RJOgKBdyW-wK"
      }
    },
    {
      "cell_type": "markdown",
      "source": [
        "### 1. Write a program to reverse a string."
      ],
      "metadata": {
        "id": "fIe2CcidXTkS"
      }
    },
    {
      "cell_type": "code",
      "execution_count": null,
      "metadata": {
        "colab": {
          "base_uri": "https://localhost:8080/"
        },
        "id": "vR1RFwwLWJn6",
        "outputId": "a82dcfd6-61e1-4d96-929a-49254d67a9a8"
      },
      "outputs": [
        {
          "output_type": "stream",
          "name": "stdout",
          "text": [
            "Enter the String : Python\n",
            "Reversed String : nohtyP\n"
          ]
        }
      ],
      "source": [
        "string = input('Enter the String : ')\n",
        "reversed = string[::-1]\n",
        "print('Reversed String :',reversed)"
      ]
    },
    {
      "cell_type": "markdown",
      "source": [
        "### 2. Check if a string is a palindrome."
      ],
      "metadata": {
        "id": "Ob7iTE_KYFfV"
      }
    },
    {
      "cell_type": "code",
      "execution_count": null,
      "metadata": {
        "colab": {
          "base_uri": "https://localhost:8080/"
        },
        "outputId": "986391e9-41fa-4c0b-dea7-10f1a4589eae",
        "id": "81JPbZZsYFfd"
      },
      "outputs": [
        {
          "output_type": "stream",
          "name": "stdout",
          "text": [
            "Enter the String : malayalam\n",
            "malayalam is a palindrome string\n"
          ]
        }
      ],
      "source": [
        "string = input('Enter the String : ')\n",
        "# converting the whole string into uppercase characters\n",
        "temp = string.upper()\n",
        "# reversing the string\n",
        "reversed = temp[::-1]\n",
        "if reversed == temp:\n",
        "  print(string,'is a palindrome string')\n",
        "else:\n",
        "  print(string,'is not a palindrome string')"
      ]
    },
    {
      "cell_type": "markdown",
      "source": [
        "### 3. Convert a string to uppercase."
      ],
      "metadata": {
        "id": "vaLhMsVnZDvX"
      }
    },
    {
      "cell_type": "code",
      "execution_count": null,
      "metadata": {
        "colab": {
          "base_uri": "https://localhost:8080/"
        },
        "outputId": "5b5e4e23-9d1a-4d41-c215-b75078c72bfd",
        "id": "mnS5ER3PZDvj"
      },
      "outputs": [
        {
          "output_type": "stream",
          "name": "stdout",
          "text": [
            "Enter the String : assignment\n",
            "ASSIGNMENT\n"
          ]
        }
      ],
      "source": [
        "string = input('Enter the String : ')\n",
        "# converting the whole string into uppercase characters\n",
        "new_string = string.upper()\n",
        "print(new_string)"
      ]
    },
    {
      "cell_type": "markdown",
      "source": [
        "### 4. Convert a string to lowercase."
      ],
      "metadata": {
        "id": "rnnWWWxGZvDA"
      }
    },
    {
      "cell_type": "code",
      "execution_count": null,
      "metadata": {
        "colab": {
          "base_uri": "https://localhost:8080/"
        },
        "outputId": "c08be2dd-5894-41fa-d1e1-6f49c3a1f0fb",
        "id": "8RDszJPCZvDL"
      },
      "outputs": [
        {
          "output_type": "stream",
          "name": "stdout",
          "text": [
            "Enter the String : sTRIng PrOBLEMS\n",
            "string problems\n"
          ]
        }
      ],
      "source": [
        "string = input('Enter the String : ')\n",
        "# converting the whole string into lowercase characters\n",
        "new_string = string.lower()\n",
        "print(new_string)"
      ]
    },
    {
      "cell_type": "markdown",
      "source": [
        "### 5,6. Count the number of vowels and consonants in a string."
      ],
      "metadata": {
        "id": "CuxMcrI6aCT7"
      }
    },
    {
      "cell_type": "code",
      "execution_count": null,
      "metadata": {
        "colab": {
          "base_uri": "https://localhost:8080/"
        },
        "outputId": "c65dd873-68a2-4246-b033-185543a03a3e",
        "id": "LCos9GhuaCUD"
      },
      "outputs": [
        {
          "output_type": "stream",
          "name": "stdout",
          "text": [
            "Enter the String : what is a string?\n",
            "No of Vowels : 4\n",
            "No of Consonants : 9\n"
          ]
        }
      ],
      "source": [
        "string = input('Enter the String : ')\n",
        "string = string.upper()\n",
        "vowel_count = 0\n",
        "consonant_count = 0\n",
        "for char in string:\n",
        "  # checking if the char is a vowel\n",
        "  if char in 'AEIOU':\n",
        "    vowel_count = vowel_count + 1\n",
        "  # checking if character is alphabet and it will only if char is not a vowel.\n",
        "  # hence it increments when char is consonant but not when it is a special char\n",
        "  elif char.isalpha():\n",
        "    consonant_count = consonant_count + 1\n",
        "print('No of Vowels :',vowel_count)\n",
        "print('No of Consonants :',consonant_count)"
      ]
    },
    {
      "cell_type": "markdown",
      "source": [
        "### 7. Remove all whitespaces from a string."
      ],
      "metadata": {
        "id": "_fn6Hxs5deAb"
      }
    },
    {
      "cell_type": "code",
      "execution_count": null,
      "metadata": {
        "colab": {
          "base_uri": "https://localhost:8080/"
        },
        "outputId": "b14936fa-641a-4ce7-b0f1-618e188757d5",
        "id": "ivFafr_WdeA0"
      },
      "outputs": [
        {
          "output_type": "stream",
          "name": "stdout",
          "text": [
            "Enter the String : what is a string.\n",
            "whatisastring.\n"
          ]
        }
      ],
      "source": [
        "string = input('Enter the String : ')\n",
        "# using join over splitting the string is more efficient than relpace\n",
        "# as it takes into consideration multi-line strings also\n",
        "new_string = \"\".join(string.split())\n",
        "print(new_string)"
      ]
    },
    {
      "cell_type": "markdown",
      "source": [
        "### 8. Find the length of a string without using the `len()` function."
      ],
      "metadata": {
        "id": "2RScM2UQghWE"
      }
    },
    {
      "cell_type": "code",
      "execution_count": null,
      "metadata": {
        "colab": {
          "base_uri": "https://localhost:8080/"
        },
        "outputId": "20f01593-d94d-4cf6-8c72-2385d9793da7",
        "id": "zsHZc2HKghWP"
      },
      "outputs": [
        {
          "output_type": "stream",
          "name": "stdout",
          "text": [
            "Enter the String : practice is important\n",
            "Length of the String : 21\n"
          ]
        }
      ],
      "source": [
        "string = input('Enter the String : ')\n",
        "# using for loop to find the length\n",
        "count = 0\n",
        "# iterates untill all characters of the string are accessed\n",
        "for char in string:\n",
        "    count = count + 1\n",
        "print('Length of the String :',count)"
      ]
    },
    {
      "cell_type": "markdown",
      "source": [
        "### 9. Check if a string contains a specific word."
      ],
      "metadata": {
        "id": "Zvda0-EYiCLq"
      }
    },
    {
      "cell_type": "markdown",
      "source": [
        "There can be 2 sub-cases for the above question.\n",
        "\n",
        "\n",
        "1.   If the specific word is present in the string as a whole word\n",
        "2.   If the specific word is present in the string not necessarily as a whole word. It can also be a part of any word in the string.\n",
        "\n"
      ],
      "metadata": {
        "id": "p0LV9S3CoRm8"
      }
    },
    {
      "cell_type": "code",
      "execution_count": null,
      "metadata": {
        "colab": {
          "base_uri": "https://localhost:8080/"
        },
        "outputId": "3b617600-cee2-4e25-ac66-844293ca1432",
        "id": "A0h3aJk0iCLz"
      },
      "outputs": [
        {
          "output_type": "stream",
          "name": "stdout",
          "text": [
            "Enter the String : water is a necessity\n",
            "Enter the Word to be searched : water\n",
            "water is present in water is a necessity\n"
          ]
        }
      ],
      "source": [
        "string = input('Enter the String : ')\n",
        "word = input('Enter the Word to be searched : ')\n",
        "# using 'in' keyword to find if word is there in the string\n",
        "# 'split' is used just check if the whole word is present\n",
        "# 'ate' is not present in 'water is a necessity' but if we just use 'in' is will return True because ate is a substring in water but ate is not a specific word in the string\n",
        "if word in string.split():\n",
        "  print(word,'is present in',string)\n",
        "else:\n",
        "  print(word,'is not present in',string)"
      ]
    },
    {
      "cell_type": "code",
      "execution_count": null,
      "metadata": {
        "colab": {
          "base_uri": "https://localhost:8080/"
        },
        "outputId": "636c195d-d6bc-49eb-9b8d-61d95b04c09b",
        "id": "j-oEaVohn2K5"
      },
      "outputs": [
        {
          "output_type": "stream",
          "name": "stdout",
          "text": [
            "Enter the String : water is a necessity\n",
            "Enter the Word to be searched : ate\n",
            "ate is present in water is a necessity\n"
          ]
        }
      ],
      "source": [
        "string = input('Enter the String : ')\n",
        "word = input('Enter the Word to be searched : ')\n",
        "# using 'in' keyword to find if word is there in the string as a whole word or a part of a sub-word\n",
        "if word in string:\n",
        "  print(word,'is present in',string)\n",
        "else:\n",
        "  print(word,'is not present in',string)"
      ]
    },
    {
      "cell_type": "markdown",
      "source": [
        "### 10. Replace a word in a string with another word."
      ],
      "metadata": {
        "id": "wS7SpAxjRxHD"
      }
    },
    {
      "cell_type": "code",
      "execution_count": null,
      "metadata": {
        "id": "qEC4gEZeRxHE"
      },
      "outputs": [],
      "source": [
        "def replaceWord(string,word,new_word):\n",
        "  '''replaces all occurences of a specific word present in a string with another word\n",
        "\n",
        "  Parameters\n",
        "  string: main string to check if word is present\n",
        "  word: the word to be swapped from the string\n",
        "  new_word: the word taking place of the older word\n",
        "\n",
        "  Returns\n",
        "  the new string if the word is present, else prompts that string is not present\n",
        "  '''\n",
        "  # checking if word is present in the string\n",
        "  if word in string:\n",
        "      new_string = ''.join(string.replace(word,new_word))\n",
        "  else:\n",
        "    return f'{word} is not present in the string'\n",
        "  return new_string"
      ]
    },
    {
      "cell_type": "code",
      "source": [
        "replaceWord('air water air air','air','land')"
      ],
      "metadata": {
        "colab": {
          "base_uri": "https://localhost:8080/",
          "height": 35
        },
        "id": "hwdcT2p-ZD46",
        "outputId": "ea380747-09c5-49d2-9d9c-203f47b6e98c"
      },
      "execution_count": null,
      "outputs": [
        {
          "output_type": "execute_result",
          "data": {
            "text/plain": [
              "'land water land land'"
            ],
            "application/vnd.google.colaboratory.intrinsic+json": {
              "type": "string"
            }
          },
          "metadata": {},
          "execution_count": 13
        }
      ]
    },
    {
      "cell_type": "code",
      "source": [
        "replaceWord('air water air air','land','air')"
      ],
      "metadata": {
        "colab": {
          "base_uri": "https://localhost:8080/",
          "height": 35
        },
        "id": "o7EFXXFjbT-8",
        "outputId": "723d79f4-1a8b-48a9-90b2-912476989f82"
      },
      "execution_count": null,
      "outputs": [
        {
          "output_type": "execute_result",
          "data": {
            "text/plain": [
              "'land is not present in the string'"
            ],
            "application/vnd.google.colaboratory.intrinsic+json": {
              "type": "string"
            }
          },
          "metadata": {},
          "execution_count": 14
        }
      ]
    },
    {
      "cell_type": "markdown",
      "source": [
        "### 11. Count the occurrences of a word in a string."
      ],
      "metadata": {
        "id": "GAEK-WEQiMMW"
      }
    },
    {
      "cell_type": "code",
      "execution_count": null,
      "metadata": {
        "id": "XeLIR2vUiMMd"
      },
      "outputs": [],
      "source": [
        "def countWordOccurences(string,word):\n",
        "  '''find the no of occurences of a specific word in the given string\n",
        "\n",
        "  Parameters\n",
        "  string: main string\n",
        "  word: find the no of occurences in the string\n",
        "\n",
        "  Returns int\n",
        "  count: no of occurences of the word\n",
        "  '''\n",
        "  # checking if word is present in the string\n",
        "  words = string.split()\n",
        "  count = 0\n",
        "  for w in words:\n",
        "    if word == w:\n",
        "      count += 1\n",
        "  return count"
      ]
    },
    {
      "cell_type": "code",
      "source": [
        "countWordOccurences('air water air air','air')"
      ],
      "metadata": {
        "colab": {
          "base_uri": "https://localhost:8080/"
        },
        "outputId": "7af948fb-4e8f-4abc-b0af-61f5702167d8",
        "id": "7qqjEgHKiMMd"
      },
      "execution_count": null,
      "outputs": [
        {
          "output_type": "execute_result",
          "data": {
            "text/plain": [
              "3"
            ]
          },
          "metadata": {},
          "execution_count": 16
        }
      ]
    },
    {
      "cell_type": "code",
      "source": [
        "countWordOccurences('air water air air','land')"
      ],
      "metadata": {
        "colab": {
          "base_uri": "https://localhost:8080/"
        },
        "outputId": "356edbaf-71ed-406c-bea2-43e9529459e4",
        "id": "F6loG0_kiMMd"
      },
      "execution_count": null,
      "outputs": [
        {
          "output_type": "execute_result",
          "data": {
            "text/plain": [
              "0"
            ]
          },
          "metadata": {},
          "execution_count": 17
        }
      ]
    },
    {
      "cell_type": "markdown",
      "source": [
        "### 12. Find the first occurrence of a word in a string."
      ],
      "metadata": {
        "id": "ogEvuF5F7MQ0"
      }
    },
    {
      "cell_type": "code",
      "execution_count": null,
      "metadata": {
        "id": "cNMDsN-V7MQ7"
      },
      "outputs": [],
      "source": [
        "def firstWordOccurence(string,word):\n",
        "  '''find the first occurence of a specific word in the given string\n",
        "\n",
        "  Parameters\n",
        "  string: main string\n",
        "  word: substring\n",
        "\n",
        "  Returns int\n",
        "  index: index of the word\n",
        "  '''\n",
        "  # checking if word is present in the string\n",
        "  words = string.split()\n",
        "  index = -1\n",
        "  for i in range(len(words)):\n",
        "    if word == words[i]:\n",
        "      index = i\n",
        "      break\n",
        "  return index"
      ]
    },
    {
      "cell_type": "code",
      "source": [
        "firstWordOccurence('land water air','air')"
      ],
      "metadata": {
        "colab": {
          "base_uri": "https://localhost:8080/"
        },
        "outputId": "f7885986-82f8-432e-a2a6-c831344bf460",
        "id": "WejAsChY7MQ7"
      },
      "execution_count": null,
      "outputs": [
        {
          "output_type": "execute_result",
          "data": {
            "text/plain": [
              "2"
            ]
          },
          "metadata": {},
          "execution_count": 16
        }
      ]
    },
    {
      "cell_type": "code",
      "source": [
        "firstWordOccurence('air water air air','land')"
      ],
      "metadata": {
        "colab": {
          "base_uri": "https://localhost:8080/"
        },
        "outputId": "c15b6f4a-4e0c-4531-d7df-2d3f3191ae6b",
        "id": "BDHWfB287MQ8"
      },
      "execution_count": null,
      "outputs": [
        {
          "output_type": "execute_result",
          "data": {
            "text/plain": [
              "-1"
            ]
          },
          "metadata": {},
          "execution_count": 17
        }
      ]
    },
    {
      "cell_type": "markdown",
      "source": [
        "### 13. Find the last occurrence of a word in a string."
      ],
      "metadata": {
        "id": "k0_kBt-a-Nhn"
      }
    },
    {
      "cell_type": "code",
      "execution_count": null,
      "metadata": {
        "id": "WUdrCVrb-Nhu"
      },
      "outputs": [],
      "source": [
        "def lastWordOccurence(string,word):\n",
        "  '''find the last occurence of a specific word in the given string\n",
        "\n",
        "  Parameters\n",
        "  string: main string\n",
        "  word: substring\n",
        "\n",
        "  Returns int\n",
        "  index: index of the word\n",
        "  '''\n",
        "  # checking if word is present in the string\n",
        "  words = string.split()\n",
        "  index = -1\n",
        "  for i in range(len(words)):\n",
        "    if word == words[i]:\n",
        "      index = i\n",
        "  return index"
      ]
    },
    {
      "cell_type": "code",
      "source": [
        "lastWordOccurence('land water air air, air','air')"
      ],
      "metadata": {
        "colab": {
          "base_uri": "https://localhost:8080/"
        },
        "outputId": "08f5891f-da77-4525-b095-4ea6cd31c75e",
        "id": "KCdteeSw-Nhu"
      },
      "execution_count": null,
      "outputs": [
        {
          "output_type": "execute_result",
          "data": {
            "text/plain": [
              "4"
            ]
          },
          "metadata": {},
          "execution_count": 22
        }
      ]
    },
    {
      "cell_type": "code",
      "source": [
        "lastWordOccurence('air water air air','land')"
      ],
      "metadata": {
        "colab": {
          "base_uri": "https://localhost:8080/"
        },
        "outputId": "90e1c7c7-8d4c-45d3-de34-4fa661d42289",
        "id": "iTqxUUIJ-Nhu"
      },
      "execution_count": null,
      "outputs": [
        {
          "output_type": "execute_result",
          "data": {
            "text/plain": [
              "-1"
            ]
          },
          "metadata": {},
          "execution_count": 23
        }
      ]
    },
    {
      "cell_type": "markdown",
      "source": [
        "### 14. Split a string into a list of words."
      ],
      "metadata": {
        "id": "HVn1_FmY-OxD"
      }
    },
    {
      "cell_type": "code",
      "execution_count": null,
      "metadata": {
        "id": "T55_XL0k-OxE"
      },
      "outputs": [],
      "source": [
        "def splitString(string):\n",
        "  '''split a string into a list of words\n",
        "\n",
        "  Parameters\n",
        "  string: main string\n",
        "\n",
        "  Returns list\n",
        "  words: list of words\n",
        "  '''\n",
        "  # checking if word is present in the string\n",
        "  words = string.split()\n",
        "  return words"
      ]
    },
    {
      "cell_type": "code",
      "source": [
        "splitString('land water air')"
      ],
      "metadata": {
        "colab": {
          "base_uri": "https://localhost:8080/"
        },
        "outputId": "06f8f30f-71e5-4b6d-9126-a154a8f36409",
        "id": "6IkkwFiI-OxE"
      },
      "execution_count": null,
      "outputs": [
        {
          "output_type": "execute_result",
          "data": {
            "text/plain": [
              "['land', 'water', 'air']"
            ]
          },
          "metadata": {},
          "execution_count": 28
        }
      ]
    },
    {
      "cell_type": "code",
      "source": [
        "splitString('air water air air   land')"
      ],
      "metadata": {
        "colab": {
          "base_uri": "https://localhost:8080/"
        },
        "outputId": "7c96486d-1f79-483c-bd93-e0ae109fc3ec",
        "id": "zFLPNXOL-OxE"
      },
      "execution_count": null,
      "outputs": [
        {
          "output_type": "execute_result",
          "data": {
            "text/plain": [
              "['air', 'water', 'air', 'air', 'land']"
            ]
          },
          "metadata": {},
          "execution_count": 30
        }
      ]
    },
    {
      "cell_type": "markdown",
      "source": [
        "### 15. Join a list of words into a string."
      ],
      "metadata": {
        "id": "gqZe-aQ1-O7i"
      }
    },
    {
      "cell_type": "code",
      "execution_count": null,
      "metadata": {
        "id": "Hgkv0bJe-O7i"
      },
      "outputs": [],
      "source": [
        "def joinWords(words):\n",
        "  '''combine a list of words into a string\n",
        "\n",
        "  Parameters\n",
        "  words: a list of substrings\n",
        "\n",
        "  Returns string\n",
        "  string: one string\n",
        "  '''\n",
        "  # checking if word is present in the string\n",
        "  string = ' '.join(words)\n",
        "  return string"
      ]
    },
    {
      "cell_type": "code",
      "source": [
        "joinWords(['land', 'water', 'air'])"
      ],
      "metadata": {
        "colab": {
          "base_uri": "https://localhost:8080/",
          "height": 35
        },
        "outputId": "d2ee3b04-9cd4-41a5-f12f-98e750a397b1",
        "id": "hq4NBu7t-O7j"
      },
      "execution_count": null,
      "outputs": [
        {
          "output_type": "execute_result",
          "data": {
            "text/plain": [
              "'land water air'"
            ],
            "application/vnd.google.colaboratory.intrinsic+json": {
              "type": "string"
            }
          },
          "metadata": {},
          "execution_count": 32
        }
      ]
    },
    {
      "cell_type": "markdown",
      "source": [
        "### 16. Convert a string where words are separated by spaces to one where words are separated by underscores."
      ],
      "metadata": {
        "id": "_9jgf4ypCq3b"
      }
    },
    {
      "cell_type": "code",
      "execution_count": null,
      "metadata": {
        "id": "vMxzQSn_Cq3i"
      },
      "outputs": [],
      "source": [
        "def spacesToUnderscores(string):\n",
        "  '''converting spaces to underscores\n",
        "\n",
        "  Parameters\n",
        "  string: main string\n",
        "\n",
        "  Returns string\n",
        "  string: replaced spaces with underscores\n",
        "  '''\n",
        "  # checking if word is present in the string\n",
        "  new_string = '_'.join(string.split())\n",
        "  return new_string"
      ]
    },
    {
      "cell_type": "code",
      "source": [
        "spacesToUnderscores('land water air')"
      ],
      "metadata": {
        "colab": {
          "base_uri": "https://localhost:8080/",
          "height": 35
        },
        "outputId": "65a4ed41-e638-46f9-f0a7-8260e9f8c6a0",
        "id": "0YMhbhYxCq3j"
      },
      "execution_count": null,
      "outputs": [
        {
          "output_type": "execute_result",
          "data": {
            "text/plain": [
              "'land_water_air'"
            ],
            "application/vnd.google.colaboratory.intrinsic+json": {
              "type": "string"
            }
          },
          "metadata": {},
          "execution_count": 36
        }
      ]
    },
    {
      "cell_type": "markdown",
      "source": [
        "### 17. Check if a string starts with a specific word or phrase."
      ],
      "metadata": {
        "id": "7rlGysUbCrBS"
      }
    },
    {
      "cell_type": "code",
      "execution_count": null,
      "metadata": {
        "id": "s5-peby7CrBS"
      },
      "outputs": [],
      "source": [
        "def checkStartSubstring(string,substring):\n",
        "  '''checking if string starts with a substring\n",
        "\n",
        "  Parameters\n",
        "  string: main\n",
        "  substring: smaller string\n",
        "\n",
        "  Returns\n",
        "  bool value\n",
        "  '''\n",
        "  # checking if word is present in the string\n",
        "  l = len(substring)\n",
        "  if string[:l] != substring:\n",
        "    return False\n",
        "  return True"
      ]
    },
    {
      "cell_type": "code",
      "source": [
        "checkStartSubstring('I love programming','I love pro')"
      ],
      "metadata": {
        "colab": {
          "base_uri": "https://localhost:8080/"
        },
        "outputId": "a345585c-9ac8-48b2-ff6a-fb0174ad6d65",
        "id": "dYwT9qfMCrBT"
      },
      "execution_count": null,
      "outputs": [
        {
          "output_type": "execute_result",
          "data": {
            "text/plain": [
              "True"
            ]
          },
          "metadata": {},
          "execution_count": 20
        }
      ]
    },
    {
      "cell_type": "code",
      "source": [
        "checkStartSubstring('I love programming','I love coding')"
      ],
      "metadata": {
        "colab": {
          "base_uri": "https://localhost:8080/"
        },
        "outputId": "b6bc5402-60e7-4dd1-9c24-c1e1c81c7c1f",
        "id": "z44YUAlVArBM"
      },
      "execution_count": null,
      "outputs": [
        {
          "output_type": "execute_result",
          "data": {
            "text/plain": [
              "False"
            ]
          },
          "metadata": {},
          "execution_count": 18
        }
      ]
    },
    {
      "cell_type": "markdown",
      "source": [
        "### 18. Check if a string ends with a specific word or phrase."
      ],
      "metadata": {
        "id": "2WsKr3BiCrOj"
      }
    },
    {
      "cell_type": "code",
      "execution_count": null,
      "metadata": {
        "id": "6y_JX4U_CrOj"
      },
      "outputs": [],
      "source": [
        "def checkEndSubstring(string,substring):\n",
        "  '''check if a string ends with a specific substrinf\n",
        "\n",
        "  Parameters\n",
        "  string: main\n",
        "  substring: smaller string\n",
        "\n",
        "  Returns\n",
        "  bool value\n",
        "  '''\n",
        "  # checking if word is present in the string\n",
        "  l = len(substring)\n",
        "  if string[-l::] == substring:\n",
        "    return True\n",
        "  else:\n",
        "    return False"
      ]
    },
    {
      "cell_type": "code",
      "source": [
        "checkEndSubstring('sometimes, I like programming','I like programming')"
      ],
      "metadata": {
        "colab": {
          "base_uri": "https://localhost:8080/"
        },
        "outputId": "611796c3-1cf6-42b0-afaf-2a6b58477a8d",
        "id": "TE-vTYevCrOj"
      },
      "execution_count": null,
      "outputs": [
        {
          "output_type": "execute_result",
          "data": {
            "text/plain": [
              "True"
            ]
          },
          "metadata": {},
          "execution_count": 15
        }
      ]
    },
    {
      "cell_type": "code",
      "source": [
        "checkEndSubstring('sometimes, I like programming','I like coding')"
      ],
      "metadata": {
        "colab": {
          "base_uri": "https://localhost:8080/"
        },
        "outputId": "46a091cc-8327-44d3-f2ca-014c8c18e1ac",
        "id": "iX8XIvfeD15m"
      },
      "execution_count": null,
      "outputs": [
        {
          "output_type": "execute_result",
          "data": {
            "text/plain": [
              "False"
            ]
          },
          "metadata": {},
          "execution_count": 21
        }
      ]
    },
    {
      "cell_type": "markdown",
      "source": [
        "### 19. Convert a string to title case (e.g., \"hello world\" to \"Hello World\")."
      ],
      "metadata": {
        "id": "-qi5_phdCrZb"
      }
    },
    {
      "cell_type": "code",
      "execution_count": null,
      "metadata": {
        "id": "w1VseXEZCrZc"
      },
      "outputs": [],
      "source": [
        "def titleCase(string):\n",
        "  '''Convert a string to title case.\n",
        "\n",
        "  Parameters\n",
        "  string\n",
        "\n",
        "  Returns\n",
        "  string: changed into title case\n",
        "  '''\n",
        "  # using .title func to return titlecase string\n",
        "  return string.title()"
      ]
    },
    {
      "cell_type": "code",
      "source": [
        "titleCase('sometimes, i love programming.')"
      ],
      "metadata": {
        "colab": {
          "base_uri": "https://localhost:8080/"
        },
        "outputId": "2f6f14d7-f1da-43e6-c637-cb990946f845",
        "id": "SOmMySNkCrZc"
      },
      "execution_count": null,
      "outputs": [
        {
          "output_type": "execute_result",
          "data": {
            "text/plain": [
              "'Sometimes, I Love Programming.'"
            ],
            "application/vnd.google.colaboratory.intrinsic+json": {
              "type": "string"
            }
          },
          "metadata": {},
          "execution_count": 26
        }
      ]
    },
    {
      "cell_type": "markdown",
      "source": [
        "### 20. Find the longest word in a string."
      ],
      "metadata": {
        "id": "enurizyDFBHZ"
      }
    },
    {
      "cell_type": "code",
      "execution_count": null,
      "metadata": {
        "id": "4-P0KEciFBHg"
      },
      "outputs": [],
      "source": [
        "def longestWord(string):\n",
        "  '''find the longest word in the string.\n",
        "\n",
        "  Parameters\n",
        "  string\n",
        "\n",
        "  Returns string\n",
        "  word: longest word\n",
        "  '''\n",
        "  words = string.split()\n",
        "  max = 0\n",
        "  long_word = ''\n",
        "  for word in words:\n",
        "    word = word.replace(',','').replace('.','').replace('\"','').replace(\"'\",'')\n",
        "    if len(word) >= max:\n",
        "      long_word = word\n",
        "      max = len(word)\n",
        "  return long_word"
      ]
    },
    {
      "cell_type": "code",
      "source": [
        "longestWord('sometimes, i love programming.')"
      ],
      "metadata": {
        "colab": {
          "base_uri": "https://localhost:8080/",
          "height": 36
        },
        "outputId": "3cb9da8d-12b0-492a-c349-8d20159d3f38",
        "id": "_Cbz3PX1FBHg"
      },
      "execution_count": null,
      "outputs": [
        {
          "output_type": "execute_result",
          "data": {
            "text/plain": [
              "'programming'"
            ],
            "application/vnd.google.colaboratory.intrinsic+json": {
              "type": "string"
            }
          },
          "metadata": {},
          "execution_count": 48
        }
      ]
    },
    {
      "cell_type": "markdown",
      "source": [
        "### 21. Find the shortest word in a string."
      ],
      "metadata": {
        "id": "ufAveZOPFK6b"
      }
    },
    {
      "cell_type": "code",
      "execution_count": null,
      "metadata": {
        "id": "f8WBjrHEFK6m"
      },
      "outputs": [],
      "source": [
        "def shortWord(string):\n",
        "  '''find the shortest word in the string.\n",
        "\n",
        "  Parameters\n",
        "  string\n",
        "\n",
        "  Returns string\n",
        "  word: longest word\n",
        "  '''\n",
        "  words = string.split()\n",
        "  min = 1000\n",
        "  short_word = ''\n",
        "  for word in words:\n",
        "    word = word.replace(',','').replace('.','').replace('\"','').replace(\"'\",'')\n",
        "    if len(word) < min:\n",
        "      short_word = word\n",
        "      min = len(word)\n",
        "  return short_word"
      ]
    },
    {
      "cell_type": "code",
      "source": [
        "shortWord('sometimes, i love programming.')"
      ],
      "metadata": {
        "colab": {
          "base_uri": "https://localhost:8080/",
          "height": 36
        },
        "outputId": "7db23aaf-a99d-4a02-d11c-c724050d39af",
        "id": "QhUon_KrFK6m"
      },
      "execution_count": null,
      "outputs": [
        {
          "output_type": "execute_result",
          "data": {
            "text/plain": [
              "'i'"
            ],
            "application/vnd.google.colaboratory.intrinsic+json": {
              "type": "string"
            }
          },
          "metadata": {},
          "execution_count": 50
        }
      ]
    },
    {
      "cell_type": "markdown",
      "source": [
        "### 22. Reverse the order of words in a string."
      ],
      "metadata": {
        "id": "VQ6La0QrOl-O"
      }
    },
    {
      "cell_type": "code",
      "execution_count": null,
      "metadata": {
        "id": "k63uMJy1Ol-W"
      },
      "outputs": [],
      "source": [
        "def reverseWordOrder(string):\n",
        "  '''reverse the word order of the string\n",
        "\n",
        "  Parameters\n",
        "  string\n",
        "\n",
        "  Returns string\n",
        "  reversed_string\n",
        "  '''\n",
        "  # string = string.replace(',','').replace('.','')\n",
        "  words = string.split()\n",
        "  reversed_string = ' '.join(words[::-1])\n",
        "  return reversed_string"
      ]
    },
    {
      "cell_type": "code",
      "source": [
        "reverseWordOrder('sometimes, i love programming.')"
      ],
      "metadata": {
        "colab": {
          "base_uri": "https://localhost:8080/",
          "height": 36
        },
        "outputId": "0433901d-c5e2-451b-b5d5-b26579458354",
        "id": "-RbjiX12Ol-W"
      },
      "execution_count": null,
      "outputs": [
        {
          "output_type": "execute_result",
          "data": {
            "text/plain": [
              "'programming. love i sometimes,'"
            ],
            "application/vnd.google.colaboratory.intrinsic+json": {
              "type": "string"
            }
          },
          "metadata": {},
          "execution_count": 58
        }
      ]
    },
    {
      "cell_type": "markdown",
      "source": [
        "### 23. Check if a string is alphanumeric."
      ],
      "metadata": {
        "id": "4P77ZckoQdcq"
      }
    },
    {
      "cell_type": "code",
      "execution_count": null,
      "metadata": {
        "id": "aGrfOfNEQdcy"
      },
      "outputs": [],
      "source": [
        "def reverseWordOrder(string):\n",
        "  '''check if a string is alphanumeric\n",
        "\n",
        "  Parameters\n",
        "  string\n",
        "\n",
        "  Returns\n",
        "  bool value\n",
        "  '''\n",
        "  # string = string.replace(',','').replace('.','')\n",
        "  return string.isalnum()"
      ]
    },
    {
      "cell_type": "code",
      "source": [
        "reverseWordOrder('sometimes, i love programming.')"
      ],
      "metadata": {
        "colab": {
          "base_uri": "https://localhost:8080/"
        },
        "outputId": "4cfb6754-7109-4b73-a26c-07477a554cfe",
        "id": "EQJSOTV3Qdcy"
      },
      "execution_count": null,
      "outputs": [
        {
          "output_type": "execute_result",
          "data": {
            "text/plain": [
              "False"
            ]
          },
          "metadata": {},
          "execution_count": 60
        }
      ]
    },
    {
      "cell_type": "code",
      "source": [
        "reverseWordOrder('sometimesiloveprogramming')"
      ],
      "metadata": {
        "colab": {
          "base_uri": "https://localhost:8080/"
        },
        "id": "YrCzYI5MQ8pr",
        "outputId": "aab6c371-8da4-4217-df4f-dceabe9a6291"
      },
      "execution_count": null,
      "outputs": [
        {
          "output_type": "execute_result",
          "data": {
            "text/plain": [
              "True"
            ]
          },
          "metadata": {},
          "execution_count": 63
        }
      ]
    },
    {
      "cell_type": "markdown",
      "source": [
        "### 24. Extract all digits from a string."
      ],
      "metadata": {
        "id": "arK3DUkxRk7t"
      }
    },
    {
      "cell_type": "code",
      "execution_count": null,
      "metadata": {
        "id": "XZmn1531Rk7v"
      },
      "outputs": [],
      "source": [
        "def extractDigits(string):\n",
        "  '''extract all the digits from the string\n",
        "\n",
        "  Parameters\n",
        "  string\n",
        "\n",
        "  Returns\n",
        "  digits: all digits\n",
        "  '''\n",
        "  digits = ''\n",
        "  for char in string:\n",
        "    # using isdigit func. to check if each char is num or not\n",
        "    if char.isdigit():\n",
        "      digits += char\n",
        "  return digits"
      ]
    },
    {
      "cell_type": "code",
      "source": [
        "extractDigits('sometimes, i love programming.')"
      ],
      "metadata": {
        "colab": {
          "base_uri": "https://localhost:8080/",
          "height": 36
        },
        "outputId": "549b4487-30bf-49f0-8912-ddb13bfabdaf",
        "id": "FWxIAKgdRk7w"
      },
      "execution_count": null,
      "outputs": [
        {
          "output_type": "execute_result",
          "data": {
            "text/plain": [
              "''"
            ],
            "application/vnd.google.colaboratory.intrinsic+json": {
              "type": "string"
            }
          },
          "metadata": {},
          "execution_count": 80
        }
      ]
    },
    {
      "cell_type": "code",
      "source": [
        "extractDigits('22 Baker Street')"
      ],
      "metadata": {
        "colab": {
          "base_uri": "https://localhost:8080/",
          "height": 36
        },
        "outputId": "197f0c92-c05a-429b-af65-11bd2687429a",
        "id": "_16sH4t0Rk7x"
      },
      "execution_count": null,
      "outputs": [
        {
          "output_type": "execute_result",
          "data": {
            "text/plain": [
              "'22'"
            ],
            "application/vnd.google.colaboratory.intrinsic+json": {
              "type": "string"
            }
          },
          "metadata": {},
          "execution_count": 81
        }
      ]
    },
    {
      "cell_type": "markdown",
      "source": [
        "### 25. Extract all alphabets from a string."
      ],
      "metadata": {
        "id": "4DSc9BANRlCY"
      }
    },
    {
      "cell_type": "code",
      "execution_count": null,
      "metadata": {
        "id": "BXX4FQx2RlCY"
      },
      "outputs": [],
      "source": [
        "def extractAlpha(string):\n",
        "  '''extract all the digits from the string\n",
        "\n",
        "  Parameters\n",
        "  string\n",
        "\n",
        "  Returns\n",
        "  digits: all digits\n",
        "  '''\n",
        "  alpha = ''\n",
        "  for char in string:\n",
        "    # using isdigit func. to check if each char is alphabet or not\n",
        "    if char.isalpha():\n",
        "      alpha += char\n",
        "  return alpha"
      ]
    },
    {
      "cell_type": "code",
      "source": [
        "extractAlpha('pwskills12 231')"
      ],
      "metadata": {
        "colab": {
          "base_uri": "https://localhost:8080/",
          "height": 36
        },
        "outputId": "6b2f7e4e-0815-4bdb-c097-a9f61d102f72",
        "id": "q_qmxZpkRlCY"
      },
      "execution_count": null,
      "outputs": [
        {
          "output_type": "execute_result",
          "data": {
            "text/plain": [
              "'pwskills'"
            ],
            "application/vnd.google.colaboratory.intrinsic+json": {
              "type": "string"
            }
          },
          "metadata": {},
          "execution_count": 90
        }
      ]
    },
    {
      "cell_type": "markdown",
      "source": [
        "### 26. Count the number of uppercase letters in a string."
      ],
      "metadata": {
        "id": "B8C5Y2I4RlHh"
      }
    },
    {
      "cell_type": "code",
      "execution_count": null,
      "metadata": {
        "id": "SzSeJEQxRlHl"
      },
      "outputs": [],
      "source": [
        "def countUpper(string):\n",
        "  '''count the number of uppercase letters\n",
        "\n",
        "  Parameters\n",
        "  string\n",
        "\n",
        "  Returns\n",
        "  count: int value\n",
        "  '''\n",
        "  # using isupper to check if char is a uppercase letter and then using sum function to add all 1s [list comprehension]\n",
        "  count = sum(1 for char in string if char.isupper())\n",
        "  return count"
      ]
    },
    {
      "cell_type": "code",
      "source": [
        "countUpper('sometimes, i love programming.')"
      ],
      "metadata": {
        "colab": {
          "base_uri": "https://localhost:8080/"
        },
        "outputId": "db0e9e01-66b6-4504-fdb0-9103ce5ef090",
        "id": "dI6e67cGRlHl"
      },
      "execution_count": null,
      "outputs": [
        {
          "output_type": "execute_result",
          "data": {
            "text/plain": [
              "0"
            ]
          },
          "metadata": {},
          "execution_count": 102
        }
      ]
    },
    {
      "cell_type": "code",
      "source": [
        "countUpper('Sometimes, I love PrOGRAMMing.')"
      ],
      "metadata": {
        "colab": {
          "base_uri": "https://localhost:8080/"
        },
        "outputId": "866d6225-89d9-4838-dfe2-a1b1f637b4e6",
        "id": "PJIkThoQRlHl"
      },
      "execution_count": null,
      "outputs": [
        {
          "output_type": "execute_result",
          "data": {
            "text/plain": [
              "9"
            ]
          },
          "metadata": {},
          "execution_count": 103
        }
      ]
    },
    {
      "cell_type": "markdown",
      "source": [
        "### 27. Count the number of lowercase letters in a string."
      ],
      "metadata": {
        "id": "zirmkf3yRleY"
      }
    },
    {
      "cell_type": "code",
      "execution_count": null,
      "metadata": {
        "id": "0XcYVqN6RleY"
      },
      "outputs": [],
      "source": [
        "def countLower(string):\n",
        "  '''count the number of lowercase letters\n",
        "\n",
        "  Parameters\n",
        "  string\n",
        "\n",
        "  Returns\n",
        "  count: int value\n",
        "  '''\n",
        "  # using islower to check if char is a lower case letter and then using sum function to add all 1s [list comprehension]\n",
        "  count = sum(1 for char in string if char.islower())\n",
        "  return count"
      ]
    },
    {
      "cell_type": "code",
      "source": [
        "countLower('SOMETIMES .')"
      ],
      "metadata": {
        "colab": {
          "base_uri": "https://localhost:8080/"
        },
        "outputId": "28627fdc-bdb1-43c3-9940-c099f640a14f",
        "id": "O27hXlo0RleY"
      },
      "execution_count": null,
      "outputs": [
        {
          "output_type": "execute_result",
          "data": {
            "text/plain": [
              "0"
            ]
          },
          "metadata": {},
          "execution_count": 110
        }
      ]
    },
    {
      "cell_type": "code",
      "source": [
        "countLower('Sometimes, I love PrOGRAMMing.')"
      ],
      "metadata": {
        "colab": {
          "base_uri": "https://localhost:8080/"
        },
        "outputId": "afa3849d-209f-4ce0-a069-a7a8dcd01945",
        "id": "oHkJtiRrRleZ"
      },
      "execution_count": null,
      "outputs": [
        {
          "output_type": "execute_result",
          "data": {
            "text/plain": [
              "16"
            ]
          },
          "metadata": {},
          "execution_count": 107
        }
      ]
    },
    {
      "cell_type": "markdown",
      "source": [
        "### 28. Swap the case of each character in a string."
      ],
      "metadata": {
        "id": "zJ24Jj3TZGVz"
      }
    },
    {
      "cell_type": "code",
      "execution_count": null,
      "metadata": {
        "id": "zWrP63qNZGWK"
      },
      "outputs": [],
      "source": [
        "def swapCase(string):\n",
        "  '''count the number of lowercase letters\n",
        "\n",
        "  Parameters\n",
        "  string\n",
        "\n",
        "  Returns\n",
        "  string: with swapped case letters\n",
        "  '''\n",
        "\n",
        "  return string.swapcase()"
      ]
    },
    {
      "cell_type": "code",
      "source": [
        "swapCase('SOMETIMES .')"
      ],
      "metadata": {
        "colab": {
          "base_uri": "https://localhost:8080/",
          "height": 36
        },
        "outputId": "4d688ea8-d0ac-4c3b-9dad-5813e1a76f75",
        "id": "Th_HLNsHZGWK"
      },
      "execution_count": null,
      "outputs": [
        {
          "output_type": "execute_result",
          "data": {
            "text/plain": [
              "'sometimes .'"
            ],
            "application/vnd.google.colaboratory.intrinsic+json": {
              "type": "string"
            }
          },
          "metadata": {},
          "execution_count": 112
        }
      ]
    },
    {
      "cell_type": "code",
      "source": [
        "swapCase('Sometimes, I love PrOGRAMMing.')"
      ],
      "metadata": {
        "colab": {
          "base_uri": "https://localhost:8080/",
          "height": 36
        },
        "outputId": "f8baa8f0-4b88-48ef-a15f-c0dcf48a1fc3",
        "id": "Vo-vAJrlZGWL"
      },
      "execution_count": null,
      "outputs": [
        {
          "output_type": "execute_result",
          "data": {
            "text/plain": [
              "'sOMETIMES, i LOVE pRogrammING.'"
            ],
            "application/vnd.google.colaboratory.intrinsic+json": {
              "type": "string"
            }
          },
          "metadata": {},
          "execution_count": 113
        }
      ]
    },
    {
      "cell_type": "markdown",
      "source": [
        "### 29. Remove a specific word from a string."
      ],
      "metadata": {
        "id": "6xDCRmKBZGhC"
      }
    },
    {
      "cell_type": "code",
      "execution_count": null,
      "metadata": {
        "id": "wvs9h1beZGhD"
      },
      "outputs": [],
      "source": [
        "def removeWord(string,word):\n",
        "  '''remove a specific word from string\n",
        "\n",
        "  Parameters\n",
        "  string\n",
        "\n",
        "  Returns\n",
        "  new_string:\n",
        "  '''\n",
        "  words = string.split()\n",
        "  while word in words:\n",
        "    words.remove(word)\n",
        "  new_string = ' '.join(words)\n",
        "  return new_string"
      ]
    },
    {
      "cell_type": "code",
      "source": [
        "removeWord('air water air air','air')"
      ],
      "metadata": {
        "colab": {
          "base_uri": "https://localhost:8080/",
          "height": 36
        },
        "outputId": "b3357dae-ece7-4ab0-9784-af7e8204a8ec",
        "id": "_MIsuAmbZGhD"
      },
      "execution_count": null,
      "outputs": [
        {
          "output_type": "execute_result",
          "data": {
            "text/plain": [
              "'water'"
            ],
            "application/vnd.google.colaboratory.intrinsic+json": {
              "type": "string"
            }
          },
          "metadata": {},
          "execution_count": 133
        }
      ]
    },
    {
      "cell_type": "code",
      "source": [
        "removeWord('air airbone','air')"
      ],
      "metadata": {
        "colab": {
          "base_uri": "https://localhost:8080/",
          "height": 36
        },
        "outputId": "93a9a085-7e6b-415b-8315-120d777281e5",
        "id": "pXiSaHqJZGhD"
      },
      "execution_count": null,
      "outputs": [
        {
          "output_type": "execute_result",
          "data": {
            "text/plain": [
              "'airbone'"
            ],
            "application/vnd.google.colaboratory.intrinsic+json": {
              "type": "string"
            }
          },
          "metadata": {},
          "execution_count": 136
        }
      ]
    },
    {
      "cell_type": "markdown",
      "source": [
        "### 30. Check if a string is a valid email address."
      ],
      "metadata": {
        "id": "PMKbVjheZG8G"
      }
    },
    {
      "cell_type": "code",
      "execution_count": null,
      "metadata": {
        "id": "LlxJJUxpZG8H"
      },
      "outputs": [],
      "source": [
        "import re\n",
        "def checkEmail(email):\n",
        "  '''count the number of lowercase letters\n",
        "\n",
        "  Parameters\n",
        "  string\n",
        "\n",
        "  Returns\n",
        "  count: int value\n",
        "  '''\n",
        "  # using islower to check if char is a lower case letter and then using sum function to add all 1s [list comprehension]\n",
        "  regex = r'\\b[A-Za-z0-9._]+@[A-Za-z0-9.-]+\\.[A-Z|a-z]{2,7}\\b'\n",
        "  if(re.fullmatch(regex, email)):\n",
        "    return True\n",
        "  else:\n",
        "    return False"
      ]
    },
    {
      "cell_type": "code",
      "source": [
        "checkEmail('asd21asa_an@gmail.com')"
      ],
      "metadata": {
        "colab": {
          "base_uri": "https://localhost:8080/"
        },
        "outputId": "759063c5-fdcc-4442-adef-05df6906734d",
        "id": "PMlf0VPaZG8H"
      },
      "execution_count": null,
      "outputs": [
        {
          "output_type": "execute_result",
          "data": {
            "text/plain": [
              "True"
            ]
          },
          "metadata": {},
          "execution_count": 17
        }
      ]
    },
    {
      "cell_type": "code",
      "source": [
        "checkEmail('sa-.jhn@g12mail.com')"
      ],
      "metadata": {
        "colab": {
          "base_uri": "https://localhost:8080/"
        },
        "outputId": "ce822d62-a21f-4d7d-ea3c-da5541952964",
        "id": "5vHH1qjMZG8H"
      },
      "execution_count": null,
      "outputs": [
        {
          "output_type": "execute_result",
          "data": {
            "text/plain": [
              "False"
            ]
          },
          "metadata": {},
          "execution_count": 18
        }
      ]
    },
    {
      "cell_type": "markdown",
      "source": [
        "### 31. Extract the username from an email address string."
      ],
      "metadata": {
        "id": "t_T1oWcCSaxc"
      }
    },
    {
      "cell_type": "code",
      "execution_count": null,
      "metadata": {
        "id": "-L8rMpWgSaxm"
      },
      "outputs": [],
      "source": [
        "def extractUsername(email):\n",
        "  '''extract username from the email\n",
        "\n",
        "  Parameters\n",
        "  email: valid email id\n",
        "\n",
        "  Returns\n",
        "  username: str value\n",
        "  '''\n",
        "  username = email.split(\"@\")[0]\n",
        "  return username"
      ]
    },
    {
      "cell_type": "code",
      "source": [
        "extractUsername('asd21asa_an@gmail.com')"
      ],
      "metadata": {
        "colab": {
          "base_uri": "https://localhost:8080/",
          "height": 36
        },
        "outputId": "5251d8c5-2fad-4c16-dea4-0e080f6e9a8e",
        "id": "MAA4-seuSaxn"
      },
      "execution_count": null,
      "outputs": [
        {
          "output_type": "execute_result",
          "data": {
            "text/plain": [
              "'asd21asa_an'"
            ],
            "application/vnd.google.colaboratory.intrinsic+json": {
              "type": "string"
            }
          },
          "metadata": {},
          "execution_count": 27
        }
      ]
    },
    {
      "cell_type": "code",
      "source": [
        "extractUsername('jasJ_ab12ok@hotmail.in')"
      ],
      "metadata": {
        "colab": {
          "base_uri": "https://localhost:8080/",
          "height": 36
        },
        "outputId": "c2118419-57ca-4a6c-f0e7-c40727b4d59e",
        "id": "81g19ttrSaxn"
      },
      "execution_count": null,
      "outputs": [
        {
          "output_type": "execute_result",
          "data": {
            "text/plain": [
              "'jasJ_ab12ok'"
            ],
            "application/vnd.google.colaboratory.intrinsic+json": {
              "type": "string"
            }
          },
          "metadata": {},
          "execution_count": 30
        }
      ]
    },
    {
      "cell_type": "markdown",
      "source": [
        "### 32. Extract the domain name from an email address string."
      ],
      "metadata": {
        "id": "8ruAAcDLSeVX"
      }
    },
    {
      "cell_type": "code",
      "execution_count": null,
      "metadata": {
        "id": "yVoUD7tuSeVf"
      },
      "outputs": [],
      "source": [
        "def extractDomain(email):\n",
        "  '''extract the domain name from the email id\n",
        "\n",
        "  Parameters\n",
        "  email: valid email id\n",
        "\n",
        "  Returns\n",
        "  domain: str value\n",
        "  '''\n",
        "  # using .split to extact the email domain name\n",
        "  domain = email.split('@')[1]\n",
        "  return domain"
      ]
    },
    {
      "cell_type": "code",
      "source": [
        "extractDomain('asd21asa_an@gmail.com')"
      ],
      "metadata": {
        "colab": {
          "base_uri": "https://localhost:8080/",
          "height": 36
        },
        "outputId": "b283213c-f235-41c6-ba51-a35fca04423f",
        "id": "LalPigD2SeVf"
      },
      "execution_count": null,
      "outputs": [
        {
          "output_type": "execute_result",
          "data": {
            "text/plain": [
              "'gmail.com'"
            ],
            "application/vnd.google.colaboratory.intrinsic+json": {
              "type": "string"
            }
          },
          "metadata": {},
          "execution_count": 36
        }
      ]
    },
    {
      "cell_type": "code",
      "source": [
        "extractDomain('sajhn@hotmail.in')"
      ],
      "metadata": {
        "colab": {
          "base_uri": "https://localhost:8080/",
          "height": 36
        },
        "outputId": "1b00ad07-fd01-459d-f5e7-623fd1985403",
        "id": "BsT6O_U3SeVf"
      },
      "execution_count": null,
      "outputs": [
        {
          "output_type": "execute_result",
          "data": {
            "text/plain": [
              "'hotmail.in'"
            ],
            "application/vnd.google.colaboratory.intrinsic+json": {
              "type": "string"
            }
          },
          "metadata": {},
          "execution_count": 37
        }
      ]
    },
    {
      "cell_type": "markdown",
      "source": [
        "### 33. Replace multiple spaces in a string with a single space."
      ],
      "metadata": {
        "id": "RShd2jtZSeZv"
      }
    },
    {
      "cell_type": "code",
      "execution_count": null,
      "metadata": {
        "id": "Pjlg7sYISeZv"
      },
      "outputs": [],
      "source": [
        "def replaceMultipleSpaces(string):\n",
        "  ''' replace multiple spaces by a single space\n",
        "\n",
        "  Parameters\n",
        "  string\n",
        "\n",
        "  Returns\n",
        "  new_string: str value\n",
        "  '''\n",
        "  new_string = \" \".join(string.split())\n",
        "  return new_string"
      ]
    },
    {
      "cell_type": "code",
      "source": [
        "replaceMultipleSpaces('mail   abc          apple')"
      ],
      "metadata": {
        "colab": {
          "base_uri": "https://localhost:8080/",
          "height": 36
        },
        "outputId": "05bd1cbb-d71c-400b-dacc-4089117726a8",
        "id": "oKXOs5r8SeZw"
      },
      "execution_count": null,
      "outputs": [
        {
          "output_type": "execute_result",
          "data": {
            "text/plain": [
              "'mail abc apple'"
            ],
            "application/vnd.google.colaboratory.intrinsic+json": {
              "type": "string"
            }
          },
          "metadata": {},
          "execution_count": 40
        }
      ]
    },
    {
      "cell_type": "markdown",
      "source": [
        "### 34. Check if a string is a valid URL."
      ],
      "metadata": {
        "id": "uqlPveJ1Seeb"
      }
    },
    {
      "cell_type": "code",
      "execution_count": null,
      "metadata": {
        "id": "6cM7BjnHSeeb"
      },
      "outputs": [],
      "source": [
        "from urllib.parse import urlparse\n",
        "def validURL(url):\n",
        "  '''checking for a valid url\n",
        "\n",
        "  Parameters\n",
        "  url\n",
        "\n",
        "  Returns\n",
        "  bool value\n",
        "  '''\n",
        "  try:\n",
        "    parse = urlparse(url)\n",
        "    return all([parse.scheme,parse.netloc])\n",
        "  except ValueError:\n",
        "    return False"
      ]
    },
    {
      "cell_type": "code",
      "source": [
        "validURL('https://colab.research.google.com/drive/1PEiBoZc4lTsr8-YechpWRXABx_ZaezYL?authuser=0#scrollTo=7Ni57V7kSeec')"
      ],
      "metadata": {
        "colab": {
          "base_uri": "https://localhost:8080/"
        },
        "outputId": "a770117c-fbdd-4010-c40f-377ce4efce03",
        "id": "7Ni57V7kSeec"
      },
      "execution_count": null,
      "outputs": [
        {
          "output_type": "execute_result",
          "data": {
            "text/plain": [
              "True"
            ]
          },
          "metadata": {},
          "execution_count": 53
        }
      ]
    },
    {
      "cell_type": "code",
      "source": [
        "validURL('sa-.jhn@g12mail.com')"
      ],
      "metadata": {
        "colab": {
          "base_uri": "https://localhost:8080/"
        },
        "outputId": "6934e598-e72d-4ac8-fed0-d39dece0adba",
        "id": "XRGGjXonSeec"
      },
      "execution_count": null,
      "outputs": [
        {
          "output_type": "execute_result",
          "data": {
            "text/plain": [
              "False"
            ]
          },
          "metadata": {},
          "execution_count": 54
        }
      ]
    },
    {
      "cell_type": "markdown",
      "source": [
        "### 35. Extract the protocol (http or https) from a URL string."
      ],
      "metadata": {
        "id": "ddg2r5p4SeiR"
      }
    },
    {
      "cell_type": "code",
      "execution_count": null,
      "metadata": {
        "id": "xL5psZyvSeiR"
      },
      "outputs": [],
      "source": [
        "def getProtocol(url):\n",
        "  '''fetch the url protocol from the string\n",
        "\n",
        "  Parameters\n",
        "  url\n",
        "\n",
        "  Returns\n",
        "  protocol: url protocol, if there\n",
        "  '''\n",
        "  index = url.find('://')\n",
        "  if index != -1:\n",
        "    return url[:index]\n",
        "  return \"N/A\""
      ]
    },
    {
      "cell_type": "code",
      "source": [
        "getProtocol('ftp:/ftp.example.com')"
      ],
      "metadata": {
        "colab": {
          "base_uri": "https://localhost:8080/",
          "height": 36
        },
        "outputId": "2dbfc083-fb15-4398-9121-951aaa2f179b",
        "id": "aTQqmuKjSeiR"
      },
      "execution_count": null,
      "outputs": [
        {
          "output_type": "execute_result",
          "data": {
            "text/plain": [
              "'N/A'"
            ],
            "application/vnd.google.colaboratory.intrinsic+json": {
              "type": "string"
            }
          },
          "metadata": {},
          "execution_count": 81
        }
      ]
    },
    {
      "cell_type": "code",
      "source": [
        "getProtocol('https://colab.research.google.com/drive/1PEiBoZc4lTsr8-YechpWRXABx_ZaezYL?authuser=0#scrollTo=aTQqmuKjSeiR')"
      ],
      "metadata": {
        "colab": {
          "base_uri": "https://localhost:8080/",
          "height": 36
        },
        "outputId": "f1001f6c-fb39-41d2-e139-8aa8a287c4dd",
        "id": "K08rXZVDSeiS"
      },
      "execution_count": null,
      "outputs": [
        {
          "output_type": "execute_result",
          "data": {
            "text/plain": [
              "'https'"
            ],
            "application/vnd.google.colaboratory.intrinsic+json": {
              "type": "string"
            }
          },
          "metadata": {},
          "execution_count": 83
        }
      ]
    },
    {
      "cell_type": "markdown",
      "source": [
        "### 36. Find the frequency of each character in a string."
      ],
      "metadata": {
        "id": "ig4Lhn2zSemW"
      }
    },
    {
      "cell_type": "code",
      "execution_count": null,
      "metadata": {
        "id": "_XXQv5fbSemX"
      },
      "outputs": [],
      "source": [
        "def charFrequency(string):\n",
        "  '''frequency of each character\n",
        "\n",
        "  Parameters\n",
        "  string\n",
        "\n",
        "  Returns\n",
        "  dict value\n",
        "  '''\n",
        "  freq_dict = {}\n",
        "  string = string.lower()\n",
        "  for i in string:\n",
        "    if i in freq_dict:\n",
        "      freq_dict[i] += 1\n",
        "    else:\n",
        "      freq_dict[i] = 1\n",
        "  return freq_dict"
      ]
    },
    {
      "cell_type": "code",
      "source": [
        "charFrequency('asd21asa_an@gmail.com')"
      ],
      "metadata": {
        "colab": {
          "base_uri": "https://localhost:8080/"
        },
        "outputId": "7270e725-1a6e-44fb-bfc9-f930dc94b92a",
        "id": "n7KiM6GmSemY"
      },
      "execution_count": null,
      "outputs": [
        {
          "output_type": "execute_result",
          "data": {
            "text/plain": [
              "{'a': 5,\n",
              " 's': 2,\n",
              " 'd': 1,\n",
              " '2': 1,\n",
              " '1': 1,\n",
              " '_': 1,\n",
              " 'n': 1,\n",
              " '@': 1,\n",
              " 'g': 1,\n",
              " 'm': 2,\n",
              " 'i': 1,\n",
              " 'l': 1,\n",
              " '.': 1,\n",
              " 'c': 1,\n",
              " 'o': 1}"
            ]
          },
          "metadata": {},
          "execution_count": 6
        }
      ]
    },
    {
      "cell_type": "code",
      "source": [
        "charFrequency('PW Skills Strings')"
      ],
      "metadata": {
        "colab": {
          "base_uri": "https://localhost:8080/"
        },
        "outputId": "a4d1ea2f-b410-4675-8b40-6acdd335e5e3",
        "id": "hanBi0MqSemZ"
      },
      "execution_count": null,
      "outputs": [
        {
          "output_type": "execute_result",
          "data": {
            "text/plain": [
              "{'p': 1,\n",
              " 'w': 1,\n",
              " ' ': 2,\n",
              " 's': 4,\n",
              " 'k': 1,\n",
              " 'i': 2,\n",
              " 'l': 2,\n",
              " 't': 1,\n",
              " 'r': 1,\n",
              " 'n': 1,\n",
              " 'g': 1}"
            ]
          },
          "metadata": {},
          "execution_count": 7
        }
      ]
    },
    {
      "cell_type": "markdown",
      "source": [
        "### 37. Remove all punctuation from a string."
      ],
      "metadata": {
        "id": "cp-9Zh1NkCC0"
      }
    },
    {
      "cell_type": "code",
      "execution_count": null,
      "metadata": {
        "id": "h4V_z5EgkCC2"
      },
      "outputs": [],
      "source": [
        "import string as st\n",
        "def removePunctuations(string):\n",
        "  '''remove all punctuations\n",
        "\n",
        "  Parameters\n",
        "  string\n",
        "\n",
        "  Returns\n",
        "  new_string: string without punctuations\n",
        "  '''\n",
        "  new_string = ''\n",
        "  for char in string:\n",
        "    if char not in st.punctuation:\n",
        "      new_string += char\n",
        "  return new_string"
      ]
    },
    {
      "cell_type": "code",
      "source": [
        "removePunctuations('asd21asa_an@gmail.com')"
      ],
      "metadata": {
        "colab": {
          "base_uri": "https://localhost:8080/",
          "height": 36
        },
        "outputId": "129ae586-93e0-41c9-be5f-0a0d938884cf",
        "id": "irbrV_YYkCC3"
      },
      "execution_count": null,
      "outputs": [
        {
          "output_type": "execute_result",
          "data": {
            "text/plain": [
              "'asd21asaangmailcom'"
            ],
            "application/vnd.google.colaboratory.intrinsic+json": {
              "type": "string"
            }
          },
          "metadata": {},
          "execution_count": 13
        }
      ]
    },
    {
      "cell_type": "markdown",
      "source": [
        "### 38. Check if a string contains only digits."
      ],
      "metadata": {
        "id": "1Qyt9PEflHCG"
      }
    },
    {
      "cell_type": "code",
      "execution_count": null,
      "metadata": {
        "id": "INpGE-68lHCd"
      },
      "outputs": [],
      "source": [
        "def checkDigits(string):\n",
        "  '''check if sting only contains digits\n",
        "\n",
        "  Parameters\n",
        "  string\n",
        "\n",
        "  Returns\n",
        "  bool value\n",
        "  '''\n",
        "  if string.isdigit():\n",
        "    return True\n",
        "  else:\n",
        "    return False"
      ]
    },
    {
      "cell_type": "code",
      "source": [
        "checkDigits('asd21asa_an@gmail.com')"
      ],
      "metadata": {
        "colab": {
          "base_uri": "https://localhost:8080/"
        },
        "outputId": "73d6bbf7-6aed-4613-9ef7-18cd0af37e0b",
        "id": "_-Ay2R0ClHCd"
      },
      "execution_count": null,
      "outputs": [
        {
          "output_type": "execute_result",
          "data": {
            "text/plain": [
              "False"
            ]
          },
          "metadata": {},
          "execution_count": 15
        }
      ]
    },
    {
      "cell_type": "code",
      "source": [
        "checkDigits('12311021')"
      ],
      "metadata": {
        "colab": {
          "base_uri": "https://localhost:8080/"
        },
        "outputId": "e1e661e8-2b4a-474c-c286-b624498d842b",
        "id": "NgMTFzfxlHCe"
      },
      "execution_count": null,
      "outputs": [
        {
          "output_type": "execute_result",
          "data": {
            "text/plain": [
              "True"
            ]
          },
          "metadata": {},
          "execution_count": 17
        }
      ]
    },
    {
      "cell_type": "markdown",
      "source": [
        "### 39. Check if a string contains only alphabets."
      ],
      "metadata": {
        "id": "arFIu2sGlHWh"
      }
    },
    {
      "cell_type": "code",
      "execution_count": null,
      "metadata": {
        "id": "Sftt3wxklHWh"
      },
      "outputs": [],
      "source": [
        "def checkAlpha(string):\n",
        "  '''check if sting only contains alphabets\n",
        "\n",
        "  Parameters\n",
        "  string\n",
        "\n",
        "  Returns\n",
        "  bool value\n",
        "  '''\n",
        "  # isaplha() check if string only contains alphabets\n",
        "  if string.isalpha():\n",
        "    return True\n",
        "  else:\n",
        "    return False"
      ]
    },
    {
      "cell_type": "code",
      "source": [
        "checkAlpha('asd21asa_an@gmail.com')"
      ],
      "metadata": {
        "colab": {
          "base_uri": "https://localhost:8080/"
        },
        "outputId": "539361a1-9062-4836-80a2-a18462b78480",
        "id": "PlMUpYRalHWi"
      },
      "execution_count": null,
      "outputs": [
        {
          "output_type": "execute_result",
          "data": {
            "text/plain": [
              "False"
            ]
          },
          "metadata": {},
          "execution_count": 26
        }
      ]
    },
    {
      "cell_type": "code",
      "source": [
        "checkAlpha('ABCDEFG')"
      ],
      "metadata": {
        "colab": {
          "base_uri": "https://localhost:8080/"
        },
        "outputId": "5c1b136f-114f-47a1-e4f5-4fafc2844918",
        "id": "JZiiHD6NlHWi"
      },
      "execution_count": null,
      "outputs": [
        {
          "output_type": "execute_result",
          "data": {
            "text/plain": [
              "True"
            ]
          },
          "metadata": {},
          "execution_count": 27
        }
      ]
    },
    {
      "cell_type": "markdown",
      "source": [
        "### 40. Convert a string to a list of characters."
      ],
      "metadata": {
        "id": "xgBZtlFflHgi"
      }
    },
    {
      "cell_type": "code",
      "execution_count": null,
      "metadata": {
        "id": "KkySoD7olHgi"
      },
      "outputs": [],
      "source": [
        "def listOfChars(string):\n",
        "  '''convert string to list of chars\n",
        "\n",
        "  Parameters\n",
        "  string\n",
        "\n",
        "  Returns\n",
        "  list\n",
        "  '''\n",
        "  # using list function\n",
        "  list_char = list(string)\n",
        "  return list_char"
      ]
    },
    {
      "cell_type": "code",
      "source": [
        "listOfChars('PW Skills')"
      ],
      "metadata": {
        "colab": {
          "base_uri": "https://localhost:8080/"
        },
        "outputId": "1da6c57b-e31a-46c9-f557-0d54815b0a69",
        "id": "NlyhP7n7lHgi"
      },
      "execution_count": null,
      "outputs": [
        {
          "output_type": "execute_result",
          "data": {
            "text/plain": [
              "['P', 'W', ' ', 'S', 'k', 'i', 'l', 'l', 's']"
            ]
          },
          "metadata": {},
          "execution_count": 29
        }
      ]
    },
    {
      "cell_type": "markdown",
      "source": [
        "### 41. Check if two strings are anagrams."
      ],
      "metadata": {
        "id": "_esudfOglJmA"
      }
    },
    {
      "cell_type": "code",
      "execution_count": null,
      "metadata": {
        "id": "xry07Qj5lJmA"
      },
      "outputs": [],
      "source": [
        "def checkAnagrams(string1,string2):\n",
        "  '''check if 2 strings are anagrams\n",
        "\n",
        "  Parameters\n",
        "  string1\n",
        "  string2\n",
        "\n",
        "  Returns\n",
        "  bool value\n",
        "  '''\n",
        "  string1 = string1.lower()\n",
        "  string2 = string2.lower()\n",
        "  for char in string1:\n",
        "    if char in string2:\n",
        "      string2.replace(char,'',1)\n",
        "    else:\n",
        "      return False\n",
        "  return True"
      ]
    },
    {
      "cell_type": "code",
      "source": [
        "checkAnagrams('mars','rams')"
      ],
      "metadata": {
        "colab": {
          "base_uri": "https://localhost:8080/"
        },
        "outputId": "d3472432-c4fe-4bb5-864c-4e1fceff95a6",
        "id": "my528p3HlJmA"
      },
      "execution_count": null,
      "outputs": [
        {
          "output_type": "execute_result",
          "data": {
            "text/plain": [
              "True"
            ]
          },
          "metadata": {},
          "execution_count": 33
        }
      ]
    },
    {
      "cell_type": "code",
      "source": [
        "checkAnagrams('mars','ram')"
      ],
      "metadata": {
        "colab": {
          "base_uri": "https://localhost:8080/"
        },
        "outputId": "57bd09a1-287c-4b0e-9a79-ba0169e8b632",
        "id": "g5XNoQQflJmB"
      },
      "execution_count": null,
      "outputs": [
        {
          "output_type": "execute_result",
          "data": {
            "text/plain": [
              "False"
            ]
          },
          "metadata": {},
          "execution_count": 34
        }
      ]
    },
    {
      "cell_type": "markdown",
      "source": [
        "### 42. Encode a string using a Caesar cipher."
      ],
      "metadata": {
        "id": "DJerGeFolKUO"
      }
    },
    {
      "cell_type": "markdown",
      "source": [
        "Here, `ord(char)` is used to get the ASCII value of the character. However, the shift operation is slightly different.\n",
        "\n",
        "```\n",
        "chr((ord(char)+shift-65)%26 + 65)\n",
        "```\n",
        "I have **subtracted 65** from the sum of `ord(char) + shift` before performing the **modulo operation % 26** (which allows wrapping within the 26 letters of the alphabet).\n",
        "\n",
        "Then adds 65 back to the result. This approach is useful when you want to ensure the shift stays within the range of alphabetical characters (ASCII values 65 to 90 for uppercase letters in the English alphabet).\n"
      ],
      "metadata": {
        "id": "QcFpb8XOL6Og"
      }
    },
    {
      "cell_type": "code",
      "execution_count": null,
      "metadata": {
        "id": "Ji0ix-iekCRk"
      },
      "outputs": [],
      "source": [
        "def encrypt(string,shift):\n",
        "  '''encode the given string using Caesar Cipher\n",
        "\n",
        "  Parameters\n",
        "  string: main text to ne encoded\n",
        "  shift: no of letters to be shifted\n",
        "\n",
        "  Returns\n",
        "  encoded_string\n",
        "  '''\n",
        "  encoded_string = ''\n",
        "  for char in string:\n",
        "    # Shift is added to the char ASCII value to get a new ASCII value(decrypted)\n",
        "    if char.isupper():\n",
        "      encoded_string += chr((ord(char)+shift-65)%26 + 65)\n",
        "    elif char.islower():\n",
        "      encoded_string += chr((ord(char)+shift-97)%26 + 97)\n",
        "    else:\n",
        "      encoded_string += char\n",
        "  return encoded_string"
      ]
    },
    {
      "cell_type": "code",
      "source": [
        "encrypt('Secret Message!',7)"
      ],
      "metadata": {
        "colab": {
          "base_uri": "https://localhost:8080/",
          "height": 36
        },
        "outputId": "7a00dfb8-76d9-4410-b4a4-a4c23faa51fc",
        "id": "S48Soa7HlKUP"
      },
      "execution_count": null,
      "outputs": [
        {
          "output_type": "execute_result",
          "data": {
            "text/plain": [
              "'Zljyla Tlzzhnl!'"
            ],
            "application/vnd.google.colaboratory.intrinsic+json": {
              "type": "string"
            }
          },
          "metadata": {},
          "execution_count": 57
        }
      ]
    },
    {
      "cell_type": "markdown",
      "source": [
        "### 43. Decode a Caesar cipher encoded string."
      ],
      "metadata": {
        "id": "nuefA6QNkCRk"
      }
    },
    {
      "cell_type": "code",
      "execution_count": null,
      "metadata": {
        "id": "Cd6q2yY-lKUP"
      },
      "outputs": [],
      "source": [
        "def decrypt(encoded_string,shift):\n",
        "  '''Decrypt the message using caesar cipher technique\n",
        "\n",
        "  Parameters\n",
        "  encoded: encoded text to be decoded\n",
        "  shift: no of letters to be shifted\n",
        "\n",
        "  Returns\n",
        "  string\n",
        "  '''\n",
        "  string = ''\n",
        "  for char in encoded_string:\n",
        "    # Shift is subtracted from ASCII value to get the original ASCII value of the char\n",
        "    if char.isupper():\n",
        "      string += chr((ord(char)-shift-65)%26 + 65)\n",
        "    elif char.islower():\n",
        "      string += chr((ord(char)-shift-97)%26 + 97)\n",
        "    else:\n",
        "      string += char\n",
        "  return string"
      ]
    },
    {
      "cell_type": "code",
      "source": [
        "decrypt('Zljyla Tlzzhnl!',7)"
      ],
      "metadata": {
        "colab": {
          "base_uri": "https://localhost:8080/",
          "height": 36
        },
        "outputId": "085fe8a0-f39f-4ea2-ebe5-f7a52b31b5be",
        "id": "51unB2eqLj-z"
      },
      "execution_count": null,
      "outputs": [
        {
          "output_type": "execute_result",
          "data": {
            "text/plain": [
              "'Secret Message!'"
            ],
            "application/vnd.google.colaboratory.intrinsic+json": {
              "type": "string"
            }
          },
          "metadata": {},
          "execution_count": 60
        }
      ]
    },
    {
      "cell_type": "markdown",
      "source": [
        "### 44. Find the most frequent word in a string."
      ],
      "metadata": {
        "id": "ruTrT6lzkCWK"
      }
    },
    {
      "cell_type": "code",
      "execution_count": null,
      "metadata": {
        "id": "Vk6lJKIekCWK"
      },
      "outputs": [],
      "source": [
        "def mostFreqWord(string):\n",
        "  '''find the most frequent word in string\n",
        "\n",
        "  Parameters\n",
        "  string\n",
        "\n",
        "  Returns\n",
        "  most frequent word\n",
        "  '''\n",
        "  word_dict = {}\n",
        "  # remove all punctuation chars from the string, lower and split it\n",
        "  string_list = removePunctuations(string).lower().split(' ')\n",
        "  for word in string_list:\n",
        "    # if word not occured already it creates an instance else increments\n",
        "    if word in word_dict:\n",
        "      word_dict[word] += 1\n",
        "    else:\n",
        "      word_dict[word] = 1\n",
        "  # zipping value, key then take the max of value\n",
        "  freq_word = max(zip(word_dict.values(), word_dict.keys()))[1]\n",
        "  return freq_word"
      ]
    },
    {
      "cell_type": "code",
      "source": [
        "mostFreqWord('Water is important, although it is very scarce.')"
      ],
      "metadata": {
        "colab": {
          "base_uri": "https://localhost:8080/",
          "height": 36
        },
        "outputId": "d9ae8fb2-9604-4875-c427-1f75caa1b040",
        "id": "6sME8ytlkCWL"
      },
      "execution_count": null,
      "outputs": [
        {
          "output_type": "execute_result",
          "data": {
            "text/plain": [
              "'is'"
            ],
            "application/vnd.google.colaboratory.intrinsic+json": {
              "type": "string"
            }
          },
          "metadata": {},
          "execution_count": 37
        }
      ]
    },
    {
      "cell_type": "code",
      "source": [
        "mostFreqWord('Water is important, although it is very scarce. Water, waTer')"
      ],
      "metadata": {
        "colab": {
          "base_uri": "https://localhost:8080/",
          "height": 36
        },
        "outputId": "1021521f-82f4-42f4-8640-00e0c52c11d8",
        "id": "DWxfSZPRFqQg"
      },
      "execution_count": null,
      "outputs": [
        {
          "output_type": "execute_result",
          "data": {
            "text/plain": [
              "'water'"
            ],
            "application/vnd.google.colaboratory.intrinsic+json": {
              "type": "string"
            }
          },
          "metadata": {},
          "execution_count": 38
        }
      ]
    },
    {
      "cell_type": "markdown",
      "source": [
        "### 45. Find all unique words in a string."
      ],
      "metadata": {
        "id": "yS4ldfowkCaY"
      }
    },
    {
      "cell_type": "code",
      "execution_count": null,
      "metadata": {
        "id": "nqdIttdnkCaY"
      },
      "outputs": [],
      "source": [
        "def uniqueWords(string):\n",
        "  '''get all the unique words in the string\n",
        "\n",
        "  Parameters\n",
        "  string\n",
        "\n",
        "  Returns\n",
        "  list: unique words\n",
        "  '''\n",
        "  uniq_words = []\n",
        "  # remove all punctuation chars from the string, lower and split it\n",
        "  string_list = removePunctuations(string).lower().split(' ')\n",
        "  for word in string_list:\n",
        "    if word not in uniq_words:\n",
        "      uniq_words.append(word)\n",
        "  return uniq_words"
      ]
    },
    {
      "cell_type": "code",
      "source": [
        "uniqueWords('Water is important, although it is very scarce. Water, waTer')"
      ],
      "metadata": {
        "colab": {
          "base_uri": "https://localhost:8080/"
        },
        "outputId": "7ceb453a-3de5-4ed9-c4b1-f9061a9c49c7",
        "id": "EygfV9lrkCaY"
      },
      "execution_count": null,
      "outputs": [
        {
          "output_type": "execute_result",
          "data": {
            "text/plain": [
              "['water', 'is', 'important', 'although', 'it', 'very', 'scarce']"
            ]
          },
          "metadata": {},
          "execution_count": 10
        }
      ]
    },
    {
      "cell_type": "markdown",
      "source": [
        "### 46. Count the number of syllables in a string."
      ],
      "metadata": {
        "id": "ccn-NfMjkCd_"
      }
    },
    {
      "cell_type": "code",
      "execution_count": null,
      "metadata": {
        "id": "gVITnArqkCd_"
      },
      "outputs": [],
      "source": [
        "def count_syllables(word):\n",
        "  word = word.lower()\n",
        "  count = 0\n",
        "  # Remove trailing 'e' but not 'le'\n",
        "  if word.endswith('e') and not word.endswith('le'):\n",
        "      word = word[:-1]\n",
        "  # Adjustments for words ending in 'ed' or 'es'\n",
        "  if word.endswith(('ed', 'es')):\n",
        "      word = word[:-2]\n",
        "  # Count vowels\n",
        "  vowels = \"aeiouy\"\n",
        "  if word[0] in vowels:\n",
        "    count += 1\n",
        "  for i in range(1, len(word)):\n",
        "    if word[i] in vowels and word[i-1] not in vowels:\n",
        "      count += 1\n",
        "  # Adjustments for lone 'e' at the end (considered as separate syllable)\n",
        "  if count == 0:\n",
        "    count = 1\n",
        "  return count"
      ]
    },
    {
      "cell_type": "code",
      "source": [
        "count_syllables('hairy')"
      ],
      "metadata": {
        "colab": {
          "base_uri": "https://localhost:8080/"
        },
        "outputId": "862e3797-f626-416a-e8e5-a28a20a3b204",
        "id": "8UphwJYNkCd_"
      },
      "execution_count": null,
      "outputs": [
        {
          "output_type": "execute_result",
          "data": {
            "text/plain": [
              "2"
            ]
          },
          "metadata": {},
          "execution_count": 12
        }
      ]
    },
    {
      "cell_type": "code",
      "source": [
        "count_syllables('pickle')"
      ],
      "metadata": {
        "colab": {
          "base_uri": "https://localhost:8080/"
        },
        "outputId": "6a4a3efe-6a1e-4aac-dea6-08140fbb13ce",
        "id": "r_1Uvzv0MeE7"
      },
      "execution_count": null,
      "outputs": [
        {
          "output_type": "execute_result",
          "data": {
            "text/plain": [
              "2"
            ]
          },
          "metadata": {},
          "execution_count": 13
        }
      ]
    },
    {
      "cell_type": "code",
      "source": [
        "count_syllables('combination')"
      ],
      "metadata": {
        "colab": {
          "base_uri": "https://localhost:8080/"
        },
        "outputId": "0b6ca447-0a69-4961-e992-f0f5c4321bd1",
        "id": "brptpOMoMl2z"
      },
      "execution_count": null,
      "outputs": [
        {
          "output_type": "execute_result",
          "data": {
            "text/plain": [
              "4"
            ]
          },
          "metadata": {},
          "execution_count": 14
        }
      ]
    },
    {
      "cell_type": "markdown",
      "source": [
        "### 47. Check if a string contains any special characters."
      ],
      "metadata": {
        "id": "FqgVdT7RkCiK"
      }
    },
    {
      "cell_type": "code",
      "execution_count": null,
      "metadata": {
        "id": "boPStfurkCiK"
      },
      "outputs": [],
      "source": [
        "def checkSpecialChars(string):\n",
        "  '''check if string contains special chars\n",
        "\n",
        "  Parameters\n",
        "  string\n",
        "\n",
        "  Returns\n",
        "  bool value\n",
        "  '''\n",
        "  for char in string:\n",
        "    if char in st.punctuation:\n",
        "      return True\n",
        "  return False"
      ]
    },
    {
      "cell_type": "code",
      "source": [
        "checkSpecialChars('asd21asa_an@gmail.com')"
      ],
      "metadata": {
        "colab": {
          "base_uri": "https://localhost:8080/"
        },
        "outputId": "7f7cb4aa-a29a-45ed-b4b9-3ddc6404692c",
        "id": "vf7rl3rakCiK"
      },
      "execution_count": null,
      "outputs": [
        {
          "output_type": "execute_result",
          "data": {
            "text/plain": [
              "True"
            ]
          },
          "metadata": {},
          "execution_count": 16
        }
      ]
    },
    {
      "cell_type": "code",
      "source": [
        "checkSpecialChars('PW Skills')"
      ],
      "metadata": {
        "colab": {
          "base_uri": "https://localhost:8080/"
        },
        "outputId": "e0f27e9e-7233-49ab-fa73-c98b439a0706",
        "id": "dTqqCUmJkCiL"
      },
      "execution_count": null,
      "outputs": [
        {
          "output_type": "execute_result",
          "data": {
            "text/plain": [
              "False"
            ]
          },
          "metadata": {},
          "execution_count": 18
        }
      ]
    },
    {
      "cell_type": "markdown",
      "source": [
        "### 48. Remove the nth word from a string."
      ],
      "metadata": {
        "id": "SJeyf5YvkCmj"
      }
    },
    {
      "cell_type": "code",
      "execution_count": null,
      "metadata": {
        "id": "HbP4yWggkCmj"
      },
      "outputs": [],
      "source": [
        "def removeNthWord(string,n):\n",
        "  '''remove the nth word from the string\n",
        "\n",
        "  Parameters\n",
        "  string\n",
        "  n: remove nth word\n",
        "\n",
        "  Returns\n",
        "  updated string\n",
        "  '''\n",
        "  string_list = string.split(' ')\n",
        "  string_list.pop(n)\n",
        "  new_string = ' '.join(string_list)\n",
        "  return new_string"
      ]
    },
    {
      "cell_type": "code",
      "source": [
        "removeNthWord('Water is important, although it is very scarce.',3)"
      ],
      "metadata": {
        "colab": {
          "base_uri": "https://localhost:8080/",
          "height": 36
        },
        "outputId": "001f5af1-a278-4140-8be5-ee6721520b04",
        "id": "8mibUEcgkCmj"
      },
      "execution_count": null,
      "outputs": [
        {
          "output_type": "execute_result",
          "data": {
            "text/plain": [
              "'Water is important, it is very scarce.'"
            ],
            "application/vnd.google.colaboratory.intrinsic+json": {
              "type": "string"
            }
          },
          "metadata": {},
          "execution_count": 24
        }
      ]
    },
    {
      "cell_type": "markdown",
      "source": [
        "### 49. Insert a word at the nth position in a string."
      ],
      "metadata": {
        "id": "39pFAwVVkCpw"
      }
    },
    {
      "cell_type": "code",
      "execution_count": null,
      "metadata": {
        "id": "dL1bX14JkCpw"
      },
      "outputs": [],
      "source": [
        "def insertAtN(string,new_word,n):\n",
        "  '''insert word at nth position\n",
        "\n",
        "  Parameters\n",
        "  string\n",
        "  new_word: word to be added\n",
        "  n: add the word at nth pos\n",
        "\n",
        "  Returns\n",
        "  updated string\n",
        "  '''\n",
        "  string_list = string.split(' ')\n",
        "  string_list.insert(n,new_word)\n",
        "  new_string = ' '.join(string_list)\n",
        "  return new_string"
      ]
    },
    {
      "cell_type": "code",
      "source": [
        "insertAtN('Water is important, it is very scarce.','although',3)"
      ],
      "metadata": {
        "colab": {
          "base_uri": "https://localhost:8080/",
          "height": 36
        },
        "outputId": "c2fdbfdc-4fd7-44a7-c7a5-77f7f1f17af4",
        "id": "4yX8zMxSkCpw"
      },
      "execution_count": null,
      "outputs": [
        {
          "output_type": "execute_result",
          "data": {
            "text/plain": [
              "'Water is important, although it is very scarce.'"
            ],
            "application/vnd.google.colaboratory.intrinsic+json": {
              "type": "string"
            }
          },
          "metadata": {},
          "execution_count": 28
        }
      ]
    },
    {
      "cell_type": "markdown",
      "source": [
        "### 50. Convert a CSV string to a list of lists."
      ],
      "metadata": {
        "id": "hlKlY2GGkCs0"
      }
    },
    {
      "cell_type": "code",
      "source": [
        "csv = '''name, id, favorite food\n",
        "quincy, 1, hot dogs\n",
        "beau, 2, cereal\n",
        "abbey, 3, pizza\n",
        "mrugesh, 4, ice cream'''"
      ],
      "metadata": {
        "id": "7tp55n_sSPRD"
      },
      "execution_count": null,
      "outputs": []
    },
    {
      "cell_type": "code",
      "execution_count": null,
      "metadata": {
        "id": "1cFxY999kCs1"
      },
      "outputs": [],
      "source": [
        "def convertCSVtoList(csv):\n",
        "  '''convert a CSV string into list of lists\n",
        "\n",
        "  Parameters\n",
        "  string: in form of csv\n",
        "\n",
        "  Returns\n",
        "  2D List/ List of Lists\n",
        "  '''\n",
        "  # splitting the string into lines\n",
        "  lines = csv.split('\\n')\n",
        "  list2D = []\n",
        "  for line in lines:\n",
        "    # splitting the line into values\n",
        "    row = line.split(',')\n",
        "    list2D.append(row)\n",
        "  return list2D"
      ]
    },
    {
      "cell_type": "code",
      "source": [
        "convertCSVtoList(csv)"
      ],
      "metadata": {
        "colab": {
          "base_uri": "https://localhost:8080/"
        },
        "outputId": "bde8f0b9-266a-42cd-ff8f-b7604236b74a",
        "id": "E_Sf602PkCs1"
      },
      "execution_count": null,
      "outputs": [
        {
          "output_type": "execute_result",
          "data": {
            "text/plain": [
              "[['name', ' id', ' favorite food'],\n",
              " ['quincy', ' 1', ' hot dogs'],\n",
              " ['beau', ' 2', ' cereal'],\n",
              " ['abbey', ' 3', ' pizza'],\n",
              " ['mrugesh', ' 4', ' ice cream']]"
            ]
          },
          "metadata": {},
          "execution_count": 35
        }
      ]
    },
    {
      "cell_type": "markdown",
      "source": [
        "# List Based Assignment Problem"
      ],
      "metadata": {
        "id": "GzEcs2rcoWGB"
      }
    },
    {
      "cell_type": "markdown",
      "source": [
        "### 1. Create a list with integers from 1 to 10."
      ],
      "metadata": {
        "id": "wnQ71c_coWGK"
      }
    },
    {
      "cell_type": "code",
      "execution_count": null,
      "metadata": {
        "colab": {
          "base_uri": "https://localhost:8080/"
        },
        "outputId": "9c1a8064-cf81-4847-e2d5-1d826b5af2f3",
        "id": "R0GiaM4ToWGL"
      },
      "outputs": [
        {
          "output_type": "execute_result",
          "data": {
            "text/plain": [
              "[1, 2, 3, 4, 5, 6, 7, 8, 9, 10]"
            ]
          },
          "metadata": {},
          "execution_count": 2
        }
      ],
      "source": [
        "# using range() to create a range of nos. from 1-10 and then convert it to list\n",
        "int_list = list(range(1,11))\n",
        "int_list"
      ]
    },
    {
      "cell_type": "markdown",
      "source": [
        "### 2. Find the length of a list without using the `len()` function."
      ],
      "metadata": {
        "id": "D63yLCpqoWGL"
      }
    },
    {
      "cell_type": "code",
      "execution_count": null,
      "metadata": {
        "id": "cEDdATNKoWGL"
      },
      "outputs": [],
      "source": [
        "def length(l):\n",
        "  ''' custom length finder for the given list\n",
        "\n",
        "  Parameters\n",
        "  l: list\n",
        "\n",
        "  Returns\n",
        "  int value: length\n",
        "  '''\n",
        "  count = 0\n",
        "  # using for loop to iterate over all values and increment count for each value\n",
        "  for _ in l:\n",
        "    count += 1\n",
        "  return count"
      ]
    },
    {
      "cell_type": "code",
      "source": [
        "length(int_list)"
      ],
      "metadata": {
        "colab": {
          "base_uri": "https://localhost:8080/"
        },
        "id": "xhydZ_Y9p2tV",
        "outputId": "c459b5d8-039a-4001-b325-626dc29e40af"
      },
      "execution_count": null,
      "outputs": [
        {
          "output_type": "execute_result",
          "data": {
            "text/plain": [
              "10"
            ]
          },
          "metadata": {},
          "execution_count": 4
        }
      ]
    },
    {
      "cell_type": "markdown",
      "source": [
        "### 3. Append an element to the end of a list."
      ],
      "metadata": {
        "id": "FK2JRhHaoWGL"
      }
    },
    {
      "cell_type": "code",
      "execution_count": null,
      "metadata": {
        "colab": {
          "base_uri": "https://localhost:8080/"
        },
        "outputId": "fa17f050-fc4b-4fa7-8810-c00990b613dd",
        "id": "1z6VnCFHoWGL"
      },
      "outputs": [
        {
          "output_type": "execute_result",
          "data": {
            "text/plain": [
              "[1, 2, 3, 4, 5, 6, 7, 8, 9, 10, 11]"
            ]
          },
          "metadata": {},
          "execution_count": 5
        }
      ],
      "source": [
        "# using .append() to add new value at the end of the list\n",
        "int_list.append(11)\n",
        "int_list"
      ]
    },
    {
      "cell_type": "markdown",
      "source": [
        "### 4. Insert an element at a specific index in a list."
      ],
      "metadata": {
        "id": "0UpEWf7boWGM"
      }
    },
    {
      "cell_type": "code",
      "execution_count": null,
      "metadata": {
        "id": "x0fxw5vloWGM"
      },
      "outputs": [],
      "source": [
        "def insertElement(l,element,index):\n",
        "  '''insert new element at the specified index of the list\n",
        "\n",
        "  Parameters\n",
        "  l: list in which element is to be added\n",
        "  element: value to be added\n",
        "  index: index of list at which element needs to be added\n",
        "  '''\n",
        "  # using .insert() built in func to insert an element\n",
        "  l.insert(index,element)\n",
        "  return l"
      ]
    },
    {
      "cell_type": "code",
      "source": [
        "insertElement([1,2,3,41,24,22],21,5)"
      ],
      "metadata": {
        "colab": {
          "base_uri": "https://localhost:8080/"
        },
        "id": "Qa9yDtTvBz0K",
        "outputId": "3a5ec65f-87a2-4c94-d19f-483fcd4ec825"
      },
      "execution_count": null,
      "outputs": [
        {
          "output_type": "execute_result",
          "data": {
            "text/plain": [
              "[1, 2, 3, 41, 24, 21, 22]"
            ]
          },
          "metadata": {},
          "execution_count": 115
        }
      ]
    },
    {
      "cell_type": "code",
      "source": [
        "insertElement([1,2,3,41,24,22],21,10)"
      ],
      "metadata": {
        "colab": {
          "base_uri": "https://localhost:8080/"
        },
        "id": "OHyLbFS2CVVL",
        "outputId": "0e7e4fa4-ab87-4e4c-8eef-d52ef5eb5260"
      },
      "execution_count": null,
      "outputs": [
        {
          "output_type": "execute_result",
          "data": {
            "text/plain": [
              "[1, 2, 3, 41, 24, 22, 21]"
            ]
          },
          "metadata": {},
          "execution_count": 116
        }
      ]
    },
    {
      "cell_type": "markdown",
      "source": [
        "### 5. Remove an element from a list by its value."
      ],
      "metadata": {
        "id": "J-eqYXVWoWGM"
      }
    },
    {
      "cell_type": "code",
      "execution_count": null,
      "metadata": {
        "colab": {
          "base_uri": "https://localhost:8080/"
        },
        "outputId": "e0521bd6-8f22-4b33-df86-603a683badf2",
        "id": "RKNL1PsvoWGM"
      },
      "outputs": [
        {
          "output_type": "execute_result",
          "data": {
            "text/plain": [
              "[1, 4, 9, 16, 25, 36, 43, 49, 49, 64, 81, 100]"
            ]
          },
          "metadata": {},
          "execution_count": 9
        }
      ],
      "source": [
        "list1 = [1,4,9,16,25,36,43,49,49,64,81,100]\n",
        "list1"
      ]
    },
    {
      "cell_type": "code",
      "source": [
        "# using remove() to remove a value from the list\n",
        "list1.remove(43)\n",
        "# the function only removes first instance of the specific value\n",
        "list1.remove(49)\n",
        "list1"
      ],
      "metadata": {
        "colab": {
          "base_uri": "https://localhost:8080/"
        },
        "id": "KqNRpbTmDneH",
        "outputId": "f725cd50-9f28-4cc7-bc7f-c7735e050791"
      },
      "execution_count": null,
      "outputs": [
        {
          "output_type": "execute_result",
          "data": {
            "text/plain": [
              "[1, 4, 9, 16, 25, 36, 49, 64, 81, 100]"
            ]
          },
          "metadata": {},
          "execution_count": 10
        }
      ]
    },
    {
      "cell_type": "markdown",
      "source": [
        "### 6. Remove an element from a list by its index."
      ],
      "metadata": {
        "id": "Yw7mKiFWEvRO"
      }
    },
    {
      "cell_type": "code",
      "source": [
        "# using pop() to remove a value at the specific index from the list\n",
        "removed_element = list1.pop(9)\n",
        "print(\"Removed Element: \",removed_element)\n",
        "print(\"Updated List: \",list1)"
      ],
      "metadata": {
        "outputId": "58e0f592-0430-411a-ce48-168814f7dd09",
        "colab": {
          "base_uri": "https://localhost:8080/"
        },
        "id": "kthIUW3JEvRV"
      },
      "execution_count": null,
      "outputs": [
        {
          "output_type": "stream",
          "name": "stdout",
          "text": [
            "Removed Element:  100\n",
            "Updated List:  [1, 4, 9, 16, 25, 36, 49, 64, 81]\n"
          ]
        }
      ]
    },
    {
      "cell_type": "markdown",
      "source": [
        "### 7. Check if an element exists in a list."
      ],
      "metadata": {
        "id": "ntfpONcToWGM"
      }
    },
    {
      "cell_type": "code",
      "execution_count": null,
      "metadata": {
        "id": "LMlXmnaZoWGM"
      },
      "outputs": [],
      "source": [
        "def checkElement(l,element):\n",
        "  '''check if element exists in the list\n",
        "\n",
        "  Parameters\n",
        "  l: list in which element is to be checked\n",
        "  element: value to be checked\n",
        "\n",
        "  Returns\n",
        "  bool value\n",
        "  '''\n",
        "  # using in to check if value is there\n",
        "  if element in l:\n",
        "    return True\n",
        "  else:\n",
        "    return False"
      ]
    },
    {
      "cell_type": "code",
      "source": [
        "checkElement(list1,49)"
      ],
      "metadata": {
        "colab": {
          "base_uri": "https://localhost:8080/"
        },
        "id": "OLSSNrYeHPXK",
        "outputId": "6b609512-435c-4e36-b478-aec60480bd1e"
      },
      "execution_count": null,
      "outputs": [
        {
          "output_type": "execute_result",
          "data": {
            "text/plain": [
              "True"
            ]
          },
          "metadata": {},
          "execution_count": 13
        }
      ]
    },
    {
      "cell_type": "code",
      "source": [
        "checkElement(list1,42)"
      ],
      "metadata": {
        "colab": {
          "base_uri": "https://localhost:8080/"
        },
        "id": "LQoojcYjHV7B",
        "outputId": "2a259f49-91e0-4bbb-8dde-85d97886865d"
      },
      "execution_count": null,
      "outputs": [
        {
          "output_type": "execute_result",
          "data": {
            "text/plain": [
              "False"
            ]
          },
          "metadata": {},
          "execution_count": 14
        }
      ]
    },
    {
      "cell_type": "markdown",
      "source": [
        "### 8. Find the index of the first occurrence of an element in a list."
      ],
      "metadata": {
        "id": "K5dWVETroWGM"
      }
    },
    {
      "cell_type": "code",
      "execution_count": null,
      "metadata": {
        "colab": {
          "base_uri": "https://localhost:8080/"
        },
        "outputId": "76449cbf-ba19-4136-a1ba-84afa9f1b8fa",
        "id": "MGM6kbhsoWGN"
      },
      "outputs": [
        {
          "output_type": "execute_result",
          "data": {
            "text/plain": [
              "2"
            ]
          },
          "metadata": {},
          "execution_count": 15
        }
      ],
      "source": [
        "# using index() to find the index of the first occurence\n",
        "list2 = [1,2,3,1,2,3,3,43,3]\n",
        "list2.index(3)"
      ]
    },
    {
      "cell_type": "markdown",
      "source": [
        "### 9. Count the occurrences of an element in a list."
      ],
      "metadata": {
        "id": "BY-kvwx3oWGN"
      }
    },
    {
      "cell_type": "code",
      "execution_count": null,
      "metadata": {
        "colab": {
          "base_uri": "https://localhost:8080/"
        },
        "outputId": "af893b79-4525-4eac-90f5-ac8acd4cab8b",
        "id": "XqfNoSHooWGN"
      },
      "outputs": [
        {
          "output_type": "execute_result",
          "data": {
            "text/plain": [
              "4"
            ]
          },
          "metadata": {},
          "execution_count": 16
        }
      ],
      "source": [
        "# using count() to find the no. of occurences of an element\n",
        "list2.count(3)"
      ]
    },
    {
      "cell_type": "code",
      "source": [
        "list2.count(1)"
      ],
      "metadata": {
        "colab": {
          "base_uri": "https://localhost:8080/"
        },
        "id": "zKC-30sXIw24",
        "outputId": "49d650c9-374d-4887-d0ab-4fd8e2ab41af"
      },
      "execution_count": null,
      "outputs": [
        {
          "output_type": "execute_result",
          "data": {
            "text/plain": [
              "2"
            ]
          },
          "metadata": {},
          "execution_count": 17
        }
      ]
    },
    {
      "cell_type": "markdown",
      "source": [
        "### 10. Reverse the order of elements in a list."
      ],
      "metadata": {
        "id": "zszW196toWGN"
      }
    },
    {
      "cell_type": "code",
      "execution_count": null,
      "metadata": {
        "id": "LG_4-lzWoWGO",
        "colab": {
          "base_uri": "https://localhost:8080/"
        },
        "outputId": "32cd711c-b9d3-4a61-d1bb-2ffd8b1a4932"
      },
      "outputs": [
        {
          "output_type": "execute_result",
          "data": {
            "text/plain": [
              "[81, 64, 49, 36, 25, 16, 9, 4, 1]"
            ]
          },
          "metadata": {},
          "execution_count": 18
        }
      ],
      "source": [
        "# using .reverse() to reverse the order of the elements\n",
        "list1.reverse()\n",
        "list1"
      ]
    },
    {
      "cell_type": "markdown",
      "source": [
        "### 11. Sort a list in ascending order."
      ],
      "metadata": {
        "id": "EbwPhuZkoWGO"
      }
    },
    {
      "cell_type": "code",
      "execution_count": null,
      "metadata": {
        "id": "g-vFKxbIoWGO",
        "colab": {
          "base_uri": "https://localhost:8080/"
        },
        "outputId": "22e1527a-b257-4ec0-c16b-a831ae19f4d4"
      },
      "outputs": [
        {
          "output_type": "execute_result",
          "data": {
            "text/plain": [
              "[1, 4, 9, 16, 25, 36, 49, 64, 81]"
            ]
          },
          "metadata": {},
          "execution_count": 19
        }
      ],
      "source": [
        "# sort() to sort list in ascending order\n",
        "list1.sort()\n",
        "list1"
      ]
    },
    {
      "cell_type": "code",
      "source": [
        "list2.sort()\n",
        "list2"
      ],
      "metadata": {
        "id": "6k1AqGRfOKJl",
        "outputId": "66ec9b3f-de51-4b0f-f4e0-c5d32841bb1e",
        "colab": {
          "base_uri": "https://localhost:8080/"
        }
      },
      "execution_count": null,
      "outputs": [
        {
          "output_type": "execute_result",
          "data": {
            "text/plain": [
              "[1, 1, 2, 2, 3, 3, 3, 3, 43]"
            ]
          },
          "metadata": {},
          "execution_count": 20
        }
      ]
    },
    {
      "cell_type": "markdown",
      "source": [
        "### 12. Sort a list in descending order."
      ],
      "metadata": {
        "id": "aTkJsk91oWGP"
      }
    },
    {
      "cell_type": "code",
      "execution_count": null,
      "metadata": {
        "id": "xzza4PbkoWGP",
        "colab": {
          "base_uri": "https://localhost:8080/"
        },
        "outputId": "e8cf593c-0c35-454d-c5de-17bde8ee1132"
      },
      "outputs": [
        {
          "output_type": "execute_result",
          "data": {
            "text/plain": [
              "[81, 64, 49, 36, 25, 16, 9, 4, 1]"
            ]
          },
          "metadata": {},
          "execution_count": 21
        }
      ],
      "source": [
        "# using sort() with setting parameter reverse = True for descending order\n",
        "list1.sort(reverse=True)\n",
        "list1"
      ]
    },
    {
      "cell_type": "code",
      "source": [
        "list2.sort(reverse=True)\n",
        "list2"
      ],
      "metadata": {
        "colab": {
          "base_uri": "https://localhost:8080/"
        },
        "outputId": "19b3ad6a-074f-424a-ad98-eb8d5f37294a",
        "id": "4zW-ePjnoWGP"
      },
      "execution_count": null,
      "outputs": [
        {
          "output_type": "execute_result",
          "data": {
            "text/plain": [
              "[43, 3, 3, 3, 3, 2, 2, 1, 1]"
            ]
          },
          "metadata": {},
          "execution_count": 22
        }
      ]
    },
    {
      "cell_type": "markdown",
      "source": [
        "### 13. Create a list of even numbers from 1 to 20."
      ],
      "metadata": {
        "id": "Gz2DJ-Y5oWGP"
      }
    },
    {
      "cell_type": "code",
      "execution_count": null,
      "metadata": {
        "id": "gRIIpLD3oWGP",
        "colab": {
          "base_uri": "https://localhost:8080/"
        },
        "outputId": "98ff1f7e-6249-4d1a-dc54-b96095530fe9"
      },
      "outputs": [
        {
          "output_type": "execute_result",
          "data": {
            "text/plain": [
              "[2, 4, 6, 8, 10, 12, 14, 16, 18, 20]"
            ]
          },
          "metadata": {},
          "execution_count": 23
        }
      ],
      "source": [
        "# using range() which starts from 2-20 and increments with 2\n",
        "even_list = list(range(2,21,2))\n",
        "even_list"
      ]
    },
    {
      "cell_type": "code",
      "source": [
        "# using list comprehension to generate a list of even nos\n",
        "even_list = [i for i in range(1,21) if i%2==0]\n",
        "even_list"
      ],
      "metadata": {
        "colab": {
          "base_uri": "https://localhost:8080/"
        },
        "outputId": "c6085462-5a86-4a00-d68e-dfe259cac001",
        "id": "k_wUeXokoWGQ"
      },
      "execution_count": null,
      "outputs": [
        {
          "output_type": "execute_result",
          "data": {
            "text/plain": [
              "[2, 4, 6, 8, 10, 12, 14, 16, 18, 20]"
            ]
          },
          "metadata": {},
          "execution_count": 24
        }
      ]
    },
    {
      "cell_type": "markdown",
      "source": [
        "### 14. Create a list of odd numbers from 1 to 20.\n"
      ],
      "metadata": {
        "id": "nu_qgmjJP5ti"
      }
    },
    {
      "cell_type": "code",
      "execution_count": null,
      "metadata": {
        "colab": {
          "base_uri": "https://localhost:8080/"
        },
        "outputId": "c2812d51-85bd-48a8-a280-74587fd158b5",
        "id": "8Lw1M8QDP5tp"
      },
      "outputs": [
        {
          "output_type": "execute_result",
          "data": {
            "text/plain": [
              "[1, 3, 5, 7, 9, 11, 13, 15, 17, 19]"
            ]
          },
          "metadata": {},
          "execution_count": 25
        }
      ],
      "source": [
        "# using range() which starts from 1-20 and increments with 2\n",
        "odd_list = list(range(1,21,2))\n",
        "odd_list"
      ]
    },
    {
      "cell_type": "code",
      "source": [
        "# using list comprehension to generate a list of odd nos\n",
        "odd_list = [i for i in range(1,21) if i%2==1]\n",
        "odd_list"
      ],
      "metadata": {
        "colab": {
          "base_uri": "https://localhost:8080/"
        },
        "outputId": "8be212dc-a487-43ae-a271-aeb6c567f0f5",
        "id": "Y8vEZ9b2P5tq"
      },
      "execution_count": null,
      "outputs": [
        {
          "output_type": "execute_result",
          "data": {
            "text/plain": [
              "[1, 3, 5, 7, 9, 11, 13, 15, 17, 19]"
            ]
          },
          "metadata": {},
          "execution_count": 26
        }
      ]
    },
    {
      "cell_type": "markdown",
      "source": [
        "### 15. Find the sum of all elements in a list."
      ],
      "metadata": {
        "id": "uSGJfAS3oWGR"
      }
    },
    {
      "cell_type": "code",
      "execution_count": null,
      "metadata": {
        "id": "XDvFnUFfoWGR",
        "colab": {
          "base_uri": "https://localhost:8080/"
        },
        "outputId": "863d1ccf-a7b6-49c6-9ecf-8a967a51100d"
      },
      "outputs": [
        {
          "output_type": "execute_result",
          "data": {
            "text/plain": [
              "100"
            ]
          },
          "metadata": {},
          "execution_count": 27
        }
      ],
      "source": [
        "# using sum() to find the sum of all elements in the list\n",
        "sum(odd_list)"
      ]
    },
    {
      "cell_type": "code",
      "source": [
        "sum(even_list)"
      ],
      "metadata": {
        "colab": {
          "base_uri": "https://localhost:8080/"
        },
        "outputId": "6b638636-366e-45a1-ed4f-b63cdc0ed50d",
        "id": "2JfgbEauoWGR"
      },
      "execution_count": null,
      "outputs": [
        {
          "output_type": "execute_result",
          "data": {
            "text/plain": [
              "110"
            ]
          },
          "metadata": {},
          "execution_count": 28
        }
      ]
    },
    {
      "cell_type": "markdown",
      "source": [
        "### 16. Find the maximum value in a list."
      ],
      "metadata": {
        "id": "3f_fTGmooWGR"
      }
    },
    {
      "cell_type": "code",
      "execution_count": null,
      "metadata": {
        "id": "BclHba1moWGR",
        "colab": {
          "base_uri": "https://localhost:8080/"
        },
        "outputId": "ff32f66e-d231-4841-f1f4-4a6dff64affa"
      },
      "outputs": [
        {
          "output_type": "execute_result",
          "data": {
            "text/plain": [
              "19"
            ]
          },
          "metadata": {},
          "execution_count": 29
        }
      ],
      "source": [
        "# using max() to find the maximum element in the list\n",
        "max(odd_list)"
      ]
    },
    {
      "cell_type": "code",
      "source": [
        "max(even_list)"
      ],
      "metadata": {
        "colab": {
          "base_uri": "https://localhost:8080/"
        },
        "outputId": "69e39d40-dc66-4039-99ff-a3884a46885f",
        "id": "07QBWa3-oWGR"
      },
      "execution_count": null,
      "outputs": [
        {
          "output_type": "execute_result",
          "data": {
            "text/plain": [
              "20"
            ]
          },
          "metadata": {},
          "execution_count": 30
        }
      ]
    },
    {
      "cell_type": "markdown",
      "source": [
        "### 17. Find the minimum value in a list."
      ],
      "metadata": {
        "id": "QU0qljJSRVni"
      }
    },
    {
      "cell_type": "code",
      "execution_count": null,
      "metadata": {
        "colab": {
          "base_uri": "https://localhost:8080/"
        },
        "outputId": "e70303bb-a171-4762-c72c-53f6e59306b9",
        "id": "H6H3fMbKRVnq"
      },
      "outputs": [
        {
          "output_type": "execute_result",
          "data": {
            "text/plain": [
              "1"
            ]
          },
          "metadata": {},
          "execution_count": 31
        }
      ],
      "source": [
        "# using min() to find the maximum element in the list\n",
        "min(odd_list)"
      ]
    },
    {
      "cell_type": "code",
      "source": [
        "min(even_list)"
      ],
      "metadata": {
        "colab": {
          "base_uri": "https://localhost:8080/"
        },
        "outputId": "0211661b-aa51-4825-853f-47916628cb76",
        "id": "qJm82Vj1RVnq"
      },
      "execution_count": null,
      "outputs": [
        {
          "output_type": "execute_result",
          "data": {
            "text/plain": [
              "2"
            ]
          },
          "metadata": {},
          "execution_count": 32
        }
      ]
    },
    {
      "cell_type": "markdown",
      "source": [
        "### 18. Create a list of squares of numbers from 1 to 10."
      ],
      "metadata": {
        "id": "ZejhYro4oWGS"
      }
    },
    {
      "cell_type": "code",
      "execution_count": null,
      "metadata": {
        "id": "qNXjYfT0oWGS",
        "colab": {
          "base_uri": "https://localhost:8080/"
        },
        "outputId": "ed635b5b-0d98-429b-b503-1ec8a3cee3ab"
      },
      "outputs": [
        {
          "output_type": "execute_result",
          "data": {
            "text/plain": [
              "[1, 4, 9, 16, 25, 36, 49, 64, 81, 100]"
            ]
          },
          "metadata": {},
          "execution_count": 33
        }
      ],
      "source": [
        "# using list comprehension to create a list of squares\n",
        "squares_list = [i**2 for i in range(1,11)]\n",
        "squares_list"
      ]
    },
    {
      "cell_type": "markdown",
      "source": [
        "### 19. Create a list of random numbers."
      ],
      "metadata": {
        "id": "ww-xfKFuoWGT"
      }
    },
    {
      "cell_type": "code",
      "execution_count": null,
      "metadata": {
        "id": "ZfkTguWwoWGT",
        "colab": {
          "base_uri": "https://localhost:8080/"
        },
        "outputId": "376a8867-953b-4ed0-bf3e-e4c5fde90974"
      },
      "outputs": [
        {
          "output_type": "execute_result",
          "data": {
            "text/plain": [
              "[41, 8, 49, 23, 21, 35, 38, 12, 1, 13]"
            ]
          },
          "metadata": {},
          "execution_count": 34
        }
      ],
      "source": [
        "import random\n",
        "# using random.sample() to create a list of random nos.\n",
        "# nos. are between 1-49 and the length of list is 10\n",
        "random_list = random.sample(range(1, 50), 10)\n",
        "random_list"
      ]
    },
    {
      "cell_type": "markdown",
      "source": [
        "### 20. Remove duplicates from a list."
      ],
      "metadata": {
        "id": "iuWDC32HoWGT"
      }
    },
    {
      "cell_type": "code",
      "execution_count": null,
      "metadata": {
        "id": "0WuHCZGLoWGT"
      },
      "outputs": [],
      "source": [
        "def removeDuplicates(l):\n",
        "  '''remove the duplicates from the list\n",
        "\n",
        "  Parameters\n",
        "  list: with duplicates\n",
        "\n",
        "  Returns\n",
        "  list with unique elements\n",
        "  '''\n",
        "  # set only has the values once, i.e. stores unique values/elements\n",
        "  uniq_set = set(l)\n",
        "  return list(uniq_set)"
      ]
    },
    {
      "cell_type": "code",
      "source": [
        "list2"
      ],
      "metadata": {
        "colab": {
          "base_uri": "https://localhost:8080/"
        },
        "outputId": "bfcf98ef-88bd-4f2a-b4e9-7dc980e3bb54",
        "id": "TNk6I4OwoWGT"
      },
      "execution_count": null,
      "outputs": [
        {
          "output_type": "execute_result",
          "data": {
            "text/plain": [
              "[43, 3, 3, 3, 3, 2, 2, 1, 1]"
            ]
          },
          "metadata": {},
          "execution_count": 36
        }
      ]
    },
    {
      "cell_type": "code",
      "source": [
        "removeDuplicates(list2)"
      ],
      "metadata": {
        "id": "e5m7hSOiUSxX",
        "outputId": "5ede0ea1-f157-47cd-8004-dc1654b6212c",
        "colab": {
          "base_uri": "https://localhost:8080/"
        }
      },
      "execution_count": null,
      "outputs": [
        {
          "output_type": "execute_result",
          "data": {
            "text/plain": [
              "[3, 1, 2, 43]"
            ]
          },
          "metadata": {},
          "execution_count": 37
        }
      ]
    },
    {
      "cell_type": "markdown",
      "source": [
        "### 21. Find the common elements between two lists."
      ],
      "metadata": {
        "id": "6A9ycY3KoWGU"
      }
    },
    {
      "cell_type": "code",
      "execution_count": null,
      "metadata": {
        "id": "EiYh8IAvoWGU"
      },
      "outputs": [],
      "source": [
        "def findCommonElements(list1,list2):\n",
        "  '''find the common elements in the two lists\n",
        "\n",
        "  Parameters (lists to check the elements)\n",
        "  list1\n",
        "  list2\n",
        "\n",
        "  Returns\n",
        "  list with common elements\n",
        "  '''\n",
        "  common_list = [i for i in list1 if i in list2]\n",
        "  return common_list"
      ]
    },
    {
      "cell_type": "code",
      "source": [
        "findCommonElements(squares_list,even_list)"
      ],
      "metadata": {
        "colab": {
          "base_uri": "https://localhost:8080/"
        },
        "id": "W1lCkQzYWIdq",
        "outputId": "695e4a1d-f208-4176-8f6d-1ffa5b311759"
      },
      "execution_count": null,
      "outputs": [
        {
          "output_type": "execute_result",
          "data": {
            "text/plain": [
              "[4, 16]"
            ]
          },
          "metadata": {},
          "execution_count": 39
        }
      ]
    },
    {
      "cell_type": "code",
      "source": [
        "findCommonElements(squares_list,odd_list)"
      ],
      "metadata": {
        "colab": {
          "base_uri": "https://localhost:8080/"
        },
        "outputId": "a880a2b7-5462-4b17-f417-389d058da3d4",
        "id": "gYx_ajlioWGU"
      },
      "execution_count": null,
      "outputs": [
        {
          "output_type": "execute_result",
          "data": {
            "text/plain": [
              "[1, 9]"
            ]
          },
          "metadata": {},
          "execution_count": 40
        }
      ]
    },
    {
      "cell_type": "code",
      "source": [
        "findCommonElements(even_list,odd_list)"
      ],
      "metadata": {
        "colab": {
          "base_uri": "https://localhost:8080/"
        },
        "id": "UdYGezfOWas3",
        "outputId": "00e60eaa-217f-404e-bf11-361af230c3f2"
      },
      "execution_count": null,
      "outputs": [
        {
          "output_type": "execute_result",
          "data": {
            "text/plain": [
              "[]"
            ]
          },
          "metadata": {},
          "execution_count": 41
        }
      ]
    },
    {
      "cell_type": "markdown",
      "source": [
        "### 22. Find the difference between two lists."
      ],
      "metadata": {
        "id": "WF0X1VMjWxTq"
      }
    },
    {
      "cell_type": "code",
      "execution_count": null,
      "metadata": {
        "id": "tTZpBF0eWxTy"
      },
      "outputs": [],
      "source": [
        "def diffBetweenList(list1,list2):\n",
        "  '''find the difference between the two lists, i.e. elements in list1 that are not in list 2\n",
        "\n",
        "  Parameters\n",
        "  list1\n",
        "  list2\n",
        "\n",
        "  Returns\n",
        "  list with elements in list1 but not in list2\n",
        "  '''\n",
        "  diff_list = [i for i in list1 if i not in list2]\n",
        "  return diff_list"
      ]
    },
    {
      "cell_type": "code",
      "source": [
        "diffBetweenList(squares_list,even_list)"
      ],
      "metadata": {
        "outputId": "06abd5ec-cd26-4d27-d3d2-abcd1bbecbb8",
        "colab": {
          "base_uri": "https://localhost:8080/"
        },
        "id": "9v3Kz0FcWxTy"
      },
      "execution_count": null,
      "outputs": [
        {
          "output_type": "execute_result",
          "data": {
            "text/plain": [
              "[1, 9, 25, 36, 49, 64, 81, 100]"
            ]
          },
          "metadata": {},
          "execution_count": 43
        }
      ]
    },
    {
      "cell_type": "code",
      "source": [
        "diffBetweenList(squares_list,odd_list)"
      ],
      "metadata": {
        "colab": {
          "base_uri": "https://localhost:8080/"
        },
        "outputId": "2ba11f3b-ff2a-4505-add5-6d4830c72ea2",
        "id": "v6WZ5_WNWxTy"
      },
      "execution_count": null,
      "outputs": [
        {
          "output_type": "execute_result",
          "data": {
            "text/plain": [
              "[4, 16, 25, 36, 49, 64, 81, 100]"
            ]
          },
          "metadata": {},
          "execution_count": 44
        }
      ]
    },
    {
      "cell_type": "code",
      "source": [
        "diffBetweenList(even_list,odd_list)"
      ],
      "metadata": {
        "outputId": "186168fa-34e7-47ff-d51e-9fecd1bd3547",
        "colab": {
          "base_uri": "https://localhost:8080/"
        },
        "id": "3hzJEKubWxTy"
      },
      "execution_count": null,
      "outputs": [
        {
          "output_type": "execute_result",
          "data": {
            "text/plain": [
              "[2, 4, 6, 8, 10, 12, 14, 16, 18, 20]"
            ]
          },
          "metadata": {},
          "execution_count": 45
        }
      ]
    },
    {
      "cell_type": "markdown",
      "source": [
        "### 23. Merge two lists."
      ],
      "metadata": {
        "id": "M3e21OHloWGV"
      }
    },
    {
      "cell_type": "code",
      "source": [
        "print(list1)\n",
        "print(list2)"
      ],
      "metadata": {
        "id": "6yLsmvbrYo5c",
        "outputId": "c24e0237-185d-4a03-fb7d-40076ebbf3c4",
        "colab": {
          "base_uri": "https://localhost:8080/"
        }
      },
      "execution_count": null,
      "outputs": [
        {
          "output_type": "stream",
          "name": "stdout",
          "text": [
            "[81, 64, 49, 36, 25, 16, 9, 4, 1]\n",
            "[43, 3, 3, 3, 3, 2, 2, 1, 1]\n"
          ]
        }
      ]
    },
    {
      "cell_type": "code",
      "source": [
        "# create a merged list using + operator\n",
        "# this creates a new list\n",
        "merged_list = list1 + list2\n",
        "merged_list"
      ],
      "metadata": {
        "id": "hbRwqIQQYcsM",
        "outputId": "bec2670e-7a69-4bf5-9396-d72d9483a7e1",
        "colab": {
          "base_uri": "https://localhost:8080/"
        }
      },
      "execution_count": null,
      "outputs": [
        {
          "output_type": "execute_result",
          "data": {
            "text/plain": [
              "[81, 64, 49, 36, 25, 16, 9, 4, 1, 43, 3, 3, 3, 3, 2, 2, 1, 1]"
            ]
          },
          "metadata": {},
          "execution_count": 47
        }
      ]
    },
    {
      "cell_type": "code",
      "source": [
        "# this extends the list1 and changes the list1 and doesn't create a new merged list\n",
        "list1.extend(list2)\n",
        "list1"
      ],
      "metadata": {
        "id": "c9gBjjFHY9Hw",
        "outputId": "579a0553-7c26-4899-9d72-c58fb19c5123",
        "colab": {
          "base_uri": "https://localhost:8080/"
        }
      },
      "execution_count": null,
      "outputs": [
        {
          "output_type": "execute_result",
          "data": {
            "text/plain": [
              "[81, 64, 49, 36, 25, 16, 9, 4, 1, 43, 3, 3, 3, 3, 2, 2, 1, 1]"
            ]
          },
          "metadata": {},
          "execution_count": 48
        }
      ]
    },
    {
      "cell_type": "markdown",
      "source": [
        "### 24. Multiply all elements in a list by 2."
      ],
      "metadata": {
        "id": "Dgix8U5QoWGV"
      }
    },
    {
      "cell_type": "code",
      "execution_count": null,
      "metadata": {
        "id": "a0h7g3JGoWGV",
        "outputId": "2468fddf-d53f-4430-ba55-2aaa818c8597",
        "colab": {
          "base_uri": "https://localhost:8080/"
        }
      },
      "outputs": [
        {
          "output_type": "execute_result",
          "data": {
            "text/plain": [
              "[2, 8, 18, 32, 50, 72, 98, 128, 162, 200]"
            ]
          },
          "metadata": {},
          "execution_count": 49
        }
      ],
      "source": [
        "new_list = [x * 2 for x in squares_list]\n",
        "new_list"
      ]
    },
    {
      "cell_type": "markdown",
      "source": [
        "### 25. Filter out all even numbers from a list."
      ],
      "metadata": {
        "id": "6XsT4gSooWGW"
      }
    },
    {
      "cell_type": "code",
      "execution_count": null,
      "metadata": {
        "id": "EK4saTLNoWGW"
      },
      "outputs": [],
      "source": [
        "def filterEvenNos(list1):\n",
        "  '''filter out even numbers from the list\n",
        "\n",
        "  Parameters\n",
        "  list1\n",
        "\n",
        "  Returns\n",
        "  list without even nos\n",
        "  '''\n",
        "  new_list = [i for i in list1 if i%2!=0]\n",
        "  return new_list"
      ]
    },
    {
      "cell_type": "code",
      "source": [
        "filterEvenNos(squares_list)"
      ],
      "metadata": {
        "colab": {
          "base_uri": "https://localhost:8080/"
        },
        "outputId": "34da9bff-2b85-45e1-de4b-0abe85aa17e9",
        "id": "EhDngSiRoWGW"
      },
      "execution_count": null,
      "outputs": [
        {
          "output_type": "execute_result",
          "data": {
            "text/plain": [
              "[1, 9, 25, 49, 81]"
            ]
          },
          "metadata": {},
          "execution_count": 51
        }
      ]
    },
    {
      "cell_type": "code",
      "source": [
        "filterEvenNos(even_list)"
      ],
      "metadata": {
        "id": "KQTNPXFujQav",
        "outputId": "f96401c0-df16-4337-e806-65c581e2c527",
        "colab": {
          "base_uri": "https://localhost:8080/"
        }
      },
      "execution_count": null,
      "outputs": [
        {
          "output_type": "execute_result",
          "data": {
            "text/plain": [
              "[]"
            ]
          },
          "metadata": {},
          "execution_count": 52
        }
      ]
    },
    {
      "cell_type": "markdown",
      "source": [
        "### 26. Convert a list of strings to a list of integers."
      ],
      "metadata": {
        "id": "H3dI96rfoWGW"
      }
    },
    {
      "cell_type": "code",
      "execution_count": null,
      "metadata": {
        "id": "9RMbWH8poWGW"
      },
      "outputs": [],
      "source": [
        "def stringToIntList(list1):\n",
        "  '''convert a list of string to list of int\n",
        "\n",
        "  Parameters\n",
        "  list1: list of strings\n",
        "\n",
        "  Returns\n",
        "  list of int\n",
        "  '''\n",
        "  new_list = [int(i) for i in list1]\n",
        "  return new_list"
      ]
    },
    {
      "cell_type": "code",
      "source": [
        "stringToIntList(['1','-2','22','-1','11'])"
      ],
      "metadata": {
        "colab": {
          "base_uri": "https://localhost:8080/"
        },
        "outputId": "8bd21cdf-c061-4607-dd2d-b47554ba89c8",
        "id": "KfVjUlDzoWGX"
      },
      "execution_count": null,
      "outputs": [
        {
          "output_type": "execute_result",
          "data": {
            "text/plain": [
              "[1, -2, 22, -1, 11]"
            ]
          },
          "metadata": {},
          "execution_count": 54
        }
      ]
    },
    {
      "cell_type": "markdown",
      "source": [
        "### 27. Convert a list of integers to a list of strings."
      ],
      "metadata": {
        "id": "MR_adqa4nH8e"
      }
    },
    {
      "cell_type": "code",
      "execution_count": null,
      "metadata": {
        "id": "o_QUclw1nH8m"
      },
      "outputs": [],
      "source": [
        "def intToStringList(list1):\n",
        "  '''convert a list of int to list of strings\n",
        "\n",
        "  Parameters\n",
        "  list1: list of integers\n",
        "\n",
        "  Returns\n",
        "  list of str\n",
        "  '''\n",
        "  # type conversion using str()\n",
        "  new_list = [str(i) for i in list1]\n",
        "  return new_list"
      ]
    },
    {
      "cell_type": "code",
      "source": [
        "intToStringList(even_list)"
      ],
      "metadata": {
        "colab": {
          "base_uri": "https://localhost:8080/"
        },
        "outputId": "520eb5a6-7127-4c15-acf0-c71d8c616423",
        "id": "YtbIXD-BnH8n"
      },
      "execution_count": null,
      "outputs": [
        {
          "output_type": "execute_result",
          "data": {
            "text/plain": [
              "['2', '4', '6', '8', '10', '12', '14', '16', '18', '20']"
            ]
          },
          "metadata": {},
          "execution_count": 56
        }
      ]
    },
    {
      "cell_type": "markdown",
      "source": [
        "### 28. Flatten a nested list."
      ],
      "metadata": {
        "id": "-mhh5gu4oWGY"
      }
    },
    {
      "cell_type": "code",
      "execution_count": null,
      "metadata": {
        "id": "frxI2H1voWGY"
      },
      "outputs": [],
      "source": [
        "def flattenList(l):\n",
        "  '''flatten a nested list\n",
        "\n",
        "  Parameters\n",
        "  l: list\n",
        "\n",
        "  Returns\n",
        "  1D list\n",
        "  '''\n",
        "  new_list = []\n",
        "  for i in l:\n",
        "    # use extend() to extend if i is a list\n",
        "    # recursion is used for multi-nested list\n",
        "    if type(i) == list:\n",
        "      new_list.extend(flattenList(i))\n",
        "    # append if i is a value\n",
        "    else:\n",
        "      new_list.append(i)\n",
        "  return new_list"
      ]
    },
    {
      "cell_type": "code",
      "source": [
        "flattenList([1, 2, [3, 4, [5, 6]], 7, 8, [9, [10]]])"
      ],
      "metadata": {
        "colab": {
          "base_uri": "https://localhost:8080/"
        },
        "outputId": "ec6c0135-53ff-4db7-8328-7d4b18538b3c",
        "id": "aW0BmpRaoWGY"
      },
      "execution_count": null,
      "outputs": [
        {
          "output_type": "execute_result",
          "data": {
            "text/plain": [
              "[1, 2, 3, 4, 5, 6, 7, 8, 9, 10]"
            ]
          },
          "metadata": {},
          "execution_count": 58
        }
      ]
    },
    {
      "cell_type": "markdown",
      "source": [
        "### 29. Create a list of the first 10 Fibonacci numbers."
      ],
      "metadata": {
        "id": "FDqw62bRoWGY"
      }
    },
    {
      "cell_type": "code",
      "execution_count": null,
      "metadata": {
        "id": "_Ng4v69xoWGY"
      },
      "outputs": [],
      "source": [
        "def fibo(n):\n",
        "  '''finding the nth fibonacci number\n",
        "\n",
        "  Parameters\n",
        "  n: nth value in fibonacci sequence\n",
        "\n",
        "  Returns\n",
        "  int value\n",
        "  '''\n",
        "  if n <= 2:\n",
        "    return 1\n",
        "  else:\n",
        "    return fibo(n-1) + fibo(n-2)"
      ]
    },
    {
      "cell_type": "code",
      "source": [
        "# create a list of first 10 fiboacci nos using list comprehension and fibo()\n",
        "fibo_list = [fibo(i+1) for i in range(10)]\n",
        "fibo_list"
      ],
      "metadata": {
        "colab": {
          "base_uri": "https://localhost:8080/"
        },
        "outputId": "ad3ae07b-a142-4805-ac1b-751a848c293d",
        "id": "X0mEWSNNoWGY"
      },
      "execution_count": null,
      "outputs": [
        {
          "output_type": "execute_result",
          "data": {
            "text/plain": [
              "[1, 1, 2, 3, 5, 8, 13, 21, 34, 55]"
            ]
          },
          "metadata": {},
          "execution_count": 60
        }
      ]
    },
    {
      "cell_type": "markdown",
      "source": [
        "### 30. Check if a list is sorted."
      ],
      "metadata": {
        "id": "HHzonpchoWGZ"
      }
    },
    {
      "cell_type": "code",
      "execution_count": null,
      "metadata": {
        "id": "7biG_OoCoWGZ"
      },
      "outputs": [],
      "source": [
        "def checkSorted(l):\n",
        "  '''check if list is sorted\n",
        "\n",
        "  Parameters\n",
        "  l: list of values\n",
        "\n",
        "  Returns\n",
        "  bool value\n",
        "  '''\n",
        "  if l == sorted(l):\n",
        "    return True\n",
        "  else:\n",
        "    return False"
      ]
    },
    {
      "cell_type": "code",
      "source": [
        "print(list1)\n",
        "checkSorted(list1)"
      ],
      "metadata": {
        "colab": {
          "base_uri": "https://localhost:8080/"
        },
        "outputId": "b379cd9b-9005-4a27-ce22-dcc7829fd630",
        "id": "WjF4sgzPoWGZ"
      },
      "execution_count": null,
      "outputs": [
        {
          "output_type": "stream",
          "name": "stdout",
          "text": [
            "[81, 64, 49, 36, 25, 16, 9, 4, 1, 43, 3, 3, 3, 3, 2, 2, 1, 1]\n"
          ]
        },
        {
          "output_type": "execute_result",
          "data": {
            "text/plain": [
              "False"
            ]
          },
          "metadata": {},
          "execution_count": 62
        }
      ]
    },
    {
      "cell_type": "code",
      "source": [
        "print(list2)\n",
        "checkSorted(list2)"
      ],
      "metadata": {
        "id": "H131mF17vsv4",
        "outputId": "fb224441-4643-4f6d-eabc-efeae83c90e4",
        "colab": {
          "base_uri": "https://localhost:8080/"
        }
      },
      "execution_count": null,
      "outputs": [
        {
          "output_type": "stream",
          "name": "stdout",
          "text": [
            "[43, 3, 3, 3, 3, 2, 2, 1, 1]\n"
          ]
        },
        {
          "output_type": "execute_result",
          "data": {
            "text/plain": [
              "False"
            ]
          },
          "metadata": {},
          "execution_count": 63
        }
      ]
    },
    {
      "cell_type": "markdown",
      "source": [
        "### 31. Rotate a list to the left by `n` positions."
      ],
      "metadata": {
        "id": "qfxM9ZKyoWGa"
      }
    },
    {
      "cell_type": "code",
      "execution_count": null,
      "metadata": {
        "id": "pPEBte6ioWGa"
      },
      "outputs": [],
      "source": [
        "def rotateListLeft1(l,n):\n",
        "  '''rotate the list to the left by n positions\n",
        "\n",
        "  Parameters\n",
        "  l: list\n",
        "  n: no. of positions with which it needs to be rotated\n",
        "\n",
        "  Returns\n",
        "  new list rotated to left by n positions\n",
        "  '''\n",
        "  new_list = l.copy()\n",
        "  length = len(l)\n",
        "  for i in range(length):\n",
        "    index = (n+i)%length\n",
        "    new_list[i] = l[index]\n",
        "  return new_list"
      ]
    },
    {
      "cell_type": "code",
      "execution_count": null,
      "metadata": {
        "id": "uvcYSnXv0XMD"
      },
      "outputs": [],
      "source": [
        "def rotateListLeft2(l,n):\n",
        "  '''rotate the list by n positions\n",
        "\n",
        "  Parameters\n",
        "  l: list\n",
        "  n: no. of positions with which it needs to be rotated\n",
        "\n",
        "  Returns\n",
        "  new list rotated to left by n positions\n",
        "  '''\n",
        "  # normalizing the n value for cases n more than length of list\n",
        "  n = n%len(l)\n",
        "  new_list =  l[n:] + l[:n]\n",
        "  return new_list"
      ]
    },
    {
      "cell_type": "code",
      "source": [
        "squares_list"
      ],
      "metadata": {
        "colab": {
          "base_uri": "https://localhost:8080/"
        },
        "outputId": "eef55734-a8a5-4845-b0b1-700838b85d63",
        "id": "5JgqGSksoWGb"
      },
      "execution_count": null,
      "outputs": [
        {
          "output_type": "execute_result",
          "data": {
            "text/plain": [
              "[1, 4, 9, 16, 25, 36, 49, 64, 81, 100]"
            ]
          },
          "metadata": {},
          "execution_count": 66
        }
      ]
    },
    {
      "cell_type": "code",
      "source": [
        "rotateListLeft1(squares_list,13)"
      ],
      "metadata": {
        "colab": {
          "base_uri": "https://localhost:8080/"
        },
        "outputId": "5a0cd60a-613d-4422-a02f-b78e77b39f11",
        "id": "xrb_i4pwoWGb"
      },
      "execution_count": null,
      "outputs": [
        {
          "output_type": "execute_result",
          "data": {
            "text/plain": [
              "[16, 25, 36, 49, 64, 81, 100, 1, 4, 9]"
            ]
          },
          "metadata": {},
          "execution_count": 67
        }
      ]
    },
    {
      "cell_type": "code",
      "source": [
        "rotateListLeft2(squares_list,3)"
      ],
      "metadata": {
        "colab": {
          "base_uri": "https://localhost:8080/"
        },
        "outputId": "1e722e45-522f-4493-9723-cd5b510af510",
        "id": "KPAv9uTu3YCV"
      },
      "execution_count": null,
      "outputs": [
        {
          "output_type": "execute_result",
          "data": {
            "text/plain": [
              "[16, 25, 36, 49, 64, 81, 100, 1, 4, 9]"
            ]
          },
          "metadata": {},
          "execution_count": 68
        }
      ]
    },
    {
      "cell_type": "markdown",
      "source": [
        "### 32. Rotate a list to the right by `n` positions."
      ],
      "metadata": {
        "id": "qkkoMStn3jxl"
      }
    },
    {
      "cell_type": "code",
      "execution_count": null,
      "metadata": {
        "id": "lcaXDaZ73jxu"
      },
      "outputs": [],
      "source": [
        "def rotateListRight1(l,n):\n",
        "  '''rotate the list to the right by n positions\n",
        "\n",
        "  Parameters\n",
        "  l: list\n",
        "  n: no. of positions with which it needs to be rotated\n",
        "\n",
        "  Returns\n",
        "  new list rotated to right by n positions\n",
        "  '''\n",
        "  new_list = l.copy()\n",
        "  length = len(l)\n",
        "  for i in range(length):\n",
        "    index = abs((i-n)%length)\n",
        "    new_list[index] = l[i]\n",
        "  return new_list"
      ]
    },
    {
      "cell_type": "code",
      "execution_count": null,
      "metadata": {
        "id": "JWuZrUxh3jxv"
      },
      "outputs": [],
      "source": [
        "def rotateListRight2(l,n):\n",
        "  '''rotate the list by n positions by n positions\n",
        "\n",
        "  Parameters\n",
        "  l: list\n",
        "  n: no. of positions with which it needs to be rotated\n",
        "\n",
        "  Returns\n",
        "  new list rotated to Right by n positions\n",
        "  '''\n",
        "  # normalizing the n value for cases n more than length of list\n",
        "  n = n%len(l)\n",
        "  new_list =  l[-n:] + l[:-n]\n",
        "  return new_list"
      ]
    },
    {
      "cell_type": "code",
      "source": [
        "squares_list"
      ],
      "metadata": {
        "colab": {
          "base_uri": "https://localhost:8080/"
        },
        "outputId": "7512986b-a6dc-4773-c357-436ef4de8051",
        "id": "cHcVeRQ33jxv"
      },
      "execution_count": null,
      "outputs": [
        {
          "output_type": "execute_result",
          "data": {
            "text/plain": [
              "[1, 4, 9, 16, 25, 36, 49, 64, 81, 100]"
            ]
          },
          "metadata": {},
          "execution_count": 71
        }
      ]
    },
    {
      "cell_type": "code",
      "source": [
        "rotateListRight1(squares_list,13)"
      ],
      "metadata": {
        "colab": {
          "base_uri": "https://localhost:8080/"
        },
        "outputId": "063fb74b-b08a-414a-9ed8-c28253b20875",
        "id": "1i1wCMzj3jxv"
      },
      "execution_count": null,
      "outputs": [
        {
          "output_type": "execute_result",
          "data": {
            "text/plain": [
              "[16, 25, 36, 49, 64, 81, 100, 1, 4, 9]"
            ]
          },
          "metadata": {},
          "execution_count": 72
        }
      ]
    },
    {
      "cell_type": "code",
      "source": [
        "rotateListLeft2(squares_list,3)"
      ],
      "metadata": {
        "colab": {
          "base_uri": "https://localhost:8080/"
        },
        "outputId": "c450e04e-cb5a-44a2-c90e-6ff42b3bae10",
        "id": "TgBrgTC43jxv"
      },
      "execution_count": null,
      "outputs": [
        {
          "output_type": "execute_result",
          "data": {
            "text/plain": [
              "[16, 25, 36, 49, 64, 81, 100, 1, 4, 9]"
            ]
          },
          "metadata": {},
          "execution_count": 73
        }
      ]
    },
    {
      "cell_type": "markdown",
      "source": [
        "### 33. Create a list of prime numbers up to 50."
      ],
      "metadata": {
        "id": "U0yKrsGKoWGb"
      }
    },
    {
      "cell_type": "code",
      "execution_count": null,
      "metadata": {
        "id": "JdEIo_oeoWGb"
      },
      "outputs": [],
      "source": [
        "def isPrime(num):\n",
        "  '''check if the number is prime\n",
        "\n",
        "  Parameters\n",
        "  num: int value\n",
        "\n",
        "  Returns\n",
        "  bool value\n",
        "  '''\n",
        "  for i in range(2,num//2+1):\n",
        "    if num%i == 0:\n",
        "      return False\n",
        "  return True"
      ]
    },
    {
      "cell_type": "code",
      "source": [
        "# using list comprehension and the function isPrime() to get the the prime nos. upto 50\n",
        "prime_nos = [i for i in range(1,51) if isPrime(i)]\n",
        "prime_nos"
      ],
      "metadata": {
        "colab": {
          "base_uri": "https://localhost:8080/"
        },
        "outputId": "6df225b4-7550-47ce-f91d-527e66a3ce84",
        "id": "LBpaYgmloWGb"
      },
      "execution_count": null,
      "outputs": [
        {
          "output_type": "execute_result",
          "data": {
            "text/plain": [
              "[1, 2, 3, 5, 7, 11, 13, 17, 19, 23, 29, 31, 37, 41, 43, 47]"
            ]
          },
          "metadata": {},
          "execution_count": 75
        }
      ]
    },
    {
      "cell_type": "markdown",
      "source": [
        "### 34. Split a list into chunks of size `n`."
      ],
      "metadata": {
        "id": "eqkxYTznoWGb"
      }
    },
    {
      "cell_type": "code",
      "execution_count": null,
      "metadata": {
        "id": "4KT-XJTroWGb"
      },
      "outputs": [],
      "source": [
        "def createChunks(list1,n):\n",
        "  '''split a list into chunks of size n\n",
        "\n",
        "  Parameters\n",
        "  list1: list to be splitted\n",
        "  n: length of each chunk\n",
        "\n",
        "  Returns\n",
        "  list of chunks\n",
        "  '''\n",
        "  new_list = []\n",
        "  for i in range(0,len(list1),n):\n",
        "      chunk = list1[i:i+n]\n",
        "      # if length of list is less and there are not enough elements\n",
        "      # then for the last chunk initial elements of the list is added to make its size n\n",
        "      if i+n > len(list1):\n",
        "        chunk = chunk + list1[:(i+n)-len(list1)]\n",
        "      new_list.append(chunk)\n",
        "  return new_list"
      ]
    },
    {
      "cell_type": "code",
      "source": [
        "createChunks(squares_list,4)"
      ],
      "metadata": {
        "id": "OYpWsl1yEECF",
        "outputId": "dff7c74a-35f5-4144-99bb-df160b49494f",
        "colab": {
          "base_uri": "https://localhost:8080/"
        }
      },
      "execution_count": null,
      "outputs": [
        {
          "output_type": "execute_result",
          "data": {
            "text/plain": [
              "[[1, 4, 9, 16], [25, 36, 49, 64], [81, 100, 1, 4]]"
            ]
          },
          "metadata": {},
          "execution_count": 77
        }
      ]
    },
    {
      "cell_type": "markdown",
      "source": [
        "### 35. Find the second largest number in a list."
      ],
      "metadata": {
        "id": "bdm7WpaGi5RM"
      }
    },
    {
      "cell_type": "code",
      "execution_count": null,
      "metadata": {
        "id": "Eb-ksnsbi5RN"
      },
      "outputs": [],
      "source": [
        "def secondMax(l):\n",
        "  '''second max number in the list\n",
        "\n",
        "  Parameters\n",
        "  list1: list to find the second max value\n",
        "\n",
        "  Returns\n",
        "  int  value\n",
        "  '''\n",
        "  sorted_list = sorted(l)\n",
        "  return sorted_list[-2]"
      ]
    },
    {
      "cell_type": "code",
      "source": [
        "secondMax(squares_list)"
      ],
      "metadata": {
        "id": "mo0vCVkFi5RN",
        "colab": {
          "base_uri": "https://localhost:8080/"
        },
        "outputId": "5bae92c1-28d2-4a2e-dd0e-223ed9392b21"
      },
      "execution_count": null,
      "outputs": [
        {
          "output_type": "execute_result",
          "data": {
            "text/plain": [
              "81"
            ]
          },
          "metadata": {},
          "execution_count": 79
        }
      ]
    },
    {
      "cell_type": "markdown",
      "source": [
        "### 36. Replace every element in a list with its square."
      ],
      "metadata": {
        "id": "AYh-yGlOi5RN"
      }
    },
    {
      "cell_type": "code",
      "execution_count": null,
      "metadata": {
        "id": "lTqnIKbzi5RN",
        "colab": {
          "base_uri": "https://localhost:8080/"
        },
        "outputId": "7280281b-5b5a-4bc7-e4db-1df2bc5887ec"
      },
      "outputs": [
        {
          "output_type": "execute_result",
          "data": {
            "text/plain": [
              "[1, 2, 41, 12, 21]"
            ]
          },
          "metadata": {},
          "execution_count": 80
        }
      ],
      "source": [
        "lst = [1,2,41,12,21]\n",
        "lst"
      ]
    },
    {
      "cell_type": "code",
      "source": [
        "# update the lst with the square of the elements and use list comprehension to store it as a list\n",
        "lst = [i**2 for i in lst]\n",
        "lst"
      ],
      "metadata": {
        "id": "ENkPJp39gxXJ",
        "colab": {
          "base_uri": "https://localhost:8080/"
        },
        "outputId": "cd8c0d79-e6e2-4b01-ae49-2d31187210e4"
      },
      "execution_count": null,
      "outputs": [
        {
          "output_type": "execute_result",
          "data": {
            "text/plain": [
              "[1, 4, 1681, 144, 441]"
            ]
          },
          "metadata": {},
          "execution_count": 81
        }
      ]
    },
    {
      "cell_type": "markdown",
      "source": [
        "### 37. Convert a list to a dictionary where list elements become keys and their indices become values."
      ],
      "metadata": {
        "id": "T9V3a_OflKvz"
      }
    },
    {
      "cell_type": "code",
      "execution_count": null,
      "metadata": {
        "id": "wLpRxpkslKv7"
      },
      "outputs": [],
      "source": [
        "def listToDict(l):\n",
        "  '''convert list to dict with key equal to the values in list\n",
        "\n",
        "  Parameters\n",
        "  l: list\n",
        "\n",
        "  Returns\n",
        "  dict value\n",
        "  '''\n",
        "  import enum\n",
        "  list_dict = {}\n",
        "  for i in range(len(l)):\n",
        "    list_dict[l[i]] = i\n",
        "  return list_dict"
      ]
    },
    {
      "cell_type": "code",
      "source": [
        "listToDict(squares_list)"
      ],
      "metadata": {
        "outputId": "326d8e5d-c3bc-483c-ddfd-91cb5388c156",
        "colab": {
          "base_uri": "https://localhost:8080/"
        },
        "id": "7NgK3lfAlKv7"
      },
      "execution_count": null,
      "outputs": [
        {
          "output_type": "execute_result",
          "data": {
            "text/plain": [
              "{1: 0, 4: 1, 9: 2, 16: 3, 25: 4, 36: 5, 49: 6, 64: 7, 81: 8, 100: 9}"
            ]
          },
          "metadata": {},
          "execution_count": 83
        }
      ]
    },
    {
      "cell_type": "markdown",
      "source": [
        "### 38. Shuffle the elements of a list randomly."
      ],
      "metadata": {
        "id": "gAmENnQ_oWGe"
      }
    },
    {
      "cell_type": "code",
      "execution_count": null,
      "metadata": {
        "id": "Cg_Cb1UDoWGe",
        "colab": {
          "base_uri": "https://localhost:8080/"
        },
        "outputId": "fcdd0cd4-a302-4d4c-ec7d-8a1bcabafc15"
      },
      "outputs": [
        {
          "output_type": "stream",
          "name": "stdout",
          "text": [
            "[43, 3, 3, 3, 3, 2, 2, 1, 1]\n"
          ]
        },
        {
          "output_type": "execute_result",
          "data": {
            "text/plain": [
              "[3, 3, 3, 1, 3, 1, 43, 2, 2]"
            ]
          },
          "metadata": {},
          "execution_count": 84
        }
      ],
      "source": [
        "print(list2)\n",
        "# using random.shuffle() to shuffle the elements of the list randomly\n",
        "random.shuffle(list2)\n",
        "list2"
      ]
    },
    {
      "cell_type": "markdown",
      "source": [
        "### 39. Create a list of the first 10 factorial numbers."
      ],
      "metadata": {
        "id": "pIrov3F8oN-1"
      }
    },
    {
      "cell_type": "code",
      "execution_count": null,
      "metadata": {
        "id": "XE0VePsFoN-8"
      },
      "outputs": [],
      "source": [
        "def factorial(num):\n",
        "  '''find the factorial of the number\n",
        "\n",
        "  Parameters\n",
        "  num: int value\n",
        "\n",
        "  Returns\n",
        "  int value\n",
        "  '''\n",
        "  fact = 1\n",
        "  for i in range(1,num+1):\n",
        "    fact *= i\n",
        "  return fact"
      ]
    },
    {
      "cell_type": "code",
      "source": [
        "# using list comprehension and the function isPrime() to get the the prime nos. upto 50\n",
        "fact_list = [factorial(i) for i in range(1,11)]\n",
        "fact_list"
      ],
      "metadata": {
        "colab": {
          "base_uri": "https://localhost:8080/"
        },
        "outputId": "75c5378a-ca5b-467f-8acd-7620ea82bc46",
        "id": "HyNJIzqqoN-8"
      },
      "execution_count": null,
      "outputs": [
        {
          "output_type": "execute_result",
          "data": {
            "text/plain": [
              "[1, 2, 6, 24, 120, 720, 5040, 40320, 362880, 3628800]"
            ]
          },
          "metadata": {},
          "execution_count": 86
        }
      ]
    },
    {
      "cell_type": "markdown",
      "source": [
        "### 40. Check if two lists have at least one element in common."
      ],
      "metadata": {
        "id": "o4Tfqci7oWGf"
      }
    },
    {
      "cell_type": "code",
      "execution_count": null,
      "metadata": {
        "id": "W2mtoI69oWGf"
      },
      "outputs": [],
      "source": [
        "def checkCommon(list1,list2):\n",
        "  '''check if 2 lists have at least one element in common\n",
        "\n",
        "  Parameters\n",
        "  list1\n",
        "  list2\n",
        "\n",
        "  Returns\n",
        "  bool value\n",
        "  '''\n",
        "  # converting list1 into set to use set operations\n",
        "  set1 = set(list1)\n",
        "  # using intersection() to check if any elements are in common (returns common elements else False)\n",
        "  if set1.intersection(list2):\n",
        "    return True\n",
        "  else:\n",
        "    return False"
      ]
    },
    {
      "cell_type": "code",
      "source": [
        "checkCommon(even_list,odd_list)"
      ],
      "metadata": {
        "colab": {
          "base_uri": "https://localhost:8080/"
        },
        "outputId": "8a7ba335-10cf-4221-d7d4-008b18360276",
        "id": "OXqYJCFeoWGf"
      },
      "execution_count": null,
      "outputs": [
        {
          "output_type": "execute_result",
          "data": {
            "text/plain": [
              "False"
            ]
          },
          "metadata": {},
          "execution_count": 88
        }
      ]
    },
    {
      "cell_type": "code",
      "source": [
        "checkCommon(squares_list,odd_list)"
      ],
      "metadata": {
        "colab": {
          "base_uri": "https://localhost:8080/"
        },
        "id": "ti1VbUsNAgaB",
        "outputId": "e6393a87-ae34-4212-bb3a-97c31babcabd"
      },
      "execution_count": null,
      "outputs": [
        {
          "output_type": "execute_result",
          "data": {
            "text/plain": [
              "True"
            ]
          },
          "metadata": {},
          "execution_count": 89
        }
      ]
    },
    {
      "cell_type": "markdown",
      "source": [
        "### 41. Remove all elements from a list."
      ],
      "metadata": {
        "id": "Rb-Eo4F3BfyU"
      }
    },
    {
      "cell_type": "code",
      "execution_count": null,
      "metadata": {
        "id": "AXEBsEgQBfyc",
        "outputId": "924a3e65-2e2a-48a2-8e76-1a3257060ac5",
        "colab": {
          "base_uri": "https://localhost:8080/"
        }
      },
      "outputs": [
        {
          "output_type": "execute_result",
          "data": {
            "text/plain": [
              "[81, 64, 49, 36, 25, 16, 9, 4, 1, 43, 3, 3, 3, 3, 2, 2, 1, 1]"
            ]
          },
          "metadata": {},
          "execution_count": 90
        }
      ],
      "source": [
        "list1"
      ]
    },
    {
      "cell_type": "code",
      "source": [
        "# using .clear() to remove all elements from the list\n",
        "list1.clear()\n",
        "list1"
      ],
      "metadata": {
        "colab": {
          "base_uri": "https://localhost:8080/"
        },
        "outputId": "8be6b14a-a8c9-466a-d343-a9233eb8949c",
        "id": "MxGARnq1Bfyc"
      },
      "execution_count": null,
      "outputs": [
        {
          "output_type": "execute_result",
          "data": {
            "text/plain": [
              "[]"
            ]
          },
          "metadata": {},
          "execution_count": 91
        }
      ]
    },
    {
      "cell_type": "markdown",
      "source": [
        "### 42. Replace negative numbers in a list with 0."
      ],
      "metadata": {
        "id": "g5O0y67IBf9Q"
      }
    },
    {
      "cell_type": "code",
      "execution_count": null,
      "metadata": {
        "id": "uGvZmsaTBf9Q"
      },
      "outputs": [],
      "source": [
        "def replaceNegativeNos(list1):\n",
        "  '''replace negative nos in the list with 0\n",
        "\n",
        "  Parameters\n",
        "  list1: list with negative values\n",
        "\n",
        "  Returns\n",
        "  updated list\n",
        "  '''\n",
        "  # using list comprehension to replacing negative elements with 0\n",
        "  list1 = [(i > 0) * i for i in list1]\n",
        "  return list1"
      ]
    },
    {
      "cell_type": "code",
      "source": [
        "replaceNegativeNos([1,2,-1,23,-21,-20,12])"
      ],
      "metadata": {
        "colab": {
          "base_uri": "https://localhost:8080/"
        },
        "outputId": "99083751-1b00-445d-ab98-854ed2afa282",
        "id": "OnvCmrUIBf9R"
      },
      "execution_count": null,
      "outputs": [
        {
          "output_type": "execute_result",
          "data": {
            "text/plain": [
              "[1, 2, 0, 23, 0, 0, 12]"
            ]
          },
          "metadata": {},
          "execution_count": 93
        }
      ]
    },
    {
      "cell_type": "markdown",
      "source": [
        "### 43. Convert a string into a list of words."
      ],
      "metadata": {
        "id": "v6XvgERrBgB1"
      }
    },
    {
      "cell_type": "code",
      "execution_count": null,
      "metadata": {
        "id": "LbFkOuCYBgB1"
      },
      "outputs": [],
      "source": [
        "def listOfWords(string):\n",
        "  '''convert a string into list of words\n",
        "\n",
        "  Parameters\n",
        "  string: a sentence or group of words\n",
        "\n",
        "  Returns\n",
        "  list: list of words\n",
        "  '''\n",
        "  # using .split() to split string into words with parameter = ' ' (space)\n",
        "  word_list = string.split(' ')\n",
        "  return word_list"
      ]
    },
    {
      "cell_type": "code",
      "source": [
        "listOfWords('Python is important in the field of AI.')"
      ],
      "metadata": {
        "colab": {
          "base_uri": "https://localhost:8080/"
        },
        "outputId": "c7800890-8fd0-4329-92fc-9b4990eb6719",
        "id": "ZyynOILNBgB1"
      },
      "execution_count": null,
      "outputs": [
        {
          "output_type": "execute_result",
          "data": {
            "text/plain": [
              "['Python', 'is', 'important', 'in', 'the', 'field', 'of', 'AI.']"
            ]
          },
          "metadata": {},
          "execution_count": 95
        }
      ]
    },
    {
      "cell_type": "markdown",
      "source": [
        "### 44. Convert a list of words into a string."
      ],
      "metadata": {
        "id": "DIZR2V-MFbVV"
      }
    },
    {
      "cell_type": "code",
      "execution_count": null,
      "metadata": {
        "id": "uyEf68ptFbVc"
      },
      "outputs": [],
      "source": [
        "def wordsToString(word_list):\n",
        "  '''convert a list of words into a single string\n",
        "\n",
        "  Parameters\n",
        "  word_list: list of words\n",
        "\n",
        "  Returns\n",
        "  list: list of words\n",
        "  '''\n",
        "  # using .join() to join the elements of the list\n",
        "  string = ' '.join(word_list)\n",
        "  return string"
      ]
    },
    {
      "cell_type": "code",
      "source": [
        "wordsToString(['Python', 'is', 'important', 'in', 'the', 'field', 'of', 'AI.'])"
      ],
      "metadata": {
        "colab": {
          "base_uri": "https://localhost:8080/"
        },
        "outputId": "490d6f38-27ee-451f-b4da-d017fbe10794",
        "id": "1WoLo7EhFbVd"
      },
      "execution_count": null,
      "outputs": [
        {
          "output_type": "execute_result",
          "data": {
            "text/plain": [
              "'Python is important in the field of AI.'"
            ],
            "application/vnd.google.colaboratory.intrinsic+json": {
              "type": "string"
            }
          },
          "metadata": {},
          "execution_count": 97
        }
      ]
    },
    {
      "cell_type": "markdown",
      "source": [
        "### 45. Create a list of the first `n` powers of 2."
      ],
      "metadata": {
        "id": "MoRzIgtiBgEE"
      }
    },
    {
      "cell_type": "code",
      "execution_count": null,
      "metadata": {
        "id": "axYbtVKrBgEF"
      },
      "outputs": [],
      "source": [
        "def powersOf2(n):\n",
        "  '''create a list with first n powers of 2\n",
        "\n",
        "  Parameters\n",
        "  n: all values to n powers of 2\n",
        "\n",
        "  Returns\n",
        "  list: n exponential values of 2\n",
        "  '''\n",
        "  list_2_power_n = [2**i for i in range(1,n+1)]\n",
        "  return list_2_power_n"
      ]
    },
    {
      "cell_type": "code",
      "source": [
        "powersOf2(12)"
      ],
      "metadata": {
        "colab": {
          "base_uri": "https://localhost:8080/"
        },
        "outputId": "a0db6c0b-2381-4135-d14c-d1b63685f09a",
        "id": "1P9-dUxqBgEF"
      },
      "execution_count": null,
      "outputs": [
        {
          "output_type": "execute_result",
          "data": {
            "text/plain": [
              "[2, 4, 8, 16, 32, 64, 128, 256, 512, 1024, 2048, 4096]"
            ]
          },
          "metadata": {},
          "execution_count": 99
        }
      ]
    },
    {
      "cell_type": "markdown",
      "source": [
        "### 46. Find the longest string in a list of strings."
      ],
      "metadata": {
        "id": "U3lGWGILBgMG"
      }
    },
    {
      "cell_type": "code",
      "execution_count": null,
      "metadata": {
        "id": "GhwwRVulBgMH"
      },
      "outputs": [],
      "source": [
        "def longestString(string_list):\n",
        "  '''find the longest string in the given list\n",
        "\n",
        "  Parameters\n",
        "  string_list: list of string\n",
        "\n",
        "  Returns\n",
        "  string value\n",
        "  '''\n",
        "  # initializing maximum length and longest string\n",
        "  max_len = len(string_list[0])\n",
        "  longest_string = string_list[0]\n",
        "  for string in string_list:\n",
        "    # checking if maximum length is less than the string length then values are updated\n",
        "    if max_len < len(string):\n",
        "      longest_string = string\n",
        "      max_len = len(string)\n",
        "  return longest_string"
      ]
    },
    {
      "cell_type": "code",
      "source": [
        "longestString(['Python', 'is', 'important', 'in', 'the', 'field', 'of', 'AI.'])"
      ],
      "metadata": {
        "colab": {
          "base_uri": "https://localhost:8080/"
        },
        "outputId": "cbf6ef70-66cc-4120-a712-a5198f09117c",
        "id": "K-3qeiAVBgMH"
      },
      "execution_count": null,
      "outputs": [
        {
          "output_type": "execute_result",
          "data": {
            "text/plain": [
              "'important'"
            ],
            "application/vnd.google.colaboratory.intrinsic+json": {
              "type": "string"
            }
          },
          "metadata": {},
          "execution_count": 101
        }
      ]
    },
    {
      "cell_type": "markdown",
      "source": [
        "### 47. Find the shortest string in a list of strings."
      ],
      "metadata": {
        "id": "pOKTR9hVJWAG"
      }
    },
    {
      "cell_type": "code",
      "execution_count": null,
      "metadata": {
        "id": "Z06QA0pwJWAN"
      },
      "outputs": [],
      "source": [
        "def shortestString(string_list):\n",
        "  '''find the shortest string in the given list\n",
        "\n",
        "  Parameters\n",
        "  string_list: list of string\n",
        "\n",
        "  Returns\n",
        "  string value\n",
        "  '''\n",
        "  # initializing maximum length and longest string\n",
        "  min_len = len(string_list[0])\n",
        "  shortest_string = string_list[0]\n",
        "  for string in string_list:\n",
        "    # checking if minimum length is more than the string length then values are updated\n",
        "    if min_len > len(string):\n",
        "      shortest_string = string\n",
        "      min_len = len(string)\n",
        "  return shortest_string"
      ]
    },
    {
      "cell_type": "code",
      "source": [
        "shortestString(['Python', 'is', 'important', 'in', 'the', 'field', 'of', 'AI.'])"
      ],
      "metadata": {
        "colab": {
          "base_uri": "https://localhost:8080/"
        },
        "outputId": "7839f0ea-4933-4325-d02c-6a4b6d50b96f",
        "id": "84OMsxMHJWAO"
      },
      "execution_count": null,
      "outputs": [
        {
          "output_type": "execute_result",
          "data": {
            "text/plain": [
              "'is'"
            ],
            "application/vnd.google.colaboratory.intrinsic+json": {
              "type": "string"
            }
          },
          "metadata": {},
          "execution_count": 103
        }
      ]
    },
    {
      "cell_type": "markdown",
      "source": [
        "### 48. Create a list of the first `n` triangular numbers."
      ],
      "metadata": {
        "id": "YxVbLwz7BgN9"
      }
    },
    {
      "cell_type": "markdown",
      "source": [
        "**Triangular Numbers:** https://study.com/learn/lesson/triangular-numbers-formula-list.html#:~:text=Triangular%20numbers%20are%20numbers%20that,n%20+%201)%20/%202."
      ],
      "metadata": {
        "id": "qD0UIpi5KmmA"
      }
    },
    {
      "cell_type": "code",
      "execution_count": null,
      "metadata": {
        "id": "Kv68Vyu-BgN-"
      },
      "outputs": [],
      "source": [
        "def triangluarNosList(n):\n",
        "  ''' create a list of first n triangular nos\n",
        "\n",
        "  Parameters\n",
        "  n: no of triangular no list to be created\n",
        "\n",
        "  Returns\n",
        "  list value\n",
        "  '''\n",
        "  triangular_no_list = []\n",
        "  for i in range(1,n+1):\n",
        "    # using the formula to find the ith triangular no val = n*(n+1)/2\n",
        "    ith_value = i*(i+1)/2\n",
        "    # appending the value into the list\n",
        "    triangular_no_list.append(ith_value)\n",
        "  return triangular_no_list"
      ]
    },
    {
      "cell_type": "code",
      "source": [
        "triangluarNosList(10)"
      ],
      "metadata": {
        "colab": {
          "base_uri": "https://localhost:8080/"
        },
        "outputId": "ceea8779-57aa-49e3-e16e-47af16abdd0a",
        "id": "ZaCNeOfzBgN-"
      },
      "execution_count": null,
      "outputs": [
        {
          "output_type": "execute_result",
          "data": {
            "text/plain": [
              "[1.0, 3.0, 6.0, 10.0, 15.0, 21.0, 28.0, 36.0, 45.0, 55.0]"
            ]
          },
          "metadata": {},
          "execution_count": 105
        }
      ]
    },
    {
      "cell_type": "markdown",
      "source": [
        "### 49. Check if a list contains another list as a subsequence."
      ],
      "metadata": {
        "id": "v2aWvbmXBgPy"
      }
    },
    {
      "cell_type": "code",
      "execution_count": null,
      "metadata": {
        "id": "jXu1E5fABgPz"
      },
      "outputs": [],
      "source": [
        "def checkSubsequence(main_list,sub_list):\n",
        "  '''check if a list contains another list as a sequence\n",
        "\n",
        "  Parameters\n",
        "  main_list: list to check for another list\n",
        "  sub_list: list to be checked in the main list\n",
        "\n",
        "  Returns\n",
        "  bool value\n",
        "  '''\n",
        "  for i in sub_list:\n",
        "    # checking if element in sub_list in present in the main list or not\n",
        "    if i not in main_list:\n",
        "      return False\n",
        "  return True"
      ]
    },
    {
      "cell_type": "code",
      "source": [
        "checkSubsequence([1,4,5,3,13,22],[1,22,3])"
      ],
      "metadata": {
        "colab": {
          "base_uri": "https://localhost:8080/"
        },
        "outputId": "30e6004d-d33f-4a80-d2f1-081310359707",
        "id": "lUESNat0BgPz"
      },
      "execution_count": null,
      "outputs": [
        {
          "output_type": "execute_result",
          "data": {
            "text/plain": [
              "True"
            ]
          },
          "metadata": {},
          "execution_count": 107
        }
      ]
    },
    {
      "cell_type": "code",
      "source": [
        "checkSubsequence([1,4,5,3,13],[1,22,3])"
      ],
      "metadata": {
        "colab": {
          "base_uri": "https://localhost:8080/"
        },
        "id": "iMNGynpZNwnz",
        "outputId": "24a4b447-a0d9-42b7-e92c-b830a1a26255"
      },
      "execution_count": null,
      "outputs": [
        {
          "output_type": "execute_result",
          "data": {
            "text/plain": [
              "False"
            ]
          },
          "metadata": {},
          "execution_count": 108
        }
      ]
    },
    {
      "cell_type": "markdown",
      "source": [
        "### 50. Swap two elements in a list by their indices."
      ],
      "metadata": {
        "id": "yV7bcfINOpNh"
      }
    },
    {
      "cell_type": "code",
      "execution_count": null,
      "metadata": {
        "id": "u2xcDzgaOpNo"
      },
      "outputs": [],
      "source": [
        "def swapElements(l,index1,index2):\n",
        "  '''swapping the elements in the lit using indices\n",
        "\n",
        "  Parameters\n",
        "  l: main list\n",
        "  index1: index of first element to be swapped\n",
        "  index2: index of second element to be swapped\n",
        "\n",
        "  Returns\n",
        "  list value\n",
        "  '''\n",
        "  # swapping the elements in the list\n",
        "  l[index1],l[index2] = l[index2],l[index1]\n",
        "  return l"
      ]
    },
    {
      "cell_type": "code",
      "source": [
        "swapElements([1,2,3,4,5,6,7],4,2)"
      ],
      "metadata": {
        "colab": {
          "base_uri": "https://localhost:8080/"
        },
        "outputId": "dfb0952f-11a0-4b62-eb79-3428a8b4ff7d",
        "id": "LzSixfNPOpNp"
      },
      "execution_count": null,
      "outputs": [
        {
          "output_type": "execute_result",
          "data": {
            "text/plain": [
              "[1, 2, 5, 4, 3, 6, 7]"
            ]
          },
          "metadata": {},
          "execution_count": 110
        }
      ]
    },
    {
      "cell_type": "markdown",
      "source": [
        "# Tuple Based Assignment Problem"
      ],
      "metadata": {
        "id": "5NQxdp7RewQ5"
      }
    },
    {
      "cell_type": "markdown",
      "source": [
        "### 1. Create a tuple with integers from 1 to 5."
      ],
      "metadata": {
        "id": "JObeFxTXewRA"
      }
    },
    {
      "cell_type": "code",
      "execution_count": 1,
      "metadata": {
        "colab": {
          "base_uri": "https://localhost:8080/"
        },
        "outputId": "dbc03356-7c94-44e2-99a7-1ab081073327",
        "id": "hNyda_1tewRA"
      },
      "outputs": [
        {
          "output_type": "execute_result",
          "data": {
            "text/plain": [
              "(1, 2, 3, 4, 5)"
            ]
          },
          "metadata": {},
          "execution_count": 1
        }
      ],
      "source": [
        "# using range() to create a range of nos. from 1-5 and then typecast it to tuple\n",
        "int_tuple = tuple(range(1,6))\n",
        "int_tuple"
      ]
    },
    {
      "cell_type": "markdown",
      "source": [
        "### 2. Access the third element of a tuple."
      ],
      "metadata": {
        "id": "sBd1M8Jxf4C-"
      }
    },
    {
      "cell_type": "code",
      "source": [
        "# this can be done by indexing\n",
        "int_tuple[2]"
      ],
      "metadata": {
        "colab": {
          "base_uri": "https://localhost:8080/"
        },
        "id": "GlDpnpaKf3WY",
        "outputId": "80382c9d-0ef4-465f-f375-6fd6d335c5ba"
      },
      "execution_count": 2,
      "outputs": [
        {
          "output_type": "execute_result",
          "data": {
            "text/plain": [
              "3"
            ]
          },
          "metadata": {},
          "execution_count": 2
        }
      ]
    },
    {
      "cell_type": "markdown",
      "source": [
        "### 3. Find the length of a tuple without using the `len()` function."
      ],
      "metadata": {
        "id": "EP3EUeMOewRB"
      }
    },
    {
      "cell_type": "code",
      "execution_count": 3,
      "metadata": {
        "id": "auDjmZHxewRB"
      },
      "outputs": [],
      "source": [
        "def length(tup):\n",
        "  ''' custom length finder for the given tuple\n",
        "\n",
        "  Parameters\n",
        "  tup: tuple\n",
        "\n",
        "  Returns\n",
        "  int value: length\n",
        "  '''\n",
        "  count = 0\n",
        "  # using for loop to iterate over all values and increment count for each value\n",
        "  for _ in tup:\n",
        "    count += 1\n",
        "  return count"
      ]
    },
    {
      "cell_type": "code",
      "source": [
        "length(int_tuple)"
      ],
      "metadata": {
        "colab": {
          "base_uri": "https://localhost:8080/"
        },
        "outputId": "ea06df22-bb2c-4577-d5a5-9743a8160a53",
        "id": "MIMt3e5GewRB"
      },
      "execution_count": 4,
      "outputs": [
        {
          "output_type": "execute_result",
          "data": {
            "text/plain": [
              "5"
            ]
          },
          "metadata": {},
          "execution_count": 4
        }
      ]
    },
    {
      "cell_type": "markdown",
      "source": [
        "### 4. Count the occurrences of an element in a tuple."
      ],
      "metadata": {
        "id": "o6jM2sGsewRE"
      }
    },
    {
      "cell_type": "code",
      "execution_count": 5,
      "metadata": {
        "colab": {
          "base_uri": "https://localhost:8080/"
        },
        "outputId": "d8799d0a-1634-4bbd-f9c3-7e6917fc38bb",
        "id": "Ny-20LgRewRE"
      },
      "outputs": [
        {
          "output_type": "execute_result",
          "data": {
            "text/plain": [
              "4"
            ]
          },
          "metadata": {},
          "execution_count": 5
        }
      ],
      "source": [
        "# using count() to find the no. of occurences of an element\n",
        "tuple1 = (1,2,3,12,2,34,1,22,2,23,2)\n",
        "tuple1.count(2)"
      ]
    },
    {
      "cell_type": "markdown",
      "source": [
        "### 5. Find the index of the first occurrence of an element in a tuple."
      ],
      "metadata": {
        "id": "6EhL_HudewRD"
      }
    },
    {
      "cell_type": "code",
      "execution_count": 6,
      "metadata": {
        "colab": {
          "base_uri": "https://localhost:8080/"
        },
        "outputId": "fa5331ba-640d-412c-cdb1-93d3459003a9",
        "id": "e92LSfjHewRE"
      },
      "outputs": [
        {
          "output_type": "execute_result",
          "data": {
            "text/plain": [
              "1"
            ]
          },
          "metadata": {},
          "execution_count": 6
        }
      ],
      "source": [
        "# using index() to find the index of the first occurence\n",
        "tuple1.index(2)"
      ]
    },
    {
      "cell_type": "markdown",
      "source": [
        "### 6. Check if an element exists in a tuple."
      ],
      "metadata": {
        "id": "A1PuH6TDiZZi"
      }
    },
    {
      "cell_type": "code",
      "execution_count": 7,
      "metadata": {
        "id": "uwBEPzbIiZZp"
      },
      "outputs": [],
      "source": [
        "# using find() to find the index of the first occurence\n",
        "def checkElementTuple(tup,element):\n",
        "  '''check if element exists in the tuple\n",
        "\n",
        "  Parameters\n",
        "  tup: tuple in which element is to be checked\n",
        "  element: value to be checked\n",
        "\n",
        "  Returns\n",
        "  bool value\n",
        "  '''\n",
        "  # using in statement to check if value is there\n",
        "  if element in tup:\n",
        "    return True\n",
        "  else:\n",
        "    return False"
      ]
    },
    {
      "cell_type": "code",
      "source": [
        "checkElementTuple(tuple1,2)"
      ],
      "metadata": {
        "colab": {
          "base_uri": "https://localhost:8080/"
        },
        "id": "3tmrSVbEi7jZ",
        "outputId": "3a458ba7-7975-4efd-ca29-ce61f0dc4f1a"
      },
      "execution_count": 8,
      "outputs": [
        {
          "output_type": "execute_result",
          "data": {
            "text/plain": [
              "True"
            ]
          },
          "metadata": {},
          "execution_count": 8
        }
      ]
    },
    {
      "cell_type": "code",
      "source": [
        "checkElementTuple(tuple1,4)"
      ],
      "metadata": {
        "colab": {
          "base_uri": "https://localhost:8080/"
        },
        "id": "l2_Sq7vOjBwz",
        "outputId": "923051b7-66eb-46c3-f281-a4a560463f6c"
      },
      "execution_count": 9,
      "outputs": [
        {
          "output_type": "execute_result",
          "data": {
            "text/plain": [
              "False"
            ]
          },
          "metadata": {},
          "execution_count": 9
        }
      ]
    },
    {
      "cell_type": "markdown",
      "source": [
        "### 7. Convert a tuple to a list."
      ],
      "metadata": {
        "id": "Pm-8gLCBjkcs"
      }
    },
    {
      "cell_type": "code",
      "source": [
        "# typecasting by using list()\n",
        "converted_list = list(tuple1)\n",
        "converted_list"
      ],
      "metadata": {
        "colab": {
          "base_uri": "https://localhost:8080/"
        },
        "id": "b6rbUpv0jhjS",
        "outputId": "b5f4f463-d413-4817-a512-fd5bf548ede4"
      },
      "execution_count": 10,
      "outputs": [
        {
          "output_type": "execute_result",
          "data": {
            "text/plain": [
              "[1, 2, 3, 12, 2, 34, 1, 22, 2, 23, 2]"
            ]
          },
          "metadata": {},
          "execution_count": 10
        }
      ]
    },
    {
      "cell_type": "markdown",
      "source": [
        "### 8. Convert a list to a tuple."
      ],
      "metadata": {
        "id": "7n-JmfOakBLx"
      }
    },
    {
      "cell_type": "code",
      "source": [
        "# typecasting by using tuple()\n",
        "new_tuple = tuple(converted_list)\n",
        "new_tuple"
      ],
      "metadata": {
        "outputId": "61d8e76a-ca14-489e-d4f9-2c75abb234ae",
        "colab": {
          "base_uri": "https://localhost:8080/"
        },
        "id": "i7wHAWsPkBL4"
      },
      "execution_count": 11,
      "outputs": [
        {
          "output_type": "execute_result",
          "data": {
            "text/plain": [
              "(1, 2, 3, 12, 2, 34, 1, 22, 2, 23, 2)"
            ]
          },
          "metadata": {},
          "execution_count": 11
        }
      ]
    },
    {
      "cell_type": "markdown",
      "source": [
        "### 9. Unpack the elements of a tuple into variables."
      ],
      "metadata": {
        "id": "oQ8zNDq2lD8A"
      }
    },
    {
      "cell_type": "code",
      "source": [
        "# typecasting by using tuple()\n",
        "var_tuple = (1,2,3)\n",
        "x,y,z = var_tuple\n",
        "print('x :',x,'\\ny :',y,'\\nz :',z)"
      ],
      "metadata": {
        "outputId": "547b3f2d-0818-45db-83a5-455afe6eb850",
        "colab": {
          "base_uri": "https://localhost:8080/"
        },
        "id": "V7M3MRVflD8I"
      },
      "execution_count": 12,
      "outputs": [
        {
          "output_type": "stream",
          "name": "stdout",
          "text": [
            "x : 1 \n",
            "y : 2 \n",
            "z : 3\n"
          ]
        }
      ]
    },
    {
      "cell_type": "markdown",
      "source": [
        "### 10. Create a tuple of even numbers from 1 to 10."
      ],
      "metadata": {
        "id": "NnvjfspqmQr-"
      }
    },
    {
      "cell_type": "code",
      "source": [
        "# using range() to create a range of nos. from 2-10, increment by 2 and then typecast it to tuple\n",
        "even_tuple = tuple(range(2,11,2))\n",
        "even_tuple"
      ],
      "metadata": {
        "colab": {
          "base_uri": "https://localhost:8080/"
        },
        "id": "LiJoIwAAl2LJ",
        "outputId": "2a9e6e7e-2f89-41f6-c81e-6056e7abadca"
      },
      "execution_count": 13,
      "outputs": [
        {
          "output_type": "execute_result",
          "data": {
            "text/plain": [
              "(2, 4, 6, 8, 10)"
            ]
          },
          "metadata": {},
          "execution_count": 13
        }
      ]
    },
    {
      "cell_type": "markdown",
      "source": [
        "### 11. Create a tuple of odd numbers from 1 to 10."
      ],
      "metadata": {
        "id": "N7rbYVdDmVUz"
      }
    },
    {
      "cell_type": "code",
      "source": [
        "# using range() to create a range of nos. from 1-10, increment by 2 and then typecast it to tuple\n",
        "odd_tuple = tuple(range(1,10,2))\n",
        "odd_tuple"
      ],
      "metadata": {
        "outputId": "8acd747a-8ff1-4534-8831-d6faba918382",
        "colab": {
          "base_uri": "https://localhost:8080/"
        },
        "id": "ElcooN5AmVU6"
      },
      "execution_count": 14,
      "outputs": [
        {
          "output_type": "execute_result",
          "data": {
            "text/plain": [
              "(1, 3, 5, 7, 9)"
            ]
          },
          "metadata": {},
          "execution_count": 14
        }
      ]
    },
    {
      "cell_type": "markdown",
      "source": [
        "### 12. Concatenate two tuples."
      ],
      "metadata": {
        "id": "6VJL_yammsIF"
      }
    },
    {
      "cell_type": "code",
      "source": [
        "# concatenate using '+' operator\n",
        "combined_tuple = odd_tuple + even_tuple\n",
        "combined_tuple"
      ],
      "metadata": {
        "outputId": "f734ff80-54b7-40c3-9d8e-b4490aa33ad3",
        "colab": {
          "base_uri": "https://localhost:8080/"
        },
        "id": "GWJsBO7amsIM"
      },
      "execution_count": 15,
      "outputs": [
        {
          "output_type": "execute_result",
          "data": {
            "text/plain": [
              "(1, 3, 5, 7, 9, 2, 4, 6, 8, 10)"
            ]
          },
          "metadata": {},
          "execution_count": 15
        }
      ]
    },
    {
      "cell_type": "markdown",
      "source": [
        "### 13. Repeat a tuple three times."
      ],
      "metadata": {
        "id": "nnTmk-uqnPn2"
      }
    },
    {
      "cell_type": "code",
      "source": [
        "# repeating a tuple using '*' operator\n",
        "repeated_tuple = 3*even_tuple\n",
        "repeated_tuple"
      ],
      "metadata": {
        "outputId": "3bdfb267-c1d8-4e1a-c5b4-f7d8a0a19132",
        "colab": {
          "base_uri": "https://localhost:8080/"
        },
        "id": "M99VrixPnPn4"
      },
      "execution_count": 16,
      "outputs": [
        {
          "output_type": "execute_result",
          "data": {
            "text/plain": [
              "(2, 4, 6, 8, 10, 2, 4, 6, 8, 10, 2, 4, 6, 8, 10)"
            ]
          },
          "metadata": {},
          "execution_count": 16
        }
      ]
    },
    {
      "cell_type": "markdown",
      "source": [
        "### 14. Check if a tuple is empty."
      ],
      "metadata": {
        "id": "zK387d7JoUdk"
      }
    },
    {
      "cell_type": "code",
      "source": [
        "def checkEmpty(tup):\n",
        "  '''check if tuple is empty\n",
        "\n",
        "  Parameters\n",
        "  tup: tuple to be checked\n",
        "\n",
        "  Returns\n",
        "  bool value\n",
        "  '''\n",
        "  # if tuple is empty, it is equal to False\n",
        "  if not tup:\n",
        "    return True\n",
        "  else:\n",
        "    return False"
      ],
      "metadata": {
        "id": "bcjzTLkEnh10"
      },
      "execution_count": 17,
      "outputs": []
    },
    {
      "cell_type": "code",
      "source": [
        "checkEmpty(tuple())"
      ],
      "metadata": {
        "colab": {
          "base_uri": "https://localhost:8080/"
        },
        "id": "SuK_rD-qpGW1",
        "outputId": "59d77bc7-5175-43ba-8259-10eea2ae787e"
      },
      "execution_count": 18,
      "outputs": [
        {
          "output_type": "execute_result",
          "data": {
            "text/plain": [
              "True"
            ]
          },
          "metadata": {},
          "execution_count": 18
        }
      ]
    },
    {
      "cell_type": "code",
      "source": [
        "checkEmpty((1,2,3))"
      ],
      "metadata": {
        "colab": {
          "base_uri": "https://localhost:8080/"
        },
        "id": "6-XKa4_7pMpp",
        "outputId": "ffcafe02-490f-4ed7-8dcc-255d8b290807"
      },
      "execution_count": 19,
      "outputs": [
        {
          "output_type": "execute_result",
          "data": {
            "text/plain": [
              "False"
            ]
          },
          "metadata": {},
          "execution_count": 19
        }
      ]
    },
    {
      "cell_type": "markdown",
      "source": [
        "### 15. Create a nested tuple."
      ],
      "metadata": {
        "id": "UCtDXE5JqZy4"
      }
    },
    {
      "cell_type": "code",
      "source": [
        "# using each tuple as an element\n",
        "nested_tuple = ((1,2,3),(4,5,6),(7,8,9))\n",
        "nested_tuple"
      ],
      "metadata": {
        "colab": {
          "base_uri": "https://localhost:8080/"
        },
        "id": "wvePl8suqfmh",
        "outputId": "bcbd80d8-fed9-4265-c051-11b68153af09"
      },
      "execution_count": 20,
      "outputs": [
        {
          "output_type": "execute_result",
          "data": {
            "text/plain": [
              "((1, 2, 3), (4, 5, 6), (7, 8, 9))"
            ]
          },
          "metadata": {},
          "execution_count": 20
        }
      ]
    },
    {
      "cell_type": "markdown",
      "source": [
        "### 16. Access the first element of a nested tuple."
      ],
      "metadata": {
        "id": "gumA3iHxq_Wk"
      }
    },
    {
      "cell_type": "code",
      "source": [
        "# using indexing\n",
        "nested_tuple[0]"
      ],
      "metadata": {
        "outputId": "7964bd66-2b14-43f1-d2e3-12aa5df1d1fb",
        "colab": {
          "base_uri": "https://localhost:8080/"
        },
        "id": "q-sNK-iyq_Wy"
      },
      "execution_count": 21,
      "outputs": [
        {
          "output_type": "execute_result",
          "data": {
            "text/plain": [
              "(1, 2, 3)"
            ]
          },
          "metadata": {},
          "execution_count": 21
        }
      ]
    },
    {
      "cell_type": "markdown",
      "source": [
        "### 17. Create a tuple with a single element."
      ],
      "metadata": {
        "id": "yF_suPsHrXVG"
      }
    },
    {
      "cell_type": "code",
      "source": [
        "tuplex = (1,)\n",
        "print(\"Length of Tuple:\",len(tuplex))\n",
        "print(\"Tuple:\",tuplex)"
      ],
      "metadata": {
        "outputId": "4b97242a-2ce1-445c-a657-539a2d7bdf52",
        "colab": {
          "base_uri": "https://localhost:8080/"
        },
        "id": "Pkc2meBIrXVT"
      },
      "execution_count": 22,
      "outputs": [
        {
          "output_type": "stream",
          "name": "stdout",
          "text": [
            "Length of Tuple: 1\n",
            "Tuple: (1,)\n"
          ]
        }
      ]
    },
    {
      "cell_type": "markdown",
      "source": [
        "### 18. Compare two tuples."
      ],
      "metadata": {
        "id": "xNZNvX5bsRja"
      }
    },
    {
      "cell_type": "code",
      "source": [
        "def compareTuples(tuple1,tuple2):\n",
        "  '''compare two tuples if equal\n",
        "\n",
        "  Parameters\n",
        "  tupple1,tuple2: tuples to be checked\n",
        "  '''\n",
        "  if tuple1 == tuple2:\n",
        "    print('Tuples are Equal')\n",
        "  elif tuple1 < tuple2:\n",
        "    print(tuple2,'is greater')\n",
        "  else:\n",
        "    print(tuple1,'is greater')"
      ],
      "metadata": {
        "id": "j8zk_oBCsRjh"
      },
      "execution_count": 23,
      "outputs": []
    },
    {
      "cell_type": "code",
      "source": [
        "compareTuples(even_tuple,odd_tuple)"
      ],
      "metadata": {
        "colab": {
          "base_uri": "https://localhost:8080/"
        },
        "id": "Wjvkyui1sw0w",
        "outputId": "f694fb75-3fb6-48da-ecb5-4cb7d5dc65f3"
      },
      "execution_count": 24,
      "outputs": [
        {
          "output_type": "stream",
          "name": "stdout",
          "text": [
            "(2, 4, 6, 8, 10) is greater\n"
          ]
        }
      ]
    },
    {
      "cell_type": "code",
      "source": [
        "compareTuples(even_tuple,even_tuple)"
      ],
      "metadata": {
        "colab": {
          "base_uri": "https://localhost:8080/"
        },
        "id": "llJXl6Uvs47O",
        "outputId": "118528bd-ac3b-413a-db1e-ed27e361ac4c"
      },
      "execution_count": 25,
      "outputs": [
        {
          "output_type": "stream",
          "name": "stdout",
          "text": [
            "Tuples are Equal\n"
          ]
        }
      ]
    },
    {
      "cell_type": "markdown",
      "source": [
        "### 19. Delete a tuple."
      ],
      "metadata": {
        "id": "l9PZb_LAt17Q"
      }
    },
    {
      "cell_type": "code",
      "source": [
        "tuplex"
      ],
      "metadata": {
        "colab": {
          "base_uri": "https://localhost:8080/"
        },
        "id": "XBgtQ9Fgt_Sd",
        "outputId": "9523c209-edfa-4388-e02f-ff967dcec1e3"
      },
      "execution_count": 26,
      "outputs": [
        {
          "output_type": "execute_result",
          "data": {
            "text/plain": [
              "(1,)"
            ]
          },
          "metadata": {},
          "execution_count": 26
        }
      ]
    },
    {
      "cell_type": "code",
      "source": [
        "del tuplex"
      ],
      "metadata": {
        "id": "ndjmXx-Qt17a"
      },
      "execution_count": 27,
      "outputs": []
    },
    {
      "cell_type": "code",
      "source": [
        "try:\n",
        "  print('Tuple: ',tuplex)\n",
        "except Exception as error:\n",
        "  print(error)"
      ],
      "metadata": {
        "colab": {
          "base_uri": "https://localhost:8080/"
        },
        "id": "ds3RazqkuBqt",
        "outputId": "f8fdc993-e15c-4146-bc67-7b7f63844da8"
      },
      "execution_count": 28,
      "outputs": [
        {
          "output_type": "stream",
          "name": "stdout",
          "text": [
            "name 'tuplex' is not defined\n"
          ]
        }
      ]
    },
    {
      "cell_type": "markdown",
      "source": [
        "### 20. Slice a tuple."
      ],
      "metadata": {
        "id": "nC_GPNfkuIcF"
      }
    },
    {
      "cell_type": "code",
      "source": [
        "tuple1"
      ],
      "metadata": {
        "colab": {
          "base_uri": "https://localhost:8080/"
        },
        "id": "5MnquCo3uiLl",
        "outputId": "2266d011-e925-49c2-90c6-d9d25b83cfed"
      },
      "execution_count": 29,
      "outputs": [
        {
          "output_type": "execute_result",
          "data": {
            "text/plain": [
              "(1, 2, 3, 12, 2, 34, 1, 22, 2, 23, 2)"
            ]
          },
          "metadata": {},
          "execution_count": 29
        }
      ]
    },
    {
      "cell_type": "code",
      "source": [
        "# same usecase as list indexing\n",
        "print('Sliced Tuple:',tuple1[1:7])"
      ],
      "metadata": {
        "outputId": "9661eec5-d3e1-4087-9b9d-625aa6df4a50",
        "colab": {
          "base_uri": "https://localhost:8080/"
        },
        "id": "hBRkeieGuIcN"
      },
      "execution_count": 30,
      "outputs": [
        {
          "output_type": "stream",
          "name": "stdout",
          "text": [
            "Sliced Tuple: (2, 3, 12, 2, 34, 1)\n"
          ]
        }
      ]
    },
    {
      "cell_type": "markdown",
      "source": [
        "### 21. Find the maximum value in a tuple."
      ],
      "metadata": {
        "id": "0tx5spfTewRH"
      }
    },
    {
      "cell_type": "code",
      "execution_count": 31,
      "metadata": {
        "colab": {
          "base_uri": "https://localhost:8080/"
        },
        "outputId": "7e719283-db05-4207-a505-271633f85d40",
        "id": "Y-E0i5z-ewRH"
      },
      "outputs": [
        {
          "output_type": "execute_result",
          "data": {
            "text/plain": [
              "34"
            ]
          },
          "metadata": {},
          "execution_count": 31
        }
      ],
      "source": [
        "# using max() to find the maximum element in the tuple\n",
        "max(tuple1)"
      ]
    },
    {
      "cell_type": "markdown",
      "source": [
        "### 22. Find the minimum value in a tuple."
      ],
      "metadata": {
        "id": "Z-3u1Jc-ewRH"
      }
    },
    {
      "cell_type": "code",
      "execution_count": 32,
      "metadata": {
        "colab": {
          "base_uri": "https://localhost:8080/"
        },
        "outputId": "6e6d1350-8577-49be-9a27-f5c4cb3bcd15",
        "id": "DWUqmJQGewRI"
      },
      "outputs": [
        {
          "output_type": "execute_result",
          "data": {
            "text/plain": [
              "1"
            ]
          },
          "metadata": {},
          "execution_count": 32
        }
      ],
      "source": [
        "# using min() to find the maximum element in the tuple\n",
        "min(tuple1)"
      ]
    },
    {
      "cell_type": "markdown",
      "source": [
        "### 23. Convert a string to a tuple of characters."
      ],
      "metadata": {
        "id": "gi02_yKHewRL"
      }
    },
    {
      "cell_type": "code",
      "source": [
        "# type casting\n",
        "string1 = 'characters'\n",
        "tuple_char = tuple(string1)\n",
        "tuple_char"
      ],
      "metadata": {
        "outputId": "e7f4034d-9fb6-4863-e58e-26a328346f7c",
        "colab": {
          "base_uri": "https://localhost:8080/"
        },
        "id": "KO-P37SFewRL"
      },
      "execution_count": 33,
      "outputs": [
        {
          "output_type": "execute_result",
          "data": {
            "text/plain": [
              "('c', 'h', 'a', 'r', 'a', 'c', 't', 'e', 'r', 's')"
            ]
          },
          "metadata": {},
          "execution_count": 33
        }
      ]
    },
    {
      "cell_type": "markdown",
      "source": [
        "### 24. Convert a tuple of characters to a string."
      ],
      "metadata": {
        "id": "aHdfNiJNewRL"
      }
    },
    {
      "cell_type": "code",
      "execution_count": 34,
      "metadata": {
        "outputId": "a9da7138-b7c8-4f77-9f55-c6b107d72e59",
        "colab": {
          "base_uri": "https://localhost:8080/",
          "height": 36
        },
        "id": "Igwpn2oYewRM"
      },
      "outputs": [
        {
          "output_type": "execute_result",
          "data": {
            "text/plain": [
              "'characters'"
            ],
            "application/vnd.google.colaboratory.intrinsic+json": {
              "type": "string"
            }
          },
          "metadata": {},
          "execution_count": 34
        }
      ],
      "source": [
        "# using .join to combine tuple chars into one string\n",
        "string2 = ''.join(tuple_char)\n",
        "string2"
      ]
    },
    {
      "cell_type": "markdown",
      "source": [
        "### 25. Create a tuple from multiple data types."
      ],
      "metadata": {
        "id": "felVl5cwewRM"
      }
    },
    {
      "cell_type": "code",
      "execution_count": 35,
      "metadata": {
        "id": "ZbG5iXQoewRM",
        "outputId": "151d7674-ce0c-400f-972d-8a7f499f4a85",
        "colab": {
          "base_uri": "https://localhost:8080/"
        }
      },
      "outputs": [
        {
          "output_type": "execute_result",
          "data": {
            "text/plain": [
              "('char', 12, 1.2, True)"
            ]
          },
          "metadata": {},
          "execution_count": 35
        }
      ],
      "source": [
        "multi_tuple = ('char',12,1.2,True)\n",
        "multi_tuple"
      ]
    },
    {
      "cell_type": "markdown",
      "source": [
        "### 26. Check if two tuples are identical."
      ],
      "metadata": {
        "id": "-8KXydULewRM"
      }
    },
    {
      "cell_type": "code",
      "source": [
        "def tuplesIdentical(tuple1,tuple2):\n",
        "  ''' check if 2 tuples are identical\n",
        "\n",
        "  Parameters\n",
        "  tuple1,tuple2: tuples to compare\n",
        "\n",
        "  Returns\n",
        "  bool value\n",
        "  '''\n",
        "  if tuple1 == tuple2:\n",
        "    return True\n",
        "  else:\n",
        "    return False"
      ],
      "metadata": {
        "id": "lVAADRhsrDfs"
      },
      "execution_count": 36,
      "outputs": []
    },
    {
      "cell_type": "code",
      "source": [
        "tuplesIdentical(even_tuple,(2,4,6,10,8))"
      ],
      "metadata": {
        "id": "cifN2wAFqNjb",
        "outputId": "bd0cc78d-decc-4854-ed22-8e687c6150f5",
        "colab": {
          "base_uri": "https://localhost:8080/"
        }
      },
      "execution_count": 37,
      "outputs": [
        {
          "output_type": "execute_result",
          "data": {
            "text/plain": [
              "False"
            ]
          },
          "metadata": {},
          "execution_count": 37
        }
      ]
    },
    {
      "cell_type": "code",
      "source": [
        "tuplesIdentical(even_tuple,(2,4,6,8,10))"
      ],
      "metadata": {
        "id": "IK8XXR1Qr8Rc",
        "outputId": "37e73d2c-1e7e-40ee-b1af-048f005bb339",
        "colab": {
          "base_uri": "https://localhost:8080/"
        }
      },
      "execution_count": 38,
      "outputs": [
        {
          "output_type": "execute_result",
          "data": {
            "text/plain": [
              "True"
            ]
          },
          "metadata": {},
          "execution_count": 38
        }
      ]
    },
    {
      "cell_type": "markdown",
      "source": [
        "### 27. Sort the elements of a tuple."
      ],
      "metadata": {
        "id": "7XYEQXqIewRN"
      }
    },
    {
      "cell_type": "code",
      "execution_count": 39,
      "metadata": {
        "id": "1lG75XfgewRN",
        "outputId": "91c646b2-e3fa-4665-9f10-bf1c99ac1958",
        "colab": {
          "base_uri": "https://localhost:8080/"
        }
      },
      "outputs": [
        {
          "output_type": "execute_result",
          "data": {
            "text/plain": [
              "(1, 2, 3, 12, 2, 34, 1, 22, 2, 23, 2)"
            ]
          },
          "metadata": {},
          "execution_count": 39
        }
      ],
      "source": [
        "tuple1"
      ]
    },
    {
      "cell_type": "code",
      "source": [
        "# tuple1 is sorted using the sorted()\n",
        "# sorted() returns a list which is converted to a tuple\n",
        "tuple(sorted(tuple1))"
      ],
      "metadata": {
        "colab": {
          "base_uri": "https://localhost:8080/"
        },
        "outputId": "7855b139-f8a7-4a80-9c3a-020db12a8c03",
        "id": "a5y0v3gIewRO"
      },
      "execution_count": 40,
      "outputs": [
        {
          "output_type": "execute_result",
          "data": {
            "text/plain": [
              "(1, 1, 2, 2, 2, 2, 3, 12, 22, 23, 34)"
            ]
          },
          "metadata": {},
          "execution_count": 40
        }
      ]
    },
    {
      "cell_type": "markdown",
      "source": [
        "### 28. Convert a tuple of integers to a tuple of strings."
      ],
      "metadata": {
        "id": "b5TJhfrYewRO"
      }
    },
    {
      "cell_type": "code",
      "execution_count": 41,
      "metadata": {
        "id": "nGQV5_NjewRO",
        "colab": {
          "base_uri": "https://localhost:8080/"
        },
        "outputId": "d2088738-024e-4ce9-917e-cf6763c434f8"
      },
      "outputs": [
        {
          "output_type": "execute_result",
          "data": {
            "text/plain": [
              "(1, 2, 3, 4, 5)"
            ]
          },
          "metadata": {},
          "execution_count": 41
        }
      ],
      "source": [
        "int_tuple"
      ]
    },
    {
      "cell_type": "code",
      "source": [
        "str_tuple = tuple(str(i) for i in int_tuple)\n",
        "print(str_tuple)"
      ],
      "metadata": {
        "colab": {
          "base_uri": "https://localhost:8080/"
        },
        "id": "URILCgvoubGm",
        "outputId": "92ee2d20-a6aa-46ea-9fc2-565bbb9cbdd9"
      },
      "execution_count": 42,
      "outputs": [
        {
          "output_type": "stream",
          "name": "stdout",
          "text": [
            "('1', '2', '3', '4', '5')\n"
          ]
        }
      ]
    },
    {
      "cell_type": "markdown",
      "source": [
        "### 29. Convert a tuple of strings to a tuple of integers."
      ],
      "metadata": {
        "id": "boW5Le_mwIvM"
      }
    },
    {
      "cell_type": "code",
      "source": [
        "tup = tuple(int(i) for i in str_tuple)\n",
        "print(tup)"
      ],
      "metadata": {
        "outputId": "e884cf08-1224-46fb-ab49-0d9f0fb75279",
        "colab": {
          "base_uri": "https://localhost:8080/"
        },
        "id": "DP3JNvVrwIvd"
      },
      "execution_count": 43,
      "outputs": [
        {
          "output_type": "stream",
          "name": "stdout",
          "text": [
            "(1, 2, 3, 4, 5)\n"
          ]
        }
      ]
    },
    {
      "cell_type": "markdown",
      "source": [
        "### 30. Merge two tuples."
      ],
      "metadata": {
        "id": "GMqi_3XqewRO"
      }
    },
    {
      "cell_type": "code",
      "execution_count": 44,
      "metadata": {
        "id": "bZAQdMQwewRO"
      },
      "outputs": [],
      "source": [
        "merged_tuple = even_tuple + odd_tuple"
      ]
    },
    {
      "cell_type": "code",
      "source": [
        "merged_tuple"
      ],
      "metadata": {
        "id": "Utr_qz3WewRO",
        "outputId": "2651101c-1363-4e29-d3e9-6beea99a2774",
        "colab": {
          "base_uri": "https://localhost:8080/"
        }
      },
      "execution_count": 45,
      "outputs": [
        {
          "output_type": "execute_result",
          "data": {
            "text/plain": [
              "(2, 4, 6, 8, 10, 1, 3, 5, 7, 9)"
            ]
          },
          "metadata": {},
          "execution_count": 45
        }
      ]
    },
    {
      "cell_type": "markdown",
      "source": [
        "### 31. Flatten a nested tuple."
      ],
      "metadata": {
        "id": "2rJxDNh_ewRP"
      }
    },
    {
      "cell_type": "code",
      "source": [
        "nested_tuple"
      ],
      "metadata": {
        "id": "Pjg0zfHEey1d",
        "outputId": "1b5413cd-75a8-453a-fdeb-9fa60d3b3449",
        "colab": {
          "base_uri": "https://localhost:8080/"
        }
      },
      "execution_count": 46,
      "outputs": [
        {
          "output_type": "execute_result",
          "data": {
            "text/plain": [
              "((1, 2, 3), (4, 5, 6), (7, 8, 9))"
            ]
          },
          "metadata": {},
          "execution_count": 46
        }
      ]
    },
    {
      "cell_type": "code",
      "execution_count": 47,
      "metadata": {
        "id": "t6ck4FizewRP"
      },
      "outputs": [],
      "source": [
        "def flattenTuple(tup):\n",
        "  '''flatten a nested tuple\n",
        "\n",
        "  Parameters\n",
        "  tup: tuple to be flattened\n",
        "\n",
        "  Returns\n",
        "  tuple: new flatten tuple\n",
        "  '''\n",
        "  # using list as tuples cannot be editted\n",
        "  new_list = []\n",
        "  for i in tup:\n",
        "    # use extend() to extend if i is a list\n",
        "    # recursion is used for multi-nested list\n",
        "    if type(i) == tuple:\n",
        "      new_list.extend(flattenTuple(i))\n",
        "    # append if i is a value\n",
        "    else:\n",
        "      new_list.append(i)\n",
        "  # converting list to tuple\n",
        "  return tuple(new_list)"
      ]
    },
    {
      "cell_type": "code",
      "source": [
        "flattenTuple(nested_tuple)"
      ],
      "metadata": {
        "id": "fk_VJzJifvfD",
        "outputId": "9124a7b7-d30a-41f5-8fc9-6034b91d6e16",
        "colab": {
          "base_uri": "https://localhost:8080/"
        }
      },
      "execution_count": 48,
      "outputs": [
        {
          "output_type": "execute_result",
          "data": {
            "text/plain": [
              "(1, 2, 3, 4, 5, 6, 7, 8, 9)"
            ]
          },
          "metadata": {},
          "execution_count": 48
        }
      ]
    },
    {
      "cell_type": "markdown",
      "source": [
        "### 32. Create a tuple of the first 5 prime numbers."
      ],
      "metadata": {
        "id": "6LIatSYQewRQ"
      }
    },
    {
      "cell_type": "code",
      "source": [
        "x = 2\n",
        "i=1\n",
        "prime_list = []\n",
        "# counter for getting first 5 prime nos\n",
        "while i<=5:\n",
        "  # for loop to check for prime nos\n",
        "  for j in range(2,x//2 + 1):\n",
        "    if x%j==0:\n",
        "      break\n",
        "  # list is appended is for loop is not breaken\n",
        "  if x%j != 0:\n",
        "    prime_list.append(x)\n",
        "    i += 1\n",
        "  x +=1\n",
        "tuple(prime_list)"
      ],
      "metadata": {
        "id": "6SOGW22WewRQ",
        "outputId": "63e7a6f6-7ce7-40fa-9234-be2440424b76",
        "colab": {
          "base_uri": "https://localhost:8080/"
        }
      },
      "execution_count": 59,
      "outputs": [
        {
          "output_type": "execute_result",
          "data": {
            "text/plain": [
              "(2, 3, 5, 7, 11)"
            ]
          },
          "metadata": {},
          "execution_count": 59
        }
      ]
    },
    {
      "cell_type": "markdown",
      "source": [
        "### 33. Check if a tuple is a palindrome."
      ],
      "metadata": {
        "id": "cVO4L8zcewRR"
      }
    },
    {
      "cell_type": "code",
      "execution_count": 60,
      "metadata": {
        "id": "E55Ib4aQewRR"
      },
      "outputs": [],
      "source": [
        "def isPalindrome(tup):\n",
        "  '''check if the tuple is palindrome\n",
        "\n",
        "  Parameters\n",
        "  tup: to check for palindrome\n",
        "\n",
        "  Returns\n",
        "  bool value\n",
        "  '''\n",
        "  for i in range(len(tup)//2):\n",
        "    if tup[i] != tup[-i-1]:\n",
        "      return False\n",
        "  return True"
      ]
    },
    {
      "cell_type": "code",
      "source": [
        "isPalindrome((1,2,3,2,1))"
      ],
      "metadata": {
        "colab": {
          "base_uri": "https://localhost:8080/"
        },
        "id": "k3Ep6LUFnCcr",
        "outputId": "5d3e7182-80ed-4b55-e4af-71402d3fda2d"
      },
      "execution_count": 61,
      "outputs": [
        {
          "output_type": "execute_result",
          "data": {
            "text/plain": [
              "True"
            ]
          },
          "metadata": {},
          "execution_count": 61
        }
      ]
    },
    {
      "cell_type": "code",
      "source": [
        "isPalindrome((1,2,'app6','app6',2,1))"
      ],
      "metadata": {
        "outputId": "bcf27974-62cb-44d5-d9dc-247502407404",
        "colab": {
          "base_uri": "https://localhost:8080/"
        },
        "id": "AxM3sliXnd4R"
      },
      "execution_count": 62,
      "outputs": [
        {
          "output_type": "execute_result",
          "data": {
            "text/plain": [
              "True"
            ]
          },
          "metadata": {},
          "execution_count": 62
        }
      ]
    },
    {
      "cell_type": "code",
      "source": [
        "isPalindrome((1,2,3,1))"
      ],
      "metadata": {
        "outputId": "be85df34-e864-4dd5-f7e0-5792f5ccdfab",
        "colab": {
          "base_uri": "https://localhost:8080/"
        },
        "id": "szvJywl9nm8a"
      },
      "execution_count": 63,
      "outputs": [
        {
          "output_type": "execute_result",
          "data": {
            "text/plain": [
              "False"
            ]
          },
          "metadata": {},
          "execution_count": 63
        }
      ]
    },
    {
      "cell_type": "markdown",
      "source": [
        "### 34. Create a tuple of squares of numbers from 1 to 5."
      ],
      "metadata": {
        "id": "eLLug0EuewRR"
      }
    },
    {
      "cell_type": "code",
      "execution_count": 64,
      "metadata": {
        "id": "zT_H0mC-ewRR",
        "outputId": "c40eed8e-0389-4bce-bd7d-1ffe2ac1e07d",
        "colab": {
          "base_uri": "https://localhost:8080/"
        }
      },
      "outputs": [
        {
          "output_type": "execute_result",
          "data": {
            "text/plain": [
              "(1, 4, 9, 16, 25)"
            ]
          },
          "metadata": {},
          "execution_count": 64
        }
      ],
      "source": [
        "square_tuple = tuple(i**2 for i in range(1,6))\n",
        "square_tuple"
      ]
    },
    {
      "cell_type": "markdown",
      "source": [
        "### 35. Filter out all even numbers from a tuple."
      ],
      "metadata": {
        "id": "HPxfsNh9ewRR"
      }
    },
    {
      "cell_type": "code",
      "execution_count": 65,
      "metadata": {
        "id": "Yp80fpdJewRS",
        "outputId": "d7ccf953-e1f9-44f9-c924-2e8b8d082714",
        "colab": {
          "base_uri": "https://localhost:8080/"
        }
      },
      "outputs": [
        {
          "output_type": "execute_result",
          "data": {
            "text/plain": [
              "(1, 2, 3, 12, 2, 34, 1, 22, 2, 23, 2)"
            ]
          },
          "metadata": {},
          "execution_count": 65
        }
      ],
      "source": [
        "tuple1"
      ]
    },
    {
      "cell_type": "code",
      "source": [
        "filtered_tuple = tuple(i for i in tuple1 if i%2!=0)\n",
        "filtered_tuple"
      ],
      "metadata": {
        "id": "bQ9DJpwfewRS",
        "outputId": "97eaeb64-b6e4-4fcf-d4c2-2a0dc9680f61",
        "colab": {
          "base_uri": "https://localhost:8080/"
        }
      },
      "execution_count": 66,
      "outputs": [
        {
          "output_type": "execute_result",
          "data": {
            "text/plain": [
              "(1, 3, 1, 23)"
            ]
          },
          "metadata": {},
          "execution_count": 66
        }
      ]
    },
    {
      "cell_type": "markdown",
      "source": [
        "### 36. Multiply all elements in a tuple by 2."
      ],
      "metadata": {
        "id": "wsUJEhCBewRS"
      }
    },
    {
      "cell_type": "code",
      "execution_count": 67,
      "metadata": {
        "id": "p9povOrrewRS",
        "outputId": "d0fd86b7-75e5-41e9-fc82-562c5b6a766c",
        "colab": {
          "base_uri": "https://localhost:8080/"
        }
      },
      "outputs": [
        {
          "output_type": "execute_result",
          "data": {
            "text/plain": [
              "(2, 8, 18, 32, 50)"
            ]
          },
          "metadata": {},
          "execution_count": 67
        }
      ],
      "source": [
        "# multiplying each element by 2\n",
        "multiple_tuple = tuple(2*i for i in square_tuple)\n",
        "multiple_tuple"
      ]
    },
    {
      "cell_type": "markdown",
      "source": [
        "### 37. Create a tuple of random numbers."
      ],
      "metadata": {
        "id": "Dvc_rNPdewRS"
      }
    },
    {
      "cell_type": "code",
      "execution_count": 68,
      "metadata": {
        "id": "uEvTcn0TewRS",
        "outputId": "d6a42748-e96f-4fb8-83f9-8e97f9382e2a",
        "colab": {
          "base_uri": "https://localhost:8080/"
        }
      },
      "outputs": [
        {
          "output_type": "execute_result",
          "data": {
            "text/plain": [
              "(0.15035469856175254,\n",
              " 0.7004062074297257,\n",
              " 0.42080661495686833,\n",
              " 0.30047371222748964,\n",
              " 0.8191139657959037,\n",
              " 0.34281373559431116,\n",
              " 0.18084257120503022,\n",
              " 0.027872743297327807,\n",
              " 0.7572337546242902,\n",
              " 0.5831382054456308)"
            ]
          },
          "metadata": {},
          "execution_count": 68
        }
      ],
      "source": [
        "import random\n",
        "# using random function to generate random float nos\n",
        "random_tuple = tuple(random.random() for i in range(0,10))\n",
        "random_tuple"
      ]
    },
    {
      "cell_type": "markdown",
      "source": [
        "### 38. Check if a tuple is sorted."
      ],
      "metadata": {
        "id": "zTEYd5PlewRT"
      }
    },
    {
      "cell_type": "code",
      "execution_count": 69,
      "metadata": {
        "id": "TYgMM-tNewRT"
      },
      "outputs": [],
      "source": [
        "def isSorted(tup):\n",
        "  '''check if tuple is sorted\n",
        "\n",
        "  Parameters\n",
        "  tup: tuple value\n",
        "\n",
        "  Returns\n",
        "  bool value\n",
        "  '''\n",
        "  return tup == tuple(sorted(tup))"
      ]
    },
    {
      "cell_type": "code",
      "source": [
        "tuple1"
      ],
      "metadata": {
        "id": "d_a9vNqz-_DW",
        "outputId": "9eef347c-1f7b-400c-c0b7-e47ee92594db",
        "colab": {
          "base_uri": "https://localhost:8080/"
        }
      },
      "execution_count": 70,
      "outputs": [
        {
          "output_type": "execute_result",
          "data": {
            "text/plain": [
              "(1, 2, 3, 12, 2, 34, 1, 22, 2, 23, 2)"
            ]
          },
          "metadata": {},
          "execution_count": 70
        }
      ]
    },
    {
      "cell_type": "code",
      "source": [
        "isSorted(tuple1)"
      ],
      "metadata": {
        "id": "ORVFtWDi-buU",
        "outputId": "4b4583ff-8cec-42ef-a683-df7fdf83d00c",
        "colab": {
          "base_uri": "https://localhost:8080/"
        }
      },
      "execution_count": 71,
      "outputs": [
        {
          "output_type": "execute_result",
          "data": {
            "text/plain": [
              "False"
            ]
          },
          "metadata": {},
          "execution_count": 71
        }
      ]
    },
    {
      "cell_type": "code",
      "source": [
        "even_tuple"
      ],
      "metadata": {
        "id": "f2NDJg_g_G9R",
        "outputId": "6c79731a-8f24-4864-85fa-eb745d6d42f0",
        "colab": {
          "base_uri": "https://localhost:8080/"
        }
      },
      "execution_count": 72,
      "outputs": [
        {
          "output_type": "execute_result",
          "data": {
            "text/plain": [
              "(2, 4, 6, 8, 10)"
            ]
          },
          "metadata": {},
          "execution_count": 72
        }
      ]
    },
    {
      "cell_type": "code",
      "source": [
        "isSorted(even_tuple)"
      ],
      "metadata": {
        "id": "UDnhTCic_CLd",
        "outputId": "2ea599ab-9198-4808-d657-5e6d95bcab0f",
        "colab": {
          "base_uri": "https://localhost:8080/"
        }
      },
      "execution_count": 73,
      "outputs": [
        {
          "output_type": "execute_result",
          "data": {
            "text/plain": [
              "True"
            ]
          },
          "metadata": {},
          "execution_count": 73
        }
      ]
    },
    {
      "cell_type": "markdown",
      "source": [
        "### 39. Rotate a tuple to the left by `n` positions."
      ],
      "metadata": {
        "id": "520zdvjR_cnP"
      }
    },
    {
      "cell_type": "code",
      "execution_count": 74,
      "metadata": {
        "id": "xiqpYBH-_cnj"
      },
      "outputs": [],
      "source": [
        "def rotateTupleLeft1(tup,n):\n",
        "  '''rotate the tuple to the left by n positions\n",
        "\n",
        "  Parameters\n",
        "  tup: tuple\n",
        "  n: no. of positions with which it needs to be rotated\n",
        "\n",
        "  Returns\n",
        "  new tuple rotated to left by n positions\n",
        "  '''\n",
        "  # create a copy of the tuple\n",
        "  new_list = list(tup)\n",
        "  length = len(tup)\n",
        "  # adding n to ith position to rotate it\n",
        "  # also use mod if n is more than length of the tuple\n",
        "  for i in range(length):\n",
        "    index = (n+i)%length\n",
        "    new_list[i] = tup[index]\n",
        "  return tuple(new_list)"
      ]
    },
    {
      "cell_type": "code",
      "execution_count": 75,
      "metadata": {
        "id": "ghVHQVr9_cnj"
      },
      "outputs": [],
      "source": [
        "def rotateTupleLeft2(tup,n):\n",
        "  '''rotate the tuple to the left by n positions\n",
        "\n",
        "  Parameters\n",
        "  tup: tuple\n",
        "  n: no. of positions with which it needs to be rotated\n",
        "\n",
        "  Returns\n",
        "  new tuple rotated to left by n positions\n",
        "  '''\n",
        "  # normalizing the n value for cases n more than length of tuple\n",
        "  n = n%len(tup)\n",
        "  new_list =  tup[n:] + tup[:n]\n",
        "  return tuple(new_list)"
      ]
    },
    {
      "cell_type": "code",
      "source": [
        "even_tuple"
      ],
      "metadata": {
        "colab": {
          "base_uri": "https://localhost:8080/"
        },
        "outputId": "e0ab450b-0d49-4079-9829-202af527b2b1",
        "id": "4Mveu3Op_cnk"
      },
      "execution_count": 76,
      "outputs": [
        {
          "output_type": "execute_result",
          "data": {
            "text/plain": [
              "(2, 4, 6, 8, 10)"
            ]
          },
          "metadata": {},
          "execution_count": 76
        }
      ]
    },
    {
      "cell_type": "code",
      "source": [
        "rotateTupleLeft1(even_tuple,13)"
      ],
      "metadata": {
        "colab": {
          "base_uri": "https://localhost:8080/"
        },
        "outputId": "ed80b14d-4e88-49c8-a0e3-4d264cb201d7",
        "id": "PRrL34SH_cnk"
      },
      "execution_count": 77,
      "outputs": [
        {
          "output_type": "execute_result",
          "data": {
            "text/plain": [
              "(8, 10, 2, 4, 6)"
            ]
          },
          "metadata": {},
          "execution_count": 77
        }
      ]
    },
    {
      "cell_type": "code",
      "source": [
        "rotateTupleLeft2(even_tuple,3)"
      ],
      "metadata": {
        "colab": {
          "base_uri": "https://localhost:8080/"
        },
        "outputId": "3e6b8fac-8f11-4610-c74e-a4c38ed50946",
        "id": "UEftHdGm_cnk"
      },
      "execution_count": 78,
      "outputs": [
        {
          "output_type": "execute_result",
          "data": {
            "text/plain": [
              "(8, 10, 2, 4, 6)"
            ]
          },
          "metadata": {},
          "execution_count": 78
        }
      ]
    },
    {
      "cell_type": "markdown",
      "source": [
        "### 40. Rotate a tuple to the right by `n` positions."
      ],
      "metadata": {
        "id": "4rhHp2ST_cnl"
      }
    },
    {
      "cell_type": "code",
      "execution_count": 79,
      "metadata": {
        "id": "0fsUj5m2_cnl"
      },
      "outputs": [],
      "source": [
        "def rotateTupleRight1(l,n):\n",
        "  '''rotate the list to the right by n positions\n",
        "\n",
        "  Parameters\n",
        "  tup: tuple\n",
        "  n: no. of positions with which it needs to be rotated\n",
        "\n",
        "  Returns\n",
        "  new tuple rotated to right by n positions\n",
        "  '''\n",
        "  # create a copy of the tuple\n",
        "  new_list = list(tup)\n",
        "  length = len(tup)\n",
        "  # adding n to ith position to rotate it\n",
        "  # also use mod if n is more than length of the tuple\n",
        "  for i in range(length):\n",
        "    index = abs((i-n)%length)\n",
        "    new_list[index] = tup[i]\n",
        "  return tuple(new_list)"
      ]
    },
    {
      "cell_type": "code",
      "execution_count": 80,
      "metadata": {
        "id": "uquM-3X7_cnl"
      },
      "outputs": [],
      "source": [
        "def rotateTupleRight2(tup,n):\n",
        "  '''rotate the tuple by n positions by n positions\n",
        "\n",
        "  Parameters\n",
        "  tup: tuple\n",
        "  n: no. of positions with which it needs to be rotated\n",
        "\n",
        "  Returns\n",
        "  new tuple rotated to Right by n positions\n",
        "  '''\n",
        "  # normalizing the n value for cases n more than length of list\n",
        "  n = n%len(tup)\n",
        "  new_list =  tup[-n:] + tup[:-n]\n",
        "  return tuple(new_list)"
      ]
    },
    {
      "cell_type": "code",
      "source": [
        "even_tuple"
      ],
      "metadata": {
        "colab": {
          "base_uri": "https://localhost:8080/"
        },
        "outputId": "862373f2-3f5c-4561-8792-75d187f79a55",
        "id": "obgCYTIx_cnl"
      },
      "execution_count": 81,
      "outputs": [
        {
          "output_type": "execute_result",
          "data": {
            "text/plain": [
              "(2, 4, 6, 8, 10)"
            ]
          },
          "metadata": {},
          "execution_count": 81
        }
      ]
    },
    {
      "cell_type": "code",
      "source": [
        "rotateTupleRight2(even_tuple,13)"
      ],
      "metadata": {
        "colab": {
          "base_uri": "https://localhost:8080/"
        },
        "outputId": "18729de8-f71d-4c15-a257-dc360680151a",
        "id": "BtfVHlWX_cnm"
      },
      "execution_count": 82,
      "outputs": [
        {
          "output_type": "execute_result",
          "data": {
            "text/plain": [
              "(6, 8, 10, 2, 4)"
            ]
          },
          "metadata": {},
          "execution_count": 82
        }
      ]
    },
    {
      "cell_type": "code",
      "source": [
        "rotateTupleRight2(even_tuple,3)"
      ],
      "metadata": {
        "colab": {
          "base_uri": "https://localhost:8080/"
        },
        "outputId": "301ac488-87d5-495f-aa1c-60bb82ceb3d1",
        "id": "M1rjippm_cnm"
      },
      "execution_count": 83,
      "outputs": [
        {
          "output_type": "execute_result",
          "data": {
            "text/plain": [
              "(6, 8, 10, 2, 4)"
            ]
          },
          "metadata": {},
          "execution_count": 83
        }
      ]
    },
    {
      "cell_type": "markdown",
      "source": [
        "### 41. Create a tuple of the first 5 Fibonacci numbers."
      ],
      "metadata": {
        "id": "I4Ikz89zC7lI"
      }
    },
    {
      "cell_type": "code",
      "execution_count": 84,
      "metadata": {
        "id": "zZcYQOZUC7lI"
      },
      "outputs": [],
      "source": [
        "def fibo(n):\n",
        "  '''finding the nth fibonacci number\n",
        "\n",
        "  Parameters\n",
        "  n: nth value in fibonacci sequence\n",
        "\n",
        "  Returns\n",
        "  int value\n",
        "  '''\n",
        "  if n <= 2:\n",
        "    return 1\n",
        "  else:\n",
        "    return fibo(n-1) + fibo(n-2)"
      ]
    },
    {
      "cell_type": "code",
      "source": [
        "# create a tuple of first 5 fiboacci nos using list comprehension and fibo()\n",
        "fibo_tuple = tuple(fibo(i+1) for i in range(5))\n",
        "fibo_tuple"
      ],
      "metadata": {
        "colab": {
          "base_uri": "https://localhost:8080/"
        },
        "outputId": "57701e96-070f-4964-8be5-ab45c5823d70",
        "id": "m6vrOpmaC7lJ"
      },
      "execution_count": 85,
      "outputs": [
        {
          "output_type": "execute_result",
          "data": {
            "text/plain": [
              "(1, 1, 2, 3, 5)"
            ]
          },
          "metadata": {},
          "execution_count": 85
        }
      ]
    },
    {
      "cell_type": "markdown",
      "source": [
        "### 42. Create a tuple from user input."
      ],
      "metadata": {
        "id": "l_UAjw3rewRT"
      }
    },
    {
      "cell_type": "code",
      "execution_count": 86,
      "metadata": {
        "id": "A3EkoHDdewRT",
        "outputId": "f01ce220-3d51-4a31-9384-5124e7a13ae2",
        "colab": {
          "base_uri": "https://localhost:8080/"
        }
      },
      "outputs": [
        {
          "name": "stdout",
          "output_type": "stream",
          "text": [
            "Enter the tuple values(csv): 2,3,5,PWSkills\n"
          ]
        },
        {
          "output_type": "execute_result",
          "data": {
            "text/plain": [
              "('2', '3', '5', 'PWSkills')"
            ]
          },
          "metadata": {},
          "execution_count": 86
        }
      ],
      "source": [
        "input_val = input(\"Enter the tuple values(csv): \")\n",
        "user_tuple = tuple(input_val.split(','))\n",
        "user_tuple"
      ]
    },
    {
      "cell_type": "markdown",
      "source": [
        "### 43. Swap two elements in a tuple."
      ],
      "metadata": {
        "id": "fByekj3FewRT"
      }
    },
    {
      "cell_type": "code",
      "source": [
        "even_tuple"
      ],
      "metadata": {
        "id": "yghDaAt9ewRU",
        "outputId": "b2d904df-3216-4ed1-d963-0e628ce2c8bd",
        "colab": {
          "base_uri": "https://localhost:8080/"
        }
      },
      "execution_count": 87,
      "outputs": [
        {
          "output_type": "execute_result",
          "data": {
            "text/plain": [
              "(2, 4, 6, 8, 10)"
            ]
          },
          "metadata": {},
          "execution_count": 87
        }
      ]
    },
    {
      "cell_type": "code",
      "source": [
        "# convert to list and then swap the elements\n",
        "even_list = list(even_tuple)\n",
        "even_list[0],even_list[3] = even_list[3],even_list[0]\n",
        "new_tuple = tuple(even_list)\n",
        "new_tuple"
      ],
      "metadata": {
        "id": "DXpzF7ZiewRU",
        "outputId": "3bbce194-bb1b-4664-96fb-ab59e2237f0e",
        "colab": {
          "base_uri": "https://localhost:8080/"
        }
      },
      "execution_count": 88,
      "outputs": [
        {
          "output_type": "execute_result",
          "data": {
            "text/plain": [
              "(8, 4, 6, 2, 10)"
            ]
          },
          "metadata": {},
          "execution_count": 88
        }
      ]
    },
    {
      "cell_type": "markdown",
      "source": [
        "### 44. Reverse the elements of a tuple."
      ],
      "metadata": {
        "id": "PKjTkFblewRU"
      }
    },
    {
      "cell_type": "code",
      "execution_count": 90,
      "metadata": {
        "id": "H4fEZ0Y8ewRU",
        "outputId": "70d33adb-ab14-4c58-bbd4-f8eaaa73908f",
        "colab": {
          "base_uri": "https://localhost:8080/"
        }
      },
      "outputs": [
        {
          "output_type": "execute_result",
          "data": {
            "text/plain": [
              "(9, 7, 5, 3, 1)"
            ]
          },
          "metadata": {},
          "execution_count": 90
        }
      ],
      "source": [
        "# using indexing to reverse the tuple\n",
        "reversed_tuple = odd_tuple[::-1]\n",
        "reversed_tuple"
      ]
    },
    {
      "cell_type": "markdown",
      "source": [
        "### 45. Create a tuple of the first `n` powers of 2."
      ],
      "metadata": {
        "id": "_s20sYvcH_0s"
      }
    },
    {
      "cell_type": "code",
      "execution_count": 91,
      "metadata": {
        "id": "inbk79xUH_0t"
      },
      "outputs": [],
      "source": [
        "def powersOf2(n):\n",
        "  '''create a tuple with first n powers of 2\n",
        "\n",
        "  Parameters\n",
        "  n: all values to n powers of 2\n",
        "\n",
        "  Returns\n",
        "  tuple: n exponential values of 2\n",
        "  '''\n",
        "  tuple_2_power_n = tuple(2**i for i in range(1,n+1))\n",
        "  return tuple_2_power_n"
      ]
    },
    {
      "cell_type": "code",
      "source": [
        "powersOf2(12)"
      ],
      "metadata": {
        "colab": {
          "base_uri": "https://localhost:8080/"
        },
        "outputId": "7b12a63e-147a-44f3-f4d3-66ebe02421ee",
        "id": "8migm6-rH_0u"
      },
      "execution_count": 92,
      "outputs": [
        {
          "output_type": "execute_result",
          "data": {
            "text/plain": [
              "(2, 4, 8, 16, 32, 64, 128, 256, 512, 1024, 2048, 4096)"
            ]
          },
          "metadata": {},
          "execution_count": 92
        }
      ]
    },
    {
      "cell_type": "markdown",
      "source": [
        "### 46. Find the longest string in a list of strings."
      ],
      "metadata": {
        "id": "cdJMLLC9ewRW"
      }
    },
    {
      "cell_type": "code",
      "execution_count": 93,
      "metadata": {
        "id": "hG167by9ewRW"
      },
      "outputs": [],
      "source": [
        "def longestStringTuple(string_tuple):\n",
        "  '''find the longest string in the given tuple\n",
        "\n",
        "  Parameters\n",
        "  string_tuple: tuple of strings\n",
        "\n",
        "  Returns\n",
        "  string value\n",
        "  '''\n",
        "  # initializing maximum length and longest string\n",
        "  max_len = len(string_tuple[0])\n",
        "  longest_string = string_tuple[0]\n",
        "  for string in string_tuple:\n",
        "    # checking if maximum length is less than the string length then values are updated\n",
        "    if max_len < len(string):\n",
        "      longest_string = string\n",
        "      max_len = len(string)\n",
        "  return longest_string"
      ]
    },
    {
      "cell_type": "code",
      "source": [
        "longestStringTuple(('Python', 'is', 'important', 'in', 'the', 'field', 'of', 'AI.'))"
      ],
      "metadata": {
        "id": "4ASutBO2ewRW",
        "outputId": "a74d3841-eb73-4c09-ff2b-19b26e9ff1c3",
        "colab": {
          "base_uri": "https://localhost:8080/",
          "height": 36
        }
      },
      "execution_count": 94,
      "outputs": [
        {
          "output_type": "execute_result",
          "data": {
            "text/plain": [
              "'important'"
            ],
            "application/vnd.google.colaboratory.intrinsic+json": {
              "type": "string"
            }
          },
          "metadata": {},
          "execution_count": 94
        }
      ]
    },
    {
      "cell_type": "markdown",
      "source": [
        "### 47. Find the shortest string in a list of strings."
      ],
      "metadata": {
        "id": "sC3gglwGewRW"
      }
    },
    {
      "cell_type": "code",
      "execution_count": 95,
      "metadata": {
        "id": "GnMmEYjoewRX"
      },
      "outputs": [],
      "source": [
        "def shortestStringtTuple(string_tuple):\n",
        "  '''find the shortest string in the given tuple\n",
        "\n",
        "  Parameters\n",
        "  string_tuple: tuple of string\n",
        "\n",
        "  Returns\n",
        "  string value\n",
        "  '''\n",
        "  # initializing maximum length and longest string\n",
        "  min_len = len(string_tuple[0])\n",
        "  shortest_string = string_tuple[0]\n",
        "  for string in string_tuple:\n",
        "    # checking if minimum length is more than the string length then values are updated\n",
        "    if min_len > len(string):\n",
        "      shortest_string = string\n",
        "      min_len = len(string)\n",
        "  return shortest_string"
      ]
    },
    {
      "cell_type": "code",
      "source": [
        "shortestStringtTuple(['Python', 'is', 'important', 'in', 'the', 'field', 'of', 'AI.'])"
      ],
      "metadata": {
        "id": "f95QDbCCewRX",
        "outputId": "5809e19c-43a8-4213-cc68-fa4fce7e125c",
        "colab": {
          "base_uri": "https://localhost:8080/",
          "height": 36
        }
      },
      "execution_count": 96,
      "outputs": [
        {
          "output_type": "execute_result",
          "data": {
            "text/plain": [
              "'is'"
            ],
            "application/vnd.google.colaboratory.intrinsic+json": {
              "type": "string"
            }
          },
          "metadata": {},
          "execution_count": 96
        }
      ]
    },
    {
      "cell_type": "markdown",
      "source": [
        "### 48. Create a tuple of the first `n` triangular numbers."
      ],
      "metadata": {
        "id": "eMBTaDF4ewRX"
      }
    },
    {
      "cell_type": "markdown",
      "source": [
        "**Triangular Numbers:** https://study.com/learn/lesson/triangular-numbers-formula-list.html#:~:text=Triangular%20numbers%20are%20numbers%20that,n%20+%201)%20/%202."
      ],
      "metadata": {
        "id": "jnJ5osviewRX"
      }
    },
    {
      "cell_type": "code",
      "execution_count": 97,
      "metadata": {
        "id": "jO2j2pNEewRX"
      },
      "outputs": [],
      "source": [
        "def triangluarNosTuple(n):\n",
        "  ''' create a tuple of first n triangular nos\n",
        "\n",
        "  Parameters\n",
        "  n: no of triangular nos. tuple to be created\n",
        "\n",
        "  Returns\n",
        "  tuple value\n",
        "  '''\n",
        "  triangular_no_list = []\n",
        "  for i in range(1,n+1):\n",
        "    # using the formula to find the ith triangular no val = n*(n+1)/2\n",
        "    ith_value = i*(i+1)//2\n",
        "    # appending the value into the list\n",
        "    triangular_no_list.append(ith_value)\n",
        "  return tuple(triangular_no_list)"
      ]
    },
    {
      "cell_type": "code",
      "source": [
        "triangluarNosTuple(10)"
      ],
      "metadata": {
        "id": "m_7AuaEoewRX",
        "outputId": "46708c76-30e2-48d1-91e1-59433a701e8b",
        "colab": {
          "base_uri": "https://localhost:8080/"
        }
      },
      "execution_count": 98,
      "outputs": [
        {
          "output_type": "execute_result",
          "data": {
            "text/plain": [
              "(1, 3, 6, 10, 15, 21, 28, 36, 45, 55)"
            ]
          },
          "metadata": {},
          "execution_count": 98
        }
      ]
    },
    {
      "cell_type": "markdown",
      "source": [
        "### 49. Check if a tuple contains another tuple as a subsequence."
      ],
      "metadata": {
        "id": "wt6qDCO0ewRY"
      }
    },
    {
      "cell_type": "code",
      "execution_count": 99,
      "metadata": {
        "id": "iVjKPCvdewRY"
      },
      "outputs": [],
      "source": [
        "def checkSubsequenceTuple(main_tuple,sub_tuple):\n",
        "  '''check if a tuple contains another tuple as a sequence\n",
        "\n",
        "  Parameters\n",
        "  main_tuple: list to check for another tuple\n",
        "  sub_tuple: list to be checked in the main tuple\n",
        "\n",
        "  Returns\n",
        "  bool value\n",
        "  '''\n",
        "  for i in sub_tuple:\n",
        "    # checking if element in sub_tuple in present in the main tuple or not\n",
        "    if i not in main_tuple:\n",
        "      return False\n",
        "  return True"
      ]
    },
    {
      "cell_type": "code",
      "source": [
        "checkSubsequenceTuple((1,4,5,3,13,22),(1,22,3))"
      ],
      "metadata": {
        "id": "i-REXeisewRY",
        "colab": {
          "base_uri": "https://localhost:8080/"
        },
        "outputId": "64014568-8ea8-4a9f-9ab4-9abc7a2dee97"
      },
      "execution_count": 100,
      "outputs": [
        {
          "output_type": "execute_result",
          "data": {
            "text/plain": [
              "True"
            ]
          },
          "metadata": {},
          "execution_count": 100
        }
      ]
    },
    {
      "cell_type": "code",
      "source": [
        "checkSubsequenceTuple((1,4,5,3,13),(1,22,3))"
      ],
      "metadata": {
        "id": "z_hzDZHWewRY",
        "colab": {
          "base_uri": "https://localhost:8080/"
        },
        "outputId": "8ea3898d-34dd-4ced-d6f5-9c1b6a55da76"
      },
      "execution_count": 101,
      "outputs": [
        {
          "output_type": "execute_result",
          "data": {
            "text/plain": [
              "False"
            ]
          },
          "metadata": {},
          "execution_count": 101
        }
      ]
    },
    {
      "cell_type": "markdown",
      "source": [
        "### 50. Create a tuple of alternating 1s and 0s of length `n`."
      ],
      "metadata": {
        "id": "Ii8DU1lZewRY"
      }
    },
    {
      "cell_type": "code",
      "execution_count": 102,
      "metadata": {
        "id": "FL-XKbrqewRY"
      },
      "outputs": [],
      "source": [
        "def create01Tuple(n):\n",
        "  '''create a tuple of alternating 1s and 0s of length n\n",
        "\n",
        "  Parameters\n",
        "  n: length of tuple\n",
        "\n",
        "  Returns\n",
        "  tuple value\n",
        "  '''\n",
        "  alter_list = []\n",
        "  for i in range(n//2):\n",
        "    alter_list.append(1)\n",
        "    alter_list.append(0)\n",
        "  if n%2==1:\n",
        "    alter_list.append(1)\n",
        "  return tuple(alter_list)"
      ]
    },
    {
      "cell_type": "code",
      "source": [
        "create01Tuple(4)"
      ],
      "metadata": {
        "id": "WmyRj7vEewRY",
        "colab": {
          "base_uri": "https://localhost:8080/"
        },
        "outputId": "a93f31f0-da53-4d9e-a74c-fb10e2004cfe"
      },
      "execution_count": 103,
      "outputs": [
        {
          "output_type": "execute_result",
          "data": {
            "text/plain": [
              "(1, 0, 1, 0)"
            ]
          },
          "metadata": {},
          "execution_count": 103
        }
      ]
    },
    {
      "cell_type": "code",
      "source": [
        "create01Tuple(5)"
      ],
      "metadata": {
        "colab": {
          "base_uri": "https://localhost:8080/"
        },
        "id": "3oLSXjITditU",
        "outputId": "39df167f-60ec-4b92-fde7-753a299102c7"
      },
      "execution_count": 104,
      "outputs": [
        {
          "output_type": "execute_result",
          "data": {
            "text/plain": [
              "(1, 0, 1, 0, 1)"
            ]
          },
          "metadata": {},
          "execution_count": 104
        }
      ]
    },
    {
      "cell_type": "markdown",
      "source": [
        "# Set Based Assignment Problem"
      ],
      "metadata": {
        "id": "saO-qXD0e3vN"
      }
    },
    {
      "cell_type": "markdown",
      "source": [
        "### 1. Create a set with integers from 1 to 5."
      ],
      "metadata": {
        "id": "EaL3V8TIe3vZ"
      }
    },
    {
      "cell_type": "code",
      "execution_count": 38,
      "metadata": {
        "colab": {
          "base_uri": "https://localhost:8080/"
        },
        "outputId": "1d7b1f8e-25d1-4990-dd32-5a5efd4515b4",
        "id": "pVrYfJIge3vZ"
      },
      "outputs": [
        {
          "output_type": "execute_result",
          "data": {
            "text/plain": [
              "{1, 2, 3, 4, 5}"
            ]
          },
          "metadata": {},
          "execution_count": 38
        }
      ],
      "source": [
        "# using range() to create a range of nos. from 1-5 and then typecast it to tuple\n",
        "int_set = set(range(1,6))\n",
        "int_set"
      ]
    },
    {
      "cell_type": "markdown",
      "source": [
        "### 2. Add an element to a set."
      ],
      "metadata": {
        "id": "K26JUEV-e3vZ"
      }
    },
    {
      "cell_type": "code",
      "source": [
        "# using add() to add an element\n",
        "int_set.add(6)\n",
        "int_set"
      ],
      "metadata": {
        "colab": {
          "base_uri": "https://localhost:8080/"
        },
        "outputId": "ad59f91f-9ec1-4617-84be-dd685cdc67ba",
        "id": "tuhYz-M_e3va"
      },
      "execution_count": 39,
      "outputs": [
        {
          "output_type": "execute_result",
          "data": {
            "text/plain": [
              "{1, 2, 3, 4, 5, 6}"
            ]
          },
          "metadata": {},
          "execution_count": 39
        }
      ]
    },
    {
      "cell_type": "markdown",
      "source": [
        "### 3. Remove an element from a set."
      ],
      "metadata": {
        "id": "2JEjbxOJgYN7"
      }
    },
    {
      "cell_type": "code",
      "execution_count": 40,
      "metadata": {
        "colab": {
          "base_uri": "https://localhost:8080/"
        },
        "outputId": "68a3c3e2-4ea5-4bd2-b0cf-6daf4b5c0898",
        "id": "hY1z3_HUgYOU"
      },
      "outputs": [
        {
          "output_type": "execute_result",
          "data": {
            "text/plain": [
              "{1, 2, 3, 4, 5}"
            ]
          },
          "metadata": {},
          "execution_count": 40
        }
      ],
      "source": [
        "# using remove() to remove an element\n",
        "int_set.remove(6)\n",
        "int_set"
      ]
    },
    {
      "cell_type": "markdown",
      "source": [
        "### 4. Check if an element exists in a set."
      ],
      "metadata": {
        "id": "YkIImjqmgYOV"
      }
    },
    {
      "cell_type": "code",
      "execution_count": 41,
      "metadata": {
        "id": "PAYZ81VUgYOV"
      },
      "outputs": [],
      "source": [
        "def checkSetElement(set,element):\n",
        "  '''check if element exists in the set\n",
        "\n",
        "  Parameters\n",
        "  set: set in which element is to be checked\n",
        "  element: value to be checked\n",
        "\n",
        "  Returns\n",
        "  bool value\n",
        "  '''\n",
        "  # using in to check if value is there\n",
        "  if element in set:\n",
        "    return True\n",
        "  else:\n",
        "    return False"
      ]
    },
    {
      "cell_type": "code",
      "source": [
        "checkSetElement(int_set,49)"
      ],
      "metadata": {
        "colab": {
          "base_uri": "https://localhost:8080/"
        },
        "outputId": "64ab15d0-d797-4796-b522-850a49d3778a",
        "id": "6oCCHLiagYOW"
      },
      "execution_count": 42,
      "outputs": [
        {
          "output_type": "execute_result",
          "data": {
            "text/plain": [
              "False"
            ]
          },
          "metadata": {},
          "execution_count": 42
        }
      ]
    },
    {
      "cell_type": "code",
      "source": [
        "checkSetElement(int_set,5)"
      ],
      "metadata": {
        "colab": {
          "base_uri": "https://localhost:8080/"
        },
        "outputId": "c044f0ed-03ba-4b37-f80f-56aaa4a9506a",
        "id": "1DhpCtURgYOW"
      },
      "execution_count": 43,
      "outputs": [
        {
          "output_type": "execute_result",
          "data": {
            "text/plain": [
              "True"
            ]
          },
          "metadata": {},
          "execution_count": 43
        }
      ]
    },
    {
      "cell_type": "markdown",
      "source": [
        "### 5. Find the length of a tuple without using the `len()` function."
      ],
      "metadata": {
        "id": "6AyldEgye3va"
      }
    },
    {
      "cell_type": "code",
      "execution_count": 44,
      "metadata": {
        "id": "BmwwoYgae3va"
      },
      "outputs": [],
      "source": [
        "def length(set1):\n",
        "  ''' custom length finder for the given set\n",
        "\n",
        "  Parameters\n",
        "  set1: set\n",
        "\n",
        "  Returns\n",
        "  int value: length\n",
        "  '''\n",
        "  count = 0\n",
        "  # using for loop to iterate over all values and increment count for each value\n",
        "  for _ in set1:\n",
        "    count += 1\n",
        "  return count"
      ]
    },
    {
      "cell_type": "code",
      "source": [
        "length(int_set)"
      ],
      "metadata": {
        "colab": {
          "base_uri": "https://localhost:8080/"
        },
        "outputId": "b0fbde0a-d1c7-404a-fd80-b87b55e3f081",
        "id": "cNmLQ6Mce3va"
      },
      "execution_count": 45,
      "outputs": [
        {
          "output_type": "execute_result",
          "data": {
            "text/plain": [
              "5"
            ]
          },
          "metadata": {},
          "execution_count": 45
        }
      ]
    },
    {
      "cell_type": "markdown",
      "source": [
        "### 6. Clear all elements from a set."
      ],
      "metadata": {
        "id": "BzKXM2Gge3va"
      }
    },
    {
      "cell_type": "code",
      "execution_count": 46,
      "metadata": {
        "colab": {
          "base_uri": "https://localhost:8080/"
        },
        "outputId": "2869d79c-ae1b-42d7-f79f-28e49391dd96",
        "id": "Uh2AVr4Ne3vb"
      },
      "outputs": [
        {
          "output_type": "execute_result",
          "data": {
            "text/plain": [
              "{1, 2, 4, 5, 7, 77}"
            ]
          },
          "metadata": {},
          "execution_count": 46
        }
      ],
      "source": [
        "set1 = {1,2,7,5,4,77}\n",
        "set1"
      ]
    },
    {
      "cell_type": "code",
      "source": [
        "# using clear() to clear all the elements\n",
        "set1.clear()\n",
        "set1"
      ],
      "metadata": {
        "colab": {
          "base_uri": "https://localhost:8080/"
        },
        "id": "bxyGUob3idfI",
        "outputId": "4cadadf9-72f4-452e-ec18-b0cab651f120"
      },
      "execution_count": 47,
      "outputs": [
        {
          "output_type": "execute_result",
          "data": {
            "text/plain": [
              "set()"
            ]
          },
          "metadata": {},
          "execution_count": 47
        }
      ]
    },
    {
      "cell_type": "markdown",
      "source": [
        "### 7. Create a set of even numbers from 1 to 10."
      ],
      "metadata": {
        "id": "fGkRWYVVe3vd"
      }
    },
    {
      "cell_type": "code",
      "source": [
        "# using range() to create a range of nos. from 2-10, increment by 2 and then typecast it to set\n",
        "even_set = set(range(2,11,2))\n",
        "even_set"
      ],
      "metadata": {
        "colab": {
          "base_uri": "https://localhost:8080/"
        },
        "outputId": "df0a6763-e9fa-4b55-f40a-2464f2d78c98",
        "id": "J6MEzmXye3vd"
      },
      "execution_count": 48,
      "outputs": [
        {
          "output_type": "execute_result",
          "data": {
            "text/plain": [
              "{2, 4, 6, 8, 10}"
            ]
          },
          "metadata": {},
          "execution_count": 48
        }
      ]
    },
    {
      "cell_type": "markdown",
      "source": [
        "### 8. Create a tuple of odd numbers from 1 to 10."
      ],
      "metadata": {
        "id": "lXTsCQ3Fe3ve"
      }
    },
    {
      "cell_type": "code",
      "source": [
        "# using range() to create a range of nos. from 1-10, increment by 2 and then typecast it to set\n",
        "odd_set = set(range(1,10,2))\n",
        "odd_set"
      ],
      "metadata": {
        "outputId": "6a592069-7a92-4300-c22d-2b8de24f551f",
        "colab": {
          "base_uri": "https://localhost:8080/"
        },
        "id": "-9ykzpo3e3ve"
      },
      "execution_count": 49,
      "outputs": [
        {
          "output_type": "execute_result",
          "data": {
            "text/plain": [
              "{1, 3, 5, 7, 9}"
            ]
          },
          "metadata": {},
          "execution_count": 49
        }
      ]
    },
    {
      "cell_type": "markdown",
      "source": [
        "### 9. Find the union of two sets."
      ],
      "metadata": {
        "id": "YUYgIa7Se3vb"
      }
    },
    {
      "cell_type": "code",
      "execution_count": 50,
      "metadata": {
        "colab": {
          "base_uri": "https://localhost:8080/"
        },
        "outputId": "2a70d3c1-d833-44e6-a229-d29316d3e4ed",
        "id": "IMryeGv6e3vb"
      },
      "outputs": [
        {
          "output_type": "execute_result",
          "data": {
            "text/plain": [
              "{1, 2, 3, 4, 5, 6, 7, 8, 9, 10}"
            ]
          },
          "metadata": {},
          "execution_count": 50
        }
      ],
      "source": [
        "# using union() to find the union of 2 sets\n",
        "even_set.union(odd_set)"
      ]
    },
    {
      "cell_type": "markdown",
      "source": [
        "### 10. Find the intersection of two sets."
      ],
      "metadata": {
        "id": "WW_XjFZtj1Lm"
      }
    },
    {
      "cell_type": "code",
      "execution_count": 51,
      "metadata": {
        "colab": {
          "base_uri": "https://localhost:8080/"
        },
        "outputId": "71cb105e-6dfa-4e43-cdc9-eaee08a22167",
        "id": "Eq84w1G3j1L3"
      },
      "outputs": [
        {
          "output_type": "execute_result",
          "data": {
            "text/plain": [
              "set()"
            ]
          },
          "metadata": {},
          "execution_count": 51
        }
      ],
      "source": [
        "# using intersection() to find the intersection of 2 sets\n",
        "even_set.intersection(odd_set)"
      ]
    },
    {
      "cell_type": "code",
      "source": [
        "int_set.intersection(odd_set)"
      ],
      "metadata": {
        "colab": {
          "base_uri": "https://localhost:8080/"
        },
        "id": "y9udZVtjkBZ1",
        "outputId": "c6ce2b35-7ec0-4072-9522-bfd7c78e1a00"
      },
      "execution_count": 52,
      "outputs": [
        {
          "output_type": "execute_result",
          "data": {
            "text/plain": [
              "{1, 3, 5}"
            ]
          },
          "metadata": {},
          "execution_count": 52
        }
      ]
    },
    {
      "cell_type": "code",
      "source": [
        "even_set.intersection(int_set)"
      ],
      "metadata": {
        "colab": {
          "base_uri": "https://localhost:8080/"
        },
        "id": "GAvMuGCHkEWQ",
        "outputId": "8b1ef91e-fd58-45fc-e974-d172f7b32d34"
      },
      "execution_count": 53,
      "outputs": [
        {
          "output_type": "execute_result",
          "data": {
            "text/plain": [
              "{2, 4}"
            ]
          },
          "metadata": {},
          "execution_count": 53
        }
      ]
    },
    {
      "cell_type": "markdown",
      "source": [
        "### 11. Find the difference between two sets."
      ],
      "metadata": {
        "id": "hGIH8QeklP0J"
      }
    },
    {
      "cell_type": "code",
      "execution_count": 54,
      "metadata": {
        "colab": {
          "base_uri": "https://localhost:8080/"
        },
        "outputId": "ef278136-2b5e-4743-9858-da3b762d3503",
        "id": "6UTeggj9lP0l"
      },
      "outputs": [
        {
          "output_type": "execute_result",
          "data": {
            "text/plain": [
              "{2, 4, 6, 8, 10}"
            ]
          },
          "metadata": {},
          "execution_count": 54
        }
      ],
      "source": [
        "# using difference() to find the difference of 2 sets\n",
        "# set outside - set inside\n",
        "even_set.difference(odd_set)"
      ]
    },
    {
      "cell_type": "code",
      "source": [
        "int_set.difference(odd_set)"
      ],
      "metadata": {
        "outputId": "f5d6f2f2-8014-4014-ab09-d7e385c5f576",
        "colab": {
          "base_uri": "https://localhost:8080/"
        },
        "id": "iy64r_YylP0m"
      },
      "execution_count": 55,
      "outputs": [
        {
          "output_type": "execute_result",
          "data": {
            "text/plain": [
              "{2, 4}"
            ]
          },
          "metadata": {},
          "execution_count": 55
        }
      ]
    },
    {
      "cell_type": "code",
      "source": [
        "even_set.difference(int_set)"
      ],
      "metadata": {
        "outputId": "325bee3a-d12a-4aa7-9113-da74977429af",
        "colab": {
          "base_uri": "https://localhost:8080/"
        },
        "id": "2RJfjzqulP0n"
      },
      "execution_count": 56,
      "outputs": [
        {
          "output_type": "execute_result",
          "data": {
            "text/plain": [
              "{6, 8, 10}"
            ]
          },
          "metadata": {},
          "execution_count": 56
        }
      ]
    },
    {
      "cell_type": "markdown",
      "source": [
        "### 12. Check if a set is a subset of another set."
      ],
      "metadata": {
        "id": "amju7IsoluRZ"
      }
    },
    {
      "cell_type": "code",
      "source": [
        "combined_set = even_set.union(odd_set)"
      ],
      "metadata": {
        "id": "aUxm-LTamXrP"
      },
      "execution_count": 57,
      "outputs": []
    },
    {
      "cell_type": "code",
      "execution_count": 58,
      "metadata": {
        "colab": {
          "base_uri": "https://localhost:8080/"
        },
        "outputId": "d8c44606-0520-4748-fcda-48dc51a819d1",
        "id": "rXtDNxmHluR0"
      },
      "outputs": [
        {
          "output_type": "execute_result",
          "data": {
            "text/plain": [
              "False"
            ]
          },
          "metadata": {},
          "execution_count": 58
        }
      ],
      "source": [
        "# using issubset() to find if one set is a subset of another\n",
        "even_set.issubset(odd_set)"
      ]
    },
    {
      "cell_type": "code",
      "source": [
        "combined_set.issubset(even_set)"
      ],
      "metadata": {
        "outputId": "e56460a7-45f9-4858-93b6-024cee77ce47",
        "colab": {
          "base_uri": "https://localhost:8080/"
        },
        "id": "fhAtU2uhluR1"
      },
      "execution_count": 59,
      "outputs": [
        {
          "output_type": "execute_result",
          "data": {
            "text/plain": [
              "False"
            ]
          },
          "metadata": {},
          "execution_count": 59
        }
      ]
    },
    {
      "cell_type": "code",
      "source": [
        "even_set.issubset(combined_set)"
      ],
      "metadata": {
        "outputId": "548286db-a510-4e84-e8ca-82160ca6f31a",
        "colab": {
          "base_uri": "https://localhost:8080/"
        },
        "id": "jwe467F3luR2"
      },
      "execution_count": 60,
      "outputs": [
        {
          "output_type": "execute_result",
          "data": {
            "text/plain": [
              "True"
            ]
          },
          "metadata": {},
          "execution_count": 60
        }
      ]
    },
    {
      "cell_type": "markdown",
      "source": [
        "### 13. Check if a set is a superset of another set."
      ],
      "metadata": {
        "id": "FF3tFd-cnILb"
      }
    },
    {
      "cell_type": "code",
      "execution_count": 61,
      "metadata": {
        "colab": {
          "base_uri": "https://localhost:8080/"
        },
        "outputId": "1f137448-8692-4a33-d8b8-ee92c4f8d1f1",
        "id": "tomtNz3SnIL3"
      },
      "outputs": [
        {
          "output_type": "execute_result",
          "data": {
            "text/plain": [
              "False"
            ]
          },
          "metadata": {},
          "execution_count": 61
        }
      ],
      "source": [
        "# using issuperset() to find if one set is a subset of another\n",
        "even_set.issuperset(odd_set)"
      ]
    },
    {
      "cell_type": "code",
      "source": [
        "combined_set.issuperset(even_set)"
      ],
      "metadata": {
        "outputId": "e5831a30-bbe2-4409-b05f-6913291802ca",
        "colab": {
          "base_uri": "https://localhost:8080/"
        },
        "id": "y1HBWJ7lnIL4"
      },
      "execution_count": 62,
      "outputs": [
        {
          "output_type": "execute_result",
          "data": {
            "text/plain": [
              "True"
            ]
          },
          "metadata": {},
          "execution_count": 62
        }
      ]
    },
    {
      "cell_type": "code",
      "source": [
        "even_set.issuperset(combined_set)"
      ],
      "metadata": {
        "outputId": "bc2e2c22-af3e-42c4-c528-6183418eeb04",
        "colab": {
          "base_uri": "https://localhost:8080/"
        },
        "id": "ZMKImbiDnIL4"
      },
      "execution_count": 63,
      "outputs": [
        {
          "output_type": "execute_result",
          "data": {
            "text/plain": [
              "False"
            ]
          },
          "metadata": {},
          "execution_count": 63
        }
      ]
    },
    {
      "cell_type": "markdown",
      "source": [
        "### 14. Create a set from a list."
      ],
      "metadata": {
        "id": "wos1SQuLe3vc"
      }
    },
    {
      "cell_type": "code",
      "source": [
        "# typecasting by using set()\n",
        "new_set = set([1,2,3,4,5,33,34,23])\n",
        "new_set"
      ],
      "metadata": {
        "outputId": "c104deab-e814-4ea0-85b9-f2783b008c08",
        "colab": {
          "base_uri": "https://localhost:8080/"
        },
        "id": "-e-ZKaUOe3vd"
      },
      "execution_count": 64,
      "outputs": [
        {
          "output_type": "execute_result",
          "data": {
            "text/plain": [
              "{1, 2, 3, 4, 5, 23, 33, 34}"
            ]
          },
          "metadata": {},
          "execution_count": 64
        }
      ]
    },
    {
      "cell_type": "markdown",
      "source": [
        "### 15. Convert a set to a list."
      ],
      "metadata": {
        "id": "78tEbmMUe3vc"
      }
    },
    {
      "cell_type": "code",
      "source": [
        "# typecasting by using list()\n",
        "converted_list = list(new_set)\n",
        "converted_list"
      ],
      "metadata": {
        "colab": {
          "base_uri": "https://localhost:8080/"
        },
        "outputId": "a68ccb1e-1596-45d7-897c-7983003b991a",
        "id": "-Fz-GE-Le3vc"
      },
      "execution_count": 65,
      "outputs": [
        {
          "output_type": "execute_result",
          "data": {
            "text/plain": [
              "[1, 2, 3, 4, 5, 33, 34, 23]"
            ]
          },
          "metadata": {},
          "execution_count": 65
        }
      ]
    },
    {
      "cell_type": "markdown",
      "source": [
        "### 16. Remove a random element from a set."
      ],
      "metadata": {
        "id": "ShsL_xO_e3vd"
      }
    },
    {
      "cell_type": "code",
      "source": [
        "new_set"
      ],
      "metadata": {
        "id": "jTV6BwIP-7vg",
        "outputId": "86486c07-ffed-418b-e315-788a305501f8",
        "colab": {
          "base_uri": "https://localhost:8080/"
        }
      },
      "execution_count": 66,
      "outputs": [
        {
          "output_type": "execute_result",
          "data": {
            "text/plain": [
              "{1, 2, 3, 4, 5, 23, 33, 34}"
            ]
          },
          "metadata": {},
          "execution_count": 66
        }
      ]
    },
    {
      "cell_type": "code",
      "source": [
        "# using random.choice() to choose a random element from the set\n",
        "import random\n",
        "choice = random.choice(list(new_set))\n",
        "new_set.remove(choice)\n",
        "print(\"Removed Element:\",choice)\n",
        "print(\"Updated Set:\",new_set)"
      ],
      "metadata": {
        "outputId": "fc0f2f0f-bb23-4dc4-9ded-8ba0502000f5",
        "colab": {
          "base_uri": "https://localhost:8080/"
        },
        "id": "KcXQXEKme3vd"
      },
      "execution_count": 67,
      "outputs": [
        {
          "output_type": "stream",
          "name": "stdout",
          "text": [
            "Removed Element: 23\n",
            "Updated Set: {1, 2, 3, 4, 5, 33, 34}\n"
          ]
        }
      ]
    },
    {
      "cell_type": "markdown",
      "source": [
        "### 17. Pop an element from a set."
      ],
      "metadata": {
        "id": "vP0salTje3ve"
      }
    },
    {
      "cell_type": "code",
      "source": [
        "new_set"
      ],
      "metadata": {
        "id": "bOefb76ZAjOO",
        "outputId": "26891c49-b9b6-4001-b5fe-aac99b30c9af",
        "colab": {
          "base_uri": "https://localhost:8080/"
        }
      },
      "execution_count": 68,
      "outputs": [
        {
          "output_type": "execute_result",
          "data": {
            "text/plain": [
              "{1, 2, 3, 4, 5, 33, 34}"
            ]
          },
          "metadata": {},
          "execution_count": 68
        }
      ]
    },
    {
      "cell_type": "code",
      "source": [
        "# use pop() to remove the top elemnet\n",
        "removed_element = new_set.pop()\n",
        "print(\"Removed Element:\",removed_element)\n",
        "print(\"Updated Set:\",new_set)"
      ],
      "metadata": {
        "outputId": "615022fd-a7f3-4fdc-cb0c-fd2ef472bfd0",
        "colab": {
          "base_uri": "https://localhost:8080/"
        },
        "id": "RwKtFcALe3ve"
      },
      "execution_count": 69,
      "outputs": [
        {
          "output_type": "stream",
          "name": "stdout",
          "text": [
            "Removed Element: 1\n",
            "Updated Set: {2, 3, 4, 5, 33, 34}\n"
          ]
        }
      ]
    },
    {
      "cell_type": "markdown",
      "source": [
        "### New Section\n",
        "20. Update a set with elements from another set.\n",
        "21. Create a set of the first 5 prime numbers.\n",
        "22. Check if two sets are identical.\n",
        "23. Create a frozen set.\n",
        "24. Check if a set is disjoint with another set.\n",
        "25. Create a set of squares of numbers from 1 to 5.\n",
        "26. Filter out all even numbers from a set.\n",
        "27. Multiply all elements in a set by 2.\n",
        "28. Create a set of random numbers.\n",
        "29. Check if a set is empty.\n",
        "30. Create a nested set (hint: use frozenset).\n",
        "31. Remove an element from a set using the discard method."
      ],
      "metadata": {
        "id": "nTFZLQAx954G"
      }
    },
    {
      "cell_type": "markdown",
      "source": [
        "### 18. Check if two sets have no elements in common."
      ],
      "metadata": {
        "id": "Zb8LkU3ie3ve"
      }
    },
    {
      "cell_type": "code",
      "source": [
        "def ifNoCommon(set1,set2):\n",
        "  '''check if 2 sets have no elements in common\n",
        "\n",
        "  Parameters\n",
        "  set1,set2: sets to be checked for equality\n",
        "\n",
        "  Returns\n",
        "  bool value\n",
        "  '''\n",
        "  # returns True if no element in common\n",
        "  if not set1.intersection(set2):\n",
        "    return True\n",
        "  else:\n",
        "    return False"
      ],
      "metadata": {
        "id": "ziBNob3ne3vf"
      },
      "execution_count": 81,
      "outputs": []
    },
    {
      "cell_type": "code",
      "source": [
        "ifNoCommon(int_set,odd_set)"
      ],
      "metadata": {
        "id": "EjLbEstkBvgq",
        "outputId": "f6e93caf-df2c-4816-ddc8-42d8ffb8acc6",
        "colab": {
          "base_uri": "https://localhost:8080/"
        }
      },
      "execution_count": 84,
      "outputs": [
        {
          "output_type": "execute_result",
          "data": {
            "text/plain": [
              "False"
            ]
          },
          "metadata": {},
          "execution_count": 84
        }
      ]
    },
    {
      "cell_type": "code",
      "source": [
        "ifNoCommon(even_set,odd_set)"
      ],
      "metadata": {
        "id": "RG20pfS8BQRv",
        "outputId": "d6d8ef47-e767-4dbc-b466-2a0bde275d51",
        "colab": {
          "base_uri": "https://localhost:8080/"
        }
      },
      "execution_count": 83,
      "outputs": [
        {
          "output_type": "execute_result",
          "data": {
            "text/plain": [
              "True"
            ]
          },
          "metadata": {},
          "execution_count": 83
        }
      ]
    },
    {
      "cell_type": "markdown",
      "source": [
        "### 19. Find the symmetric difference between two sets."
      ],
      "metadata": {
        "id": "JjC-3cgIDL_7"
      }
    },
    {
      "cell_type": "code",
      "source": [
        "print(\"Set 1:\",even_set)\n",
        "print(\"Set 2:\",int_set)\n",
        "# usin ^ to find the symmetric difference\n",
        "print(\"Symmetric Difference:\",even_set^int_set)\n",
        "#C △ D = (C U D) – (D ∩ C)\n",
        "union_set = even_set.union(int_set)\n",
        "intersection_set = even_set.intersection(int_set)\n",
        "difference_set = union_set.difference(intersection_set)\n",
        "print(\"Union Set:\",union_set)\n",
        "print(\"Intersection Set:\",intersection_set)\n",
        "print(\"Symmetric Difference:\",difference_set)"
      ],
      "metadata": {
        "colab": {
          "base_uri": "https://localhost:8080/"
        },
        "id": "OMo5TGc9e3vg",
        "outputId": "347c4dfb-5584-4bf1-ffcf-84c7f0e9b58d"
      },
      "execution_count": 87,
      "outputs": [
        {
          "output_type": "stream",
          "name": "stdout",
          "text": [
            "Set 1: {2, 4, 6, 8, 10}\n",
            "Set 2: {1, 2, 3, 4, 5}\n",
            "Symmetric Difference: {1, 3, 5, 6, 8, 10}\n",
            "Union Set: {1, 2, 3, 4, 5, 6, 8, 10}\n",
            "Intersection Set: {2, 4}\n",
            "Symmetric Difference: {1, 3, 5, 6, 8, 10}\n"
          ]
        }
      ]
    },
    {
      "cell_type": "markdown",
      "source": [
        "### 1empty\n"
      ],
      "metadata": {
        "id": "f6MnWq_rDNcA"
      }
    },
    {
      "cell_type": "code",
      "source": [
        "def checkEmpty(tup):\n",
        "  '''check if tuple is empty\n",
        "\n",
        "  Parameters\n",
        "  tup: tuple to be checked\n",
        "\n",
        "  Returns\n",
        "  bool value\n",
        "  '''\n",
        "  # if tuple is empty, it is equal to False\n",
        "  if not tup:\n",
        "    return True\n",
        "  else:\n",
        "    return False"
      ],
      "metadata": {
        "id": "6ec-RL8fDNcK"
      },
      "execution_count": null,
      "outputs": []
    },
    {
      "cell_type": "code",
      "source": [
        "checkEmpty(tuple())"
      ],
      "metadata": {
        "colab": {
          "base_uri": "https://localhost:8080/"
        },
        "outputId": "dc54766c-3c42-4241-86ab-1b7c5b502ccd",
        "id": "_o29RYQ0DNcK"
      },
      "execution_count": null,
      "outputs": [
        {
          "output_type": "execute_result",
          "data": {
            "text/plain": [
              "True"
            ]
          },
          "metadata": {},
          "execution_count": 74
        }
      ]
    },
    {
      "cell_type": "code",
      "source": [
        "checkEmpty((1,2,3))"
      ],
      "metadata": {
        "colab": {
          "base_uri": "https://localhost:8080/"
        },
        "outputId": "cebcd504-a0d1-4535-d77b-beb977003b95",
        "id": "s4YPqQFcDNcK"
      },
      "execution_count": null,
      "outputs": [
        {
          "output_type": "execute_result",
          "data": {
            "text/plain": [
              "False"
            ]
          },
          "metadata": {},
          "execution_count": 75
        }
      ]
    },
    {
      "cell_type": "markdown",
      "source": [
        "### 15. Create a nested tuple."
      ],
      "metadata": {
        "id": "LWwlTq-Re3vh"
      }
    },
    {
      "cell_type": "code",
      "source": [
        "# using each tuple as an element\n",
        "nested_tuple = ((1,2,3),(4,5,6),(7,8,9))\n",
        "nested_tuple"
      ],
      "metadata": {
        "colab": {
          "base_uri": "https://localhost:8080/"
        },
        "outputId": "98c54384-7017-4e3e-eb56-b0927e5fd819",
        "id": "LNUH-MAee3vh"
      },
      "execution_count": 76,
      "outputs": [
        {
          "output_type": "execute_result",
          "data": {
            "text/plain": [
              "((1, 2, 3), (4, 5, 6), (7, 8, 9))"
            ]
          },
          "metadata": {},
          "execution_count": 76
        }
      ]
    },
    {
      "cell_type": "markdown",
      "source": [
        "### 16. Access the first element of a nested tuple."
      ],
      "metadata": {
        "id": "K8WKdoTMe3vi"
      }
    },
    {
      "cell_type": "code",
      "source": [
        "# using indexing\n",
        "nested_tuple[0]"
      ],
      "metadata": {
        "outputId": "d3444626-bc94-4739-9450-8533632c2858",
        "colab": {
          "base_uri": "https://localhost:8080/"
        },
        "id": "dIsQZHw4e3vi"
      },
      "execution_count": 77,
      "outputs": [
        {
          "output_type": "execute_result",
          "data": {
            "text/plain": [
              "(1, 2, 3)"
            ]
          },
          "metadata": {},
          "execution_count": 77
        }
      ]
    },
    {
      "cell_type": "markdown",
      "source": [
        "### 17. Create a tuple with a single element."
      ],
      "metadata": {
        "id": "16BSDAnEe3vi"
      }
    },
    {
      "cell_type": "code",
      "source": [
        "tuplex = (1,)\n",
        "print(\"Length of Tuple:\",len(tuplex))\n",
        "print(\"Tuple:\",tuplex)"
      ],
      "metadata": {
        "outputId": "67b582b8-2ec7-40e7-bd59-e417871d41f1",
        "colab": {
          "base_uri": "https://localhost:8080/"
        },
        "id": "RlW2AyN0e3vi"
      },
      "execution_count": 78,
      "outputs": [
        {
          "output_type": "stream",
          "name": "stdout",
          "text": [
            "Length of Tuple: 1\n",
            "Tuple: (1,)\n"
          ]
        }
      ]
    },
    {
      "cell_type": "markdown",
      "source": [
        "### 18. Compare two tuples."
      ],
      "metadata": {
        "id": "d9SPC4w7e3vi"
      }
    },
    {
      "cell_type": "code",
      "source": [
        "def compareTuples(tuple1,tuple2):\n",
        "  '''compare two tuples if equal\n",
        "\n",
        "  Parameters\n",
        "  tupple1,tuple2: tuples to be checked\n",
        "  '''\n",
        "  if tuple1 == tuple2:\n",
        "    print('Tuples are Equal')\n",
        "  elif tuple1 < tuple2:\n",
        "    print(tuple2,'is greater')\n",
        "  else:\n",
        "    print(tuple1,'is greater')"
      ],
      "metadata": {
        "id": "bGvI1SLPe3vi"
      },
      "execution_count": 79,
      "outputs": []
    },
    {
      "cell_type": "code",
      "source": [
        "compareTuples(even_tuple,odd_tuple)"
      ],
      "metadata": {
        "colab": {
          "base_uri": "https://localhost:8080/",
          "height": 181
        },
        "outputId": "86071dc8-bacf-47da-f6de-e6ad2d49b43e",
        "id": "fB8QmUuve3vj"
      },
      "execution_count": 80,
      "outputs": [
        {
          "output_type": "error",
          "ename": "NameError",
          "evalue": "ignored",
          "traceback": [
            "\u001b[0;31m---------------------------------------------------------------------------\u001b[0m",
            "\u001b[0;31mNameError\u001b[0m                                 Traceback (most recent call last)",
            "\u001b[0;32m<ipython-input-80-0e4d3df80b38>\u001b[0m in \u001b[0;36m<cell line: 1>\u001b[0;34m()\u001b[0m\n\u001b[0;32m----> 1\u001b[0;31m \u001b[0mcompareTuples\u001b[0m\u001b[0;34m(\u001b[0m\u001b[0meven_tuple\u001b[0m\u001b[0;34m,\u001b[0m\u001b[0modd_tuple\u001b[0m\u001b[0;34m)\u001b[0m\u001b[0;34m\u001b[0m\u001b[0;34m\u001b[0m\u001b[0m\n\u001b[0m",
            "\u001b[0;31mNameError\u001b[0m: name 'even_tuple' is not defined"
          ]
        }
      ]
    },
    {
      "cell_type": "code",
      "source": [
        "compareTuples(even_tuple,even_tuple)"
      ],
      "metadata": {
        "id": "eVacFgVBe3vj"
      },
      "execution_count": null,
      "outputs": []
    },
    {
      "cell_type": "markdown",
      "source": [
        "### 19. Delete a tuple."
      ],
      "metadata": {
        "id": "CQ2xh1Wqe3vj"
      }
    },
    {
      "cell_type": "code",
      "source": [
        "tuplex"
      ],
      "metadata": {
        "id": "2gUYxK-ve3vj"
      },
      "execution_count": null,
      "outputs": []
    },
    {
      "cell_type": "code",
      "source": [
        "del tuplex"
      ],
      "metadata": {
        "id": "alMpH88Qe3vk"
      },
      "execution_count": null,
      "outputs": []
    },
    {
      "cell_type": "code",
      "source": [
        "try:\n",
        "  print('Tuple: ',tuplex)\n",
        "except Exception as error:\n",
        "  print(error)"
      ],
      "metadata": {
        "id": "Kul61nLoe3vk"
      },
      "execution_count": null,
      "outputs": []
    },
    {
      "cell_type": "markdown",
      "source": [
        "### 20. Slice a tuple."
      ],
      "metadata": {
        "id": "HRffDC-4e3vk"
      }
    },
    {
      "cell_type": "code",
      "source": [
        "tuple1"
      ],
      "metadata": {
        "id": "rSl_7AG-e3vk"
      },
      "execution_count": null,
      "outputs": []
    },
    {
      "cell_type": "code",
      "source": [
        "# same usecase as list indexing\n",
        "print('Sliced Tuple:',tuple1[1:7])"
      ],
      "metadata": {
        "id": "Aa3xMRu_e3vk"
      },
      "execution_count": null,
      "outputs": []
    },
    {
      "cell_type": "markdown",
      "source": [
        "### 21. Find the maximum value in a tuple."
      ],
      "metadata": {
        "id": "e5lGxMZue3vl"
      }
    },
    {
      "cell_type": "code",
      "execution_count": null,
      "metadata": {
        "id": "cpdouss3e3vl"
      },
      "outputs": [],
      "source": [
        "# using max() to find the maximum element in the tuple\n",
        "max(tuple1)"
      ]
    },
    {
      "cell_type": "markdown",
      "source": [
        "### 22. Find the minimum value in a tuple."
      ],
      "metadata": {
        "id": "LC8ljL1le3vl"
      }
    },
    {
      "cell_type": "code",
      "execution_count": null,
      "metadata": {
        "id": "Xv7E8_pNe3vl"
      },
      "outputs": [],
      "source": [
        "# using min() to find the maximum element in the tuple\n",
        "min(tuple1)"
      ]
    },
    {
      "cell_type": "markdown",
      "source": [
        "### 23. Convert a string to a tuple of characters."
      ],
      "metadata": {
        "id": "oKn_Y0Wke3vl"
      }
    },
    {
      "cell_type": "code",
      "source": [
        "# type casting\n",
        "string1 = 'characters'\n",
        "tuple_char = tuple(string1)\n",
        "tuple_char"
      ],
      "metadata": {
        "id": "kmX3cJ1Ze3vm"
      },
      "execution_count": null,
      "outputs": []
    },
    {
      "cell_type": "markdown",
      "source": [
        "### 24. Convert a tuple of characters to a string."
      ],
      "metadata": {
        "id": "ajUhYsXve3vm"
      }
    },
    {
      "cell_type": "code",
      "execution_count": null,
      "metadata": {
        "id": "nTwuIktRe3vm"
      },
      "outputs": [],
      "source": [
        "# using .join to combine tuple chars into one string\n",
        "string2 = ''.join(tuple_char)\n",
        "string2"
      ]
    },
    {
      "cell_type": "markdown",
      "source": [
        "### 25. Create a tuple from multiple data types."
      ],
      "metadata": {
        "id": "r7rOzYLhe3vm"
      }
    },
    {
      "cell_type": "code",
      "execution_count": null,
      "metadata": {
        "id": "xEgJ7ADGe3vm"
      },
      "outputs": [],
      "source": [
        "multi_tuple = ('char',12,1.2,True)\n",
        "multi_tuple"
      ]
    },
    {
      "cell_type": "markdown",
      "source": [
        "### 26. Check if two tuples are identical."
      ],
      "metadata": {
        "id": "wRVCYGEze3vn"
      }
    },
    {
      "cell_type": "code",
      "source": [
        "def tuplesIdentical(tuple1,tuple2):\n",
        "  ''' check if 2 tuples are identical\n",
        "\n",
        "  Parameters\n",
        "  tuple1,tuple2: tuples to compare\n",
        "\n",
        "  Returns\n",
        "  bool value\n",
        "  '''\n",
        "  if tuple1 == tuple2:\n",
        "    return True\n",
        "  else:\n",
        "    return False"
      ],
      "metadata": {
        "id": "mFIYcXize3vn"
      },
      "execution_count": null,
      "outputs": []
    },
    {
      "cell_type": "code",
      "source": [
        "tuplesIdentical(even_tuple,(2,4,6,10,8))"
      ],
      "metadata": {
        "id": "8e4cDkZSe3vn"
      },
      "execution_count": null,
      "outputs": []
    },
    {
      "cell_type": "code",
      "source": [
        "tuplesIdentical(even_tuple,(2,4,6,8,10))"
      ],
      "metadata": {
        "id": "nvwag1oMe3vn"
      },
      "execution_count": null,
      "outputs": []
    },
    {
      "cell_type": "markdown",
      "source": [
        "### 27. Sort the elements of a tuple."
      ],
      "metadata": {
        "id": "DRkkGJKxe3vn"
      }
    },
    {
      "cell_type": "code",
      "execution_count": null,
      "metadata": {
        "id": "g4Nzs-TKe3vo"
      },
      "outputs": [],
      "source": [
        "tuple1"
      ]
    },
    {
      "cell_type": "code",
      "source": [
        "# tuple1 is sorted using the sorted()\n",
        "# sorted() returns a list which is converted to a tuple\n",
        "tuple(sorted(tuple1))"
      ],
      "metadata": {
        "id": "_nxZqYsIe3vo"
      },
      "execution_count": null,
      "outputs": []
    },
    {
      "cell_type": "markdown",
      "source": [
        "### 28. Convert a tuple of integers to a tuple of strings."
      ],
      "metadata": {
        "id": "tNdtS6dte3vo"
      }
    },
    {
      "cell_type": "code",
      "execution_count": null,
      "metadata": {
        "id": "SljLJ3ahe3vo"
      },
      "outputs": [],
      "source": [
        "int_tuple"
      ]
    },
    {
      "cell_type": "code",
      "source": [
        "str_tuple = tuple(str(i) for i in int_tuple)\n",
        "print(str_tuple)"
      ],
      "metadata": {
        "id": "_S-8hy1Se3vo"
      },
      "execution_count": null,
      "outputs": []
    },
    {
      "cell_type": "markdown",
      "source": [
        "### 29. Convert a tuple of strings to a tuple of integers."
      ],
      "metadata": {
        "id": "e_xg-1wie3vp"
      }
    },
    {
      "cell_type": "code",
      "source": [
        "tup = tuple(int(i) for i in str_tuple)\n",
        "print(tup)"
      ],
      "metadata": {
        "id": "Fl6CKkz8e3vp"
      },
      "execution_count": null,
      "outputs": []
    },
    {
      "cell_type": "markdown",
      "source": [
        "### 30. Merge two tuples."
      ],
      "metadata": {
        "id": "lX_JZPfKe3vp"
      }
    },
    {
      "cell_type": "code",
      "execution_count": null,
      "metadata": {
        "id": "SB6eTqa6e3vp"
      },
      "outputs": [],
      "source": [
        "merged_tuple = even_tuple + odd_tuple"
      ]
    },
    {
      "cell_type": "code",
      "source": [
        "merged_tuple"
      ],
      "metadata": {
        "id": "TGdfFtvoe3vp"
      },
      "execution_count": null,
      "outputs": []
    },
    {
      "cell_type": "markdown",
      "source": [
        "### 31. Flatten a nested tuple."
      ],
      "metadata": {
        "id": "xghPFCize3vq"
      }
    },
    {
      "cell_type": "code",
      "source": [
        "nested_tuple"
      ],
      "metadata": {
        "id": "iNgGjnbUe3vq"
      },
      "execution_count": null,
      "outputs": []
    },
    {
      "cell_type": "code",
      "execution_count": null,
      "metadata": {
        "id": "nttalHg1e3vq"
      },
      "outputs": [],
      "source": [
        "def flattenTuple(tup):\n",
        "  '''flatten a nested tuple\n",
        "\n",
        "  Parameters\n",
        "  tup: tuple to be flattened\n",
        "\n",
        "  Returns\n",
        "  tuple: new flatten tuple\n",
        "  '''\n",
        "  # using list as tuples cannot be editted\n",
        "  new_list = []\n",
        "  for i in tup:\n",
        "    # use extend() to extend if i is a list\n",
        "    # recursion is used for multi-nested list\n",
        "    if type(i) == tuple:\n",
        "      new_list.extend(flattenTuple(i))\n",
        "    # append if i is a value\n",
        "    else:\n",
        "      new_list.append(i)\n",
        "  # converting list to tuple\n",
        "  return tuple(new_list)"
      ]
    },
    {
      "cell_type": "code",
      "source": [
        "flattenTuple(nested_tuple)"
      ],
      "metadata": {
        "id": "pOPygfLVe3vq"
      },
      "execution_count": null,
      "outputs": []
    },
    {
      "cell_type": "markdown",
      "source": [
        "### 32. Create a tuple of the first 5 prime numbers."
      ],
      "metadata": {
        "id": "RrNlUvCDe3vq"
      }
    },
    {
      "cell_type": "code",
      "source": [
        "x = 2\n",
        "i=1\n",
        "prime_list = []\n",
        "# counter for getting first 5 prime nos\n",
        "while i<=5:\n",
        "  # for loop to check for prime nos\n",
        "  for j in range(2,x//2 + 1):\n",
        "    if x%j==0:\n",
        "      break\n",
        "  # list is appended is for loop is not breaken\n",
        "  if x%j != 0:\n",
        "    prime_list.append(x)\n",
        "    i += 1\n",
        "  x +=1\n",
        "tuple(prime_list)"
      ],
      "metadata": {
        "id": "BY-0AH_fe3vr"
      },
      "execution_count": null,
      "outputs": []
    },
    {
      "cell_type": "markdown",
      "source": [
        "### 33. Check if a tuple is a palindrome."
      ],
      "metadata": {
        "id": "bJtk4mBme3vr"
      }
    },
    {
      "cell_type": "code",
      "execution_count": null,
      "metadata": {
        "id": "zwL5Jl1Ze3vr"
      },
      "outputs": [],
      "source": [
        "def isPalindrome(tup):\n",
        "  '''check if the tuple is palindrome\n",
        "\n",
        "  Parameters\n",
        "  tup: to check for palindrome\n",
        "\n",
        "  Returns\n",
        "  bool value\n",
        "  '''\n",
        "  for i in range(len(tup)//2):\n",
        "    if tup[i] != tup[-i-1]:\n",
        "      return False\n",
        "  return True"
      ]
    },
    {
      "cell_type": "code",
      "source": [
        "isPalindrome((1,2,3,2,1))"
      ],
      "metadata": {
        "id": "PBrXhQbGe3vs"
      },
      "execution_count": null,
      "outputs": []
    },
    {
      "cell_type": "code",
      "source": [
        "isPalindrome((1,2,'app6','app6',2,1))"
      ],
      "metadata": {
        "id": "0RDvDNKAe3vs"
      },
      "execution_count": null,
      "outputs": []
    },
    {
      "cell_type": "code",
      "source": [
        "isPalindrome((1,2,3,1))"
      ],
      "metadata": {
        "id": "pBO6L44_e3vs"
      },
      "execution_count": null,
      "outputs": []
    },
    {
      "cell_type": "markdown",
      "source": [
        "### 34. Create a tuple of squares of numbers from 1 to 5."
      ],
      "metadata": {
        "id": "gWydRK-4e3vs"
      }
    },
    {
      "cell_type": "code",
      "execution_count": null,
      "metadata": {
        "id": "UsMzlRx5e3vs"
      },
      "outputs": [],
      "source": [
        "square_tuple = tuple(i**2 for i in range(1,6))\n",
        "square_tuple"
      ]
    },
    {
      "cell_type": "markdown",
      "source": [
        "### 35. Filter out all even numbers from a tuple."
      ],
      "metadata": {
        "id": "DEbYiWcSe3vt"
      }
    },
    {
      "cell_type": "code",
      "execution_count": null,
      "metadata": {
        "id": "PqVoAuPLe3vv"
      },
      "outputs": [],
      "source": [
        "tuple1"
      ]
    },
    {
      "cell_type": "code",
      "source": [
        "filtered_tuple = tuple(i for i in tuple1 if i%2!=0)\n",
        "filtered_tuple"
      ],
      "metadata": {
        "id": "ZetWbAqQe3vv"
      },
      "execution_count": null,
      "outputs": []
    },
    {
      "cell_type": "markdown",
      "source": [
        "### 36. Multiply all elements in a tuple by 2."
      ],
      "metadata": {
        "id": "6FR-9s4ie3vv"
      }
    },
    {
      "cell_type": "code",
      "execution_count": null,
      "metadata": {
        "id": "N5-DIOiTe3vv"
      },
      "outputs": [],
      "source": [
        "# multiplying each element by 2\n",
        "multiple_tuple = tuple(2*i for i in square_tuple)\n",
        "multiple_tuple"
      ]
    },
    {
      "cell_type": "markdown",
      "source": [
        "### 37. Create a tuple of random numbers."
      ],
      "metadata": {
        "id": "NnxdXNybe3vw"
      }
    },
    {
      "cell_type": "code",
      "execution_count": null,
      "metadata": {
        "id": "AillRM8Me3vw"
      },
      "outputs": [],
      "source": [
        "import random\n",
        "# using random function to generate random float nos\n",
        "random_tuple = tuple(random.random() for i in range(0,10))\n",
        "random_tuple"
      ]
    },
    {
      "cell_type": "markdown",
      "source": [
        "### 38. Check if a tuple is sorted."
      ],
      "metadata": {
        "id": "JJKLcId7e3vw"
      }
    },
    {
      "cell_type": "code",
      "execution_count": null,
      "metadata": {
        "id": "99o-Z89_e3vw"
      },
      "outputs": [],
      "source": [
        "def isSorted(tup):\n",
        "  '''check if tuple is sorted\n",
        "\n",
        "  Parameters\n",
        "  tup: tuple value\n",
        "\n",
        "  Returns\n",
        "  bool value\n",
        "  '''\n",
        "  return tup == tuple(sorted(tup))"
      ]
    },
    {
      "cell_type": "code",
      "source": [
        "tuple1"
      ],
      "metadata": {
        "id": "7aBTjT-je3vw"
      },
      "execution_count": null,
      "outputs": []
    },
    {
      "cell_type": "code",
      "source": [
        "isSorted(tuple1)"
      ],
      "metadata": {
        "id": "AXTULkIze3vw"
      },
      "execution_count": null,
      "outputs": []
    },
    {
      "cell_type": "code",
      "source": [
        "even_tuple"
      ],
      "metadata": {
        "id": "vIROt11xe3vx"
      },
      "execution_count": null,
      "outputs": []
    },
    {
      "cell_type": "code",
      "source": [
        "isSorted(even_tuple)"
      ],
      "metadata": {
        "id": "MLFzgVm0e3vx"
      },
      "execution_count": null,
      "outputs": []
    },
    {
      "cell_type": "markdown",
      "source": [
        "### 39. Rotate a tuple to the left by `n` positions."
      ],
      "metadata": {
        "id": "u0rr7fRBe3vx"
      }
    },
    {
      "cell_type": "code",
      "execution_count": null,
      "metadata": {
        "id": "9sWoqb_3e3vx"
      },
      "outputs": [],
      "source": [
        "def rotateTupleLeft1(tup,n):\n",
        "  '''rotate the tuple to the left by n positions\n",
        "\n",
        "  Parameters\n",
        "  tup: tuple\n",
        "  n: no. of positions with which it needs to be rotated\n",
        "\n",
        "  Returns\n",
        "  new tuple rotated to left by n positions\n",
        "  '''\n",
        "  # create a copy of the tuple\n",
        "  new_list = list(tup)\n",
        "  length = len(tup)\n",
        "  # adding n to ith position to rotate it\n",
        "  # also use mod if n is more than length of the tuple\n",
        "  for i in range(length):\n",
        "    index = (n+i)%length\n",
        "    new_list[i] = tup[index]\n",
        "  return tuple(new_list)"
      ]
    },
    {
      "cell_type": "code",
      "execution_count": null,
      "metadata": {
        "id": "ibBihtJee3vx"
      },
      "outputs": [],
      "source": [
        "def rotateTupleLeft2(tup,n):\n",
        "  '''rotate the tuple to the left by n positions\n",
        "\n",
        "  Parameters\n",
        "  tup: tuple\n",
        "  n: no. of positions with which it needs to be rotated\n",
        "\n",
        "  Returns\n",
        "  new tuple rotated to left by n positions\n",
        "  '''\n",
        "  # normalizing the n value for cases n more than length of tuple\n",
        "  n = n%len(tup)\n",
        "  new_list =  tup[n:] + tup[:n]\n",
        "  return tuple(new_list)"
      ]
    },
    {
      "cell_type": "code",
      "source": [
        "even_tuple"
      ],
      "metadata": {
        "id": "0cBNIFbAe3vx"
      },
      "execution_count": null,
      "outputs": []
    },
    {
      "cell_type": "code",
      "source": [
        "rotateTupleLeft1(even_tuple,13)"
      ],
      "metadata": {
        "id": "CZNM61hve3vy"
      },
      "execution_count": null,
      "outputs": []
    },
    {
      "cell_type": "code",
      "source": [
        "rotateTupleLeft2(even_tuple,3)"
      ],
      "metadata": {
        "id": "k8n5NXs6e3vy"
      },
      "execution_count": null,
      "outputs": []
    },
    {
      "cell_type": "markdown",
      "source": [
        "### 40. Rotate a tuple to the right by `n` positions."
      ],
      "metadata": {
        "id": "rsaDRbk5e3vy"
      }
    },
    {
      "cell_type": "code",
      "execution_count": null,
      "metadata": {
        "id": "y3bfHi07e3vy"
      },
      "outputs": [],
      "source": [
        "def rotateTupleRight1(l,n):\n",
        "  '''rotate the list to the right by n positions\n",
        "\n",
        "  Parameters\n",
        "  tup: tuple\n",
        "  n: no. of positions with which it needs to be rotated\n",
        "\n",
        "  Returns\n",
        "  new tuple rotated to right by n positions\n",
        "  '''\n",
        "  # create a copy of the tuple\n",
        "  new_list = list(tup)\n",
        "  length = len(tup)\n",
        "  # adding n to ith position to rotate it\n",
        "  # also use mod if n is more than length of the tuple\n",
        "  for i in range(length):\n",
        "    index = abs((i-n)%length)\n",
        "    new_list[index] = tup[i]\n",
        "  return tuple(new_list)"
      ]
    },
    {
      "cell_type": "code",
      "execution_count": null,
      "metadata": {
        "id": "F7mlYTV-e3vy"
      },
      "outputs": [],
      "source": [
        "def rotateTupleRight2(tup,n):\n",
        "  '''rotate the tuple by n positions by n positions\n",
        "\n",
        "  Parameters\n",
        "  tup: tuple\n",
        "  n: no. of positions with which it needs to be rotated\n",
        "\n",
        "  Returns\n",
        "  new tuple rotated to Right by n positions\n",
        "  '''\n",
        "  # normalizing the n value for cases n more than length of list\n",
        "  n = n%len(tup)\n",
        "  new_list =  tup[-n:] + tup[:-n]\n",
        "  return tuple(new_list)"
      ]
    },
    {
      "cell_type": "code",
      "source": [
        "even_tuple"
      ],
      "metadata": {
        "id": "N23JmUc3e3vy"
      },
      "execution_count": null,
      "outputs": []
    },
    {
      "cell_type": "code",
      "source": [
        "rotateTupleRight2(even_tuple,13)"
      ],
      "metadata": {
        "id": "_GwwzrETe3vz"
      },
      "execution_count": null,
      "outputs": []
    },
    {
      "cell_type": "code",
      "source": [
        "rotateTupleRight2(even_tuple,3)"
      ],
      "metadata": {
        "id": "wqdVN4fse3vz"
      },
      "execution_count": null,
      "outputs": []
    },
    {
      "cell_type": "markdown",
      "source": [
        "### 41. Create a tuple of the first 5 Fibonacci numbers."
      ],
      "metadata": {
        "id": "QpFr__7-e3vz"
      }
    },
    {
      "cell_type": "code",
      "execution_count": null,
      "metadata": {
        "id": "-7VUKimoe3vz"
      },
      "outputs": [],
      "source": [
        "def fibo(n):\n",
        "  '''finding the nth fibonacci number\n",
        "\n",
        "  Parameters\n",
        "  n: nth value in fibonacci sequence\n",
        "\n",
        "  Returns\n",
        "  int value\n",
        "  '''\n",
        "  if n <= 2:\n",
        "    return 1\n",
        "  else:\n",
        "    return fibo(n-1) + fibo(n-2)"
      ]
    },
    {
      "cell_type": "code",
      "source": [
        "# create a tuple of first 5 fiboacci nos using list comprehension and fibo()\n",
        "fibo_tuple = tuple(fibo(i+1) for i in range(5))\n",
        "fibo_tuple"
      ],
      "metadata": {
        "id": "YCA5bxhUe3vz"
      },
      "execution_count": null,
      "outputs": []
    },
    {
      "cell_type": "markdown",
      "source": [
        "### 42. Create a tuple from user input."
      ],
      "metadata": {
        "id": "gMMqfI3te3vz"
      }
    },
    {
      "cell_type": "code",
      "execution_count": null,
      "metadata": {
        "id": "19aJhe1ke3v0"
      },
      "outputs": [],
      "source": [
        "input = input(\"Enter the tuple values(csv): \")\n",
        "user_tuple = tuple(input.split(','))\n",
        "user_tuple"
      ]
    },
    {
      "cell_type": "markdown",
      "source": [
        "### 43. Swap two elements in a tuple."
      ],
      "metadata": {
        "id": "hNSPd9SKe3v0"
      }
    },
    {
      "cell_type": "code",
      "source": [
        "even_tuple"
      ],
      "metadata": {
        "id": "ok-9C0BOe3v0"
      },
      "execution_count": null,
      "outputs": []
    },
    {
      "cell_type": "code",
      "source": [
        "# convert to list and then swap the elements\n",
        "even_list = list(even_tuple)\n",
        "even_list[0],even_list[3] = even_list[3],even_list[0]\n",
        "new_tuple = tuple(even_list)\n",
        "new_tuple"
      ],
      "metadata": {
        "id": "LnmnBrRZe3v0"
      },
      "execution_count": null,
      "outputs": []
    },
    {
      "cell_type": "markdown",
      "source": [
        "### 44. Reverse the elements of a tuple."
      ],
      "metadata": {
        "id": "BCY0Bhzpe3v1"
      }
    },
    {
      "cell_type": "code",
      "execution_count": null,
      "metadata": {
        "id": "BNKfzjR4e3v1"
      },
      "outputs": [],
      "source": [
        "# using indexing to reverse the tuple\n",
        "reversed_tuple = odd_tuple[::-1]\n",
        "reversed_tuple"
      ]
    },
    {
      "cell_type": "markdown",
      "source": [
        "### 45. Create a tuple of the first `n` powers of 2."
      ],
      "metadata": {
        "id": "bSiIZKj-e3v1"
      }
    },
    {
      "cell_type": "code",
      "execution_count": null,
      "metadata": {
        "id": "EVCqbvQQe3v1"
      },
      "outputs": [],
      "source": [
        "def powersOf2(n):\n",
        "  '''create a tuple with first n powers of 2\n",
        "\n",
        "  Parameters\n",
        "  n: all values to n powers of 2\n",
        "\n",
        "  Returns\n",
        "  tuple: n exponential values of 2\n",
        "  '''\n",
        "  tuple_2_power_n = tuple(2**i for i in range(1,n+1))\n",
        "  return tuple_2_power_n"
      ]
    },
    {
      "cell_type": "code",
      "source": [
        "powersOf2(12)"
      ],
      "metadata": {
        "id": "5OrqVbTPe3v1"
      },
      "execution_count": null,
      "outputs": []
    },
    {
      "cell_type": "markdown",
      "source": [
        "### 46. Find the longest string in a list of strings."
      ],
      "metadata": {
        "id": "KqvU4sAve3v2"
      }
    },
    {
      "cell_type": "code",
      "execution_count": null,
      "metadata": {
        "id": "Y5_zpj_We3v2"
      },
      "outputs": [],
      "source": [
        "def longestStringTuple(string_tuple):\n",
        "  '''find the longest string in the given tuple\n",
        "\n",
        "  Parameters\n",
        "  string_tuple: tuple of strings\n",
        "\n",
        "  Returns\n",
        "  string value\n",
        "  '''\n",
        "  # initializing maximum length and longest string\n",
        "  max_len = len(string_tuple[0])\n",
        "  longest_string = string_tuple[0]\n",
        "  for string in string_tuple:\n",
        "    # checking if maximum length is less than the string length then values are updated\n",
        "    if max_len < len(string):\n",
        "      longest_string = string\n",
        "      max_len = len(string)\n",
        "  return longest_string"
      ]
    },
    {
      "cell_type": "code",
      "source": [
        "longestStringTuple(('Python', 'is', 'important', 'in', 'the', 'field', 'of', 'AI.'))"
      ],
      "metadata": {
        "id": "S0OrOqvue3v2"
      },
      "execution_count": null,
      "outputs": []
    },
    {
      "cell_type": "markdown",
      "source": [
        "### 47. Find the shortest string in a list of strings."
      ],
      "metadata": {
        "id": "46YmkVpje3v2"
      }
    },
    {
      "cell_type": "code",
      "execution_count": null,
      "metadata": {
        "id": "IbRVS3Dee3v2"
      },
      "outputs": [],
      "source": [
        "def shortestStringtTuple(string_tuple):\n",
        "  '''find the shortest string in the given tuple\n",
        "\n",
        "  Parameters\n",
        "  string_tuple: tuple of string\n",
        "\n",
        "  Returns\n",
        "  string value\n",
        "  '''\n",
        "  # initializing maximum length and longest string\n",
        "  min_len = len(string_tuple[0])\n",
        "  shortest_string = string_tuple[0]\n",
        "  for string in string_tuple:\n",
        "    # checking if minimum length is more than the string length then values are updated\n",
        "    if min_len > len(string):\n",
        "      shortest_string = string\n",
        "      min_len = len(string)\n",
        "  return shortest_string"
      ]
    },
    {
      "cell_type": "code",
      "source": [
        "shortestStringtTuple(['Python', 'is', 'important', 'in', 'the', 'field', 'of', 'AI.'])"
      ],
      "metadata": {
        "id": "ARLzrSMwe3v3"
      },
      "execution_count": null,
      "outputs": []
    },
    {
      "cell_type": "markdown",
      "source": [
        "### 48. Create a tuple of the first `n` triangular numbers."
      ],
      "metadata": {
        "id": "wsrPgFrSe3v3"
      }
    },
    {
      "cell_type": "markdown",
      "source": [
        "**Triangular Numbers:** https://study.com/learn/lesson/triangular-numbers-formula-list.html#:~:text=Triangular%20numbers%20are%20numbers%20that,n%20+%201)%20/%202."
      ],
      "metadata": {
        "id": "9wzO1vKwe3v3"
      }
    },
    {
      "cell_type": "code",
      "execution_count": null,
      "metadata": {
        "id": "zcpwQsC3e3v3"
      },
      "outputs": [],
      "source": [
        "def triangluarNosTuple(n):\n",
        "  ''' create a tuple of first n triangular nos\n",
        "\n",
        "  Parameters\n",
        "  n: no of triangular nos. tuple to be created\n",
        "\n",
        "  Returns\n",
        "  tuple value\n",
        "  '''\n",
        "  triangular_no_list = []\n",
        "  for i in range(1,n+1):\n",
        "    # using the formula to find the ith triangular no val = n*(n+1)/2\n",
        "    ith_value = i*(i+1)//2\n",
        "    # appending the value into the list\n",
        "    triangular_no_list.append(ith_value)\n",
        "  return tuple(triangular_no_list)"
      ]
    },
    {
      "cell_type": "code",
      "source": [
        "triangluarNosTuple(10)"
      ],
      "metadata": {
        "id": "qJV9-dfDe3v4"
      },
      "execution_count": null,
      "outputs": []
    },
    {
      "cell_type": "markdown",
      "source": [
        "### New Section\n",
        "50. Create a tuple of alternating 1s and 0s of length `n`."
      ],
      "metadata": {
        "id": "atiWW-QGe3v4"
      }
    },
    {
      "cell_type": "markdown",
      "source": [
        "### 49. Check if a tuple contains another tuple as a subsequence."
      ],
      "metadata": {
        "id": "V1T1_Iime3v4"
      }
    },
    {
      "cell_type": "code",
      "execution_count": null,
      "metadata": {
        "id": "UwBE6esQe3v5"
      },
      "outputs": [],
      "source": [
        "def checkSubsequenceTuple(main_tuple,sub_tuple):\n",
        "  '''check if a tuple contains another tuple as a sequence\n",
        "\n",
        "  Parameters\n",
        "  main_tuple: list to check for another tuple\n",
        "  sub_tuple: list to be checked in the main tuple\n",
        "\n",
        "  Returns\n",
        "  bool value\n",
        "  '''\n",
        "  for i in sub_tuple:\n",
        "    # checking if element in sub_tuple in present in the main tuple or not\n",
        "    if i not in main_tuple:\n",
        "      return False\n",
        "  return True"
      ]
    },
    {
      "cell_type": "code",
      "source": [
        "checkSubsequenceTuple((1,4,5,3,13,22),(1,22,3))"
      ],
      "metadata": {
        "id": "M8czPlOUe3v5"
      },
      "execution_count": null,
      "outputs": []
    },
    {
      "cell_type": "code",
      "source": [
        "checkSubsequenceTuple((1,4,5,3,13),(1,22,3))"
      ],
      "metadata": {
        "id": "7NizZjSIe3v5"
      },
      "execution_count": null,
      "outputs": []
    },
    {
      "cell_type": "markdown",
      "source": [
        "### 50. Create a tuple of alternating 1s and 0s of length `n`."
      ],
      "metadata": {
        "id": "GziRzwWNe3v5"
      }
    },
    {
      "cell_type": "code",
      "execution_count": null,
      "metadata": {
        "id": "CdrsgBjde3v5"
      },
      "outputs": [],
      "source": [
        "def create01Tuple(n):\n",
        "  '''create a tuple of alternating 1s and 0s of length n\n",
        "\n",
        "  Parameters\n",
        "  n: length of tuple\n",
        "\n",
        "  Returns\n",
        "  tuple value\n",
        "  '''\n",
        "  alter_list = []\n",
        "  for i in range(n//2):\n",
        "    alter_list.append(1)\n",
        "    alter_list.append(0)\n",
        "  if n%2==1:\n",
        "    alter_list.append(1)\n",
        "  return tuple(alter_list)"
      ]
    },
    {
      "cell_type": "code",
      "source": [
        "create01Tuple(4)"
      ],
      "metadata": {
        "id": "E8YNogJoe3v6"
      },
      "execution_count": null,
      "outputs": []
    },
    {
      "cell_type": "code",
      "source": [
        "create01Tuple(5)"
      ],
      "metadata": {
        "id": "kVVEEKwje3v6"
      },
      "execution_count": null,
      "outputs": []
    }
  ]
}