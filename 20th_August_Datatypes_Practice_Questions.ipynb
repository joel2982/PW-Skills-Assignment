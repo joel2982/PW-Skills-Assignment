{
  "nbformat": 4,
  "nbformat_minor": 0,
  "metadata": {
    "colab": {
      "provenance": [],
      "collapsed_sections": [
        "6xDCRmKBZGhC",
        "PMKbVjheZG8G",
        "ig4Lhn2zSemW",
        "cp-9Zh1NkCC0",
        "1Qyt9PEflHCG",
        "arFIu2sGlHWh",
        "xgBZtlFflHgi",
        "_esudfOglJmA",
        "DJerGeFolKUO",
        "nuefA6QNkCRk",
        "ruTrT6lzkCWK",
        "MQePlrM4lwoT",
        "yS4ldfowkCaY",
        "ccn-NfMjkCd_",
        "FqgVdT7RkCiK",
        "SJeyf5YvkCmj",
        "39pFAwVVkCpw",
        "hlKlY2GGkCs0"
      ],
      "authorship_tag": "ABX9TyNbYYQcqJE56pEBc023WbvO",
      "include_colab_link": true
    },
    "kernelspec": {
      "name": "python3",
      "display_name": "Python 3"
    },
    "language_info": {
      "name": "python"
    }
  },
  "cells": [
    {
      "cell_type": "markdown",
      "metadata": {
        "id": "view-in-github",
        "colab_type": "text"
      },
      "source": [
        "<a href=\"https://colab.research.google.com/github/joel2982/PW-Skills-Assignment/blob/master/20th_August_Datatypes_Practice_Questions.ipynb\" target=\"_parent\"><img src=\"https://colab.research.google.com/assets/colab-badge.svg\" alt=\"Open In Colab\"/></a>"
      ]
    },
    {
      "cell_type": "markdown",
      "source": [
        "# String Based Assignment Problem"
      ],
      "metadata": {
        "id": "RJOgKBdyW-wK"
      }
    },
    {
      "cell_type": "markdown",
      "source": [
        "### 1. Write a program to reverse a string."
      ],
      "metadata": {
        "id": "fIe2CcidXTkS"
      }
    },
    {
      "cell_type": "code",
      "execution_count": null,
      "metadata": {
        "colab": {
          "base_uri": "https://localhost:8080/"
        },
        "id": "vR1RFwwLWJn6",
        "outputId": "a82dcfd6-61e1-4d96-929a-49254d67a9a8"
      },
      "outputs": [
        {
          "output_type": "stream",
          "name": "stdout",
          "text": [
            "Enter the String : Python\n",
            "Reversed String : nohtyP\n"
          ]
        }
      ],
      "source": [
        "string = input('Enter the String : ')\n",
        "reversed = string[::-1]\n",
        "print('Reversed String :',reversed)"
      ]
    },
    {
      "cell_type": "markdown",
      "source": [
        "### 2. Check if a string is a palindrome."
      ],
      "metadata": {
        "id": "Ob7iTE_KYFfV"
      }
    },
    {
      "cell_type": "code",
      "execution_count": null,
      "metadata": {
        "colab": {
          "base_uri": "https://localhost:8080/"
        },
        "outputId": "986391e9-41fa-4c0b-dea7-10f1a4589eae",
        "id": "81JPbZZsYFfd"
      },
      "outputs": [
        {
          "output_type": "stream",
          "name": "stdout",
          "text": [
            "Enter the String : malayalam\n",
            "malayalam is a palindrome string\n"
          ]
        }
      ],
      "source": [
        "string = input('Enter the String : ')\n",
        "# converting the whole string into uppercase characters\n",
        "temp = string.upper()\n",
        "# reversing the string\n",
        "reversed = temp[::-1]\n",
        "if reversed == temp:\n",
        "  print(string,'is a palindrome string')\n",
        "else:\n",
        "  print(string,'is not a palindrome string')"
      ]
    },
    {
      "cell_type": "markdown",
      "source": [
        "### 3. Convert a string to uppercase."
      ],
      "metadata": {
        "id": "vaLhMsVnZDvX"
      }
    },
    {
      "cell_type": "code",
      "execution_count": null,
      "metadata": {
        "colab": {
          "base_uri": "https://localhost:8080/"
        },
        "outputId": "5b5e4e23-9d1a-4d41-c215-b75078c72bfd",
        "id": "mnS5ER3PZDvj"
      },
      "outputs": [
        {
          "output_type": "stream",
          "name": "stdout",
          "text": [
            "Enter the String : assignment\n",
            "ASSIGNMENT\n"
          ]
        }
      ],
      "source": [
        "string = input('Enter the String : ')\n",
        "# converting the whole string into uppercase characters\n",
        "new_string = string.upper()\n",
        "print(new_string)"
      ]
    },
    {
      "cell_type": "markdown",
      "source": [
        "### 4. Convert a string to lowercase."
      ],
      "metadata": {
        "id": "rnnWWWxGZvDA"
      }
    },
    {
      "cell_type": "code",
      "execution_count": null,
      "metadata": {
        "colab": {
          "base_uri": "https://localhost:8080/"
        },
        "outputId": "c08be2dd-5894-41fa-d1e1-6f49c3a1f0fb",
        "id": "8RDszJPCZvDL"
      },
      "outputs": [
        {
          "output_type": "stream",
          "name": "stdout",
          "text": [
            "Enter the String : sTRIng PrOBLEMS\n",
            "string problems\n"
          ]
        }
      ],
      "source": [
        "string = input('Enter the String : ')\n",
        "# converting the whole string into lowercase characters\n",
        "new_string = string.lower()\n",
        "print(new_string)"
      ]
    },
    {
      "cell_type": "markdown",
      "source": [
        "### 5,6. Count the number of vowels and consonants in a string."
      ],
      "metadata": {
        "id": "CuxMcrI6aCT7"
      }
    },
    {
      "cell_type": "code",
      "execution_count": null,
      "metadata": {
        "colab": {
          "base_uri": "https://localhost:8080/"
        },
        "outputId": "c65dd873-68a2-4246-b033-185543a03a3e",
        "id": "LCos9GhuaCUD"
      },
      "outputs": [
        {
          "output_type": "stream",
          "name": "stdout",
          "text": [
            "Enter the String : what is a string?\n",
            "No of Vowels : 4\n",
            "No of Consonants : 9\n"
          ]
        }
      ],
      "source": [
        "string = input('Enter the String : ')\n",
        "string = string.upper()\n",
        "vowel_count = 0\n",
        "consonant_count = 0\n",
        "for char in string:\n",
        "  # checking if the char is a vowel\n",
        "  if char in 'AEIOU':\n",
        "    vowel_count = vowel_count + 1\n",
        "  # checking if character is alphabet and it will only if char is not a vowel.\n",
        "  # hence it increments when char is consonant but not when it is a special char\n",
        "  elif char.isalpha():\n",
        "    consonant_count = consonant_count + 1\n",
        "print('No of Vowels :',vowel_count)\n",
        "print('No of Consonants :',consonant_count)"
      ]
    },
    {
      "cell_type": "markdown",
      "source": [
        "### 7. Remove all whitespaces from a string."
      ],
      "metadata": {
        "id": "_fn6Hxs5deAb"
      }
    },
    {
      "cell_type": "code",
      "execution_count": null,
      "metadata": {
        "colab": {
          "base_uri": "https://localhost:8080/"
        },
        "outputId": "b14936fa-641a-4ce7-b0f1-618e188757d5",
        "id": "ivFafr_WdeA0"
      },
      "outputs": [
        {
          "output_type": "stream",
          "name": "stdout",
          "text": [
            "Enter the String : what is a string.\n",
            "whatisastring.\n"
          ]
        }
      ],
      "source": [
        "string = input('Enter the String : ')\n",
        "# using join over splitting the string is more efficient than relpace\n",
        "# as it takes into consideration multi-line strings also\n",
        "new_string = \"\".join(string.split())\n",
        "print(new_string)"
      ]
    },
    {
      "cell_type": "markdown",
      "source": [
        "### 8. Find the length of a string without using the `len()` function."
      ],
      "metadata": {
        "id": "2RScM2UQghWE"
      }
    },
    {
      "cell_type": "code",
      "execution_count": null,
      "metadata": {
        "colab": {
          "base_uri": "https://localhost:8080/"
        },
        "outputId": "20f01593-d94d-4cf6-8c72-2385d9793da7",
        "id": "zsHZc2HKghWP"
      },
      "outputs": [
        {
          "output_type": "stream",
          "name": "stdout",
          "text": [
            "Enter the String : practice is important\n",
            "Length of the String : 21\n"
          ]
        }
      ],
      "source": [
        "string = input('Enter the String : ')\n",
        "# using for loop to find the length\n",
        "count = 0\n",
        "# iterates untill all characters of the string are accessed\n",
        "for char in string:\n",
        "    count = count + 1\n",
        "print('Length of the String :',count)"
      ]
    },
    {
      "cell_type": "markdown",
      "source": [
        "### 9. Check if a string contains a specific word."
      ],
      "metadata": {
        "id": "Zvda0-EYiCLq"
      }
    },
    {
      "cell_type": "markdown",
      "source": [
        "There can be 2 sub-cases for the above question.\n",
        "\n",
        "\n",
        "1.   If the specific word is present in the string as a whole word\n",
        "2.   If the specific word is present in the string not necessarily as a whole word. It can also be a part of any word in the string.\n",
        "\n"
      ],
      "metadata": {
        "id": "p0LV9S3CoRm8"
      }
    },
    {
      "cell_type": "code",
      "execution_count": null,
      "metadata": {
        "colab": {
          "base_uri": "https://localhost:8080/"
        },
        "outputId": "3b617600-cee2-4e25-ac66-844293ca1432",
        "id": "A0h3aJk0iCLz"
      },
      "outputs": [
        {
          "output_type": "stream",
          "name": "stdout",
          "text": [
            "Enter the String : water is a necessity\n",
            "Enter the Word to be searched : water\n",
            "water is present in water is a necessity\n"
          ]
        }
      ],
      "source": [
        "string = input('Enter the String : ')\n",
        "word = input('Enter the Word to be searched : ')\n",
        "# using 'in' keyword to find if word is there in the string\n",
        "# 'split' is used just check if the whole word is present\n",
        "# 'ate' is not present in 'water is a necessity' but if we just use 'in' is will return True because ate is a substring in water but ate is not a specific word in the string\n",
        "if word in string.split():\n",
        "  print(word,'is present in',string)\n",
        "else:\n",
        "  print(word,'is not present in',string)"
      ]
    },
    {
      "cell_type": "code",
      "execution_count": null,
      "metadata": {
        "colab": {
          "base_uri": "https://localhost:8080/"
        },
        "outputId": "636c195d-d6bc-49eb-9b8d-61d95b04c09b",
        "id": "j-oEaVohn2K5"
      },
      "outputs": [
        {
          "output_type": "stream",
          "name": "stdout",
          "text": [
            "Enter the String : water is a necessity\n",
            "Enter the Word to be searched : ate\n",
            "ate is present in water is a necessity\n"
          ]
        }
      ],
      "source": [
        "string = input('Enter the String : ')\n",
        "word = input('Enter the Word to be searched : ')\n",
        "# using 'in' keyword to find if word is there in the string as a whole word or a part of a sub-word\n",
        "if word in string:\n",
        "  print(word,'is present in',string)\n",
        "else:\n",
        "  print(word,'is not present in',string)"
      ]
    },
    {
      "cell_type": "markdown",
      "source": [
        "### 10. Replace a word in a string with another word."
      ],
      "metadata": {
        "id": "wS7SpAxjRxHD"
      }
    },
    {
      "cell_type": "code",
      "execution_count": null,
      "metadata": {
        "id": "qEC4gEZeRxHE"
      },
      "outputs": [],
      "source": [
        "def replaceWord(string,word,new_word):\n",
        "  '''replaces all occurences of a specific word present in a string with another word\n",
        "\n",
        "  Parameters\n",
        "  string: main string to check if word is present\n",
        "  word: the word to be swapped from the string\n",
        "  new_word: the word taking place of the older word\n",
        "\n",
        "  Returns\n",
        "  the new string if the word is present, else prompts that string is not present\n",
        "  '''\n",
        "  # checking if word is present in the string\n",
        "  if word in string:\n",
        "      new_string = ''.join(string.replace(word,new_word))\n",
        "  else:\n",
        "    return f'{word} is not present in the string'\n",
        "  return new_string"
      ]
    },
    {
      "cell_type": "code",
      "source": [
        "replaceWord('air water air air','air','land')"
      ],
      "metadata": {
        "colab": {
          "base_uri": "https://localhost:8080/",
          "height": 35
        },
        "id": "hwdcT2p-ZD46",
        "outputId": "ea380747-09c5-49d2-9d9c-203f47b6e98c"
      },
      "execution_count": null,
      "outputs": [
        {
          "output_type": "execute_result",
          "data": {
            "text/plain": [
              "'land water land land'"
            ],
            "application/vnd.google.colaboratory.intrinsic+json": {
              "type": "string"
            }
          },
          "metadata": {},
          "execution_count": 13
        }
      ]
    },
    {
      "cell_type": "code",
      "source": [
        "replaceWord('air water air air','land','air')"
      ],
      "metadata": {
        "colab": {
          "base_uri": "https://localhost:8080/",
          "height": 35
        },
        "id": "o7EFXXFjbT-8",
        "outputId": "723d79f4-1a8b-48a9-90b2-912476989f82"
      },
      "execution_count": null,
      "outputs": [
        {
          "output_type": "execute_result",
          "data": {
            "text/plain": [
              "'land is not present in the string'"
            ],
            "application/vnd.google.colaboratory.intrinsic+json": {
              "type": "string"
            }
          },
          "metadata": {},
          "execution_count": 14
        }
      ]
    },
    {
      "cell_type": "markdown",
      "source": [
        "### 11. Count the occurrences of a word in a string."
      ],
      "metadata": {
        "id": "GAEK-WEQiMMW"
      }
    },
    {
      "cell_type": "code",
      "execution_count": null,
      "metadata": {
        "id": "XeLIR2vUiMMd"
      },
      "outputs": [],
      "source": [
        "def countWordOccurences(string,word):\n",
        "  '''find the no of occurences of a specific word in the given string\n",
        "\n",
        "  Parameters\n",
        "  string: main string\n",
        "  word: find the no of occurences in the string\n",
        "\n",
        "  Returns int\n",
        "  count: no of occurences of the word\n",
        "  '''\n",
        "  # checking if word is present in the string\n",
        "  words = string.split()\n",
        "  count = 0\n",
        "  for w in words:\n",
        "    if word == w:\n",
        "      count += 1\n",
        "  return count"
      ]
    },
    {
      "cell_type": "code",
      "source": [
        "countWordOccurences('air water air air','air')"
      ],
      "metadata": {
        "colab": {
          "base_uri": "https://localhost:8080/"
        },
        "outputId": "7af948fb-4e8f-4abc-b0af-61f5702167d8",
        "id": "7qqjEgHKiMMd"
      },
      "execution_count": null,
      "outputs": [
        {
          "output_type": "execute_result",
          "data": {
            "text/plain": [
              "3"
            ]
          },
          "metadata": {},
          "execution_count": 16
        }
      ]
    },
    {
      "cell_type": "code",
      "source": [
        "countWordOccurences('air water air air','land')"
      ],
      "metadata": {
        "colab": {
          "base_uri": "https://localhost:8080/"
        },
        "outputId": "356edbaf-71ed-406c-bea2-43e9529459e4",
        "id": "F6loG0_kiMMd"
      },
      "execution_count": null,
      "outputs": [
        {
          "output_type": "execute_result",
          "data": {
            "text/plain": [
              "0"
            ]
          },
          "metadata": {},
          "execution_count": 17
        }
      ]
    },
    {
      "cell_type": "markdown",
      "source": [
        "### 12. Find the first occurrence of a word in a string."
      ],
      "metadata": {
        "id": "ogEvuF5F7MQ0"
      }
    },
    {
      "cell_type": "code",
      "execution_count": null,
      "metadata": {
        "id": "cNMDsN-V7MQ7"
      },
      "outputs": [],
      "source": [
        "def firstWordOccurence(string,word):\n",
        "  '''find the first occurence of a specific word in the given string\n",
        "\n",
        "  Parameters\n",
        "  string: main string\n",
        "  word: substring\n",
        "\n",
        "  Returns int\n",
        "  index: index of the word\n",
        "  '''\n",
        "  # checking if word is present in the string\n",
        "  words = string.split()\n",
        "  index = -1\n",
        "  for i in range(len(words)):\n",
        "    if word == words[i]:\n",
        "      index = i\n",
        "      break\n",
        "  return index"
      ]
    },
    {
      "cell_type": "code",
      "source": [
        "firstWordOccurence('land water air','air')"
      ],
      "metadata": {
        "colab": {
          "base_uri": "https://localhost:8080/"
        },
        "outputId": "f7885986-82f8-432e-a2a6-c831344bf460",
        "id": "WejAsChY7MQ7"
      },
      "execution_count": null,
      "outputs": [
        {
          "output_type": "execute_result",
          "data": {
            "text/plain": [
              "2"
            ]
          },
          "metadata": {},
          "execution_count": 16
        }
      ]
    },
    {
      "cell_type": "code",
      "source": [
        "firstWordOccurence('air water air air','land')"
      ],
      "metadata": {
        "colab": {
          "base_uri": "https://localhost:8080/"
        },
        "outputId": "c15b6f4a-4e0c-4531-d7df-2d3f3191ae6b",
        "id": "BDHWfB287MQ8"
      },
      "execution_count": null,
      "outputs": [
        {
          "output_type": "execute_result",
          "data": {
            "text/plain": [
              "-1"
            ]
          },
          "metadata": {},
          "execution_count": 17
        }
      ]
    },
    {
      "cell_type": "markdown",
      "source": [
        "### 13. Find the last occurrence of a word in a string."
      ],
      "metadata": {
        "id": "k0_kBt-a-Nhn"
      }
    },
    {
      "cell_type": "code",
      "execution_count": null,
      "metadata": {
        "id": "WUdrCVrb-Nhu"
      },
      "outputs": [],
      "source": [
        "def lastWordOccurence(string,word):\n",
        "  '''find the last occurence of a specific word in the given string\n",
        "\n",
        "  Parameters\n",
        "  string: main string\n",
        "  word: substring\n",
        "\n",
        "  Returns int\n",
        "  index: index of the word\n",
        "  '''\n",
        "  # checking if word is present in the string\n",
        "  words = string.split()\n",
        "  index = -1\n",
        "  for i in range(len(words)):\n",
        "    if word == words[i]:\n",
        "      index = i\n",
        "  return index"
      ]
    },
    {
      "cell_type": "code",
      "source": [
        "lastWordOccurence('land water air air, air','air')"
      ],
      "metadata": {
        "colab": {
          "base_uri": "https://localhost:8080/"
        },
        "outputId": "08f5891f-da77-4525-b095-4ea6cd31c75e",
        "id": "KCdteeSw-Nhu"
      },
      "execution_count": null,
      "outputs": [
        {
          "output_type": "execute_result",
          "data": {
            "text/plain": [
              "4"
            ]
          },
          "metadata": {},
          "execution_count": 22
        }
      ]
    },
    {
      "cell_type": "code",
      "source": [
        "lastWordOccurence('air water air air','land')"
      ],
      "metadata": {
        "colab": {
          "base_uri": "https://localhost:8080/"
        },
        "outputId": "90e1c7c7-8d4c-45d3-de34-4fa661d42289",
        "id": "iTqxUUIJ-Nhu"
      },
      "execution_count": null,
      "outputs": [
        {
          "output_type": "execute_result",
          "data": {
            "text/plain": [
              "-1"
            ]
          },
          "metadata": {},
          "execution_count": 23
        }
      ]
    },
    {
      "cell_type": "markdown",
      "source": [
        "### 14. Split a string into a list of words."
      ],
      "metadata": {
        "id": "HVn1_FmY-OxD"
      }
    },
    {
      "cell_type": "code",
      "execution_count": null,
      "metadata": {
        "id": "T55_XL0k-OxE"
      },
      "outputs": [],
      "source": [
        "def splitString(string):\n",
        "  '''split a string into a list of words\n",
        "\n",
        "  Parameters\n",
        "  string: main string\n",
        "\n",
        "  Returns list\n",
        "  words: list of words\n",
        "  '''\n",
        "  # checking if word is present in the string\n",
        "  words = string.split()\n",
        "  return words"
      ]
    },
    {
      "cell_type": "code",
      "source": [
        "splitString('land water air')"
      ],
      "metadata": {
        "colab": {
          "base_uri": "https://localhost:8080/"
        },
        "outputId": "06f8f30f-71e5-4b6d-9126-a154a8f36409",
        "id": "6IkkwFiI-OxE"
      },
      "execution_count": null,
      "outputs": [
        {
          "output_type": "execute_result",
          "data": {
            "text/plain": [
              "['land', 'water', 'air']"
            ]
          },
          "metadata": {},
          "execution_count": 28
        }
      ]
    },
    {
      "cell_type": "code",
      "source": [
        "splitString('air water air air   land')"
      ],
      "metadata": {
        "colab": {
          "base_uri": "https://localhost:8080/"
        },
        "outputId": "7c96486d-1f79-483c-bd93-e0ae109fc3ec",
        "id": "zFLPNXOL-OxE"
      },
      "execution_count": null,
      "outputs": [
        {
          "output_type": "execute_result",
          "data": {
            "text/plain": [
              "['air', 'water', 'air', 'air', 'land']"
            ]
          },
          "metadata": {},
          "execution_count": 30
        }
      ]
    },
    {
      "cell_type": "markdown",
      "source": [
        "### 15. Join a list of words into a string."
      ],
      "metadata": {
        "id": "gqZe-aQ1-O7i"
      }
    },
    {
      "cell_type": "code",
      "execution_count": null,
      "metadata": {
        "id": "Hgkv0bJe-O7i"
      },
      "outputs": [],
      "source": [
        "def joinWords(words):\n",
        "  '''combine a list of words into a string\n",
        "\n",
        "  Parameters\n",
        "  words: a list of substrings\n",
        "\n",
        "  Returns string\n",
        "  string: one string\n",
        "  '''\n",
        "  # checking if word is present in the string\n",
        "  string = ' '.join(words)\n",
        "  return string"
      ]
    },
    {
      "cell_type": "code",
      "source": [
        "joinWords(['land', 'water', 'air'])"
      ],
      "metadata": {
        "colab": {
          "base_uri": "https://localhost:8080/",
          "height": 35
        },
        "outputId": "d2ee3b04-9cd4-41a5-f12f-98e750a397b1",
        "id": "hq4NBu7t-O7j"
      },
      "execution_count": null,
      "outputs": [
        {
          "output_type": "execute_result",
          "data": {
            "text/plain": [
              "'land water air'"
            ],
            "application/vnd.google.colaboratory.intrinsic+json": {
              "type": "string"
            }
          },
          "metadata": {},
          "execution_count": 32
        }
      ]
    },
    {
      "cell_type": "markdown",
      "source": [
        "### 16. Convert a string where words are separated by spaces to one where words are separated by underscores."
      ],
      "metadata": {
        "id": "_9jgf4ypCq3b"
      }
    },
    {
      "cell_type": "code",
      "execution_count": null,
      "metadata": {
        "id": "vMxzQSn_Cq3i"
      },
      "outputs": [],
      "source": [
        "def spacesToUnderscores(string):\n",
        "  '''converting spaces to underscores\n",
        "\n",
        "  Parameters\n",
        "  string: main string\n",
        "\n",
        "  Returns string\n",
        "  string: replaced spaces with underscores\n",
        "  '''\n",
        "  # checking if word is present in the string\n",
        "  new_string = '_'.join(string.split())\n",
        "  return new_string"
      ]
    },
    {
      "cell_type": "code",
      "source": [
        "spacesToUnderscores('land water air')"
      ],
      "metadata": {
        "colab": {
          "base_uri": "https://localhost:8080/",
          "height": 35
        },
        "outputId": "65a4ed41-e638-46f9-f0a7-8260e9f8c6a0",
        "id": "0YMhbhYxCq3j"
      },
      "execution_count": null,
      "outputs": [
        {
          "output_type": "execute_result",
          "data": {
            "text/plain": [
              "'land_water_air'"
            ],
            "application/vnd.google.colaboratory.intrinsic+json": {
              "type": "string"
            }
          },
          "metadata": {},
          "execution_count": 36
        }
      ]
    },
    {
      "cell_type": "markdown",
      "source": [
        "### 17. Check if a string starts with a specific word or phrase."
      ],
      "metadata": {
        "id": "7rlGysUbCrBS"
      }
    },
    {
      "cell_type": "code",
      "execution_count": null,
      "metadata": {
        "id": "s5-peby7CrBS"
      },
      "outputs": [],
      "source": [
        "def checkStartSubstring(string,substring):\n",
        "  '''checking if string starts with a substring\n",
        "\n",
        "  Parameters\n",
        "  string: main\n",
        "  substring: smaller string\n",
        "\n",
        "  Returns\n",
        "  bool value\n",
        "  '''\n",
        "  # checking if word is present in the string\n",
        "  l = len(substring)\n",
        "  if string[:l] != substring:\n",
        "    return False\n",
        "  return True"
      ]
    },
    {
      "cell_type": "code",
      "source": [
        "checkStartSubstring('I love programming','I love pro')"
      ],
      "metadata": {
        "colab": {
          "base_uri": "https://localhost:8080/"
        },
        "outputId": "a345585c-9ac8-48b2-ff6a-fb0174ad6d65",
        "id": "dYwT9qfMCrBT"
      },
      "execution_count": null,
      "outputs": [
        {
          "output_type": "execute_result",
          "data": {
            "text/plain": [
              "True"
            ]
          },
          "metadata": {},
          "execution_count": 20
        }
      ]
    },
    {
      "cell_type": "code",
      "source": [
        "checkStartSubstring('I love programming','I love coding')"
      ],
      "metadata": {
        "colab": {
          "base_uri": "https://localhost:8080/"
        },
        "outputId": "b6bc5402-60e7-4dd1-9c24-c1e1c81c7c1f",
        "id": "z44YUAlVArBM"
      },
      "execution_count": null,
      "outputs": [
        {
          "output_type": "execute_result",
          "data": {
            "text/plain": [
              "False"
            ]
          },
          "metadata": {},
          "execution_count": 18
        }
      ]
    },
    {
      "cell_type": "markdown",
      "source": [
        "### 18. Check if a string ends with a specific word or phrase."
      ],
      "metadata": {
        "id": "2WsKr3BiCrOj"
      }
    },
    {
      "cell_type": "code",
      "execution_count": null,
      "metadata": {
        "id": "6y_JX4U_CrOj"
      },
      "outputs": [],
      "source": [
        "def checkEndSubstring(string,substring):\n",
        "  '''check if a string ends with a specific substrinf\n",
        "\n",
        "  Parameters\n",
        "  string: main\n",
        "  substring: smaller string\n",
        "\n",
        "  Returns\n",
        "  bool value\n",
        "  '''\n",
        "  # checking if word is present in the string\n",
        "  l = len(substring)\n",
        "  if string[-l::] == substring:\n",
        "    return True\n",
        "  else:\n",
        "    return False"
      ]
    },
    {
      "cell_type": "code",
      "source": [
        "checkEndSubstring('sometimes, I like programming','I like programming')"
      ],
      "metadata": {
        "colab": {
          "base_uri": "https://localhost:8080/"
        },
        "outputId": "611796c3-1cf6-42b0-afaf-2a6b58477a8d",
        "id": "TE-vTYevCrOj"
      },
      "execution_count": null,
      "outputs": [
        {
          "output_type": "execute_result",
          "data": {
            "text/plain": [
              "True"
            ]
          },
          "metadata": {},
          "execution_count": 15
        }
      ]
    },
    {
      "cell_type": "code",
      "source": [
        "checkEndSubstring('sometimes, I like programming','I like coding')"
      ],
      "metadata": {
        "colab": {
          "base_uri": "https://localhost:8080/"
        },
        "outputId": "46a091cc-8327-44d3-f2ca-014c8c18e1ac",
        "id": "iX8XIvfeD15m"
      },
      "execution_count": null,
      "outputs": [
        {
          "output_type": "execute_result",
          "data": {
            "text/plain": [
              "False"
            ]
          },
          "metadata": {},
          "execution_count": 21
        }
      ]
    },
    {
      "cell_type": "markdown",
      "source": [
        "### 19. Convert a string to title case (e.g., \"hello world\" to \"Hello World\")."
      ],
      "metadata": {
        "id": "-qi5_phdCrZb"
      }
    },
    {
      "cell_type": "code",
      "execution_count": null,
      "metadata": {
        "id": "w1VseXEZCrZc"
      },
      "outputs": [],
      "source": [
        "def titleCase(string):\n",
        "  '''Convert a string to title case.\n",
        "\n",
        "  Parameters\n",
        "  string\n",
        "\n",
        "  Returns\n",
        "  string: changed into title case\n",
        "  '''\n",
        "  # using .title func to return titlecase string\n",
        "  return string.title()"
      ]
    },
    {
      "cell_type": "code",
      "source": [
        "titleCase('sometimes, i love programming.')"
      ],
      "metadata": {
        "colab": {
          "base_uri": "https://localhost:8080/"
        },
        "outputId": "2f6f14d7-f1da-43e6-c637-cb990946f845",
        "id": "SOmMySNkCrZc"
      },
      "execution_count": null,
      "outputs": [
        {
          "output_type": "execute_result",
          "data": {
            "text/plain": [
              "'Sometimes, I Love Programming.'"
            ],
            "application/vnd.google.colaboratory.intrinsic+json": {
              "type": "string"
            }
          },
          "metadata": {},
          "execution_count": 26
        }
      ]
    },
    {
      "cell_type": "markdown",
      "source": [
        "### 20. Find the longest word in a string."
      ],
      "metadata": {
        "id": "enurizyDFBHZ"
      }
    },
    {
      "cell_type": "code",
      "execution_count": null,
      "metadata": {
        "id": "4-P0KEciFBHg"
      },
      "outputs": [],
      "source": [
        "def longestWord(string):\n",
        "  '''find the longest word in the string.\n",
        "\n",
        "  Parameters\n",
        "  string\n",
        "\n",
        "  Returns string\n",
        "  word: longest word\n",
        "  '''\n",
        "  words = string.split()\n",
        "  max = 0\n",
        "  long_word = ''\n",
        "  for word in words:\n",
        "    word = word.replace(',','').replace('.','').replace('\"','').replace(\"'\",'')\n",
        "    if len(word) >= max:\n",
        "      long_word = word\n",
        "      max = len(word)\n",
        "  return long_word"
      ]
    },
    {
      "cell_type": "code",
      "source": [
        "longestWord('sometimes, i love programming.')"
      ],
      "metadata": {
        "colab": {
          "base_uri": "https://localhost:8080/",
          "height": 36
        },
        "outputId": "3cb9da8d-12b0-492a-c349-8d20159d3f38",
        "id": "_Cbz3PX1FBHg"
      },
      "execution_count": null,
      "outputs": [
        {
          "output_type": "execute_result",
          "data": {
            "text/plain": [
              "'programming'"
            ],
            "application/vnd.google.colaboratory.intrinsic+json": {
              "type": "string"
            }
          },
          "metadata": {},
          "execution_count": 48
        }
      ]
    },
    {
      "cell_type": "markdown",
      "source": [
        "### 21. Find the shortest word in a string."
      ],
      "metadata": {
        "id": "ufAveZOPFK6b"
      }
    },
    {
      "cell_type": "code",
      "execution_count": null,
      "metadata": {
        "id": "f8WBjrHEFK6m"
      },
      "outputs": [],
      "source": [
        "def shortWord(string):\n",
        "  '''find the shortest word in the string.\n",
        "\n",
        "  Parameters\n",
        "  string\n",
        "\n",
        "  Returns string\n",
        "  word: longest word\n",
        "  '''\n",
        "  words = string.split()\n",
        "  min = 1000\n",
        "  short_word = ''\n",
        "  for word in words:\n",
        "    word = word.replace(',','').replace('.','').replace('\"','').replace(\"'\",'')\n",
        "    if len(word) < min:\n",
        "      short_word = word\n",
        "      min = len(word)\n",
        "  return short_word"
      ]
    },
    {
      "cell_type": "code",
      "source": [
        "shortWord('sometimes, i love programming.')"
      ],
      "metadata": {
        "colab": {
          "base_uri": "https://localhost:8080/",
          "height": 36
        },
        "outputId": "7db23aaf-a99d-4a02-d11c-c724050d39af",
        "id": "QhUon_KrFK6m"
      },
      "execution_count": null,
      "outputs": [
        {
          "output_type": "execute_result",
          "data": {
            "text/plain": [
              "'i'"
            ],
            "application/vnd.google.colaboratory.intrinsic+json": {
              "type": "string"
            }
          },
          "metadata": {},
          "execution_count": 50
        }
      ]
    },
    {
      "cell_type": "markdown",
      "source": [
        "### 22. Reverse the order of words in a string."
      ],
      "metadata": {
        "id": "VQ6La0QrOl-O"
      }
    },
    {
      "cell_type": "code",
      "execution_count": null,
      "metadata": {
        "id": "k63uMJy1Ol-W"
      },
      "outputs": [],
      "source": [
        "def reverseWordOrder(string):\n",
        "  '''reverse the word order of the string\n",
        "\n",
        "  Parameters\n",
        "  string\n",
        "\n",
        "  Returns string\n",
        "  reversed_string\n",
        "  '''\n",
        "  # string = string.replace(',','').replace('.','')\n",
        "  words = string.split()\n",
        "  reversed_string = ' '.join(words[::-1])\n",
        "  return reversed_string"
      ]
    },
    {
      "cell_type": "code",
      "source": [
        "reverseWordOrder('sometimes, i love programming.')"
      ],
      "metadata": {
        "colab": {
          "base_uri": "https://localhost:8080/",
          "height": 36
        },
        "outputId": "0433901d-c5e2-451b-b5d5-b26579458354",
        "id": "-RbjiX12Ol-W"
      },
      "execution_count": null,
      "outputs": [
        {
          "output_type": "execute_result",
          "data": {
            "text/plain": [
              "'programming. love i sometimes,'"
            ],
            "application/vnd.google.colaboratory.intrinsic+json": {
              "type": "string"
            }
          },
          "metadata": {},
          "execution_count": 58
        }
      ]
    },
    {
      "cell_type": "markdown",
      "source": [
        "### 23. Check if a string is alphanumeric."
      ],
      "metadata": {
        "id": "4P77ZckoQdcq"
      }
    },
    {
      "cell_type": "code",
      "execution_count": null,
      "metadata": {
        "id": "aGrfOfNEQdcy"
      },
      "outputs": [],
      "source": [
        "def reverseWordOrder(string):\n",
        "  '''check if a string is alphanumeric\n",
        "\n",
        "  Parameters\n",
        "  string\n",
        "\n",
        "  Returns\n",
        "  bool value\n",
        "  '''\n",
        "  # string = string.replace(',','').replace('.','')\n",
        "  return string.isalnum()"
      ]
    },
    {
      "cell_type": "code",
      "source": [
        "reverseWordOrder('sometimes, i love programming.')"
      ],
      "metadata": {
        "colab": {
          "base_uri": "https://localhost:8080/"
        },
        "outputId": "4cfb6754-7109-4b73-a26c-07477a554cfe",
        "id": "EQJSOTV3Qdcy"
      },
      "execution_count": null,
      "outputs": [
        {
          "output_type": "execute_result",
          "data": {
            "text/plain": [
              "False"
            ]
          },
          "metadata": {},
          "execution_count": 60
        }
      ]
    },
    {
      "cell_type": "code",
      "source": [
        "reverseWordOrder('sometimesiloveprogramming')"
      ],
      "metadata": {
        "colab": {
          "base_uri": "https://localhost:8080/"
        },
        "id": "YrCzYI5MQ8pr",
        "outputId": "aab6c371-8da4-4217-df4f-dceabe9a6291"
      },
      "execution_count": null,
      "outputs": [
        {
          "output_type": "execute_result",
          "data": {
            "text/plain": [
              "True"
            ]
          },
          "metadata": {},
          "execution_count": 63
        }
      ]
    },
    {
      "cell_type": "markdown",
      "source": [
        "### 24. Extract all digits from a string."
      ],
      "metadata": {
        "id": "arK3DUkxRk7t"
      }
    },
    {
      "cell_type": "code",
      "execution_count": null,
      "metadata": {
        "id": "XZmn1531Rk7v"
      },
      "outputs": [],
      "source": [
        "def extractDigits(string):\n",
        "  '''extract all the digits from the string\n",
        "\n",
        "  Parameters\n",
        "  string\n",
        "\n",
        "  Returns\n",
        "  digits: all digits\n",
        "  '''\n",
        "  digits = ''\n",
        "  for char in string:\n",
        "    # using isdigit func. to check if each char is num or not\n",
        "    if char.isdigit():\n",
        "      digits += char\n",
        "  return digits"
      ]
    },
    {
      "cell_type": "code",
      "source": [
        "extractDigits('sometimes, i love programming.')"
      ],
      "metadata": {
        "colab": {
          "base_uri": "https://localhost:8080/",
          "height": 36
        },
        "outputId": "549b4487-30bf-49f0-8912-ddb13bfabdaf",
        "id": "FWxIAKgdRk7w"
      },
      "execution_count": null,
      "outputs": [
        {
          "output_type": "execute_result",
          "data": {
            "text/plain": [
              "''"
            ],
            "application/vnd.google.colaboratory.intrinsic+json": {
              "type": "string"
            }
          },
          "metadata": {},
          "execution_count": 80
        }
      ]
    },
    {
      "cell_type": "code",
      "source": [
        "extractDigits('22 Baker Street')"
      ],
      "metadata": {
        "colab": {
          "base_uri": "https://localhost:8080/",
          "height": 36
        },
        "outputId": "197f0c92-c05a-429b-af65-11bd2687429a",
        "id": "_16sH4t0Rk7x"
      },
      "execution_count": null,
      "outputs": [
        {
          "output_type": "execute_result",
          "data": {
            "text/plain": [
              "'22'"
            ],
            "application/vnd.google.colaboratory.intrinsic+json": {
              "type": "string"
            }
          },
          "metadata": {},
          "execution_count": 81
        }
      ]
    },
    {
      "cell_type": "markdown",
      "source": [
        "### 25. Extract all alphabets from a string."
      ],
      "metadata": {
        "id": "4DSc9BANRlCY"
      }
    },
    {
      "cell_type": "code",
      "execution_count": null,
      "metadata": {
        "id": "BXX4FQx2RlCY"
      },
      "outputs": [],
      "source": [
        "def extractAlpha(string):\n",
        "  '''extract all the digits from the string\n",
        "\n",
        "  Parameters\n",
        "  string\n",
        "\n",
        "  Returns\n",
        "  digits: all digits\n",
        "  '''\n",
        "  alpha = ''\n",
        "  for char in string:\n",
        "    # using isdigit func. to check if each char is alphabet or not\n",
        "    if char.isalpha():\n",
        "      alpha += char\n",
        "  return alpha"
      ]
    },
    {
      "cell_type": "code",
      "source": [
        "extractAlpha('pwskills12 231')"
      ],
      "metadata": {
        "colab": {
          "base_uri": "https://localhost:8080/",
          "height": 36
        },
        "outputId": "6b2f7e4e-0815-4bdb-c097-a9f61d102f72",
        "id": "q_qmxZpkRlCY"
      },
      "execution_count": null,
      "outputs": [
        {
          "output_type": "execute_result",
          "data": {
            "text/plain": [
              "'pwskills'"
            ],
            "application/vnd.google.colaboratory.intrinsic+json": {
              "type": "string"
            }
          },
          "metadata": {},
          "execution_count": 90
        }
      ]
    },
    {
      "cell_type": "markdown",
      "source": [
        "### 26. Count the number of uppercase letters in a string."
      ],
      "metadata": {
        "id": "B8C5Y2I4RlHh"
      }
    },
    {
      "cell_type": "code",
      "execution_count": null,
      "metadata": {
        "id": "SzSeJEQxRlHl"
      },
      "outputs": [],
      "source": [
        "def countUpper(string):\n",
        "  '''count the number of uppercase letters\n",
        "\n",
        "  Parameters\n",
        "  string\n",
        "\n",
        "  Returns\n",
        "  count: int value\n",
        "  '''\n",
        "  # using isupper to check if char is a uppercase letter and then using sum function to add all 1s [list comprehension]\n",
        "  count = sum(1 for char in string if char.isupper())\n",
        "  return count"
      ]
    },
    {
      "cell_type": "code",
      "source": [
        "countUpper('sometimes, i love programming.')"
      ],
      "metadata": {
        "colab": {
          "base_uri": "https://localhost:8080/"
        },
        "outputId": "db0e9e01-66b6-4504-fdb0-9103ce5ef090",
        "id": "dI6e67cGRlHl"
      },
      "execution_count": null,
      "outputs": [
        {
          "output_type": "execute_result",
          "data": {
            "text/plain": [
              "0"
            ]
          },
          "metadata": {},
          "execution_count": 102
        }
      ]
    },
    {
      "cell_type": "code",
      "source": [
        "countUpper('Sometimes, I love PrOGRAMMing.')"
      ],
      "metadata": {
        "colab": {
          "base_uri": "https://localhost:8080/"
        },
        "outputId": "866d6225-89d9-4838-dfe2-a1b1f637b4e6",
        "id": "PJIkThoQRlHl"
      },
      "execution_count": null,
      "outputs": [
        {
          "output_type": "execute_result",
          "data": {
            "text/plain": [
              "9"
            ]
          },
          "metadata": {},
          "execution_count": 103
        }
      ]
    },
    {
      "cell_type": "markdown",
      "source": [
        "### 27. Count the number of lowercase letters in a string."
      ],
      "metadata": {
        "id": "zirmkf3yRleY"
      }
    },
    {
      "cell_type": "code",
      "execution_count": null,
      "metadata": {
        "id": "0XcYVqN6RleY"
      },
      "outputs": [],
      "source": [
        "def countLower(string):\n",
        "  '''count the number of lowercase letters\n",
        "\n",
        "  Parameters\n",
        "  string\n",
        "\n",
        "  Returns\n",
        "  count: int value\n",
        "  '''\n",
        "  # using islower to check if char is a lower case letter and then using sum function to add all 1s [list comprehension]\n",
        "  count = sum(1 for char in string if char.islower())\n",
        "  return count"
      ]
    },
    {
      "cell_type": "code",
      "source": [
        "countLower('SOMETIMES .')"
      ],
      "metadata": {
        "colab": {
          "base_uri": "https://localhost:8080/"
        },
        "outputId": "28627fdc-bdb1-43c3-9940-c099f640a14f",
        "id": "O27hXlo0RleY"
      },
      "execution_count": null,
      "outputs": [
        {
          "output_type": "execute_result",
          "data": {
            "text/plain": [
              "0"
            ]
          },
          "metadata": {},
          "execution_count": 110
        }
      ]
    },
    {
      "cell_type": "code",
      "source": [
        "countLower('Sometimes, I love PrOGRAMMing.')"
      ],
      "metadata": {
        "colab": {
          "base_uri": "https://localhost:8080/"
        },
        "outputId": "afa3849d-209f-4ce0-a069-a7a8dcd01945",
        "id": "oHkJtiRrRleZ"
      },
      "execution_count": null,
      "outputs": [
        {
          "output_type": "execute_result",
          "data": {
            "text/plain": [
              "16"
            ]
          },
          "metadata": {},
          "execution_count": 107
        }
      ]
    },
    {
      "cell_type": "markdown",
      "source": [
        "### 28. Swap the case of each character in a string."
      ],
      "metadata": {
        "id": "zJ24Jj3TZGVz"
      }
    },
    {
      "cell_type": "code",
      "execution_count": null,
      "metadata": {
        "id": "zWrP63qNZGWK"
      },
      "outputs": [],
      "source": [
        "def swapCase(string):\n",
        "  '''count the number of lowercase letters\n",
        "\n",
        "  Parameters\n",
        "  string\n",
        "\n",
        "  Returns\n",
        "  string: with swapped case letters\n",
        "  '''\n",
        "\n",
        "  return string.swapcase()"
      ]
    },
    {
      "cell_type": "code",
      "source": [
        "swapCase('SOMETIMES .')"
      ],
      "metadata": {
        "colab": {
          "base_uri": "https://localhost:8080/",
          "height": 36
        },
        "outputId": "4d688ea8-d0ac-4c3b-9dad-5813e1a76f75",
        "id": "Th_HLNsHZGWK"
      },
      "execution_count": null,
      "outputs": [
        {
          "output_type": "execute_result",
          "data": {
            "text/plain": [
              "'sometimes .'"
            ],
            "application/vnd.google.colaboratory.intrinsic+json": {
              "type": "string"
            }
          },
          "metadata": {},
          "execution_count": 112
        }
      ]
    },
    {
      "cell_type": "code",
      "source": [
        "swapCase('Sometimes, I love PrOGRAMMing.')"
      ],
      "metadata": {
        "colab": {
          "base_uri": "https://localhost:8080/",
          "height": 36
        },
        "outputId": "f8baa8f0-4b88-48ef-a15f-c0dcf48a1fc3",
        "id": "Vo-vAJrlZGWL"
      },
      "execution_count": null,
      "outputs": [
        {
          "output_type": "execute_result",
          "data": {
            "text/plain": [
              "'sOMETIMES, i LOVE pRogrammING.'"
            ],
            "application/vnd.google.colaboratory.intrinsic+json": {
              "type": "string"
            }
          },
          "metadata": {},
          "execution_count": 113
        }
      ]
    },
    {
      "cell_type": "markdown",
      "source": [
        "### 29. Remove a specific word from a string."
      ],
      "metadata": {
        "id": "6xDCRmKBZGhC"
      }
    },
    {
      "cell_type": "code",
      "execution_count": null,
      "metadata": {
        "id": "wvs9h1beZGhD"
      },
      "outputs": [],
      "source": [
        "def removeWord(string,word):\n",
        "  '''remove a specific word from string\n",
        "\n",
        "  Parameters\n",
        "  string\n",
        "\n",
        "  Returns\n",
        "  new_string:\n",
        "  '''\n",
        "  words = string.split()\n",
        "  while word in words:\n",
        "    words.remove(word)\n",
        "  new_string = ' '.join(words)\n",
        "  return new_string"
      ]
    },
    {
      "cell_type": "code",
      "source": [
        "removeWord('air water air air','air')"
      ],
      "metadata": {
        "colab": {
          "base_uri": "https://localhost:8080/",
          "height": 36
        },
        "outputId": "b3357dae-ece7-4ab0-9784-af7e8204a8ec",
        "id": "_MIsuAmbZGhD"
      },
      "execution_count": null,
      "outputs": [
        {
          "output_type": "execute_result",
          "data": {
            "text/plain": [
              "'water'"
            ],
            "application/vnd.google.colaboratory.intrinsic+json": {
              "type": "string"
            }
          },
          "metadata": {},
          "execution_count": 133
        }
      ]
    },
    {
      "cell_type": "code",
      "source": [
        "removeWord('air airbone','air')"
      ],
      "metadata": {
        "colab": {
          "base_uri": "https://localhost:8080/",
          "height": 36
        },
        "outputId": "93a9a085-7e6b-415b-8315-120d777281e5",
        "id": "pXiSaHqJZGhD"
      },
      "execution_count": null,
      "outputs": [
        {
          "output_type": "execute_result",
          "data": {
            "text/plain": [
              "'airbone'"
            ],
            "application/vnd.google.colaboratory.intrinsic+json": {
              "type": "string"
            }
          },
          "metadata": {},
          "execution_count": 136
        }
      ]
    },
    {
      "cell_type": "markdown",
      "source": [
        "### 30. Check if a string is a valid email address."
      ],
      "metadata": {
        "id": "PMKbVjheZG8G"
      }
    },
    {
      "cell_type": "code",
      "execution_count": null,
      "metadata": {
        "id": "LlxJJUxpZG8H"
      },
      "outputs": [],
      "source": [
        "import re\n",
        "def checkEmail(email):\n",
        "  '''count the number of lowercase letters\n",
        "\n",
        "  Parameters\n",
        "  string\n",
        "\n",
        "  Returns\n",
        "  count: int value\n",
        "  '''\n",
        "  # using islower to check if char is a lower case letter and then using sum function to add all 1s [list comprehension]\n",
        "  regex = r'\\b[A-Za-z0-9._]+@[A-Za-z0-9.-]+\\.[A-Z|a-z]{2,7}\\b'\n",
        "  if(re.fullmatch(regex, email)):\n",
        "    return True\n",
        "  else:\n",
        "    return False"
      ]
    },
    {
      "cell_type": "code",
      "source": [
        "checkEmail('asd21asa_an@gmail.com')"
      ],
      "metadata": {
        "colab": {
          "base_uri": "https://localhost:8080/"
        },
        "outputId": "759063c5-fdcc-4442-adef-05df6906734d",
        "id": "PMlf0VPaZG8H"
      },
      "execution_count": null,
      "outputs": [
        {
          "output_type": "execute_result",
          "data": {
            "text/plain": [
              "True"
            ]
          },
          "metadata": {},
          "execution_count": 17
        }
      ]
    },
    {
      "cell_type": "code",
      "source": [
        "checkEmail('sa-.jhn@g12mail.com')"
      ],
      "metadata": {
        "colab": {
          "base_uri": "https://localhost:8080/"
        },
        "outputId": "ce822d62-a21f-4d7d-ea3c-da5541952964",
        "id": "5vHH1qjMZG8H"
      },
      "execution_count": null,
      "outputs": [
        {
          "output_type": "execute_result",
          "data": {
            "text/plain": [
              "False"
            ]
          },
          "metadata": {},
          "execution_count": 18
        }
      ]
    },
    {
      "cell_type": "markdown",
      "source": [
        "### 31. Extract the username from an email address string."
      ],
      "metadata": {
        "id": "t_T1oWcCSaxc"
      }
    },
    {
      "cell_type": "code",
      "execution_count": null,
      "metadata": {
        "id": "-L8rMpWgSaxm"
      },
      "outputs": [],
      "source": [
        "def extractUsername(email):\n",
        "  '''extract username from the email\n",
        "\n",
        "  Parameters\n",
        "  email: valid email id\n",
        "\n",
        "  Returns\n",
        "  username: str value\n",
        "  '''\n",
        "  username = email.split(\"@\")[0]\n",
        "  return username"
      ]
    },
    {
      "cell_type": "code",
      "source": [
        "extractUsername('asd21asa_an@gmail.com')"
      ],
      "metadata": {
        "colab": {
          "base_uri": "https://localhost:8080/",
          "height": 36
        },
        "outputId": "5251d8c5-2fad-4c16-dea4-0e080f6e9a8e",
        "id": "MAA4-seuSaxn"
      },
      "execution_count": null,
      "outputs": [
        {
          "output_type": "execute_result",
          "data": {
            "text/plain": [
              "'asd21asa_an'"
            ],
            "application/vnd.google.colaboratory.intrinsic+json": {
              "type": "string"
            }
          },
          "metadata": {},
          "execution_count": 27
        }
      ]
    },
    {
      "cell_type": "code",
      "source": [
        "extractUsername('jasJ_ab12ok@hotmail.in')"
      ],
      "metadata": {
        "colab": {
          "base_uri": "https://localhost:8080/",
          "height": 36
        },
        "outputId": "c2118419-57ca-4a6c-f0e7-c40727b4d59e",
        "id": "81g19ttrSaxn"
      },
      "execution_count": null,
      "outputs": [
        {
          "output_type": "execute_result",
          "data": {
            "text/plain": [
              "'jasJ_ab12ok'"
            ],
            "application/vnd.google.colaboratory.intrinsic+json": {
              "type": "string"
            }
          },
          "metadata": {},
          "execution_count": 30
        }
      ]
    },
    {
      "cell_type": "markdown",
      "source": [
        "### 32. Extract the domain name from an email address string."
      ],
      "metadata": {
        "id": "8ruAAcDLSeVX"
      }
    },
    {
      "cell_type": "code",
      "execution_count": null,
      "metadata": {
        "id": "yVoUD7tuSeVf"
      },
      "outputs": [],
      "source": [
        "def extractDomain(email):\n",
        "  '''extract the domain name from the email id\n",
        "\n",
        "  Parameters\n",
        "  email: valid email id\n",
        "\n",
        "  Returns\n",
        "  domain: str value\n",
        "  '''\n",
        "  # using .split to extact the email domain name\n",
        "  domain = email.split('@')[1]\n",
        "  return domain"
      ]
    },
    {
      "cell_type": "code",
      "source": [
        "extractDomain('asd21asa_an@gmail.com')"
      ],
      "metadata": {
        "colab": {
          "base_uri": "https://localhost:8080/",
          "height": 36
        },
        "outputId": "b283213c-f235-41c6-ba51-a35fca04423f",
        "id": "LalPigD2SeVf"
      },
      "execution_count": null,
      "outputs": [
        {
          "output_type": "execute_result",
          "data": {
            "text/plain": [
              "'gmail.com'"
            ],
            "application/vnd.google.colaboratory.intrinsic+json": {
              "type": "string"
            }
          },
          "metadata": {},
          "execution_count": 36
        }
      ]
    },
    {
      "cell_type": "code",
      "source": [
        "extractDomain('sajhn@hotmail.in')"
      ],
      "metadata": {
        "colab": {
          "base_uri": "https://localhost:8080/",
          "height": 36
        },
        "outputId": "1b00ad07-fd01-459d-f5e7-623fd1985403",
        "id": "BsT6O_U3SeVf"
      },
      "execution_count": null,
      "outputs": [
        {
          "output_type": "execute_result",
          "data": {
            "text/plain": [
              "'hotmail.in'"
            ],
            "application/vnd.google.colaboratory.intrinsic+json": {
              "type": "string"
            }
          },
          "metadata": {},
          "execution_count": 37
        }
      ]
    },
    {
      "cell_type": "markdown",
      "source": [
        "### 33. Replace multiple spaces in a string with a single space."
      ],
      "metadata": {
        "id": "RShd2jtZSeZv"
      }
    },
    {
      "cell_type": "code",
      "execution_count": null,
      "metadata": {
        "id": "Pjlg7sYISeZv"
      },
      "outputs": [],
      "source": [
        "def replaceMultipleSpaces(string):\n",
        "  ''' replace multiple spaces by a single space\n",
        "\n",
        "  Parameters\n",
        "  string\n",
        "\n",
        "  Returns\n",
        "  new_string: str value\n",
        "  '''\n",
        "  new_string = \" \".join(string.split())\n",
        "  return new_string"
      ]
    },
    {
      "cell_type": "code",
      "source": [
        "replaceMultipleSpaces('mail   abc          apple')"
      ],
      "metadata": {
        "colab": {
          "base_uri": "https://localhost:8080/",
          "height": 36
        },
        "outputId": "05bd1cbb-d71c-400b-dacc-4089117726a8",
        "id": "oKXOs5r8SeZw"
      },
      "execution_count": null,
      "outputs": [
        {
          "output_type": "execute_result",
          "data": {
            "text/plain": [
              "'mail abc apple'"
            ],
            "application/vnd.google.colaboratory.intrinsic+json": {
              "type": "string"
            }
          },
          "metadata": {},
          "execution_count": 40
        }
      ]
    },
    {
      "cell_type": "markdown",
      "source": [
        "### 34. Check if a string is a valid URL."
      ],
      "metadata": {
        "id": "uqlPveJ1Seeb"
      }
    },
    {
      "cell_type": "code",
      "execution_count": null,
      "metadata": {
        "id": "6cM7BjnHSeeb"
      },
      "outputs": [],
      "source": [
        "from urllib.parse import urlparse\n",
        "def validURL(url):\n",
        "  '''checking for a valid url\n",
        "\n",
        "  Parameters\n",
        "  url\n",
        "\n",
        "  Returns\n",
        "  bool value\n",
        "  '''\n",
        "  try:\n",
        "    parse = urlparse(url)\n",
        "    return all([parse.scheme,parse.netloc])\n",
        "  except ValueError:\n",
        "    return False"
      ]
    },
    {
      "cell_type": "code",
      "source": [
        "validURL('https://colab.research.google.com/drive/1PEiBoZc4lTsr8-YechpWRXABx_ZaezYL?authuser=0#scrollTo=7Ni57V7kSeec')"
      ],
      "metadata": {
        "colab": {
          "base_uri": "https://localhost:8080/"
        },
        "outputId": "a770117c-fbdd-4010-c40f-377ce4efce03",
        "id": "7Ni57V7kSeec"
      },
      "execution_count": null,
      "outputs": [
        {
          "output_type": "execute_result",
          "data": {
            "text/plain": [
              "True"
            ]
          },
          "metadata": {},
          "execution_count": 53
        }
      ]
    },
    {
      "cell_type": "code",
      "source": [
        "validURL('sa-.jhn@g12mail.com')"
      ],
      "metadata": {
        "colab": {
          "base_uri": "https://localhost:8080/"
        },
        "outputId": "6934e598-e72d-4ac8-fed0-d39dece0adba",
        "id": "XRGGjXonSeec"
      },
      "execution_count": null,
      "outputs": [
        {
          "output_type": "execute_result",
          "data": {
            "text/plain": [
              "False"
            ]
          },
          "metadata": {},
          "execution_count": 54
        }
      ]
    },
    {
      "cell_type": "markdown",
      "source": [
        "### 35. Extract the protocol (http or https) from a URL string."
      ],
      "metadata": {
        "id": "ddg2r5p4SeiR"
      }
    },
    {
      "cell_type": "code",
      "execution_count": null,
      "metadata": {
        "id": "xL5psZyvSeiR"
      },
      "outputs": [],
      "source": [
        "def getProtocol(url):\n",
        "  '''fetch the url protocol from the string\n",
        "\n",
        "  Parameters\n",
        "  url\n",
        "\n",
        "  Returns\n",
        "  protocol: url protocol, if there\n",
        "  '''\n",
        "  index = url.find('://')\n",
        "  if index != -1:\n",
        "    return url[:index]\n",
        "  return \"N/A\""
      ]
    },
    {
      "cell_type": "code",
      "source": [
        "getProtocol('ftp:/ftp.example.com')"
      ],
      "metadata": {
        "colab": {
          "base_uri": "https://localhost:8080/",
          "height": 36
        },
        "outputId": "2dbfc083-fb15-4398-9121-951aaa2f179b",
        "id": "aTQqmuKjSeiR"
      },
      "execution_count": null,
      "outputs": [
        {
          "output_type": "execute_result",
          "data": {
            "text/plain": [
              "'N/A'"
            ],
            "application/vnd.google.colaboratory.intrinsic+json": {
              "type": "string"
            }
          },
          "metadata": {},
          "execution_count": 81
        }
      ]
    },
    {
      "cell_type": "code",
      "source": [
        "getProtocol('https://colab.research.google.com/drive/1PEiBoZc4lTsr8-YechpWRXABx_ZaezYL?authuser=0#scrollTo=aTQqmuKjSeiR')"
      ],
      "metadata": {
        "colab": {
          "base_uri": "https://localhost:8080/",
          "height": 36
        },
        "outputId": "f1001f6c-fb39-41d2-e139-8aa8a287c4dd",
        "id": "K08rXZVDSeiS"
      },
      "execution_count": null,
      "outputs": [
        {
          "output_type": "execute_result",
          "data": {
            "text/plain": [
              "'https'"
            ],
            "application/vnd.google.colaboratory.intrinsic+json": {
              "type": "string"
            }
          },
          "metadata": {},
          "execution_count": 83
        }
      ]
    },
    {
      "cell_type": "markdown",
      "source": [
        "### 36. Find the frequency of each character in a string."
      ],
      "metadata": {
        "id": "ig4Lhn2zSemW"
      }
    },
    {
      "cell_type": "code",
      "execution_count": null,
      "metadata": {
        "id": "_XXQv5fbSemX"
      },
      "outputs": [],
      "source": [
        "import re\n",
        "def checkEmail(email):\n",
        "  '''count the number of lowercase letters\n",
        "\n",
        "  Parameters\n",
        "  string\n",
        "\n",
        "  Returns\n",
        "  count: int value\n",
        "  '''\n",
        "  # using islower to check if char is a lower case letter and then using sum function to add all 1s [list comprehension]\n",
        "  regex = r'\\b[A-Za-z0-9._]+@[A-Za-z0-9.-]+\\.[A-Z|a-z]{2,7}\\b'\n",
        "  if(re.fullmatch(regex, email)):\n",
        "    return True\n",
        "  else:\n",
        "    return False"
      ]
    },
    {
      "cell_type": "code",
      "source": [
        "checkEmail('asd21asa_an@gmail.com')"
      ],
      "metadata": {
        "colab": {
          "base_uri": "https://localhost:8080/"
        },
        "outputId": "759063c5-fdcc-4442-adef-05df6906734d",
        "id": "n7KiM6GmSemY"
      },
      "execution_count": null,
      "outputs": [
        {
          "output_type": "execute_result",
          "data": {
            "text/plain": [
              "True"
            ]
          },
          "metadata": {},
          "execution_count": 17
        }
      ]
    },
    {
      "cell_type": "code",
      "source": [
        "checkEmail('sa-.jhn@g12mail.com')"
      ],
      "metadata": {
        "colab": {
          "base_uri": "https://localhost:8080/"
        },
        "outputId": "ce822d62-a21f-4d7d-ea3c-da5541952964",
        "id": "hanBi0MqSemZ"
      },
      "execution_count": null,
      "outputs": [
        {
          "output_type": "execute_result",
          "data": {
            "text/plain": [
              "False"
            ]
          },
          "metadata": {},
          "execution_count": 18
        }
      ]
    },
    {
      "cell_type": "markdown",
      "source": [
        "### 37. Remove all punctuation from a string."
      ],
      "metadata": {
        "id": "cp-9Zh1NkCC0"
      }
    },
    {
      "cell_type": "code",
      "execution_count": null,
      "metadata": {
        "id": "h4V_z5EgkCC2"
      },
      "outputs": [],
      "source": [
        "import re\n",
        "def checkEmail(email):\n",
        "  '''count the number of lowercase letters\n",
        "\n",
        "  Parameters\n",
        "  string\n",
        "\n",
        "  Returns\n",
        "  count: int value\n",
        "  '''\n",
        "  # using islower to check if char is a lower case letter and then using sum function to add all 1s [list comprehension]\n",
        "  regex = r'\\b[A-Za-z0-9._]+@[A-Za-z0-9.-]+\\.[A-Z|a-z]{2,7}\\b'\n",
        "  if(re.fullmatch(regex, email)):\n",
        "    return True\n",
        "  else:\n",
        "    return False"
      ]
    },
    {
      "cell_type": "code",
      "source": [
        "checkEmail('asd21asa_an@gmail.com')"
      ],
      "metadata": {
        "colab": {
          "base_uri": "https://localhost:8080/"
        },
        "outputId": "759063c5-fdcc-4442-adef-05df6906734d",
        "id": "irbrV_YYkCC3"
      },
      "execution_count": null,
      "outputs": [
        {
          "output_type": "execute_result",
          "data": {
            "text/plain": [
              "True"
            ]
          },
          "metadata": {},
          "execution_count": 17
        }
      ]
    },
    {
      "cell_type": "code",
      "source": [
        "checkEmail('sa-.jhn@g12mail.com')"
      ],
      "metadata": {
        "colab": {
          "base_uri": "https://localhost:8080/"
        },
        "outputId": "ce822d62-a21f-4d7d-ea3c-da5541952964",
        "id": "cqB8UlsXkCC3"
      },
      "execution_count": null,
      "outputs": [
        {
          "output_type": "execute_result",
          "data": {
            "text/plain": [
              "False"
            ]
          },
          "metadata": {},
          "execution_count": 18
        }
      ]
    },
    {
      "cell_type": "markdown",
      "source": [
        "### 38. Check if a string contains only digits."
      ],
      "metadata": {
        "id": "1Qyt9PEflHCG"
      }
    },
    {
      "cell_type": "code",
      "execution_count": null,
      "metadata": {
        "id": "INpGE-68lHCd"
      },
      "outputs": [],
      "source": [
        "import re\n",
        "def checkEmail(email):\n",
        "  '''count the number of lowercase letters\n",
        "\n",
        "  Parameters\n",
        "  string\n",
        "\n",
        "  Returns\n",
        "  count: int value\n",
        "  '''\n",
        "  # using islower to check if char is a lower case letter and then using sum function to add all 1s [list comprehension]\n",
        "  regex = r'\\b[A-Za-z0-9._]+@[A-Za-z0-9.-]+\\.[A-Z|a-z]{2,7}\\b'\n",
        "  if(re.fullmatch(regex, email)):\n",
        "    return True\n",
        "  else:\n",
        "    return False"
      ]
    },
    {
      "cell_type": "code",
      "source": [
        "checkEmail('asd21asa_an@gmail.com')"
      ],
      "metadata": {
        "colab": {
          "base_uri": "https://localhost:8080/"
        },
        "outputId": "759063c5-fdcc-4442-adef-05df6906734d",
        "id": "_-Ay2R0ClHCd"
      },
      "execution_count": null,
      "outputs": [
        {
          "output_type": "execute_result",
          "data": {
            "text/plain": [
              "True"
            ]
          },
          "metadata": {},
          "execution_count": 17
        }
      ]
    },
    {
      "cell_type": "code",
      "source": [
        "checkEmail('sa-.jhn@g12mail.com')"
      ],
      "metadata": {
        "colab": {
          "base_uri": "https://localhost:8080/"
        },
        "outputId": "ce822d62-a21f-4d7d-ea3c-da5541952964",
        "id": "NgMTFzfxlHCe"
      },
      "execution_count": null,
      "outputs": [
        {
          "output_type": "execute_result",
          "data": {
            "text/plain": [
              "False"
            ]
          },
          "metadata": {},
          "execution_count": 18
        }
      ]
    },
    {
      "cell_type": "markdown",
      "source": [
        "### 39. Check if a string contains only alphabets."
      ],
      "metadata": {
        "id": "arFIu2sGlHWh"
      }
    },
    {
      "cell_type": "code",
      "execution_count": null,
      "metadata": {
        "id": "Sftt3wxklHWh"
      },
      "outputs": [],
      "source": [
        "import re\n",
        "def checkEmail(email):\n",
        "  '''count the number of lowercase letters\n",
        "\n",
        "  Parameters\n",
        "  string\n",
        "\n",
        "  Returns\n",
        "  count: int value\n",
        "  '''\n",
        "  # using islower to check if char is a lower case letter and then using sum function to add all 1s [list comprehension]\n",
        "  regex = r'\\b[A-Za-z0-9._]+@[A-Za-z0-9.-]+\\.[A-Z|a-z]{2,7}\\b'\n",
        "  if(re.fullmatch(regex, email)):\n",
        "    return True\n",
        "  else:\n",
        "    return False"
      ]
    },
    {
      "cell_type": "code",
      "source": [
        "checkEmail('asd21asa_an@gmail.com')"
      ],
      "metadata": {
        "colab": {
          "base_uri": "https://localhost:8080/"
        },
        "outputId": "759063c5-fdcc-4442-adef-05df6906734d",
        "id": "PlMUpYRalHWi"
      },
      "execution_count": null,
      "outputs": [
        {
          "output_type": "execute_result",
          "data": {
            "text/plain": [
              "True"
            ]
          },
          "metadata": {},
          "execution_count": 17
        }
      ]
    },
    {
      "cell_type": "code",
      "source": [
        "checkEmail('sa-.jhn@g12mail.com')"
      ],
      "metadata": {
        "colab": {
          "base_uri": "https://localhost:8080/"
        },
        "outputId": "ce822d62-a21f-4d7d-ea3c-da5541952964",
        "id": "JZiiHD6NlHWi"
      },
      "execution_count": null,
      "outputs": [
        {
          "output_type": "execute_result",
          "data": {
            "text/plain": [
              "False"
            ]
          },
          "metadata": {},
          "execution_count": 18
        }
      ]
    },
    {
      "cell_type": "markdown",
      "source": [
        "### 40. Convert a string to a list of characters."
      ],
      "metadata": {
        "id": "xgBZtlFflHgi"
      }
    },
    {
      "cell_type": "code",
      "execution_count": null,
      "metadata": {
        "id": "KkySoD7olHgi"
      },
      "outputs": [],
      "source": [
        "import re\n",
        "def checkEmail(email):\n",
        "  '''count the number of lowercase letters\n",
        "\n",
        "  Parameters\n",
        "  string\n",
        "\n",
        "  Returns\n",
        "  count: int value\n",
        "  '''\n",
        "  # using islower to check if char is a lower case letter and then using sum function to add all 1s [list comprehension]\n",
        "  regex = r'\\b[A-Za-z0-9._]+@[A-Za-z0-9.-]+\\.[A-Z|a-z]{2,7}\\b'\n",
        "  if(re.fullmatch(regex, email)):\n",
        "    return True\n",
        "  else:\n",
        "    return False"
      ]
    },
    {
      "cell_type": "code",
      "source": [
        "checkEmail('asd21asa_an@gmail.com')"
      ],
      "metadata": {
        "colab": {
          "base_uri": "https://localhost:8080/"
        },
        "outputId": "759063c5-fdcc-4442-adef-05df6906734d",
        "id": "NlyhP7n7lHgi"
      },
      "execution_count": null,
      "outputs": [
        {
          "output_type": "execute_result",
          "data": {
            "text/plain": [
              "True"
            ]
          },
          "metadata": {},
          "execution_count": 17
        }
      ]
    },
    {
      "cell_type": "code",
      "source": [
        "checkEmail('sa-.jhn@g12mail.com')"
      ],
      "metadata": {
        "colab": {
          "base_uri": "https://localhost:8080/"
        },
        "outputId": "ce822d62-a21f-4d7d-ea3c-da5541952964",
        "id": "bzadqD6JlHgi"
      },
      "execution_count": null,
      "outputs": [
        {
          "output_type": "execute_result",
          "data": {
            "text/plain": [
              "False"
            ]
          },
          "metadata": {},
          "execution_count": 18
        }
      ]
    },
    {
      "cell_type": "markdown",
      "source": [
        "### 41. Check if two strings are anagrams."
      ],
      "metadata": {
        "id": "_esudfOglJmA"
      }
    },
    {
      "cell_type": "code",
      "execution_count": null,
      "metadata": {
        "id": "xry07Qj5lJmA"
      },
      "outputs": [],
      "source": [
        "import re\n",
        "def checkEmail(email):\n",
        "  '''count the number of lowercase letters\n",
        "\n",
        "  Parameters\n",
        "  string\n",
        "\n",
        "  Returns\n",
        "  count: int value\n",
        "  '''\n",
        "  # using islower to check if char is a lower case letter and then using sum function to add all 1s [list comprehension]\n",
        "  regex = r'\\b[A-Za-z0-9._]+@[A-Za-z0-9.-]+\\.[A-Z|a-z]{2,7}\\b'\n",
        "  if(re.fullmatch(regex, email)):\n",
        "    return True\n",
        "  else:\n",
        "    return False"
      ]
    },
    {
      "cell_type": "code",
      "source": [
        "checkEmail('asd21asa_an@gmail.com')"
      ],
      "metadata": {
        "colab": {
          "base_uri": "https://localhost:8080/"
        },
        "outputId": "759063c5-fdcc-4442-adef-05df6906734d",
        "id": "my528p3HlJmA"
      },
      "execution_count": null,
      "outputs": [
        {
          "output_type": "execute_result",
          "data": {
            "text/plain": [
              "True"
            ]
          },
          "metadata": {},
          "execution_count": 17
        }
      ]
    },
    {
      "cell_type": "code",
      "source": [
        "checkEmail('sa-.jhn@g12mail.com')"
      ],
      "metadata": {
        "colab": {
          "base_uri": "https://localhost:8080/"
        },
        "outputId": "ce822d62-a21f-4d7d-ea3c-da5541952964",
        "id": "g5XNoQQflJmB"
      },
      "execution_count": null,
      "outputs": [
        {
          "output_type": "execute_result",
          "data": {
            "text/plain": [
              "False"
            ]
          },
          "metadata": {},
          "execution_count": 18
        }
      ]
    },
    {
      "cell_type": "markdown",
      "source": [
        "### 42. Encode a string using a Caesar cipher."
      ],
      "metadata": {
        "id": "DJerGeFolKUO"
      }
    },
    {
      "cell_type": "code",
      "execution_count": null,
      "metadata": {
        "id": "Cd6q2yY-lKUP"
      },
      "outputs": [],
      "source": [
        "import re\n",
        "def checkEmail(email):\n",
        "  '''count the number of lowercase letters\n",
        "\n",
        "  Parameters\n",
        "  string\n",
        "\n",
        "  Returns\n",
        "  count: int value\n",
        "  '''\n",
        "  # using islower to check if char is a lower case letter and then using sum function to add all 1s [list comprehension]\n",
        "  regex = r'\\b[A-Za-z0-9._]+@[A-Za-z0-9.-]+\\.[A-Z|a-z]{2,7}\\b'\n",
        "  if(re.fullmatch(regex, email)):\n",
        "    return True\n",
        "  else:\n",
        "    return False"
      ]
    },
    {
      "cell_type": "code",
      "source": [
        "checkEmail('asd21asa_an@gmail.com')"
      ],
      "metadata": {
        "colab": {
          "base_uri": "https://localhost:8080/"
        },
        "outputId": "759063c5-fdcc-4442-adef-05df6906734d",
        "id": "S48Soa7HlKUP"
      },
      "execution_count": null,
      "outputs": [
        {
          "output_type": "execute_result",
          "data": {
            "text/plain": [
              "True"
            ]
          },
          "metadata": {},
          "execution_count": 17
        }
      ]
    },
    {
      "cell_type": "code",
      "source": [
        "checkEmail('sa-.jhn@g12mail.com')"
      ],
      "metadata": {
        "colab": {
          "base_uri": "https://localhost:8080/"
        },
        "outputId": "ce822d62-a21f-4d7d-ea3c-da5541952964",
        "id": "SiLtBRkilKUP"
      },
      "execution_count": null,
      "outputs": [
        {
          "output_type": "execute_result",
          "data": {
            "text/plain": [
              "False"
            ]
          },
          "metadata": {},
          "execution_count": 18
        }
      ]
    },
    {
      "cell_type": "markdown",
      "source": [
        "### 43. Decode a Caesar cipher encoded string."
      ],
      "metadata": {
        "id": "nuefA6QNkCRk"
      }
    },
    {
      "cell_type": "code",
      "execution_count": null,
      "metadata": {
        "id": "Ji0ix-iekCRk"
      },
      "outputs": [],
      "source": [
        "import re\n",
        "def checkEmail(email):\n",
        "  '''count the number of lowercase letters\n",
        "\n",
        "  Parameters\n",
        "  string\n",
        "\n",
        "  Returns\n",
        "  count: int value\n",
        "  '''\n",
        "  # using islower to check if char is a lower case letter and then using sum function to add all 1s [list comprehension]\n",
        "  regex = r'\\b[A-Za-z0-9._]+@[A-Za-z0-9.-]+\\.[A-Z|a-z]{2,7}\\b'\n",
        "  if(re.fullmatch(regex, email)):\n",
        "    return True\n",
        "  else:\n",
        "    return False"
      ]
    },
    {
      "cell_type": "code",
      "source": [
        "checkEmail('asd21asa_an@gmail.com')"
      ],
      "metadata": {
        "colab": {
          "base_uri": "https://localhost:8080/"
        },
        "outputId": "759063c5-fdcc-4442-adef-05df6906734d",
        "id": "Xz0eLFWbkCRl"
      },
      "execution_count": null,
      "outputs": [
        {
          "output_type": "execute_result",
          "data": {
            "text/plain": [
              "True"
            ]
          },
          "metadata": {},
          "execution_count": 17
        }
      ]
    },
    {
      "cell_type": "code",
      "source": [
        "checkEmail('sa-.jhn@g12mail.com')"
      ],
      "metadata": {
        "colab": {
          "base_uri": "https://localhost:8080/"
        },
        "outputId": "ce822d62-a21f-4d7d-ea3c-da5541952964",
        "id": "V63fUiwokCRl"
      },
      "execution_count": null,
      "outputs": [
        {
          "output_type": "execute_result",
          "data": {
            "text/plain": [
              "False"
            ]
          },
          "metadata": {},
          "execution_count": 18
        }
      ]
    },
    {
      "cell_type": "markdown",
      "source": [
        "44. Find the most frequent word in a string."
      ],
      "metadata": {
        "id": "ruTrT6lzkCWK"
      }
    },
    {
      "cell_type": "code",
      "execution_count": null,
      "metadata": {
        "id": "Vk6lJKIekCWK"
      },
      "outputs": [],
      "source": [
        "import re\n",
        "def checkEmail(email):\n",
        "  '''count the number of lowercase letters\n",
        "\n",
        "  Parameters\n",
        "  string\n",
        "\n",
        "  Returns\n",
        "  count: int value\n",
        "  '''\n",
        "  # using islower to check if char is a lower case letter and then using sum function to add all 1s [list comprehension]\n",
        "  regex = r'\\b[A-Za-z0-9._]+@[A-Za-z0-9.-]+\\.[A-Z|a-z]{2,7}\\b'\n",
        "  if(re.fullmatch(regex, email)):\n",
        "    return True\n",
        "  else:\n",
        "    return False"
      ]
    },
    {
      "cell_type": "code",
      "source": [
        "checkEmail('asd21asa_an@gmail.com')"
      ],
      "metadata": {
        "colab": {
          "base_uri": "https://localhost:8080/"
        },
        "outputId": "759063c5-fdcc-4442-adef-05df6906734d",
        "id": "6sME8ytlkCWL"
      },
      "execution_count": null,
      "outputs": [
        {
          "output_type": "execute_result",
          "data": {
            "text/plain": [
              "True"
            ]
          },
          "metadata": {},
          "execution_count": 17
        }
      ]
    },
    {
      "cell_type": "code",
      "source": [
        "checkEmail('sa-.jhn@g12mail.com')"
      ],
      "metadata": {
        "colab": {
          "base_uri": "https://localhost:8080/"
        },
        "outputId": "ce822d62-a21f-4d7d-ea3c-da5541952964",
        "id": "8pGM5wh6kCWL"
      },
      "execution_count": null,
      "outputs": [
        {
          "output_type": "execute_result",
          "data": {
            "text/plain": [
              "False"
            ]
          },
          "metadata": {},
          "execution_count": 18
        }
      ]
    },
    {
      "cell_type": "markdown",
      "source": [
        "### 44. Find the most frequent word in a string."
      ],
      "metadata": {
        "id": "MQePlrM4lwoT"
      }
    },
    {
      "cell_type": "code",
      "execution_count": null,
      "metadata": {
        "id": "vZdkH-hRlwob"
      },
      "outputs": [],
      "source": [
        "import re\n",
        "def checkEmail(email):\n",
        "  '''count the number of lowercase letters\n",
        "\n",
        "  Parameters\n",
        "  string\n",
        "\n",
        "  Returns\n",
        "  count: int value\n",
        "  '''\n",
        "  # using islower to check if char is a lower case letter and then using sum function to add all 1s [list comprehension]\n",
        "  regex = r'\\b[A-Za-z0-9._]+@[A-Za-z0-9.-]+\\.[A-Z|a-z]{2,7}\\b'\n",
        "  if(re.fullmatch(regex, email)):\n",
        "    return True\n",
        "  else:\n",
        "    return False"
      ]
    },
    {
      "cell_type": "code",
      "source": [
        "checkEmail('asd21asa_an@gmail.com')"
      ],
      "metadata": {
        "colab": {
          "base_uri": "https://localhost:8080/"
        },
        "outputId": "759063c5-fdcc-4442-adef-05df6906734d",
        "id": "pdGFsoxLlwob"
      },
      "execution_count": null,
      "outputs": [
        {
          "output_type": "execute_result",
          "data": {
            "text/plain": [
              "True"
            ]
          },
          "metadata": {},
          "execution_count": 17
        }
      ]
    },
    {
      "cell_type": "code",
      "source": [
        "checkEmail('sa-.jhn@g12mail.com')"
      ],
      "metadata": {
        "colab": {
          "base_uri": "https://localhost:8080/"
        },
        "outputId": "ce822d62-a21f-4d7d-ea3c-da5541952964",
        "id": "IxGgFEGulwob"
      },
      "execution_count": null,
      "outputs": [
        {
          "output_type": "execute_result",
          "data": {
            "text/plain": [
              "False"
            ]
          },
          "metadata": {},
          "execution_count": 18
        }
      ]
    },
    {
      "cell_type": "markdown",
      "source": [
        "### 45. Find all unique words in a string."
      ],
      "metadata": {
        "id": "yS4ldfowkCaY"
      }
    },
    {
      "cell_type": "code",
      "execution_count": null,
      "metadata": {
        "id": "nqdIttdnkCaY"
      },
      "outputs": [],
      "source": [
        "import re\n",
        "def checkEmail(email):\n",
        "  '''count the number of lowercase letters\n",
        "\n",
        "  Parameters\n",
        "  string\n",
        "\n",
        "  Returns\n",
        "  count: int value\n",
        "  '''\n",
        "  # using islower to check if char is a lower case letter and then using sum function to add all 1s [list comprehension]\n",
        "  regex = r'\\b[A-Za-z0-9._]+@[A-Za-z0-9.-]+\\.[A-Z|a-z]{2,7}\\b'\n",
        "  if(re.fullmatch(regex, email)):\n",
        "    return True\n",
        "  else:\n",
        "    return False"
      ]
    },
    {
      "cell_type": "code",
      "source": [
        "checkEmail('asd21asa_an@gmail.com')"
      ],
      "metadata": {
        "colab": {
          "base_uri": "https://localhost:8080/"
        },
        "outputId": "759063c5-fdcc-4442-adef-05df6906734d",
        "id": "EygfV9lrkCaY"
      },
      "execution_count": null,
      "outputs": [
        {
          "output_type": "execute_result",
          "data": {
            "text/plain": [
              "True"
            ]
          },
          "metadata": {},
          "execution_count": 17
        }
      ]
    },
    {
      "cell_type": "code",
      "source": [
        "checkEmail('sa-.jhn@g12mail.com')"
      ],
      "metadata": {
        "colab": {
          "base_uri": "https://localhost:8080/"
        },
        "outputId": "ce822d62-a21f-4d7d-ea3c-da5541952964",
        "id": "oBP03RVOkCaY"
      },
      "execution_count": null,
      "outputs": [
        {
          "output_type": "execute_result",
          "data": {
            "text/plain": [
              "False"
            ]
          },
          "metadata": {},
          "execution_count": 18
        }
      ]
    },
    {
      "cell_type": "markdown",
      "source": [
        "### 46. Count the number of syllables in a string."
      ],
      "metadata": {
        "id": "ccn-NfMjkCd_"
      }
    },
    {
      "cell_type": "code",
      "execution_count": null,
      "metadata": {
        "id": "gVITnArqkCd_"
      },
      "outputs": [],
      "source": [
        "import re\n",
        "def checkEmail(email):\n",
        "  '''count the number of lowercase letters\n",
        "\n",
        "  Parameters\n",
        "  string\n",
        "\n",
        "  Returns\n",
        "  count: int value\n",
        "  '''\n",
        "  # using islower to check if char is a lower case letter and then using sum function to add all 1s [list comprehension]\n",
        "  regex = r'\\b[A-Za-z0-9._]+@[A-Za-z0-9.-]+\\.[A-Z|a-z]{2,7}\\b'\n",
        "  if(re.fullmatch(regex, email)):\n",
        "    return True\n",
        "  else:\n",
        "    return False"
      ]
    },
    {
      "cell_type": "code",
      "source": [
        "checkEmail('asd21asa_an@gmail.com')"
      ],
      "metadata": {
        "colab": {
          "base_uri": "https://localhost:8080/"
        },
        "outputId": "759063c5-fdcc-4442-adef-05df6906734d",
        "id": "8UphwJYNkCd_"
      },
      "execution_count": null,
      "outputs": [
        {
          "output_type": "execute_result",
          "data": {
            "text/plain": [
              "True"
            ]
          },
          "metadata": {},
          "execution_count": 17
        }
      ]
    },
    {
      "cell_type": "code",
      "source": [
        "checkEmail('sa-.jhn@g12mail.com')"
      ],
      "metadata": {
        "colab": {
          "base_uri": "https://localhost:8080/"
        },
        "outputId": "ce822d62-a21f-4d7d-ea3c-da5541952964",
        "id": "XqhRRQ8VkCeA"
      },
      "execution_count": null,
      "outputs": [
        {
          "output_type": "execute_result",
          "data": {
            "text/plain": [
              "False"
            ]
          },
          "metadata": {},
          "execution_count": 18
        }
      ]
    },
    {
      "cell_type": "markdown",
      "source": [
        "### 47. Check if a string contains any special characters."
      ],
      "metadata": {
        "id": "FqgVdT7RkCiK"
      }
    },
    {
      "cell_type": "code",
      "execution_count": null,
      "metadata": {
        "id": "boPStfurkCiK"
      },
      "outputs": [],
      "source": [
        "import re\n",
        "def checkEmail(email):\n",
        "  '''count the number of lowercase letters\n",
        "\n",
        "  Parameters\n",
        "  string\n",
        "\n",
        "  Returns\n",
        "  count: int value\n",
        "  '''\n",
        "  # using islower to check if char is a lower case letter and then using sum function to add all 1s [list comprehension]\n",
        "  regex = r'\\b[A-Za-z0-9._]+@[A-Za-z0-9.-]+\\.[A-Z|a-z]{2,7}\\b'\n",
        "  if(re.fullmatch(regex, email)):\n",
        "    return True\n",
        "  else:\n",
        "    return False"
      ]
    },
    {
      "cell_type": "code",
      "source": [
        "checkEmail('asd21asa_an@gmail.com')"
      ],
      "metadata": {
        "colab": {
          "base_uri": "https://localhost:8080/"
        },
        "outputId": "759063c5-fdcc-4442-adef-05df6906734d",
        "id": "vf7rl3rakCiK"
      },
      "execution_count": null,
      "outputs": [
        {
          "output_type": "execute_result",
          "data": {
            "text/plain": [
              "True"
            ]
          },
          "metadata": {},
          "execution_count": 17
        }
      ]
    },
    {
      "cell_type": "code",
      "source": [
        "checkEmail('sa-.jhn@g12mail.com')"
      ],
      "metadata": {
        "colab": {
          "base_uri": "https://localhost:8080/"
        },
        "outputId": "ce822d62-a21f-4d7d-ea3c-da5541952964",
        "id": "dTqqCUmJkCiL"
      },
      "execution_count": null,
      "outputs": [
        {
          "output_type": "execute_result",
          "data": {
            "text/plain": [
              "False"
            ]
          },
          "metadata": {},
          "execution_count": 18
        }
      ]
    },
    {
      "cell_type": "markdown",
      "source": [
        "### 48. Remove the nth word from a string."
      ],
      "metadata": {
        "id": "SJeyf5YvkCmj"
      }
    },
    {
      "cell_type": "code",
      "execution_count": null,
      "metadata": {
        "id": "HbP4yWggkCmj"
      },
      "outputs": [],
      "source": [
        "import re\n",
        "def checkEmail(email):\n",
        "  '''count the number of lowercase letters\n",
        "\n",
        "  Parameters\n",
        "  string\n",
        "\n",
        "  Returns\n",
        "  count: int value\n",
        "  '''\n",
        "  # using islower to check if char is a lower case letter and then using sum function to add all 1s [list comprehension]\n",
        "  regex = r'\\b[A-Za-z0-9._]+@[A-Za-z0-9.-]+\\.[A-Z|a-z]{2,7}\\b'\n",
        "  if(re.fullmatch(regex, email)):\n",
        "    return True\n",
        "  else:\n",
        "    return False"
      ]
    },
    {
      "cell_type": "code",
      "source": [
        "checkEmail('asd21asa_an@gmail.com')"
      ],
      "metadata": {
        "colab": {
          "base_uri": "https://localhost:8080/"
        },
        "outputId": "759063c5-fdcc-4442-adef-05df6906734d",
        "id": "8mibUEcgkCmj"
      },
      "execution_count": null,
      "outputs": [
        {
          "output_type": "execute_result",
          "data": {
            "text/plain": [
              "True"
            ]
          },
          "metadata": {},
          "execution_count": 17
        }
      ]
    },
    {
      "cell_type": "code",
      "source": [
        "checkEmail('sa-.jhn@g12mail.com')"
      ],
      "metadata": {
        "colab": {
          "base_uri": "https://localhost:8080/"
        },
        "outputId": "ce822d62-a21f-4d7d-ea3c-da5541952964",
        "id": "IJvRk4U9kCmk"
      },
      "execution_count": null,
      "outputs": [
        {
          "output_type": "execute_result",
          "data": {
            "text/plain": [
              "False"
            ]
          },
          "metadata": {},
          "execution_count": 18
        }
      ]
    },
    {
      "cell_type": "markdown",
      "source": [
        "### 49. Insert a word at the nth position in a string."
      ],
      "metadata": {
        "id": "39pFAwVVkCpw"
      }
    },
    {
      "cell_type": "code",
      "execution_count": null,
      "metadata": {
        "id": "dL1bX14JkCpw"
      },
      "outputs": [],
      "source": [
        "import re\n",
        "def checkEmail(email):\n",
        "  '''count the number of lowercase letters\n",
        "\n",
        "  Parameters\n",
        "  string\n",
        "\n",
        "  Returns\n",
        "  count: int value\n",
        "  '''\n",
        "  # using islower to check if char is a lower case letter and then using sum function to add all 1s [list comprehension]\n",
        "  regex = r'\\b[A-Za-z0-9._]+@[A-Za-z0-9.-]+\\.[A-Z|a-z]{2,7}\\b'\n",
        "  if(re.fullmatch(regex, email)):\n",
        "    return True\n",
        "  else:\n",
        "    return False"
      ]
    },
    {
      "cell_type": "code",
      "source": [
        "checkEmail('asd21asa_an@gmail.com')"
      ],
      "metadata": {
        "colab": {
          "base_uri": "https://localhost:8080/"
        },
        "outputId": "759063c5-fdcc-4442-adef-05df6906734d",
        "id": "4yX8zMxSkCpw"
      },
      "execution_count": null,
      "outputs": [
        {
          "output_type": "execute_result",
          "data": {
            "text/plain": [
              "True"
            ]
          },
          "metadata": {},
          "execution_count": 17
        }
      ]
    },
    {
      "cell_type": "code",
      "source": [
        "checkEmail('sa-.jhn@g12mail.com')"
      ],
      "metadata": {
        "colab": {
          "base_uri": "https://localhost:8080/"
        },
        "outputId": "ce822d62-a21f-4d7d-ea3c-da5541952964",
        "id": "z4mHrv1UkCpx"
      },
      "execution_count": null,
      "outputs": [
        {
          "output_type": "execute_result",
          "data": {
            "text/plain": [
              "False"
            ]
          },
          "metadata": {},
          "execution_count": 18
        }
      ]
    },
    {
      "cell_type": "markdown",
      "source": [
        "### 50. Convert a CSV string to a list of lists."
      ],
      "metadata": {
        "id": "hlKlY2GGkCs0"
      }
    },
    {
      "cell_type": "code",
      "execution_count": null,
      "metadata": {
        "id": "1cFxY999kCs1"
      },
      "outputs": [],
      "source": [
        "import re\n",
        "def checkEmail(email):\n",
        "  '''count the number of lowercase letters\n",
        "\n",
        "  Parameters\n",
        "  string\n",
        "\n",
        "  Returns\n",
        "  count: int value\n",
        "  '''\n",
        "  # using islower to check if char is a lower case letter and then using sum function to add all 1s [list comprehension]\n",
        "  regex = r'\\b[A-Za-z0-9._]+@[A-Za-z0-9.-]+\\.[A-Z|a-z]{2,7}\\b'\n",
        "  if(re.fullmatch(regex, email)):\n",
        "    return True\n",
        "  else:\n",
        "    return False"
      ]
    },
    {
      "cell_type": "code",
      "source": [
        "checkEmail('asd21asa_an@gmail.com')"
      ],
      "metadata": {
        "colab": {
          "base_uri": "https://localhost:8080/"
        },
        "outputId": "759063c5-fdcc-4442-adef-05df6906734d",
        "id": "E_Sf602PkCs1"
      },
      "execution_count": null,
      "outputs": [
        {
          "output_type": "execute_result",
          "data": {
            "text/plain": [
              "True"
            ]
          },
          "metadata": {},
          "execution_count": 17
        }
      ]
    },
    {
      "cell_type": "code",
      "source": [
        "checkEmail('sa-.jhn@g12mail.com')"
      ],
      "metadata": {
        "colab": {
          "base_uri": "https://localhost:8080/"
        },
        "outputId": "ce822d62-a21f-4d7d-ea3c-da5541952964",
        "id": "RqqSBJaIkCs1"
      },
      "execution_count": null,
      "outputs": [
        {
          "output_type": "execute_result",
          "data": {
            "text/plain": [
              "False"
            ]
          },
          "metadata": {},
          "execution_count": 18
        }
      ]
    }
  ]
}