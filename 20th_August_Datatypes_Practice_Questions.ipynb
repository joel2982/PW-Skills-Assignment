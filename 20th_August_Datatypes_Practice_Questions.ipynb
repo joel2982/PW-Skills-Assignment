{
  "nbformat": 4,
  "nbformat_minor": 0,
  "metadata": {
    "colab": {
      "provenance": [],
      "collapsed_sections": [
        "6xDCRmKBZGhC",
        "PMKbVjheZG8G",
        "ig4Lhn2zSemW",
        "cp-9Zh1NkCC0",
        "1Qyt9PEflHCG",
        "arFIu2sGlHWh",
        "xgBZtlFflHgi",
        "_esudfOglJmA",
        "DJerGeFolKUO",
        "nuefA6QNkCRk",
        "ruTrT6lzkCWK",
        "MQePlrM4lwoT",
        "yS4ldfowkCaY",
        "ccn-NfMjkCd_",
        "FqgVdT7RkCiK",
        "SJeyf5YvkCmj",
        "39pFAwVVkCpw",
        "hlKlY2GGkCs0"
      ],
      "authorship_tag": "ABX9TyNRndZQUx7Ml6dMHmLrNbkL",
      "include_colab_link": true
    },
    "kernelspec": {
      "name": "python3",
      "display_name": "Python 3"
    },
    "language_info": {
      "name": "python"
    }
  },
  "cells": [
    {
      "cell_type": "markdown",
      "metadata": {
        "id": "view-in-github",
        "colab_type": "text"
      },
      "source": [
        "<a href=\"https://colab.research.google.com/github/joel2982/PW-Skills-Assignment/blob/master/20th_August_Datatypes_Practice_Questions.ipynb\" target=\"_parent\"><img src=\"https://colab.research.google.com/assets/colab-badge.svg\" alt=\"Open In Colab\"/></a>"
      ]
    },
    {
      "cell_type": "markdown",
      "source": [
        "# String Based Assignment Problem"
      ],
      "metadata": {
        "id": "RJOgKBdyW-wK"
      }
    },
    {
      "cell_type": "markdown",
      "source": [
        "### 1. Write a program to reverse a string."
      ],
      "metadata": {
        "id": "fIe2CcidXTkS"
      }
    },
    {
      "cell_type": "code",
      "execution_count": null,
      "metadata": {
        "colab": {
          "base_uri": "https://localhost:8080/"
        },
        "id": "vR1RFwwLWJn6",
        "outputId": "a82dcfd6-61e1-4d96-929a-49254d67a9a8"
      },
      "outputs": [
        {
          "output_type": "stream",
          "name": "stdout",
          "text": [
            "Enter the String : Python\n",
            "Reversed String : nohtyP\n"
          ]
        }
      ],
      "source": [
        "string = input('Enter the String : ')\n",
        "reversed = string[::-1]\n",
        "print('Reversed String :',reversed)"
      ]
    },
    {
      "cell_type": "markdown",
      "source": [
        "### 2. Check if a string is a palindrome."
      ],
      "metadata": {
        "id": "Ob7iTE_KYFfV"
      }
    },
    {
      "cell_type": "code",
      "execution_count": null,
      "metadata": {
        "colab": {
          "base_uri": "https://localhost:8080/"
        },
        "outputId": "986391e9-41fa-4c0b-dea7-10f1a4589eae",
        "id": "81JPbZZsYFfd"
      },
      "outputs": [
        {
          "output_type": "stream",
          "name": "stdout",
          "text": [
            "Enter the String : malayalam\n",
            "malayalam is a palindrome string\n"
          ]
        }
      ],
      "source": [
        "string = input('Enter the String : ')\n",
        "# converting the whole string into uppercase characters\n",
        "temp = string.upper()\n",
        "# reversing the string\n",
        "reversed = temp[::-1]\n",
        "if reversed == temp:\n",
        "  print(string,'is a palindrome string')\n",
        "else:\n",
        "  print(string,'is not a palindrome string')"
      ]
    },
    {
      "cell_type": "markdown",
      "source": [
        "### 3. Convert a string to uppercase."
      ],
      "metadata": {
        "id": "vaLhMsVnZDvX"
      }
    },
    {
      "cell_type": "code",
      "execution_count": null,
      "metadata": {
        "colab": {
          "base_uri": "https://localhost:8080/"
        },
        "outputId": "5b5e4e23-9d1a-4d41-c215-b75078c72bfd",
        "id": "mnS5ER3PZDvj"
      },
      "outputs": [
        {
          "output_type": "stream",
          "name": "stdout",
          "text": [
            "Enter the String : assignment\n",
            "ASSIGNMENT\n"
          ]
        }
      ],
      "source": [
        "string = input('Enter the String : ')\n",
        "# converting the whole string into uppercase characters\n",
        "new_string = string.upper()\n",
        "print(new_string)"
      ]
    },
    {
      "cell_type": "markdown",
      "source": [
        "### 4. Convert a string to lowercase."
      ],
      "metadata": {
        "id": "rnnWWWxGZvDA"
      }
    },
    {
      "cell_type": "code",
      "execution_count": null,
      "metadata": {
        "colab": {
          "base_uri": "https://localhost:8080/"
        },
        "outputId": "c08be2dd-5894-41fa-d1e1-6f49c3a1f0fb",
        "id": "8RDszJPCZvDL"
      },
      "outputs": [
        {
          "output_type": "stream",
          "name": "stdout",
          "text": [
            "Enter the String : sTRIng PrOBLEMS\n",
            "string problems\n"
          ]
        }
      ],
      "source": [
        "string = input('Enter the String : ')\n",
        "# converting the whole string into lowercase characters\n",
        "new_string = string.lower()\n",
        "print(new_string)"
      ]
    },
    {
      "cell_type": "markdown",
      "source": [
        "### 5,6. Count the number of vowels and consonants in a string."
      ],
      "metadata": {
        "id": "CuxMcrI6aCT7"
      }
    },
    {
      "cell_type": "code",
      "execution_count": null,
      "metadata": {
        "colab": {
          "base_uri": "https://localhost:8080/"
        },
        "outputId": "c65dd873-68a2-4246-b033-185543a03a3e",
        "id": "LCos9GhuaCUD"
      },
      "outputs": [
        {
          "output_type": "stream",
          "name": "stdout",
          "text": [
            "Enter the String : what is a string?\n",
            "No of Vowels : 4\n",
            "No of Consonants : 9\n"
          ]
        }
      ],
      "source": [
        "string = input('Enter the String : ')\n",
        "string = string.upper()\n",
        "vowel_count = 0\n",
        "consonant_count = 0\n",
        "for char in string:\n",
        "  # checking if the char is a vowel\n",
        "  if char in 'AEIOU':\n",
        "    vowel_count = vowel_count + 1\n",
        "  # checking if character is alphabet and it will only if char is not a vowel.\n",
        "  # hence it increments when char is consonant but not when it is a special char\n",
        "  elif char.isalpha():\n",
        "    consonant_count = consonant_count + 1\n",
        "print('No of Vowels :',vowel_count)\n",
        "print('No of Consonants :',consonant_count)"
      ]
    },
    {
      "cell_type": "markdown",
      "source": [
        "### 7. Remove all whitespaces from a string."
      ],
      "metadata": {
        "id": "_fn6Hxs5deAb"
      }
    },
    {
      "cell_type": "code",
      "execution_count": null,
      "metadata": {
        "colab": {
          "base_uri": "https://localhost:8080/"
        },
        "outputId": "b14936fa-641a-4ce7-b0f1-618e188757d5",
        "id": "ivFafr_WdeA0"
      },
      "outputs": [
        {
          "output_type": "stream",
          "name": "stdout",
          "text": [
            "Enter the String : what is a string.\n",
            "whatisastring.\n"
          ]
        }
      ],
      "source": [
        "string = input('Enter the String : ')\n",
        "# using join over splitting the string is more efficient than relpace\n",
        "# as it takes into consideration multi-line strings also\n",
        "new_string = \"\".join(string.split())\n",
        "print(new_string)"
      ]
    },
    {
      "cell_type": "markdown",
      "source": [
        "### 8. Find the length of a string without using the `len()` function."
      ],
      "metadata": {
        "id": "2RScM2UQghWE"
      }
    },
    {
      "cell_type": "code",
      "execution_count": null,
      "metadata": {
        "colab": {
          "base_uri": "https://localhost:8080/"
        },
        "outputId": "20f01593-d94d-4cf6-8c72-2385d9793da7",
        "id": "zsHZc2HKghWP"
      },
      "outputs": [
        {
          "output_type": "stream",
          "name": "stdout",
          "text": [
            "Enter the String : practice is important\n",
            "Length of the String : 21\n"
          ]
        }
      ],
      "source": [
        "string = input('Enter the String : ')\n",
        "# using for loop to find the length\n",
        "count = 0\n",
        "# iterates untill all characters of the string are accessed\n",
        "for char in string:\n",
        "    count = count + 1\n",
        "print('Length of the String :',count)"
      ]
    },
    {
      "cell_type": "markdown",
      "source": [
        "### 9. Check if a string contains a specific word."
      ],
      "metadata": {
        "id": "Zvda0-EYiCLq"
      }
    },
    {
      "cell_type": "markdown",
      "source": [
        "There can be 2 sub-cases for the above question.\n",
        "\n",
        "\n",
        "1.   If the specific word is present in the string as a whole word\n",
        "2.   If the specific word is present in the string not necessarily as a whole word. It can also be a part of any word in the string.\n",
        "\n"
      ],
      "metadata": {
        "id": "p0LV9S3CoRm8"
      }
    },
    {
      "cell_type": "code",
      "execution_count": null,
      "metadata": {
        "colab": {
          "base_uri": "https://localhost:8080/"
        },
        "outputId": "3b617600-cee2-4e25-ac66-844293ca1432",
        "id": "A0h3aJk0iCLz"
      },
      "outputs": [
        {
          "output_type": "stream",
          "name": "stdout",
          "text": [
            "Enter the String : water is a necessity\n",
            "Enter the Word to be searched : water\n",
            "water is present in water is a necessity\n"
          ]
        }
      ],
      "source": [
        "string = input('Enter the String : ')\n",
        "word = input('Enter the Word to be searched : ')\n",
        "# using 'in' keyword to find if word is there in the string\n",
        "# 'split' is used just check if the whole word is present\n",
        "# 'ate' is not present in 'water is a necessity' but if we just use 'in' is will return True because ate is a substring in water but ate is not a specific word in the string\n",
        "if word in string.split():\n",
        "  print(word,'is present in',string)\n",
        "else:\n",
        "  print(word,'is not present in',string)"
      ]
    },
    {
      "cell_type": "code",
      "execution_count": null,
      "metadata": {
        "colab": {
          "base_uri": "https://localhost:8080/"
        },
        "outputId": "636c195d-d6bc-49eb-9b8d-61d95b04c09b",
        "id": "j-oEaVohn2K5"
      },
      "outputs": [
        {
          "output_type": "stream",
          "name": "stdout",
          "text": [
            "Enter the String : water is a necessity\n",
            "Enter the Word to be searched : ate\n",
            "ate is present in water is a necessity\n"
          ]
        }
      ],
      "source": [
        "string = input('Enter the String : ')\n",
        "word = input('Enter the Word to be searched : ')\n",
        "# using 'in' keyword to find if word is there in the string as a whole word or a part of a sub-word\n",
        "if word in string:\n",
        "  print(word,'is present in',string)\n",
        "else:\n",
        "  print(word,'is not present in',string)"
      ]
    },
    {
      "cell_type": "markdown",
      "source": [
        "### 10. Replace a word in a string with another word."
      ],
      "metadata": {
        "id": "wS7SpAxjRxHD"
      }
    },
    {
      "cell_type": "code",
      "execution_count": null,
      "metadata": {
        "id": "qEC4gEZeRxHE"
      },
      "outputs": [],
      "source": [
        "def replaceWord(string,word,new_word):\n",
        "  '''replaces all occurences of a specific word present in a string with another word\n",
        "\n",
        "  Parameters\n",
        "  string: main string to check if word is present\n",
        "  word: the word to be swapped from the string\n",
        "  new_word: the word taking place of the older word\n",
        "\n",
        "  Returns\n",
        "  the new string if the word is present, else prompts that string is not present\n",
        "  '''\n",
        "  # checking if word is present in the string\n",
        "  if word in string:\n",
        "      new_string = ''.join(string.replace(word,new_word))\n",
        "  else:\n",
        "    return f'{word} is not present in the string'\n",
        "  return new_string"
      ]
    },
    {
      "cell_type": "code",
      "source": [
        "replaceWord('air water air air','air','land')"
      ],
      "metadata": {
        "colab": {
          "base_uri": "https://localhost:8080/",
          "height": 35
        },
        "id": "hwdcT2p-ZD46",
        "outputId": "ea380747-09c5-49d2-9d9c-203f47b6e98c"
      },
      "execution_count": null,
      "outputs": [
        {
          "output_type": "execute_result",
          "data": {
            "text/plain": [
              "'land water land land'"
            ],
            "application/vnd.google.colaboratory.intrinsic+json": {
              "type": "string"
            }
          },
          "metadata": {},
          "execution_count": 13
        }
      ]
    },
    {
      "cell_type": "code",
      "source": [
        "replaceWord('air water air air','land','air')"
      ],
      "metadata": {
        "colab": {
          "base_uri": "https://localhost:8080/",
          "height": 35
        },
        "id": "o7EFXXFjbT-8",
        "outputId": "723d79f4-1a8b-48a9-90b2-912476989f82"
      },
      "execution_count": null,
      "outputs": [
        {
          "output_type": "execute_result",
          "data": {
            "text/plain": [
              "'land is not present in the string'"
            ],
            "application/vnd.google.colaboratory.intrinsic+json": {
              "type": "string"
            }
          },
          "metadata": {},
          "execution_count": 14
        }
      ]
    },
    {
      "cell_type": "markdown",
      "source": [
        "### 11. Count the occurrences of a word in a string."
      ],
      "metadata": {
        "id": "GAEK-WEQiMMW"
      }
    },
    {
      "cell_type": "code",
      "execution_count": null,
      "metadata": {
        "id": "XeLIR2vUiMMd"
      },
      "outputs": [],
      "source": [
        "def countWordOccurences(string,word):\n",
        "  '''find the no of occurences of a specific word in the given string\n",
        "\n",
        "  Parameters\n",
        "  string: main string\n",
        "  word: find the no of occurences in the string\n",
        "\n",
        "  Returns int\n",
        "  count: no of occurences of the word\n",
        "  '''\n",
        "  # checking if word is present in the string\n",
        "  words = string.split()\n",
        "  count = 0\n",
        "  for w in words:\n",
        "    if word == w:\n",
        "      count += 1\n",
        "  return count"
      ]
    },
    {
      "cell_type": "code",
      "source": [
        "countWordOccurences('air water air air','air')"
      ],
      "metadata": {
        "colab": {
          "base_uri": "https://localhost:8080/"
        },
        "outputId": "7af948fb-4e8f-4abc-b0af-61f5702167d8",
        "id": "7qqjEgHKiMMd"
      },
      "execution_count": null,
      "outputs": [
        {
          "output_type": "execute_result",
          "data": {
            "text/plain": [
              "3"
            ]
          },
          "metadata": {},
          "execution_count": 16
        }
      ]
    },
    {
      "cell_type": "code",
      "source": [
        "countWordOccurences('air water air air','land')"
      ],
      "metadata": {
        "colab": {
          "base_uri": "https://localhost:8080/"
        },
        "outputId": "356edbaf-71ed-406c-bea2-43e9529459e4",
        "id": "F6loG0_kiMMd"
      },
      "execution_count": null,
      "outputs": [
        {
          "output_type": "execute_result",
          "data": {
            "text/plain": [
              "0"
            ]
          },
          "metadata": {},
          "execution_count": 17
        }
      ]
    },
    {
      "cell_type": "markdown",
      "source": [
        "### 12. Find the first occurrence of a word in a string."
      ],
      "metadata": {
        "id": "ogEvuF5F7MQ0"
      }
    },
    {
      "cell_type": "code",
      "execution_count": null,
      "metadata": {
        "id": "cNMDsN-V7MQ7"
      },
      "outputs": [],
      "source": [
        "def firstWordOccurence(string,word):\n",
        "  '''find the first occurence of a specific word in the given string\n",
        "\n",
        "  Parameters\n",
        "  string: main string\n",
        "  word: substring\n",
        "\n",
        "  Returns int\n",
        "  index: index of the word\n",
        "  '''\n",
        "  # checking if word is present in the string\n",
        "  words = string.split()\n",
        "  index = -1\n",
        "  for i in range(len(words)):\n",
        "    if word == words[i]:\n",
        "      index = i\n",
        "      break\n",
        "  return index"
      ]
    },
    {
      "cell_type": "code",
      "source": [
        "firstWordOccurence('land water air','air')"
      ],
      "metadata": {
        "colab": {
          "base_uri": "https://localhost:8080/"
        },
        "outputId": "f7885986-82f8-432e-a2a6-c831344bf460",
        "id": "WejAsChY7MQ7"
      },
      "execution_count": null,
      "outputs": [
        {
          "output_type": "execute_result",
          "data": {
            "text/plain": [
              "2"
            ]
          },
          "metadata": {},
          "execution_count": 16
        }
      ]
    },
    {
      "cell_type": "code",
      "source": [
        "firstWordOccurence('air water air air','land')"
      ],
      "metadata": {
        "colab": {
          "base_uri": "https://localhost:8080/"
        },
        "outputId": "c15b6f4a-4e0c-4531-d7df-2d3f3191ae6b",
        "id": "BDHWfB287MQ8"
      },
      "execution_count": null,
      "outputs": [
        {
          "output_type": "execute_result",
          "data": {
            "text/plain": [
              "-1"
            ]
          },
          "metadata": {},
          "execution_count": 17
        }
      ]
    },
    {
      "cell_type": "markdown",
      "source": [
        "### 13. Find the last occurrence of a word in a string."
      ],
      "metadata": {
        "id": "k0_kBt-a-Nhn"
      }
    },
    {
      "cell_type": "code",
      "execution_count": null,
      "metadata": {
        "id": "WUdrCVrb-Nhu"
      },
      "outputs": [],
      "source": [
        "def lastWordOccurence(string,word):\n",
        "  '''find the last occurence of a specific word in the given string\n",
        "\n",
        "  Parameters\n",
        "  string: main string\n",
        "  word: substring\n",
        "\n",
        "  Returns int\n",
        "  index: index of the word\n",
        "  '''\n",
        "  # checking if word is present in the string\n",
        "  words = string.split()\n",
        "  index = -1\n",
        "  for i in range(len(words)):\n",
        "    if word == words[i]:\n",
        "      index = i\n",
        "  return index"
      ]
    },
    {
      "cell_type": "code",
      "source": [
        "lastWordOccurence('land water air air, air','air')"
      ],
      "metadata": {
        "colab": {
          "base_uri": "https://localhost:8080/"
        },
        "outputId": "08f5891f-da77-4525-b095-4ea6cd31c75e",
        "id": "KCdteeSw-Nhu"
      },
      "execution_count": null,
      "outputs": [
        {
          "output_type": "execute_result",
          "data": {
            "text/plain": [
              "4"
            ]
          },
          "metadata": {},
          "execution_count": 22
        }
      ]
    },
    {
      "cell_type": "code",
      "source": [
        "lastWordOccurence('air water air air','land')"
      ],
      "metadata": {
        "colab": {
          "base_uri": "https://localhost:8080/"
        },
        "outputId": "90e1c7c7-8d4c-45d3-de34-4fa661d42289",
        "id": "iTqxUUIJ-Nhu"
      },
      "execution_count": null,
      "outputs": [
        {
          "output_type": "execute_result",
          "data": {
            "text/plain": [
              "-1"
            ]
          },
          "metadata": {},
          "execution_count": 23
        }
      ]
    },
    {
      "cell_type": "markdown",
      "source": [
        "### 14. Split a string into a list of words."
      ],
      "metadata": {
        "id": "HVn1_FmY-OxD"
      }
    },
    {
      "cell_type": "code",
      "execution_count": null,
      "metadata": {
        "id": "T55_XL0k-OxE"
      },
      "outputs": [],
      "source": [
        "def splitString(string):\n",
        "  '''split a string into a list of words\n",
        "\n",
        "  Parameters\n",
        "  string: main string\n",
        "\n",
        "  Returns list\n",
        "  words: list of words\n",
        "  '''\n",
        "  # checking if word is present in the string\n",
        "  words = string.split()\n",
        "  return words"
      ]
    },
    {
      "cell_type": "code",
      "source": [
        "splitString('land water air')"
      ],
      "metadata": {
        "colab": {
          "base_uri": "https://localhost:8080/"
        },
        "outputId": "06f8f30f-71e5-4b6d-9126-a154a8f36409",
        "id": "6IkkwFiI-OxE"
      },
      "execution_count": null,
      "outputs": [
        {
          "output_type": "execute_result",
          "data": {
            "text/plain": [
              "['land', 'water', 'air']"
            ]
          },
          "metadata": {},
          "execution_count": 28
        }
      ]
    },
    {
      "cell_type": "code",
      "source": [
        "splitString('air water air air   land')"
      ],
      "metadata": {
        "colab": {
          "base_uri": "https://localhost:8080/"
        },
        "outputId": "7c96486d-1f79-483c-bd93-e0ae109fc3ec",
        "id": "zFLPNXOL-OxE"
      },
      "execution_count": null,
      "outputs": [
        {
          "output_type": "execute_result",
          "data": {
            "text/plain": [
              "['air', 'water', 'air', 'air', 'land']"
            ]
          },
          "metadata": {},
          "execution_count": 30
        }
      ]
    },
    {
      "cell_type": "markdown",
      "source": [
        "### 15. Join a list of words into a string."
      ],
      "metadata": {
        "id": "gqZe-aQ1-O7i"
      }
    },
    {
      "cell_type": "code",
      "execution_count": null,
      "metadata": {
        "id": "Hgkv0bJe-O7i"
      },
      "outputs": [],
      "source": [
        "def joinWords(words):\n",
        "  '''combine a list of words into a string\n",
        "\n",
        "  Parameters\n",
        "  words: a list of substrings\n",
        "\n",
        "  Returns string\n",
        "  string: one string\n",
        "  '''\n",
        "  # checking if word is present in the string\n",
        "  string = ' '.join(words)\n",
        "  return string"
      ]
    },
    {
      "cell_type": "code",
      "source": [
        "joinWords(['land', 'water', 'air'])"
      ],
      "metadata": {
        "colab": {
          "base_uri": "https://localhost:8080/",
          "height": 35
        },
        "outputId": "d2ee3b04-9cd4-41a5-f12f-98e750a397b1",
        "id": "hq4NBu7t-O7j"
      },
      "execution_count": null,
      "outputs": [
        {
          "output_type": "execute_result",
          "data": {
            "text/plain": [
              "'land water air'"
            ],
            "application/vnd.google.colaboratory.intrinsic+json": {
              "type": "string"
            }
          },
          "metadata": {},
          "execution_count": 32
        }
      ]
    },
    {
      "cell_type": "markdown",
      "source": [
        "### 16. Convert a string where words are separated by spaces to one where words are separated by underscores."
      ],
      "metadata": {
        "id": "_9jgf4ypCq3b"
      }
    },
    {
      "cell_type": "code",
      "execution_count": null,
      "metadata": {
        "id": "vMxzQSn_Cq3i"
      },
      "outputs": [],
      "source": [
        "def spacesToUnderscores(string):\n",
        "  '''converting spaces to underscores\n",
        "\n",
        "  Parameters\n",
        "  string: main string\n",
        "\n",
        "  Returns string\n",
        "  string: replaced spaces with underscores\n",
        "  '''\n",
        "  # checking if word is present in the string\n",
        "  new_string = '_'.join(string.split())\n",
        "  return new_string"
      ]
    },
    {
      "cell_type": "code",
      "source": [
        "spacesToUnderscores('land water air')"
      ],
      "metadata": {
        "colab": {
          "base_uri": "https://localhost:8080/",
          "height": 35
        },
        "outputId": "65a4ed41-e638-46f9-f0a7-8260e9f8c6a0",
        "id": "0YMhbhYxCq3j"
      },
      "execution_count": null,
      "outputs": [
        {
          "output_type": "execute_result",
          "data": {
            "text/plain": [
              "'land_water_air'"
            ],
            "application/vnd.google.colaboratory.intrinsic+json": {
              "type": "string"
            }
          },
          "metadata": {},
          "execution_count": 36
        }
      ]
    },
    {
      "cell_type": "markdown",
      "source": [
        "### 17. Check if a string starts with a specific word or phrase."
      ],
      "metadata": {
        "id": "7rlGysUbCrBS"
      }
    },
    {
      "cell_type": "code",
      "execution_count": null,
      "metadata": {
        "id": "s5-peby7CrBS"
      },
      "outputs": [],
      "source": [
        "def checkStartSubstring(string,substring):\n",
        "  '''checking if string starts with a substring\n",
        "\n",
        "  Parameters\n",
        "  string: main\n",
        "  substring: smaller string\n",
        "\n",
        "  Returns\n",
        "  bool value\n",
        "  '''\n",
        "  # checking if word is present in the string\n",
        "  l = len(substring)\n",
        "  if string[:l] != substring:\n",
        "    return False\n",
        "  return True"
      ]
    },
    {
      "cell_type": "code",
      "source": [
        "checkStartSubstring('I love programming','I love pro')"
      ],
      "metadata": {
        "colab": {
          "base_uri": "https://localhost:8080/"
        },
        "outputId": "a345585c-9ac8-48b2-ff6a-fb0174ad6d65",
        "id": "dYwT9qfMCrBT"
      },
      "execution_count": null,
      "outputs": [
        {
          "output_type": "execute_result",
          "data": {
            "text/plain": [
              "True"
            ]
          },
          "metadata": {},
          "execution_count": 20
        }
      ]
    },
    {
      "cell_type": "code",
      "source": [
        "checkStartSubstring('I love programming','I love coding')"
      ],
      "metadata": {
        "colab": {
          "base_uri": "https://localhost:8080/"
        },
        "outputId": "b6bc5402-60e7-4dd1-9c24-c1e1c81c7c1f",
        "id": "z44YUAlVArBM"
      },
      "execution_count": null,
      "outputs": [
        {
          "output_type": "execute_result",
          "data": {
            "text/plain": [
              "False"
            ]
          },
          "metadata": {},
          "execution_count": 18
        }
      ]
    },
    {
      "cell_type": "markdown",
      "source": [
        "### 18. Check if a string ends with a specific word or phrase."
      ],
      "metadata": {
        "id": "2WsKr3BiCrOj"
      }
    },
    {
      "cell_type": "code",
      "execution_count": null,
      "metadata": {
        "id": "6y_JX4U_CrOj"
      },
      "outputs": [],
      "source": [
        "def checkEndSubstring(string,substring):\n",
        "  '''check if a string ends with a specific substrinf\n",
        "\n",
        "  Parameters\n",
        "  string: main\n",
        "  substring: smaller string\n",
        "\n",
        "  Returns\n",
        "  bool value\n",
        "  '''\n",
        "  # checking if word is present in the string\n",
        "  l = len(substring)\n",
        "  if string[-l::] == substring:\n",
        "    return True\n",
        "  else:\n",
        "    return False"
      ]
    },
    {
      "cell_type": "code",
      "source": [
        "checkEndSubstring('sometimes, I like programming','I like programming')"
      ],
      "metadata": {
        "colab": {
          "base_uri": "https://localhost:8080/"
        },
        "outputId": "611796c3-1cf6-42b0-afaf-2a6b58477a8d",
        "id": "TE-vTYevCrOj"
      },
      "execution_count": null,
      "outputs": [
        {
          "output_type": "execute_result",
          "data": {
            "text/plain": [
              "True"
            ]
          },
          "metadata": {},
          "execution_count": 15
        }
      ]
    },
    {
      "cell_type": "code",
      "source": [
        "checkEndSubstring('sometimes, I like programming','I like coding')"
      ],
      "metadata": {
        "colab": {
          "base_uri": "https://localhost:8080/"
        },
        "outputId": "46a091cc-8327-44d3-f2ca-014c8c18e1ac",
        "id": "iX8XIvfeD15m"
      },
      "execution_count": null,
      "outputs": [
        {
          "output_type": "execute_result",
          "data": {
            "text/plain": [
              "False"
            ]
          },
          "metadata": {},
          "execution_count": 21
        }
      ]
    },
    {
      "cell_type": "markdown",
      "source": [
        "### 19. Convert a string to title case (e.g., \"hello world\" to \"Hello World\")."
      ],
      "metadata": {
        "id": "-qi5_phdCrZb"
      }
    },
    {
      "cell_type": "code",
      "execution_count": null,
      "metadata": {
        "id": "w1VseXEZCrZc"
      },
      "outputs": [],
      "source": [
        "def titleCase(string):\n",
        "  '''Convert a string to title case.\n",
        "\n",
        "  Parameters\n",
        "  string\n",
        "\n",
        "  Returns\n",
        "  string: changed into title case\n",
        "  '''\n",
        "  # using .title func to return titlecase string\n",
        "  return string.title()"
      ]
    },
    {
      "cell_type": "code",
      "source": [
        "titleCase('sometimes, i love programming.')"
      ],
      "metadata": {
        "colab": {
          "base_uri": "https://localhost:8080/"
        },
        "outputId": "2f6f14d7-f1da-43e6-c637-cb990946f845",
        "id": "SOmMySNkCrZc"
      },
      "execution_count": null,
      "outputs": [
        {
          "output_type": "execute_result",
          "data": {
            "text/plain": [
              "'Sometimes, I Love Programming.'"
            ],
            "application/vnd.google.colaboratory.intrinsic+json": {
              "type": "string"
            }
          },
          "metadata": {},
          "execution_count": 26
        }
      ]
    },
    {
      "cell_type": "markdown",
      "source": [
        "### 20. Find the longest word in a string."
      ],
      "metadata": {
        "id": "enurizyDFBHZ"
      }
    },
    {
      "cell_type": "code",
      "execution_count": null,
      "metadata": {
        "id": "4-P0KEciFBHg"
      },
      "outputs": [],
      "source": [
        "def longestWord(string):\n",
        "  '''find the longest word in the string.\n",
        "\n",
        "  Parameters\n",
        "  string\n",
        "\n",
        "  Returns string\n",
        "  word: longest word\n",
        "  '''\n",
        "  words = string.split()\n",
        "  max = 0\n",
        "  long_word = ''\n",
        "  for word in words:\n",
        "    word = word.replace(',','').replace('.','').replace('\"','').replace(\"'\",'')\n",
        "    if len(word) >= max:\n",
        "      long_word = word\n",
        "      max = len(word)\n",
        "  return long_word"
      ]
    },
    {
      "cell_type": "code",
      "source": [
        "longestWord('sometimes, i love programming.')"
      ],
      "metadata": {
        "colab": {
          "base_uri": "https://localhost:8080/",
          "height": 36
        },
        "outputId": "3cb9da8d-12b0-492a-c349-8d20159d3f38",
        "id": "_Cbz3PX1FBHg"
      },
      "execution_count": null,
      "outputs": [
        {
          "output_type": "execute_result",
          "data": {
            "text/plain": [
              "'programming'"
            ],
            "application/vnd.google.colaboratory.intrinsic+json": {
              "type": "string"
            }
          },
          "metadata": {},
          "execution_count": 48
        }
      ]
    },
    {
      "cell_type": "markdown",
      "source": [
        "### 21. Find the shortest word in a string."
      ],
      "metadata": {
        "id": "ufAveZOPFK6b"
      }
    },
    {
      "cell_type": "code",
      "execution_count": null,
      "metadata": {
        "id": "f8WBjrHEFK6m"
      },
      "outputs": [],
      "source": [
        "def shortWord(string):\n",
        "  '''find the shortest word in the string.\n",
        "\n",
        "  Parameters\n",
        "  string\n",
        "\n",
        "  Returns string\n",
        "  word: longest word\n",
        "  '''\n",
        "  words = string.split()\n",
        "  min = 1000\n",
        "  short_word = ''\n",
        "  for word in words:\n",
        "    word = word.replace(',','').replace('.','').replace('\"','').replace(\"'\",'')\n",
        "    if len(word) < min:\n",
        "      short_word = word\n",
        "      min = len(word)\n",
        "  return short_word"
      ]
    },
    {
      "cell_type": "code",
      "source": [
        "shortWord('sometimes, i love programming.')"
      ],
      "metadata": {
        "colab": {
          "base_uri": "https://localhost:8080/",
          "height": 36
        },
        "outputId": "7db23aaf-a99d-4a02-d11c-c724050d39af",
        "id": "QhUon_KrFK6m"
      },
      "execution_count": null,
      "outputs": [
        {
          "output_type": "execute_result",
          "data": {
            "text/plain": [
              "'i'"
            ],
            "application/vnd.google.colaboratory.intrinsic+json": {
              "type": "string"
            }
          },
          "metadata": {},
          "execution_count": 50
        }
      ]
    },
    {
      "cell_type": "markdown",
      "source": [
        "### 22. Reverse the order of words in a string."
      ],
      "metadata": {
        "id": "VQ6La0QrOl-O"
      }
    },
    {
      "cell_type": "code",
      "execution_count": null,
      "metadata": {
        "id": "k63uMJy1Ol-W"
      },
      "outputs": [],
      "source": [
        "def reverseWordOrder(string):\n",
        "  '''reverse the word order of the string\n",
        "\n",
        "  Parameters\n",
        "  string\n",
        "\n",
        "  Returns string\n",
        "  reversed_string\n",
        "  '''\n",
        "  # string = string.replace(',','').replace('.','')\n",
        "  words = string.split()\n",
        "  reversed_string = ' '.join(words[::-1])\n",
        "  return reversed_string"
      ]
    },
    {
      "cell_type": "code",
      "source": [
        "reverseWordOrder('sometimes, i love programming.')"
      ],
      "metadata": {
        "colab": {
          "base_uri": "https://localhost:8080/",
          "height": 36
        },
        "outputId": "0433901d-c5e2-451b-b5d5-b26579458354",
        "id": "-RbjiX12Ol-W"
      },
      "execution_count": null,
      "outputs": [
        {
          "output_type": "execute_result",
          "data": {
            "text/plain": [
              "'programming. love i sometimes,'"
            ],
            "application/vnd.google.colaboratory.intrinsic+json": {
              "type": "string"
            }
          },
          "metadata": {},
          "execution_count": 58
        }
      ]
    },
    {
      "cell_type": "markdown",
      "source": [
        "### 23. Check if a string is alphanumeric."
      ],
      "metadata": {
        "id": "4P77ZckoQdcq"
      }
    },
    {
      "cell_type": "code",
      "execution_count": null,
      "metadata": {
        "id": "aGrfOfNEQdcy"
      },
      "outputs": [],
      "source": [
        "def reverseWordOrder(string):\n",
        "  '''check if a string is alphanumeric\n",
        "\n",
        "  Parameters\n",
        "  string\n",
        "\n",
        "  Returns\n",
        "  bool value\n",
        "  '''\n",
        "  # string = string.replace(',','').replace('.','')\n",
        "  return string.isalnum()"
      ]
    },
    {
      "cell_type": "code",
      "source": [
        "reverseWordOrder('sometimes, i love programming.')"
      ],
      "metadata": {
        "colab": {
          "base_uri": "https://localhost:8080/"
        },
        "outputId": "4cfb6754-7109-4b73-a26c-07477a554cfe",
        "id": "EQJSOTV3Qdcy"
      },
      "execution_count": null,
      "outputs": [
        {
          "output_type": "execute_result",
          "data": {
            "text/plain": [
              "False"
            ]
          },
          "metadata": {},
          "execution_count": 60
        }
      ]
    },
    {
      "cell_type": "code",
      "source": [
        "reverseWordOrder('sometimesiloveprogramming')"
      ],
      "metadata": {
        "colab": {
          "base_uri": "https://localhost:8080/"
        },
        "id": "YrCzYI5MQ8pr",
        "outputId": "aab6c371-8da4-4217-df4f-dceabe9a6291"
      },
      "execution_count": null,
      "outputs": [
        {
          "output_type": "execute_result",
          "data": {
            "text/plain": [
              "True"
            ]
          },
          "metadata": {},
          "execution_count": 63
        }
      ]
    },
    {
      "cell_type": "markdown",
      "source": [
        "### 24. Extract all digits from a string."
      ],
      "metadata": {
        "id": "arK3DUkxRk7t"
      }
    },
    {
      "cell_type": "code",
      "execution_count": null,
      "metadata": {
        "id": "XZmn1531Rk7v"
      },
      "outputs": [],
      "source": [
        "def extractDigits(string):\n",
        "  '''extract all the digits from the string\n",
        "\n",
        "  Parameters\n",
        "  string\n",
        "\n",
        "  Returns\n",
        "  digits: all digits\n",
        "  '''\n",
        "  digits = ''\n",
        "  for char in string:\n",
        "    # using isdigit func. to check if each char is num or not\n",
        "    if char.isdigit():\n",
        "      digits += char\n",
        "  return digits"
      ]
    },
    {
      "cell_type": "code",
      "source": [
        "extractDigits('sometimes, i love programming.')"
      ],
      "metadata": {
        "colab": {
          "base_uri": "https://localhost:8080/",
          "height": 36
        },
        "outputId": "549b4487-30bf-49f0-8912-ddb13bfabdaf",
        "id": "FWxIAKgdRk7w"
      },
      "execution_count": null,
      "outputs": [
        {
          "output_type": "execute_result",
          "data": {
            "text/plain": [
              "''"
            ],
            "application/vnd.google.colaboratory.intrinsic+json": {
              "type": "string"
            }
          },
          "metadata": {},
          "execution_count": 80
        }
      ]
    },
    {
      "cell_type": "code",
      "source": [
        "extractDigits('22 Baker Street')"
      ],
      "metadata": {
        "colab": {
          "base_uri": "https://localhost:8080/",
          "height": 36
        },
        "outputId": "197f0c92-c05a-429b-af65-11bd2687429a",
        "id": "_16sH4t0Rk7x"
      },
      "execution_count": null,
      "outputs": [
        {
          "output_type": "execute_result",
          "data": {
            "text/plain": [
              "'22'"
            ],
            "application/vnd.google.colaboratory.intrinsic+json": {
              "type": "string"
            }
          },
          "metadata": {},
          "execution_count": 81
        }
      ]
    },
    {
      "cell_type": "markdown",
      "source": [
        "### 25. Extract all alphabets from a string."
      ],
      "metadata": {
        "id": "4DSc9BANRlCY"
      }
    },
    {
      "cell_type": "code",
      "execution_count": null,
      "metadata": {
        "id": "BXX4FQx2RlCY"
      },
      "outputs": [],
      "source": [
        "def extractAlpha(string):\n",
        "  '''extract all the digits from the string\n",
        "\n",
        "  Parameters\n",
        "  string\n",
        "\n",
        "  Returns\n",
        "  digits: all digits\n",
        "  '''\n",
        "  alpha = ''\n",
        "  for char in string:\n",
        "    # using isdigit func. to check if each char is alphabet or not\n",
        "    if char.isalpha():\n",
        "      alpha += char\n",
        "  return alpha"
      ]
    },
    {
      "cell_type": "code",
      "source": [
        "extractAlpha('pwskills12 231')"
      ],
      "metadata": {
        "colab": {
          "base_uri": "https://localhost:8080/",
          "height": 36
        },
        "outputId": "6b2f7e4e-0815-4bdb-c097-a9f61d102f72",
        "id": "q_qmxZpkRlCY"
      },
      "execution_count": null,
      "outputs": [
        {
          "output_type": "execute_result",
          "data": {
            "text/plain": [
              "'pwskills'"
            ],
            "application/vnd.google.colaboratory.intrinsic+json": {
              "type": "string"
            }
          },
          "metadata": {},
          "execution_count": 90
        }
      ]
    },
    {
      "cell_type": "markdown",
      "source": [
        "### 26. Count the number of uppercase letters in a string."
      ],
      "metadata": {
        "id": "B8C5Y2I4RlHh"
      }
    },
    {
      "cell_type": "code",
      "execution_count": null,
      "metadata": {
        "id": "SzSeJEQxRlHl"
      },
      "outputs": [],
      "source": [
        "def countUpper(string):\n",
        "  '''count the number of uppercase letters\n",
        "\n",
        "  Parameters\n",
        "  string\n",
        "\n",
        "  Returns\n",
        "  count: int value\n",
        "  '''\n",
        "  # using isupper to check if char is a uppercase letter and then using sum function to add all 1s [list comprehension]\n",
        "  count = sum(1 for char in string if char.isupper())\n",
        "  return count"
      ]
    },
    {
      "cell_type": "code",
      "source": [
        "countUpper('sometimes, i love programming.')"
      ],
      "metadata": {
        "colab": {
          "base_uri": "https://localhost:8080/"
        },
        "outputId": "db0e9e01-66b6-4504-fdb0-9103ce5ef090",
        "id": "dI6e67cGRlHl"
      },
      "execution_count": null,
      "outputs": [
        {
          "output_type": "execute_result",
          "data": {
            "text/plain": [
              "0"
            ]
          },
          "metadata": {},
          "execution_count": 102
        }
      ]
    },
    {
      "cell_type": "code",
      "source": [
        "countUpper('Sometimes, I love PrOGRAMMing.')"
      ],
      "metadata": {
        "colab": {
          "base_uri": "https://localhost:8080/"
        },
        "outputId": "866d6225-89d9-4838-dfe2-a1b1f637b4e6",
        "id": "PJIkThoQRlHl"
      },
      "execution_count": null,
      "outputs": [
        {
          "output_type": "execute_result",
          "data": {
            "text/plain": [
              "9"
            ]
          },
          "metadata": {},
          "execution_count": 103
        }
      ]
    },
    {
      "cell_type": "markdown",
      "source": [
        "### 27. Count the number of lowercase letters in a string."
      ],
      "metadata": {
        "id": "zirmkf3yRleY"
      }
    },
    {
      "cell_type": "code",
      "execution_count": null,
      "metadata": {
        "id": "0XcYVqN6RleY"
      },
      "outputs": [],
      "source": [
        "def countLower(string):\n",
        "  '''count the number of lowercase letters\n",
        "\n",
        "  Parameters\n",
        "  string\n",
        "\n",
        "  Returns\n",
        "  count: int value\n",
        "  '''\n",
        "  # using islower to check if char is a lower case letter and then using sum function to add all 1s [list comprehension]\n",
        "  count = sum(1 for char in string if char.islower())\n",
        "  return count"
      ]
    },
    {
      "cell_type": "code",
      "source": [
        "countLower('SOMETIMES .')"
      ],
      "metadata": {
        "colab": {
          "base_uri": "https://localhost:8080/"
        },
        "outputId": "28627fdc-bdb1-43c3-9940-c099f640a14f",
        "id": "O27hXlo0RleY"
      },
      "execution_count": null,
      "outputs": [
        {
          "output_type": "execute_result",
          "data": {
            "text/plain": [
              "0"
            ]
          },
          "metadata": {},
          "execution_count": 110
        }
      ]
    },
    {
      "cell_type": "code",
      "source": [
        "countLower('Sometimes, I love PrOGRAMMing.')"
      ],
      "metadata": {
        "colab": {
          "base_uri": "https://localhost:8080/"
        },
        "outputId": "afa3849d-209f-4ce0-a069-a7a8dcd01945",
        "id": "oHkJtiRrRleZ"
      },
      "execution_count": null,
      "outputs": [
        {
          "output_type": "execute_result",
          "data": {
            "text/plain": [
              "16"
            ]
          },
          "metadata": {},
          "execution_count": 107
        }
      ]
    },
    {
      "cell_type": "markdown",
      "source": [
        "### 28. Swap the case of each character in a string."
      ],
      "metadata": {
        "id": "zJ24Jj3TZGVz"
      }
    },
    {
      "cell_type": "code",
      "execution_count": null,
      "metadata": {
        "id": "zWrP63qNZGWK"
      },
      "outputs": [],
      "source": [
        "def swapCase(string):\n",
        "  '''count the number of lowercase letters\n",
        "\n",
        "  Parameters\n",
        "  string\n",
        "\n",
        "  Returns\n",
        "  string: with swapped case letters\n",
        "  '''\n",
        "\n",
        "  return string.swapcase()"
      ]
    },
    {
      "cell_type": "code",
      "source": [
        "swapCase('SOMETIMES .')"
      ],
      "metadata": {
        "colab": {
          "base_uri": "https://localhost:8080/",
          "height": 36
        },
        "outputId": "4d688ea8-d0ac-4c3b-9dad-5813e1a76f75",
        "id": "Th_HLNsHZGWK"
      },
      "execution_count": null,
      "outputs": [
        {
          "output_type": "execute_result",
          "data": {
            "text/plain": [
              "'sometimes .'"
            ],
            "application/vnd.google.colaboratory.intrinsic+json": {
              "type": "string"
            }
          },
          "metadata": {},
          "execution_count": 112
        }
      ]
    },
    {
      "cell_type": "code",
      "source": [
        "swapCase('Sometimes, I love PrOGRAMMing.')"
      ],
      "metadata": {
        "colab": {
          "base_uri": "https://localhost:8080/",
          "height": 36
        },
        "outputId": "f8baa8f0-4b88-48ef-a15f-c0dcf48a1fc3",
        "id": "Vo-vAJrlZGWL"
      },
      "execution_count": null,
      "outputs": [
        {
          "output_type": "execute_result",
          "data": {
            "text/plain": [
              "'sOMETIMES, i LOVE pRogrammING.'"
            ],
            "application/vnd.google.colaboratory.intrinsic+json": {
              "type": "string"
            }
          },
          "metadata": {},
          "execution_count": 113
        }
      ]
    },
    {
      "cell_type": "markdown",
      "source": [
        "### 29. Remove a specific word from a string."
      ],
      "metadata": {
        "id": "6xDCRmKBZGhC"
      }
    },
    {
      "cell_type": "code",
      "execution_count": null,
      "metadata": {
        "id": "wvs9h1beZGhD"
      },
      "outputs": [],
      "source": [
        "def removeWord(string,word):\n",
        "  '''remove a specific word from string\n",
        "\n",
        "  Parameters\n",
        "  string\n",
        "\n",
        "  Returns\n",
        "  new_string:\n",
        "  '''\n",
        "  words = string.split()\n",
        "  while word in words:\n",
        "    words.remove(word)\n",
        "  new_string = ' '.join(words)\n",
        "  return new_string"
      ]
    },
    {
      "cell_type": "code",
      "source": [
        "removeWord('air water air air','air')"
      ],
      "metadata": {
        "colab": {
          "base_uri": "https://localhost:8080/",
          "height": 36
        },
        "outputId": "b3357dae-ece7-4ab0-9784-af7e8204a8ec",
        "id": "_MIsuAmbZGhD"
      },
      "execution_count": null,
      "outputs": [
        {
          "output_type": "execute_result",
          "data": {
            "text/plain": [
              "'water'"
            ],
            "application/vnd.google.colaboratory.intrinsic+json": {
              "type": "string"
            }
          },
          "metadata": {},
          "execution_count": 133
        }
      ]
    },
    {
      "cell_type": "code",
      "source": [
        "removeWord('air airbone','air')"
      ],
      "metadata": {
        "colab": {
          "base_uri": "https://localhost:8080/",
          "height": 36
        },
        "outputId": "93a9a085-7e6b-415b-8315-120d777281e5",
        "id": "pXiSaHqJZGhD"
      },
      "execution_count": null,
      "outputs": [
        {
          "output_type": "execute_result",
          "data": {
            "text/plain": [
              "'airbone'"
            ],
            "application/vnd.google.colaboratory.intrinsic+json": {
              "type": "string"
            }
          },
          "metadata": {},
          "execution_count": 136
        }
      ]
    },
    {
      "cell_type": "markdown",
      "source": [
        "### 30. Check if a string is a valid email address."
      ],
      "metadata": {
        "id": "PMKbVjheZG8G"
      }
    },
    {
      "cell_type": "code",
      "execution_count": null,
      "metadata": {
        "id": "LlxJJUxpZG8H"
      },
      "outputs": [],
      "source": [
        "import re\n",
        "def checkEmail(email):\n",
        "  '''count the number of lowercase letters\n",
        "\n",
        "  Parameters\n",
        "  string\n",
        "\n",
        "  Returns\n",
        "  count: int value\n",
        "  '''\n",
        "  # using islower to check if char is a lower case letter and then using sum function to add all 1s [list comprehension]\n",
        "  regex = r'\\b[A-Za-z0-9._]+@[A-Za-z0-9.-]+\\.[A-Z|a-z]{2,7}\\b'\n",
        "  if(re.fullmatch(regex, email)):\n",
        "    return True\n",
        "  else:\n",
        "    return False"
      ]
    },
    {
      "cell_type": "code",
      "source": [
        "checkEmail('asd21asa_an@gmail.com')"
      ],
      "metadata": {
        "colab": {
          "base_uri": "https://localhost:8080/"
        },
        "outputId": "759063c5-fdcc-4442-adef-05df6906734d",
        "id": "PMlf0VPaZG8H"
      },
      "execution_count": null,
      "outputs": [
        {
          "output_type": "execute_result",
          "data": {
            "text/plain": [
              "True"
            ]
          },
          "metadata": {},
          "execution_count": 17
        }
      ]
    },
    {
      "cell_type": "code",
      "source": [
        "checkEmail('sa-.jhn@g12mail.com')"
      ],
      "metadata": {
        "colab": {
          "base_uri": "https://localhost:8080/"
        },
        "outputId": "ce822d62-a21f-4d7d-ea3c-da5541952964",
        "id": "5vHH1qjMZG8H"
      },
      "execution_count": null,
      "outputs": [
        {
          "output_type": "execute_result",
          "data": {
            "text/plain": [
              "False"
            ]
          },
          "metadata": {},
          "execution_count": 18
        }
      ]
    },
    {
      "cell_type": "markdown",
      "source": [
        "### 31. Extract the username from an email address string."
      ],
      "metadata": {
        "id": "t_T1oWcCSaxc"
      }
    },
    {
      "cell_type": "code",
      "execution_count": null,
      "metadata": {
        "id": "-L8rMpWgSaxm"
      },
      "outputs": [],
      "source": [
        "def extractUsername(email):\n",
        "  '''extract username from the email\n",
        "\n",
        "  Parameters\n",
        "  email: valid email id\n",
        "\n",
        "  Returns\n",
        "  username: str value\n",
        "  '''\n",
        "  username = email.split(\"@\")[0]\n",
        "  return username"
      ]
    },
    {
      "cell_type": "code",
      "source": [
        "extractUsername('asd21asa_an@gmail.com')"
      ],
      "metadata": {
        "colab": {
          "base_uri": "https://localhost:8080/",
          "height": 36
        },
        "outputId": "5251d8c5-2fad-4c16-dea4-0e080f6e9a8e",
        "id": "MAA4-seuSaxn"
      },
      "execution_count": null,
      "outputs": [
        {
          "output_type": "execute_result",
          "data": {
            "text/plain": [
              "'asd21asa_an'"
            ],
            "application/vnd.google.colaboratory.intrinsic+json": {
              "type": "string"
            }
          },
          "metadata": {},
          "execution_count": 27
        }
      ]
    },
    {
      "cell_type": "code",
      "source": [
        "extractUsername('jasJ_ab12ok@hotmail.in')"
      ],
      "metadata": {
        "colab": {
          "base_uri": "https://localhost:8080/",
          "height": 36
        },
        "outputId": "c2118419-57ca-4a6c-f0e7-c40727b4d59e",
        "id": "81g19ttrSaxn"
      },
      "execution_count": null,
      "outputs": [
        {
          "output_type": "execute_result",
          "data": {
            "text/plain": [
              "'jasJ_ab12ok'"
            ],
            "application/vnd.google.colaboratory.intrinsic+json": {
              "type": "string"
            }
          },
          "metadata": {},
          "execution_count": 30
        }
      ]
    },
    {
      "cell_type": "markdown",
      "source": [
        "### 32. Extract the domain name from an email address string."
      ],
      "metadata": {
        "id": "8ruAAcDLSeVX"
      }
    },
    {
      "cell_type": "code",
      "execution_count": null,
      "metadata": {
        "id": "yVoUD7tuSeVf"
      },
      "outputs": [],
      "source": [
        "def extractDomain(email):\n",
        "  '''extract the domain name from the email id\n",
        "\n",
        "  Parameters\n",
        "  email: valid email id\n",
        "\n",
        "  Returns\n",
        "  domain: str value\n",
        "  '''\n",
        "  # using .split to extact the email domain name\n",
        "  domain = email.split('@')[1]\n",
        "  return domain"
      ]
    },
    {
      "cell_type": "code",
      "source": [
        "extractDomain('asd21asa_an@gmail.com')"
      ],
      "metadata": {
        "colab": {
          "base_uri": "https://localhost:8080/",
          "height": 36
        },
        "outputId": "b283213c-f235-41c6-ba51-a35fca04423f",
        "id": "LalPigD2SeVf"
      },
      "execution_count": null,
      "outputs": [
        {
          "output_type": "execute_result",
          "data": {
            "text/plain": [
              "'gmail.com'"
            ],
            "application/vnd.google.colaboratory.intrinsic+json": {
              "type": "string"
            }
          },
          "metadata": {},
          "execution_count": 36
        }
      ]
    },
    {
      "cell_type": "code",
      "source": [
        "extractDomain('sajhn@hotmail.in')"
      ],
      "metadata": {
        "colab": {
          "base_uri": "https://localhost:8080/",
          "height": 36
        },
        "outputId": "1b00ad07-fd01-459d-f5e7-623fd1985403",
        "id": "BsT6O_U3SeVf"
      },
      "execution_count": null,
      "outputs": [
        {
          "output_type": "execute_result",
          "data": {
            "text/plain": [
              "'hotmail.in'"
            ],
            "application/vnd.google.colaboratory.intrinsic+json": {
              "type": "string"
            }
          },
          "metadata": {},
          "execution_count": 37
        }
      ]
    },
    {
      "cell_type": "markdown",
      "source": [
        "### 33. Replace multiple spaces in a string with a single space."
      ],
      "metadata": {
        "id": "RShd2jtZSeZv"
      }
    },
    {
      "cell_type": "code",
      "execution_count": null,
      "metadata": {
        "id": "Pjlg7sYISeZv"
      },
      "outputs": [],
      "source": [
        "def replaceMultipleSpaces(string):\n",
        "  ''' replace multiple spaces by a single space\n",
        "\n",
        "  Parameters\n",
        "  string\n",
        "\n",
        "  Returns\n",
        "  new_string: str value\n",
        "  '''\n",
        "  new_string = \" \".join(string.split())\n",
        "  return new_string"
      ]
    },
    {
      "cell_type": "code",
      "source": [
        "replaceMultipleSpaces('mail   abc          apple')"
      ],
      "metadata": {
        "colab": {
          "base_uri": "https://localhost:8080/",
          "height": 36
        },
        "outputId": "05bd1cbb-d71c-400b-dacc-4089117726a8",
        "id": "oKXOs5r8SeZw"
      },
      "execution_count": null,
      "outputs": [
        {
          "output_type": "execute_result",
          "data": {
            "text/plain": [
              "'mail abc apple'"
            ],
            "application/vnd.google.colaboratory.intrinsic+json": {
              "type": "string"
            }
          },
          "metadata": {},
          "execution_count": 40
        }
      ]
    },
    {
      "cell_type": "markdown",
      "source": [
        "### 34. Check if a string is a valid URL."
      ],
      "metadata": {
        "id": "uqlPveJ1Seeb"
      }
    },
    {
      "cell_type": "code",
      "execution_count": null,
      "metadata": {
        "id": "6cM7BjnHSeeb"
      },
      "outputs": [],
      "source": [
        "from urllib.parse import urlparse\n",
        "def validURL(url):\n",
        "  '''checking for a valid url\n",
        "\n",
        "  Parameters\n",
        "  url\n",
        "\n",
        "  Returns\n",
        "  bool value\n",
        "  '''\n",
        "  try:\n",
        "    parse = urlparse(url)\n",
        "    return all([parse.scheme,parse.netloc])\n",
        "  except ValueError:\n",
        "    return False"
      ]
    },
    {
      "cell_type": "code",
      "source": [
        "validURL('https://colab.research.google.com/drive/1PEiBoZc4lTsr8-YechpWRXABx_ZaezYL?authuser=0#scrollTo=7Ni57V7kSeec')"
      ],
      "metadata": {
        "colab": {
          "base_uri": "https://localhost:8080/"
        },
        "outputId": "a770117c-fbdd-4010-c40f-377ce4efce03",
        "id": "7Ni57V7kSeec"
      },
      "execution_count": null,
      "outputs": [
        {
          "output_type": "execute_result",
          "data": {
            "text/plain": [
              "True"
            ]
          },
          "metadata": {},
          "execution_count": 53
        }
      ]
    },
    {
      "cell_type": "code",
      "source": [
        "validURL('sa-.jhn@g12mail.com')"
      ],
      "metadata": {
        "colab": {
          "base_uri": "https://localhost:8080/"
        },
        "outputId": "6934e598-e72d-4ac8-fed0-d39dece0adba",
        "id": "XRGGjXonSeec"
      },
      "execution_count": null,
      "outputs": [
        {
          "output_type": "execute_result",
          "data": {
            "text/plain": [
              "False"
            ]
          },
          "metadata": {},
          "execution_count": 54
        }
      ]
    },
    {
      "cell_type": "markdown",
      "source": [
        "### 35. Extract the protocol (http or https) from a URL string."
      ],
      "metadata": {
        "id": "ddg2r5p4SeiR"
      }
    },
    {
      "cell_type": "code",
      "execution_count": null,
      "metadata": {
        "id": "xL5psZyvSeiR"
      },
      "outputs": [],
      "source": [
        "def getProtocol(url):\n",
        "  '''fetch the url protocol from the string\n",
        "\n",
        "  Parameters\n",
        "  url\n",
        "\n",
        "  Returns\n",
        "  protocol: url protocol, if there\n",
        "  '''\n",
        "  index = url.find('://')\n",
        "  if index != -1:\n",
        "    return url[:index]\n",
        "  return \"N/A\""
      ]
    },
    {
      "cell_type": "code",
      "source": [
        "getProtocol('ftp:/ftp.example.com')"
      ],
      "metadata": {
        "colab": {
          "base_uri": "https://localhost:8080/",
          "height": 36
        },
        "outputId": "2dbfc083-fb15-4398-9121-951aaa2f179b",
        "id": "aTQqmuKjSeiR"
      },
      "execution_count": null,
      "outputs": [
        {
          "output_type": "execute_result",
          "data": {
            "text/plain": [
              "'N/A'"
            ],
            "application/vnd.google.colaboratory.intrinsic+json": {
              "type": "string"
            }
          },
          "metadata": {},
          "execution_count": 81
        }
      ]
    },
    {
      "cell_type": "code",
      "source": [
        "getProtocol('https://colab.research.google.com/drive/1PEiBoZc4lTsr8-YechpWRXABx_ZaezYL?authuser=0#scrollTo=aTQqmuKjSeiR')"
      ],
      "metadata": {
        "colab": {
          "base_uri": "https://localhost:8080/",
          "height": 36
        },
        "outputId": "f1001f6c-fb39-41d2-e139-8aa8a287c4dd",
        "id": "K08rXZVDSeiS"
      },
      "execution_count": null,
      "outputs": [
        {
          "output_type": "execute_result",
          "data": {
            "text/plain": [
              "'https'"
            ],
            "application/vnd.google.colaboratory.intrinsic+json": {
              "type": "string"
            }
          },
          "metadata": {},
          "execution_count": 83
        }
      ]
    },
    {
      "cell_type": "markdown",
      "source": [
        "### 36. Find the frequency of each character in a string."
      ],
      "metadata": {
        "id": "ig4Lhn2zSemW"
      }
    },
    {
      "cell_type": "code",
      "execution_count": null,
      "metadata": {
        "id": "_XXQv5fbSemX"
      },
      "outputs": [],
      "source": [
        "def charFrequency(string):\n",
        "  '''frequency of each character\n",
        "\n",
        "  Parameters\n",
        "  string\n",
        "\n",
        "  Returns\n",
        "  dict value\n",
        "  '''\n",
        "  freq_dict = {}\n",
        "  string = string.lower()\n",
        "  for i in string:\n",
        "    if i in freq_dict:\n",
        "      freq_dict[i] += 1\n",
        "    else:\n",
        "      freq_dict[i] = 1\n",
        "  return freq_dict"
      ]
    },
    {
      "cell_type": "code",
      "source": [
        "charFrequency('asd21asa_an@gmail.com')"
      ],
      "metadata": {
        "colab": {
          "base_uri": "https://localhost:8080/"
        },
        "outputId": "7270e725-1a6e-44fb-bfc9-f930dc94b92a",
        "id": "n7KiM6GmSemY"
      },
      "execution_count": null,
      "outputs": [
        {
          "output_type": "execute_result",
          "data": {
            "text/plain": [
              "{'a': 5,\n",
              " 's': 2,\n",
              " 'd': 1,\n",
              " '2': 1,\n",
              " '1': 1,\n",
              " '_': 1,\n",
              " 'n': 1,\n",
              " '@': 1,\n",
              " 'g': 1,\n",
              " 'm': 2,\n",
              " 'i': 1,\n",
              " 'l': 1,\n",
              " '.': 1,\n",
              " 'c': 1,\n",
              " 'o': 1}"
            ]
          },
          "metadata": {},
          "execution_count": 6
        }
      ]
    },
    {
      "cell_type": "code",
      "source": [
        "charFrequency('PW Skills Strings')"
      ],
      "metadata": {
        "colab": {
          "base_uri": "https://localhost:8080/"
        },
        "outputId": "a4d1ea2f-b410-4675-8b40-6acdd335e5e3",
        "id": "hanBi0MqSemZ"
      },
      "execution_count": null,
      "outputs": [
        {
          "output_type": "execute_result",
          "data": {
            "text/plain": [
              "{'p': 1,\n",
              " 'w': 1,\n",
              " ' ': 2,\n",
              " 's': 4,\n",
              " 'k': 1,\n",
              " 'i': 2,\n",
              " 'l': 2,\n",
              " 't': 1,\n",
              " 'r': 1,\n",
              " 'n': 1,\n",
              " 'g': 1}"
            ]
          },
          "metadata": {},
          "execution_count": 7
        }
      ]
    },
    {
      "cell_type": "markdown",
      "source": [
        "### 37. Remove all punctuation from a string."
      ],
      "metadata": {
        "id": "cp-9Zh1NkCC0"
      }
    },
    {
      "cell_type": "code",
      "execution_count": null,
      "metadata": {
        "id": "h4V_z5EgkCC2"
      },
      "outputs": [],
      "source": [
        "import string as st\n",
        "def removePunctuations(string):\n",
        "  '''remove all punctuations\n",
        "\n",
        "  Parameters\n",
        "  string\n",
        "\n",
        "  Returns\n",
        "  new_string: string without punctuations\n",
        "  '''\n",
        "  new_string = ''\n",
        "  for char in string:\n",
        "    if char not in st.punctuation:\n",
        "      new_string += char\n",
        "  return new_string"
      ]
    },
    {
      "cell_type": "code",
      "source": [
        "removePunctuations('asd21asa_an@gmail.com')"
      ],
      "metadata": {
        "colab": {
          "base_uri": "https://localhost:8080/",
          "height": 36
        },
        "outputId": "129ae586-93e0-41c9-be5f-0a0d938884cf",
        "id": "irbrV_YYkCC3"
      },
      "execution_count": null,
      "outputs": [
        {
          "output_type": "execute_result",
          "data": {
            "text/plain": [
              "'asd21asaangmailcom'"
            ],
            "application/vnd.google.colaboratory.intrinsic+json": {
              "type": "string"
            }
          },
          "metadata": {},
          "execution_count": 13
        }
      ]
    },
    {
      "cell_type": "markdown",
      "source": [
        "### 38. Check if a string contains only digits."
      ],
      "metadata": {
        "id": "1Qyt9PEflHCG"
      }
    },
    {
      "cell_type": "code",
      "execution_count": null,
      "metadata": {
        "id": "INpGE-68lHCd"
      },
      "outputs": [],
      "source": [
        "def checkDigits(string):\n",
        "  '''check if sting only contains digits\n",
        "\n",
        "  Parameters\n",
        "  string\n",
        "\n",
        "  Returns\n",
        "  bool value\n",
        "  '''\n",
        "  if string.isdigit():\n",
        "    return True\n",
        "  else:\n",
        "    return False"
      ]
    },
    {
      "cell_type": "code",
      "source": [
        "checkDigits('asd21asa_an@gmail.com')"
      ],
      "metadata": {
        "colab": {
          "base_uri": "https://localhost:8080/"
        },
        "outputId": "73d6bbf7-6aed-4613-9ef7-18cd0af37e0b",
        "id": "_-Ay2R0ClHCd"
      },
      "execution_count": null,
      "outputs": [
        {
          "output_type": "execute_result",
          "data": {
            "text/plain": [
              "False"
            ]
          },
          "metadata": {},
          "execution_count": 15
        }
      ]
    },
    {
      "cell_type": "code",
      "source": [
        "checkDigits('12311021')"
      ],
      "metadata": {
        "colab": {
          "base_uri": "https://localhost:8080/"
        },
        "outputId": "e1e661e8-2b4a-474c-c286-b624498d842b",
        "id": "NgMTFzfxlHCe"
      },
      "execution_count": null,
      "outputs": [
        {
          "output_type": "execute_result",
          "data": {
            "text/plain": [
              "True"
            ]
          },
          "metadata": {},
          "execution_count": 17
        }
      ]
    },
    {
      "cell_type": "markdown",
      "source": [
        "### 39. Check if a string contains only alphabets."
      ],
      "metadata": {
        "id": "arFIu2sGlHWh"
      }
    },
    {
      "cell_type": "code",
      "execution_count": null,
      "metadata": {
        "id": "Sftt3wxklHWh"
      },
      "outputs": [],
      "source": [
        "def checkAlpha(string):\n",
        "  '''check if sting only contains alphabets\n",
        "\n",
        "  Parameters\n",
        "  string\n",
        "\n",
        "  Returns\n",
        "  bool value\n",
        "  '''\n",
        "  # isaplha() check if string only contains alphabets\n",
        "  if string.isalpha():\n",
        "    return True\n",
        "  else:\n",
        "    return False"
      ]
    },
    {
      "cell_type": "code",
      "source": [
        "checkAlpha('asd21asa_an@gmail.com')"
      ],
      "metadata": {
        "colab": {
          "base_uri": "https://localhost:8080/"
        },
        "outputId": "539361a1-9062-4836-80a2-a18462b78480",
        "id": "PlMUpYRalHWi"
      },
      "execution_count": null,
      "outputs": [
        {
          "output_type": "execute_result",
          "data": {
            "text/plain": [
              "False"
            ]
          },
          "metadata": {},
          "execution_count": 26
        }
      ]
    },
    {
      "cell_type": "code",
      "source": [
        "checkAlpha('ABCDEFG')"
      ],
      "metadata": {
        "colab": {
          "base_uri": "https://localhost:8080/"
        },
        "outputId": "5c1b136f-114f-47a1-e4f5-4fafc2844918",
        "id": "JZiiHD6NlHWi"
      },
      "execution_count": null,
      "outputs": [
        {
          "output_type": "execute_result",
          "data": {
            "text/plain": [
              "True"
            ]
          },
          "metadata": {},
          "execution_count": 27
        }
      ]
    },
    {
      "cell_type": "markdown",
      "source": [
        "### 40. Convert a string to a list of characters."
      ],
      "metadata": {
        "id": "xgBZtlFflHgi"
      }
    },
    {
      "cell_type": "code",
      "execution_count": null,
      "metadata": {
        "id": "KkySoD7olHgi"
      },
      "outputs": [],
      "source": [
        "def listOfChars(string):\n",
        "  '''convert string to list of chars\n",
        "\n",
        "  Parameters\n",
        "  string\n",
        "\n",
        "  Returns\n",
        "  list\n",
        "  '''\n",
        "  # using list function\n",
        "  list_char = list(string)\n",
        "  return list_char"
      ]
    },
    {
      "cell_type": "code",
      "source": [
        "listOfChars('PW Skills')"
      ],
      "metadata": {
        "colab": {
          "base_uri": "https://localhost:8080/"
        },
        "outputId": "1da6c57b-e31a-46c9-f557-0d54815b0a69",
        "id": "NlyhP7n7lHgi"
      },
      "execution_count": null,
      "outputs": [
        {
          "output_type": "execute_result",
          "data": {
            "text/plain": [
              "['P', 'W', ' ', 'S', 'k', 'i', 'l', 'l', 's']"
            ]
          },
          "metadata": {},
          "execution_count": 29
        }
      ]
    },
    {
      "cell_type": "markdown",
      "source": [
        "### 41. Check if two strings are anagrams."
      ],
      "metadata": {
        "id": "_esudfOglJmA"
      }
    },
    {
      "cell_type": "code",
      "execution_count": null,
      "metadata": {
        "id": "xry07Qj5lJmA"
      },
      "outputs": [],
      "source": [
        "def checkAnagrams(string1,string2):\n",
        "  '''check if 2 strings are anagrams\n",
        "\n",
        "  Parameters\n",
        "  string1\n",
        "  string2\n",
        "\n",
        "  Returns\n",
        "  bool value\n",
        "  '''\n",
        "  string1 = string1.lower()\n",
        "  string2 = string2.lower()\n",
        "  for char in string1:\n",
        "    if char in string2:\n",
        "      string2.replace(char,'',1)\n",
        "    else:\n",
        "      return False\n",
        "  return True"
      ]
    },
    {
      "cell_type": "code",
      "source": [
        "checkAnagrams('mars','rams')"
      ],
      "metadata": {
        "colab": {
          "base_uri": "https://localhost:8080/"
        },
        "outputId": "d3472432-c4fe-4bb5-864c-4e1fceff95a6",
        "id": "my528p3HlJmA"
      },
      "execution_count": null,
      "outputs": [
        {
          "output_type": "execute_result",
          "data": {
            "text/plain": [
              "True"
            ]
          },
          "metadata": {},
          "execution_count": 33
        }
      ]
    },
    {
      "cell_type": "code",
      "source": [
        "checkAnagrams('mars','ram')"
      ],
      "metadata": {
        "colab": {
          "base_uri": "https://localhost:8080/"
        },
        "outputId": "57bd09a1-287c-4b0e-9a79-ba0169e8b632",
        "id": "g5XNoQQflJmB"
      },
      "execution_count": null,
      "outputs": [
        {
          "output_type": "execute_result",
          "data": {
            "text/plain": [
              "False"
            ]
          },
          "metadata": {},
          "execution_count": 34
        }
      ]
    },
    {
      "cell_type": "markdown",
      "source": [
        "### 42. Encode a string using a Caesar cipher."
      ],
      "metadata": {
        "id": "DJerGeFolKUO"
      }
    },
    {
      "cell_type": "markdown",
      "source": [
        "Here, `ord(char)` is used to get the ASCII value of the character. However, the shift operation is slightly different.\n",
        "\n",
        "```\n",
        "chr((ord(char)+shift-65)%26 + 65)\n",
        "```\n",
        "I have **subtracted 65** from the sum of `ord(char) + shift` before performing the **modulo operation % 26** (which allows wrapping within the 26 letters of the alphabet).\n",
        "\n",
        "Then adds 65 back to the result. This approach is useful when you want to ensure the shift stays within the range of alphabetical characters (ASCII values 65 to 90 for uppercase letters in the English alphabet).\n"
      ],
      "metadata": {
        "id": "QcFpb8XOL6Og"
      }
    },
    {
      "cell_type": "code",
      "execution_count": null,
      "metadata": {
        "id": "Ji0ix-iekCRk"
      },
      "outputs": [],
      "source": [
        "def encrypt(string,shift):\n",
        "  '''encode the given string using Caesar Cipher\n",
        "\n",
        "  Parameters\n",
        "  string: main text to ne encoded\n",
        "  shift: no of letters to be shifted\n",
        "\n",
        "  Returns\n",
        "  encoded_string\n",
        "  '''\n",
        "  encoded_string = ''\n",
        "  for char in string:\n",
        "    # Shift is added to the char ASCII value to get a new ASCII value(decrypted)\n",
        "    if char.isupper():\n",
        "      encoded_string += chr((ord(char)+shift-65)%26 + 65)\n",
        "    elif char.islower():\n",
        "      encoded_string += chr((ord(char)+shift-97)%26 + 97)\n",
        "    else:\n",
        "      encoded_string += char\n",
        "  return encoded_string"
      ]
    },
    {
      "cell_type": "code",
      "source": [
        "encrypt('Secret Message!',7)"
      ],
      "metadata": {
        "colab": {
          "base_uri": "https://localhost:8080/",
          "height": 36
        },
        "outputId": "7a00dfb8-76d9-4410-b4a4-a4c23faa51fc",
        "id": "S48Soa7HlKUP"
      },
      "execution_count": null,
      "outputs": [
        {
          "output_type": "execute_result",
          "data": {
            "text/plain": [
              "'Zljyla Tlzzhnl!'"
            ],
            "application/vnd.google.colaboratory.intrinsic+json": {
              "type": "string"
            }
          },
          "metadata": {},
          "execution_count": 57
        }
      ]
    },
    {
      "cell_type": "markdown",
      "source": [
        "### 43. Decode a Caesar cipher encoded string."
      ],
      "metadata": {
        "id": "nuefA6QNkCRk"
      }
    },
    {
      "cell_type": "code",
      "execution_count": null,
      "metadata": {
        "id": "Cd6q2yY-lKUP"
      },
      "outputs": [],
      "source": [
        "def decrypt(encoded_string,shift):\n",
        "  '''Decrypt the message using caesar cipher technique\n",
        "\n",
        "  Parameters\n",
        "  encoded: encoded text to be decoded\n",
        "  shift: no of letters to be shifted\n",
        "\n",
        "  Returns\n",
        "  string\n",
        "  '''\n",
        "  string = ''\n",
        "  for char in encoded_string:\n",
        "    # Shift is subtracted from ASCII value to get the original ASCII value of the char\n",
        "    if char.isupper():\n",
        "      string += chr((ord(char)-shift-65)%26 + 65)\n",
        "    elif char.islower():\n",
        "      string += chr((ord(char)-shift-97)%26 + 97)\n",
        "    else:\n",
        "      string += char\n",
        "  return string"
      ]
    },
    {
      "cell_type": "code",
      "source": [
        "decrypt('Zljyla Tlzzhnl!',7)"
      ],
      "metadata": {
        "colab": {
          "base_uri": "https://localhost:8080/",
          "height": 36
        },
        "outputId": "085fe8a0-f39f-4ea2-ebe5-f7a52b31b5be",
        "id": "51unB2eqLj-z"
      },
      "execution_count": null,
      "outputs": [
        {
          "output_type": "execute_result",
          "data": {
            "text/plain": [
              "'Secret Message!'"
            ],
            "application/vnd.google.colaboratory.intrinsic+json": {
              "type": "string"
            }
          },
          "metadata": {},
          "execution_count": 60
        }
      ]
    },
    {
      "cell_type": "markdown",
      "source": [
        "### 44. Find the most frequent word in a string."
      ],
      "metadata": {
        "id": "ruTrT6lzkCWK"
      }
    },
    {
      "cell_type": "code",
      "execution_count": null,
      "metadata": {
        "id": "Vk6lJKIekCWK"
      },
      "outputs": [],
      "source": [
        "def mostFreqWord(string):\n",
        "  '''find the most frequent word in string\n",
        "\n",
        "  Parameters\n",
        "  string\n",
        "\n",
        "  Returns\n",
        "  most frequent word\n",
        "  '''\n",
        "  word_dict = {}\n",
        "  # remove all punctuation chars from the string, lower and split it\n",
        "  string_list = removePunctuations(string).lower().split(' ')\n",
        "  for word in string_list:\n",
        "    # if word not occured already it creates an instance else increments\n",
        "    if word in word_dict:\n",
        "      word_dict[word] += 1\n",
        "    else:\n",
        "      word_dict[word] = 1\n",
        "  # zipping value, key then take the max of value\n",
        "  freq_word = max(zip(word_dict.values(), word_dict.keys()))[1]\n",
        "  return freq_word"
      ]
    },
    {
      "cell_type": "code",
      "source": [
        "mostFreqWord('Water is important, although it is very scarce.')"
      ],
      "metadata": {
        "colab": {
          "base_uri": "https://localhost:8080/",
          "height": 36
        },
        "outputId": "d9ae8fb2-9604-4875-c427-1f75caa1b040",
        "id": "6sME8ytlkCWL"
      },
      "execution_count": null,
      "outputs": [
        {
          "output_type": "execute_result",
          "data": {
            "text/plain": [
              "'is'"
            ],
            "application/vnd.google.colaboratory.intrinsic+json": {
              "type": "string"
            }
          },
          "metadata": {},
          "execution_count": 37
        }
      ]
    },
    {
      "cell_type": "code",
      "source": [
        "mostFreqWord('Water is important, although it is very scarce. Water, waTer')"
      ],
      "metadata": {
        "colab": {
          "base_uri": "https://localhost:8080/",
          "height": 36
        },
        "outputId": "1021521f-82f4-42f4-8640-00e0c52c11d8",
        "id": "DWxfSZPRFqQg"
      },
      "execution_count": null,
      "outputs": [
        {
          "output_type": "execute_result",
          "data": {
            "text/plain": [
              "'water'"
            ],
            "application/vnd.google.colaboratory.intrinsic+json": {
              "type": "string"
            }
          },
          "metadata": {},
          "execution_count": 38
        }
      ]
    },
    {
      "cell_type": "markdown",
      "source": [
        "### 45. Find all unique words in a string."
      ],
      "metadata": {
        "id": "yS4ldfowkCaY"
      }
    },
    {
      "cell_type": "code",
      "execution_count": null,
      "metadata": {
        "id": "nqdIttdnkCaY"
      },
      "outputs": [],
      "source": [
        "def uniqueWords(string):\n",
        "  '''get all the unique words in the string\n",
        "\n",
        "  Parameters\n",
        "  string\n",
        "\n",
        "  Returns\n",
        "  list: unique words\n",
        "  '''\n",
        "  uniq_words = []\n",
        "  # remove all punctuation chars from the string, lower and split it\n",
        "  string_list = removePunctuations(string).lower().split(' ')\n",
        "  for word in string_list:\n",
        "    if word not in uniq_words:\n",
        "      uniq_words.append(word)\n",
        "  return uniq_words"
      ]
    },
    {
      "cell_type": "code",
      "source": [
        "uniqueWords('Water is important, although it is very scarce. Water, waTer')"
      ],
      "metadata": {
        "colab": {
          "base_uri": "https://localhost:8080/"
        },
        "outputId": "7ceb453a-3de5-4ed9-c4b1-f9061a9c49c7",
        "id": "EygfV9lrkCaY"
      },
      "execution_count": null,
      "outputs": [
        {
          "output_type": "execute_result",
          "data": {
            "text/plain": [
              "['water', 'is', 'important', 'although', 'it', 'very', 'scarce']"
            ]
          },
          "metadata": {},
          "execution_count": 10
        }
      ]
    },
    {
      "cell_type": "markdown",
      "source": [
        "### 46. Count the number of syllables in a string."
      ],
      "metadata": {
        "id": "ccn-NfMjkCd_"
      }
    },
    {
      "cell_type": "code",
      "execution_count": null,
      "metadata": {
        "id": "gVITnArqkCd_"
      },
      "outputs": [],
      "source": [
        "def count_syllables(word):\n",
        "  word = word.lower()\n",
        "  count = 0\n",
        "  # Remove trailing 'e' but not 'le'\n",
        "  if word.endswith('e') and not word.endswith('le'):\n",
        "      word = word[:-1]\n",
        "  # Adjustments for words ending in 'ed' or 'es'\n",
        "  if word.endswith(('ed', 'es')):\n",
        "      word = word[:-2]\n",
        "  # Count vowels\n",
        "  vowels = \"aeiouy\"\n",
        "  if word[0] in vowels:\n",
        "    count += 1\n",
        "  for i in range(1, len(word)):\n",
        "    if word[i] in vowels and word[i-1] not in vowels:\n",
        "      count += 1\n",
        "  # Adjustments for lone 'e' at the end (considered as separate syllable)\n",
        "  if count == 0:\n",
        "    count = 1\n",
        "  return count"
      ]
    },
    {
      "cell_type": "code",
      "source": [
        "count_syllables('hairy')"
      ],
      "metadata": {
        "colab": {
          "base_uri": "https://localhost:8080/"
        },
        "outputId": "862e3797-f626-416a-e8e5-a28a20a3b204",
        "id": "8UphwJYNkCd_"
      },
      "execution_count": null,
      "outputs": [
        {
          "output_type": "execute_result",
          "data": {
            "text/plain": [
              "2"
            ]
          },
          "metadata": {},
          "execution_count": 12
        }
      ]
    },
    {
      "cell_type": "code",
      "source": [
        "count_syllables('pickle')"
      ],
      "metadata": {
        "colab": {
          "base_uri": "https://localhost:8080/"
        },
        "outputId": "6a4a3efe-6a1e-4aac-dea6-08140fbb13ce",
        "id": "r_1Uvzv0MeE7"
      },
      "execution_count": null,
      "outputs": [
        {
          "output_type": "execute_result",
          "data": {
            "text/plain": [
              "2"
            ]
          },
          "metadata": {},
          "execution_count": 13
        }
      ]
    },
    {
      "cell_type": "code",
      "source": [
        "count_syllables('combination')"
      ],
      "metadata": {
        "colab": {
          "base_uri": "https://localhost:8080/"
        },
        "outputId": "0b6ca447-0a69-4961-e992-f0f5c4321bd1",
        "id": "brptpOMoMl2z"
      },
      "execution_count": null,
      "outputs": [
        {
          "output_type": "execute_result",
          "data": {
            "text/plain": [
              "4"
            ]
          },
          "metadata": {},
          "execution_count": 14
        }
      ]
    },
    {
      "cell_type": "markdown",
      "source": [
        "### 47. Check if a string contains any special characters."
      ],
      "metadata": {
        "id": "FqgVdT7RkCiK"
      }
    },
    {
      "cell_type": "code",
      "execution_count": null,
      "metadata": {
        "id": "boPStfurkCiK"
      },
      "outputs": [],
      "source": [
        "def checkSpecialChars(string):\n",
        "  '''check if string contains special chars\n",
        "\n",
        "  Parameters\n",
        "  string\n",
        "\n",
        "  Returns\n",
        "  bool value\n",
        "  '''\n",
        "  for char in string:\n",
        "    if char in st.punctuation:\n",
        "      return True\n",
        "  return False"
      ]
    },
    {
      "cell_type": "code",
      "source": [
        "checkSpecialChars('asd21asa_an@gmail.com')"
      ],
      "metadata": {
        "colab": {
          "base_uri": "https://localhost:8080/"
        },
        "outputId": "7f7cb4aa-a29a-45ed-b4b9-3ddc6404692c",
        "id": "vf7rl3rakCiK"
      },
      "execution_count": null,
      "outputs": [
        {
          "output_type": "execute_result",
          "data": {
            "text/plain": [
              "True"
            ]
          },
          "metadata": {},
          "execution_count": 16
        }
      ]
    },
    {
      "cell_type": "code",
      "source": [
        "checkSpecialChars('PW Skills')"
      ],
      "metadata": {
        "colab": {
          "base_uri": "https://localhost:8080/"
        },
        "outputId": "e0f27e9e-7233-49ab-fa73-c98b439a0706",
        "id": "dTqqCUmJkCiL"
      },
      "execution_count": null,
      "outputs": [
        {
          "output_type": "execute_result",
          "data": {
            "text/plain": [
              "False"
            ]
          },
          "metadata": {},
          "execution_count": 18
        }
      ]
    },
    {
      "cell_type": "markdown",
      "source": [
        "### 48. Remove the nth word from a string."
      ],
      "metadata": {
        "id": "SJeyf5YvkCmj"
      }
    },
    {
      "cell_type": "code",
      "execution_count": null,
      "metadata": {
        "id": "HbP4yWggkCmj"
      },
      "outputs": [],
      "source": [
        "def removeNthWord(string,n):\n",
        "  '''remove the nth word from the string\n",
        "\n",
        "  Parameters\n",
        "  string\n",
        "  n: remove nth word\n",
        "\n",
        "  Returns\n",
        "  updated string\n",
        "  '''\n",
        "  string_list = string.split(' ')\n",
        "  string_list.pop(n)\n",
        "  new_string = ' '.join(string_list)\n",
        "  return new_string"
      ]
    },
    {
      "cell_type": "code",
      "source": [
        "removeNthWord('Water is important, although it is very scarce.',3)"
      ],
      "metadata": {
        "colab": {
          "base_uri": "https://localhost:8080/",
          "height": 36
        },
        "outputId": "001f5af1-a278-4140-8be5-ee6721520b04",
        "id": "8mibUEcgkCmj"
      },
      "execution_count": null,
      "outputs": [
        {
          "output_type": "execute_result",
          "data": {
            "text/plain": [
              "'Water is important, it is very scarce.'"
            ],
            "application/vnd.google.colaboratory.intrinsic+json": {
              "type": "string"
            }
          },
          "metadata": {},
          "execution_count": 24
        }
      ]
    },
    {
      "cell_type": "markdown",
      "source": [
        "### 49. Insert a word at the nth position in a string."
      ],
      "metadata": {
        "id": "39pFAwVVkCpw"
      }
    },
    {
      "cell_type": "code",
      "execution_count": null,
      "metadata": {
        "id": "dL1bX14JkCpw"
      },
      "outputs": [],
      "source": [
        "def insertAtN(string,new_word,n):\n",
        "  '''insert word at nth position\n",
        "\n",
        "  Parameters\n",
        "  string\n",
        "  new_word: word to be added\n",
        "  n: add the word at nth pos\n",
        "\n",
        "  Returns\n",
        "  updated string\n",
        "  '''\n",
        "  string_list = string.split(' ')\n",
        "  string_list.insert(n,new_word)\n",
        "  new_string = ' '.join(string_list)\n",
        "  return new_string"
      ]
    },
    {
      "cell_type": "code",
      "source": [
        "insertAtN('Water is important, it is very scarce.','although',3)"
      ],
      "metadata": {
        "colab": {
          "base_uri": "https://localhost:8080/",
          "height": 36
        },
        "outputId": "c2fdbfdc-4fd7-44a7-c7a5-77f7f1f17af4",
        "id": "4yX8zMxSkCpw"
      },
      "execution_count": null,
      "outputs": [
        {
          "output_type": "execute_result",
          "data": {
            "text/plain": [
              "'Water is important, although it is very scarce.'"
            ],
            "application/vnd.google.colaboratory.intrinsic+json": {
              "type": "string"
            }
          },
          "metadata": {},
          "execution_count": 28
        }
      ]
    },
    {
      "cell_type": "markdown",
      "source": [
        "### 50. Convert a CSV string to a list of lists."
      ],
      "metadata": {
        "id": "hlKlY2GGkCs0"
      }
    },
    {
      "cell_type": "code",
      "source": [
        "csv = '''name, id, favorite food\n",
        "quincy, 1, hot dogs\n",
        "beau, 2, cereal\n",
        "abbey, 3, pizza\n",
        "mrugesh, 4, ice cream'''"
      ],
      "metadata": {
        "id": "7tp55n_sSPRD"
      },
      "execution_count": null,
      "outputs": []
    },
    {
      "cell_type": "code",
      "execution_count": null,
      "metadata": {
        "id": "1cFxY999kCs1"
      },
      "outputs": [],
      "source": [
        "def convertCSVtoList(csv):\n",
        "  '''convert a CSV string into list of lists\n",
        "\n",
        "  Parameters\n",
        "  string: in form of csv\n",
        "\n",
        "  Returns\n",
        "  2D List/ List of Lists\n",
        "  '''\n",
        "  # splitting the string into lines\n",
        "  lines = csv.split('\\n')\n",
        "  list2D = []\n",
        "  for line in lines:\n",
        "    # splitting the line into values\n",
        "    row = line.split(',')\n",
        "    list2D.append(row)\n",
        "  return list2D"
      ]
    },
    {
      "cell_type": "code",
      "source": [
        "convertCSVtoList(csv)"
      ],
      "metadata": {
        "colab": {
          "base_uri": "https://localhost:8080/"
        },
        "outputId": "bde8f0b9-266a-42cd-ff8f-b7604236b74a",
        "id": "E_Sf602PkCs1"
      },
      "execution_count": null,
      "outputs": [
        {
          "output_type": "execute_result",
          "data": {
            "text/plain": [
              "[['name', ' id', ' favorite food'],\n",
              " ['quincy', ' 1', ' hot dogs'],\n",
              " ['beau', ' 2', ' cereal'],\n",
              " ['abbey', ' 3', ' pizza'],\n",
              " ['mrugesh', ' 4', ' ice cream']]"
            ]
          },
          "metadata": {},
          "execution_count": 35
        }
      ]
    },
    {
      "cell_type": "markdown",
      "source": [
        "# List Based Assignment Problem"
      ],
      "metadata": {
        "id": "GzEcs2rcoWGB"
      }
    },
    {
      "cell_type": "markdown",
      "source": [
        "### 1. Create a list with integers from 1 to 10."
      ],
      "metadata": {
        "id": "wnQ71c_coWGK"
      }
    },
    {
      "cell_type": "code",
      "execution_count": null,
      "metadata": {
        "colab": {
          "base_uri": "https://localhost:8080/"
        },
        "outputId": "91d438bf-baf6-41f4-8f7e-891ba1250339",
        "id": "R0GiaM4ToWGL"
      },
      "outputs": [
        {
          "output_type": "execute_result",
          "data": {
            "text/plain": [
              "[1, 2, 3, 4, 5, 6, 7, 8, 9, 10]"
            ]
          },
          "metadata": {},
          "execution_count": 5
        }
      ],
      "source": [
        "# using range() to create a range of nos. from 1-10 and then convert it to list\n",
        "int_list = list(range(1,11))\n",
        "int_list"
      ]
    },
    {
      "cell_type": "markdown",
      "source": [
        "### 2. Find the length of a list without using the `len()` function."
      ],
      "metadata": {
        "id": "D63yLCpqoWGL"
      }
    },
    {
      "cell_type": "code",
      "execution_count": null,
      "metadata": {
        "id": "cEDdATNKoWGL"
      },
      "outputs": [],
      "source": [
        "def length(l):\n",
        "  ''' custom length finder for the given list\n",
        "\n",
        "  Parameters\n",
        "  l: list\n",
        "\n",
        "  Returns\n",
        "  int value: length\n",
        "  '''\n",
        "  count = 0\n",
        "  # using for loop to iterate over all values and increment count for each value\n",
        "  for _ in l:\n",
        "    count += 1\n",
        "  return count"
      ]
    },
    {
      "cell_type": "code",
      "source": [
        "length(int_list)"
      ],
      "metadata": {
        "colab": {
          "base_uri": "https://localhost:8080/"
        },
        "id": "xhydZ_Y9p2tV",
        "outputId": "006a466b-f266-4ad6-91ae-230d1d9c7c99"
      },
      "execution_count": null,
      "outputs": [
        {
          "output_type": "execute_result",
          "data": {
            "text/plain": [
              "10"
            ]
          },
          "metadata": {},
          "execution_count": 11
        }
      ]
    },
    {
      "cell_type": "markdown",
      "source": [
        "### 3. Append an element to the end of a list."
      ],
      "metadata": {
        "id": "FK2JRhHaoWGL"
      }
    },
    {
      "cell_type": "code",
      "execution_count": null,
      "metadata": {
        "colab": {
          "base_uri": "https://localhost:8080/"
        },
        "outputId": "5d0d675e-761d-42d3-facd-ae97f64e5e20",
        "id": "1z6VnCFHoWGL"
      },
      "outputs": [
        {
          "output_type": "execute_result",
          "data": {
            "text/plain": [
              "[1, 2, 3, 4, 5, 6, 7, 8, 9, 10, 11]"
            ]
          },
          "metadata": {},
          "execution_count": 12
        }
      ],
      "source": [
        "# using .append() to add new value at the end of the list\n",
        "int_list.append(11)\n",
        "int_list"
      ]
    },
    {
      "cell_type": "markdown",
      "source": [
        "### 4. Insert an element at a specific index in a list."
      ],
      "metadata": {
        "id": "0UpEWf7boWGM"
      }
    },
    {
      "cell_type": "code",
      "execution_count": null,
      "metadata": {
        "id": "x0fxw5vloWGM"
      },
      "outputs": [],
      "source": [
        "def insertElement(l,element,index):\n",
        "  '''insert new element at the specified index of the list\n",
        "\n",
        "  Parameters\n",
        "  l: list in which element is to be added\n",
        "  element: value to be added\n",
        "  index: index of list at which element needs to be added\n",
        "  '''\n",
        "  # if index is more than the length it just appends the list\n",
        "  if len(l) < index:\n",
        "    l.append(element)\n",
        "  # adding value into index given\n",
        "  else:\n",
        "    # iterate it from index given to the last index\n",
        "    for i in range(index,len(l)):\n",
        "      temp = l[i]\n",
        "      l[i] = l[i-1]\n",
        "    # appending the last value of the list\n",
        "    l.append(temp)\n",
        "    # adding the new value into the specific index\n",
        "    l[index] = element\n",
        "  return l"
      ]
    },
    {
      "cell_type": "code",
      "source": [
        "insertElement([1,2,3,41,24,22],21,5)"
      ],
      "metadata": {
        "colab": {
          "base_uri": "https://localhost:8080/"
        },
        "id": "Qa9yDtTvBz0K",
        "outputId": "2418905d-fbeb-4a80-ab13-f1b946529c51"
      },
      "execution_count": null,
      "outputs": [
        {
          "output_type": "execute_result",
          "data": {
            "text/plain": [
              "[1, 2, 3, 41, 24, 21, 22]"
            ]
          },
          "metadata": {},
          "execution_count": 7
        }
      ]
    },
    {
      "cell_type": "code",
      "source": [
        "insertElement([1,2,3,41,24,22],21,10)"
      ],
      "metadata": {
        "colab": {
          "base_uri": "https://localhost:8080/"
        },
        "id": "OHyLbFS2CVVL",
        "outputId": "99a1cd00-7d87-4131-d33e-d0cf13cd8a0c"
      },
      "execution_count": null,
      "outputs": [
        {
          "output_type": "execute_result",
          "data": {
            "text/plain": [
              "[1, 2, 3, 41, 24, 22, 21]"
            ]
          },
          "metadata": {},
          "execution_count": 8
        }
      ]
    },
    {
      "cell_type": "markdown",
      "source": [
        "### 5. Remove an element from a list by its value."
      ],
      "metadata": {
        "id": "J-eqYXVWoWGM"
      }
    },
    {
      "cell_type": "code",
      "execution_count": null,
      "metadata": {
        "colab": {
          "base_uri": "https://localhost:8080/"
        },
        "outputId": "78874a11-a1a0-49c4-948d-232cac8d97b7",
        "id": "RKNL1PsvoWGM"
      },
      "outputs": [
        {
          "output_type": "execute_result",
          "data": {
            "text/plain": [
              "[1, 4, 9, 16, 25, 36, 43, 49, 49, 64, 81, 100]"
            ]
          },
          "metadata": {},
          "execution_count": 24
        }
      ],
      "source": [
        "list1 = [1,4,9,16,25,36,43,49,49,64,81,100]\n",
        "list1"
      ]
    },
    {
      "cell_type": "code",
      "source": [
        "# using remove() to remove a value from the list\n",
        "list1.remove(43)\n",
        "# the function only removes first instance of the specific value\n",
        "list1.remove(49)\n",
        "list1"
      ],
      "metadata": {
        "colab": {
          "base_uri": "https://localhost:8080/"
        },
        "id": "KqNRpbTmDneH",
        "outputId": "1e742201-8a68-4b43-cda6-3df308742070"
      },
      "execution_count": null,
      "outputs": [
        {
          "output_type": "execute_result",
          "data": {
            "text/plain": [
              "[1, 4, 9, 16, 25, 36, 49, 64, 81, 100]"
            ]
          },
          "metadata": {},
          "execution_count": 25
        }
      ]
    },
    {
      "cell_type": "markdown",
      "source": [
        "### 6. Remove an element from a list by its index."
      ],
      "metadata": {
        "id": "Yw7mKiFWEvRO"
      }
    },
    {
      "cell_type": "code",
      "source": [
        "# using pop() to remove a value at the specific index from the list\n",
        "removed_element = list1.pop(9)\n",
        "print(\"Removed Element: \",removed_element)\n",
        "print(\"Updated List: \",list1)"
      ],
      "metadata": {
        "outputId": "d89f8cba-bccd-4879-91a1-d92dbce8de5f",
        "colab": {
          "base_uri": "https://localhost:8080/"
        },
        "id": "kthIUW3JEvRV"
      },
      "execution_count": null,
      "outputs": [
        {
          "output_type": "stream",
          "name": "stdout",
          "text": [
            "Removed Element:  100\n",
            "Updated List:  [1, 4, 9, 16, 25, 36, 49, 64, 81]\n"
          ]
        }
      ]
    },
    {
      "cell_type": "markdown",
      "source": [
        "### 7. Check if an element exists in a list."
      ],
      "metadata": {
        "id": "ntfpONcToWGM"
      }
    },
    {
      "cell_type": "code",
      "execution_count": null,
      "metadata": {
        "id": "LMlXmnaZoWGM"
      },
      "outputs": [],
      "source": [
        "def checkElement(l,element):\n",
        "  '''check if element exists in the list\n",
        "\n",
        "  Parameters\n",
        "  l: list in which element is to be checked\n",
        "  element: value to be checked\n",
        "\n",
        "  Returns\n",
        "  bool value\n",
        "  '''\n",
        "  # using in to check if value is there\n",
        "  if element in l:\n",
        "    return True\n",
        "  else:\n",
        "    return False"
      ]
    },
    {
      "cell_type": "code",
      "source": [
        "checkElement(list1,49)"
      ],
      "metadata": {
        "colab": {
          "base_uri": "https://localhost:8080/"
        },
        "id": "OLSSNrYeHPXK",
        "outputId": "8eccbbb8-0a88-4c56-b8a5-ab4904925f1f"
      },
      "execution_count": null,
      "outputs": [
        {
          "output_type": "execute_result",
          "data": {
            "text/plain": [
              "True"
            ]
          },
          "metadata": {},
          "execution_count": 28
        }
      ]
    },
    {
      "cell_type": "code",
      "source": [
        "checkElement(list1,42)"
      ],
      "metadata": {
        "colab": {
          "base_uri": "https://localhost:8080/"
        },
        "id": "LQoojcYjHV7B",
        "outputId": "6effc191-a682-4613-9f57-8698fb79afe7"
      },
      "execution_count": null,
      "outputs": [
        {
          "output_type": "execute_result",
          "data": {
            "text/plain": [
              "False"
            ]
          },
          "metadata": {},
          "execution_count": 29
        }
      ]
    },
    {
      "cell_type": "markdown",
      "source": [
        "### 8. Find the index of the first occurrence of an element in a list."
      ],
      "metadata": {
        "id": "K5dWVETroWGM"
      }
    },
    {
      "cell_type": "code",
      "execution_count": null,
      "metadata": {
        "colab": {
          "base_uri": "https://localhost:8080/"
        },
        "outputId": "2f55845a-44bb-401b-d71e-6194501d3f17",
        "id": "MGM6kbhsoWGN"
      },
      "outputs": [
        {
          "output_type": "execute_result",
          "data": {
            "text/plain": [
              "2"
            ]
          },
          "metadata": {},
          "execution_count": 32
        }
      ],
      "source": [
        "# using index() to find the index of the first occurence\n",
        "list2 = [1,2,3,1,2,3,3,43,3]\n",
        "list2.index(3)"
      ]
    },
    {
      "cell_type": "markdown",
      "source": [
        "### 9. Count the occurrences of an element in a list."
      ],
      "metadata": {
        "id": "BY-kvwx3oWGN"
      }
    },
    {
      "cell_type": "code",
      "execution_count": null,
      "metadata": {
        "colab": {
          "base_uri": "https://localhost:8080/"
        },
        "outputId": "b1820616-f979-4f1f-88e7-91e2c75e534b",
        "id": "XqfNoSHooWGN"
      },
      "outputs": [
        {
          "output_type": "execute_result",
          "data": {
            "text/plain": [
              "4"
            ]
          },
          "metadata": {},
          "execution_count": 33
        }
      ],
      "source": [
        "# using count() to find the no. of occurences of an element\n",
        "list2.count(3)"
      ]
    },
    {
      "cell_type": "code",
      "source": [
        "list2.count(1)"
      ],
      "metadata": {
        "colab": {
          "base_uri": "https://localhost:8080/"
        },
        "id": "zKC-30sXIw24",
        "outputId": "a797da44-c06d-4773-ad9c-54e8ffaad149"
      },
      "execution_count": null,
      "outputs": [
        {
          "output_type": "execute_result",
          "data": {
            "text/plain": [
              "2"
            ]
          },
          "metadata": {},
          "execution_count": 34
        }
      ]
    },
    {
      "cell_type": "markdown",
      "source": [
        "### 10. Reverse the order of elements in a list."
      ],
      "metadata": {
        "id": "zszW196toWGN"
      }
    },
    {
      "cell_type": "code",
      "execution_count": null,
      "metadata": {
        "id": "LG_4-lzWoWGO",
        "colab": {
          "base_uri": "https://localhost:8080/"
        },
        "outputId": "87e4d0c6-52bc-482d-a1ab-7f3de601229b"
      },
      "outputs": [
        {
          "output_type": "execute_result",
          "data": {
            "text/plain": [
              "[81, 64, 49, 36, 25, 16, 9, 4, 1]"
            ]
          },
          "metadata": {},
          "execution_count": 39
        }
      ],
      "source": [
        "# using .reverse() to reverse the order of the elements\n",
        "list1.reverse()\n",
        "list1"
      ]
    },
    {
      "cell_type": "markdown",
      "source": [
        "### 11. Sort a list in ascending order."
      ],
      "metadata": {
        "id": "EbwPhuZkoWGO"
      }
    },
    {
      "cell_type": "code",
      "execution_count": null,
      "metadata": {
        "id": "g-vFKxbIoWGO",
        "colab": {
          "base_uri": "https://localhost:8080/"
        },
        "outputId": "094f1cc3-0b2a-428c-b8af-a1175adbd417"
      },
      "outputs": [
        {
          "output_type": "execute_result",
          "data": {
            "text/plain": [
              "[1, 4, 9, 16, 25, 36, 49, 64, 81]"
            ]
          },
          "metadata": {},
          "execution_count": 40
        }
      ],
      "source": [
        "# sort() to sort list in ascending order\n",
        "list1.sort()\n",
        "list1"
      ]
    },
    {
      "cell_type": "code",
      "source": [
        "list2.sort()\n",
        "list2"
      ],
      "metadata": {
        "id": "6k1AqGRfOKJl",
        "outputId": "80733f08-c93d-4471-f68d-c65c288d1baa",
        "colab": {
          "base_uri": "https://localhost:8080/"
        }
      },
      "execution_count": null,
      "outputs": [
        {
          "output_type": "execute_result",
          "data": {
            "text/plain": [
              "[1, 1, 2, 2, 3, 3, 3, 3, 43]"
            ]
          },
          "metadata": {},
          "execution_count": 41
        }
      ]
    },
    {
      "cell_type": "markdown",
      "source": [
        "### 12. Sort a list in descending order."
      ],
      "metadata": {
        "id": "aTkJsk91oWGP"
      }
    },
    {
      "cell_type": "code",
      "execution_count": null,
      "metadata": {
        "id": "xzza4PbkoWGP",
        "colab": {
          "base_uri": "https://localhost:8080/"
        },
        "outputId": "757085fd-0933-43ce-e489-f91855f229d9"
      },
      "outputs": [
        {
          "output_type": "execute_result",
          "data": {
            "text/plain": [
              "[81, 64, 49, 36, 25, 16, 9, 4, 1]"
            ]
          },
          "metadata": {},
          "execution_count": 43
        }
      ],
      "source": [
        "# using sort() with setting parameter reverse = True for descending order\n",
        "list1.sort(reverse=True)\n",
        "list1"
      ]
    },
    {
      "cell_type": "code",
      "source": [
        "list2.sort(reverse=True)\n",
        "list2"
      ],
      "metadata": {
        "colab": {
          "base_uri": "https://localhost:8080/"
        },
        "outputId": "8c373738-c739-44cb-92de-8c23560654d9",
        "id": "4zW-ePjnoWGP"
      },
      "execution_count": null,
      "outputs": [
        {
          "output_type": "execute_result",
          "data": {
            "text/plain": [
              "[43, 3, 3, 3, 3, 2, 2, 1, 1]"
            ]
          },
          "metadata": {},
          "execution_count": 44
        }
      ]
    },
    {
      "cell_type": "markdown",
      "source": [
        "### 13. Create a list of even numbers from 1 to 20."
      ],
      "metadata": {
        "id": "Gz2DJ-Y5oWGP"
      }
    },
    {
      "cell_type": "code",
      "execution_count": null,
      "metadata": {
        "id": "gRIIpLD3oWGP",
        "colab": {
          "base_uri": "https://localhost:8080/"
        },
        "outputId": "eef89c06-a2dc-473e-a262-e3483f413c3a"
      },
      "outputs": [
        {
          "output_type": "execute_result",
          "data": {
            "text/plain": [
              "[2, 4, 6, 8, 10, 12, 14, 16, 18, 20]"
            ]
          },
          "metadata": {},
          "execution_count": 48
        }
      ],
      "source": [
        "# using range() which starts from 2-20 and increments with 2\n",
        "even_list = list(range(2,21,2))\n",
        "even_list"
      ]
    },
    {
      "cell_type": "code",
      "source": [
        "# using list comprehension to generate a list of even nos\n",
        "even_list = [i for i in range(1,21) if i%2==0]\n",
        "even_list"
      ],
      "metadata": {
        "colab": {
          "base_uri": "https://localhost:8080/"
        },
        "outputId": "4be89325-af4c-46e2-d3a7-9ff87322dd77",
        "id": "k_wUeXokoWGQ"
      },
      "execution_count": null,
      "outputs": [
        {
          "output_type": "execute_result",
          "data": {
            "text/plain": [
              "[2, 4, 6, 8, 10, 12, 14, 16, 18, 20]"
            ]
          },
          "metadata": {},
          "execution_count": 49
        }
      ]
    },
    {
      "cell_type": "markdown",
      "source": [
        "### 14. Create a list of odd numbers from 1 to 20.\n"
      ],
      "metadata": {
        "id": "nu_qgmjJP5ti"
      }
    },
    {
      "cell_type": "code",
      "execution_count": null,
      "metadata": {
        "colab": {
          "base_uri": "https://localhost:8080/"
        },
        "outputId": "0261ff1f-772b-4193-e7fd-927b0f84f526",
        "id": "8Lw1M8QDP5tp"
      },
      "outputs": [
        {
          "output_type": "execute_result",
          "data": {
            "text/plain": [
              "[1, 3, 5, 7, 9, 11, 13, 15, 17, 19]"
            ]
          },
          "metadata": {},
          "execution_count": 50
        }
      ],
      "source": [
        "# using range() which starts from 1-20 and increments with 2\n",
        "odd_list = list(range(1,21,2))\n",
        "odd_list"
      ]
    },
    {
      "cell_type": "code",
      "source": [
        "# using list comprehension to generate a list of odd nos\n",
        "odd_list = [i for i in range(1,21) if i%2==1]\n",
        "odd_list"
      ],
      "metadata": {
        "colab": {
          "base_uri": "https://localhost:8080/"
        },
        "outputId": "759978db-8f34-4ee7-9324-06aa79774624",
        "id": "Y8vEZ9b2P5tq"
      },
      "execution_count": null,
      "outputs": [
        {
          "output_type": "execute_result",
          "data": {
            "text/plain": [
              "[1, 3, 5, 7, 9, 11, 13, 15, 17, 19]"
            ]
          },
          "metadata": {},
          "execution_count": 51
        }
      ]
    },
    {
      "cell_type": "markdown",
      "source": [
        "### 15. Find the sum of all elements in a list."
      ],
      "metadata": {
        "id": "uSGJfAS3oWGR"
      }
    },
    {
      "cell_type": "code",
      "execution_count": null,
      "metadata": {
        "id": "XDvFnUFfoWGR",
        "colab": {
          "base_uri": "https://localhost:8080/"
        },
        "outputId": "ccee4c25-1a03-48ad-e443-45e829d39dd0"
      },
      "outputs": [
        {
          "output_type": "execute_result",
          "data": {
            "text/plain": [
              "100"
            ]
          },
          "metadata": {},
          "execution_count": 52
        }
      ],
      "source": [
        "# using sum() to find the sum of all elements in the list\n",
        "sum(odd_list)"
      ]
    },
    {
      "cell_type": "code",
      "source": [
        "sum(even_list)"
      ],
      "metadata": {
        "colab": {
          "base_uri": "https://localhost:8080/"
        },
        "outputId": "dacede54-3d01-48b3-8618-0e322d7add06",
        "id": "2JfgbEauoWGR"
      },
      "execution_count": null,
      "outputs": [
        {
          "output_type": "execute_result",
          "data": {
            "text/plain": [
              "110"
            ]
          },
          "metadata": {},
          "execution_count": 53
        }
      ]
    },
    {
      "cell_type": "markdown",
      "source": [
        "### 16. Find the maximum value in a list."
      ],
      "metadata": {
        "id": "3f_fTGmooWGR"
      }
    },
    {
      "cell_type": "code",
      "execution_count": null,
      "metadata": {
        "id": "BclHba1moWGR",
        "colab": {
          "base_uri": "https://localhost:8080/"
        },
        "outputId": "c7415867-0ebd-4673-e14e-ab78e2778d15"
      },
      "outputs": [
        {
          "output_type": "execute_result",
          "data": {
            "text/plain": [
              "19"
            ]
          },
          "metadata": {},
          "execution_count": 54
        }
      ],
      "source": [
        "# using max() to find the maximum element in the list\n",
        "max(odd_list)"
      ]
    },
    {
      "cell_type": "code",
      "source": [
        "max(even_list)"
      ],
      "metadata": {
        "colab": {
          "base_uri": "https://localhost:8080/"
        },
        "outputId": "ecd79d7b-15cc-4b4f-8e6e-e71168c351a4",
        "id": "07QBWa3-oWGR"
      },
      "execution_count": null,
      "outputs": [
        {
          "output_type": "execute_result",
          "data": {
            "text/plain": [
              "20"
            ]
          },
          "metadata": {},
          "execution_count": 55
        }
      ]
    },
    {
      "cell_type": "markdown",
      "source": [
        "### 17. Find the minimum value in a list."
      ],
      "metadata": {
        "id": "QU0qljJSRVni"
      }
    },
    {
      "cell_type": "code",
      "execution_count": null,
      "metadata": {
        "colab": {
          "base_uri": "https://localhost:8080/"
        },
        "outputId": "9e2f6460-77a7-44ba-cce6-778ccbc564c5",
        "id": "H6H3fMbKRVnq"
      },
      "outputs": [
        {
          "output_type": "execute_result",
          "data": {
            "text/plain": [
              "1"
            ]
          },
          "metadata": {},
          "execution_count": 56
        }
      ],
      "source": [
        "# using min() to find the maximum element in the list\n",
        "min(odd_list)"
      ]
    },
    {
      "cell_type": "code",
      "source": [
        "min(even_list)"
      ],
      "metadata": {
        "colab": {
          "base_uri": "https://localhost:8080/"
        },
        "outputId": "c2cd6c0e-2eec-4bb0-db70-da79c2ba89b0",
        "id": "qJm82Vj1RVnq"
      },
      "execution_count": null,
      "outputs": [
        {
          "output_type": "execute_result",
          "data": {
            "text/plain": [
              "2"
            ]
          },
          "metadata": {},
          "execution_count": 57
        }
      ]
    },
    {
      "cell_type": "markdown",
      "source": [
        "### 18. Create a list of squares of numbers from 1 to 10."
      ],
      "metadata": {
        "id": "ZejhYro4oWGS"
      }
    },
    {
      "cell_type": "code",
      "execution_count": null,
      "metadata": {
        "id": "qNXjYfT0oWGS",
        "colab": {
          "base_uri": "https://localhost:8080/"
        },
        "outputId": "ed287baa-719c-4dd4-9ae4-75ea0b7c07a3"
      },
      "outputs": [
        {
          "output_type": "execute_result",
          "data": {
            "text/plain": [
              "[1, 4, 9, 16, 25, 36, 49, 64, 81, 100]"
            ]
          },
          "metadata": {},
          "execution_count": 59
        }
      ],
      "source": [
        "# using list comprehension to create a list of squares\n",
        "squares_list = [i**2 for i in range(1,11)]\n",
        "squares_list"
      ]
    },
    {
      "cell_type": "markdown",
      "source": [
        "### 19. Create a list of random numbers."
      ],
      "metadata": {
        "id": "ww-xfKFuoWGT"
      }
    },
    {
      "cell_type": "code",
      "execution_count": null,
      "metadata": {
        "id": "ZfkTguWwoWGT",
        "colab": {
          "base_uri": "https://localhost:8080/"
        },
        "outputId": "ead4add9-2e3b-4976-8ccc-5afd9a09fed0"
      },
      "outputs": [
        {
          "output_type": "execute_result",
          "data": {
            "text/plain": [
              "[8, 49, 33, 2, 14, 15, 12, 36, 48, 43]"
            ]
          },
          "metadata": {},
          "execution_count": 60
        }
      ],
      "source": [
        "import random\n",
        "# using random.sample() to create a list of random nos.\n",
        "# nos. are between 1-49 and the length of list is 10\n",
        "random_list = random.sample(range(1, 50), 10)\n",
        "random_list"
      ]
    },
    {
      "cell_type": "markdown",
      "source": [
        "### 20. Remove duplicates from a list."
      ],
      "metadata": {
        "id": "iuWDC32HoWGT"
      }
    },
    {
      "cell_type": "code",
      "execution_count": null,
      "metadata": {
        "id": "0WuHCZGLoWGT"
      },
      "outputs": [],
      "source": [
        "def removeDuplicates(l):\n",
        "  '''remove the duplicates from the list\n",
        "\n",
        "  Parameters\n",
        "  list: with duplicates\n",
        "\n",
        "  Returns\n",
        "  list with unique elements\n",
        "  '''\n",
        "  # set only has the values once, i.e. stores unique values/elements\n",
        "  uniq_set = set(l)\n",
        "  return list(uniq_set)"
      ]
    },
    {
      "cell_type": "code",
      "source": [
        "list2"
      ],
      "metadata": {
        "colab": {
          "base_uri": "https://localhost:8080/"
        },
        "outputId": "968688fa-3a7b-4ad6-cf20-fb5fee9eb98c",
        "id": "TNk6I4OwoWGT"
      },
      "execution_count": null,
      "outputs": [
        {
          "output_type": "execute_result",
          "data": {
            "text/plain": [
              "[43, 3, 3, 3, 3, 2, 2, 1, 1]"
            ]
          },
          "metadata": {},
          "execution_count": 65
        }
      ]
    },
    {
      "cell_type": "code",
      "source": [
        "removeDuplicates(list2)"
      ],
      "metadata": {
        "id": "e5m7hSOiUSxX",
        "outputId": "a01b1f01-bb6b-403e-8735-c6abba1e2943",
        "colab": {
          "base_uri": "https://localhost:8080/"
        }
      },
      "execution_count": null,
      "outputs": [
        {
          "output_type": "execute_result",
          "data": {
            "text/plain": [
              "[3, 1, 2, 43]"
            ]
          },
          "metadata": {},
          "execution_count": 66
        }
      ]
    },
    {
      "cell_type": "markdown",
      "source": [
        "### 21. Find the common elements between two lists."
      ],
      "metadata": {
        "id": "6A9ycY3KoWGU"
      }
    },
    {
      "cell_type": "code",
      "execution_count": null,
      "metadata": {
        "id": "EiYh8IAvoWGU"
      },
      "outputs": [],
      "source": [
        "def findCommonElements(list1,list2):\n",
        "  '''find the common elements in the two lists\n",
        "\n",
        "  Parameters (lists to check the elements)\n",
        "  list1\n",
        "  list2\n",
        "\n",
        "  Returns\n",
        "  list with common elements\n",
        "  '''\n",
        "  common_list = [i for i in list1 if i in list2]\n",
        "  return common_list"
      ]
    },
    {
      "cell_type": "code",
      "source": [
        "findCommonElements(squares_list,even_list)"
      ],
      "metadata": {
        "colab": {
          "base_uri": "https://localhost:8080/"
        },
        "id": "W1lCkQzYWIdq",
        "outputId": "ca7c6002-35e0-49d9-98f8-c0a7789b5b0d"
      },
      "execution_count": null,
      "outputs": [
        {
          "output_type": "execute_result",
          "data": {
            "text/plain": [
              "[4, 16]"
            ]
          },
          "metadata": {},
          "execution_count": 69
        }
      ]
    },
    {
      "cell_type": "code",
      "source": [
        "findCommonElements(squares_list,odd_list)"
      ],
      "metadata": {
        "colab": {
          "base_uri": "https://localhost:8080/"
        },
        "outputId": "dfae521a-26c2-46ea-9420-8c49a5615a83",
        "id": "gYx_ajlioWGU"
      },
      "execution_count": null,
      "outputs": [
        {
          "output_type": "execute_result",
          "data": {
            "text/plain": [
              "[1, 9]"
            ]
          },
          "metadata": {},
          "execution_count": 70
        }
      ]
    },
    {
      "cell_type": "code",
      "source": [
        "findCommonElements(even_list,odd_list)"
      ],
      "metadata": {
        "colab": {
          "base_uri": "https://localhost:8080/"
        },
        "id": "UdYGezfOWas3",
        "outputId": "b490467c-b366-4059-d6c3-b243f83a020b"
      },
      "execution_count": null,
      "outputs": [
        {
          "output_type": "execute_result",
          "data": {
            "text/plain": [
              "[]"
            ]
          },
          "metadata": {},
          "execution_count": 71
        }
      ]
    },
    {
      "cell_type": "markdown",
      "source": [
        "### 22. Find the difference between two lists."
      ],
      "metadata": {
        "id": "WF0X1VMjWxTq"
      }
    },
    {
      "cell_type": "code",
      "execution_count": null,
      "metadata": {
        "id": "tTZpBF0eWxTy"
      },
      "outputs": [],
      "source": [
        "def diffBetweenList(list1,list2):\n",
        "  '''find the difference between the two lists, i.e. elements in list1 that are not in list 2\n",
        "\n",
        "  Parameters\n",
        "  list1\n",
        "  list2\n",
        "\n",
        "  Returns\n",
        "  list with elements in list1 but not in list2\n",
        "  '''\n",
        "  diff_list = [i for i in list1 if i not in list2]\n",
        "  return diff_list"
      ]
    },
    {
      "cell_type": "code",
      "source": [
        "diffBetweenList(squares_list,even_list)"
      ],
      "metadata": {
        "outputId": "4800e32b-1811-4c03-d016-23e9d37e1f11",
        "colab": {
          "base_uri": "https://localhost:8080/"
        },
        "id": "9v3Kz0FcWxTy"
      },
      "execution_count": null,
      "outputs": [
        {
          "output_type": "execute_result",
          "data": {
            "text/plain": [
              "[1, 9, 25, 36, 49, 64, 81, 100]"
            ]
          },
          "metadata": {},
          "execution_count": 73
        }
      ]
    },
    {
      "cell_type": "code",
      "source": [
        "diffBetweenList(squares_list,odd_list)"
      ],
      "metadata": {
        "colab": {
          "base_uri": "https://localhost:8080/"
        },
        "outputId": "1bb81514-78ce-4483-b2cb-af771ec2dbc8",
        "id": "v6WZ5_WNWxTy"
      },
      "execution_count": null,
      "outputs": [
        {
          "output_type": "execute_result",
          "data": {
            "text/plain": [
              "[4, 16, 25, 36, 49, 64, 81, 100]"
            ]
          },
          "metadata": {},
          "execution_count": 74
        }
      ]
    },
    {
      "cell_type": "code",
      "source": [
        "diffBetweenList(even_list,odd_list)"
      ],
      "metadata": {
        "outputId": "5af7742c-29e9-446a-d8c8-2f435b2642dd",
        "colab": {
          "base_uri": "https://localhost:8080/"
        },
        "id": "3hzJEKubWxTy"
      },
      "execution_count": null,
      "outputs": [
        {
          "output_type": "execute_result",
          "data": {
            "text/plain": [
              "[2, 4, 6, 8, 10, 12, 14, 16, 18, 20]"
            ]
          },
          "metadata": {},
          "execution_count": 75
        }
      ]
    },
    {
      "cell_type": "markdown",
      "source": [
        "### 23. Merge two lists."
      ],
      "metadata": {
        "id": "M3e21OHloWGV"
      }
    },
    {
      "cell_type": "code",
      "source": [
        "print(list1)\n",
        "print(list2)"
      ],
      "metadata": {
        "id": "6yLsmvbrYo5c",
        "outputId": "b861e4c7-a6f1-4d31-801f-96db6282ffe3",
        "colab": {
          "base_uri": "https://localhost:8080/"
        }
      },
      "execution_count": null,
      "outputs": [
        {
          "output_type": "stream",
          "name": "stdout",
          "text": [
            "[81, 64, 49, 36, 25, 16, 9, 4, 1]\n",
            "[43, 3, 3, 3, 3, 2, 2, 1, 1]\n"
          ]
        }
      ]
    },
    {
      "cell_type": "code",
      "source": [
        "# create a merged list using + operator\n",
        "# this creates a new list\n",
        "merged_list = list1 + list2\n",
        "merged_list"
      ],
      "metadata": {
        "id": "hbRwqIQQYcsM",
        "outputId": "b6e66b0b-a5e3-4e37-fcc2-dbe056df08ed",
        "colab": {
          "base_uri": "https://localhost:8080/"
        }
      },
      "execution_count": null,
      "outputs": [
        {
          "output_type": "execute_result",
          "data": {
            "text/plain": [
              "[81, 64, 49, 36, 25, 16, 9, 4, 1, 43, 3, 3, 3, 3, 2, 2, 1, 1]"
            ]
          },
          "metadata": {},
          "execution_count": 78
        }
      ]
    },
    {
      "cell_type": "code",
      "source": [
        "# this extends the list1 and changes the list1 and doesn't create a new merged list\n",
        "list1.extend(list2)\n",
        "list1"
      ],
      "metadata": {
        "id": "c9gBjjFHY9Hw",
        "outputId": "71bd5f2c-1cb2-4314-dde7-95f815ac0b0d",
        "colab": {
          "base_uri": "https://localhost:8080/"
        }
      },
      "execution_count": null,
      "outputs": [
        {
          "output_type": "execute_result",
          "data": {
            "text/plain": [
              "[81, 64, 49, 36, 25, 16, 9, 4, 1, 43, 3, 3, 3, 3, 2, 2, 1, 1]"
            ]
          },
          "metadata": {},
          "execution_count": 80
        }
      ]
    },
    {
      "cell_type": "markdown",
      "source": [
        "### 24. Multiply all elements in a list by 2."
      ],
      "metadata": {
        "id": "Dgix8U5QoWGV"
      }
    },
    {
      "cell_type": "code",
      "execution_count": 83,
      "metadata": {
        "id": "a0h7g3JGoWGV",
        "outputId": "254eceb6-a8b2-47d8-8bde-c3cfce78e100",
        "colab": {
          "base_uri": "https://localhost:8080/"
        }
      },
      "outputs": [
        {
          "output_type": "execute_result",
          "data": {
            "text/plain": [
              "[2, 8, 18, 32, 50, 72, 98, 128, 162, 200]"
            ]
          },
          "metadata": {},
          "execution_count": 83
        }
      ],
      "source": [
        "new_list = [x * 2 for x in squares_list]\n",
        "new_list"
      ]
    },
    {
      "cell_type": "markdown",
      "source": [
        "### 25. Filter out all even numbers from a list."
      ],
      "metadata": {
        "id": "6XsT4gSooWGW"
      }
    },
    {
      "cell_type": "code",
      "execution_count": 84,
      "metadata": {
        "id": "EK4saTLNoWGW"
      },
      "outputs": [],
      "source": [
        "def filterEvenNos(list1):\n",
        "  '''filter out even numbers from the list\n",
        "\n",
        "  Parameters\n",
        "  list1\n",
        "\n",
        "  Returns\n",
        "  list without even nos\n",
        "  '''\n",
        "  new_list = [i for i in list1 if i%2!=0]\n",
        "  return new_list"
      ]
    },
    {
      "cell_type": "code",
      "source": [
        "filterEvenNos(squares_list)"
      ],
      "metadata": {
        "colab": {
          "base_uri": "https://localhost:8080/"
        },
        "outputId": "aeb7ac0d-c050-4d97-91f8-79f252a4a949",
        "id": "EhDngSiRoWGW"
      },
      "execution_count": 85,
      "outputs": [
        {
          "output_type": "execute_result",
          "data": {
            "text/plain": [
              "[1, 9, 25, 49, 81]"
            ]
          },
          "metadata": {},
          "execution_count": 85
        }
      ]
    },
    {
      "cell_type": "code",
      "source": [
        "filterEvenNos(even_list)"
      ],
      "metadata": {
        "id": "KQTNPXFujQav",
        "outputId": "02ba9f25-d654-4795-9404-8cde4ad85293",
        "colab": {
          "base_uri": "https://localhost:8080/"
        }
      },
      "execution_count": 86,
      "outputs": [
        {
          "output_type": "execute_result",
          "data": {
            "text/plain": [
              "[]"
            ]
          },
          "metadata": {},
          "execution_count": 86
        }
      ]
    },
    {
      "cell_type": "markdown",
      "source": [
        "### 26. Convert a list of strings to a list of integers."
      ],
      "metadata": {
        "id": "H3dI96rfoWGW"
      }
    },
    {
      "cell_type": "code",
      "execution_count": 89,
      "metadata": {
        "id": "9RMbWH8poWGW"
      },
      "outputs": [],
      "source": [
        "def stringToIntList(list1):\n",
        "  '''convert a list of string to list of int\n",
        "\n",
        "  Parameters\n",
        "  list1: list of strings\n",
        "\n",
        "  Returns\n",
        "  list of int\n",
        "  '''\n",
        "  new_list = [int(i) for i in list1]\n",
        "  return new_list"
      ]
    },
    {
      "cell_type": "code",
      "source": [
        "stringToIntList(['1','-2','22','-1','11'])"
      ],
      "metadata": {
        "colab": {
          "base_uri": "https://localhost:8080/"
        },
        "outputId": "60471633-60cf-46b4-ad9b-91fd9025b22d",
        "id": "KfVjUlDzoWGX"
      },
      "execution_count": 90,
      "outputs": [
        {
          "output_type": "execute_result",
          "data": {
            "text/plain": [
              "[1, -2, 22, -1, 11]"
            ]
          },
          "metadata": {},
          "execution_count": 90
        }
      ]
    },
    {
      "cell_type": "markdown",
      "source": [
        "### 27. Convert a list of integers to a list of strings."
      ],
      "metadata": {
        "id": "MR_adqa4nH8e"
      }
    },
    {
      "cell_type": "code",
      "execution_count": 91,
      "metadata": {
        "id": "o_QUclw1nH8m"
      },
      "outputs": [],
      "source": [
        "def intToStringList(list1):\n",
        "  '''convert a list of int to list of strings\n",
        "\n",
        "  Parameters\n",
        "  list1: list of integers\n",
        "\n",
        "  Returns\n",
        "  list of str\n",
        "  '''\n",
        "  # type conversion using str()\n",
        "  new_list = [str(i) for i in list1]\n",
        "  return new_list"
      ]
    },
    {
      "cell_type": "code",
      "source": [
        "intToStringList(even_list)"
      ],
      "metadata": {
        "colab": {
          "base_uri": "https://localhost:8080/"
        },
        "outputId": "8beb7458-01a1-4845-9797-e26dff604761",
        "id": "YtbIXD-BnH8n"
      },
      "execution_count": 92,
      "outputs": [
        {
          "output_type": "execute_result",
          "data": {
            "text/plain": [
              "['2', '4', '6', '8', '10', '12', '14', '16', '18', '20']"
            ]
          },
          "metadata": {},
          "execution_count": 92
        }
      ]
    },
    {
      "cell_type": "markdown",
      "source": [
        "### 28. Flatten a nested list."
      ],
      "metadata": {
        "id": "-mhh5gu4oWGY"
      }
    },
    {
      "cell_type": "code",
      "execution_count": 116,
      "metadata": {
        "id": "frxI2H1voWGY"
      },
      "outputs": [],
      "source": [
        "def flattenList(l):\n",
        "  '''flatten a nested list\n",
        "\n",
        "  Parameters\n",
        "  l: list\n",
        "\n",
        "  Returns\n",
        "  1D list\n",
        "  '''\n",
        "  new_list = []\n",
        "  for i in l:\n",
        "    # use extend() to extend if i is a list\n",
        "    # recursion is used for multi-nested list\n",
        "    if type(i) == list:\n",
        "      new_list.extend(flattenList(i))\n",
        "    # append if i is a value\n",
        "    else:\n",
        "      new_list.append(i)\n",
        "  return new_list"
      ]
    },
    {
      "cell_type": "code",
      "source": [
        "flattenList([1, 2, [3, 4, [5, 6]], 7, 8, [9, [10]]])"
      ],
      "metadata": {
        "colab": {
          "base_uri": "https://localhost:8080/"
        },
        "outputId": "d93638ec-1631-40f3-fb73-a067ec88c9cc",
        "id": "aW0BmpRaoWGY"
      },
      "execution_count": 117,
      "outputs": [
        {
          "output_type": "execute_result",
          "data": {
            "text/plain": [
              "[1, 2, 3, 4, 5, 6, 7, 8, 9, 10]"
            ]
          },
          "metadata": {},
          "execution_count": 117
        }
      ]
    },
    {
      "cell_type": "markdown",
      "source": [
        "### 29. Create a list of the first 10 Fibonacci numbers."
      ],
      "metadata": {
        "id": "FDqw62bRoWGY"
      }
    },
    {
      "cell_type": "code",
      "execution_count": 121,
      "metadata": {
        "id": "_Ng4v69xoWGY"
      },
      "outputs": [],
      "source": [
        "def fibo(n):\n",
        "  '''finding the nth fibonacci number\n",
        "\n",
        "  Parameters\n",
        "  n: nth value in fibonacci sequence\n",
        "\n",
        "  Returns\n",
        "  int value\n",
        "  '''\n",
        "  if n <= 2:\n",
        "    return 1\n",
        "  else:\n",
        "    return fibo(n-1) + fibo(n-2)"
      ]
    },
    {
      "cell_type": "code",
      "source": [
        "# create a list of first 10 fiboacci nos using list comprehension and fibo()\n",
        "fibo_list = [fibo(i+1) for i in range(10)]\n",
        "fibo_list"
      ],
      "metadata": {
        "colab": {
          "base_uri": "https://localhost:8080/"
        },
        "outputId": "0473b497-6b31-4a6a-fc3d-f7088b4ad641",
        "id": "X0mEWSNNoWGY"
      },
      "execution_count": 123,
      "outputs": [
        {
          "output_type": "execute_result",
          "data": {
            "text/plain": [
              "[1, 1, 2, 3, 5, 8, 13, 21, 34, 55]"
            ]
          },
          "metadata": {},
          "execution_count": 123
        }
      ]
    },
    {
      "cell_type": "markdown",
      "source": [
        "### 30. Check if a list is sorted."
      ],
      "metadata": {
        "id": "HHzonpchoWGZ"
      }
    },
    {
      "cell_type": "code",
      "execution_count": 133,
      "metadata": {
        "id": "7biG_OoCoWGZ"
      },
      "outputs": [],
      "source": [
        "def checkSorted(l):\n",
        "  '''check if list is sorted\n",
        "\n",
        "  Parameters\n",
        "  l: list of values\n",
        "\n",
        "  Returns\n",
        "  bool value\n",
        "  '''\n",
        "  if l == sorted(l):\n",
        "    return True\n",
        "  else:\n",
        "    return False"
      ]
    },
    {
      "cell_type": "code",
      "source": [
        "print(list1)\n",
        "checkSorted(list1)"
      ],
      "metadata": {
        "colab": {
          "base_uri": "https://localhost:8080/"
        },
        "outputId": "69e3f1dd-762c-451b-eaf0-08bf0f2f4366",
        "id": "WjF4sgzPoWGZ"
      },
      "execution_count": 134,
      "outputs": [
        {
          "output_type": "stream",
          "name": "stdout",
          "text": [
            "[81, 64, 49, 36, 25, 16, 9, 4, 1, 43, 3, 3, 3, 3, 2, 2, 1, 1]\n"
          ]
        },
        {
          "output_type": "execute_result",
          "data": {
            "text/plain": [
              "False"
            ]
          },
          "metadata": {},
          "execution_count": 134
        }
      ]
    },
    {
      "cell_type": "code",
      "source": [
        "print(list2)\n",
        "checkSorted(list2)"
      ],
      "metadata": {
        "id": "H131mF17vsv4",
        "outputId": "47480777-757f-459b-8e83-501b3677076e",
        "colab": {
          "base_uri": "https://localhost:8080/"
        }
      },
      "execution_count": 135,
      "outputs": [
        {
          "output_type": "stream",
          "name": "stdout",
          "text": [
            "[1, 1, 2, 2, 3, 3, 3, 3, 43]\n"
          ]
        },
        {
          "output_type": "execute_result",
          "data": {
            "text/plain": [
              "True"
            ]
          },
          "metadata": {},
          "execution_count": 135
        }
      ]
    },
    {
      "cell_type": "markdown",
      "source": [
        "### 31. Rotate a list to the left by `n` positions."
      ],
      "metadata": {
        "id": "qfxM9ZKyoWGa"
      }
    },
    {
      "cell_type": "code",
      "execution_count": 175,
      "metadata": {
        "id": "pPEBte6ioWGa"
      },
      "outputs": [],
      "source": [
        "def rotateListLeft1(l,n):\n",
        "  '''rotate the list to the left by n positions\n",
        "\n",
        "  Parameters\n",
        "  l: list\n",
        "  n: no. of positions with which it needs to be rotated\n",
        "\n",
        "  Returns\n",
        "  new list rotated to left by n positions\n",
        "  '''\n",
        "  new_list = l.copy()\n",
        "  length = len(l)\n",
        "  for i in range(length):\n",
        "    index = (n+i)%length\n",
        "    new_list[i] = l[index]\n",
        "  return new_list"
      ]
    },
    {
      "cell_type": "code",
      "execution_count": 176,
      "metadata": {
        "id": "uvcYSnXv0XMD"
      },
      "outputs": [],
      "source": [
        "def rotateListLeft2(l,n):\n",
        "  '''rotate the list by n positions\n",
        "\n",
        "  Parameters\n",
        "  l: list\n",
        "  n: no. of positions with which it needs to be rotated\n",
        "\n",
        "  Returns\n",
        "  new list rotated to left by n positions\n",
        "  '''\n",
        "  # normalizing the n value for cases n more than length of list\n",
        "  n = n%len(l)\n",
        "  new_list =  l[n:] + l[:n]\n",
        "  return new_list"
      ]
    },
    {
      "cell_type": "code",
      "source": [
        "squares_list"
      ],
      "metadata": {
        "colab": {
          "base_uri": "https://localhost:8080/"
        },
        "outputId": "85650af8-9134-4ebb-ef38-66b270def1c7",
        "id": "5JgqGSksoWGb"
      },
      "execution_count": 177,
      "outputs": [
        {
          "output_type": "execute_result",
          "data": {
            "text/plain": [
              "[1, 4, 9, 16, 25, 36, 49, 64, 81, 100]"
            ]
          },
          "metadata": {},
          "execution_count": 177
        }
      ]
    },
    {
      "cell_type": "code",
      "source": [
        "rotateListLeft1(squares_list,13)"
      ],
      "metadata": {
        "colab": {
          "base_uri": "https://localhost:8080/"
        },
        "outputId": "c549a105-7ab1-4e78-a73d-dd0179cd6a4c",
        "id": "xrb_i4pwoWGb"
      },
      "execution_count": 180,
      "outputs": [
        {
          "output_type": "execute_result",
          "data": {
            "text/plain": [
              "[16, 25, 36, 49, 64, 81, 100, 1, 4, 9]"
            ]
          },
          "metadata": {},
          "execution_count": 180
        }
      ]
    },
    {
      "cell_type": "code",
      "source": [
        "rotateListLeft2(squares_list,3)"
      ],
      "metadata": {
        "colab": {
          "base_uri": "https://localhost:8080/"
        },
        "outputId": "faf07f35-f5f3-4e31-de4d-b48138716602",
        "id": "KPAv9uTu3YCV"
      },
      "execution_count": 179,
      "outputs": [
        {
          "output_type": "execute_result",
          "data": {
            "text/plain": [
              "[16, 25, 36, 49, 64, 81, 100, 1, 4, 9]"
            ]
          },
          "metadata": {},
          "execution_count": 179
        }
      ]
    },
    {
      "cell_type": "markdown",
      "source": [
        "### 32. Rotate a list to the right by `n` positions."
      ],
      "metadata": {
        "id": "qkkoMStn3jxl"
      }
    },
    {
      "cell_type": "code",
      "execution_count": 262,
      "metadata": {
        "id": "lcaXDaZ73jxu"
      },
      "outputs": [],
      "source": [
        "def rotateListRight1(l,n):\n",
        "  '''rotate the list to the right by n positions\n",
        "\n",
        "  Parameters\n",
        "  l: list\n",
        "  n: no. of positions with which it needs to be rotated\n",
        "\n",
        "  Returns\n",
        "  new list rotated to right by n positions\n",
        "  '''\n",
        "  new_list = l.copy()\n",
        "  length = len(l)\n",
        "  for i in range(length):\n",
        "    index = abs((i-n)%length)\n",
        "    new_list[index] = l[i]\n",
        "  return new_list"
      ]
    },
    {
      "cell_type": "code",
      "execution_count": 263,
      "metadata": {
        "id": "JWuZrUxh3jxv"
      },
      "outputs": [],
      "source": [
        "def rotateListRight2(l,n):\n",
        "  '''rotate the list by n positions by n positions\n",
        "\n",
        "  Parameters\n",
        "  l: list\n",
        "  n: no. of positions with which it needs to be rotated\n",
        "\n",
        "  Returns\n",
        "  new list rotated to Right by n positions\n",
        "  '''\n",
        "  # normalizing the n value for cases n more than length of list\n",
        "  n = n%len(l)\n",
        "  new_list =  l[-n:] + l[:-n]\n",
        "  return new_list"
      ]
    },
    {
      "cell_type": "code",
      "source": [
        "squares_list"
      ],
      "metadata": {
        "colab": {
          "base_uri": "https://localhost:8080/"
        },
        "outputId": "c8cdabf6-ceba-4f7f-e780-0e021e5bb224",
        "id": "cHcVeRQ33jxv"
      },
      "execution_count": 264,
      "outputs": [
        {
          "output_type": "execute_result",
          "data": {
            "text/plain": [
              "[1, 4, 9, 16, 25, 36, 49, 64, 81, 100]"
            ]
          },
          "metadata": {},
          "execution_count": 264
        }
      ]
    },
    {
      "cell_type": "code",
      "source": [
        "rotateListRight1(squares_list,13)"
      ],
      "metadata": {
        "colab": {
          "base_uri": "https://localhost:8080/"
        },
        "outputId": "0f1ee6a0-bd31-4657-d632-df595ca2114e",
        "id": "1i1wCMzj3jxv"
      },
      "execution_count": 266,
      "outputs": [
        {
          "output_type": "execute_result",
          "data": {
            "text/plain": [
              "[16, 25, 36, 49, 64, 81, 100, 1, 4, 9]"
            ]
          },
          "metadata": {},
          "execution_count": 266
        }
      ]
    },
    {
      "cell_type": "code",
      "source": [
        "rotateListLeft2(squares_list,3)"
      ],
      "metadata": {
        "colab": {
          "base_uri": "https://localhost:8080/"
        },
        "outputId": "97a968fc-7264-4f99-870d-967a13b6d033",
        "id": "TgBrgTC43jxv"
      },
      "execution_count": 267,
      "outputs": [
        {
          "output_type": "execute_result",
          "data": {
            "text/plain": [
              "[16, 25, 36, 49, 64, 81, 100, 1, 4, 9]"
            ]
          },
          "metadata": {},
          "execution_count": 267
        }
      ]
    },
    {
      "cell_type": "markdown",
      "source": [
        "### New Section\n",
        "\n",
        "35. Find the second largest number in a list.\n",
        "36. Replace every element in a list with its square.\n",
        "37. Convert a list to a dictionary where list elements become keys and their\n",
        "indices become values.\n",
        "\n",
        "38. Shuffle the elements of a list randomly.\n",
        "39. Create a list of the first 10 factorial numbers."
      ],
      "metadata": {
        "id": "QGuwTgHbjo4F"
      }
    },
    {
      "cell_type": "markdown",
      "source": [
        "### 33. Create a list of prime numbers up to 50."
      ],
      "metadata": {
        "id": "U0yKrsGKoWGb"
      }
    },
    {
      "cell_type": "code",
      "execution_count": 273,
      "metadata": {
        "id": "JdEIo_oeoWGb"
      },
      "outputs": [],
      "source": [
        "def isPrime(num):\n",
        "  '''check if the number is prime\n",
        "\n",
        "  Parameters\n",
        "  num: int value\n",
        "\n",
        "  Returns\n",
        "  bool value\n",
        "  '''\n",
        "  for i in range(2,num//2+1):\n",
        "    if num%i == 0:\n",
        "      return False\n",
        "  return True"
      ]
    },
    {
      "cell_type": "code",
      "source": [
        "# using list comprehension and the function isPrime() to get the the prime nos. upto 50\n",
        "prime_nos = [i for i in range(1,51) if isPrime(i)]\n",
        "prime_nos"
      ],
      "metadata": {
        "colab": {
          "base_uri": "https://localhost:8080/"
        },
        "outputId": "92a1cdee-8bfb-4f9b-ca9c-257d8f45ee17",
        "id": "LBpaYgmloWGb"
      },
      "execution_count": 275,
      "outputs": [
        {
          "output_type": "execute_result",
          "data": {
            "text/plain": [
              "[1, 2, 3, 5, 7, 11, 13, 17, 19, 23, 29, 31, 37, 41, 43, 47]"
            ]
          },
          "metadata": {},
          "execution_count": 275
        }
      ]
    },
    {
      "cell_type": "markdown",
      "source": [
        "### 34. Split a list into chunks of size `n`."
      ],
      "metadata": {
        "id": "eqkxYTznoWGb"
      }
    },
    {
      "cell_type": "code",
      "execution_count": 280,
      "metadata": {
        "id": "4KT-XJTroWGb"
      },
      "outputs": [],
      "source": [
        "def createChunks(list1,n):\n",
        "  '''split a list into chunks of size n\n",
        "\n",
        "  Parameters\n",
        "  list1: list to be splitted\n",
        "  n: length of each chunk\n",
        "\n",
        "  Returns\n",
        "  list of chunks\n",
        "  '''\n",
        "  new_list = []\n",
        "  for i in range(0,len(list1),n):\n",
        "      chunk = list1[i:i+n]\n",
        "      # if length of list is less and there are not enough elements\n",
        "      # then for the last chunk initial elements of the list is added to make its size n\n",
        "      if i+n > len(list1):\n",
        "        chunk = chunk + list1[:(i+n)-len(list1)]\n",
        "      new_list.append(chunk)\n",
        "  return new_list"
      ]
    },
    {
      "cell_type": "code",
      "source": [
        "createChunks(squares_list,4)"
      ],
      "metadata": {
        "id": "OYpWsl1yEECF",
        "outputId": "01ff2744-4223-48b9-e140-a2a95d5e9bf6",
        "colab": {
          "base_uri": "https://localhost:8080/"
        }
      },
      "execution_count": 281,
      "outputs": [
        {
          "output_type": "execute_result",
          "data": {
            "text/plain": [
              "[[1, 4, 9, 16], [25, 36, 49, 64], [81, 100, 1, 4]]"
            ]
          },
          "metadata": {},
          "execution_count": 281
        }
      ]
    },
    {
      "cell_type": "markdown",
      "source": [
        "### 35. Extract the protocol (http or https) from a URL string."
      ],
      "metadata": {
        "id": "zDePRR5YoWGc"
      }
    },
    {
      "cell_type": "code",
      "execution_count": null,
      "metadata": {
        "id": "0gPGTh3boWGc"
      },
      "outputs": [],
      "source": [
        "def getProtocol(url):\n",
        "  '''fetch the url protocol from the string\n",
        "\n",
        "  Parameters\n",
        "  url\n",
        "\n",
        "  Returns\n",
        "  protocol: url protocol, if there\n",
        "  '''\n",
        "  index = url.find('://')\n",
        "  if index != -1:\n",
        "    return url[:index]\n",
        "  return \"N/A\""
      ]
    },
    {
      "cell_type": "code",
      "source": [
        "getProtocol('ftp:/ftp.example.com')"
      ],
      "metadata": {
        "colab": {
          "base_uri": "https://localhost:8080/",
          "height": 36
        },
        "outputId": "2dbfc083-fb15-4398-9121-951aaa2f179b",
        "id": "Hqrw2ucqoWGc"
      },
      "execution_count": null,
      "outputs": [
        {
          "output_type": "execute_result",
          "data": {
            "text/plain": [
              "'N/A'"
            ],
            "application/vnd.google.colaboratory.intrinsic+json": {
              "type": "string"
            }
          },
          "metadata": {},
          "execution_count": 81
        }
      ]
    },
    {
      "cell_type": "code",
      "source": [
        "getProtocol('https://colab.research.google.com/drive/1PEiBoZc4lTsr8-YechpWRXABx_ZaezYL?authuser=0#scrollTo=aTQqmuKjSeiR')"
      ],
      "metadata": {
        "colab": {
          "base_uri": "https://localhost:8080/",
          "height": 36
        },
        "outputId": "f1001f6c-fb39-41d2-e139-8aa8a287c4dd",
        "id": "1mgoBCnYoWGc"
      },
      "execution_count": null,
      "outputs": [
        {
          "output_type": "execute_result",
          "data": {
            "text/plain": [
              "'https'"
            ],
            "application/vnd.google.colaboratory.intrinsic+json": {
              "type": "string"
            }
          },
          "metadata": {},
          "execution_count": 83
        }
      ]
    },
    {
      "cell_type": "markdown",
      "source": [
        "### 36. Find the frequency of each character in a string."
      ],
      "metadata": {
        "id": "MCBACcnnoWGc"
      }
    },
    {
      "cell_type": "code",
      "execution_count": null,
      "metadata": {
        "id": "IvMw8_bDoWGd"
      },
      "outputs": [],
      "source": [
        "import re\n",
        "def checkEmail(email):\n",
        "  '''count the number of lowercase letters\n",
        "\n",
        "  Parameters\n",
        "  string\n",
        "\n",
        "  Returns\n",
        "  count: int value\n",
        "  '''\n",
        "  # using islower to check if char is a lower case letter and then using sum function to add all 1s [list comprehension]\n",
        "  regex = r'\\b[A-Za-z0-9._]+@[A-Za-z0-9.-]+\\.[A-Z|a-z]{2,7}\\b'\n",
        "  if(re.fullmatch(regex, email)):\n",
        "    return True\n",
        "  else:\n",
        "    return False"
      ]
    },
    {
      "cell_type": "code",
      "source": [
        "checkEmail('asd21asa_an@gmail.com')"
      ],
      "metadata": {
        "colab": {
          "base_uri": "https://localhost:8080/"
        },
        "outputId": "759063c5-fdcc-4442-adef-05df6906734d",
        "id": "yuOFiXaCoWGd"
      },
      "execution_count": null,
      "outputs": [
        {
          "output_type": "execute_result",
          "data": {
            "text/plain": [
              "True"
            ]
          },
          "metadata": {},
          "execution_count": 17
        }
      ]
    },
    {
      "cell_type": "code",
      "source": [
        "checkEmail('sa-.jhn@g12mail.com')"
      ],
      "metadata": {
        "colab": {
          "base_uri": "https://localhost:8080/"
        },
        "outputId": "ce822d62-a21f-4d7d-ea3c-da5541952964",
        "id": "Kca6cux1oWGd"
      },
      "execution_count": null,
      "outputs": [
        {
          "output_type": "execute_result",
          "data": {
            "text/plain": [
              "False"
            ]
          },
          "metadata": {},
          "execution_count": 18
        }
      ]
    },
    {
      "cell_type": "markdown",
      "source": [
        "### 37. Remove all punctuation from a string."
      ],
      "metadata": {
        "id": "B3cRL4oOoWGd"
      }
    },
    {
      "cell_type": "code",
      "execution_count": null,
      "metadata": {
        "id": "OzxclaaMoWGd"
      },
      "outputs": [],
      "source": [
        "import re\n",
        "def checkEmail(email):\n",
        "  '''count the number of lowercase letters\n",
        "\n",
        "  Parameters\n",
        "  string\n",
        "\n",
        "  Returns\n",
        "  count: int value\n",
        "  '''\n",
        "  # using islower to check if char is a lower case letter and then using sum function to add all 1s [list comprehension]\n",
        "  regex = r'\\b[A-Za-z0-9._]+@[A-Za-z0-9.-]+\\.[A-Z|a-z]{2,7}\\b'\n",
        "  if(re.fullmatch(regex, email)):\n",
        "    return True\n",
        "  else:\n",
        "    return False"
      ]
    },
    {
      "cell_type": "code",
      "source": [
        "checkEmail('asd21asa_an@gmail.com')"
      ],
      "metadata": {
        "colab": {
          "base_uri": "https://localhost:8080/"
        },
        "outputId": "759063c5-fdcc-4442-adef-05df6906734d",
        "id": "t5_SBNY_oWGd"
      },
      "execution_count": null,
      "outputs": [
        {
          "output_type": "execute_result",
          "data": {
            "text/plain": [
              "True"
            ]
          },
          "metadata": {},
          "execution_count": 17
        }
      ]
    },
    {
      "cell_type": "code",
      "source": [
        "checkEmail('sa-.jhn@g12mail.com')"
      ],
      "metadata": {
        "colab": {
          "base_uri": "https://localhost:8080/"
        },
        "outputId": "ce822d62-a21f-4d7d-ea3c-da5541952964",
        "id": "n7n-qISfoWGd"
      },
      "execution_count": null,
      "outputs": [
        {
          "output_type": "execute_result",
          "data": {
            "text/plain": [
              "False"
            ]
          },
          "metadata": {},
          "execution_count": 18
        }
      ]
    },
    {
      "cell_type": "markdown",
      "source": [
        "### 38. Check if a string contains only digits."
      ],
      "metadata": {
        "id": "gAmENnQ_oWGe"
      }
    },
    {
      "cell_type": "code",
      "execution_count": null,
      "metadata": {
        "id": "Cg_Cb1UDoWGe"
      },
      "outputs": [],
      "source": [
        "import re\n",
        "def checkEmail(email):\n",
        "  '''count the number of lowercase letters\n",
        "\n",
        "  Parameters\n",
        "  string\n",
        "\n",
        "  Returns\n",
        "  count: int value\n",
        "  '''\n",
        "  # using islower to check if char is a lower case letter and then using sum function to add all 1s [list comprehension]\n",
        "  regex = r'\\b[A-Za-z0-9._]+@[A-Za-z0-9.-]+\\.[A-Z|a-z]{2,7}\\b'\n",
        "  if(re.fullmatch(regex, email)):\n",
        "    return True\n",
        "  else:\n",
        "    return False"
      ]
    },
    {
      "cell_type": "code",
      "source": [
        "checkEmail('asd21asa_an@gmail.com')"
      ],
      "metadata": {
        "colab": {
          "base_uri": "https://localhost:8080/"
        },
        "outputId": "759063c5-fdcc-4442-adef-05df6906734d",
        "id": "1k_YShTDoWGe"
      },
      "execution_count": null,
      "outputs": [
        {
          "output_type": "execute_result",
          "data": {
            "text/plain": [
              "True"
            ]
          },
          "metadata": {},
          "execution_count": 17
        }
      ]
    },
    {
      "cell_type": "code",
      "source": [
        "checkEmail('sa-.jhn@g12mail.com')"
      ],
      "metadata": {
        "colab": {
          "base_uri": "https://localhost:8080/"
        },
        "outputId": "ce822d62-a21f-4d7d-ea3c-da5541952964",
        "id": "Gl9SCYTGoWGe"
      },
      "execution_count": null,
      "outputs": [
        {
          "output_type": "execute_result",
          "data": {
            "text/plain": [
              "False"
            ]
          },
          "metadata": {},
          "execution_count": 18
        }
      ]
    },
    {
      "cell_type": "markdown",
      "source": [
        "### 39. Check if a string contains only alphabets."
      ],
      "metadata": {
        "id": "5l8eyad_oWGe"
      }
    },
    {
      "cell_type": "code",
      "execution_count": null,
      "metadata": {
        "id": "0DcnuxtNoWGe"
      },
      "outputs": [],
      "source": [
        "import re\n",
        "def checkEmail(email):\n",
        "  '''count the number of lowercase letters\n",
        "\n",
        "  Parameters\n",
        "  string\n",
        "\n",
        "  Returns\n",
        "  count: int value\n",
        "  '''\n",
        "  # using islower to check if char is a lower case letter and then using sum function to add all 1s [list comprehension]\n",
        "  regex = r'\\b[A-Za-z0-9._]+@[A-Za-z0-9.-]+\\.[A-Z|a-z]{2,7}\\b'\n",
        "  if(re.fullmatch(regex, email)):\n",
        "    return True\n",
        "  else:\n",
        "    return False"
      ]
    },
    {
      "cell_type": "code",
      "source": [
        "checkEmail('asd21asa_an@gmail.com')"
      ],
      "metadata": {
        "colab": {
          "base_uri": "https://localhost:8080/"
        },
        "outputId": "759063c5-fdcc-4442-adef-05df6906734d",
        "id": "h4KRl8gjoWGe"
      },
      "execution_count": null,
      "outputs": [
        {
          "output_type": "execute_result",
          "data": {
            "text/plain": [
              "True"
            ]
          },
          "metadata": {},
          "execution_count": 17
        }
      ]
    },
    {
      "cell_type": "code",
      "source": [
        "checkEmail('sa-.jhn@g12mail.com')"
      ],
      "metadata": {
        "colab": {
          "base_uri": "https://localhost:8080/"
        },
        "outputId": "ce822d62-a21f-4d7d-ea3c-da5541952964",
        "id": "zkWO-FQzoWGf"
      },
      "execution_count": null,
      "outputs": [
        {
          "output_type": "execute_result",
          "data": {
            "text/plain": [
              "False"
            ]
          },
          "metadata": {},
          "execution_count": 18
        }
      ]
    },
    {
      "cell_type": "markdown",
      "source": [
        "### 40. Convert a string to a list of characters."
      ],
      "metadata": {
        "id": "o4Tfqci7oWGf"
      }
    },
    {
      "cell_type": "code",
      "execution_count": null,
      "metadata": {
        "id": "W2mtoI69oWGf"
      },
      "outputs": [],
      "source": [
        "import re\n",
        "def checkEmail(email):\n",
        "  '''count the number of lowercase letters\n",
        "\n",
        "  Parameters\n",
        "  string\n",
        "\n",
        "  Returns\n",
        "  count: int value\n",
        "  '''\n",
        "  # using islower to check if char is a lower case letter and then using sum function to add all 1s [list comprehension]\n",
        "  regex = r'\\b[A-Za-z0-9._]+@[A-Za-z0-9.-]+\\.[A-Z|a-z]{2,7}\\b'\n",
        "  if(re.fullmatch(regex, email)):\n",
        "    return True\n",
        "  else:\n",
        "    return False"
      ]
    },
    {
      "cell_type": "code",
      "source": [
        "checkEmail('asd21asa_an@gmail.com')"
      ],
      "metadata": {
        "colab": {
          "base_uri": "https://localhost:8080/"
        },
        "outputId": "759063c5-fdcc-4442-adef-05df6906734d",
        "id": "1K_hmkOAoWGf"
      },
      "execution_count": null,
      "outputs": [
        {
          "output_type": "execute_result",
          "data": {
            "text/plain": [
              "True"
            ]
          },
          "metadata": {},
          "execution_count": 17
        }
      ]
    },
    {
      "cell_type": "code",
      "source": [
        "checkEmail('sa-.jhn@g12mail.com')"
      ],
      "metadata": {
        "colab": {
          "base_uri": "https://localhost:8080/"
        },
        "outputId": "ce822d62-a21f-4d7d-ea3c-da5541952964",
        "id": "OXqYJCFeoWGf"
      },
      "execution_count": null,
      "outputs": [
        {
          "output_type": "execute_result",
          "data": {
            "text/plain": [
              "False"
            ]
          },
          "metadata": {},
          "execution_count": 18
        }
      ]
    },
    {
      "cell_type": "markdown",
      "source": [
        "### 41. Check if two strings are anagrams."
      ],
      "metadata": {
        "id": "uNlczfN2oWGf"
      }
    },
    {
      "cell_type": "code",
      "execution_count": null,
      "metadata": {
        "id": "KZebkg8MoWGf"
      },
      "outputs": [],
      "source": [
        "import re\n",
        "def checkEmail(email):\n",
        "  '''count the number of lowercase letters\n",
        "\n",
        "  Parameters\n",
        "  string\n",
        "\n",
        "  Returns\n",
        "  count: int value\n",
        "  '''\n",
        "  # using islower to check if char is a lower case letter and then using sum function to add all 1s [list comprehension]\n",
        "  regex = r'\\b[A-Za-z0-9._]+@[A-Za-z0-9.-]+\\.[A-Z|a-z]{2,7}\\b'\n",
        "  if(re.fullmatch(regex, email)):\n",
        "    return True\n",
        "  else:\n",
        "    return False"
      ]
    },
    {
      "cell_type": "code",
      "source": [
        "checkEmail('asd21asa_an@gmail.com')"
      ],
      "metadata": {
        "colab": {
          "base_uri": "https://localhost:8080/"
        },
        "outputId": "759063c5-fdcc-4442-adef-05df6906734d",
        "id": "8MWf4TVwoWGg"
      },
      "execution_count": null,
      "outputs": [
        {
          "output_type": "execute_result",
          "data": {
            "text/plain": [
              "True"
            ]
          },
          "metadata": {},
          "execution_count": 17
        }
      ]
    },
    {
      "cell_type": "code",
      "source": [
        "checkEmail('sa-.jhn@g12mail.com')"
      ],
      "metadata": {
        "colab": {
          "base_uri": "https://localhost:8080/"
        },
        "outputId": "ce822d62-a21f-4d7d-ea3c-da5541952964",
        "id": "cA6KnwDloWGg"
      },
      "execution_count": null,
      "outputs": [
        {
          "output_type": "execute_result",
          "data": {
            "text/plain": [
              "False"
            ]
          },
          "metadata": {},
          "execution_count": 18
        }
      ]
    },
    {
      "cell_type": "markdown",
      "source": [
        "### 42. Encode a string using a Caesar cipher."
      ],
      "metadata": {
        "id": "-0EXkFqAoWGg"
      }
    },
    {
      "cell_type": "code",
      "execution_count": null,
      "metadata": {
        "id": "oDnXitwToWGg"
      },
      "outputs": [],
      "source": [
        "import re\n",
        "def checkEmail(email):\n",
        "  '''count the number of lowercase letters\n",
        "\n",
        "  Parameters\n",
        "  string\n",
        "\n",
        "  Returns\n",
        "  count: int value\n",
        "  '''\n",
        "  # using islower to check if char is a lower case letter and then using sum function to add all 1s [list comprehension]\n",
        "  regex = r'\\b[A-Za-z0-9._]+@[A-Za-z0-9.-]+\\.[A-Z|a-z]{2,7}\\b'\n",
        "  if(re.fullmatch(regex, email)):\n",
        "    return True\n",
        "  else:\n",
        "    return False"
      ]
    },
    {
      "cell_type": "code",
      "source": [
        "checkEmail('asd21asa_an@gmail.com')"
      ],
      "metadata": {
        "colab": {
          "base_uri": "https://localhost:8080/"
        },
        "outputId": "759063c5-fdcc-4442-adef-05df6906734d",
        "id": "PzoiKzSXoWGg"
      },
      "execution_count": null,
      "outputs": [
        {
          "output_type": "execute_result",
          "data": {
            "text/plain": [
              "True"
            ]
          },
          "metadata": {},
          "execution_count": 17
        }
      ]
    },
    {
      "cell_type": "code",
      "source": [
        "checkEmail('sa-.jhn@g12mail.com')"
      ],
      "metadata": {
        "colab": {
          "base_uri": "https://localhost:8080/"
        },
        "outputId": "ce822d62-a21f-4d7d-ea3c-da5541952964",
        "id": "NoX3un_noWGj"
      },
      "execution_count": null,
      "outputs": [
        {
          "output_type": "execute_result",
          "data": {
            "text/plain": [
              "False"
            ]
          },
          "metadata": {},
          "execution_count": 18
        }
      ]
    },
    {
      "cell_type": "markdown",
      "source": [
        "### 43. Decode a Caesar cipher encoded string."
      ],
      "metadata": {
        "id": "tmxkfyLhoWGj"
      }
    },
    {
      "cell_type": "code",
      "execution_count": null,
      "metadata": {
        "id": "WnV7ImQZoWGj"
      },
      "outputs": [],
      "source": [
        "import re\n",
        "def checkEmail(email):\n",
        "  '''count the number of lowercase letters\n",
        "\n",
        "  Parameters\n",
        "  string\n",
        "\n",
        "  Returns\n",
        "  count: int value\n",
        "  '''\n",
        "  # using islower to check if char is a lower case letter and then using sum function to add all 1s [list comprehension]\n",
        "  regex = r'\\b[A-Za-z0-9._]+@[A-Za-z0-9.-]+\\.[A-Z|a-z]{2,7}\\b'\n",
        "  if(re.fullmatch(regex, email)):\n",
        "    return True\n",
        "  else:\n",
        "    return False"
      ]
    },
    {
      "cell_type": "code",
      "source": [
        "checkEmail('asd21asa_an@gmail.com')"
      ],
      "metadata": {
        "colab": {
          "base_uri": "https://localhost:8080/"
        },
        "outputId": "759063c5-fdcc-4442-adef-05df6906734d",
        "id": "ddaNxO4soWGj"
      },
      "execution_count": null,
      "outputs": [
        {
          "output_type": "execute_result",
          "data": {
            "text/plain": [
              "True"
            ]
          },
          "metadata": {},
          "execution_count": 17
        }
      ]
    },
    {
      "cell_type": "code",
      "source": [
        "checkEmail('sa-.jhn@g12mail.com')"
      ],
      "metadata": {
        "colab": {
          "base_uri": "https://localhost:8080/"
        },
        "outputId": "ce822d62-a21f-4d7d-ea3c-da5541952964",
        "id": "-ouweQeEoWGj"
      },
      "execution_count": null,
      "outputs": [
        {
          "output_type": "execute_result",
          "data": {
            "text/plain": [
              "False"
            ]
          },
          "metadata": {},
          "execution_count": 18
        }
      ]
    },
    {
      "cell_type": "markdown",
      "source": [
        "44. Find the most frequent word in a string."
      ],
      "metadata": {
        "id": "T2CugEV6oWGj"
      }
    },
    {
      "cell_type": "code",
      "execution_count": null,
      "metadata": {
        "id": "5_2Q650LoWGk"
      },
      "outputs": [],
      "source": [
        "import re\n",
        "def checkEmail(email):\n",
        "  '''count the number of lowercase letters\n",
        "\n",
        "  Parameters\n",
        "  string\n",
        "\n",
        "  Returns\n",
        "  count: int value\n",
        "  '''\n",
        "  # using islower to check if char is a lower case letter and then using sum function to add all 1s [list comprehension]\n",
        "  regex = r'\\b[A-Za-z0-9._]+@[A-Za-z0-9.-]+\\.[A-Z|a-z]{2,7}\\b'\n",
        "  if(re.fullmatch(regex, email)):\n",
        "    return True\n",
        "  else:\n",
        "    return False"
      ]
    },
    {
      "cell_type": "code",
      "source": [
        "checkEmail('asd21asa_an@gmail.com')"
      ],
      "metadata": {
        "colab": {
          "base_uri": "https://localhost:8080/"
        },
        "outputId": "759063c5-fdcc-4442-adef-05df6906734d",
        "id": "aLTtq_3BoWGk"
      },
      "execution_count": null,
      "outputs": [
        {
          "output_type": "execute_result",
          "data": {
            "text/plain": [
              "True"
            ]
          },
          "metadata": {},
          "execution_count": 17
        }
      ]
    },
    {
      "cell_type": "code",
      "source": [
        "checkEmail('sa-.jhn@g12mail.com')"
      ],
      "metadata": {
        "colab": {
          "base_uri": "https://localhost:8080/"
        },
        "outputId": "ce822d62-a21f-4d7d-ea3c-da5541952964",
        "id": "CVlAf45ZoWGk"
      },
      "execution_count": null,
      "outputs": [
        {
          "output_type": "execute_result",
          "data": {
            "text/plain": [
              "False"
            ]
          },
          "metadata": {},
          "execution_count": 18
        }
      ]
    },
    {
      "cell_type": "markdown",
      "source": [
        "### 44. Find the most frequent word in a string."
      ],
      "metadata": {
        "id": "HxXVfzKKoWGk"
      }
    },
    {
      "cell_type": "code",
      "execution_count": null,
      "metadata": {
        "id": "HxuyKve-oWGk"
      },
      "outputs": [],
      "source": [
        "import re\n",
        "def checkEmail(email):\n",
        "  '''count the number of lowercase letters\n",
        "\n",
        "  Parameters\n",
        "  string\n",
        "\n",
        "  Returns\n",
        "  count: int value\n",
        "  '''\n",
        "  # using islower to check if char is a lower case letter and then using sum function to add all 1s [list comprehension]\n",
        "  regex = r'\\b[A-Za-z0-9._]+@[A-Za-z0-9.-]+\\.[A-Z|a-z]{2,7}\\b'\n",
        "  if(re.fullmatch(regex, email)):\n",
        "    return True\n",
        "  else:\n",
        "    return False"
      ]
    },
    {
      "cell_type": "code",
      "source": [
        "checkEmail('asd21asa_an@gmail.com')"
      ],
      "metadata": {
        "colab": {
          "base_uri": "https://localhost:8080/"
        },
        "outputId": "759063c5-fdcc-4442-adef-05df6906734d",
        "id": "LkRan4jJoWGk"
      },
      "execution_count": null,
      "outputs": [
        {
          "output_type": "execute_result",
          "data": {
            "text/plain": [
              "True"
            ]
          },
          "metadata": {},
          "execution_count": 17
        }
      ]
    },
    {
      "cell_type": "code",
      "source": [
        "checkEmail('sa-.jhn@g12mail.com')"
      ],
      "metadata": {
        "colab": {
          "base_uri": "https://localhost:8080/"
        },
        "outputId": "ce822d62-a21f-4d7d-ea3c-da5541952964",
        "id": "R-MnmAkeoWGl"
      },
      "execution_count": null,
      "outputs": [
        {
          "output_type": "execute_result",
          "data": {
            "text/plain": [
              "False"
            ]
          },
          "metadata": {},
          "execution_count": 18
        }
      ]
    },
    {
      "cell_type": "markdown",
      "source": [
        "### 45. Find all unique words in a string."
      ],
      "metadata": {
        "id": "konb92SHoWGl"
      }
    },
    {
      "cell_type": "code",
      "execution_count": null,
      "metadata": {
        "id": "O2SFiLYBoWGl"
      },
      "outputs": [],
      "source": [
        "import re\n",
        "def checkEmail(email):\n",
        "  '''count the number of lowercase letters\n",
        "\n",
        "  Parameters\n",
        "  string\n",
        "\n",
        "  Returns\n",
        "  count: int value\n",
        "  '''\n",
        "  # using islower to check if char is a lower case letter and then using sum function to add all 1s [list comprehension]\n",
        "  regex = r'\\b[A-Za-z0-9._]+@[A-Za-z0-9.-]+\\.[A-Z|a-z]{2,7}\\b'\n",
        "  if(re.fullmatch(regex, email)):\n",
        "    return True\n",
        "  else:\n",
        "    return False"
      ]
    },
    {
      "cell_type": "code",
      "source": [
        "checkEmail('asd21asa_an@gmail.com')"
      ],
      "metadata": {
        "colab": {
          "base_uri": "https://localhost:8080/"
        },
        "outputId": "759063c5-fdcc-4442-adef-05df6906734d",
        "id": "kWjusG_VoWGl"
      },
      "execution_count": null,
      "outputs": [
        {
          "output_type": "execute_result",
          "data": {
            "text/plain": [
              "True"
            ]
          },
          "metadata": {},
          "execution_count": 17
        }
      ]
    },
    {
      "cell_type": "code",
      "source": [
        "checkEmail('sa-.jhn@g12mail.com')"
      ],
      "metadata": {
        "colab": {
          "base_uri": "https://localhost:8080/"
        },
        "outputId": "ce822d62-a21f-4d7d-ea3c-da5541952964",
        "id": "5yiI4aV4oWGl"
      },
      "execution_count": null,
      "outputs": [
        {
          "output_type": "execute_result",
          "data": {
            "text/plain": [
              "False"
            ]
          },
          "metadata": {},
          "execution_count": 18
        }
      ]
    },
    {
      "cell_type": "markdown",
      "source": [
        "### 46. Count the number of syllables in a string."
      ],
      "metadata": {
        "id": "v1RNxn_soWGl"
      }
    },
    {
      "cell_type": "code",
      "execution_count": null,
      "metadata": {
        "id": "G2u_s-cAoWGl"
      },
      "outputs": [],
      "source": [
        "import re\n",
        "def checkEmail(email):\n",
        "  '''count the number of lowercase letters\n",
        "\n",
        "  Parameters\n",
        "  string\n",
        "\n",
        "  Returns\n",
        "  count: int value\n",
        "  '''\n",
        "  # using islower to check if char is a lower case letter and then using sum function to add all 1s [list comprehension]\n",
        "  regex = r'\\b[A-Za-z0-9._]+@[A-Za-z0-9.-]+\\.[A-Z|a-z]{2,7}\\b'\n",
        "  if(re.fullmatch(regex, email)):\n",
        "    return True\n",
        "  else:\n",
        "    return False"
      ]
    },
    {
      "cell_type": "code",
      "source": [
        "checkEmail('asd21asa_an@gmail.com')"
      ],
      "metadata": {
        "colab": {
          "base_uri": "https://localhost:8080/"
        },
        "outputId": "759063c5-fdcc-4442-adef-05df6906734d",
        "id": "m7tTtbFsoWGm"
      },
      "execution_count": null,
      "outputs": [
        {
          "output_type": "execute_result",
          "data": {
            "text/plain": [
              "True"
            ]
          },
          "metadata": {},
          "execution_count": 17
        }
      ]
    },
    {
      "cell_type": "code",
      "source": [
        "checkEmail('sa-.jhn@g12mail.com')"
      ],
      "metadata": {
        "colab": {
          "base_uri": "https://localhost:8080/"
        },
        "outputId": "ce822d62-a21f-4d7d-ea3c-da5541952964",
        "id": "YxR3E3DeoWGm"
      },
      "execution_count": null,
      "outputs": [
        {
          "output_type": "execute_result",
          "data": {
            "text/plain": [
              "False"
            ]
          },
          "metadata": {},
          "execution_count": 18
        }
      ]
    },
    {
      "cell_type": "markdown",
      "source": [
        "### 47. Check if a string contains any special characters."
      ],
      "metadata": {
        "id": "5i-G-L9poWGm"
      }
    },
    {
      "cell_type": "code",
      "execution_count": null,
      "metadata": {
        "id": "otAqCyeqoWGm"
      },
      "outputs": [],
      "source": [
        "import re\n",
        "def checkEmail(email):\n",
        "  '''count the number of lowercase letters\n",
        "\n",
        "  Parameters\n",
        "  string\n",
        "\n",
        "  Returns\n",
        "  count: int value\n",
        "  '''\n",
        "  # using islower to check if char is a lower case letter and then using sum function to add all 1s [list comprehension]\n",
        "  regex = r'\\b[A-Za-z0-9._]+@[A-Za-z0-9.-]+\\.[A-Z|a-z]{2,7}\\b'\n",
        "  if(re.fullmatch(regex, email)):\n",
        "    return True\n",
        "  else:\n",
        "    return False"
      ]
    },
    {
      "cell_type": "code",
      "source": [
        "checkEmail('asd21asa_an@gmail.com')"
      ],
      "metadata": {
        "colab": {
          "base_uri": "https://localhost:8080/"
        },
        "outputId": "759063c5-fdcc-4442-adef-05df6906734d",
        "id": "CKdppGbQoWGm"
      },
      "execution_count": null,
      "outputs": [
        {
          "output_type": "execute_result",
          "data": {
            "text/plain": [
              "True"
            ]
          },
          "metadata": {},
          "execution_count": 17
        }
      ]
    },
    {
      "cell_type": "code",
      "source": [
        "checkEmail('sa-.jhn@g12mail.com')"
      ],
      "metadata": {
        "colab": {
          "base_uri": "https://localhost:8080/"
        },
        "outputId": "ce822d62-a21f-4d7d-ea3c-da5541952964",
        "id": "c4sAgp-0oWGm"
      },
      "execution_count": null,
      "outputs": [
        {
          "output_type": "execute_result",
          "data": {
            "text/plain": [
              "False"
            ]
          },
          "metadata": {},
          "execution_count": 18
        }
      ]
    },
    {
      "cell_type": "markdown",
      "source": [
        "### 48. Remove the nth word from a string."
      ],
      "metadata": {
        "id": "FCRSb8cfoWGm"
      }
    },
    {
      "cell_type": "code",
      "execution_count": null,
      "metadata": {
        "id": "16ROkPQCoWGm"
      },
      "outputs": [],
      "source": [
        "import re\n",
        "def checkEmail(email):\n",
        "  '''count the number of lowercase letters\n",
        "\n",
        "  Parameters\n",
        "  string\n",
        "\n",
        "  Returns\n",
        "  count: int value\n",
        "  '''\n",
        "  # using islower to check if char is a lower case letter and then using sum function to add all 1s [list comprehension]\n",
        "  regex = r'\\b[A-Za-z0-9._]+@[A-Za-z0-9.-]+\\.[A-Z|a-z]{2,7}\\b'\n",
        "  if(re.fullmatch(regex, email)):\n",
        "    return True\n",
        "  else:\n",
        "    return False"
      ]
    },
    {
      "cell_type": "code",
      "source": [
        "checkEmail('asd21asa_an@gmail.com')"
      ],
      "metadata": {
        "colab": {
          "base_uri": "https://localhost:8080/"
        },
        "outputId": "759063c5-fdcc-4442-adef-05df6906734d",
        "id": "DYtzhgwioWGn"
      },
      "execution_count": null,
      "outputs": [
        {
          "output_type": "execute_result",
          "data": {
            "text/plain": [
              "True"
            ]
          },
          "metadata": {},
          "execution_count": 17
        }
      ]
    },
    {
      "cell_type": "code",
      "source": [
        "checkEmail('sa-.jhn@g12mail.com')"
      ],
      "metadata": {
        "colab": {
          "base_uri": "https://localhost:8080/"
        },
        "outputId": "ce822d62-a21f-4d7d-ea3c-da5541952964",
        "id": "M0peVjxjoWGn"
      },
      "execution_count": null,
      "outputs": [
        {
          "output_type": "execute_result",
          "data": {
            "text/plain": [
              "False"
            ]
          },
          "metadata": {},
          "execution_count": 18
        }
      ]
    },
    {
      "cell_type": "markdown",
      "source": [
        "### 49. Insert a word at the nth position in a string."
      ],
      "metadata": {
        "id": "xpdrOd1YoWGn"
      }
    },
    {
      "cell_type": "code",
      "execution_count": null,
      "metadata": {
        "id": "aGg0_I3aoWGn"
      },
      "outputs": [],
      "source": [
        "import re\n",
        "def checkEmail(email):\n",
        "  '''count the number of lowercase letters\n",
        "\n",
        "  Parameters\n",
        "  string\n",
        "\n",
        "  Returns\n",
        "  count: int value\n",
        "  '''\n",
        "  # using islower to check if char is a lower case letter and then using sum function to add all 1s [list comprehension]\n",
        "  regex = r'\\b[A-Za-z0-9._]+@[A-Za-z0-9.-]+\\.[A-Z|a-z]{2,7}\\b'\n",
        "  if(re.fullmatch(regex, email)):\n",
        "    return True\n",
        "  else:\n",
        "    return False"
      ]
    },
    {
      "cell_type": "code",
      "source": [
        "checkEmail('asd21asa_an@gmail.com')"
      ],
      "metadata": {
        "colab": {
          "base_uri": "https://localhost:8080/"
        },
        "outputId": "759063c5-fdcc-4442-adef-05df6906734d",
        "id": "q-cRrjCnoWGn"
      },
      "execution_count": null,
      "outputs": [
        {
          "output_type": "execute_result",
          "data": {
            "text/plain": [
              "True"
            ]
          },
          "metadata": {},
          "execution_count": 17
        }
      ]
    },
    {
      "cell_type": "code",
      "source": [
        "checkEmail('sa-.jhn@g12mail.com')"
      ],
      "metadata": {
        "colab": {
          "base_uri": "https://localhost:8080/"
        },
        "outputId": "ce822d62-a21f-4d7d-ea3c-da5541952964",
        "id": "zPdaR5qPoWGn"
      },
      "execution_count": null,
      "outputs": [
        {
          "output_type": "execute_result",
          "data": {
            "text/plain": [
              "False"
            ]
          },
          "metadata": {},
          "execution_count": 18
        }
      ]
    },
    {
      "cell_type": "markdown",
      "source": [
        "### 50. Convert a CSV string to a list of lists."
      ],
      "metadata": {
        "id": "iXYh1gwYoWGn"
      }
    },
    {
      "cell_type": "code",
      "execution_count": null,
      "metadata": {
        "id": "pvgY2daRoWGn"
      },
      "outputs": [],
      "source": [
        "import re\n",
        "def checkEmail(email):\n",
        "  '''count the number of lowercase letters\n",
        "\n",
        "  Parameters\n",
        "  string\n",
        "\n",
        "  Returns\n",
        "  count: int value\n",
        "  '''\n",
        "  # using islower to check if char is a lower case letter and then using sum function to add all 1s [list comprehension]\n",
        "  regex = r'\\b[A-Za-z0-9._]+@[A-Za-z0-9.-]+\\.[A-Z|a-z]{2,7}\\b'\n",
        "  if(re.fullmatch(regex, email)):\n",
        "    return True\n",
        "  else:\n",
        "    return False"
      ]
    },
    {
      "cell_type": "code",
      "source": [
        "checkEmail('asd21asa_an@gmail.com')"
      ],
      "metadata": {
        "colab": {
          "base_uri": "https://localhost:8080/"
        },
        "outputId": "759063c5-fdcc-4442-adef-05df6906734d",
        "id": "9-7fT1fUoWGo"
      },
      "execution_count": null,
      "outputs": [
        {
          "output_type": "execute_result",
          "data": {
            "text/plain": [
              "True"
            ]
          },
          "metadata": {},
          "execution_count": 17
        }
      ]
    },
    {
      "cell_type": "code",
      "source": [
        "checkEmail('sa-.jhn@g12mail.com')"
      ],
      "metadata": {
        "colab": {
          "base_uri": "https://localhost:8080/"
        },
        "outputId": "ce822d62-a21f-4d7d-ea3c-da5541952964",
        "id": "NmyUGxL4oWGo"
      },
      "execution_count": null,
      "outputs": [
        {
          "output_type": "execute_result",
          "data": {
            "text/plain": [
              "False"
            ]
          },
          "metadata": {},
          "execution_count": 18
        }
      ]
    }
  ]
}