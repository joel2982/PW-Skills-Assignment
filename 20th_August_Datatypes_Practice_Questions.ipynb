{
  "nbformat": 4,
  "nbformat_minor": 0,
  "metadata": {
    "colab": {
      "provenance": [],
      "collapsed_sections": [
        "6xDCRmKBZGhC",
        "PMKbVjheZG8G",
        "ig4Lhn2zSemW",
        "cp-9Zh1NkCC0",
        "1Qyt9PEflHCG",
        "arFIu2sGlHWh",
        "xgBZtlFflHgi",
        "_esudfOglJmA",
        "DJerGeFolKUO",
        "nuefA6QNkCRk",
        "ruTrT6lzkCWK",
        "MQePlrM4lwoT",
        "yS4ldfowkCaY",
        "ccn-NfMjkCd_",
        "FqgVdT7RkCiK",
        "SJeyf5YvkCmj",
        "39pFAwVVkCpw",
        "hlKlY2GGkCs0"
      ],
      "authorship_tag": "ABX9TyNJypIPh7/1pqDKzefpdLtG",
      "include_colab_link": true
    },
    "kernelspec": {
      "name": "python3",
      "display_name": "Python 3"
    },
    "language_info": {
      "name": "python"
    }
  },
  "cells": [
    {
      "cell_type": "markdown",
      "metadata": {
        "id": "view-in-github",
        "colab_type": "text"
      },
      "source": [
        "<a href=\"https://colab.research.google.com/github/joel2982/PW-Skills-Assignment/blob/master/20th_August_Datatypes_Practice_Questions.ipynb\" target=\"_parent\"><img src=\"https://colab.research.google.com/assets/colab-badge.svg\" alt=\"Open In Colab\"/></a>"
      ]
    },
    {
      "cell_type": "markdown",
      "source": [
        "# String Based Assignment Problem"
      ],
      "metadata": {
        "id": "RJOgKBdyW-wK"
      }
    },
    {
      "cell_type": "markdown",
      "source": [
        "### 1. Write a program to reverse a string."
      ],
      "metadata": {
        "id": "fIe2CcidXTkS"
      }
    },
    {
      "cell_type": "code",
      "execution_count": null,
      "metadata": {
        "colab": {
          "base_uri": "https://localhost:8080/"
        },
        "id": "vR1RFwwLWJn6",
        "outputId": "a82dcfd6-61e1-4d96-929a-49254d67a9a8"
      },
      "outputs": [
        {
          "output_type": "stream",
          "name": "stdout",
          "text": [
            "Enter the String : Python\n",
            "Reversed String : nohtyP\n"
          ]
        }
      ],
      "source": [
        "string = input('Enter the String : ')\n",
        "reversed = string[::-1]\n",
        "print('Reversed String :',reversed)"
      ]
    },
    {
      "cell_type": "markdown",
      "source": [
        "### 2. Check if a string is a palindrome."
      ],
      "metadata": {
        "id": "Ob7iTE_KYFfV"
      }
    },
    {
      "cell_type": "code",
      "execution_count": null,
      "metadata": {
        "colab": {
          "base_uri": "https://localhost:8080/"
        },
        "outputId": "986391e9-41fa-4c0b-dea7-10f1a4589eae",
        "id": "81JPbZZsYFfd"
      },
      "outputs": [
        {
          "output_type": "stream",
          "name": "stdout",
          "text": [
            "Enter the String : malayalam\n",
            "malayalam is a palindrome string\n"
          ]
        }
      ],
      "source": [
        "string = input('Enter the String : ')\n",
        "# converting the whole string into uppercase characters\n",
        "temp = string.upper()\n",
        "# reversing the string\n",
        "reversed = temp[::-1]\n",
        "if reversed == temp:\n",
        "  print(string,'is a palindrome string')\n",
        "else:\n",
        "  print(string,'is not a palindrome string')"
      ]
    },
    {
      "cell_type": "markdown",
      "source": [
        "### 3. Convert a string to uppercase."
      ],
      "metadata": {
        "id": "vaLhMsVnZDvX"
      }
    },
    {
      "cell_type": "code",
      "execution_count": null,
      "metadata": {
        "colab": {
          "base_uri": "https://localhost:8080/"
        },
        "outputId": "5b5e4e23-9d1a-4d41-c215-b75078c72bfd",
        "id": "mnS5ER3PZDvj"
      },
      "outputs": [
        {
          "output_type": "stream",
          "name": "stdout",
          "text": [
            "Enter the String : assignment\n",
            "ASSIGNMENT\n"
          ]
        }
      ],
      "source": [
        "string = input('Enter the String : ')\n",
        "# converting the whole string into uppercase characters\n",
        "new_string = string.upper()\n",
        "print(new_string)"
      ]
    },
    {
      "cell_type": "markdown",
      "source": [
        "### 4. Convert a string to lowercase."
      ],
      "metadata": {
        "id": "rnnWWWxGZvDA"
      }
    },
    {
      "cell_type": "code",
      "execution_count": null,
      "metadata": {
        "colab": {
          "base_uri": "https://localhost:8080/"
        },
        "outputId": "c08be2dd-5894-41fa-d1e1-6f49c3a1f0fb",
        "id": "8RDszJPCZvDL"
      },
      "outputs": [
        {
          "output_type": "stream",
          "name": "stdout",
          "text": [
            "Enter the String : sTRIng PrOBLEMS\n",
            "string problems\n"
          ]
        }
      ],
      "source": [
        "string = input('Enter the String : ')\n",
        "# converting the whole string into lowercase characters\n",
        "new_string = string.lower()\n",
        "print(new_string)"
      ]
    },
    {
      "cell_type": "markdown",
      "source": [
        "### 5,6. Count the number of vowels and consonants in a string."
      ],
      "metadata": {
        "id": "CuxMcrI6aCT7"
      }
    },
    {
      "cell_type": "code",
      "execution_count": null,
      "metadata": {
        "colab": {
          "base_uri": "https://localhost:8080/"
        },
        "outputId": "c65dd873-68a2-4246-b033-185543a03a3e",
        "id": "LCos9GhuaCUD"
      },
      "outputs": [
        {
          "output_type": "stream",
          "name": "stdout",
          "text": [
            "Enter the String : what is a string?\n",
            "No of Vowels : 4\n",
            "No of Consonants : 9\n"
          ]
        }
      ],
      "source": [
        "string = input('Enter the String : ')\n",
        "string = string.upper()\n",
        "vowel_count = 0\n",
        "consonant_count = 0\n",
        "for char in string:\n",
        "  # checking if the char is a vowel\n",
        "  if char in 'AEIOU':\n",
        "    vowel_count = vowel_count + 1\n",
        "  # checking if character is alphabet and it will only if char is not a vowel.\n",
        "  # hence it increments when char is consonant but not when it is a special char\n",
        "  elif char.isalpha():\n",
        "    consonant_count = consonant_count + 1\n",
        "print('No of Vowels :',vowel_count)\n",
        "print('No of Consonants :',consonant_count)"
      ]
    },
    {
      "cell_type": "markdown",
      "source": [
        "### 7. Remove all whitespaces from a string."
      ],
      "metadata": {
        "id": "_fn6Hxs5deAb"
      }
    },
    {
      "cell_type": "code",
      "execution_count": null,
      "metadata": {
        "colab": {
          "base_uri": "https://localhost:8080/"
        },
        "outputId": "b14936fa-641a-4ce7-b0f1-618e188757d5",
        "id": "ivFafr_WdeA0"
      },
      "outputs": [
        {
          "output_type": "stream",
          "name": "stdout",
          "text": [
            "Enter the String : what is a string.\n",
            "whatisastring.\n"
          ]
        }
      ],
      "source": [
        "string = input('Enter the String : ')\n",
        "# using join over splitting the string is more efficient than relpace\n",
        "# as it takes into consideration multi-line strings also\n",
        "new_string = \"\".join(string.split())\n",
        "print(new_string)"
      ]
    },
    {
      "cell_type": "markdown",
      "source": [
        "### 8. Find the length of a string without using the `len()` function."
      ],
      "metadata": {
        "id": "2RScM2UQghWE"
      }
    },
    {
      "cell_type": "code",
      "execution_count": null,
      "metadata": {
        "colab": {
          "base_uri": "https://localhost:8080/"
        },
        "outputId": "20f01593-d94d-4cf6-8c72-2385d9793da7",
        "id": "zsHZc2HKghWP"
      },
      "outputs": [
        {
          "output_type": "stream",
          "name": "stdout",
          "text": [
            "Enter the String : practice is important\n",
            "Length of the String : 21\n"
          ]
        }
      ],
      "source": [
        "string = input('Enter the String : ')\n",
        "# using for loop to find the length\n",
        "count = 0\n",
        "# iterates untill all characters of the string are accessed\n",
        "for char in string:\n",
        "    count = count + 1\n",
        "print('Length of the String :',count)"
      ]
    },
    {
      "cell_type": "markdown",
      "source": [
        "### 9. Check if a string contains a specific word."
      ],
      "metadata": {
        "id": "Zvda0-EYiCLq"
      }
    },
    {
      "cell_type": "markdown",
      "source": [
        "There can be 2 sub-cases for the above question.\n",
        "\n",
        "\n",
        "1.   If the specific word is present in the string as a whole word\n",
        "2.   If the specific word is present in the string not necessarily as a whole word. It can also be a part of any word in the string.\n",
        "\n"
      ],
      "metadata": {
        "id": "p0LV9S3CoRm8"
      }
    },
    {
      "cell_type": "code",
      "execution_count": null,
      "metadata": {
        "colab": {
          "base_uri": "https://localhost:8080/"
        },
        "outputId": "3b617600-cee2-4e25-ac66-844293ca1432",
        "id": "A0h3aJk0iCLz"
      },
      "outputs": [
        {
          "output_type": "stream",
          "name": "stdout",
          "text": [
            "Enter the String : water is a necessity\n",
            "Enter the Word to be searched : water\n",
            "water is present in water is a necessity\n"
          ]
        }
      ],
      "source": [
        "string = input('Enter the String : ')\n",
        "word = input('Enter the Word to be searched : ')\n",
        "# using 'in' keyword to find if word is there in the string\n",
        "# 'split' is used just check if the whole word is present\n",
        "# 'ate' is not present in 'water is a necessity' but if we just use 'in' is will return True because ate is a substring in water but ate is not a specific word in the string\n",
        "if word in string.split():\n",
        "  print(word,'is present in',string)\n",
        "else:\n",
        "  print(word,'is not present in',string)"
      ]
    },
    {
      "cell_type": "code",
      "execution_count": null,
      "metadata": {
        "colab": {
          "base_uri": "https://localhost:8080/"
        },
        "outputId": "636c195d-d6bc-49eb-9b8d-61d95b04c09b",
        "id": "j-oEaVohn2K5"
      },
      "outputs": [
        {
          "output_type": "stream",
          "name": "stdout",
          "text": [
            "Enter the String : water is a necessity\n",
            "Enter the Word to be searched : ate\n",
            "ate is present in water is a necessity\n"
          ]
        }
      ],
      "source": [
        "string = input('Enter the String : ')\n",
        "word = input('Enter the Word to be searched : ')\n",
        "# using 'in' keyword to find if word is there in the string as a whole word or a part of a sub-word\n",
        "if word in string:\n",
        "  print(word,'is present in',string)\n",
        "else:\n",
        "  print(word,'is not present in',string)"
      ]
    },
    {
      "cell_type": "markdown",
      "source": [
        "### 10. Replace a word in a string with another word."
      ],
      "metadata": {
        "id": "wS7SpAxjRxHD"
      }
    },
    {
      "cell_type": "code",
      "execution_count": null,
      "metadata": {
        "id": "qEC4gEZeRxHE"
      },
      "outputs": [],
      "source": [
        "def replaceWord(string,word,new_word):\n",
        "  '''replaces all occurences of a specific word present in a string with another word\n",
        "\n",
        "  Parameters\n",
        "  string: main string to check if word is present\n",
        "  word: the word to be swapped from the string\n",
        "  new_word: the word taking place of the older word\n",
        "\n",
        "  Returns\n",
        "  the new string if the word is present, else prompts that string is not present\n",
        "  '''\n",
        "  # checking if word is present in the string\n",
        "  if word in string:\n",
        "      new_string = ''.join(string.replace(word,new_word))\n",
        "  else:\n",
        "    return f'{word} is not present in the string'\n",
        "  return new_string"
      ]
    },
    {
      "cell_type": "code",
      "source": [
        "replaceWord('air water air air','air','land')"
      ],
      "metadata": {
        "colab": {
          "base_uri": "https://localhost:8080/",
          "height": 35
        },
        "id": "hwdcT2p-ZD46",
        "outputId": "ea380747-09c5-49d2-9d9c-203f47b6e98c"
      },
      "execution_count": null,
      "outputs": [
        {
          "output_type": "execute_result",
          "data": {
            "text/plain": [
              "'land water land land'"
            ],
            "application/vnd.google.colaboratory.intrinsic+json": {
              "type": "string"
            }
          },
          "metadata": {},
          "execution_count": 13
        }
      ]
    },
    {
      "cell_type": "code",
      "source": [
        "replaceWord('air water air air','land','air')"
      ],
      "metadata": {
        "colab": {
          "base_uri": "https://localhost:8080/",
          "height": 35
        },
        "id": "o7EFXXFjbT-8",
        "outputId": "723d79f4-1a8b-48a9-90b2-912476989f82"
      },
      "execution_count": null,
      "outputs": [
        {
          "output_type": "execute_result",
          "data": {
            "text/plain": [
              "'land is not present in the string'"
            ],
            "application/vnd.google.colaboratory.intrinsic+json": {
              "type": "string"
            }
          },
          "metadata": {},
          "execution_count": 14
        }
      ]
    },
    {
      "cell_type": "markdown",
      "source": [
        "### 11. Count the occurrences of a word in a string."
      ],
      "metadata": {
        "id": "GAEK-WEQiMMW"
      }
    },
    {
      "cell_type": "code",
      "execution_count": null,
      "metadata": {
        "id": "XeLIR2vUiMMd"
      },
      "outputs": [],
      "source": [
        "def countWordOccurences(string,word):\n",
        "  '''find the no of occurences of a specific word in the given string\n",
        "\n",
        "  Parameters\n",
        "  string: main string\n",
        "  word: find the no of occurences in the string\n",
        "\n",
        "  Returns int\n",
        "  count: no of occurences of the word\n",
        "  '''\n",
        "  # checking if word is present in the string\n",
        "  words = string.split()\n",
        "  count = 0\n",
        "  for w in words:\n",
        "    if word == w:\n",
        "      count += 1\n",
        "  return count"
      ]
    },
    {
      "cell_type": "code",
      "source": [
        "countWordOccurences('air water air air','air')"
      ],
      "metadata": {
        "colab": {
          "base_uri": "https://localhost:8080/"
        },
        "outputId": "7af948fb-4e8f-4abc-b0af-61f5702167d8",
        "id": "7qqjEgHKiMMd"
      },
      "execution_count": null,
      "outputs": [
        {
          "output_type": "execute_result",
          "data": {
            "text/plain": [
              "3"
            ]
          },
          "metadata": {},
          "execution_count": 16
        }
      ]
    },
    {
      "cell_type": "code",
      "source": [
        "countWordOccurences('air water air air','land')"
      ],
      "metadata": {
        "colab": {
          "base_uri": "https://localhost:8080/"
        },
        "outputId": "356edbaf-71ed-406c-bea2-43e9529459e4",
        "id": "F6loG0_kiMMd"
      },
      "execution_count": null,
      "outputs": [
        {
          "output_type": "execute_result",
          "data": {
            "text/plain": [
              "0"
            ]
          },
          "metadata": {},
          "execution_count": 17
        }
      ]
    },
    {
      "cell_type": "markdown",
      "source": [
        "### 12. Find the first occurrence of a word in a string."
      ],
      "metadata": {
        "id": "ogEvuF5F7MQ0"
      }
    },
    {
      "cell_type": "code",
      "execution_count": null,
      "metadata": {
        "id": "cNMDsN-V7MQ7"
      },
      "outputs": [],
      "source": [
        "def firstWordOccurence(string,word):\n",
        "  '''find the first occurence of a specific word in the given string\n",
        "\n",
        "  Parameters\n",
        "  string: main string\n",
        "  word: substring\n",
        "\n",
        "  Returns int\n",
        "  index: index of the word\n",
        "  '''\n",
        "  # checking if word is present in the string\n",
        "  words = string.split()\n",
        "  index = -1\n",
        "  for i in range(len(words)):\n",
        "    if word == words[i]:\n",
        "      index = i\n",
        "      break\n",
        "  return index"
      ]
    },
    {
      "cell_type": "code",
      "source": [
        "firstWordOccurence('land water air','air')"
      ],
      "metadata": {
        "colab": {
          "base_uri": "https://localhost:8080/"
        },
        "outputId": "f7885986-82f8-432e-a2a6-c831344bf460",
        "id": "WejAsChY7MQ7"
      },
      "execution_count": null,
      "outputs": [
        {
          "output_type": "execute_result",
          "data": {
            "text/plain": [
              "2"
            ]
          },
          "metadata": {},
          "execution_count": 16
        }
      ]
    },
    {
      "cell_type": "code",
      "source": [
        "firstWordOccurence('air water air air','land')"
      ],
      "metadata": {
        "colab": {
          "base_uri": "https://localhost:8080/"
        },
        "outputId": "c15b6f4a-4e0c-4531-d7df-2d3f3191ae6b",
        "id": "BDHWfB287MQ8"
      },
      "execution_count": null,
      "outputs": [
        {
          "output_type": "execute_result",
          "data": {
            "text/plain": [
              "-1"
            ]
          },
          "metadata": {},
          "execution_count": 17
        }
      ]
    },
    {
      "cell_type": "markdown",
      "source": [
        "### 13. Find the last occurrence of a word in a string."
      ],
      "metadata": {
        "id": "k0_kBt-a-Nhn"
      }
    },
    {
      "cell_type": "code",
      "execution_count": null,
      "metadata": {
        "id": "WUdrCVrb-Nhu"
      },
      "outputs": [],
      "source": [
        "def lastWordOccurence(string,word):\n",
        "  '''find the last occurence of a specific word in the given string\n",
        "\n",
        "  Parameters\n",
        "  string: main string\n",
        "  word: substring\n",
        "\n",
        "  Returns int\n",
        "  index: index of the word\n",
        "  '''\n",
        "  # checking if word is present in the string\n",
        "  words = string.split()\n",
        "  index = -1\n",
        "  for i in range(len(words)):\n",
        "    if word == words[i]:\n",
        "      index = i\n",
        "  return index"
      ]
    },
    {
      "cell_type": "code",
      "source": [
        "lastWordOccurence('land water air air, air','air')"
      ],
      "metadata": {
        "colab": {
          "base_uri": "https://localhost:8080/"
        },
        "outputId": "08f5891f-da77-4525-b095-4ea6cd31c75e",
        "id": "KCdteeSw-Nhu"
      },
      "execution_count": null,
      "outputs": [
        {
          "output_type": "execute_result",
          "data": {
            "text/plain": [
              "4"
            ]
          },
          "metadata": {},
          "execution_count": 22
        }
      ]
    },
    {
      "cell_type": "code",
      "source": [
        "lastWordOccurence('air water air air','land')"
      ],
      "metadata": {
        "colab": {
          "base_uri": "https://localhost:8080/"
        },
        "outputId": "90e1c7c7-8d4c-45d3-de34-4fa661d42289",
        "id": "iTqxUUIJ-Nhu"
      },
      "execution_count": null,
      "outputs": [
        {
          "output_type": "execute_result",
          "data": {
            "text/plain": [
              "-1"
            ]
          },
          "metadata": {},
          "execution_count": 23
        }
      ]
    },
    {
      "cell_type": "markdown",
      "source": [
        "### 14. Split a string into a list of words."
      ],
      "metadata": {
        "id": "HVn1_FmY-OxD"
      }
    },
    {
      "cell_type": "code",
      "execution_count": null,
      "metadata": {
        "id": "T55_XL0k-OxE"
      },
      "outputs": [],
      "source": [
        "def splitString(string):\n",
        "  '''split a string into a list of words\n",
        "\n",
        "  Parameters\n",
        "  string: main string\n",
        "\n",
        "  Returns list\n",
        "  words: list of words\n",
        "  '''\n",
        "  # checking if word is present in the string\n",
        "  words = string.split()\n",
        "  return words"
      ]
    },
    {
      "cell_type": "code",
      "source": [
        "splitString('land water air')"
      ],
      "metadata": {
        "colab": {
          "base_uri": "https://localhost:8080/"
        },
        "outputId": "06f8f30f-71e5-4b6d-9126-a154a8f36409",
        "id": "6IkkwFiI-OxE"
      },
      "execution_count": null,
      "outputs": [
        {
          "output_type": "execute_result",
          "data": {
            "text/plain": [
              "['land', 'water', 'air']"
            ]
          },
          "metadata": {},
          "execution_count": 28
        }
      ]
    },
    {
      "cell_type": "code",
      "source": [
        "splitString('air water air air   land')"
      ],
      "metadata": {
        "colab": {
          "base_uri": "https://localhost:8080/"
        },
        "outputId": "7c96486d-1f79-483c-bd93-e0ae109fc3ec",
        "id": "zFLPNXOL-OxE"
      },
      "execution_count": null,
      "outputs": [
        {
          "output_type": "execute_result",
          "data": {
            "text/plain": [
              "['air', 'water', 'air', 'air', 'land']"
            ]
          },
          "metadata": {},
          "execution_count": 30
        }
      ]
    },
    {
      "cell_type": "markdown",
      "source": [
        "### 15. Join a list of words into a string."
      ],
      "metadata": {
        "id": "gqZe-aQ1-O7i"
      }
    },
    {
      "cell_type": "code",
      "execution_count": null,
      "metadata": {
        "id": "Hgkv0bJe-O7i"
      },
      "outputs": [],
      "source": [
        "def joinWords(words):\n",
        "  '''combine a list of words into a string\n",
        "\n",
        "  Parameters\n",
        "  words: a list of substrings\n",
        "\n",
        "  Returns string\n",
        "  string: one string\n",
        "  '''\n",
        "  # checking if word is present in the string\n",
        "  string = ' '.join(words)\n",
        "  return string"
      ]
    },
    {
      "cell_type": "code",
      "source": [
        "joinWords(['land', 'water', 'air'])"
      ],
      "metadata": {
        "colab": {
          "base_uri": "https://localhost:8080/",
          "height": 35
        },
        "outputId": "d2ee3b04-9cd4-41a5-f12f-98e750a397b1",
        "id": "hq4NBu7t-O7j"
      },
      "execution_count": null,
      "outputs": [
        {
          "output_type": "execute_result",
          "data": {
            "text/plain": [
              "'land water air'"
            ],
            "application/vnd.google.colaboratory.intrinsic+json": {
              "type": "string"
            }
          },
          "metadata": {},
          "execution_count": 32
        }
      ]
    },
    {
      "cell_type": "markdown",
      "source": [
        "### 16. Convert a string where words are separated by spaces to one where words are separated by underscores."
      ],
      "metadata": {
        "id": "_9jgf4ypCq3b"
      }
    },
    {
      "cell_type": "code",
      "execution_count": null,
      "metadata": {
        "id": "vMxzQSn_Cq3i"
      },
      "outputs": [],
      "source": [
        "def spacesToUnderscores(string):\n",
        "  '''converting spaces to underscores\n",
        "\n",
        "  Parameters\n",
        "  string: main string\n",
        "\n",
        "  Returns string\n",
        "  string: replaced spaces with underscores\n",
        "  '''\n",
        "  # checking if word is present in the string\n",
        "  new_string = '_'.join(string.split())\n",
        "  return new_string"
      ]
    },
    {
      "cell_type": "code",
      "source": [
        "spacesToUnderscores('land water air')"
      ],
      "metadata": {
        "colab": {
          "base_uri": "https://localhost:8080/",
          "height": 35
        },
        "outputId": "65a4ed41-e638-46f9-f0a7-8260e9f8c6a0",
        "id": "0YMhbhYxCq3j"
      },
      "execution_count": null,
      "outputs": [
        {
          "output_type": "execute_result",
          "data": {
            "text/plain": [
              "'land_water_air'"
            ],
            "application/vnd.google.colaboratory.intrinsic+json": {
              "type": "string"
            }
          },
          "metadata": {},
          "execution_count": 36
        }
      ]
    },
    {
      "cell_type": "markdown",
      "source": [
        "### 17. Check if a string starts with a specific word or phrase."
      ],
      "metadata": {
        "id": "7rlGysUbCrBS"
      }
    },
    {
      "cell_type": "code",
      "execution_count": null,
      "metadata": {
        "id": "s5-peby7CrBS"
      },
      "outputs": [],
      "source": [
        "def checkStartSubstring(string,substring):\n",
        "  '''checking if string starts with a substring\n",
        "\n",
        "  Parameters\n",
        "  string: main\n",
        "  substring: smaller string\n",
        "\n",
        "  Returns\n",
        "  bool value\n",
        "  '''\n",
        "  # checking if word is present in the string\n",
        "  l = len(substring)\n",
        "  if string[:l] != substring:\n",
        "    return False\n",
        "  return True"
      ]
    },
    {
      "cell_type": "code",
      "source": [
        "checkStartSubstring('I love programming','I love pro')"
      ],
      "metadata": {
        "colab": {
          "base_uri": "https://localhost:8080/"
        },
        "outputId": "a345585c-9ac8-48b2-ff6a-fb0174ad6d65",
        "id": "dYwT9qfMCrBT"
      },
      "execution_count": null,
      "outputs": [
        {
          "output_type": "execute_result",
          "data": {
            "text/plain": [
              "True"
            ]
          },
          "metadata": {},
          "execution_count": 20
        }
      ]
    },
    {
      "cell_type": "code",
      "source": [
        "checkStartSubstring('I love programming','I love coding')"
      ],
      "metadata": {
        "colab": {
          "base_uri": "https://localhost:8080/"
        },
        "outputId": "b6bc5402-60e7-4dd1-9c24-c1e1c81c7c1f",
        "id": "z44YUAlVArBM"
      },
      "execution_count": null,
      "outputs": [
        {
          "output_type": "execute_result",
          "data": {
            "text/plain": [
              "False"
            ]
          },
          "metadata": {},
          "execution_count": 18
        }
      ]
    },
    {
      "cell_type": "markdown",
      "source": [
        "### 18. Check if a string ends with a specific word or phrase."
      ],
      "metadata": {
        "id": "2WsKr3BiCrOj"
      }
    },
    {
      "cell_type": "code",
      "execution_count": null,
      "metadata": {
        "id": "6y_JX4U_CrOj"
      },
      "outputs": [],
      "source": [
        "def checkEndSubstring(string,substring):\n",
        "  '''check if a string ends with a specific substrinf\n",
        "\n",
        "  Parameters\n",
        "  string: main\n",
        "  substring: smaller string\n",
        "\n",
        "  Returns\n",
        "  bool value\n",
        "  '''\n",
        "  # checking if word is present in the string\n",
        "  l = len(substring)\n",
        "  if string[-l::] == substring:\n",
        "    return True\n",
        "  else:\n",
        "    return False"
      ]
    },
    {
      "cell_type": "code",
      "source": [
        "checkEndSubstring('sometimes, I like programming','I like programming')"
      ],
      "metadata": {
        "colab": {
          "base_uri": "https://localhost:8080/"
        },
        "outputId": "611796c3-1cf6-42b0-afaf-2a6b58477a8d",
        "id": "TE-vTYevCrOj"
      },
      "execution_count": null,
      "outputs": [
        {
          "output_type": "execute_result",
          "data": {
            "text/plain": [
              "True"
            ]
          },
          "metadata": {},
          "execution_count": 15
        }
      ]
    },
    {
      "cell_type": "code",
      "source": [
        "checkEndSubstring('sometimes, I like programming','I like coding')"
      ],
      "metadata": {
        "colab": {
          "base_uri": "https://localhost:8080/"
        },
        "outputId": "46a091cc-8327-44d3-f2ca-014c8c18e1ac",
        "id": "iX8XIvfeD15m"
      },
      "execution_count": null,
      "outputs": [
        {
          "output_type": "execute_result",
          "data": {
            "text/plain": [
              "False"
            ]
          },
          "metadata": {},
          "execution_count": 21
        }
      ]
    },
    {
      "cell_type": "markdown",
      "source": [
        "### 19. Convert a string to title case (e.g., \"hello world\" to \"Hello World\")."
      ],
      "metadata": {
        "id": "-qi5_phdCrZb"
      }
    },
    {
      "cell_type": "code",
      "execution_count": null,
      "metadata": {
        "id": "w1VseXEZCrZc"
      },
      "outputs": [],
      "source": [
        "def titleCase(string):\n",
        "  '''Convert a string to title case.\n",
        "\n",
        "  Parameters\n",
        "  string\n",
        "\n",
        "  Returns\n",
        "  string: changed into title case\n",
        "  '''\n",
        "  # using .title func to return titlecase string\n",
        "  return string.title()"
      ]
    },
    {
      "cell_type": "code",
      "source": [
        "titleCase('sometimes, i love programming.')"
      ],
      "metadata": {
        "colab": {
          "base_uri": "https://localhost:8080/"
        },
        "outputId": "2f6f14d7-f1da-43e6-c637-cb990946f845",
        "id": "SOmMySNkCrZc"
      },
      "execution_count": null,
      "outputs": [
        {
          "output_type": "execute_result",
          "data": {
            "text/plain": [
              "'Sometimes, I Love Programming.'"
            ],
            "application/vnd.google.colaboratory.intrinsic+json": {
              "type": "string"
            }
          },
          "metadata": {},
          "execution_count": 26
        }
      ]
    },
    {
      "cell_type": "markdown",
      "source": [
        "### 20. Find the longest word in a string."
      ],
      "metadata": {
        "id": "enurizyDFBHZ"
      }
    },
    {
      "cell_type": "code",
      "execution_count": null,
      "metadata": {
        "id": "4-P0KEciFBHg"
      },
      "outputs": [],
      "source": [
        "def longestWord(string):\n",
        "  '''find the longest word in the string.\n",
        "\n",
        "  Parameters\n",
        "  string\n",
        "\n",
        "  Returns string\n",
        "  word: longest word\n",
        "  '''\n",
        "  words = string.split()\n",
        "  max = 0\n",
        "  long_word = ''\n",
        "  for word in words:\n",
        "    word = word.replace(',','').replace('.','').replace('\"','').replace(\"'\",'')\n",
        "    if len(word) >= max:\n",
        "      long_word = word\n",
        "      max = len(word)\n",
        "  return long_word"
      ]
    },
    {
      "cell_type": "code",
      "source": [
        "longestWord('sometimes, i love programming.')"
      ],
      "metadata": {
        "colab": {
          "base_uri": "https://localhost:8080/",
          "height": 36
        },
        "outputId": "3cb9da8d-12b0-492a-c349-8d20159d3f38",
        "id": "_Cbz3PX1FBHg"
      },
      "execution_count": null,
      "outputs": [
        {
          "output_type": "execute_result",
          "data": {
            "text/plain": [
              "'programming'"
            ],
            "application/vnd.google.colaboratory.intrinsic+json": {
              "type": "string"
            }
          },
          "metadata": {},
          "execution_count": 48
        }
      ]
    },
    {
      "cell_type": "markdown",
      "source": [
        "### 21. Find the shortest word in a string."
      ],
      "metadata": {
        "id": "ufAveZOPFK6b"
      }
    },
    {
      "cell_type": "code",
      "execution_count": null,
      "metadata": {
        "id": "f8WBjrHEFK6m"
      },
      "outputs": [],
      "source": [
        "def shortWord(string):\n",
        "  '''find the shortest word in the string.\n",
        "\n",
        "  Parameters\n",
        "  string\n",
        "\n",
        "  Returns string\n",
        "  word: longest word\n",
        "  '''\n",
        "  words = string.split()\n",
        "  min = 1000\n",
        "  short_word = ''\n",
        "  for word in words:\n",
        "    word = word.replace(',','').replace('.','').replace('\"','').replace(\"'\",'')\n",
        "    if len(word) < min:\n",
        "      short_word = word\n",
        "      min = len(word)\n",
        "  return short_word"
      ]
    },
    {
      "cell_type": "code",
      "source": [
        "shortWord('sometimes, i love programming.')"
      ],
      "metadata": {
        "colab": {
          "base_uri": "https://localhost:8080/",
          "height": 36
        },
        "outputId": "7db23aaf-a99d-4a02-d11c-c724050d39af",
        "id": "QhUon_KrFK6m"
      },
      "execution_count": null,
      "outputs": [
        {
          "output_type": "execute_result",
          "data": {
            "text/plain": [
              "'i'"
            ],
            "application/vnd.google.colaboratory.intrinsic+json": {
              "type": "string"
            }
          },
          "metadata": {},
          "execution_count": 50
        }
      ]
    },
    {
      "cell_type": "markdown",
      "source": [
        "### 22. Reverse the order of words in a string."
      ],
      "metadata": {
        "id": "VQ6La0QrOl-O"
      }
    },
    {
      "cell_type": "code",
      "execution_count": null,
      "metadata": {
        "id": "k63uMJy1Ol-W"
      },
      "outputs": [],
      "source": [
        "def reverseWordOrder(string):\n",
        "  '''reverse the word order of the string\n",
        "\n",
        "  Parameters\n",
        "  string\n",
        "\n",
        "  Returns string\n",
        "  reversed_string\n",
        "  '''\n",
        "  # string = string.replace(',','').replace('.','')\n",
        "  words = string.split()\n",
        "  reversed_string = ' '.join(words[::-1])\n",
        "  return reversed_string"
      ]
    },
    {
      "cell_type": "code",
      "source": [
        "reverseWordOrder('sometimes, i love programming.')"
      ],
      "metadata": {
        "colab": {
          "base_uri": "https://localhost:8080/",
          "height": 36
        },
        "outputId": "0433901d-c5e2-451b-b5d5-b26579458354",
        "id": "-RbjiX12Ol-W"
      },
      "execution_count": null,
      "outputs": [
        {
          "output_type": "execute_result",
          "data": {
            "text/plain": [
              "'programming. love i sometimes,'"
            ],
            "application/vnd.google.colaboratory.intrinsic+json": {
              "type": "string"
            }
          },
          "metadata": {},
          "execution_count": 58
        }
      ]
    },
    {
      "cell_type": "markdown",
      "source": [
        "### 23. Check if a string is alphanumeric."
      ],
      "metadata": {
        "id": "4P77ZckoQdcq"
      }
    },
    {
      "cell_type": "code",
      "execution_count": null,
      "metadata": {
        "id": "aGrfOfNEQdcy"
      },
      "outputs": [],
      "source": [
        "def reverseWordOrder(string):\n",
        "  '''check if a string is alphanumeric\n",
        "\n",
        "  Parameters\n",
        "  string\n",
        "\n",
        "  Returns\n",
        "  bool value\n",
        "  '''\n",
        "  # string = string.replace(',','').replace('.','')\n",
        "  return string.isalnum()"
      ]
    },
    {
      "cell_type": "code",
      "source": [
        "reverseWordOrder('sometimes, i love programming.')"
      ],
      "metadata": {
        "colab": {
          "base_uri": "https://localhost:8080/"
        },
        "outputId": "4cfb6754-7109-4b73-a26c-07477a554cfe",
        "id": "EQJSOTV3Qdcy"
      },
      "execution_count": null,
      "outputs": [
        {
          "output_type": "execute_result",
          "data": {
            "text/plain": [
              "False"
            ]
          },
          "metadata": {},
          "execution_count": 60
        }
      ]
    },
    {
      "cell_type": "code",
      "source": [
        "reverseWordOrder('sometimesiloveprogramming')"
      ],
      "metadata": {
        "colab": {
          "base_uri": "https://localhost:8080/"
        },
        "id": "YrCzYI5MQ8pr",
        "outputId": "aab6c371-8da4-4217-df4f-dceabe9a6291"
      },
      "execution_count": null,
      "outputs": [
        {
          "output_type": "execute_result",
          "data": {
            "text/plain": [
              "True"
            ]
          },
          "metadata": {},
          "execution_count": 63
        }
      ]
    },
    {
      "cell_type": "markdown",
      "source": [
        "### 24. Extract all digits from a string."
      ],
      "metadata": {
        "id": "arK3DUkxRk7t"
      }
    },
    {
      "cell_type": "code",
      "execution_count": null,
      "metadata": {
        "id": "XZmn1531Rk7v"
      },
      "outputs": [],
      "source": [
        "def extractDigits(string):\n",
        "  '''extract all the digits from the string\n",
        "\n",
        "  Parameters\n",
        "  string\n",
        "\n",
        "  Returns\n",
        "  digits: all digits\n",
        "  '''\n",
        "  digits = ''\n",
        "  for char in string:\n",
        "    # using isdigit func. to check if each char is num or not\n",
        "    if char.isdigit():\n",
        "      digits += char\n",
        "  return digits"
      ]
    },
    {
      "cell_type": "code",
      "source": [
        "extractDigits('sometimes, i love programming.')"
      ],
      "metadata": {
        "colab": {
          "base_uri": "https://localhost:8080/",
          "height": 36
        },
        "outputId": "549b4487-30bf-49f0-8912-ddb13bfabdaf",
        "id": "FWxIAKgdRk7w"
      },
      "execution_count": null,
      "outputs": [
        {
          "output_type": "execute_result",
          "data": {
            "text/plain": [
              "''"
            ],
            "application/vnd.google.colaboratory.intrinsic+json": {
              "type": "string"
            }
          },
          "metadata": {},
          "execution_count": 80
        }
      ]
    },
    {
      "cell_type": "code",
      "source": [
        "extractDigits('22 Baker Street')"
      ],
      "metadata": {
        "colab": {
          "base_uri": "https://localhost:8080/",
          "height": 36
        },
        "outputId": "197f0c92-c05a-429b-af65-11bd2687429a",
        "id": "_16sH4t0Rk7x"
      },
      "execution_count": null,
      "outputs": [
        {
          "output_type": "execute_result",
          "data": {
            "text/plain": [
              "'22'"
            ],
            "application/vnd.google.colaboratory.intrinsic+json": {
              "type": "string"
            }
          },
          "metadata": {},
          "execution_count": 81
        }
      ]
    },
    {
      "cell_type": "markdown",
      "source": [
        "### 25. Extract all alphabets from a string."
      ],
      "metadata": {
        "id": "4DSc9BANRlCY"
      }
    },
    {
      "cell_type": "code",
      "execution_count": null,
      "metadata": {
        "id": "BXX4FQx2RlCY"
      },
      "outputs": [],
      "source": [
        "def extractAlpha(string):\n",
        "  '''extract all the digits from the string\n",
        "\n",
        "  Parameters\n",
        "  string\n",
        "\n",
        "  Returns\n",
        "  digits: all digits\n",
        "  '''\n",
        "  alpha = ''\n",
        "  for char in string:\n",
        "    # using isdigit func. to check if each char is alphabet or not\n",
        "    if char.isalpha():\n",
        "      alpha += char\n",
        "  return alpha"
      ]
    },
    {
      "cell_type": "code",
      "source": [
        "extractAlpha('pwskills12 231')"
      ],
      "metadata": {
        "colab": {
          "base_uri": "https://localhost:8080/",
          "height": 36
        },
        "outputId": "6b2f7e4e-0815-4bdb-c097-a9f61d102f72",
        "id": "q_qmxZpkRlCY"
      },
      "execution_count": null,
      "outputs": [
        {
          "output_type": "execute_result",
          "data": {
            "text/plain": [
              "'pwskills'"
            ],
            "application/vnd.google.colaboratory.intrinsic+json": {
              "type": "string"
            }
          },
          "metadata": {},
          "execution_count": 90
        }
      ]
    },
    {
      "cell_type": "markdown",
      "source": [
        "### 26. Count the number of uppercase letters in a string."
      ],
      "metadata": {
        "id": "B8C5Y2I4RlHh"
      }
    },
    {
      "cell_type": "code",
      "execution_count": null,
      "metadata": {
        "id": "SzSeJEQxRlHl"
      },
      "outputs": [],
      "source": [
        "def countUpper(string):\n",
        "  '''count the number of uppercase letters\n",
        "\n",
        "  Parameters\n",
        "  string\n",
        "\n",
        "  Returns\n",
        "  count: int value\n",
        "  '''\n",
        "  # using isupper to check if char is a uppercase letter and then using sum function to add all 1s [list comprehension]\n",
        "  count = sum(1 for char in string if char.isupper())\n",
        "  return count"
      ]
    },
    {
      "cell_type": "code",
      "source": [
        "countUpper('sometimes, i love programming.')"
      ],
      "metadata": {
        "colab": {
          "base_uri": "https://localhost:8080/"
        },
        "outputId": "db0e9e01-66b6-4504-fdb0-9103ce5ef090",
        "id": "dI6e67cGRlHl"
      },
      "execution_count": null,
      "outputs": [
        {
          "output_type": "execute_result",
          "data": {
            "text/plain": [
              "0"
            ]
          },
          "metadata": {},
          "execution_count": 102
        }
      ]
    },
    {
      "cell_type": "code",
      "source": [
        "countUpper('Sometimes, I love PrOGRAMMing.')"
      ],
      "metadata": {
        "colab": {
          "base_uri": "https://localhost:8080/"
        },
        "outputId": "866d6225-89d9-4838-dfe2-a1b1f637b4e6",
        "id": "PJIkThoQRlHl"
      },
      "execution_count": null,
      "outputs": [
        {
          "output_type": "execute_result",
          "data": {
            "text/plain": [
              "9"
            ]
          },
          "metadata": {},
          "execution_count": 103
        }
      ]
    },
    {
      "cell_type": "markdown",
      "source": [
        "### 27. Count the number of lowercase letters in a string."
      ],
      "metadata": {
        "id": "zirmkf3yRleY"
      }
    },
    {
      "cell_type": "code",
      "execution_count": null,
      "metadata": {
        "id": "0XcYVqN6RleY"
      },
      "outputs": [],
      "source": [
        "def countLower(string):\n",
        "  '''count the number of lowercase letters\n",
        "\n",
        "  Parameters\n",
        "  string\n",
        "\n",
        "  Returns\n",
        "  count: int value\n",
        "  '''\n",
        "  # using islower to check if char is a lower case letter and then using sum function to add all 1s [list comprehension]\n",
        "  count = sum(1 for char in string if char.islower())\n",
        "  return count"
      ]
    },
    {
      "cell_type": "code",
      "source": [
        "countLower('SOMETIMES .')"
      ],
      "metadata": {
        "colab": {
          "base_uri": "https://localhost:8080/"
        },
        "outputId": "28627fdc-bdb1-43c3-9940-c099f640a14f",
        "id": "O27hXlo0RleY"
      },
      "execution_count": null,
      "outputs": [
        {
          "output_type": "execute_result",
          "data": {
            "text/plain": [
              "0"
            ]
          },
          "metadata": {},
          "execution_count": 110
        }
      ]
    },
    {
      "cell_type": "code",
      "source": [
        "countLower('Sometimes, I love PrOGRAMMing.')"
      ],
      "metadata": {
        "colab": {
          "base_uri": "https://localhost:8080/"
        },
        "outputId": "afa3849d-209f-4ce0-a069-a7a8dcd01945",
        "id": "oHkJtiRrRleZ"
      },
      "execution_count": null,
      "outputs": [
        {
          "output_type": "execute_result",
          "data": {
            "text/plain": [
              "16"
            ]
          },
          "metadata": {},
          "execution_count": 107
        }
      ]
    },
    {
      "cell_type": "markdown",
      "source": [
        "### 28. Swap the case of each character in a string."
      ],
      "metadata": {
        "id": "zJ24Jj3TZGVz"
      }
    },
    {
      "cell_type": "code",
      "execution_count": null,
      "metadata": {
        "id": "zWrP63qNZGWK"
      },
      "outputs": [],
      "source": [
        "def swapCase(string):\n",
        "  '''count the number of lowercase letters\n",
        "\n",
        "  Parameters\n",
        "  string\n",
        "\n",
        "  Returns\n",
        "  string: with swapped case letters\n",
        "  '''\n",
        "\n",
        "  return string.swapcase()"
      ]
    },
    {
      "cell_type": "code",
      "source": [
        "swapCase('SOMETIMES .')"
      ],
      "metadata": {
        "colab": {
          "base_uri": "https://localhost:8080/",
          "height": 36
        },
        "outputId": "4d688ea8-d0ac-4c3b-9dad-5813e1a76f75",
        "id": "Th_HLNsHZGWK"
      },
      "execution_count": null,
      "outputs": [
        {
          "output_type": "execute_result",
          "data": {
            "text/plain": [
              "'sometimes .'"
            ],
            "application/vnd.google.colaboratory.intrinsic+json": {
              "type": "string"
            }
          },
          "metadata": {},
          "execution_count": 112
        }
      ]
    },
    {
      "cell_type": "code",
      "source": [
        "swapCase('Sometimes, I love PrOGRAMMing.')"
      ],
      "metadata": {
        "colab": {
          "base_uri": "https://localhost:8080/",
          "height": 36
        },
        "outputId": "f8baa8f0-4b88-48ef-a15f-c0dcf48a1fc3",
        "id": "Vo-vAJrlZGWL"
      },
      "execution_count": null,
      "outputs": [
        {
          "output_type": "execute_result",
          "data": {
            "text/plain": [
              "'sOMETIMES, i LOVE pRogrammING.'"
            ],
            "application/vnd.google.colaboratory.intrinsic+json": {
              "type": "string"
            }
          },
          "metadata": {},
          "execution_count": 113
        }
      ]
    },
    {
      "cell_type": "markdown",
      "source": [
        "### 29. Remove a specific word from a string."
      ],
      "metadata": {
        "id": "6xDCRmKBZGhC"
      }
    },
    {
      "cell_type": "code",
      "execution_count": null,
      "metadata": {
        "id": "wvs9h1beZGhD"
      },
      "outputs": [],
      "source": [
        "def removeWord(string,word):\n",
        "  '''remove a specific word from string\n",
        "\n",
        "  Parameters\n",
        "  string\n",
        "\n",
        "  Returns\n",
        "  new_string:\n",
        "  '''\n",
        "  words = string.split()\n",
        "  while word in words:\n",
        "    words.remove(word)\n",
        "  new_string = ' '.join(words)\n",
        "  return new_string"
      ]
    },
    {
      "cell_type": "code",
      "source": [
        "removeWord('air water air air','air')"
      ],
      "metadata": {
        "colab": {
          "base_uri": "https://localhost:8080/",
          "height": 36
        },
        "outputId": "b3357dae-ece7-4ab0-9784-af7e8204a8ec",
        "id": "_MIsuAmbZGhD"
      },
      "execution_count": null,
      "outputs": [
        {
          "output_type": "execute_result",
          "data": {
            "text/plain": [
              "'water'"
            ],
            "application/vnd.google.colaboratory.intrinsic+json": {
              "type": "string"
            }
          },
          "metadata": {},
          "execution_count": 133
        }
      ]
    },
    {
      "cell_type": "code",
      "source": [
        "removeWord('air airbone','air')"
      ],
      "metadata": {
        "colab": {
          "base_uri": "https://localhost:8080/",
          "height": 36
        },
        "outputId": "93a9a085-7e6b-415b-8315-120d777281e5",
        "id": "pXiSaHqJZGhD"
      },
      "execution_count": null,
      "outputs": [
        {
          "output_type": "execute_result",
          "data": {
            "text/plain": [
              "'airbone'"
            ],
            "application/vnd.google.colaboratory.intrinsic+json": {
              "type": "string"
            }
          },
          "metadata": {},
          "execution_count": 136
        }
      ]
    },
    {
      "cell_type": "markdown",
      "source": [
        "### 30. Check if a string is a valid email address."
      ],
      "metadata": {
        "id": "PMKbVjheZG8G"
      }
    },
    {
      "cell_type": "code",
      "execution_count": null,
      "metadata": {
        "id": "LlxJJUxpZG8H"
      },
      "outputs": [],
      "source": [
        "import re\n",
        "def checkEmail(email):\n",
        "  '''count the number of lowercase letters\n",
        "\n",
        "  Parameters\n",
        "  string\n",
        "\n",
        "  Returns\n",
        "  count: int value\n",
        "  '''\n",
        "  # using islower to check if char is a lower case letter and then using sum function to add all 1s [list comprehension]\n",
        "  regex = r'\\b[A-Za-z0-9._]+@[A-Za-z0-9.-]+\\.[A-Z|a-z]{2,7}\\b'\n",
        "  if(re.fullmatch(regex, email)):\n",
        "    return True\n",
        "  else:\n",
        "    return False"
      ]
    },
    {
      "cell_type": "code",
      "source": [
        "checkEmail('asd21asa_an@gmail.com')"
      ],
      "metadata": {
        "colab": {
          "base_uri": "https://localhost:8080/"
        },
        "outputId": "759063c5-fdcc-4442-adef-05df6906734d",
        "id": "PMlf0VPaZG8H"
      },
      "execution_count": null,
      "outputs": [
        {
          "output_type": "execute_result",
          "data": {
            "text/plain": [
              "True"
            ]
          },
          "metadata": {},
          "execution_count": 17
        }
      ]
    },
    {
      "cell_type": "code",
      "source": [
        "checkEmail('sa-.jhn@g12mail.com')"
      ],
      "metadata": {
        "colab": {
          "base_uri": "https://localhost:8080/"
        },
        "outputId": "ce822d62-a21f-4d7d-ea3c-da5541952964",
        "id": "5vHH1qjMZG8H"
      },
      "execution_count": null,
      "outputs": [
        {
          "output_type": "execute_result",
          "data": {
            "text/plain": [
              "False"
            ]
          },
          "metadata": {},
          "execution_count": 18
        }
      ]
    },
    {
      "cell_type": "markdown",
      "source": [
        "### 31. Extract the username from an email address string."
      ],
      "metadata": {
        "id": "t_T1oWcCSaxc"
      }
    },
    {
      "cell_type": "code",
      "execution_count": null,
      "metadata": {
        "id": "-L8rMpWgSaxm"
      },
      "outputs": [],
      "source": [
        "def extractUsername(email):\n",
        "  '''extract username from the email\n",
        "\n",
        "  Parameters\n",
        "  email: valid email id\n",
        "\n",
        "  Returns\n",
        "  username: str value\n",
        "  '''\n",
        "  username = email.split(\"@\")[0]\n",
        "  return username"
      ]
    },
    {
      "cell_type": "code",
      "source": [
        "extractUsername('asd21asa_an@gmail.com')"
      ],
      "metadata": {
        "colab": {
          "base_uri": "https://localhost:8080/",
          "height": 36
        },
        "outputId": "5251d8c5-2fad-4c16-dea4-0e080f6e9a8e",
        "id": "MAA4-seuSaxn"
      },
      "execution_count": null,
      "outputs": [
        {
          "output_type": "execute_result",
          "data": {
            "text/plain": [
              "'asd21asa_an'"
            ],
            "application/vnd.google.colaboratory.intrinsic+json": {
              "type": "string"
            }
          },
          "metadata": {},
          "execution_count": 27
        }
      ]
    },
    {
      "cell_type": "code",
      "source": [
        "extractUsername('jasJ_ab12ok@hotmail.in')"
      ],
      "metadata": {
        "colab": {
          "base_uri": "https://localhost:8080/",
          "height": 36
        },
        "outputId": "c2118419-57ca-4a6c-f0e7-c40727b4d59e",
        "id": "81g19ttrSaxn"
      },
      "execution_count": null,
      "outputs": [
        {
          "output_type": "execute_result",
          "data": {
            "text/plain": [
              "'jasJ_ab12ok'"
            ],
            "application/vnd.google.colaboratory.intrinsic+json": {
              "type": "string"
            }
          },
          "metadata": {},
          "execution_count": 30
        }
      ]
    },
    {
      "cell_type": "markdown",
      "source": [
        "### 32. Extract the domain name from an email address string."
      ],
      "metadata": {
        "id": "8ruAAcDLSeVX"
      }
    },
    {
      "cell_type": "code",
      "execution_count": null,
      "metadata": {
        "id": "yVoUD7tuSeVf"
      },
      "outputs": [],
      "source": [
        "def extractDomain(email):\n",
        "  '''extract the domain name from the email id\n",
        "\n",
        "  Parameters\n",
        "  email: valid email id\n",
        "\n",
        "  Returns\n",
        "  domain: str value\n",
        "  '''\n",
        "  # using .split to extact the email domain name\n",
        "  domain = email.split('@')[1]\n",
        "  return domain"
      ]
    },
    {
      "cell_type": "code",
      "source": [
        "extractDomain('asd21asa_an@gmail.com')"
      ],
      "metadata": {
        "colab": {
          "base_uri": "https://localhost:8080/",
          "height": 36
        },
        "outputId": "b283213c-f235-41c6-ba51-a35fca04423f",
        "id": "LalPigD2SeVf"
      },
      "execution_count": null,
      "outputs": [
        {
          "output_type": "execute_result",
          "data": {
            "text/plain": [
              "'gmail.com'"
            ],
            "application/vnd.google.colaboratory.intrinsic+json": {
              "type": "string"
            }
          },
          "metadata": {},
          "execution_count": 36
        }
      ]
    },
    {
      "cell_type": "code",
      "source": [
        "extractDomain('sajhn@hotmail.in')"
      ],
      "metadata": {
        "colab": {
          "base_uri": "https://localhost:8080/",
          "height": 36
        },
        "outputId": "1b00ad07-fd01-459d-f5e7-623fd1985403",
        "id": "BsT6O_U3SeVf"
      },
      "execution_count": null,
      "outputs": [
        {
          "output_type": "execute_result",
          "data": {
            "text/plain": [
              "'hotmail.in'"
            ],
            "application/vnd.google.colaboratory.intrinsic+json": {
              "type": "string"
            }
          },
          "metadata": {},
          "execution_count": 37
        }
      ]
    },
    {
      "cell_type": "markdown",
      "source": [
        "### 33. Replace multiple spaces in a string with a single space."
      ],
      "metadata": {
        "id": "RShd2jtZSeZv"
      }
    },
    {
      "cell_type": "code",
      "execution_count": null,
      "metadata": {
        "id": "Pjlg7sYISeZv"
      },
      "outputs": [],
      "source": [
        "def replaceMultipleSpaces(string):\n",
        "  ''' replace multiple spaces by a single space\n",
        "\n",
        "  Parameters\n",
        "  string\n",
        "\n",
        "  Returns\n",
        "  new_string: str value\n",
        "  '''\n",
        "  new_string = \" \".join(string.split())\n",
        "  return new_string"
      ]
    },
    {
      "cell_type": "code",
      "source": [
        "replaceMultipleSpaces('mail   abc          apple')"
      ],
      "metadata": {
        "colab": {
          "base_uri": "https://localhost:8080/",
          "height": 36
        },
        "outputId": "05bd1cbb-d71c-400b-dacc-4089117726a8",
        "id": "oKXOs5r8SeZw"
      },
      "execution_count": null,
      "outputs": [
        {
          "output_type": "execute_result",
          "data": {
            "text/plain": [
              "'mail abc apple'"
            ],
            "application/vnd.google.colaboratory.intrinsic+json": {
              "type": "string"
            }
          },
          "metadata": {},
          "execution_count": 40
        }
      ]
    },
    {
      "cell_type": "markdown",
      "source": [
        "### 34. Check if a string is a valid URL."
      ],
      "metadata": {
        "id": "uqlPveJ1Seeb"
      }
    },
    {
      "cell_type": "code",
      "execution_count": null,
      "metadata": {
        "id": "6cM7BjnHSeeb"
      },
      "outputs": [],
      "source": [
        "from urllib.parse import urlparse\n",
        "def validURL(url):\n",
        "  '''checking for a valid url\n",
        "\n",
        "  Parameters\n",
        "  url\n",
        "\n",
        "  Returns\n",
        "  bool value\n",
        "  '''\n",
        "  try:\n",
        "    parse = urlparse(url)\n",
        "    return all([parse.scheme,parse.netloc])\n",
        "  except ValueError:\n",
        "    return False"
      ]
    },
    {
      "cell_type": "code",
      "source": [
        "validURL('https://colab.research.google.com/drive/1PEiBoZc4lTsr8-YechpWRXABx_ZaezYL?authuser=0#scrollTo=7Ni57V7kSeec')"
      ],
      "metadata": {
        "colab": {
          "base_uri": "https://localhost:8080/"
        },
        "outputId": "a770117c-fbdd-4010-c40f-377ce4efce03",
        "id": "7Ni57V7kSeec"
      },
      "execution_count": null,
      "outputs": [
        {
          "output_type": "execute_result",
          "data": {
            "text/plain": [
              "True"
            ]
          },
          "metadata": {},
          "execution_count": 53
        }
      ]
    },
    {
      "cell_type": "code",
      "source": [
        "validURL('sa-.jhn@g12mail.com')"
      ],
      "metadata": {
        "colab": {
          "base_uri": "https://localhost:8080/"
        },
        "outputId": "6934e598-e72d-4ac8-fed0-d39dece0adba",
        "id": "XRGGjXonSeec"
      },
      "execution_count": null,
      "outputs": [
        {
          "output_type": "execute_result",
          "data": {
            "text/plain": [
              "False"
            ]
          },
          "metadata": {},
          "execution_count": 54
        }
      ]
    },
    {
      "cell_type": "markdown",
      "source": [
        "### 35. Extract the protocol (http or https) from a URL string."
      ],
      "metadata": {
        "id": "ddg2r5p4SeiR"
      }
    },
    {
      "cell_type": "code",
      "execution_count": null,
      "metadata": {
        "id": "xL5psZyvSeiR"
      },
      "outputs": [],
      "source": [
        "def getProtocol(url):\n",
        "  '''fetch the url protocol from the string\n",
        "\n",
        "  Parameters\n",
        "  url\n",
        "\n",
        "  Returns\n",
        "  protocol: url protocol, if there\n",
        "  '''\n",
        "  index = url.find('://')\n",
        "  if index != -1:\n",
        "    return url[:index]\n",
        "  return \"N/A\""
      ]
    },
    {
      "cell_type": "code",
      "source": [
        "getProtocol('ftp:/ftp.example.com')"
      ],
      "metadata": {
        "colab": {
          "base_uri": "https://localhost:8080/",
          "height": 36
        },
        "outputId": "2dbfc083-fb15-4398-9121-951aaa2f179b",
        "id": "aTQqmuKjSeiR"
      },
      "execution_count": null,
      "outputs": [
        {
          "output_type": "execute_result",
          "data": {
            "text/plain": [
              "'N/A'"
            ],
            "application/vnd.google.colaboratory.intrinsic+json": {
              "type": "string"
            }
          },
          "metadata": {},
          "execution_count": 81
        }
      ]
    },
    {
      "cell_type": "code",
      "source": [
        "getProtocol('https://colab.research.google.com/drive/1PEiBoZc4lTsr8-YechpWRXABx_ZaezYL?authuser=0#scrollTo=aTQqmuKjSeiR')"
      ],
      "metadata": {
        "colab": {
          "base_uri": "https://localhost:8080/",
          "height": 36
        },
        "outputId": "f1001f6c-fb39-41d2-e139-8aa8a287c4dd",
        "id": "K08rXZVDSeiS"
      },
      "execution_count": null,
      "outputs": [
        {
          "output_type": "execute_result",
          "data": {
            "text/plain": [
              "'https'"
            ],
            "application/vnd.google.colaboratory.intrinsic+json": {
              "type": "string"
            }
          },
          "metadata": {},
          "execution_count": 83
        }
      ]
    },
    {
      "cell_type": "markdown",
      "source": [
        "### 36. Find the frequency of each character in a string."
      ],
      "metadata": {
        "id": "ig4Lhn2zSemW"
      }
    },
    {
      "cell_type": "code",
      "execution_count": null,
      "metadata": {
        "id": "_XXQv5fbSemX"
      },
      "outputs": [],
      "source": [
        "def charFrequency(string):\n",
        "  '''frequency of each character\n",
        "\n",
        "  Parameters\n",
        "  string\n",
        "\n",
        "  Returns\n",
        "  dict value\n",
        "  '''\n",
        "  freq_dict = {}\n",
        "  string = string.lower()\n",
        "  for i in string:\n",
        "    if i in freq_dict:\n",
        "      freq_dict[i] += 1\n",
        "    else:\n",
        "      freq_dict[i] = 1\n",
        "  return freq_dict"
      ]
    },
    {
      "cell_type": "code",
      "source": [
        "charFrequency('asd21asa_an@gmail.com')"
      ],
      "metadata": {
        "colab": {
          "base_uri": "https://localhost:8080/"
        },
        "outputId": "7270e725-1a6e-44fb-bfc9-f930dc94b92a",
        "id": "n7KiM6GmSemY"
      },
      "execution_count": null,
      "outputs": [
        {
          "output_type": "execute_result",
          "data": {
            "text/plain": [
              "{'a': 5,\n",
              " 's': 2,\n",
              " 'd': 1,\n",
              " '2': 1,\n",
              " '1': 1,\n",
              " '_': 1,\n",
              " 'n': 1,\n",
              " '@': 1,\n",
              " 'g': 1,\n",
              " 'm': 2,\n",
              " 'i': 1,\n",
              " 'l': 1,\n",
              " '.': 1,\n",
              " 'c': 1,\n",
              " 'o': 1}"
            ]
          },
          "metadata": {},
          "execution_count": 6
        }
      ]
    },
    {
      "cell_type": "code",
      "source": [
        "charFrequency('PW Skills Strings')"
      ],
      "metadata": {
        "colab": {
          "base_uri": "https://localhost:8080/"
        },
        "outputId": "a4d1ea2f-b410-4675-8b40-6acdd335e5e3",
        "id": "hanBi0MqSemZ"
      },
      "execution_count": null,
      "outputs": [
        {
          "output_type": "execute_result",
          "data": {
            "text/plain": [
              "{'p': 1,\n",
              " 'w': 1,\n",
              " ' ': 2,\n",
              " 's': 4,\n",
              " 'k': 1,\n",
              " 'i': 2,\n",
              " 'l': 2,\n",
              " 't': 1,\n",
              " 'r': 1,\n",
              " 'n': 1,\n",
              " 'g': 1}"
            ]
          },
          "metadata": {},
          "execution_count": 7
        }
      ]
    },
    {
      "cell_type": "markdown",
      "source": [
        "### 37. Remove all punctuation from a string."
      ],
      "metadata": {
        "id": "cp-9Zh1NkCC0"
      }
    },
    {
      "cell_type": "code",
      "execution_count": null,
      "metadata": {
        "id": "h4V_z5EgkCC2"
      },
      "outputs": [],
      "source": [
        "import string as st\n",
        "def removePunctuations(string):\n",
        "  '''remove all punctuations\n",
        "\n",
        "  Parameters\n",
        "  string\n",
        "\n",
        "  Returns\n",
        "  new_string: string without punctuations\n",
        "  '''\n",
        "  new_string = ''\n",
        "  for char in string:\n",
        "    if char not in st.punctuation:\n",
        "      new_string += char\n",
        "  return new_string"
      ]
    },
    {
      "cell_type": "code",
      "source": [
        "removePunctuations('asd21asa_an@gmail.com')"
      ],
      "metadata": {
        "colab": {
          "base_uri": "https://localhost:8080/",
          "height": 36
        },
        "outputId": "129ae586-93e0-41c9-be5f-0a0d938884cf",
        "id": "irbrV_YYkCC3"
      },
      "execution_count": null,
      "outputs": [
        {
          "output_type": "execute_result",
          "data": {
            "text/plain": [
              "'asd21asaangmailcom'"
            ],
            "application/vnd.google.colaboratory.intrinsic+json": {
              "type": "string"
            }
          },
          "metadata": {},
          "execution_count": 13
        }
      ]
    },
    {
      "cell_type": "markdown",
      "source": [
        "### 38. Check if a string contains only digits."
      ],
      "metadata": {
        "id": "1Qyt9PEflHCG"
      }
    },
    {
      "cell_type": "code",
      "execution_count": null,
      "metadata": {
        "id": "INpGE-68lHCd"
      },
      "outputs": [],
      "source": [
        "def checkDigits(string):\n",
        "  '''check if sting only contains digits\n",
        "\n",
        "  Parameters\n",
        "  string\n",
        "\n",
        "  Returns\n",
        "  bool value\n",
        "  '''\n",
        "  if string.isdigit():\n",
        "    return True\n",
        "  else:\n",
        "    return False"
      ]
    },
    {
      "cell_type": "code",
      "source": [
        "checkDigits('asd21asa_an@gmail.com')"
      ],
      "metadata": {
        "colab": {
          "base_uri": "https://localhost:8080/"
        },
        "outputId": "73d6bbf7-6aed-4613-9ef7-18cd0af37e0b",
        "id": "_-Ay2R0ClHCd"
      },
      "execution_count": null,
      "outputs": [
        {
          "output_type": "execute_result",
          "data": {
            "text/plain": [
              "False"
            ]
          },
          "metadata": {},
          "execution_count": 15
        }
      ]
    },
    {
      "cell_type": "code",
      "source": [
        "checkDigits('12311021')"
      ],
      "metadata": {
        "colab": {
          "base_uri": "https://localhost:8080/"
        },
        "outputId": "e1e661e8-2b4a-474c-c286-b624498d842b",
        "id": "NgMTFzfxlHCe"
      },
      "execution_count": null,
      "outputs": [
        {
          "output_type": "execute_result",
          "data": {
            "text/plain": [
              "True"
            ]
          },
          "metadata": {},
          "execution_count": 17
        }
      ]
    },
    {
      "cell_type": "markdown",
      "source": [
        "### 39. Check if a string contains only alphabets."
      ],
      "metadata": {
        "id": "arFIu2sGlHWh"
      }
    },
    {
      "cell_type": "code",
      "execution_count": null,
      "metadata": {
        "id": "Sftt3wxklHWh"
      },
      "outputs": [],
      "source": [
        "def checkAlpha(string):\n",
        "  '''check if sting only contains alphabets\n",
        "\n",
        "  Parameters\n",
        "  string\n",
        "\n",
        "  Returns\n",
        "  bool value\n",
        "  '''\n",
        "  # isaplha() check if string only contains alphabets\n",
        "  if string.isalpha():\n",
        "    return True\n",
        "  else:\n",
        "    return False"
      ]
    },
    {
      "cell_type": "code",
      "source": [
        "checkAlpha('asd21asa_an@gmail.com')"
      ],
      "metadata": {
        "colab": {
          "base_uri": "https://localhost:8080/"
        },
        "outputId": "539361a1-9062-4836-80a2-a18462b78480",
        "id": "PlMUpYRalHWi"
      },
      "execution_count": null,
      "outputs": [
        {
          "output_type": "execute_result",
          "data": {
            "text/plain": [
              "False"
            ]
          },
          "metadata": {},
          "execution_count": 26
        }
      ]
    },
    {
      "cell_type": "code",
      "source": [
        "checkAlpha('ABCDEFG')"
      ],
      "metadata": {
        "colab": {
          "base_uri": "https://localhost:8080/"
        },
        "outputId": "5c1b136f-114f-47a1-e4f5-4fafc2844918",
        "id": "JZiiHD6NlHWi"
      },
      "execution_count": null,
      "outputs": [
        {
          "output_type": "execute_result",
          "data": {
            "text/plain": [
              "True"
            ]
          },
          "metadata": {},
          "execution_count": 27
        }
      ]
    },
    {
      "cell_type": "markdown",
      "source": [
        "### 40. Convert a string to a list of characters."
      ],
      "metadata": {
        "id": "xgBZtlFflHgi"
      }
    },
    {
      "cell_type": "code",
      "execution_count": null,
      "metadata": {
        "id": "KkySoD7olHgi"
      },
      "outputs": [],
      "source": [
        "def listOfChars(string):\n",
        "  '''convert string to list of chars\n",
        "\n",
        "  Parameters\n",
        "  string\n",
        "\n",
        "  Returns\n",
        "  list\n",
        "  '''\n",
        "  # using list function\n",
        "  list_char = list(string)\n",
        "  return list_char"
      ]
    },
    {
      "cell_type": "code",
      "source": [
        "listOfChars('PW Skills')"
      ],
      "metadata": {
        "colab": {
          "base_uri": "https://localhost:8080/"
        },
        "outputId": "1da6c57b-e31a-46c9-f557-0d54815b0a69",
        "id": "NlyhP7n7lHgi"
      },
      "execution_count": null,
      "outputs": [
        {
          "output_type": "execute_result",
          "data": {
            "text/plain": [
              "['P', 'W', ' ', 'S', 'k', 'i', 'l', 'l', 's']"
            ]
          },
          "metadata": {},
          "execution_count": 29
        }
      ]
    },
    {
      "cell_type": "markdown",
      "source": [
        "### 41. Check if two strings are anagrams."
      ],
      "metadata": {
        "id": "_esudfOglJmA"
      }
    },
    {
      "cell_type": "code",
      "execution_count": null,
      "metadata": {
        "id": "xry07Qj5lJmA"
      },
      "outputs": [],
      "source": [
        "def checkAnagrams(string1,string2):\n",
        "  '''check if 2 strings are anagrams\n",
        "\n",
        "  Parameters\n",
        "  string1\n",
        "  string2\n",
        "\n",
        "  Returns\n",
        "  bool value\n",
        "  '''\n",
        "  string1 = string1.lower()\n",
        "  string2 = string2.lower()\n",
        "  for char in string1:\n",
        "    if char in string2:\n",
        "      string2.replace(char,'',1)\n",
        "    else:\n",
        "      return False\n",
        "  return True"
      ]
    },
    {
      "cell_type": "code",
      "source": [
        "checkAnagrams('mars','rams')"
      ],
      "metadata": {
        "colab": {
          "base_uri": "https://localhost:8080/"
        },
        "outputId": "d3472432-c4fe-4bb5-864c-4e1fceff95a6",
        "id": "my528p3HlJmA"
      },
      "execution_count": null,
      "outputs": [
        {
          "output_type": "execute_result",
          "data": {
            "text/plain": [
              "True"
            ]
          },
          "metadata": {},
          "execution_count": 33
        }
      ]
    },
    {
      "cell_type": "code",
      "source": [
        "checkAnagrams('mars','ram')"
      ],
      "metadata": {
        "colab": {
          "base_uri": "https://localhost:8080/"
        },
        "outputId": "57bd09a1-287c-4b0e-9a79-ba0169e8b632",
        "id": "g5XNoQQflJmB"
      },
      "execution_count": null,
      "outputs": [
        {
          "output_type": "execute_result",
          "data": {
            "text/plain": [
              "False"
            ]
          },
          "metadata": {},
          "execution_count": 34
        }
      ]
    },
    {
      "cell_type": "markdown",
      "source": [
        "### 42. Encode a string using a Caesar cipher."
      ],
      "metadata": {
        "id": "DJerGeFolKUO"
      }
    },
    {
      "cell_type": "markdown",
      "source": [
        "Here, `ord(char)` is used to get the ASCII value of the character. However, the shift operation is slightly different.\n",
        "\n",
        "```\n",
        "chr((ord(char)+shift-65)%26 + 65)\n",
        "```\n",
        "I have **subtracted 65** from the sum of `ord(char) + shift` before performing the **modulo operation % 26** (which allows wrapping within the 26 letters of the alphabet).\n",
        "\n",
        "Then adds 65 back to the result. This approach is useful when you want to ensure the shift stays within the range of alphabetical characters (ASCII values 65 to 90 for uppercase letters in the English alphabet).\n"
      ],
      "metadata": {
        "id": "QcFpb8XOL6Og"
      }
    },
    {
      "cell_type": "code",
      "execution_count": null,
      "metadata": {
        "id": "Ji0ix-iekCRk"
      },
      "outputs": [],
      "source": [
        "def encrypt(string,shift):\n",
        "  '''encode the given string using Caesar Cipher\n",
        "\n",
        "  Parameters\n",
        "  string: main text to ne encoded\n",
        "  shift: no of letters to be shifted\n",
        "\n",
        "  Returns\n",
        "  encoded_string\n",
        "  '''\n",
        "  encoded_string = ''\n",
        "  for char in string:\n",
        "    # Shift is added to the char ASCII value to get a new ASCII value(decrypted)\n",
        "    if char.isupper():\n",
        "      encoded_string += chr((ord(char)+shift-65)%26 + 65)\n",
        "    elif char.islower():\n",
        "      encoded_string += chr((ord(char)+shift-97)%26 + 97)\n",
        "    else:\n",
        "      encoded_string += char\n",
        "  return encoded_string"
      ]
    },
    {
      "cell_type": "code",
      "source": [
        "encrypt('Secret Message!',7)"
      ],
      "metadata": {
        "colab": {
          "base_uri": "https://localhost:8080/",
          "height": 36
        },
        "outputId": "7a00dfb8-76d9-4410-b4a4-a4c23faa51fc",
        "id": "S48Soa7HlKUP"
      },
      "execution_count": null,
      "outputs": [
        {
          "output_type": "execute_result",
          "data": {
            "text/plain": [
              "'Zljyla Tlzzhnl!'"
            ],
            "application/vnd.google.colaboratory.intrinsic+json": {
              "type": "string"
            }
          },
          "metadata": {},
          "execution_count": 57
        }
      ]
    },
    {
      "cell_type": "markdown",
      "source": [
        "### 43. Decode a Caesar cipher encoded string."
      ],
      "metadata": {
        "id": "nuefA6QNkCRk"
      }
    },
    {
      "cell_type": "code",
      "execution_count": null,
      "metadata": {
        "id": "Cd6q2yY-lKUP"
      },
      "outputs": [],
      "source": [
        "def decrypt(encoded_string,shift):\n",
        "  '''Decrypt the message using caesar cipher technique\n",
        "\n",
        "  Parameters\n",
        "  encoded: encoded text to be decoded\n",
        "  shift: no of letters to be shifted\n",
        "\n",
        "  Returns\n",
        "  string\n",
        "  '''\n",
        "  string = ''\n",
        "  for char in encoded_string:\n",
        "    # Shift is subtracted from ASCII value to get the original ASCII value of the char\n",
        "    if char.isupper():\n",
        "      string += chr((ord(char)-shift-65)%26 + 65)\n",
        "    elif char.islower():\n",
        "      string += chr((ord(char)-shift-97)%26 + 97)\n",
        "    else:\n",
        "      string += char\n",
        "  return string"
      ]
    },
    {
      "cell_type": "code",
      "source": [
        "decrypt('Zljyla Tlzzhnl!',7)"
      ],
      "metadata": {
        "colab": {
          "base_uri": "https://localhost:8080/",
          "height": 36
        },
        "outputId": "085fe8a0-f39f-4ea2-ebe5-f7a52b31b5be",
        "id": "51unB2eqLj-z"
      },
      "execution_count": null,
      "outputs": [
        {
          "output_type": "execute_result",
          "data": {
            "text/plain": [
              "'Secret Message!'"
            ],
            "application/vnd.google.colaboratory.intrinsic+json": {
              "type": "string"
            }
          },
          "metadata": {},
          "execution_count": 60
        }
      ]
    },
    {
      "cell_type": "markdown",
      "source": [
        "### 44. Find the most frequent word in a string."
      ],
      "metadata": {
        "id": "ruTrT6lzkCWK"
      }
    },
    {
      "cell_type": "code",
      "execution_count": null,
      "metadata": {
        "id": "Vk6lJKIekCWK"
      },
      "outputs": [],
      "source": [
        "def mostFreqWord(string):\n",
        "  '''find the most frequent word in string\n",
        "\n",
        "  Parameters\n",
        "  string\n",
        "\n",
        "  Returns\n",
        "  most frequent word\n",
        "  '''\n",
        "  word_dict = {}\n",
        "  # remove all punctuation chars from the string, lower and split it\n",
        "  string_list = removePunctuations(string).lower().split(' ')\n",
        "  for word in string_list:\n",
        "    # if word not occured already it creates an instance else increments\n",
        "    if word in word_dict:\n",
        "      word_dict[word] += 1\n",
        "    else:\n",
        "      word_dict[word] = 1\n",
        "  # zipping value, key then take the max of value\n",
        "  freq_word = max(zip(word_dict.values(), word_dict.keys()))[1]\n",
        "  return freq_word"
      ]
    },
    {
      "cell_type": "code",
      "source": [
        "mostFreqWord('Water is important, although it is very scarce.')"
      ],
      "metadata": {
        "colab": {
          "base_uri": "https://localhost:8080/",
          "height": 36
        },
        "outputId": "d9ae8fb2-9604-4875-c427-1f75caa1b040",
        "id": "6sME8ytlkCWL"
      },
      "execution_count": null,
      "outputs": [
        {
          "output_type": "execute_result",
          "data": {
            "text/plain": [
              "'is'"
            ],
            "application/vnd.google.colaboratory.intrinsic+json": {
              "type": "string"
            }
          },
          "metadata": {},
          "execution_count": 37
        }
      ]
    },
    {
      "cell_type": "code",
      "source": [
        "mostFreqWord('Water is important, although it is very scarce. Water, waTer')"
      ],
      "metadata": {
        "colab": {
          "base_uri": "https://localhost:8080/",
          "height": 36
        },
        "outputId": "1021521f-82f4-42f4-8640-00e0c52c11d8",
        "id": "DWxfSZPRFqQg"
      },
      "execution_count": null,
      "outputs": [
        {
          "output_type": "execute_result",
          "data": {
            "text/plain": [
              "'water'"
            ],
            "application/vnd.google.colaboratory.intrinsic+json": {
              "type": "string"
            }
          },
          "metadata": {},
          "execution_count": 38
        }
      ]
    },
    {
      "cell_type": "markdown",
      "source": [
        "### 45. Find all unique words in a string."
      ],
      "metadata": {
        "id": "yS4ldfowkCaY"
      }
    },
    {
      "cell_type": "code",
      "execution_count": null,
      "metadata": {
        "id": "nqdIttdnkCaY"
      },
      "outputs": [],
      "source": [
        "def uniqueWords(string):\n",
        "  '''get all the unique words in the string\n",
        "\n",
        "  Parameters\n",
        "  string\n",
        "\n",
        "  Returns\n",
        "  list: unique words\n",
        "  '''\n",
        "  uniq_words = []\n",
        "  # remove all punctuation chars from the string, lower and split it\n",
        "  string_list = removePunctuations(string).lower().split(' ')\n",
        "  for word in string_list:\n",
        "    if word not in uniq_words:\n",
        "      uniq_words.append(word)\n",
        "  return uniq_words"
      ]
    },
    {
      "cell_type": "code",
      "source": [
        "uniqueWords('Water is important, although it is very scarce. Water, waTer')"
      ],
      "metadata": {
        "colab": {
          "base_uri": "https://localhost:8080/"
        },
        "outputId": "7ceb453a-3de5-4ed9-c4b1-f9061a9c49c7",
        "id": "EygfV9lrkCaY"
      },
      "execution_count": null,
      "outputs": [
        {
          "output_type": "execute_result",
          "data": {
            "text/plain": [
              "['water', 'is', 'important', 'although', 'it', 'very', 'scarce']"
            ]
          },
          "metadata": {},
          "execution_count": 10
        }
      ]
    },
    {
      "cell_type": "markdown",
      "source": [
        "### 46. Count the number of syllables in a string."
      ],
      "metadata": {
        "id": "ccn-NfMjkCd_"
      }
    },
    {
      "cell_type": "code",
      "execution_count": null,
      "metadata": {
        "id": "gVITnArqkCd_"
      },
      "outputs": [],
      "source": [
        "def count_syllables(word):\n",
        "  word = word.lower()\n",
        "  count = 0\n",
        "  # Remove trailing 'e' but not 'le'\n",
        "  if word.endswith('e') and not word.endswith('le'):\n",
        "      word = word[:-1]\n",
        "  # Adjustments for words ending in 'ed' or 'es'\n",
        "  if word.endswith(('ed', 'es')):\n",
        "      word = word[:-2]\n",
        "  # Count vowels\n",
        "  vowels = \"aeiouy\"\n",
        "  if word[0] in vowels:\n",
        "    count += 1\n",
        "  for i in range(1, len(word)):\n",
        "    if word[i] in vowels and word[i-1] not in vowels:\n",
        "      count += 1\n",
        "  # Adjustments for lone 'e' at the end (considered as separate syllable)\n",
        "  if count == 0:\n",
        "    count = 1\n",
        "  return count"
      ]
    },
    {
      "cell_type": "code",
      "source": [
        "count_syllables('hairy')"
      ],
      "metadata": {
        "colab": {
          "base_uri": "https://localhost:8080/"
        },
        "outputId": "862e3797-f626-416a-e8e5-a28a20a3b204",
        "id": "8UphwJYNkCd_"
      },
      "execution_count": null,
      "outputs": [
        {
          "output_type": "execute_result",
          "data": {
            "text/plain": [
              "2"
            ]
          },
          "metadata": {},
          "execution_count": 12
        }
      ]
    },
    {
      "cell_type": "code",
      "source": [
        "count_syllables('pickle')"
      ],
      "metadata": {
        "colab": {
          "base_uri": "https://localhost:8080/"
        },
        "outputId": "6a4a3efe-6a1e-4aac-dea6-08140fbb13ce",
        "id": "r_1Uvzv0MeE7"
      },
      "execution_count": null,
      "outputs": [
        {
          "output_type": "execute_result",
          "data": {
            "text/plain": [
              "2"
            ]
          },
          "metadata": {},
          "execution_count": 13
        }
      ]
    },
    {
      "cell_type": "code",
      "source": [
        "count_syllables('combination')"
      ],
      "metadata": {
        "colab": {
          "base_uri": "https://localhost:8080/"
        },
        "outputId": "0b6ca447-0a69-4961-e992-f0f5c4321bd1",
        "id": "brptpOMoMl2z"
      },
      "execution_count": null,
      "outputs": [
        {
          "output_type": "execute_result",
          "data": {
            "text/plain": [
              "4"
            ]
          },
          "metadata": {},
          "execution_count": 14
        }
      ]
    },
    {
      "cell_type": "markdown",
      "source": [
        "### 47. Check if a string contains any special characters."
      ],
      "metadata": {
        "id": "FqgVdT7RkCiK"
      }
    },
    {
      "cell_type": "code",
      "execution_count": null,
      "metadata": {
        "id": "boPStfurkCiK"
      },
      "outputs": [],
      "source": [
        "def checkSpecialChars(string):\n",
        "  '''check if string contains special chars\n",
        "\n",
        "  Parameters\n",
        "  string\n",
        "\n",
        "  Returns\n",
        "  bool value\n",
        "  '''\n",
        "  for char in string:\n",
        "    if char in st.punctuation:\n",
        "      return True\n",
        "  return False"
      ]
    },
    {
      "cell_type": "code",
      "source": [
        "checkSpecialChars('asd21asa_an@gmail.com')"
      ],
      "metadata": {
        "colab": {
          "base_uri": "https://localhost:8080/"
        },
        "outputId": "7f7cb4aa-a29a-45ed-b4b9-3ddc6404692c",
        "id": "vf7rl3rakCiK"
      },
      "execution_count": null,
      "outputs": [
        {
          "output_type": "execute_result",
          "data": {
            "text/plain": [
              "True"
            ]
          },
          "metadata": {},
          "execution_count": 16
        }
      ]
    },
    {
      "cell_type": "code",
      "source": [
        "checkSpecialChars('PW Skills')"
      ],
      "metadata": {
        "colab": {
          "base_uri": "https://localhost:8080/"
        },
        "outputId": "e0f27e9e-7233-49ab-fa73-c98b439a0706",
        "id": "dTqqCUmJkCiL"
      },
      "execution_count": null,
      "outputs": [
        {
          "output_type": "execute_result",
          "data": {
            "text/plain": [
              "False"
            ]
          },
          "metadata": {},
          "execution_count": 18
        }
      ]
    },
    {
      "cell_type": "markdown",
      "source": [
        "### 48. Remove the nth word from a string."
      ],
      "metadata": {
        "id": "SJeyf5YvkCmj"
      }
    },
    {
      "cell_type": "code",
      "execution_count": null,
      "metadata": {
        "id": "HbP4yWggkCmj"
      },
      "outputs": [],
      "source": [
        "def removeNthWord(string,n):\n",
        "  '''remove the nth word from the string\n",
        "\n",
        "  Parameters\n",
        "  string\n",
        "  n: remove nth word\n",
        "\n",
        "  Returns\n",
        "  updated string\n",
        "  '''\n",
        "  string_list = string.split(' ')\n",
        "  string_list.pop(n)\n",
        "  new_string = ' '.join(string_list)\n",
        "  return new_string"
      ]
    },
    {
      "cell_type": "code",
      "source": [
        "removeNthWord('Water is important, although it is very scarce.',3)"
      ],
      "metadata": {
        "colab": {
          "base_uri": "https://localhost:8080/",
          "height": 36
        },
        "outputId": "001f5af1-a278-4140-8be5-ee6721520b04",
        "id": "8mibUEcgkCmj"
      },
      "execution_count": null,
      "outputs": [
        {
          "output_type": "execute_result",
          "data": {
            "text/plain": [
              "'Water is important, it is very scarce.'"
            ],
            "application/vnd.google.colaboratory.intrinsic+json": {
              "type": "string"
            }
          },
          "metadata": {},
          "execution_count": 24
        }
      ]
    },
    {
      "cell_type": "markdown",
      "source": [
        "### 49. Insert a word at the nth position in a string."
      ],
      "metadata": {
        "id": "39pFAwVVkCpw"
      }
    },
    {
      "cell_type": "code",
      "execution_count": null,
      "metadata": {
        "id": "dL1bX14JkCpw"
      },
      "outputs": [],
      "source": [
        "def insertAtN(string,new_word,n):\n",
        "  '''insert word at nth position\n",
        "\n",
        "  Parameters\n",
        "  string\n",
        "  new_word: word to be added\n",
        "  n: add the word at nth pos\n",
        "\n",
        "  Returns\n",
        "  updated string\n",
        "  '''\n",
        "  string_list = string.split(' ')\n",
        "  string_list.insert(n,new_word)\n",
        "  new_string = ' '.join(string_list)\n",
        "  return new_string"
      ]
    },
    {
      "cell_type": "code",
      "source": [
        "insertAtN('Water is important, it is very scarce.','although',3)"
      ],
      "metadata": {
        "colab": {
          "base_uri": "https://localhost:8080/",
          "height": 36
        },
        "outputId": "c2fdbfdc-4fd7-44a7-c7a5-77f7f1f17af4",
        "id": "4yX8zMxSkCpw"
      },
      "execution_count": null,
      "outputs": [
        {
          "output_type": "execute_result",
          "data": {
            "text/plain": [
              "'Water is important, although it is very scarce.'"
            ],
            "application/vnd.google.colaboratory.intrinsic+json": {
              "type": "string"
            }
          },
          "metadata": {},
          "execution_count": 28
        }
      ]
    },
    {
      "cell_type": "markdown",
      "source": [
        "### 50. Convert a CSV string to a list of lists."
      ],
      "metadata": {
        "id": "hlKlY2GGkCs0"
      }
    },
    {
      "cell_type": "code",
      "source": [
        "csv = '''name, id, favorite food\n",
        "quincy, 1, hot dogs\n",
        "beau, 2, cereal\n",
        "abbey, 3, pizza\n",
        "mrugesh, 4, ice cream'''"
      ],
      "metadata": {
        "id": "7tp55n_sSPRD"
      },
      "execution_count": null,
      "outputs": []
    },
    {
      "cell_type": "code",
      "execution_count": null,
      "metadata": {
        "id": "1cFxY999kCs1"
      },
      "outputs": [],
      "source": [
        "def convertCSVtoList(csv):\n",
        "  '''convert a CSV string into list of lists\n",
        "\n",
        "  Parameters\n",
        "  string: in form of csv\n",
        "\n",
        "  Returns\n",
        "  2D List/ List of Lists\n",
        "  '''\n",
        "  # splitting the string into lines\n",
        "  lines = csv.split('\\n')\n",
        "  list2D = []\n",
        "  for line in lines:\n",
        "    # splitting the line into values\n",
        "    row = line.split(',')\n",
        "    list2D.append(row)\n",
        "  return list2D"
      ]
    },
    {
      "cell_type": "code",
      "source": [
        "convertCSVtoList(csv)"
      ],
      "metadata": {
        "colab": {
          "base_uri": "https://localhost:8080/"
        },
        "outputId": "bde8f0b9-266a-42cd-ff8f-b7604236b74a",
        "id": "E_Sf602PkCs1"
      },
      "execution_count": null,
      "outputs": [
        {
          "output_type": "execute_result",
          "data": {
            "text/plain": [
              "[['name', ' id', ' favorite food'],\n",
              " ['quincy', ' 1', ' hot dogs'],\n",
              " ['beau', ' 2', ' cereal'],\n",
              " ['abbey', ' 3', ' pizza'],\n",
              " ['mrugesh', ' 4', ' ice cream']]"
            ]
          },
          "metadata": {},
          "execution_count": 35
        }
      ]
    },
    {
      "cell_type": "markdown",
      "source": [
        "# List Based Assignment Problem"
      ],
      "metadata": {
        "id": "GzEcs2rcoWGB"
      }
    },
    {
      "cell_type": "markdown",
      "source": [
        "### 1. Create a list with integers from 1 to 10."
      ],
      "metadata": {
        "id": "wnQ71c_coWGK"
      }
    },
    {
      "cell_type": "code",
      "execution_count": 133,
      "metadata": {
        "colab": {
          "base_uri": "https://localhost:8080/"
        },
        "outputId": "c012a477-9682-40be-dd99-bdd64ffa8921",
        "id": "R0GiaM4ToWGL"
      },
      "outputs": [
        {
          "output_type": "execute_result",
          "data": {
            "text/plain": [
              "[1, 2, 3, 4, 5, 6, 7, 8, 9, 10]"
            ]
          },
          "metadata": {},
          "execution_count": 133
        }
      ],
      "source": [
        "# using range() to create a range of nos. from 1-10 and then convert it to list\n",
        "int_list = list(range(1,11))\n",
        "int_list"
      ]
    },
    {
      "cell_type": "markdown",
      "source": [
        "### 2. Find the length of a list without using the `len()` function."
      ],
      "metadata": {
        "id": "D63yLCpqoWGL"
      }
    },
    {
      "cell_type": "code",
      "execution_count": 134,
      "metadata": {
        "id": "cEDdATNKoWGL"
      },
      "outputs": [],
      "source": [
        "def length(l):\n",
        "  ''' custom length finder for the given list\n",
        "\n",
        "  Parameters\n",
        "  l: list\n",
        "\n",
        "  Returns\n",
        "  int value: length\n",
        "  '''\n",
        "  count = 0\n",
        "  # using for loop to iterate over all values and increment count for each value\n",
        "  for _ in l:\n",
        "    count += 1\n",
        "  return count"
      ]
    },
    {
      "cell_type": "code",
      "source": [
        "length(int_list)"
      ],
      "metadata": {
        "colab": {
          "base_uri": "https://localhost:8080/"
        },
        "id": "xhydZ_Y9p2tV",
        "outputId": "56bc13d6-2d87-4097-aabc-68473a58b78f"
      },
      "execution_count": 135,
      "outputs": [
        {
          "output_type": "execute_result",
          "data": {
            "text/plain": [
              "10"
            ]
          },
          "metadata": {},
          "execution_count": 135
        }
      ]
    },
    {
      "cell_type": "markdown",
      "source": [
        "### 3. Append an element to the end of a list."
      ],
      "metadata": {
        "id": "FK2JRhHaoWGL"
      }
    },
    {
      "cell_type": "code",
      "execution_count": 136,
      "metadata": {
        "colab": {
          "base_uri": "https://localhost:8080/"
        },
        "outputId": "743d8ac3-aec5-4de9-9e22-00c896cecb0e",
        "id": "1z6VnCFHoWGL"
      },
      "outputs": [
        {
          "output_type": "execute_result",
          "data": {
            "text/plain": [
              "[1, 2, 3, 4, 5, 6, 7, 8, 9, 10, 11]"
            ]
          },
          "metadata": {},
          "execution_count": 136
        }
      ],
      "source": [
        "# using .append() to add new value at the end of the list\n",
        "int_list.append(11)\n",
        "int_list"
      ]
    },
    {
      "cell_type": "markdown",
      "source": [
        "### 4. Insert an element at a specific index in a list."
      ],
      "metadata": {
        "id": "0UpEWf7boWGM"
      }
    },
    {
      "cell_type": "code",
      "execution_count": 137,
      "metadata": {
        "id": "x0fxw5vloWGM"
      },
      "outputs": [],
      "source": [
        "def insertElement(l,element,index):\n",
        "  '''insert new element at the specified index of the list\n",
        "\n",
        "  Parameters\n",
        "  l: list in which element is to be added\n",
        "  element: value to be added\n",
        "  index: index of list at which element needs to be added\n",
        "  '''\n",
        "  # if index is more than the length it just appends the list\n",
        "  if len(l) < index:\n",
        "    l.append(element)\n",
        "  # adding value into index given\n",
        "  else:\n",
        "    # iterate it from index given to the last index\n",
        "    for i in range(index,len(l)):\n",
        "      temp = l[i]\n",
        "      l[i] = l[i-1]\n",
        "    # appending the last value of the list\n",
        "    l.append(temp)\n",
        "    # adding the new value into the specific index\n",
        "    l[index] = element\n",
        "  return l"
      ]
    },
    {
      "cell_type": "code",
      "source": [
        "insertElement([1,2,3,41,24,22],21,5)"
      ],
      "metadata": {
        "colab": {
          "base_uri": "https://localhost:8080/"
        },
        "id": "Qa9yDtTvBz0K",
        "outputId": "75c3525d-3a3e-4f6f-b265-75dbd369c48a"
      },
      "execution_count": 138,
      "outputs": [
        {
          "output_type": "execute_result",
          "data": {
            "text/plain": [
              "[1, 2, 3, 41, 24, 21, 22]"
            ]
          },
          "metadata": {},
          "execution_count": 138
        }
      ]
    },
    {
      "cell_type": "code",
      "source": [
        "insertElement([1,2,3,41,24,22],21,10)"
      ],
      "metadata": {
        "colab": {
          "base_uri": "https://localhost:8080/"
        },
        "id": "OHyLbFS2CVVL",
        "outputId": "6c683797-13c5-4459-bd5d-46fd5dbbac88"
      },
      "execution_count": 139,
      "outputs": [
        {
          "output_type": "execute_result",
          "data": {
            "text/plain": [
              "[1, 2, 3, 41, 24, 22, 21]"
            ]
          },
          "metadata": {},
          "execution_count": 139
        }
      ]
    },
    {
      "cell_type": "markdown",
      "source": [
        "### 5. Remove an element from a list by its value."
      ],
      "metadata": {
        "id": "J-eqYXVWoWGM"
      }
    },
    {
      "cell_type": "code",
      "execution_count": 140,
      "metadata": {
        "colab": {
          "base_uri": "https://localhost:8080/"
        },
        "outputId": "2582365a-bd3f-4201-c25f-e7cc2d4e76a4",
        "id": "RKNL1PsvoWGM"
      },
      "outputs": [
        {
          "output_type": "execute_result",
          "data": {
            "text/plain": [
              "[1, 4, 9, 16, 25, 36, 43, 49, 49, 64, 81, 100]"
            ]
          },
          "metadata": {},
          "execution_count": 140
        }
      ],
      "source": [
        "list1 = [1,4,9,16,25,36,43,49,49,64,81,100]\n",
        "list1"
      ]
    },
    {
      "cell_type": "code",
      "source": [
        "# using remove() to remove a value from the list\n",
        "list1.remove(43)\n",
        "# the function only removes first instance of the specific value\n",
        "list1.remove(49)\n",
        "list1"
      ],
      "metadata": {
        "colab": {
          "base_uri": "https://localhost:8080/"
        },
        "id": "KqNRpbTmDneH",
        "outputId": "6c87c6f7-ecf5-44c1-f9df-2ef65a345384"
      },
      "execution_count": 141,
      "outputs": [
        {
          "output_type": "execute_result",
          "data": {
            "text/plain": [
              "[1, 4, 9, 16, 25, 36, 49, 64, 81, 100]"
            ]
          },
          "metadata": {},
          "execution_count": 141
        }
      ]
    },
    {
      "cell_type": "markdown",
      "source": [
        "### 6. Remove an element from a list by its index."
      ],
      "metadata": {
        "id": "Yw7mKiFWEvRO"
      }
    },
    {
      "cell_type": "code",
      "source": [
        "# using pop() to remove a value at the specific index from the list\n",
        "removed_element = list1.pop(9)\n",
        "print(\"Removed Element: \",removed_element)\n",
        "print(\"Updated List: \",list1)"
      ],
      "metadata": {
        "outputId": "857af0d5-66a4-4764-810b-dd3817018d72",
        "colab": {
          "base_uri": "https://localhost:8080/"
        },
        "id": "kthIUW3JEvRV"
      },
      "execution_count": 142,
      "outputs": [
        {
          "output_type": "stream",
          "name": "stdout",
          "text": [
            "Removed Element:  100\n",
            "Updated List:  [1, 4, 9, 16, 25, 36, 49, 64, 81]\n"
          ]
        }
      ]
    },
    {
      "cell_type": "markdown",
      "source": [
        "### 7. Check if an element exists in a list."
      ],
      "metadata": {
        "id": "ntfpONcToWGM"
      }
    },
    {
      "cell_type": "code",
      "execution_count": 143,
      "metadata": {
        "id": "LMlXmnaZoWGM"
      },
      "outputs": [],
      "source": [
        "def checkElement(l,element):\n",
        "  '''check if element exists in the list\n",
        "\n",
        "  Parameters\n",
        "  l: list in which element is to be checked\n",
        "  element: value to be checked\n",
        "\n",
        "  Returns\n",
        "  bool value\n",
        "  '''\n",
        "  # using in to check if value is there\n",
        "  if element in l:\n",
        "    return True\n",
        "  else:\n",
        "    return False"
      ]
    },
    {
      "cell_type": "code",
      "source": [
        "checkElement(list1,49)"
      ],
      "metadata": {
        "colab": {
          "base_uri": "https://localhost:8080/"
        },
        "id": "OLSSNrYeHPXK",
        "outputId": "ec7997a6-f7c9-4313-9573-3b520d113135"
      },
      "execution_count": 144,
      "outputs": [
        {
          "output_type": "execute_result",
          "data": {
            "text/plain": [
              "True"
            ]
          },
          "metadata": {},
          "execution_count": 144
        }
      ]
    },
    {
      "cell_type": "code",
      "source": [
        "checkElement(list1,42)"
      ],
      "metadata": {
        "colab": {
          "base_uri": "https://localhost:8080/"
        },
        "id": "LQoojcYjHV7B",
        "outputId": "b6d3ed54-16ed-4518-e4c3-7db1e1d7312a"
      },
      "execution_count": 145,
      "outputs": [
        {
          "output_type": "execute_result",
          "data": {
            "text/plain": [
              "False"
            ]
          },
          "metadata": {},
          "execution_count": 145
        }
      ]
    },
    {
      "cell_type": "markdown",
      "source": [
        "### 8. Find the index of the first occurrence of an element in a list."
      ],
      "metadata": {
        "id": "K5dWVETroWGM"
      }
    },
    {
      "cell_type": "code",
      "execution_count": 146,
      "metadata": {
        "colab": {
          "base_uri": "https://localhost:8080/"
        },
        "outputId": "e52b95a7-9705-4c40-dbc1-5704d5749dbb",
        "id": "MGM6kbhsoWGN"
      },
      "outputs": [
        {
          "output_type": "execute_result",
          "data": {
            "text/plain": [
              "2"
            ]
          },
          "metadata": {},
          "execution_count": 146
        }
      ],
      "source": [
        "# using index() to find the index of the first occurence\n",
        "list2 = [1,2,3,1,2,3,3,43,3]\n",
        "list2.index(3)"
      ]
    },
    {
      "cell_type": "markdown",
      "source": [
        "### 9. Count the occurrences of an element in a list."
      ],
      "metadata": {
        "id": "BY-kvwx3oWGN"
      }
    },
    {
      "cell_type": "code",
      "execution_count": 147,
      "metadata": {
        "colab": {
          "base_uri": "https://localhost:8080/"
        },
        "outputId": "af83c99b-8f2e-41aa-fc1e-418fc8b003bc",
        "id": "XqfNoSHooWGN"
      },
      "outputs": [
        {
          "output_type": "execute_result",
          "data": {
            "text/plain": [
              "4"
            ]
          },
          "metadata": {},
          "execution_count": 147
        }
      ],
      "source": [
        "# using count() to find the no. of occurences of an element\n",
        "list2.count(3)"
      ]
    },
    {
      "cell_type": "code",
      "source": [
        "list2.count(1)"
      ],
      "metadata": {
        "colab": {
          "base_uri": "https://localhost:8080/"
        },
        "id": "zKC-30sXIw24",
        "outputId": "dc720804-c844-4a29-a720-7351b1524940"
      },
      "execution_count": 148,
      "outputs": [
        {
          "output_type": "execute_result",
          "data": {
            "text/plain": [
              "2"
            ]
          },
          "metadata": {},
          "execution_count": 148
        }
      ]
    },
    {
      "cell_type": "markdown",
      "source": [
        "### 10. Reverse the order of elements in a list."
      ],
      "metadata": {
        "id": "zszW196toWGN"
      }
    },
    {
      "cell_type": "code",
      "execution_count": 149,
      "metadata": {
        "id": "LG_4-lzWoWGO",
        "colab": {
          "base_uri": "https://localhost:8080/"
        },
        "outputId": "1b4c0d8a-1832-4190-de7c-98a54b49aa01"
      },
      "outputs": [
        {
          "output_type": "execute_result",
          "data": {
            "text/plain": [
              "[81, 64, 49, 36, 25, 16, 9, 4, 1]"
            ]
          },
          "metadata": {},
          "execution_count": 149
        }
      ],
      "source": [
        "# using .reverse() to reverse the order of the elements\n",
        "list1.reverse()\n",
        "list1"
      ]
    },
    {
      "cell_type": "markdown",
      "source": [
        "### 11. Sort a list in ascending order."
      ],
      "metadata": {
        "id": "EbwPhuZkoWGO"
      }
    },
    {
      "cell_type": "code",
      "execution_count": 150,
      "metadata": {
        "id": "g-vFKxbIoWGO",
        "colab": {
          "base_uri": "https://localhost:8080/"
        },
        "outputId": "b0c80a2a-378f-44f0-af2a-53181c1fd51b"
      },
      "outputs": [
        {
          "output_type": "execute_result",
          "data": {
            "text/plain": [
              "[1, 4, 9, 16, 25, 36, 49, 64, 81]"
            ]
          },
          "metadata": {},
          "execution_count": 150
        }
      ],
      "source": [
        "# sort() to sort list in ascending order\n",
        "list1.sort()\n",
        "list1"
      ]
    },
    {
      "cell_type": "code",
      "source": [
        "list2.sort()\n",
        "list2"
      ],
      "metadata": {
        "id": "6k1AqGRfOKJl",
        "outputId": "c035c595-1bc7-40bd-8355-a550a700a7f4",
        "colab": {
          "base_uri": "https://localhost:8080/"
        }
      },
      "execution_count": 151,
      "outputs": [
        {
          "output_type": "execute_result",
          "data": {
            "text/plain": [
              "[1, 1, 2, 2, 3, 3, 3, 3, 43]"
            ]
          },
          "metadata": {},
          "execution_count": 151
        }
      ]
    },
    {
      "cell_type": "markdown",
      "source": [
        "### 12. Sort a list in descending order."
      ],
      "metadata": {
        "id": "aTkJsk91oWGP"
      }
    },
    {
      "cell_type": "code",
      "execution_count": 152,
      "metadata": {
        "id": "xzza4PbkoWGP",
        "colab": {
          "base_uri": "https://localhost:8080/"
        },
        "outputId": "cd91f5c9-2647-4f93-90cc-f60164879fe0"
      },
      "outputs": [
        {
          "output_type": "execute_result",
          "data": {
            "text/plain": [
              "[81, 64, 49, 36, 25, 16, 9, 4, 1]"
            ]
          },
          "metadata": {},
          "execution_count": 152
        }
      ],
      "source": [
        "# using sort() with setting parameter reverse = True for descending order\n",
        "list1.sort(reverse=True)\n",
        "list1"
      ]
    },
    {
      "cell_type": "code",
      "source": [
        "list2.sort(reverse=True)\n",
        "list2"
      ],
      "metadata": {
        "colab": {
          "base_uri": "https://localhost:8080/"
        },
        "outputId": "41093b1c-aedb-474a-f711-cb7a3dbf350a",
        "id": "4zW-ePjnoWGP"
      },
      "execution_count": 153,
      "outputs": [
        {
          "output_type": "execute_result",
          "data": {
            "text/plain": [
              "[43, 3, 3, 3, 3, 2, 2, 1, 1]"
            ]
          },
          "metadata": {},
          "execution_count": 153
        }
      ]
    },
    {
      "cell_type": "markdown",
      "source": [
        "### 13. Create a list of even numbers from 1 to 20."
      ],
      "metadata": {
        "id": "Gz2DJ-Y5oWGP"
      }
    },
    {
      "cell_type": "code",
      "execution_count": 154,
      "metadata": {
        "id": "gRIIpLD3oWGP",
        "colab": {
          "base_uri": "https://localhost:8080/"
        },
        "outputId": "356cff28-f200-4140-cb75-2f924e1a51cf"
      },
      "outputs": [
        {
          "output_type": "execute_result",
          "data": {
            "text/plain": [
              "[2, 4, 6, 8, 10, 12, 14, 16, 18, 20]"
            ]
          },
          "metadata": {},
          "execution_count": 154
        }
      ],
      "source": [
        "# using range() which starts from 2-20 and increments with 2\n",
        "even_list = list(range(2,21,2))\n",
        "even_list"
      ]
    },
    {
      "cell_type": "code",
      "source": [
        "# using list comprehension to generate a list of even nos\n",
        "even_list = [i for i in range(1,21) if i%2==0]\n",
        "even_list"
      ],
      "metadata": {
        "colab": {
          "base_uri": "https://localhost:8080/"
        },
        "outputId": "f076a8be-552e-444d-b7b8-f7d2a5220e87",
        "id": "k_wUeXokoWGQ"
      },
      "execution_count": 155,
      "outputs": [
        {
          "output_type": "execute_result",
          "data": {
            "text/plain": [
              "[2, 4, 6, 8, 10, 12, 14, 16, 18, 20]"
            ]
          },
          "metadata": {},
          "execution_count": 155
        }
      ]
    },
    {
      "cell_type": "markdown",
      "source": [
        "### 14. Create a list of odd numbers from 1 to 20.\n"
      ],
      "metadata": {
        "id": "nu_qgmjJP5ti"
      }
    },
    {
      "cell_type": "code",
      "execution_count": 156,
      "metadata": {
        "colab": {
          "base_uri": "https://localhost:8080/"
        },
        "outputId": "2b1c2093-eb4d-4fd8-897a-cee1b2bb7a41",
        "id": "8Lw1M8QDP5tp"
      },
      "outputs": [
        {
          "output_type": "execute_result",
          "data": {
            "text/plain": [
              "[1, 3, 5, 7, 9, 11, 13, 15, 17, 19]"
            ]
          },
          "metadata": {},
          "execution_count": 156
        }
      ],
      "source": [
        "# using range() which starts from 1-20 and increments with 2\n",
        "odd_list = list(range(1,21,2))\n",
        "odd_list"
      ]
    },
    {
      "cell_type": "code",
      "source": [
        "# using list comprehension to generate a list of odd nos\n",
        "odd_list = [i for i in range(1,21) if i%2==1]\n",
        "odd_list"
      ],
      "metadata": {
        "colab": {
          "base_uri": "https://localhost:8080/"
        },
        "outputId": "350d52fc-a278-4ab1-c57e-4809bc7609b5",
        "id": "Y8vEZ9b2P5tq"
      },
      "execution_count": 157,
      "outputs": [
        {
          "output_type": "execute_result",
          "data": {
            "text/plain": [
              "[1, 3, 5, 7, 9, 11, 13, 15, 17, 19]"
            ]
          },
          "metadata": {},
          "execution_count": 157
        }
      ]
    },
    {
      "cell_type": "markdown",
      "source": [
        "### 15. Find the sum of all elements in a list."
      ],
      "metadata": {
        "id": "uSGJfAS3oWGR"
      }
    },
    {
      "cell_type": "code",
      "execution_count": 158,
      "metadata": {
        "id": "XDvFnUFfoWGR",
        "colab": {
          "base_uri": "https://localhost:8080/"
        },
        "outputId": "c98c303c-f053-4fd4-de2a-de3c2792a247"
      },
      "outputs": [
        {
          "output_type": "execute_result",
          "data": {
            "text/plain": [
              "100"
            ]
          },
          "metadata": {},
          "execution_count": 158
        }
      ],
      "source": [
        "# using sum() to find the sum of all elements in the list\n",
        "sum(odd_list)"
      ]
    },
    {
      "cell_type": "code",
      "source": [
        "sum(even_list)"
      ],
      "metadata": {
        "colab": {
          "base_uri": "https://localhost:8080/"
        },
        "outputId": "9dfe020d-f655-4108-977e-c634230bb5fa",
        "id": "2JfgbEauoWGR"
      },
      "execution_count": 159,
      "outputs": [
        {
          "output_type": "execute_result",
          "data": {
            "text/plain": [
              "110"
            ]
          },
          "metadata": {},
          "execution_count": 159
        }
      ]
    },
    {
      "cell_type": "markdown",
      "source": [
        "### 16. Find the maximum value in a list."
      ],
      "metadata": {
        "id": "3f_fTGmooWGR"
      }
    },
    {
      "cell_type": "code",
      "execution_count": 160,
      "metadata": {
        "id": "BclHba1moWGR",
        "colab": {
          "base_uri": "https://localhost:8080/"
        },
        "outputId": "8cc54268-1871-4244-96da-8704ee68a5e9"
      },
      "outputs": [
        {
          "output_type": "execute_result",
          "data": {
            "text/plain": [
              "19"
            ]
          },
          "metadata": {},
          "execution_count": 160
        }
      ],
      "source": [
        "# using max() to find the maximum element in the list\n",
        "max(odd_list)"
      ]
    },
    {
      "cell_type": "code",
      "source": [
        "max(even_list)"
      ],
      "metadata": {
        "colab": {
          "base_uri": "https://localhost:8080/"
        },
        "outputId": "c5abd99c-2467-49ec-b8d8-6b9e7ccef23e",
        "id": "07QBWa3-oWGR"
      },
      "execution_count": 161,
      "outputs": [
        {
          "output_type": "execute_result",
          "data": {
            "text/plain": [
              "20"
            ]
          },
          "metadata": {},
          "execution_count": 161
        }
      ]
    },
    {
      "cell_type": "markdown",
      "source": [
        "### 17. Find the minimum value in a list."
      ],
      "metadata": {
        "id": "QU0qljJSRVni"
      }
    },
    {
      "cell_type": "code",
      "execution_count": 162,
      "metadata": {
        "colab": {
          "base_uri": "https://localhost:8080/"
        },
        "outputId": "aede8cf6-7406-4621-b6c4-fa5feb5d8d86",
        "id": "H6H3fMbKRVnq"
      },
      "outputs": [
        {
          "output_type": "execute_result",
          "data": {
            "text/plain": [
              "1"
            ]
          },
          "metadata": {},
          "execution_count": 162
        }
      ],
      "source": [
        "# using min() to find the maximum element in the list\n",
        "min(odd_list)"
      ]
    },
    {
      "cell_type": "code",
      "source": [
        "min(even_list)"
      ],
      "metadata": {
        "colab": {
          "base_uri": "https://localhost:8080/"
        },
        "outputId": "656961df-95ea-4586-9e71-dbb664f70a22",
        "id": "qJm82Vj1RVnq"
      },
      "execution_count": 163,
      "outputs": [
        {
          "output_type": "execute_result",
          "data": {
            "text/plain": [
              "2"
            ]
          },
          "metadata": {},
          "execution_count": 163
        }
      ]
    },
    {
      "cell_type": "markdown",
      "source": [
        "### 18. Create a list of squares of numbers from 1 to 10."
      ],
      "metadata": {
        "id": "ZejhYro4oWGS"
      }
    },
    {
      "cell_type": "code",
      "execution_count": 164,
      "metadata": {
        "id": "qNXjYfT0oWGS",
        "colab": {
          "base_uri": "https://localhost:8080/"
        },
        "outputId": "ddb65b7e-3dc3-4714-8b60-d2035159403a"
      },
      "outputs": [
        {
          "output_type": "execute_result",
          "data": {
            "text/plain": [
              "[1, 4, 9, 16, 25, 36, 49, 64, 81, 100]"
            ]
          },
          "metadata": {},
          "execution_count": 164
        }
      ],
      "source": [
        "# using list comprehension to create a list of squares\n",
        "squares_list = [i**2 for i in range(1,11)]\n",
        "squares_list"
      ]
    },
    {
      "cell_type": "markdown",
      "source": [
        "### 19. Create a list of random numbers."
      ],
      "metadata": {
        "id": "ww-xfKFuoWGT"
      }
    },
    {
      "cell_type": "code",
      "execution_count": 165,
      "metadata": {
        "id": "ZfkTguWwoWGT",
        "colab": {
          "base_uri": "https://localhost:8080/"
        },
        "outputId": "f0083cd3-5be4-4df8-f53f-7dc3843c16e5"
      },
      "outputs": [
        {
          "output_type": "execute_result",
          "data": {
            "text/plain": [
              "[22, 45, 46, 11, 25, 34, 10, 33, 39, 35]"
            ]
          },
          "metadata": {},
          "execution_count": 165
        }
      ],
      "source": [
        "import random\n",
        "# using random.sample() to create a list of random nos.\n",
        "# nos. are between 1-49 and the length of list is 10\n",
        "random_list = random.sample(range(1, 50), 10)\n",
        "random_list"
      ]
    },
    {
      "cell_type": "markdown",
      "source": [
        "### 20. Remove duplicates from a list."
      ],
      "metadata": {
        "id": "iuWDC32HoWGT"
      }
    },
    {
      "cell_type": "code",
      "execution_count": 166,
      "metadata": {
        "id": "0WuHCZGLoWGT"
      },
      "outputs": [],
      "source": [
        "def removeDuplicates(l):\n",
        "  '''remove the duplicates from the list\n",
        "\n",
        "  Parameters\n",
        "  list: with duplicates\n",
        "\n",
        "  Returns\n",
        "  list with unique elements\n",
        "  '''\n",
        "  # set only has the values once, i.e. stores unique values/elements\n",
        "  uniq_set = set(l)\n",
        "  return list(uniq_set)"
      ]
    },
    {
      "cell_type": "code",
      "source": [
        "list2"
      ],
      "metadata": {
        "colab": {
          "base_uri": "https://localhost:8080/"
        },
        "outputId": "8437dc87-3817-4bdb-dccd-4cfd07c82091",
        "id": "TNk6I4OwoWGT"
      },
      "execution_count": 167,
      "outputs": [
        {
          "output_type": "execute_result",
          "data": {
            "text/plain": [
              "[43, 3, 3, 3, 3, 2, 2, 1, 1]"
            ]
          },
          "metadata": {},
          "execution_count": 167
        }
      ]
    },
    {
      "cell_type": "code",
      "source": [
        "removeDuplicates(list2)"
      ],
      "metadata": {
        "id": "e5m7hSOiUSxX",
        "outputId": "363b78df-a72b-4a17-bfcc-665d32796ad8",
        "colab": {
          "base_uri": "https://localhost:8080/"
        }
      },
      "execution_count": 168,
      "outputs": [
        {
          "output_type": "execute_result",
          "data": {
            "text/plain": [
              "[3, 1, 2, 43]"
            ]
          },
          "metadata": {},
          "execution_count": 168
        }
      ]
    },
    {
      "cell_type": "markdown",
      "source": [
        "### 21. Find the common elements between two lists."
      ],
      "metadata": {
        "id": "6A9ycY3KoWGU"
      }
    },
    {
      "cell_type": "code",
      "execution_count": 169,
      "metadata": {
        "id": "EiYh8IAvoWGU"
      },
      "outputs": [],
      "source": [
        "def findCommonElements(list1,list2):\n",
        "  '''find the common elements in the two lists\n",
        "\n",
        "  Parameters (lists to check the elements)\n",
        "  list1\n",
        "  list2\n",
        "\n",
        "  Returns\n",
        "  list with common elements\n",
        "  '''\n",
        "  common_list = [i for i in list1 if i in list2]\n",
        "  return common_list"
      ]
    },
    {
      "cell_type": "code",
      "source": [
        "findCommonElements(squares_list,even_list)"
      ],
      "metadata": {
        "colab": {
          "base_uri": "https://localhost:8080/"
        },
        "id": "W1lCkQzYWIdq",
        "outputId": "b6c18de2-69c3-4c1d-bfdc-e65411e8678b"
      },
      "execution_count": 170,
      "outputs": [
        {
          "output_type": "execute_result",
          "data": {
            "text/plain": [
              "[4, 16]"
            ]
          },
          "metadata": {},
          "execution_count": 170
        }
      ]
    },
    {
      "cell_type": "code",
      "source": [
        "findCommonElements(squares_list,odd_list)"
      ],
      "metadata": {
        "colab": {
          "base_uri": "https://localhost:8080/"
        },
        "outputId": "2b58eab7-885a-4626-861e-91d58c8a9a2c",
        "id": "gYx_ajlioWGU"
      },
      "execution_count": 171,
      "outputs": [
        {
          "output_type": "execute_result",
          "data": {
            "text/plain": [
              "[1, 9]"
            ]
          },
          "metadata": {},
          "execution_count": 171
        }
      ]
    },
    {
      "cell_type": "code",
      "source": [
        "findCommonElements(even_list,odd_list)"
      ],
      "metadata": {
        "colab": {
          "base_uri": "https://localhost:8080/"
        },
        "id": "UdYGezfOWas3",
        "outputId": "9482da4e-e8cc-4f23-b1e3-8f8d191025d4"
      },
      "execution_count": 172,
      "outputs": [
        {
          "output_type": "execute_result",
          "data": {
            "text/plain": [
              "[]"
            ]
          },
          "metadata": {},
          "execution_count": 172
        }
      ]
    },
    {
      "cell_type": "markdown",
      "source": [
        "### 22. Find the difference between two lists."
      ],
      "metadata": {
        "id": "WF0X1VMjWxTq"
      }
    },
    {
      "cell_type": "code",
      "execution_count": 173,
      "metadata": {
        "id": "tTZpBF0eWxTy"
      },
      "outputs": [],
      "source": [
        "def diffBetweenList(list1,list2):\n",
        "  '''find the difference between the two lists, i.e. elements in list1 that are not in list 2\n",
        "\n",
        "  Parameters\n",
        "  list1\n",
        "  list2\n",
        "\n",
        "  Returns\n",
        "  list with elements in list1 but not in list2\n",
        "  '''\n",
        "  diff_list = [i for i in list1 if i not in list2]\n",
        "  return diff_list"
      ]
    },
    {
      "cell_type": "code",
      "source": [
        "diffBetweenList(squares_list,even_list)"
      ],
      "metadata": {
        "outputId": "5b6a9761-8d3b-420d-efdc-b558419721f6",
        "colab": {
          "base_uri": "https://localhost:8080/"
        },
        "id": "9v3Kz0FcWxTy"
      },
      "execution_count": 174,
      "outputs": [
        {
          "output_type": "execute_result",
          "data": {
            "text/plain": [
              "[1, 9, 25, 36, 49, 64, 81, 100]"
            ]
          },
          "metadata": {},
          "execution_count": 174
        }
      ]
    },
    {
      "cell_type": "code",
      "source": [
        "diffBetweenList(squares_list,odd_list)"
      ],
      "metadata": {
        "colab": {
          "base_uri": "https://localhost:8080/"
        },
        "outputId": "59ce7476-1478-4b38-b5c5-90765c94cfba",
        "id": "v6WZ5_WNWxTy"
      },
      "execution_count": 175,
      "outputs": [
        {
          "output_type": "execute_result",
          "data": {
            "text/plain": [
              "[4, 16, 25, 36, 49, 64, 81, 100]"
            ]
          },
          "metadata": {},
          "execution_count": 175
        }
      ]
    },
    {
      "cell_type": "code",
      "source": [
        "diffBetweenList(even_list,odd_list)"
      ],
      "metadata": {
        "outputId": "ba94daa7-b73c-49b6-963c-061c58784612",
        "colab": {
          "base_uri": "https://localhost:8080/"
        },
        "id": "3hzJEKubWxTy"
      },
      "execution_count": 176,
      "outputs": [
        {
          "output_type": "execute_result",
          "data": {
            "text/plain": [
              "[2, 4, 6, 8, 10, 12, 14, 16, 18, 20]"
            ]
          },
          "metadata": {},
          "execution_count": 176
        }
      ]
    },
    {
      "cell_type": "markdown",
      "source": [
        "### 23. Merge two lists."
      ],
      "metadata": {
        "id": "M3e21OHloWGV"
      }
    },
    {
      "cell_type": "code",
      "source": [
        "print(list1)\n",
        "print(list2)"
      ],
      "metadata": {
        "id": "6yLsmvbrYo5c",
        "outputId": "c79aef7f-44cc-430f-ee7a-18c32dc6738a",
        "colab": {
          "base_uri": "https://localhost:8080/"
        }
      },
      "execution_count": 177,
      "outputs": [
        {
          "output_type": "stream",
          "name": "stdout",
          "text": [
            "[81, 64, 49, 36, 25, 16, 9, 4, 1]\n",
            "[43, 3, 3, 3, 3, 2, 2, 1, 1]\n"
          ]
        }
      ]
    },
    {
      "cell_type": "code",
      "source": [
        "# create a merged list using + operator\n",
        "# this creates a new list\n",
        "merged_list = list1 + list2\n",
        "merged_list"
      ],
      "metadata": {
        "id": "hbRwqIQQYcsM",
        "outputId": "64ad9b5b-4a4c-4893-c06d-8a5235c2c97b",
        "colab": {
          "base_uri": "https://localhost:8080/"
        }
      },
      "execution_count": 178,
      "outputs": [
        {
          "output_type": "execute_result",
          "data": {
            "text/plain": [
              "[81, 64, 49, 36, 25, 16, 9, 4, 1, 43, 3, 3, 3, 3, 2, 2, 1, 1]"
            ]
          },
          "metadata": {},
          "execution_count": 178
        }
      ]
    },
    {
      "cell_type": "code",
      "source": [
        "# this extends the list1 and changes the list1 and doesn't create a new merged list\n",
        "list1.extend(list2)\n",
        "list1"
      ],
      "metadata": {
        "id": "c9gBjjFHY9Hw",
        "outputId": "0c24a19e-047a-4d3e-a0f7-ac46c002d127",
        "colab": {
          "base_uri": "https://localhost:8080/"
        }
      },
      "execution_count": 179,
      "outputs": [
        {
          "output_type": "execute_result",
          "data": {
            "text/plain": [
              "[81, 64, 49, 36, 25, 16, 9, 4, 1, 43, 3, 3, 3, 3, 2, 2, 1, 1]"
            ]
          },
          "metadata": {},
          "execution_count": 179
        }
      ]
    },
    {
      "cell_type": "markdown",
      "source": [
        "### 24. Multiply all elements in a list by 2."
      ],
      "metadata": {
        "id": "Dgix8U5QoWGV"
      }
    },
    {
      "cell_type": "code",
      "execution_count": 180,
      "metadata": {
        "id": "a0h7g3JGoWGV",
        "outputId": "9822bbe9-985d-4c26-9778-4be31a5dfd30",
        "colab": {
          "base_uri": "https://localhost:8080/"
        }
      },
      "outputs": [
        {
          "output_type": "execute_result",
          "data": {
            "text/plain": [
              "[2, 8, 18, 32, 50, 72, 98, 128, 162, 200]"
            ]
          },
          "metadata": {},
          "execution_count": 180
        }
      ],
      "source": [
        "new_list = [x * 2 for x in squares_list]\n",
        "new_list"
      ]
    },
    {
      "cell_type": "markdown",
      "source": [
        "### 25. Filter out all even numbers from a list."
      ],
      "metadata": {
        "id": "6XsT4gSooWGW"
      }
    },
    {
      "cell_type": "code",
      "execution_count": 181,
      "metadata": {
        "id": "EK4saTLNoWGW"
      },
      "outputs": [],
      "source": [
        "def filterEvenNos(list1):\n",
        "  '''filter out even numbers from the list\n",
        "\n",
        "  Parameters\n",
        "  list1\n",
        "\n",
        "  Returns\n",
        "  list without even nos\n",
        "  '''\n",
        "  new_list = [i for i in list1 if i%2!=0]\n",
        "  return new_list"
      ]
    },
    {
      "cell_type": "code",
      "source": [
        "filterEvenNos(squares_list)"
      ],
      "metadata": {
        "colab": {
          "base_uri": "https://localhost:8080/"
        },
        "outputId": "77401412-ffd8-4614-cb81-85d1f15a1de5",
        "id": "EhDngSiRoWGW"
      },
      "execution_count": 182,
      "outputs": [
        {
          "output_type": "execute_result",
          "data": {
            "text/plain": [
              "[1, 9, 25, 49, 81]"
            ]
          },
          "metadata": {},
          "execution_count": 182
        }
      ]
    },
    {
      "cell_type": "code",
      "source": [
        "filterEvenNos(even_list)"
      ],
      "metadata": {
        "id": "KQTNPXFujQav",
        "outputId": "f7f0eca8-bfe7-400c-bd75-4e815ab31301",
        "colab": {
          "base_uri": "https://localhost:8080/"
        }
      },
      "execution_count": 183,
      "outputs": [
        {
          "output_type": "execute_result",
          "data": {
            "text/plain": [
              "[]"
            ]
          },
          "metadata": {},
          "execution_count": 183
        }
      ]
    },
    {
      "cell_type": "markdown",
      "source": [
        "### 26. Convert a list of strings to a list of integers."
      ],
      "metadata": {
        "id": "H3dI96rfoWGW"
      }
    },
    {
      "cell_type": "code",
      "execution_count": 184,
      "metadata": {
        "id": "9RMbWH8poWGW"
      },
      "outputs": [],
      "source": [
        "def stringToIntList(list1):\n",
        "  '''convert a list of string to list of int\n",
        "\n",
        "  Parameters\n",
        "  list1: list of strings\n",
        "\n",
        "  Returns\n",
        "  list of int\n",
        "  '''\n",
        "  new_list = [int(i) for i in list1]\n",
        "  return new_list"
      ]
    },
    {
      "cell_type": "code",
      "source": [
        "stringToIntList(['1','-2','22','-1','11'])"
      ],
      "metadata": {
        "colab": {
          "base_uri": "https://localhost:8080/"
        },
        "outputId": "6852895c-81e7-419f-f7d2-b55241be42b2",
        "id": "KfVjUlDzoWGX"
      },
      "execution_count": 185,
      "outputs": [
        {
          "output_type": "execute_result",
          "data": {
            "text/plain": [
              "[1, -2, 22, -1, 11]"
            ]
          },
          "metadata": {},
          "execution_count": 185
        }
      ]
    },
    {
      "cell_type": "markdown",
      "source": [
        "### 27. Convert a list of integers to a list of strings."
      ],
      "metadata": {
        "id": "MR_adqa4nH8e"
      }
    },
    {
      "cell_type": "code",
      "execution_count": 186,
      "metadata": {
        "id": "o_QUclw1nH8m"
      },
      "outputs": [],
      "source": [
        "def intToStringList(list1):\n",
        "  '''convert a list of int to list of strings\n",
        "\n",
        "  Parameters\n",
        "  list1: list of integers\n",
        "\n",
        "  Returns\n",
        "  list of str\n",
        "  '''\n",
        "  # type conversion using str()\n",
        "  new_list = [str(i) for i in list1]\n",
        "  return new_list"
      ]
    },
    {
      "cell_type": "code",
      "source": [
        "intToStringList(even_list)"
      ],
      "metadata": {
        "colab": {
          "base_uri": "https://localhost:8080/"
        },
        "outputId": "1e6cfb14-12dd-45e6-d71a-dac7628df68b",
        "id": "YtbIXD-BnH8n"
      },
      "execution_count": 187,
      "outputs": [
        {
          "output_type": "execute_result",
          "data": {
            "text/plain": [
              "['2', '4', '6', '8', '10', '12', '14', '16', '18', '20']"
            ]
          },
          "metadata": {},
          "execution_count": 187
        }
      ]
    },
    {
      "cell_type": "markdown",
      "source": [
        "### 28. Flatten a nested list."
      ],
      "metadata": {
        "id": "-mhh5gu4oWGY"
      }
    },
    {
      "cell_type": "code",
      "execution_count": 188,
      "metadata": {
        "id": "frxI2H1voWGY"
      },
      "outputs": [],
      "source": [
        "def flattenList(l):\n",
        "  '''flatten a nested list\n",
        "\n",
        "  Parameters\n",
        "  l: list\n",
        "\n",
        "  Returns\n",
        "  1D list\n",
        "  '''\n",
        "  new_list = []\n",
        "  for i in l:\n",
        "    # use extend() to extend if i is a list\n",
        "    # recursion is used for multi-nested list\n",
        "    if type(i) == list:\n",
        "      new_list.extend(flattenList(i))\n",
        "    # append if i is a value\n",
        "    else:\n",
        "      new_list.append(i)\n",
        "  return new_list"
      ]
    },
    {
      "cell_type": "code",
      "source": [
        "flattenList([1, 2, [3, 4, [5, 6]], 7, 8, [9, [10]]])"
      ],
      "metadata": {
        "colab": {
          "base_uri": "https://localhost:8080/"
        },
        "outputId": "34736cbe-6ae7-4f6e-88be-74d002ddfa53",
        "id": "aW0BmpRaoWGY"
      },
      "execution_count": 189,
      "outputs": [
        {
          "output_type": "execute_result",
          "data": {
            "text/plain": [
              "[1, 2, 3, 4, 5, 6, 7, 8, 9, 10]"
            ]
          },
          "metadata": {},
          "execution_count": 189
        }
      ]
    },
    {
      "cell_type": "markdown",
      "source": [
        "### 29. Create a list of the first 10 Fibonacci numbers."
      ],
      "metadata": {
        "id": "FDqw62bRoWGY"
      }
    },
    {
      "cell_type": "code",
      "execution_count": 190,
      "metadata": {
        "id": "_Ng4v69xoWGY"
      },
      "outputs": [],
      "source": [
        "def fibo(n):\n",
        "  '''finding the nth fibonacci number\n",
        "\n",
        "  Parameters\n",
        "  n: nth value in fibonacci sequence\n",
        "\n",
        "  Returns\n",
        "  int value\n",
        "  '''\n",
        "  if n <= 2:\n",
        "    return 1\n",
        "  else:\n",
        "    return fibo(n-1) + fibo(n-2)"
      ]
    },
    {
      "cell_type": "code",
      "source": [
        "# create a list of first 10 fiboacci nos using list comprehension and fibo()\n",
        "fibo_list = [fibo(i+1) for i in range(10)]\n",
        "fibo_list"
      ],
      "metadata": {
        "colab": {
          "base_uri": "https://localhost:8080/"
        },
        "outputId": "89bdee6c-b998-4cbc-fc66-cc0a159b7725",
        "id": "X0mEWSNNoWGY"
      },
      "execution_count": 191,
      "outputs": [
        {
          "output_type": "execute_result",
          "data": {
            "text/plain": [
              "[1, 1, 2, 3, 5, 8, 13, 21, 34, 55]"
            ]
          },
          "metadata": {},
          "execution_count": 191
        }
      ]
    },
    {
      "cell_type": "markdown",
      "source": [
        "### 30. Check if a list is sorted."
      ],
      "metadata": {
        "id": "HHzonpchoWGZ"
      }
    },
    {
      "cell_type": "code",
      "execution_count": 192,
      "metadata": {
        "id": "7biG_OoCoWGZ"
      },
      "outputs": [],
      "source": [
        "def checkSorted(l):\n",
        "  '''check if list is sorted\n",
        "\n",
        "  Parameters\n",
        "  l: list of values\n",
        "\n",
        "  Returns\n",
        "  bool value\n",
        "  '''\n",
        "  if l == sorted(l):\n",
        "    return True\n",
        "  else:\n",
        "    return False"
      ]
    },
    {
      "cell_type": "code",
      "source": [
        "print(list1)\n",
        "checkSorted(list1)"
      ],
      "metadata": {
        "colab": {
          "base_uri": "https://localhost:8080/"
        },
        "outputId": "eab8cf1b-7f97-475d-bc25-70ec42366532",
        "id": "WjF4sgzPoWGZ"
      },
      "execution_count": 193,
      "outputs": [
        {
          "output_type": "stream",
          "name": "stdout",
          "text": [
            "[81, 64, 49, 36, 25, 16, 9, 4, 1, 43, 3, 3, 3, 3, 2, 2, 1, 1]\n"
          ]
        },
        {
          "output_type": "execute_result",
          "data": {
            "text/plain": [
              "False"
            ]
          },
          "metadata": {},
          "execution_count": 193
        }
      ]
    },
    {
      "cell_type": "code",
      "source": [
        "print(list2)\n",
        "checkSorted(list2)"
      ],
      "metadata": {
        "id": "H131mF17vsv4",
        "outputId": "98340a8a-bd56-482a-c7e5-e18835db6e0f",
        "colab": {
          "base_uri": "https://localhost:8080/"
        }
      },
      "execution_count": 194,
      "outputs": [
        {
          "output_type": "stream",
          "name": "stdout",
          "text": [
            "[43, 3, 3, 3, 3, 2, 2, 1, 1]\n"
          ]
        },
        {
          "output_type": "execute_result",
          "data": {
            "text/plain": [
              "False"
            ]
          },
          "metadata": {},
          "execution_count": 194
        }
      ]
    },
    {
      "cell_type": "markdown",
      "source": [
        "### 31. Rotate a list to the left by `n` positions."
      ],
      "metadata": {
        "id": "qfxM9ZKyoWGa"
      }
    },
    {
      "cell_type": "code",
      "execution_count": 195,
      "metadata": {
        "id": "pPEBte6ioWGa"
      },
      "outputs": [],
      "source": [
        "def rotateListLeft1(l,n):\n",
        "  '''rotate the list to the left by n positions\n",
        "\n",
        "  Parameters\n",
        "  l: list\n",
        "  n: no. of positions with which it needs to be rotated\n",
        "\n",
        "  Returns\n",
        "  new list rotated to left by n positions\n",
        "  '''\n",
        "  new_list = l.copy()\n",
        "  length = len(l)\n",
        "  for i in range(length):\n",
        "    index = (n+i)%length\n",
        "    new_list[i] = l[index]\n",
        "  return new_list"
      ]
    },
    {
      "cell_type": "code",
      "execution_count": 196,
      "metadata": {
        "id": "uvcYSnXv0XMD"
      },
      "outputs": [],
      "source": [
        "def rotateListLeft2(l,n):\n",
        "  '''rotate the list by n positions\n",
        "\n",
        "  Parameters\n",
        "  l: list\n",
        "  n: no. of positions with which it needs to be rotated\n",
        "\n",
        "  Returns\n",
        "  new list rotated to left by n positions\n",
        "  '''\n",
        "  # normalizing the n value for cases n more than length of list\n",
        "  n = n%len(l)\n",
        "  new_list =  l[n:] + l[:n]\n",
        "  return new_list"
      ]
    },
    {
      "cell_type": "code",
      "source": [
        "squares_list"
      ],
      "metadata": {
        "colab": {
          "base_uri": "https://localhost:8080/"
        },
        "outputId": "f538f598-d947-4511-fda1-0615892a1ae8",
        "id": "5JgqGSksoWGb"
      },
      "execution_count": 197,
      "outputs": [
        {
          "output_type": "execute_result",
          "data": {
            "text/plain": [
              "[1, 4, 9, 16, 25, 36, 49, 64, 81, 100]"
            ]
          },
          "metadata": {},
          "execution_count": 197
        }
      ]
    },
    {
      "cell_type": "code",
      "source": [
        "rotateListLeft1(squares_list,13)"
      ],
      "metadata": {
        "colab": {
          "base_uri": "https://localhost:8080/"
        },
        "outputId": "bca7cfbe-9e56-4648-c4aa-7e34524d9796",
        "id": "xrb_i4pwoWGb"
      },
      "execution_count": 198,
      "outputs": [
        {
          "output_type": "execute_result",
          "data": {
            "text/plain": [
              "[16, 25, 36, 49, 64, 81, 100, 1, 4, 9]"
            ]
          },
          "metadata": {},
          "execution_count": 198
        }
      ]
    },
    {
      "cell_type": "code",
      "source": [
        "rotateListLeft2(squares_list,3)"
      ],
      "metadata": {
        "colab": {
          "base_uri": "https://localhost:8080/"
        },
        "outputId": "d05ecc62-bca0-47c8-8b56-c07276e7c18b",
        "id": "KPAv9uTu3YCV"
      },
      "execution_count": 199,
      "outputs": [
        {
          "output_type": "execute_result",
          "data": {
            "text/plain": [
              "[16, 25, 36, 49, 64, 81, 100, 1, 4, 9]"
            ]
          },
          "metadata": {},
          "execution_count": 199
        }
      ]
    },
    {
      "cell_type": "markdown",
      "source": [
        "### 32. Rotate a list to the right by `n` positions."
      ],
      "metadata": {
        "id": "qkkoMStn3jxl"
      }
    },
    {
      "cell_type": "code",
      "execution_count": 200,
      "metadata": {
        "id": "lcaXDaZ73jxu"
      },
      "outputs": [],
      "source": [
        "def rotateListRight1(l,n):\n",
        "  '''rotate the list to the right by n positions\n",
        "\n",
        "  Parameters\n",
        "  l: list\n",
        "  n: no. of positions with which it needs to be rotated\n",
        "\n",
        "  Returns\n",
        "  new list rotated to right by n positions\n",
        "  '''\n",
        "  new_list = l.copy()\n",
        "  length = len(l)\n",
        "  for i in range(length):\n",
        "    index = abs((i-n)%length)\n",
        "    new_list[index] = l[i]\n",
        "  return new_list"
      ]
    },
    {
      "cell_type": "code",
      "execution_count": 201,
      "metadata": {
        "id": "JWuZrUxh3jxv"
      },
      "outputs": [],
      "source": [
        "def rotateListRight2(l,n):\n",
        "  '''rotate the list by n positions by n positions\n",
        "\n",
        "  Parameters\n",
        "  l: list\n",
        "  n: no. of positions with which it needs to be rotated\n",
        "\n",
        "  Returns\n",
        "  new list rotated to Right by n positions\n",
        "  '''\n",
        "  # normalizing the n value for cases n more than length of list\n",
        "  n = n%len(l)\n",
        "  new_list =  l[-n:] + l[:-n]\n",
        "  return new_list"
      ]
    },
    {
      "cell_type": "code",
      "source": [
        "squares_list"
      ],
      "metadata": {
        "colab": {
          "base_uri": "https://localhost:8080/"
        },
        "outputId": "5dae62c7-1c43-474c-8cf5-add05afd8a6a",
        "id": "cHcVeRQ33jxv"
      },
      "execution_count": 202,
      "outputs": [
        {
          "output_type": "execute_result",
          "data": {
            "text/plain": [
              "[1, 4, 9, 16, 25, 36, 49, 64, 81, 100]"
            ]
          },
          "metadata": {},
          "execution_count": 202
        }
      ]
    },
    {
      "cell_type": "code",
      "source": [
        "rotateListRight1(squares_list,13)"
      ],
      "metadata": {
        "colab": {
          "base_uri": "https://localhost:8080/"
        },
        "outputId": "7db9fd87-b965-43c2-8bfa-0775e4da63b7",
        "id": "1i1wCMzj3jxv"
      },
      "execution_count": 203,
      "outputs": [
        {
          "output_type": "execute_result",
          "data": {
            "text/plain": [
              "[16, 25, 36, 49, 64, 81, 100, 1, 4, 9]"
            ]
          },
          "metadata": {},
          "execution_count": 203
        }
      ]
    },
    {
      "cell_type": "code",
      "source": [
        "rotateListLeft2(squares_list,3)"
      ],
      "metadata": {
        "colab": {
          "base_uri": "https://localhost:8080/"
        },
        "outputId": "43a56c37-499b-46b3-f669-e262c724c9d8",
        "id": "TgBrgTC43jxv"
      },
      "execution_count": 204,
      "outputs": [
        {
          "output_type": "execute_result",
          "data": {
            "text/plain": [
              "[16, 25, 36, 49, 64, 81, 100, 1, 4, 9]"
            ]
          },
          "metadata": {},
          "execution_count": 204
        }
      ]
    },
    {
      "cell_type": "markdown",
      "source": [
        "### 33. Create a list of prime numbers up to 50."
      ],
      "metadata": {
        "id": "U0yKrsGKoWGb"
      }
    },
    {
      "cell_type": "code",
      "execution_count": 205,
      "metadata": {
        "id": "JdEIo_oeoWGb"
      },
      "outputs": [],
      "source": [
        "def isPrime(num):\n",
        "  '''check if the number is prime\n",
        "\n",
        "  Parameters\n",
        "  num: int value\n",
        "\n",
        "  Returns\n",
        "  bool value\n",
        "  '''\n",
        "  for i in range(2,num//2+1):\n",
        "    if num%i == 0:\n",
        "      return False\n",
        "  return True"
      ]
    },
    {
      "cell_type": "code",
      "source": [
        "# using list comprehension and the function isPrime() to get the the prime nos. upto 50\n",
        "prime_nos = [i for i in range(1,51) if isPrime(i)]\n",
        "prime_nos"
      ],
      "metadata": {
        "colab": {
          "base_uri": "https://localhost:8080/"
        },
        "outputId": "7271d4e5-8514-4e30-d29f-ff38c7d18d69",
        "id": "LBpaYgmloWGb"
      },
      "execution_count": 206,
      "outputs": [
        {
          "output_type": "execute_result",
          "data": {
            "text/plain": [
              "[1, 2, 3, 5, 7, 11, 13, 17, 19, 23, 29, 31, 37, 41, 43, 47]"
            ]
          },
          "metadata": {},
          "execution_count": 206
        }
      ]
    },
    {
      "cell_type": "markdown",
      "source": [
        "### 34. Split a list into chunks of size `n`."
      ],
      "metadata": {
        "id": "eqkxYTznoWGb"
      }
    },
    {
      "cell_type": "code",
      "execution_count": 207,
      "metadata": {
        "id": "4KT-XJTroWGb"
      },
      "outputs": [],
      "source": [
        "def createChunks(list1,n):\n",
        "  '''split a list into chunks of size n\n",
        "\n",
        "  Parameters\n",
        "  list1: list to be splitted\n",
        "  n: length of each chunk\n",
        "\n",
        "  Returns\n",
        "  list of chunks\n",
        "  '''\n",
        "  new_list = []\n",
        "  for i in range(0,len(list1),n):\n",
        "      chunk = list1[i:i+n]\n",
        "      # if length of list is less and there are not enough elements\n",
        "      # then for the last chunk initial elements of the list is added to make its size n\n",
        "      if i+n > len(list1):\n",
        "        chunk = chunk + list1[:(i+n)-len(list1)]\n",
        "      new_list.append(chunk)\n",
        "  return new_list"
      ]
    },
    {
      "cell_type": "code",
      "source": [
        "createChunks(squares_list,4)"
      ],
      "metadata": {
        "id": "OYpWsl1yEECF",
        "outputId": "c5a298d8-80ce-4de9-f242-b4d43cb4caae",
        "colab": {
          "base_uri": "https://localhost:8080/"
        }
      },
      "execution_count": 208,
      "outputs": [
        {
          "output_type": "execute_result",
          "data": {
            "text/plain": [
              "[[1, 4, 9, 16], [25, 36, 49, 64], [81, 100, 1, 4]]"
            ]
          },
          "metadata": {},
          "execution_count": 208
        }
      ]
    },
    {
      "cell_type": "markdown",
      "source": [
        "### 35. Find the second largest number in a list."
      ],
      "metadata": {
        "id": "bdm7WpaGi5RM"
      }
    },
    {
      "cell_type": "code",
      "execution_count": 209,
      "metadata": {
        "id": "Eb-ksnsbi5RN"
      },
      "outputs": [],
      "source": [
        "def secondMax(l):\n",
        "  '''second max number in the list\n",
        "\n",
        "  Parameters\n",
        "  list1: list to find the second max value\n",
        "\n",
        "  Returns\n",
        "  int  value\n",
        "  '''\n",
        "  sorted_list = sorted(l)\n",
        "  return sorted_list[-2]"
      ]
    },
    {
      "cell_type": "code",
      "source": [
        "secondMax(squares_list)"
      ],
      "metadata": {
        "id": "mo0vCVkFi5RN",
        "outputId": "0d457ea9-3258-49fd-ac9f-1206b50c8f1d",
        "colab": {
          "base_uri": "https://localhost:8080/"
        }
      },
      "execution_count": 210,
      "outputs": [
        {
          "output_type": "execute_result",
          "data": {
            "text/plain": [
              "81"
            ]
          },
          "metadata": {},
          "execution_count": 210
        }
      ]
    },
    {
      "cell_type": "markdown",
      "source": [
        "### 36. Replace every element in a list with its square."
      ],
      "metadata": {
        "id": "AYh-yGlOi5RN"
      }
    },
    {
      "cell_type": "code",
      "execution_count": 211,
      "metadata": {
        "id": "lTqnIKbzi5RN",
        "colab": {
          "base_uri": "https://localhost:8080/"
        },
        "outputId": "d27bd01d-84ce-47e0-b769-ad103be665a5"
      },
      "outputs": [
        {
          "output_type": "execute_result",
          "data": {
            "text/plain": [
              "[1, 2, 41, 12, 21]"
            ]
          },
          "metadata": {},
          "execution_count": 211
        }
      ],
      "source": [
        "lst = [1,2,41,12,21]\n",
        "lst"
      ]
    },
    {
      "cell_type": "code",
      "source": [
        "# update the lst with the square of the elements and use list comprehension to store it as a list\n",
        "lst = [i**2 for i in lst]\n",
        "lst"
      ],
      "metadata": {
        "id": "ENkPJp39gxXJ",
        "colab": {
          "base_uri": "https://localhost:8080/"
        },
        "outputId": "b3507022-81b7-42db-e672-759e3de8326d"
      },
      "execution_count": 212,
      "outputs": [
        {
          "output_type": "execute_result",
          "data": {
            "text/plain": [
              "[1, 4, 1681, 144, 441]"
            ]
          },
          "metadata": {},
          "execution_count": 212
        }
      ]
    },
    {
      "cell_type": "markdown",
      "source": [
        "### 37. Convert a list to a dictionary where list elements become keys and their indices become values."
      ],
      "metadata": {
        "id": "T9V3a_OflKvz"
      }
    },
    {
      "cell_type": "code",
      "execution_count": 213,
      "metadata": {
        "id": "wLpRxpkslKv7"
      },
      "outputs": [],
      "source": [
        "def listToDict(l):\n",
        "  '''convert list to dict with key equal to the values in list\n",
        "\n",
        "  Parameters\n",
        "  l: list\n",
        "\n",
        "  Returns\n",
        "  dict value\n",
        "  '''\n",
        "  import enum\n",
        "  list_dict = {}\n",
        "  for i in range(len(l)):\n",
        "    list_dict[l[i]] = i\n",
        "  return list_dict"
      ]
    },
    {
      "cell_type": "code",
      "source": [
        "listToDict(squares_list)"
      ],
      "metadata": {
        "outputId": "88f0a022-95f7-48b4-ba56-9840ae35e684",
        "colab": {
          "base_uri": "https://localhost:8080/"
        },
        "id": "7NgK3lfAlKv7"
      },
      "execution_count": 214,
      "outputs": [
        {
          "output_type": "execute_result",
          "data": {
            "text/plain": [
              "{1: 0, 4: 1, 9: 2, 16: 3, 25: 4, 36: 5, 49: 6, 64: 7, 81: 8, 100: 9}"
            ]
          },
          "metadata": {},
          "execution_count": 214
        }
      ]
    },
    {
      "cell_type": "markdown",
      "source": [
        "### 38. Shuffle the elements of a list randomly."
      ],
      "metadata": {
        "id": "gAmENnQ_oWGe"
      }
    },
    {
      "cell_type": "code",
      "execution_count": 215,
      "metadata": {
        "id": "Cg_Cb1UDoWGe",
        "outputId": "40e4be0b-e73c-480a-e09c-499d220892d5",
        "colab": {
          "base_uri": "https://localhost:8080/"
        }
      },
      "outputs": [
        {
          "output_type": "stream",
          "name": "stdout",
          "text": [
            "[43, 3, 3, 3, 3, 2, 2, 1, 1]\n"
          ]
        },
        {
          "output_type": "execute_result",
          "data": {
            "text/plain": [
              "[2, 3, 3, 3, 1, 3, 43, 2, 1]"
            ]
          },
          "metadata": {},
          "execution_count": 215
        }
      ],
      "source": [
        "print(list2)\n",
        "# using random.shuffle() to shuffle the elements of the list randomly\n",
        "random.shuffle(list2)\n",
        "list2"
      ]
    },
    {
      "cell_type": "markdown",
      "source": [
        "### 39. Create a list of the first 10 factorial numbers."
      ],
      "metadata": {
        "id": "pIrov3F8oN-1"
      }
    },
    {
      "cell_type": "code",
      "execution_count": 257,
      "metadata": {
        "id": "XE0VePsFoN-8"
      },
      "outputs": [],
      "source": [
        "def factorial(num):\n",
        "  '''find the factorial of the number\n",
        "\n",
        "  Parameters\n",
        "  num: int value\n",
        "\n",
        "  Returns\n",
        "  int value\n",
        "  '''\n",
        "  fact = 1\n",
        "  for i in range(1,num+1):\n",
        "    fact *= i\n",
        "  return fact"
      ]
    },
    {
      "cell_type": "code",
      "source": [
        "# using list comprehension and the function isPrime() to get the the prime nos. upto 50\n",
        "fact_list = [factorial(i) for i in range(1,11)]\n",
        "fact_list"
      ],
      "metadata": {
        "colab": {
          "base_uri": "https://localhost:8080/"
        },
        "outputId": "4b5da6ed-70a4-477f-ff47-94dd0bca50f4",
        "id": "HyNJIzqqoN-8"
      },
      "execution_count": 258,
      "outputs": [
        {
          "output_type": "execute_result",
          "data": {
            "text/plain": [
              "[1, 2, 6, 24, 120, 720, 5040, 40320, 362880, 3628800]"
            ]
          },
          "metadata": {},
          "execution_count": 258
        }
      ]
    },
    {
      "cell_type": "markdown",
      "source": [
        "### 40. Convert a string to a list of characters."
      ],
      "metadata": {
        "id": "o4Tfqci7oWGf"
      }
    },
    {
      "cell_type": "code",
      "execution_count": 221,
      "metadata": {
        "id": "W2mtoI69oWGf"
      },
      "outputs": [],
      "source": [
        "import re\n",
        "def checkEmail(email):\n",
        "  '''count the number of lowercase letters\n",
        "\n",
        "  Parameters\n",
        "  string\n",
        "\n",
        "  Returns\n",
        "  count: int value\n",
        "  '''\n",
        "  # using islower to check if char is a lower case letter and then using sum function to add all 1s [list comprehension]\n",
        "  regex = r'\\b[A-Za-z0-9._]+@[A-Za-z0-9.-]+\\.[A-Z|a-z]{2,7}\\b'\n",
        "  if(re.fullmatch(regex, email)):\n",
        "    return True\n",
        "  else:\n",
        "    return False"
      ]
    },
    {
      "cell_type": "code",
      "source": [
        "checkEmail('asd21asa_an@gmail.com')"
      ],
      "metadata": {
        "colab": {
          "base_uri": "https://localhost:8080/"
        },
        "outputId": "7c06fe16-3baf-4583-c364-8c291599b233",
        "id": "1K_hmkOAoWGf"
      },
      "execution_count": 222,
      "outputs": [
        {
          "output_type": "execute_result",
          "data": {
            "text/plain": [
              "True"
            ]
          },
          "metadata": {},
          "execution_count": 222
        }
      ]
    },
    {
      "cell_type": "code",
      "source": [
        "checkEmail('sa-.jhn@g12mail.com')"
      ],
      "metadata": {
        "colab": {
          "base_uri": "https://localhost:8080/"
        },
        "outputId": "2c99e7cf-60f0-404f-ebff-6256da89d50a",
        "id": "OXqYJCFeoWGf"
      },
      "execution_count": 223,
      "outputs": [
        {
          "output_type": "execute_result",
          "data": {
            "text/plain": [
              "False"
            ]
          },
          "metadata": {},
          "execution_count": 223
        }
      ]
    },
    {
      "cell_type": "markdown",
      "source": [
        "### 41. Check if two strings are anagrams."
      ],
      "metadata": {
        "id": "uNlczfN2oWGf"
      }
    },
    {
      "cell_type": "code",
      "execution_count": 224,
      "metadata": {
        "id": "KZebkg8MoWGf"
      },
      "outputs": [],
      "source": [
        "import re\n",
        "def checkEmail(email):\n",
        "  '''count the number of lowercase letters\n",
        "\n",
        "  Parameters\n",
        "  string\n",
        "\n",
        "  Returns\n",
        "  count: int value\n",
        "  '''\n",
        "  # using islower to check if char is a lower case letter and then using sum function to add all 1s [list comprehension]\n",
        "  regex = r'\\b[A-Za-z0-9._]+@[A-Za-z0-9.-]+\\.[A-Z|a-z]{2,7}\\b'\n",
        "  if(re.fullmatch(regex, email)):\n",
        "    return True\n",
        "  else:\n",
        "    return False"
      ]
    },
    {
      "cell_type": "code",
      "source": [
        "checkEmail('asd21asa_an@gmail.com')"
      ],
      "metadata": {
        "colab": {
          "base_uri": "https://localhost:8080/"
        },
        "outputId": "478c0956-2e8b-4b36-f7e9-4acc65926ecd",
        "id": "8MWf4TVwoWGg"
      },
      "execution_count": 225,
      "outputs": [
        {
          "output_type": "execute_result",
          "data": {
            "text/plain": [
              "True"
            ]
          },
          "metadata": {},
          "execution_count": 225
        }
      ]
    },
    {
      "cell_type": "code",
      "source": [
        "checkEmail('sa-.jhn@g12mail.com')"
      ],
      "metadata": {
        "colab": {
          "base_uri": "https://localhost:8080/"
        },
        "outputId": "f6c08c64-6a91-4157-e649-b6ffcb052917",
        "id": "cA6KnwDloWGg"
      },
      "execution_count": 226,
      "outputs": [
        {
          "output_type": "execute_result",
          "data": {
            "text/plain": [
              "False"
            ]
          },
          "metadata": {},
          "execution_count": 226
        }
      ]
    },
    {
      "cell_type": "markdown",
      "source": [
        "### 42. Encode a string using a Caesar cipher."
      ],
      "metadata": {
        "id": "-0EXkFqAoWGg"
      }
    },
    {
      "cell_type": "code",
      "execution_count": 227,
      "metadata": {
        "id": "oDnXitwToWGg"
      },
      "outputs": [],
      "source": [
        "import re\n",
        "def checkEmail(email):\n",
        "  '''count the number of lowercase letters\n",
        "\n",
        "  Parameters\n",
        "  string\n",
        "\n",
        "  Returns\n",
        "  count: int value\n",
        "  '''\n",
        "  # using islower to check if char is a lower case letter and then using sum function to add all 1s [list comprehension]\n",
        "  regex = r'\\b[A-Za-z0-9._]+@[A-Za-z0-9.-]+\\.[A-Z|a-z]{2,7}\\b'\n",
        "  if(re.fullmatch(regex, email)):\n",
        "    return True\n",
        "  else:\n",
        "    return False"
      ]
    },
    {
      "cell_type": "code",
      "source": [
        "checkEmail('asd21asa_an@gmail.com')"
      ],
      "metadata": {
        "colab": {
          "base_uri": "https://localhost:8080/"
        },
        "outputId": "0fe4530b-a3d2-457a-9ac4-86d0a14633f5",
        "id": "PzoiKzSXoWGg"
      },
      "execution_count": 228,
      "outputs": [
        {
          "output_type": "execute_result",
          "data": {
            "text/plain": [
              "True"
            ]
          },
          "metadata": {},
          "execution_count": 228
        }
      ]
    },
    {
      "cell_type": "code",
      "source": [
        "checkEmail('sa-.jhn@g12mail.com')"
      ],
      "metadata": {
        "colab": {
          "base_uri": "https://localhost:8080/"
        },
        "outputId": "d22b0288-c365-461e-c754-60e8f572b4ed",
        "id": "NoX3un_noWGj"
      },
      "execution_count": 229,
      "outputs": [
        {
          "output_type": "execute_result",
          "data": {
            "text/plain": [
              "False"
            ]
          },
          "metadata": {},
          "execution_count": 229
        }
      ]
    },
    {
      "cell_type": "markdown",
      "source": [
        "### 43. Decode a Caesar cipher encoded string."
      ],
      "metadata": {
        "id": "tmxkfyLhoWGj"
      }
    },
    {
      "cell_type": "code",
      "execution_count": 230,
      "metadata": {
        "id": "WnV7ImQZoWGj"
      },
      "outputs": [],
      "source": [
        "import re\n",
        "def checkEmail(email):\n",
        "  '''count the number of lowercase letters\n",
        "\n",
        "  Parameters\n",
        "  string\n",
        "\n",
        "  Returns\n",
        "  count: int value\n",
        "  '''\n",
        "  # using islower to check if char is a lower case letter and then using sum function to add all 1s [list comprehension]\n",
        "  regex = r'\\b[A-Za-z0-9._]+@[A-Za-z0-9.-]+\\.[A-Z|a-z]{2,7}\\b'\n",
        "  if(re.fullmatch(regex, email)):\n",
        "    return True\n",
        "  else:\n",
        "    return False"
      ]
    },
    {
      "cell_type": "code",
      "source": [
        "checkEmail('asd21asa_an@gmail.com')"
      ],
      "metadata": {
        "colab": {
          "base_uri": "https://localhost:8080/"
        },
        "outputId": "b897ff4b-03e9-430a-ecad-32ecc7f6693a",
        "id": "ddaNxO4soWGj"
      },
      "execution_count": 231,
      "outputs": [
        {
          "output_type": "execute_result",
          "data": {
            "text/plain": [
              "True"
            ]
          },
          "metadata": {},
          "execution_count": 231
        }
      ]
    },
    {
      "cell_type": "code",
      "source": [
        "checkEmail('sa-.jhn@g12mail.com')"
      ],
      "metadata": {
        "colab": {
          "base_uri": "https://localhost:8080/"
        },
        "outputId": "b21aca37-0ff7-4ca8-c5c3-ce47a3f5de80",
        "id": "-ouweQeEoWGj"
      },
      "execution_count": 232,
      "outputs": [
        {
          "output_type": "execute_result",
          "data": {
            "text/plain": [
              "False"
            ]
          },
          "metadata": {},
          "execution_count": 232
        }
      ]
    },
    {
      "cell_type": "markdown",
      "source": [
        "44. Find the most frequent word in a string."
      ],
      "metadata": {
        "id": "T2CugEV6oWGj"
      }
    },
    {
      "cell_type": "code",
      "execution_count": 233,
      "metadata": {
        "id": "5_2Q650LoWGk"
      },
      "outputs": [],
      "source": [
        "import re\n",
        "def checkEmail(email):\n",
        "  '''count the number of lowercase letters\n",
        "\n",
        "  Parameters\n",
        "  string\n",
        "\n",
        "  Returns\n",
        "  count: int value\n",
        "  '''\n",
        "  # using islower to check if char is a lower case letter and then using sum function to add all 1s [list comprehension]\n",
        "  regex = r'\\b[A-Za-z0-9._]+@[A-Za-z0-9.-]+\\.[A-Z|a-z]{2,7}\\b'\n",
        "  if(re.fullmatch(regex, email)):\n",
        "    return True\n",
        "  else:\n",
        "    return False"
      ]
    },
    {
      "cell_type": "code",
      "source": [
        "checkEmail('asd21asa_an@gmail.com')"
      ],
      "metadata": {
        "colab": {
          "base_uri": "https://localhost:8080/"
        },
        "outputId": "85756989-d2d5-48f0-f11c-6322152e1413",
        "id": "aLTtq_3BoWGk"
      },
      "execution_count": 234,
      "outputs": [
        {
          "output_type": "execute_result",
          "data": {
            "text/plain": [
              "True"
            ]
          },
          "metadata": {},
          "execution_count": 234
        }
      ]
    },
    {
      "cell_type": "code",
      "source": [
        "checkEmail('sa-.jhn@g12mail.com')"
      ],
      "metadata": {
        "colab": {
          "base_uri": "https://localhost:8080/"
        },
        "outputId": "6159587d-ee81-4168-8d07-3d5a8b577316",
        "id": "CVlAf45ZoWGk"
      },
      "execution_count": 235,
      "outputs": [
        {
          "output_type": "execute_result",
          "data": {
            "text/plain": [
              "False"
            ]
          },
          "metadata": {},
          "execution_count": 235
        }
      ]
    },
    {
      "cell_type": "markdown",
      "source": [
        "### 44. Find the most frequent word in a string."
      ],
      "metadata": {
        "id": "HxXVfzKKoWGk"
      }
    },
    {
      "cell_type": "code",
      "execution_count": 236,
      "metadata": {
        "id": "HxuyKve-oWGk"
      },
      "outputs": [],
      "source": [
        "import re\n",
        "def checkEmail(email):\n",
        "  '''count the number of lowercase letters\n",
        "\n",
        "  Parameters\n",
        "  string\n",
        "\n",
        "  Returns\n",
        "  count: int value\n",
        "  '''\n",
        "  # using islower to check if char is a lower case letter and then using sum function to add all 1s [list comprehension]\n",
        "  regex = r'\\b[A-Za-z0-9._]+@[A-Za-z0-9.-]+\\.[A-Z|a-z]{2,7}\\b'\n",
        "  if(re.fullmatch(regex, email)):\n",
        "    return True\n",
        "  else:\n",
        "    return False"
      ]
    },
    {
      "cell_type": "code",
      "source": [
        "checkEmail('asd21asa_an@gmail.com')"
      ],
      "metadata": {
        "colab": {
          "base_uri": "https://localhost:8080/"
        },
        "outputId": "e2bde01b-4f5f-4052-c918-9b2eeb2f70dd",
        "id": "LkRan4jJoWGk"
      },
      "execution_count": 237,
      "outputs": [
        {
          "output_type": "execute_result",
          "data": {
            "text/plain": [
              "True"
            ]
          },
          "metadata": {},
          "execution_count": 237
        }
      ]
    },
    {
      "cell_type": "code",
      "source": [
        "checkEmail('sa-.jhn@g12mail.com')"
      ],
      "metadata": {
        "colab": {
          "base_uri": "https://localhost:8080/"
        },
        "outputId": "c8111ba3-5e51-42a9-c426-f6bd2c6dff7d",
        "id": "R-MnmAkeoWGl"
      },
      "execution_count": 238,
      "outputs": [
        {
          "output_type": "execute_result",
          "data": {
            "text/plain": [
              "False"
            ]
          },
          "metadata": {},
          "execution_count": 238
        }
      ]
    },
    {
      "cell_type": "markdown",
      "source": [
        "### 45. Find all unique words in a string."
      ],
      "metadata": {
        "id": "konb92SHoWGl"
      }
    },
    {
      "cell_type": "code",
      "execution_count": 239,
      "metadata": {
        "id": "O2SFiLYBoWGl"
      },
      "outputs": [],
      "source": [
        "import re\n",
        "def checkEmail(email):\n",
        "  '''count the number of lowercase letters\n",
        "\n",
        "  Parameters\n",
        "  string\n",
        "\n",
        "  Returns\n",
        "  count: int value\n",
        "  '''\n",
        "  # using islower to check if char is a lower case letter and then using sum function to add all 1s [list comprehension]\n",
        "  regex = r'\\b[A-Za-z0-9._]+@[A-Za-z0-9.-]+\\.[A-Z|a-z]{2,7}\\b'\n",
        "  if(re.fullmatch(regex, email)):\n",
        "    return True\n",
        "  else:\n",
        "    return False"
      ]
    },
    {
      "cell_type": "code",
      "source": [
        "checkEmail('asd21asa_an@gmail.com')"
      ],
      "metadata": {
        "colab": {
          "base_uri": "https://localhost:8080/"
        },
        "outputId": "d28488b5-c424-4269-a138-a251939b311f",
        "id": "kWjusG_VoWGl"
      },
      "execution_count": 240,
      "outputs": [
        {
          "output_type": "execute_result",
          "data": {
            "text/plain": [
              "True"
            ]
          },
          "metadata": {},
          "execution_count": 240
        }
      ]
    },
    {
      "cell_type": "code",
      "source": [
        "checkEmail('sa-.jhn@g12mail.com')"
      ],
      "metadata": {
        "colab": {
          "base_uri": "https://localhost:8080/"
        },
        "outputId": "f2c4d569-3a96-4c5c-8b89-74273c8b0839",
        "id": "5yiI4aV4oWGl"
      },
      "execution_count": 241,
      "outputs": [
        {
          "output_type": "execute_result",
          "data": {
            "text/plain": [
              "False"
            ]
          },
          "metadata": {},
          "execution_count": 241
        }
      ]
    },
    {
      "cell_type": "markdown",
      "source": [
        "### 46. Count the number of syllables in a string."
      ],
      "metadata": {
        "id": "v1RNxn_soWGl"
      }
    },
    {
      "cell_type": "code",
      "execution_count": 242,
      "metadata": {
        "id": "G2u_s-cAoWGl"
      },
      "outputs": [],
      "source": [
        "import re\n",
        "def checkEmail(email):\n",
        "  '''count the number of lowercase letters\n",
        "\n",
        "  Parameters\n",
        "  string\n",
        "\n",
        "  Returns\n",
        "  count: int value\n",
        "  '''\n",
        "  # using islower to check if char is a lower case letter and then using sum function to add all 1s [list comprehension]\n",
        "  regex = r'\\b[A-Za-z0-9._]+@[A-Za-z0-9.-]+\\.[A-Z|a-z]{2,7}\\b'\n",
        "  if(re.fullmatch(regex, email)):\n",
        "    return True\n",
        "  else:\n",
        "    return False"
      ]
    },
    {
      "cell_type": "code",
      "source": [
        "checkEmail('asd21asa_an@gmail.com')"
      ],
      "metadata": {
        "colab": {
          "base_uri": "https://localhost:8080/"
        },
        "outputId": "ef6fcb52-4357-4f59-a3e9-070b3dac3c92",
        "id": "m7tTtbFsoWGm"
      },
      "execution_count": 243,
      "outputs": [
        {
          "output_type": "execute_result",
          "data": {
            "text/plain": [
              "True"
            ]
          },
          "metadata": {},
          "execution_count": 243
        }
      ]
    },
    {
      "cell_type": "code",
      "source": [
        "checkEmail('sa-.jhn@g12mail.com')"
      ],
      "metadata": {
        "colab": {
          "base_uri": "https://localhost:8080/"
        },
        "outputId": "beb2f1b4-8d2c-4556-de68-4135fe24c3f0",
        "id": "YxR3E3DeoWGm"
      },
      "execution_count": 244,
      "outputs": [
        {
          "output_type": "execute_result",
          "data": {
            "text/plain": [
              "False"
            ]
          },
          "metadata": {},
          "execution_count": 244
        }
      ]
    },
    {
      "cell_type": "markdown",
      "source": [
        "### 47. Check if a string contains any special characters."
      ],
      "metadata": {
        "id": "5i-G-L9poWGm"
      }
    },
    {
      "cell_type": "code",
      "execution_count": 245,
      "metadata": {
        "id": "otAqCyeqoWGm"
      },
      "outputs": [],
      "source": [
        "import re\n",
        "def checkEmail(email):\n",
        "  '''count the number of lowercase letters\n",
        "\n",
        "  Parameters\n",
        "  string\n",
        "\n",
        "  Returns\n",
        "  count: int value\n",
        "  '''\n",
        "  # using islower to check if char is a lower case letter and then using sum function to add all 1s [list comprehension]\n",
        "  regex = r'\\b[A-Za-z0-9._]+@[A-Za-z0-9.-]+\\.[A-Z|a-z]{2,7}\\b'\n",
        "  if(re.fullmatch(regex, email)):\n",
        "    return True\n",
        "  else:\n",
        "    return False"
      ]
    },
    {
      "cell_type": "code",
      "source": [
        "checkEmail('asd21asa_an@gmail.com')"
      ],
      "metadata": {
        "colab": {
          "base_uri": "https://localhost:8080/"
        },
        "outputId": "5409e377-5868-413f-fb52-f407d2448dca",
        "id": "CKdppGbQoWGm"
      },
      "execution_count": 246,
      "outputs": [
        {
          "output_type": "execute_result",
          "data": {
            "text/plain": [
              "True"
            ]
          },
          "metadata": {},
          "execution_count": 246
        }
      ]
    },
    {
      "cell_type": "code",
      "source": [
        "checkEmail('sa-.jhn@g12mail.com')"
      ],
      "metadata": {
        "colab": {
          "base_uri": "https://localhost:8080/"
        },
        "outputId": "8cfcfc75-3315-41fd-ede4-3f8d7fea03d9",
        "id": "c4sAgp-0oWGm"
      },
      "execution_count": 247,
      "outputs": [
        {
          "output_type": "execute_result",
          "data": {
            "text/plain": [
              "False"
            ]
          },
          "metadata": {},
          "execution_count": 247
        }
      ]
    },
    {
      "cell_type": "markdown",
      "source": [
        "### 48. Remove the nth word from a string."
      ],
      "metadata": {
        "id": "FCRSb8cfoWGm"
      }
    },
    {
      "cell_type": "code",
      "execution_count": 248,
      "metadata": {
        "id": "16ROkPQCoWGm"
      },
      "outputs": [],
      "source": [
        "import re\n",
        "def checkEmail(email):\n",
        "  '''count the number of lowercase letters\n",
        "\n",
        "  Parameters\n",
        "  string\n",
        "\n",
        "  Returns\n",
        "  count: int value\n",
        "  '''\n",
        "  # using islower to check if char is a lower case letter and then using sum function to add all 1s [list comprehension]\n",
        "  regex = r'\\b[A-Za-z0-9._]+@[A-Za-z0-9.-]+\\.[A-Z|a-z]{2,7}\\b'\n",
        "  if(re.fullmatch(regex, email)):\n",
        "    return True\n",
        "  else:\n",
        "    return False"
      ]
    },
    {
      "cell_type": "code",
      "source": [
        "checkEmail('asd21asa_an@gmail.com')"
      ],
      "metadata": {
        "colab": {
          "base_uri": "https://localhost:8080/"
        },
        "outputId": "1e8a1f5c-55c1-42ad-d6ff-626b91cafa33",
        "id": "DYtzhgwioWGn"
      },
      "execution_count": 249,
      "outputs": [
        {
          "output_type": "execute_result",
          "data": {
            "text/plain": [
              "True"
            ]
          },
          "metadata": {},
          "execution_count": 249
        }
      ]
    },
    {
      "cell_type": "code",
      "source": [
        "checkEmail('sa-.jhn@g12mail.com')"
      ],
      "metadata": {
        "colab": {
          "base_uri": "https://localhost:8080/"
        },
        "outputId": "37d459c5-d6f9-41df-baf8-95faa27efe51",
        "id": "M0peVjxjoWGn"
      },
      "execution_count": 250,
      "outputs": [
        {
          "output_type": "execute_result",
          "data": {
            "text/plain": [
              "False"
            ]
          },
          "metadata": {},
          "execution_count": 250
        }
      ]
    },
    {
      "cell_type": "markdown",
      "source": [
        "### 49. Insert a word at the nth position in a string."
      ],
      "metadata": {
        "id": "xpdrOd1YoWGn"
      }
    },
    {
      "cell_type": "code",
      "execution_count": 251,
      "metadata": {
        "id": "aGg0_I3aoWGn"
      },
      "outputs": [],
      "source": [
        "import re\n",
        "def checkEmail(email):\n",
        "  '''count the number of lowercase letters\n",
        "\n",
        "  Parameters\n",
        "  string\n",
        "\n",
        "  Returns\n",
        "  count: int value\n",
        "  '''\n",
        "  # using islower to check if char is a lower case letter and then using sum function to add all 1s [list comprehension]\n",
        "  regex = r'\\b[A-Za-z0-9._]+@[A-Za-z0-9.-]+\\.[A-Z|a-z]{2,7}\\b'\n",
        "  if(re.fullmatch(regex, email)):\n",
        "    return True\n",
        "  else:\n",
        "    return False"
      ]
    },
    {
      "cell_type": "code",
      "source": [
        "checkEmail('asd21asa_an@gmail.com')"
      ],
      "metadata": {
        "colab": {
          "base_uri": "https://localhost:8080/"
        },
        "outputId": "5f5cfbf3-6cab-4202-9251-820f29bf1ef4",
        "id": "q-cRrjCnoWGn"
      },
      "execution_count": 252,
      "outputs": [
        {
          "output_type": "execute_result",
          "data": {
            "text/plain": [
              "True"
            ]
          },
          "metadata": {},
          "execution_count": 252
        }
      ]
    },
    {
      "cell_type": "code",
      "source": [
        "checkEmail('sa-.jhn@g12mail.com')"
      ],
      "metadata": {
        "colab": {
          "base_uri": "https://localhost:8080/"
        },
        "outputId": "9eb25cd8-e2ff-4a52-e3d8-39922074bbb1",
        "id": "zPdaR5qPoWGn"
      },
      "execution_count": 253,
      "outputs": [
        {
          "output_type": "execute_result",
          "data": {
            "text/plain": [
              "False"
            ]
          },
          "metadata": {},
          "execution_count": 253
        }
      ]
    },
    {
      "cell_type": "markdown",
      "source": [
        "### 50. Convert a CSV string to a list of lists."
      ],
      "metadata": {
        "id": "iXYh1gwYoWGn"
      }
    },
    {
      "cell_type": "code",
      "execution_count": 254,
      "metadata": {
        "id": "pvgY2daRoWGn"
      },
      "outputs": [],
      "source": [
        "import re\n",
        "def checkEmail(email):\n",
        "  '''count the number of lowercase letters\n",
        "\n",
        "  Parameters\n",
        "  string\n",
        "\n",
        "  Returns\n",
        "  count: int value\n",
        "  '''\n",
        "  # using islower to check if char is a lower case letter and then using sum function to add all 1s [list comprehension]\n",
        "  regex = r'\\b[A-Za-z0-9._]+@[A-Za-z0-9.-]+\\.[A-Z|a-z]{2,7}\\b'\n",
        "  if(re.fullmatch(regex, email)):\n",
        "    return True\n",
        "  else:\n",
        "    return False"
      ]
    },
    {
      "cell_type": "code",
      "source": [
        "checkEmail('asd21asa_an@gmail.com')"
      ],
      "metadata": {
        "colab": {
          "base_uri": "https://localhost:8080/"
        },
        "outputId": "5392cbdf-cabd-4647-c58f-0f23f6983ad7",
        "id": "9-7fT1fUoWGo"
      },
      "execution_count": 255,
      "outputs": [
        {
          "output_type": "execute_result",
          "data": {
            "text/plain": [
              "True"
            ]
          },
          "metadata": {},
          "execution_count": 255
        }
      ]
    },
    {
      "cell_type": "code",
      "source": [
        "checkEmail('sa-.jhn@g12mail.com')"
      ],
      "metadata": {
        "colab": {
          "base_uri": "https://localhost:8080/"
        },
        "outputId": "f3d88643-a129-4ef2-ddff-c4168a02210f",
        "id": "NmyUGxL4oWGo"
      },
      "execution_count": 256,
      "outputs": [
        {
          "output_type": "execute_result",
          "data": {
            "text/plain": [
              "False"
            ]
          },
          "metadata": {},
          "execution_count": 256
        }
      ]
    }
  ]
}