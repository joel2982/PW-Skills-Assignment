{
  "nbformat": 4,
  "nbformat_minor": 0,
  "metadata": {
    "colab": {
      "provenance": [],
      "collapsed_sections": [
        "lpbCUtU8q71m",
        "41CoAVqU4HfU"
      ],
      "authorship_tag": "ABX9TyOTDk/UKzjLyi8zhc+0CCbl",
      "include_colab_link": true
    },
    "kernelspec": {
      "name": "python3",
      "display_name": "Python 3"
    },
    "language_info": {
      "name": "python"
    }
  },
  "cells": [
    {
      "cell_type": "markdown",
      "metadata": {
        "id": "view-in-github",
        "colab_type": "text"
      },
      "source": [
        "<a href=\"https://colab.research.google.com/github/joel2982/PW-Skills-Assignment/blob/master/3rd_September_For_Loop_Assignment_Questions.ipynb\" target=\"_parent\"><img src=\"https://colab.research.google.com/assets/colab-badge.svg\" alt=\"Open In Colab\"/></a>"
      ]
    },
    {
      "cell_type": "markdown",
      "source": [
        "## Basic Level"
      ],
      "metadata": {
        "id": "lpbCUtU8q71m"
      }
    },
    {
      "cell_type": "markdown",
      "source": [
        "### 1. Write a Python program to print the numbers from 1 to 10 using a `for` loop."
      ],
      "metadata": {
        "id": "xuAwpXDxrFtp"
      }
    },
    {
      "cell_type": "code",
      "execution_count": null,
      "metadata": {
        "colab": {
          "base_uri": "https://localhost:8080/"
        },
        "id": "Sio_lN26qAXa",
        "outputId": "e2ca6ad5-7eb7-4c69-aca8-1b0a58bab5f4"
      },
      "outputs": [
        {
          "output_type": "stream",
          "name": "stdout",
          "text": [
            "1 2 3 4 5 6 7 8 9 10 "
          ]
        }
      ],
      "source": [
        "# iterating from 1-11 (11 excluded)\n",
        "for i in range(1,11):\n",
        "  print(i,end=' ')"
      ]
    },
    {
      "cell_type": "markdown",
      "source": [
        "### 2. Create a program that calculates the sum of all numbers in a list using a `for` loop."
      ],
      "metadata": {
        "id": "0iJ8kDfhscLB"
      }
    },
    {
      "cell_type": "code",
      "source": [
        "def sumOfList(list):\n",
        "  '''\n",
        "  calculate the sum of the given list\n",
        "\n",
        "  Parameters\n",
        "  list: list value\n",
        "\n",
        "  Returns\n",
        "  int value\n",
        "  '''\n",
        "  sum = 0\n",
        "  for i in list:\n",
        "    sum += i\n",
        "  return sum\n",
        "sumOfList([1,2,3,4,5])"
      ],
      "metadata": {
        "colab": {
          "base_uri": "https://localhost:8080/"
        },
        "id": "tNg4Rpb0tS-Z",
        "outputId": "9c97e26b-88b7-4fe7-a330-b67cec52bd8a"
      },
      "execution_count": null,
      "outputs": [
        {
          "output_type": "execute_result",
          "data": {
            "text/plain": [
              "15"
            ]
          },
          "metadata": {},
          "execution_count": 6
        }
      ]
    },
    {
      "cell_type": "markdown",
      "source": [
        "### 3. Write a program to print the characters of a string in reverse order using a `for` loop."
      ],
      "metadata": {
        "id": "gkI3IYwRspbS"
      }
    },
    {
      "cell_type": "code",
      "source": [
        "def stringReverse(string):\n",
        "  '''\n",
        "  print the reverse of the given string\n",
        "\n",
        "  Parameters\n",
        "  string: str value\n",
        "  '''\n",
        "  n = len(string)\n",
        "  for i in range(n-1,-1,-1):\n",
        "    print(string[i],end='')\n",
        "\n",
        "stringReverse(\"water\")"
      ],
      "metadata": {
        "colab": {
          "base_uri": "https://localhost:8080/"
        },
        "id": "OSJXZQfTrVUp",
        "outputId": "00a8e055-44d9-413d-9bdf-8e1d2f36f1f8"
      },
      "execution_count": null,
      "outputs": [
        {
          "output_type": "stream",
          "name": "stdout",
          "text": [
            "retaw"
          ]
        }
      ]
    },
    {
      "cell_type": "markdown",
      "source": [
        "### 4. Develop a program that finds the factorial of a given number using a `for` loop."
      ],
      "metadata": {
        "id": "NIyruAvpsw6t"
      }
    },
    {
      "cell_type": "code",
      "source": [
        "def factorial(num):\n",
        "  '''\n",
        "  find the factorial of the given number\n",
        "\n",
        "  Parameters\n",
        "  num: int value\n",
        "\n",
        "  Returns\n",
        "  int value\n",
        "  '''\n",
        "  fact = 1\n",
        "  for i in range(1,num+1):\n",
        "    fact *= i\n",
        "  return fact\n",
        "factorial(5)"
      ],
      "metadata": {
        "colab": {
          "base_uri": "https://localhost:8080/"
        },
        "id": "dX0hz3t6s6-E",
        "outputId": "28064a46-f34a-4e91-d0ce-84e0568d12b6"
      },
      "execution_count": null,
      "outputs": [
        {
          "output_type": "execute_result",
          "data": {
            "text/plain": [
              "120"
            ]
          },
          "metadata": {},
          "execution_count": 8
        }
      ]
    },
    {
      "cell_type": "markdown",
      "source": [
        "### 5. Create a program to print the multiplication table of a given number using a `for` loop."
      ],
      "metadata": {
        "id": "LINkWGgrs2V_"
      }
    },
    {
      "cell_type": "code",
      "source": [
        "def multiplicationTable(num):\n",
        "  '''\n",
        "  print the multiplication table of the given number\n",
        "\n",
        "  Parameters\n",
        "  num: int value\n",
        "  '''\n",
        "  for i in range(1,11):\n",
        "    print(num,'X',i,'=',num*i)\n",
        "multiplicationTable(6)"
      ],
      "metadata": {
        "colab": {
          "base_uri": "https://localhost:8080/"
        },
        "id": "GQ_CZDohsQTi",
        "outputId": "21092861-eccb-48c9-87d0-4af28c539eed"
      },
      "execution_count": null,
      "outputs": [
        {
          "output_type": "stream",
          "name": "stdout",
          "text": [
            "6 X 1 = 6\n",
            "6 X 2 = 12\n",
            "6 X 3 = 18\n",
            "6 X 4 = 24\n",
            "6 X 5 = 30\n",
            "6 X 6 = 36\n",
            "6 X 7 = 42\n",
            "6 X 8 = 48\n",
            "6 X 9 = 54\n",
            "6 X 10 = 60\n"
          ]
        }
      ]
    },
    {
      "cell_type": "markdown",
      "source": [
        "### 6. Write a program that counts the number of even and odd numbers in a list using a `for` loop."
      ],
      "metadata": {
        "id": "2t3ui53Ds-SO"
      }
    },
    {
      "cell_type": "code",
      "source": [
        "def oddEvenNums(list):\n",
        "  '''\n",
        "  find the number of even and odd numbers in the list\n",
        "\n",
        "  Parameters\n",
        "  list: list value\n",
        "  '''\n",
        "  even = 0\n",
        "  odd = 0\n",
        "  for element in list:\n",
        "    if element%2 == 0:\n",
        "      even += 1\n",
        "    else:\n",
        "      odd += 1\n",
        "  print(\"Toal Odd Numbers in the List:\",odd)\n",
        "  print(\"Toal Even Numbers in the List:\",even)\n",
        "oddEvenNums([1,2,3,4,5])"
      ],
      "metadata": {
        "colab": {
          "base_uri": "https://localhost:8080/"
        },
        "id": "4WuBZKGXs9za",
        "outputId": "5192e42d-f63d-4dab-91d4-37b860383514"
      },
      "execution_count": null,
      "outputs": [
        {
          "output_type": "stream",
          "name": "stdout",
          "text": [
            "Toal Odd Numbers in the List: 3\n",
            "Toal Even Numbers in the List: 2\n"
          ]
        }
      ]
    },
    {
      "cell_type": "markdown",
      "source": [
        "### 7. Develop a program that prints the squares of numbers from 1 to 5 using a `for` loop."
      ],
      "metadata": {
        "id": "GVVPptkotALy"
      }
    },
    {
      "cell_type": "code",
      "source": [
        "for i in range(1,6):\n",
        "  print(i*i,end=' ')"
      ],
      "metadata": {
        "colab": {
          "base_uri": "https://localhost:8080/"
        },
        "id": "Au2UpvuWtETK",
        "outputId": "ad0a2021-f5f3-4ce1-de13-6e10c78b642f"
      },
      "execution_count": null,
      "outputs": [
        {
          "output_type": "stream",
          "name": "stdout",
          "text": [
            "1 4 9 16 25 "
          ]
        }
      ]
    },
    {
      "cell_type": "markdown",
      "source": [
        "### 8. Create a program to find the length of a string without using the `len()` function."
      ],
      "metadata": {
        "id": "0L3z2zzWtGqj"
      }
    },
    {
      "cell_type": "code",
      "source": [
        "def findLength(string):\n",
        "  '''\n",
        "  find the length of the given string\n",
        "\n",
        "  Parameters\n",
        "  string: str value\n",
        "\n",
        "  Returns\n",
        "  int value\n",
        "  '''\n",
        "  length = 0\n",
        "  for _ in string:\n",
        "    length += 1\n",
        "  return length\n",
        "findLength(\"apple\")"
      ],
      "metadata": {
        "colab": {
          "base_uri": "https://localhost:8080/"
        },
        "id": "vyjvAsJatJW2",
        "outputId": "f2320661-5163-4eba-882e-c0e972bfa2e0"
      },
      "execution_count": null,
      "outputs": [
        {
          "output_type": "execute_result",
          "data": {
            "text/plain": [
              "5"
            ]
          },
          "metadata": {},
          "execution_count": 14
        }
      ]
    },
    {
      "cell_type": "markdown",
      "source": [
        "### 9. Write a program that calculates the average of a list of numbers using a `for` loop."
      ],
      "metadata": {
        "id": "ZCo3ParLtM8B"
      }
    },
    {
      "cell_type": "code",
      "source": [
        "def findAverage(List):\n",
        "  '''\n",
        "  find the average of the given list\n",
        "\n",
        "  Parameters\n",
        "  List: list value\n",
        "\n",
        "  Returns\n",
        "  float value\n",
        "  '''\n",
        "  length = 0\n",
        "  sum = 0\n",
        "  for element in List:\n",
        "    length += 1\n",
        "    sum += element\n",
        "  return sum/length\n",
        "findAverage([1,2,3,4,5,6,7])"
      ],
      "metadata": {
        "colab": {
          "base_uri": "https://localhost:8080/"
        },
        "id": "jRPKNK7QtO7I",
        "outputId": "7a15aeab-84a5-496f-ba3b-eb279a736f53"
      },
      "execution_count": null,
      "outputs": [
        {
          "output_type": "execute_result",
          "data": {
            "text/plain": [
              "4.0"
            ]
          },
          "metadata": {},
          "execution_count": 15
        }
      ]
    },
    {
      "cell_type": "markdown",
      "source": [
        "### 10. Develop a program that prints the first `n` Fibonacci numbers using a `for` loop."
      ],
      "metadata": {
        "id": "QYlmisRvtPXR"
      }
    },
    {
      "cell_type": "code",
      "source": [
        "def fibo(n):\n",
        "  '''\n",
        "  print the first n fibonacci numbers\n",
        "\n",
        "  Parameters\n",
        "  n: int value\n",
        "  '''\n",
        "  f1 = 0\n",
        "  f2 = 1\n",
        "  for i in range(0,n):\n",
        "    f3 = f1 + f2\n",
        "    print(f1,end=' ')\n",
        "    f1 = f2\n",
        "    f2 = f3\n",
        "fibo(6)"
      ],
      "metadata": {
        "colab": {
          "base_uri": "https://localhost:8080/"
        },
        "id": "xXWqcE6etWxt",
        "outputId": "a3a89fea-e01d-4713-ef3f-a8f6571fc622"
      },
      "execution_count": null,
      "outputs": [
        {
          "output_type": "stream",
          "name": "stdout",
          "text": [
            "0 1 1 2 3 5 "
          ]
        }
      ]
    },
    {
      "cell_type": "markdown",
      "source": [
        "## Intermediate Level"
      ],
      "metadata": {
        "id": "41CoAVqU4HfU"
      }
    },
    {
      "cell_type": "markdown",
      "source": [
        "### 11. Write a program to check if a given list contains any duplicates using a `for` loop."
      ],
      "metadata": {
        "id": "HX0huXd_4PTZ"
      }
    },
    {
      "cell_type": "code",
      "source": [
        "def containsDuplicate(List):\n",
        "  '''\n",
        "  check if List contains Duplicate. returns True if duplicate elements are present\n",
        "\n",
        "  Parameters\n",
        "  List: list value\n",
        "\n",
        "  Returns\n",
        "  bool value\n",
        "  '''\n",
        "  num_set = set()\n",
        "  for i in List:\n",
        "    if i in num_set:\n",
        "      return True\n",
        "    num_set.add(i)\n",
        "  return False\n",
        "containsDuplicate([1,2,3,4,5])"
      ],
      "metadata": {
        "colab": {
          "base_uri": "https://localhost:8080/"
        },
        "id": "RJgNItJ749ms",
        "outputId": "30b3a328-0f68-4d41-b489-a902a8f35cde"
      },
      "execution_count": null,
      "outputs": [
        {
          "output_type": "execute_result",
          "data": {
            "text/plain": [
              "False"
            ]
          },
          "metadata": {},
          "execution_count": 18
        }
      ]
    },
    {
      "cell_type": "code",
      "source": [
        "containsDuplicate([1,2,3,1,2,5])"
      ],
      "metadata": {
        "colab": {
          "base_uri": "https://localhost:8080/"
        },
        "id": "cR3fvLW06LmR",
        "outputId": "d99fe405-4864-4e47-8875-bfbe190894b7"
      },
      "execution_count": null,
      "outputs": [
        {
          "output_type": "execute_result",
          "data": {
            "text/plain": [
              "True"
            ]
          },
          "metadata": {},
          "execution_count": 19
        }
      ]
    },
    {
      "cell_type": "markdown",
      "source": [
        "### 12. Create a program that prints the prime numbers in a given range using a `for` loop."
      ],
      "metadata": {
        "id": "tkK84hcg4V81"
      }
    },
    {
      "cell_type": "code",
      "source": [
        "def primeNumbers(low, high):\n",
        "  '''print prime numbers between the given range\n",
        "\n",
        "  Parameters\n",
        "  low: lower bound int value\n",
        "  high: upper bound int value\n",
        "  '''\n",
        "  print(\"Prime Numbers between\",low,'and',high,':',end=' ')\n",
        "  for num in range(low,high+1):\n",
        "    i = 2\n",
        "    if num <= 1:\n",
        "      continue\n",
        "    for i in range(2,int(num**(0.5))+1):\n",
        "      if num%i == 0:\n",
        "        break\n",
        "    if num%i != 0 or num == i:\n",
        "      print(num,end=' ')\n",
        "primeNumbers(1,100)"
      ],
      "metadata": {
        "colab": {
          "base_uri": "https://localhost:8080/"
        },
        "id": "mQQhURay4-Cq",
        "outputId": "6b488a86-fdf3-438b-cf6b-3158eeea8143"
      },
      "execution_count": null,
      "outputs": [
        {
          "output_type": "stream",
          "name": "stdout",
          "text": [
            "Prime Numbers between 1 and 100 : 2 3 5 7 11 13 17 19 23 29 31 37 41 43 47 53 59 61 67 71 73 79 83 89 97 "
          ]
        }
      ]
    },
    {
      "cell_type": "markdown",
      "source": [
        "### 13. Develop a program that counts the number of vowels in a string using a `for` loop."
      ],
      "metadata": {
        "id": "Zhpr1IQU4bFF"
      }
    },
    {
      "cell_type": "code",
      "source": [
        "def countVowels(string):\n",
        "  '''\n",
        "  find the no of vowels in the given string\n",
        "\n",
        "  Parameters\n",
        "  string: str value\n",
        "\n",
        "  Returns\n",
        "  count: int value\n",
        "  '''\n",
        "  count = 0\n",
        "  for char in string.lower():\n",
        "    if char in 'aeiou':\n",
        "      count += 1\n",
        "  return count\n",
        "countVowels(\"water\")"
      ],
      "metadata": {
        "colab": {
          "base_uri": "https://localhost:8080/"
        },
        "id": "5HU63BfC4-aO",
        "outputId": "7c316cbb-77ee-47d1-da9f-9bbc320637b0"
      },
      "execution_count": null,
      "outputs": [
        {
          "output_type": "execute_result",
          "data": {
            "text/plain": [
              "2"
            ]
          },
          "metadata": {},
          "execution_count": 25
        }
      ]
    },
    {
      "cell_type": "markdown",
      "source": [
        "### 14. Write a program to find the maximum element in a 2D list using a nested `for` loop."
      ],
      "metadata": {
        "id": "O4tF-u3P4cuY"
      }
    },
    {
      "cell_type": "code",
      "source": [
        "def maxElement2D(List):\n",
        "  ''' find the max value in 2D list\n",
        "\n",
        "  Parameters\n",
        "  List: 2D list value\n",
        "\n",
        "  Returns\n",
        "  max_element: int value\n",
        "  '''\n",
        "  max_element = -99999\n",
        "  for row in List:\n",
        "    if max_element < max(row):\n",
        "      max_element = max(row)\n",
        "  return max_element\n",
        "maxElement2D([[1,2,3,4,5],[2,3,4,5,6],[5,1,2,77,21]])"
      ],
      "metadata": {
        "colab": {
          "base_uri": "https://localhost:8080/"
        },
        "id": "IEOPWrp35Bdd",
        "outputId": "6bf0b003-a54b-481a-cb3f-1116eca29432"
      },
      "execution_count": null,
      "outputs": [
        {
          "output_type": "execute_result",
          "data": {
            "text/plain": [
              "77"
            ]
          },
          "metadata": {},
          "execution_count": 26
        }
      ]
    },
    {
      "cell_type": "markdown",
      "source": [
        "### 15. Create a program that removes all occurrences of a specific element from a list using a `for` loop."
      ],
      "metadata": {
        "id": "E37HuWDK4hw0"
      }
    },
    {
      "cell_type": "code",
      "source": [
        "def removeAllOccurences(List,element):\n",
        "  ''' remove all occurences of an element from the list\n",
        "\n",
        "  Parameters\n",
        "  List: list value\n",
        "  element: to be removed int value\n",
        "\n",
        "  Returns\n",
        "  new_list: list value\n",
        "  '''\n",
        "  i = 0\n",
        "  length = len(List)\n",
        "  while i < length:\n",
        "    if List[i] == element:\n",
        "    # continue is used because as the element is removed if i is incremented then it can miss one element next to the previous value\n",
        "      List.remove(element)\n",
        "      length -= 1\n",
        "      continue\n",
        "    i += 1\n",
        "List = [1,2,3,4,5,6,3,3,2,3,12,3]\n",
        "removeAllOccurences(List,3)\n",
        "List"
      ],
      "metadata": {
        "colab": {
          "base_uri": "https://localhost:8080/"
        },
        "id": "bouz4Iur5Bxl",
        "outputId": "b971fd4e-3040-450d-b73a-5a7569f705d5"
      },
      "execution_count": null,
      "outputs": [
        {
          "output_type": "execute_result",
          "data": {
            "text/plain": [
              "[1, 2, 4, 5, 6, 2, 12]"
            ]
          },
          "metadata": {},
          "execution_count": 41
        }
      ]
    },
    {
      "cell_type": "markdown",
      "source": [
        "### 16. Develop a program that generates a multiplication table for numbers from 1 to 5 using a nested `for` loop."
      ],
      "metadata": {
        "id": "J6f-CETt4jA-"
      }
    },
    {
      "cell_type": "code",
      "source": [
        "for j in range(1,6):\n",
        "  print(f\"Table of {j}\")\n",
        "  for i in range(1,11):\n",
        "    print(j,'X',i,'=',j*i)"
      ],
      "metadata": {
        "colab": {
          "base_uri": "https://localhost:8080/"
        },
        "id": "dQzZn1fy5A1z",
        "outputId": "65efbebf-6fb3-4e69-a9e3-9dcf6c289e2a"
      },
      "execution_count": null,
      "outputs": [
        {
          "output_type": "stream",
          "name": "stdout",
          "text": [
            "Table of 1\n",
            "1 X 1 = 1\n",
            "1 X 2 = 2\n",
            "1 X 3 = 3\n",
            "1 X 4 = 4\n",
            "1 X 5 = 5\n",
            "1 X 6 = 6\n",
            "1 X 7 = 7\n",
            "1 X 8 = 8\n",
            "1 X 9 = 9\n",
            "1 X 10 = 10\n",
            "Table of 2\n",
            "2 X 1 = 2\n",
            "2 X 2 = 4\n",
            "2 X 3 = 6\n",
            "2 X 4 = 8\n",
            "2 X 5 = 10\n",
            "2 X 6 = 12\n",
            "2 X 7 = 14\n",
            "2 X 8 = 16\n",
            "2 X 9 = 18\n",
            "2 X 10 = 20\n",
            "Table of 3\n",
            "3 X 1 = 3\n",
            "3 X 2 = 6\n",
            "3 X 3 = 9\n",
            "3 X 4 = 12\n",
            "3 X 5 = 15\n",
            "3 X 6 = 18\n",
            "3 X 7 = 21\n",
            "3 X 8 = 24\n",
            "3 X 9 = 27\n",
            "3 X 10 = 30\n",
            "Table of 4\n",
            "4 X 1 = 4\n",
            "4 X 2 = 8\n",
            "4 X 3 = 12\n",
            "4 X 4 = 16\n",
            "4 X 5 = 20\n",
            "4 X 6 = 24\n",
            "4 X 7 = 28\n",
            "4 X 8 = 32\n",
            "4 X 9 = 36\n",
            "4 X 10 = 40\n",
            "Table of 5\n",
            "5 X 1 = 5\n",
            "5 X 2 = 10\n",
            "5 X 3 = 15\n",
            "5 X 4 = 20\n",
            "5 X 5 = 25\n",
            "5 X 6 = 30\n",
            "5 X 7 = 35\n",
            "5 X 8 = 40\n",
            "5 X 9 = 45\n",
            "5 X 10 = 50\n"
          ]
        }
      ]
    },
    {
      "cell_type": "markdown",
      "source": [
        "### 17. Write a program that converts a list of Fahrenheit temperatures to Celsius using a `for` loop."
      ],
      "metadata": {
        "id": "XRI7TeYv4qPx"
      }
    },
    {
      "cell_type": "code",
      "source": [
        "def FahrenheitToCelsius(fahr_list):\n",
        "  ''' convert a list of fahrenheit temps to Celsius\n",
        "\n",
        "  Parameters\n",
        "  fahr_list: list value with fahrenheit temps\n",
        "\n",
        "  Returns\n",
        "  cel_list: list value with celsius temps\n",
        "  '''\n",
        "  cel_list = []\n",
        "  for temp in fahr_list:\n",
        "      new_temp = (temp - 32)*5/9\n",
        "      cel_list.append(new_temp)\n",
        "  return cel_list\n",
        "FahrenheitToCelsius([-40,0,32,98.6,212])"
      ],
      "metadata": {
        "colab": {
          "base_uri": "https://localhost:8080/"
        },
        "id": "LdvXq6FW5Ab9",
        "outputId": "79387e6c-07d6-44f0-ab6e-d25719e7ff87"
      },
      "execution_count": null,
      "outputs": [
        {
          "output_type": "execute_result",
          "data": {
            "text/plain": [
              "[-40.0, -17.77777777777778, 0.0, 37.0, 100.0]"
            ]
          },
          "metadata": {},
          "execution_count": 43
        }
      ]
    },
    {
      "cell_type": "markdown",
      "source": [
        "### 18. Create a program to print the common elements from two lists using a `for` loop."
      ],
      "metadata": {
        "id": "nYIuEtkv4t_I"
      }
    },
    {
      "cell_type": "code",
      "source": [
        "def commonElementsLists(list1,list2):\n",
        "  ''' print common elements from two lists\n",
        "\n",
        "  Parameters\n",
        "  list1, list2: list value\n",
        "  '''\n",
        "  print('Common Elements:',end=' ')\n",
        "  for element in set(list1):\n",
        "    if element in list2:\n",
        "      print(element,end=' ')\n",
        "commonElementsLists([1,2,4,5,6,3,4],[2,4,5,10])"
      ],
      "metadata": {
        "colab": {
          "base_uri": "https://localhost:8080/"
        },
        "id": "IdZmFjOI5AF8",
        "outputId": "d2dbfc4c-1140-4a04-f03a-94a51ad1afe0"
      },
      "execution_count": null,
      "outputs": [
        {
          "output_type": "stream",
          "name": "stdout",
          "text": [
            "Common Elements: 2 4 5 "
          ]
        }
      ]
    },
    {
      "cell_type": "markdown",
      "source": [
        "### 19. Develop a program that prints the pattern of right-angled triangles using a `for` loop. Use ‘*’ to draw the pattern"
      ],
      "metadata": {
        "id": "YS_EwRW44xlJ"
      }
    },
    {
      "cell_type": "code",
      "source": [
        "def rightTriangles(n):\n",
        "  ''' print right triangle with '*'\n",
        "\n",
        "  Parameters\n",
        "  n: int value no of lines\n",
        "  '''\n",
        "  for i in range(n):\n",
        "    for j in range(i+1):\n",
        "      print('*',end='')\n",
        "    print()\n",
        "rightTriangles(6)"
      ],
      "metadata": {
        "colab": {
          "base_uri": "https://localhost:8080/"
        },
        "id": "BhJgiQ5a4_tK",
        "outputId": "55c17cc5-1b71-4f0b-829f-949d8f5686a2"
      },
      "execution_count": null,
      "outputs": [
        {
          "output_type": "stream",
          "name": "stdout",
          "text": [
            "*\n",
            "**\n",
            "***\n",
            "****\n",
            "*****\n",
            "******\n"
          ]
        }
      ]
    },
    {
      "cell_type": "markdown",
      "source": [
        "### 20. Write a program to find the greatest common divisor (GCD) of two numbers using a `for` loop."
      ],
      "metadata": {
        "id": "7WmEsB7j4SBR"
      }
    },
    {
      "cell_type": "markdown",
      "source": [
        "https://www.geeksforgeeks.org/euclidean-algorithms-basic-and-extended/"
      ],
      "metadata": {
        "id": "1i9JjObXax5c"
      }
    },
    {
      "cell_type": "code",
      "source": [
        "def GCD(m,n):\n",
        "  '''find the greatest common divisor(GCD) of the given numbers\n",
        "\n",
        "  Parameters\n",
        "  n, m: int value\n",
        "\n",
        "  Returns\n",
        "  gcd: int value\n",
        "  '''\n",
        " # using euclidean algorithm\n",
        "  if m < n:\n",
        "    m, n = n, m\n",
        "  while n:\n",
        "      m,n = n, m % n\n",
        "  return abs(m)\n",
        "GCD(195,120)"
      ],
      "metadata": {
        "colab": {
          "base_uri": "https://localhost:8080/"
        },
        "id": "ufuKMLA54_OB",
        "outputId": "28e8791e-2d10-4066-b76d-550c14ecba4b"
      },
      "execution_count": null,
      "outputs": [
        {
          "output_type": "execute_result",
          "data": {
            "text/plain": [
              "15"
            ]
          },
          "metadata": {},
          "execution_count": 63
        }
      ]
    },
    {
      "cell_type": "code",
      "source": [
        "GCD(120,195)"
      ],
      "metadata": {
        "colab": {
          "base_uri": "https://localhost:8080/"
        },
        "id": "_t-y3PEVY30g",
        "outputId": "f0e987a9-5958-4ad8-9076-cc932bff8a91"
      },
      "execution_count": null,
      "outputs": [
        {
          "output_type": "execute_result",
          "data": {
            "text/plain": [
              "15"
            ]
          },
          "metadata": {},
          "execution_count": 64
        }
      ]
    },
    {
      "cell_type": "markdown",
      "source": [
        "## Advanced Level"
      ],
      "metadata": {
        "id": "8DCHSLC4bMio"
      }
    },
    {
      "cell_type": "markdown",
      "source": [
        "### 21. Create a program that calculates the sum of the digits of numbers in a list using a list comprehension."
      ],
      "metadata": {
        "id": "_poAavwnbMiy"
      }
    },
    {
      "cell_type": "code",
      "source": [
        "# using sum function on list comprehension\n",
        "sum_of_digits = lambda List: sum(i for i in List)\n",
        "sum_of_digits([1,2,3,4,5,6])"
      ],
      "metadata": {
        "colab": {
          "base_uri": "https://localhost:8080/"
        },
        "outputId": "7c1ec9d8-0f2c-48bd-a746-20ed64617842",
        "id": "jMARyfcgbMiy"
      },
      "execution_count": null,
      "outputs": [
        {
          "output_type": "execute_result",
          "data": {
            "text/plain": [
              "21"
            ]
          },
          "metadata": {},
          "execution_count": 18
        }
      ]
    },
    {
      "cell_type": "markdown",
      "source": [
        "### 22. Write a program to find the prime factors of a given number using a `for` loop and list comprehension."
      ],
      "metadata": {
        "id": "12bTGhApbMiz"
      }
    },
    {
      "cell_type": "code",
      "source": [
        "prime_factors = lambda n: [i for i in range(2, n+1) if n%i == 0 and all(i % j != 0 for j in range(2, int(i**0.5)+1))]\n",
        "print('Prime Factors of 210:',prime_factors(210))\n",
        "print('Prime Factors of 97:',prime_factors(97))"
      ],
      "metadata": {
        "colab": {
          "base_uri": "https://localhost:8080/"
        },
        "outputId": "a5ab761a-7fae-4303-da2d-b2da8b23f925",
        "id": "0o-pI5VzbMiz"
      },
      "execution_count": null,
      "outputs": [
        {
          "output_type": "stream",
          "name": "stdout",
          "text": [
            "Prime Factors of 210: [2, 3, 5, 7]\n",
            "Prime Factors of 97: [97]\n"
          ]
        }
      ]
    },
    {
      "cell_type": "markdown",
      "source": [
        "### 23. Develop a program that extracts unique elements from a list and stores them in a new list using a list comprehension."
      ],
      "metadata": {
        "id": "2u94Vpw_bMiz"
      }
    },
    {
      "cell_type": "code",
      "source": [
        "from functools import reduce"
      ],
      "metadata": {
        "id": "BZr5fHAFwnvD"
      },
      "execution_count": 33,
      "outputs": []
    },
    {
      "cell_type": "code",
      "source": [
        "uniqueListElements = lambda List : list(reduce(lambda li,i : li+[i] if i not in li else li, List,[]))\n",
        "uniqueListElements([1,2,3,4,1,2,35,6,5,4,4,5])"
      ],
      "metadata": {
        "colab": {
          "base_uri": "https://localhost:8080/"
        },
        "outputId": "777bb7f8-f4b4-4962-f021-ab4fbca6d074",
        "id": "FCD0vlFlbMiz"
      },
      "execution_count": 34,
      "outputs": [
        {
          "output_type": "execute_result",
          "data": {
            "text/plain": [
              "[1, 2, 3, 4, 35, 6, 5]"
            ]
          },
          "metadata": {},
          "execution_count": 34
        }
      ]
    },
    {
      "cell_type": "markdown",
      "source": [
        "### 24. Create a program that generates a list of all palindromic numbers up to a specified limit using a list comprehension."
      ],
      "metadata": {
        "id": "keIyY_JLbMiz"
      }
    },
    {
      "cell_type": "code",
      "source": [
        "palindromic_nums = lambda List, lower, upper : list(filter(lambda a: str(a) == str(a)[::-1],[i for i in List if lower < i < upper]))\n",
        "palindromic_nums(List = [1,2,10,101,99,81,121,232], lower = 9, upper = 200)"
      ],
      "metadata": {
        "colab": {
          "base_uri": "https://localhost:8080/"
        },
        "outputId": "2f1b4316-9374-4c5c-fa9a-7236ca6c8957",
        "id": "T8A4Uls3bMiz"
      },
      "execution_count": 36,
      "outputs": [
        {
          "output_type": "execute_result",
          "data": {
            "text/plain": [
              "[101, 99, 121]"
            ]
          },
          "metadata": {},
          "execution_count": 36
        }
      ]
    },
    {
      "cell_type": "markdown",
      "source": [
        "### 25. Write a program to flatten a nested list using list comprehension."
      ],
      "metadata": {
        "id": "uPTMQxUkbMi0"
      }
    },
    {
      "cell_type": "code",
      "source": [
        "flattenNestedList = lambda List :  list(reduce(lambda li,i : li+[i] if type(i) != list else li + i, List,[]))\n",
        "print('Flattened List:',flattenNestedList([[0, 1, 2, 3, 4], [5, 6, 7, 8, 9, 10], [11, 12, 13, 14, 15]]))\n",
        "print('Flattened List:',flattenNestedList([[0, 1, 2, 3, 4], 5, 6, 7, 8, 9, 10 , [11, 12, 13, 14, 15]]))"
      ],
      "metadata": {
        "colab": {
          "base_uri": "https://localhost:8080/"
        },
        "outputId": "9b5e1677-bae4-48f3-ae6e-042d3be05d13",
        "id": "DHnxF_h4bMi0"
      },
      "execution_count": 49,
      "outputs": [
        {
          "output_type": "stream",
          "name": "stdout",
          "text": [
            "Flattened List: [0, 1, 2, 3, 4, 5, 6, 7, 8, 9, 10, 11, 12, 13, 14, 15]\n",
            "Flattened List: [0, 1, 2, 3, 4, 5, 6, 7, 8, 9, 10, 11, 12, 13, 14, 15]\n"
          ]
        }
      ]
    },
    {
      "cell_type": "markdown",
      "source": [
        "### 26. Develop a program that computes the sum of even and odd numbers in a list separately using list comprehension."
      ],
      "metadata": {
        "id": "x9GH8CdKbMi0"
      }
    },
    {
      "cell_type": "code",
      "source": [
        "sumOddEvenNos = lambda List : (sum(i for i in List if i%2==0),sum(i for i in List if i%2==1))\n",
        "sumOddEvenNos([1, 2, 3, 4, 5, 6, 7, 8, 9, 10, 11, 12, 13, 14, 15])"
      ],
      "metadata": {
        "colab": {
          "base_uri": "https://localhost:8080/"
        },
        "outputId": "a98a442a-2f65-4904-890b-6045203c59d1",
        "id": "-nHKMdvObMi0"
      },
      "execution_count": 50,
      "outputs": [
        {
          "output_type": "execute_result",
          "data": {
            "text/plain": [
              "(56, 64)"
            ]
          },
          "metadata": {},
          "execution_count": 50
        }
      ]
    },
    {
      "cell_type": "markdown",
      "source": [
        "### 27. Create a program that generates a list of squares of odd numbers between 1 and 10 using list comprehension."
      ],
      "metadata": {
        "id": "vhNxks3qbMi0"
      }
    },
    {
      "cell_type": "code",
      "source": [
        "oddSquares = [i**2 for i in range(1,10) if i%2==1]\n",
        "oddSquares"
      ],
      "metadata": {
        "colab": {
          "base_uri": "https://localhost:8080/"
        },
        "outputId": "f1cb2275-78a2-4edb-c2f8-6e67da305396",
        "id": "dRhsUi0cbMi0"
      },
      "execution_count": 54,
      "outputs": [
        {
          "output_type": "execute_result",
          "data": {
            "text/plain": [
              "[1, 9, 25, 49, 81]"
            ]
          },
          "metadata": {},
          "execution_count": 54
        }
      ]
    },
    {
      "cell_type": "markdown",
      "source": [
        "### 28. Write a program that combines two lists into a dictionary using list comprehension."
      ],
      "metadata": {
        "id": "paMmAA5VbMi0"
      }
    },
    {
      "cell_type": "code",
      "source": [
        "combineListToDict = lambda list1,list2 : {list1[i]:list2[i] for i in range(len(list1))}\n",
        "combineListToDict([1,2,3,4,5],[1,4,9,16,25])"
      ],
      "metadata": {
        "colab": {
          "base_uri": "https://localhost:8080/"
        },
        "outputId": "01b63f39-f940-4d10-b8e8-2ae862ebdff9",
        "id": "NTiWXdiMbMi0"
      },
      "execution_count": 58,
      "outputs": [
        {
          "output_type": "execute_result",
          "data": {
            "text/plain": [
              "{1: 1, 2: 4, 3: 9, 4: 16, 5: 25}"
            ]
          },
          "metadata": {},
          "execution_count": 58
        }
      ]
    },
    {
      "cell_type": "code",
      "source": [
        "combinedListToDict = lambda keys, values : dict(map(lambda i,j : (i,j) , keys,values))\n",
        "combinedListToDict([1,2,3,4,5],[i**3 for i in range(1,6)])"
      ],
      "metadata": {
        "colab": {
          "base_uri": "https://localhost:8080/"
        },
        "id": "w9hZhkhQ3_BE",
        "outputId": "2b8e18ef-79db-4f34-e65b-a6408e351344"
      },
      "execution_count": 59,
      "outputs": [
        {
          "output_type": "execute_result",
          "data": {
            "text/plain": [
              "{1: 1, 2: 8, 3: 27, 4: 64, 5: 125}"
            ]
          },
          "metadata": {},
          "execution_count": 59
        }
      ]
    },
    {
      "cell_type": "markdown",
      "source": [
        "### 29. Develop a program that extracts the vowels from a string and stores them in a list using list comprehension."
      ],
      "metadata": {
        "id": "G81WvOwwbMi1"
      }
    },
    {
      "cell_type": "code",
      "source": [
        "extractVowels = lambda string: list(filter(lambda char : char.lower() in 'aeiou', string))\n",
        "extractVowels(\"An Apple a day, keeps doctor away.\")"
      ],
      "metadata": {
        "colab": {
          "base_uri": "https://localhost:8080/"
        },
        "outputId": "c662481a-a1ff-42fa-9e85-505f91e30654",
        "id": "6HIt8z9_bMi1"
      },
      "execution_count": 63,
      "outputs": [
        {
          "output_type": "execute_result",
          "data": {
            "text/plain": [
              "['A', 'A', 'e', 'a', 'a', 'e', 'e', 'o', 'o', 'a', 'a']"
            ]
          },
          "metadata": {},
          "execution_count": 63
        }
      ]
    },
    {
      "cell_type": "markdown",
      "source": [
        "### 30. Create a program that removes all non-numeric characters from a list of strings using list comprehension."
      ],
      "metadata": {
        "id": "xVRTa7I_bMi1"
      }
    },
    {
      "cell_type": "code",
      "source": [
        "removeNonNumericChars1 = lambda List: list((''.join(list(filter(lambda x: x.isdigit(),string))) for string in List))\n",
        "removeNonNumericChars1(['Apple11','12311','alph@_,,.'])"
      ],
      "metadata": {
        "colab": {
          "base_uri": "https://localhost:8080/"
        },
        "outputId": "23d69725-b3f9-4d84-de96-2105d2ca2bff",
        "id": "0xtp6EQibMi1"
      },
      "execution_count": 76,
      "outputs": [
        {
          "output_type": "execute_result",
          "data": {
            "text/plain": [
              "['11', '12311', '']"
            ]
          },
          "metadata": {},
          "execution_count": 76
        }
      ]
    },
    {
      "cell_type": "code",
      "source": [
        "removeNonNumericChars2 = lambda List: [''.join(list(i for i in string if i.isdigit())) for string in List]\n",
        "removeNonNumericChars2(['Apple11','12311','alph@_,,.'])"
      ],
      "metadata": {
        "colab": {
          "base_uri": "https://localhost:8080/"
        },
        "id": "w6ISB6ig7rJ5",
        "outputId": "dabefeee-05a9-4d26-ed40-22ed23a2000f"
      },
      "execution_count": 79,
      "outputs": [
        {
          "output_type": "execute_result",
          "data": {
            "text/plain": [
              "['11', '12311', '']"
            ]
          },
          "metadata": {},
          "execution_count": 79
        }
      ]
    }
  ]
}