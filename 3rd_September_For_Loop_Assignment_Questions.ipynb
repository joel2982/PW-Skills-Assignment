{
  "nbformat": 4,
  "nbformat_minor": 0,
  "metadata": {
    "colab": {
      "provenance": [],
      "collapsed_sections": [
        "lpbCUtU8q71m"
      ],
      "authorship_tag": "ABX9TyM4bg/BhaAmAhHQXWEYTv2L",
      "include_colab_link": true
    },
    "kernelspec": {
      "name": "python3",
      "display_name": "Python 3"
    },
    "language_info": {
      "name": "python"
    }
  },
  "cells": [
    {
      "cell_type": "markdown",
      "metadata": {
        "id": "view-in-github",
        "colab_type": "text"
      },
      "source": [
        "<a href=\"https://colab.research.google.com/github/joel2982/PW-Skills-Assignment/blob/master/3rd_September_For_Loop_Assignment_Questions.ipynb\" target=\"_parent\"><img src=\"https://colab.research.google.com/assets/colab-badge.svg\" alt=\"Open In Colab\"/></a>"
      ]
    },
    {
      "cell_type": "markdown",
      "source": [
        "## Basic Level"
      ],
      "metadata": {
        "id": "lpbCUtU8q71m"
      }
    },
    {
      "cell_type": "markdown",
      "source": [
        "### 1. Write a Python program to print the numbers from 1 to 10 using a `for` loop."
      ],
      "metadata": {
        "id": "xuAwpXDxrFtp"
      }
    },
    {
      "cell_type": "code",
      "execution_count": 2,
      "metadata": {
        "colab": {
          "base_uri": "https://localhost:8080/"
        },
        "id": "Sio_lN26qAXa",
        "outputId": "e2ca6ad5-7eb7-4c69-aca8-1b0a58bab5f4"
      },
      "outputs": [
        {
          "output_type": "stream",
          "name": "stdout",
          "text": [
            "1 2 3 4 5 6 7 8 9 10 "
          ]
        }
      ],
      "source": [
        "# iterating from 1-11 (11 excluded)\n",
        "for i in range(1,11):\n",
        "  print(i,end=' ')"
      ]
    },
    {
      "cell_type": "markdown",
      "source": [
        "### 2. Create a program that calculates the sum of all numbers in a list using a `for` loop."
      ],
      "metadata": {
        "id": "0iJ8kDfhscLB"
      }
    },
    {
      "cell_type": "code",
      "source": [
        "def sumOfList(list):\n",
        "  '''\n",
        "  calculate the sum of the given list\n",
        "\n",
        "  Parameters\n",
        "  list: list value\n",
        "\n",
        "  Returns\n",
        "  int value\n",
        "  '''\n",
        "  sum = 0\n",
        "  for i in list:\n",
        "    sum += i\n",
        "  return sum\n",
        "sumOfList([1,2,3,4,5])"
      ],
      "metadata": {
        "colab": {
          "base_uri": "https://localhost:8080/"
        },
        "id": "tNg4Rpb0tS-Z",
        "outputId": "9c97e26b-88b7-4fe7-a330-b67cec52bd8a"
      },
      "execution_count": 6,
      "outputs": [
        {
          "output_type": "execute_result",
          "data": {
            "text/plain": [
              "15"
            ]
          },
          "metadata": {},
          "execution_count": 6
        }
      ]
    },
    {
      "cell_type": "markdown",
      "source": [
        "### 3. Write a program to print the characters of a string in reverse order using a `for` loop."
      ],
      "metadata": {
        "id": "gkI3IYwRspbS"
      }
    },
    {
      "cell_type": "code",
      "source": [
        "def stringReverse(string):\n",
        "  '''\n",
        "  print the reverse of the given string\n",
        "\n",
        "  Parameters\n",
        "  string: str value\n",
        "  '''\n",
        "  n = len(string)\n",
        "  for i in range(n-1,-1,-1):\n",
        "    print(string[i],end='')\n",
        "\n",
        "stringReverse(\"water\")"
      ],
      "metadata": {
        "colab": {
          "base_uri": "https://localhost:8080/"
        },
        "id": "OSJXZQfTrVUp",
        "outputId": "00a8e055-44d9-413d-9bdf-8e1d2f36f1f8"
      },
      "execution_count": 7,
      "outputs": [
        {
          "output_type": "stream",
          "name": "stdout",
          "text": [
            "retaw"
          ]
        }
      ]
    },
    {
      "cell_type": "markdown",
      "source": [
        "### 4. Develop a program that finds the factorial of a given number using a `for` loop."
      ],
      "metadata": {
        "id": "NIyruAvpsw6t"
      }
    },
    {
      "cell_type": "code",
      "source": [
        "def factorial(num):\n",
        "  '''\n",
        "  find the factorial of the given number\n",
        "\n",
        "  Parameters\n",
        "  num: int value\n",
        "\n",
        "  Returns\n",
        "  int value\n",
        "  '''\n",
        "  fact = 1\n",
        "  for i in range(1,num+1):\n",
        "    fact *= i\n",
        "  return fact\n",
        "factorial(5)"
      ],
      "metadata": {
        "colab": {
          "base_uri": "https://localhost:8080/"
        },
        "id": "dX0hz3t6s6-E",
        "outputId": "28064a46-f34a-4e91-d0ce-84e0568d12b6"
      },
      "execution_count": 8,
      "outputs": [
        {
          "output_type": "execute_result",
          "data": {
            "text/plain": [
              "120"
            ]
          },
          "metadata": {},
          "execution_count": 8
        }
      ]
    },
    {
      "cell_type": "markdown",
      "source": [
        "### 5. Create a program to print the multiplication table of a given number using a `for` loop."
      ],
      "metadata": {
        "id": "LINkWGgrs2V_"
      }
    },
    {
      "cell_type": "code",
      "source": [
        "def multiplicationTable(num):\n",
        "  '''\n",
        "  print the multiplication table of the given number\n",
        "\n",
        "  Parameters\n",
        "  num: int value\n",
        "  '''\n",
        "  for i in range(1,11):\n",
        "    print(num,'X',i,'=',num*i)\n",
        "multiplicationTable(6)"
      ],
      "metadata": {
        "colab": {
          "base_uri": "https://localhost:8080/"
        },
        "id": "GQ_CZDohsQTi",
        "outputId": "21092861-eccb-48c9-87d0-4af28c539eed"
      },
      "execution_count": 9,
      "outputs": [
        {
          "output_type": "stream",
          "name": "stdout",
          "text": [
            "6 X 1 = 6\n",
            "6 X 2 = 12\n",
            "6 X 3 = 18\n",
            "6 X 4 = 24\n",
            "6 X 5 = 30\n",
            "6 X 6 = 36\n",
            "6 X 7 = 42\n",
            "6 X 8 = 48\n",
            "6 X 9 = 54\n",
            "6 X 10 = 60\n"
          ]
        }
      ]
    },
    {
      "cell_type": "markdown",
      "source": [
        "### 6. Write a program that counts the number of even and odd numbers in a list using a `for` loop."
      ],
      "metadata": {
        "id": "2t3ui53Ds-SO"
      }
    },
    {
      "cell_type": "code",
      "source": [
        "def oddEvenNums(list):\n",
        "  '''\n",
        "  find the number of even and odd numbers in the list\n",
        "\n",
        "  Parameters\n",
        "  list: list value\n",
        "  '''\n",
        "  even = 0\n",
        "  odd = 0\n",
        "  for element in list:\n",
        "    if element%2 == 0:\n",
        "      even += 1\n",
        "    else:\n",
        "      odd += 1\n",
        "  print(\"Toal Odd Numbers in the List:\",odd)\n",
        "  print(\"Toal Even Numbers in the List:\",even)\n",
        "oddEvenNums([1,2,3,4,5])"
      ],
      "metadata": {
        "colab": {
          "base_uri": "https://localhost:8080/"
        },
        "id": "4WuBZKGXs9za",
        "outputId": "5192e42d-f63d-4dab-91d4-37b860383514"
      },
      "execution_count": 11,
      "outputs": [
        {
          "output_type": "stream",
          "name": "stdout",
          "text": [
            "Toal Odd Numbers in the List: 3\n",
            "Toal Even Numbers in the List: 2\n"
          ]
        }
      ]
    },
    {
      "cell_type": "markdown",
      "source": [
        "### 7. Develop a program that prints the squares of numbers from 1 to 5 using a `for` loop."
      ],
      "metadata": {
        "id": "GVVPptkotALy"
      }
    },
    {
      "cell_type": "code",
      "source": [
        "for i in range(1,6):\n",
        "  print(i*i,end=' ')"
      ],
      "metadata": {
        "colab": {
          "base_uri": "https://localhost:8080/"
        },
        "id": "Au2UpvuWtETK",
        "outputId": "ad0a2021-f5f3-4ce1-de13-6e10c78b642f"
      },
      "execution_count": 12,
      "outputs": [
        {
          "output_type": "stream",
          "name": "stdout",
          "text": [
            "1 4 9 16 25 "
          ]
        }
      ]
    },
    {
      "cell_type": "markdown",
      "source": [
        "### 8. Create a program to find the length of a string without using the `len()` function."
      ],
      "metadata": {
        "id": "0L3z2zzWtGqj"
      }
    },
    {
      "cell_type": "code",
      "source": [
        "def findLength(string):\n",
        "  '''\n",
        "  find the length of the given string\n",
        "\n",
        "  Parameters\n",
        "  string: str value\n",
        "\n",
        "  Returns\n",
        "  int value\n",
        "  '''\n",
        "  length = 0\n",
        "  for _ in string:\n",
        "    length += 1\n",
        "  return length\n",
        "findLength(\"apple\")"
      ],
      "metadata": {
        "colab": {
          "base_uri": "https://localhost:8080/"
        },
        "id": "vyjvAsJatJW2",
        "outputId": "f2320661-5163-4eba-882e-c0e972bfa2e0"
      },
      "execution_count": 14,
      "outputs": [
        {
          "output_type": "execute_result",
          "data": {
            "text/plain": [
              "5"
            ]
          },
          "metadata": {},
          "execution_count": 14
        }
      ]
    },
    {
      "cell_type": "markdown",
      "source": [
        "### 9. Write a program that calculates the average of a list of numbers using a `for` loop."
      ],
      "metadata": {
        "id": "ZCo3ParLtM8B"
      }
    },
    {
      "cell_type": "code",
      "source": [
        "def findAverage(List):\n",
        "  '''\n",
        "  find the average of the given list\n",
        "\n",
        "  Parameters\n",
        "  List: list value\n",
        "\n",
        "  Returns\n",
        "  float value\n",
        "  '''\n",
        "  length = 0\n",
        "  sum = 0\n",
        "  for element in List:\n",
        "    length += 1\n",
        "    sum += element\n",
        "  return sum/length\n",
        "findAverage([1,2,3,4,5,6,7])"
      ],
      "metadata": {
        "colab": {
          "base_uri": "https://localhost:8080/"
        },
        "id": "jRPKNK7QtO7I",
        "outputId": "7a15aeab-84a5-496f-ba3b-eb279a736f53"
      },
      "execution_count": 15,
      "outputs": [
        {
          "output_type": "execute_result",
          "data": {
            "text/plain": [
              "4.0"
            ]
          },
          "metadata": {},
          "execution_count": 15
        }
      ]
    },
    {
      "cell_type": "markdown",
      "source": [
        "### 10. Develop a program that prints the first `n` Fibonacci numbers using a `for` loop."
      ],
      "metadata": {
        "id": "QYlmisRvtPXR"
      }
    },
    {
      "cell_type": "code",
      "source": [
        "def fibo(n):\n",
        "  '''\n",
        "  print the first n fibonacci numbers\n",
        "\n",
        "  Parameters\n",
        "  n: int value\n",
        "  '''\n",
        "  f1 = 0\n",
        "  f2 = 1\n",
        "  for i in range(0,n):\n",
        "    f3 = f1 + f2\n",
        "    print(f1,end=' ')\n",
        "    f1 = f2\n",
        "    f2 = f3\n",
        "fibo(6)"
      ],
      "metadata": {
        "colab": {
          "base_uri": "https://localhost:8080/"
        },
        "id": "xXWqcE6etWxt",
        "outputId": "a3a89fea-e01d-4713-ef3f-a8f6571fc622"
      },
      "execution_count": 17,
      "outputs": [
        {
          "output_type": "stream",
          "name": "stdout",
          "text": [
            "0 1 1 2 3 5 "
          ]
        }
      ]
    },
    {
      "cell_type": "markdown",
      "source": [
        "## Intermediate Level"
      ],
      "metadata": {
        "id": "41CoAVqU4HfU"
      }
    },
    {
      "cell_type": "markdown",
      "source": [
        "### 11. Write a program to check if a given list contains any duplicates using a `for` loop."
      ],
      "metadata": {
        "id": "HX0huXd_4PTZ"
      }
    },
    {
      "cell_type": "code",
      "source": [
        "def containsDuplicate(List):\n",
        "  '''\n",
        "  check if List contains Duplicate. returns True if duplicate elements are present\n",
        "\n",
        "  Parameters\n",
        "  List: list value\n",
        "\n",
        "  Returns\n",
        "  bool value\n",
        "  '''\n",
        "  num_set = set()\n",
        "  for i in List:\n",
        "    if i in num_set:\n",
        "      return True\n",
        "    num_set.add(i)\n",
        "  return False\n",
        "containsDuplicate([1,2,3,4,5])"
      ],
      "metadata": {
        "colab": {
          "base_uri": "https://localhost:8080/"
        },
        "id": "RJgNItJ749ms",
        "outputId": "30b3a328-0f68-4d41-b489-a902a8f35cde"
      },
      "execution_count": 18,
      "outputs": [
        {
          "output_type": "execute_result",
          "data": {
            "text/plain": [
              "False"
            ]
          },
          "metadata": {},
          "execution_count": 18
        }
      ]
    },
    {
      "cell_type": "code",
      "source": [
        "containsDuplicate([1,2,3,1,2,5])"
      ],
      "metadata": {
        "colab": {
          "base_uri": "https://localhost:8080/"
        },
        "id": "cR3fvLW06LmR",
        "outputId": "d99fe405-4864-4e47-8875-bfbe190894b7"
      },
      "execution_count": 19,
      "outputs": [
        {
          "output_type": "execute_result",
          "data": {
            "text/plain": [
              "True"
            ]
          },
          "metadata": {},
          "execution_count": 19
        }
      ]
    },
    {
      "cell_type": "markdown",
      "source": [
        "### 12. Create a program that prints the prime numbers in a given range using a `for` loop."
      ],
      "metadata": {
        "id": "tkK84hcg4V81"
      }
    },
    {
      "cell_type": "code",
      "source": [],
      "metadata": {
        "id": "mQQhURay4-Cq"
      },
      "execution_count": null,
      "outputs": []
    },
    {
      "cell_type": "markdown",
      "source": [
        "### 13. Develop a program that counts the number of vowels in a string using a `for` loop."
      ],
      "metadata": {
        "id": "Zhpr1IQU4bFF"
      }
    },
    {
      "cell_type": "code",
      "source": [],
      "metadata": {
        "id": "5HU63BfC4-aO"
      },
      "execution_count": null,
      "outputs": []
    },
    {
      "cell_type": "markdown",
      "source": [
        "### 14. Write a program to find the maximum element in a 2D list using a nested `for` loop."
      ],
      "metadata": {
        "id": "O4tF-u3P4cuY"
      }
    },
    {
      "cell_type": "code",
      "source": [],
      "metadata": {
        "id": "IEOPWrp35Bdd"
      },
      "execution_count": null,
      "outputs": []
    },
    {
      "cell_type": "markdown",
      "source": [
        "### 15. Create a program that removes all occurrences of a specific element from a list using a `for` loop."
      ],
      "metadata": {
        "id": "E37HuWDK4hw0"
      }
    },
    {
      "cell_type": "code",
      "source": [],
      "metadata": {
        "id": "bouz4Iur5Bxl"
      },
      "execution_count": null,
      "outputs": []
    },
    {
      "cell_type": "markdown",
      "source": [
        "### 16. Develop a program that generates a multiplication table for numbers from 1 to 5 using a nested `for` loop."
      ],
      "metadata": {
        "id": "J6f-CETt4jA-"
      }
    },
    {
      "cell_type": "code",
      "source": [],
      "metadata": {
        "id": "dQzZn1fy5A1z"
      },
      "execution_count": null,
      "outputs": []
    },
    {
      "cell_type": "markdown",
      "source": [
        "### 17. Write a program that converts a list of Fahrenheit temperatures to Celsius using a `for` loop."
      ],
      "metadata": {
        "id": "XRI7TeYv4qPx"
      }
    },
    {
      "cell_type": "code",
      "source": [],
      "metadata": {
        "id": "LdvXq6FW5Ab9"
      },
      "execution_count": null,
      "outputs": []
    },
    {
      "cell_type": "markdown",
      "source": [
        "### 18. Create a program to print the common elements from two lists using a `for` loop."
      ],
      "metadata": {
        "id": "nYIuEtkv4t_I"
      }
    },
    {
      "cell_type": "code",
      "source": [],
      "metadata": {
        "id": "IdZmFjOI5AF8"
      },
      "execution_count": null,
      "outputs": []
    },
    {
      "cell_type": "markdown",
      "source": [
        "### 19. Develop a program that prints the pattern of right-angled triangles using a `for` loop. Use ‘*’ to draw the pattern"
      ],
      "metadata": {
        "id": "YS_EwRW44xlJ"
      }
    },
    {
      "cell_type": "code",
      "source": [],
      "metadata": {
        "id": "BhJgiQ5a4_tK"
      },
      "execution_count": null,
      "outputs": []
    },
    {
      "cell_type": "markdown",
      "source": [
        "### 20. Write a program to find the greatest common divisor (GCD) of two numbers using a `for` loop."
      ],
      "metadata": {
        "id": "7WmEsB7j4SBR"
      }
    },
    {
      "cell_type": "code",
      "source": [],
      "metadata": {
        "id": "ufuKMLA54_OB"
      },
      "execution_count": null,
      "outputs": []
    }
  ]
}