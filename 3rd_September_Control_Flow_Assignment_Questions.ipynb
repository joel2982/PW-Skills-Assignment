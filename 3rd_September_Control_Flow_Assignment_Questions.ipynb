{
  "nbformat": 4,
  "nbformat_minor": 0,
  "metadata": {
    "colab": {
      "provenance": [],
      "collapsed_sections": [
        "lpbCUtU8q71m",
        "41CoAVqU4HfU",
        "zABLbGuRTCHP",
        "v44hm0JCTCHc",
        "D-BuvxnCTCHa",
        "tmmJa3LVTCHa",
        "DM4VruDdTCHb",
        "voi6-dcJgCDU",
        "F7i9e4r8g--A",
        "KpIy3dAZfxSd",
        "vkTWv33_TCHb",
        "wViYzWl3TCHd"
      ],
      "authorship_tag": "ABX9TyOGDjYsTZmPTli/37wynvVv",
      "include_colab_link": true
    },
    "kernelspec": {
      "name": "python3",
      "display_name": "Python 3"
    },
    "language_info": {
      "name": "python"
    }
  },
  "cells": [
    {
      "cell_type": "markdown",
      "metadata": {
        "id": "view-in-github",
        "colab_type": "text"
      },
      "source": [
        "<a href=\"https://colab.research.google.com/github/joel2982/PW-Skills-Assignment/blob/master/3rd_September_Control_Flow_Assignment_Questions.ipynb\" target=\"_parent\"><img src=\"https://colab.research.google.com/assets/colab-badge.svg\" alt=\"Open In Colab\"/></a>"
      ]
    },
    {
      "cell_type": "markdown",
      "source": [
        "## Basic If-Else Statements"
      ],
      "metadata": {
        "id": "lpbCUtU8q71m"
      }
    },
    {
      "cell_type": "markdown",
      "source": [
        "### 1. Write a Python program to check if a given number is positive or negative."
      ],
      "metadata": {
        "id": "xuAwpXDxrFtp"
      }
    },
    {
      "cell_type": "code",
      "execution_count": null,
      "metadata": {
        "colab": {
          "base_uri": "https://localhost:8080/",
          "height": 36
        },
        "id": "Sio_lN26qAXa",
        "outputId": "396fcba6-cfa2-438e-8b61-46d303843bd4"
      },
      "outputs": [
        {
          "output_type": "execute_result",
          "data": {
            "text/plain": [
              "'Negative'"
            ],
            "application/vnd.google.colaboratory.intrinsic+json": {
              "type": "string"
            }
          },
          "metadata": {},
          "execution_count": 2
        }
      ],
      "source": [
        "def positiveNegative(num):\n",
        "  '''check if num is positive or negative\n",
        "\n",
        "  Parameters\n",
        "  num: int/float value\n",
        "\n",
        "  Returns\n",
        "  str value\n",
        "  '''\n",
        "  if num >= 0:\n",
        "    return 'Positve'\n",
        "  else:\n",
        "    return 'Negative'\n",
        "positiveNegative(-12)"
      ]
    },
    {
      "cell_type": "code",
      "source": [
        "positiveNegative(12)"
      ],
      "metadata": {
        "colab": {
          "base_uri": "https://localhost:8080/",
          "height": 36
        },
        "id": "BAwvxy9945YD",
        "outputId": "12184e13-926c-4717-8773-88034c6af8c9"
      },
      "execution_count": null,
      "outputs": [
        {
          "output_type": "execute_result",
          "data": {
            "text/plain": [
              "'Positve'"
            ],
            "application/vnd.google.colaboratory.intrinsic+json": {
              "type": "string"
            }
          },
          "metadata": {},
          "execution_count": 3
        }
      ]
    },
    {
      "cell_type": "markdown",
      "source": [
        "### 2. Create a program that determines if a person is eligible to vote based on their age."
      ],
      "metadata": {
        "id": "0iJ8kDfhscLB"
      }
    },
    {
      "cell_type": "code",
      "source": [
        "def eligibleToVote(age):\n",
        "  '''check if the person is eligible to vote\n",
        "\n",
        "  Parameters\n",
        "  age: int/float value\n",
        "\n",
        "  Returns\n",
        "  bool value\n",
        "  '''\n",
        "  if age >= 18:\n",
        "    return True\n",
        "  else:\n",
        "    return False\n",
        "eligibleToVote(21)"
      ],
      "metadata": {
        "colab": {
          "base_uri": "https://localhost:8080/"
        },
        "id": "tNg4Rpb0tS-Z",
        "outputId": "aa0b9b31-0d29-496c-c603-a2bb0d84026a"
      },
      "execution_count": null,
      "outputs": [
        {
          "output_type": "execute_result",
          "data": {
            "text/plain": [
              "True"
            ]
          },
          "metadata": {},
          "execution_count": 4
        }
      ]
    },
    {
      "cell_type": "code",
      "source": [
        "eligibleToVote(16)"
      ],
      "metadata": {
        "colab": {
          "base_uri": "https://localhost:8080/"
        },
        "id": "Mvte062w593L",
        "outputId": "95dfc25c-13ad-4036-eec2-acc8c5fa4fdc"
      },
      "execution_count": null,
      "outputs": [
        {
          "output_type": "execute_result",
          "data": {
            "text/plain": [
              "False"
            ]
          },
          "metadata": {},
          "execution_count": 5
        }
      ]
    },
    {
      "cell_type": "markdown",
      "source": [
        "### 3. Develop a program to find the maximum of two numbers using if-else statements."
      ],
      "metadata": {
        "id": "gkI3IYwRspbS"
      }
    },
    {
      "cell_type": "code",
      "source": [
        "def maximum(n1,n2):\n",
        "  '''check if which num is greater\n",
        "\n",
        "  Parameters\n",
        "  n1: int/float value\n",
        "  n2: int/float value\n",
        "\n",
        "  Returns\n",
        "  int/float value\n",
        "  '''\n",
        "  if n1 >= n2:\n",
        "    return n1\n",
        "  else:\n",
        "    return n2\n",
        "maximum(-12,20)"
      ],
      "metadata": {
        "colab": {
          "base_uri": "https://localhost:8080/"
        },
        "id": "OSJXZQfTrVUp",
        "outputId": "2e1d2d08-a4c3-429f-aa7c-781e31a04830"
      },
      "execution_count": null,
      "outputs": [
        {
          "output_type": "execute_result",
          "data": {
            "text/plain": [
              "20"
            ]
          },
          "metadata": {},
          "execution_count": 6
        }
      ]
    },
    {
      "cell_type": "markdown",
      "source": [
        "### 4. Write a Python script to classify a given year as a leap year or not."
      ],
      "metadata": {
        "id": "NIyruAvpsw6t"
      }
    },
    {
      "cell_type": "markdown",
      "source": [
        "https://github.com/joel2982/PW-Skills-Assignment/blob/master/Q4PythonScript.py"
      ],
      "metadata": {
        "id": "wIgPByVG8dbr"
      }
    },
    {
      "cell_type": "code",
      "source": [
        "# code\n",
        "year = int(input('Enter the Year = '))\n",
        "if year%4 != 0:\n",
        "    print(year,'is not a Leap Year.')\n",
        "elif year%100 != 0:\n",
        "    print(year,'is a Leap Year.')\n",
        "elif year%400 == 0:\n",
        "    print(year,'is a Leap Year.')\n",
        "else:\n",
        "    print(year,'is not a Leap Year.')"
      ],
      "metadata": {
        "id": "jZ57Z4DnKhrq"
      },
      "execution_count": null,
      "outputs": []
    },
    {
      "cell_type": "markdown",
      "source": [
        "### 5. Create a program that checks whether a character is a vowel or a consonant."
      ],
      "metadata": {
        "id": "LINkWGgrs2V_"
      }
    },
    {
      "cell_type": "code",
      "source": [
        "def checkChar(char):\n",
        "  '''check if the char is vowel or consonant\n",
        "\n",
        "  Parameters\n",
        "  char: char value\n",
        "\n",
        "  Returns\n",
        "  bool value\n",
        "  '''\n",
        "  if char.lower() in 'aeiou':\n",
        "    return 'Vowel'\n",
        "  else:\n",
        "    return 'Consonant'\n",
        "checkChar('A')"
      ],
      "metadata": {
        "colab": {
          "base_uri": "https://localhost:8080/",
          "height": 36
        },
        "id": "GQ_CZDohsQTi",
        "outputId": "8336ba5b-0a14-40e4-9c79-ec7e16d51d6a"
      },
      "execution_count": null,
      "outputs": [
        {
          "output_type": "execute_result",
          "data": {
            "text/plain": [
              "'Vowel'"
            ],
            "application/vnd.google.colaboratory.intrinsic+json": {
              "type": "string"
            }
          },
          "metadata": {},
          "execution_count": 1
        }
      ]
    },
    {
      "cell_type": "code",
      "source": [
        "checkChar('b')"
      ],
      "metadata": {
        "colab": {
          "base_uri": "https://localhost:8080/",
          "height": 36
        },
        "id": "MuaujRd9KJWs",
        "outputId": "068199e9-2c1c-459b-b7ef-61fb917048e8"
      },
      "execution_count": null,
      "outputs": [
        {
          "output_type": "execute_result",
          "data": {
            "text/plain": [
              "'Consonant'"
            ],
            "application/vnd.google.colaboratory.intrinsic+json": {
              "type": "string"
            }
          },
          "metadata": {},
          "execution_count": 2
        }
      ]
    },
    {
      "cell_type": "markdown",
      "source": [
        "### 6. Implement a program to determine whether a given number is even or odd."
      ],
      "metadata": {
        "id": "2t3ui53Ds-SO"
      }
    },
    {
      "cell_type": "code",
      "source": [
        "def checkOddEven(num):\n",
        "  '''find the number is even or odd\n",
        "\n",
        "  Parameters\n",
        "  num: int/float value\n",
        "\n",
        "  Returns\n",
        "  bool value\n",
        "  '''\n",
        "  if num%2 == 0:\n",
        "    return 'Even'\n",
        "  else:\n",
        "    return 'Odd'\n",
        "checkOddEven(14)"
      ],
      "metadata": {
        "colab": {
          "base_uri": "https://localhost:8080/",
          "height": 36
        },
        "id": "4WuBZKGXs9za",
        "outputId": "787d1f2a-e57f-49b1-e6f0-00861de7894f"
      },
      "execution_count": null,
      "outputs": [
        {
          "output_type": "execute_result",
          "data": {
            "text/plain": [
              "'Even'"
            ],
            "application/vnd.google.colaboratory.intrinsic+json": {
              "type": "string"
            }
          },
          "metadata": {},
          "execution_count": 3
        }
      ]
    },
    {
      "cell_type": "code",
      "source": [
        "checkOddEven(11)"
      ],
      "metadata": {
        "colab": {
          "base_uri": "https://localhost:8080/",
          "height": 36
        },
        "id": "fhmPgSycLXTX",
        "outputId": "56f94ce0-1bbe-433b-eda1-9d9aadb05f27"
      },
      "execution_count": null,
      "outputs": [
        {
          "output_type": "execute_result",
          "data": {
            "text/plain": [
              "'Odd'"
            ],
            "application/vnd.google.colaboratory.intrinsic+json": {
              "type": "string"
            }
          },
          "metadata": {},
          "execution_count": 4
        }
      ]
    },
    {
      "cell_type": "markdown",
      "source": [
        "### 7. Write a Python function to calculate the absolute value of a number without using the `abs()` function."
      ],
      "metadata": {
        "id": "GVVPptkotALy"
      }
    },
    {
      "cell_type": "code",
      "source": [
        "def absolute(num):\n",
        "  '''return the absolute value\n",
        "\n",
        "  Parameters\n",
        "  num: int/float value\n",
        "\n",
        "  Returns\n",
        "  int/float value\n",
        "  '''\n",
        "  if num > 0:\n",
        "    return num\n",
        "  else:\n",
        "    return -num\n",
        "absolute(-12)"
      ],
      "metadata": {
        "colab": {
          "base_uri": "https://localhost:8080/"
        },
        "id": "Au2UpvuWtETK",
        "outputId": "c2d3f8b6-c44b-4ee4-c6c7-edbe01971952"
      },
      "execution_count": null,
      "outputs": [
        {
          "output_type": "execute_result",
          "data": {
            "text/plain": [
              "12"
            ]
          },
          "metadata": {},
          "execution_count": 6
        }
      ]
    },
    {
      "cell_type": "markdown",
      "source": [
        "### 8. Develop a program that determines the largest of three given numbers using if-else statements."
      ],
      "metadata": {
        "id": "0L3z2zzWtGqj"
      }
    },
    {
      "cell_type": "code",
      "source": [
        "def largestNum(n1,n2,n3):\n",
        "  '''check if which num is greater\n",
        "\n",
        "  Parameters\n",
        "  n1,n2,n3: int/float value\n",
        "\n",
        "  Returns\n",
        "  int/float value\n",
        "  '''\n",
        "  if n1 > n2 and n1 > n3:\n",
        "    return n1\n",
        "  elif n3 > n2 and n3 > n1:\n",
        "    return n3\n",
        "  else:\n",
        "    return n2\n",
        "largestNum(-12,20,23)"
      ],
      "metadata": {
        "colab": {
          "base_uri": "https://localhost:8080/"
        },
        "id": "vyjvAsJatJW2",
        "outputId": "293b0070-61b8-493f-be4c-7fddbd8f4429"
      },
      "execution_count": null,
      "outputs": [
        {
          "output_type": "execute_result",
          "data": {
            "text/plain": [
              "23"
            ]
          },
          "metadata": {},
          "execution_count": 7
        }
      ]
    },
    {
      "cell_type": "markdown",
      "source": [
        "### 9. Create a program that checks if a given string is a palindrome."
      ],
      "metadata": {
        "id": "ZCo3ParLtM8B"
      }
    },
    {
      "cell_type": "code",
      "source": [
        "def checkPalindrome(string):\n",
        "  '''check if string is palindrom\n",
        "\n",
        "  Parameters\n",
        "  string: str value\n",
        "\n",
        "  Returns\n",
        "  bool value\n",
        "  '''\n",
        "  string = string.replace(' ','').lower()\n",
        "  if string == string[::-1]:\n",
        "    return True\n",
        "  else:\n",
        "    return False\n",
        "checkPalindrome('abc aacba')"
      ],
      "metadata": {
        "colab": {
          "base_uri": "https://localhost:8080/"
        },
        "id": "jRPKNK7QtO7I",
        "outputId": "f9cb5b9b-c1c7-4d8c-ad8f-a88a853795ec"
      },
      "execution_count": null,
      "outputs": [
        {
          "output_type": "execute_result",
          "data": {
            "text/plain": [
              "True"
            ]
          },
          "metadata": {},
          "execution_count": 11
        }
      ]
    },
    {
      "cell_type": "markdown",
      "source": [
        "### 10. Write a Python program to calculate the grade based on a student's score."
      ],
      "metadata": {
        "id": "QYlmisRvtPXR"
      }
    },
    {
      "cell_type": "code",
      "source": [
        "def grade(score):\n",
        "  '''find the grade based on the score\n",
        "\n",
        "  Parameters\n",
        "  n: int/float value\n",
        "\n",
        "  Returns\n",
        "  str value\n",
        "  '''\n",
        "  if score > 90:\n",
        "    return \"A1\"\n",
        "  elif score > 80:\n",
        "    return \"A2\"\n",
        "  elif score > 70:\n",
        "    return \"B1\"\n",
        "  elif score > 60:\n",
        "    return \"B2\"\n",
        "  elif score > 50:\n",
        "    return \"C1\"\n",
        "  elif score > 40:\n",
        "    return \"C2\"\n",
        "  elif score > 33:\n",
        "    return \"D\"\n",
        "  else:\n",
        "    return \"E\"\n",
        "grade(90.12)"
      ],
      "metadata": {
        "colab": {
          "base_uri": "https://localhost:8080/",
          "height": 36
        },
        "id": "xXWqcE6etWxt",
        "outputId": "18b1dc13-1059-4cf0-f640-cb9253e6c7bf"
      },
      "execution_count": null,
      "outputs": [
        {
          "output_type": "execute_result",
          "data": {
            "text/plain": [
              "'A1'"
            ],
            "application/vnd.google.colaboratory.intrinsic+json": {
              "type": "string"
            }
          },
          "metadata": {},
          "execution_count": 13
        }
      ]
    },
    {
      "cell_type": "code",
      "source": [
        "grade(30.12)"
      ],
      "metadata": {
        "colab": {
          "base_uri": "https://localhost:8080/",
          "height": 36
        },
        "id": "b6d9WjC2Qszm",
        "outputId": "c0db9ce0-3e67-4044-cab6-d3a47ec447f7"
      },
      "execution_count": null,
      "outputs": [
        {
          "output_type": "execute_result",
          "data": {
            "text/plain": [
              "'E'"
            ],
            "application/vnd.google.colaboratory.intrinsic+json": {
              "type": "string"
            }
          },
          "metadata": {},
          "execution_count": 14
        }
      ]
    },
    {
      "cell_type": "markdown",
      "source": [
        "## Nested If-Else Statements"
      ],
      "metadata": {
        "id": "41CoAVqU4HfU"
      }
    },
    {
      "cell_type": "markdown",
      "source": [
        "### 11. Write a program to find the largest among three numbers using nested if-else statements."
      ],
      "metadata": {
        "id": "HX0huXd_4PTZ"
      }
    },
    {
      "cell_type": "code",
      "source": [
        "def largestNum11(n1,n2,n3):\n",
        "  '''check if which num is greater\n",
        "\n",
        "  Parameters\n",
        "  n1,n2,n3: int/float value\n",
        "\n",
        "  Returns\n",
        "  int/float value\n",
        "  '''\n",
        "  if n1 >= n2:\n",
        "    if n1 > n3:\n",
        "      return n1\n",
        "    else:\n",
        "      return n3\n",
        "  elif n2 > n1:\n",
        "    if n2 > n3:\n",
        "      return n2\n",
        "    else:\n",
        "      return n3\n",
        "largestNum11(24,25,23)"
      ],
      "metadata": {
        "colab": {
          "base_uri": "https://localhost:8080/"
        },
        "id": "RJgNItJ749ms",
        "outputId": "d34f3743-280d-414a-b915-43d5b15cc7b0"
      },
      "execution_count": null,
      "outputs": [
        {
          "output_type": "execute_result",
          "data": {
            "text/plain": [
              "25"
            ]
          },
          "metadata": {},
          "execution_count": 28
        }
      ]
    },
    {
      "cell_type": "code",
      "source": [
        "largestNum11(20,20,21)"
      ],
      "metadata": {
        "colab": {
          "base_uri": "https://localhost:8080/"
        },
        "id": "cR3fvLW06LmR",
        "outputId": "7ff62f6e-d3c9-4644-9f71-2a4b9a7cbbf4"
      },
      "execution_count": null,
      "outputs": [
        {
          "output_type": "execute_result",
          "data": {
            "text/plain": [
              "21"
            ]
          },
          "metadata": {},
          "execution_count": 30
        }
      ]
    },
    {
      "cell_type": "markdown",
      "source": [
        "### 12. Implement a program to determine if a triangle is equilateral, isosceles, or scalene."
      ],
      "metadata": {
        "id": "tkK84hcg4V81"
      }
    },
    {
      "cell_type": "code",
      "source": [
        "def typeOfTriangle(side1,side2,side3):\n",
        "  '''find the type of triangle based on sides\n",
        "\n",
        "  Parameters\n",
        "  side1,side2,side3: int/float value\n",
        "\n",
        "  Returns\n",
        "  str value\n",
        "  '''\n",
        "  if side1 == side2:\n",
        "    if side3 == side2:\n",
        "      return 'Equilateral'\n",
        "    else:\n",
        "      return 'Isosceles'\n",
        "  elif side3 == side2:\n",
        "    return 'Isosceles'\n",
        "  elif side3 == side1:\n",
        "    return 'Isosceles'\n",
        "  else:\n",
        "    return 'Scalene'\n",
        "typeOfTriangle(10,10,10)"
      ],
      "metadata": {
        "colab": {
          "base_uri": "https://localhost:8080/",
          "height": 36
        },
        "id": "mQQhURay4-Cq",
        "outputId": "8ea85d7e-369c-45a2-b4fd-5a0a3dca4bee"
      },
      "execution_count": null,
      "outputs": [
        {
          "output_type": "execute_result",
          "data": {
            "text/plain": [
              "'Equilateral'"
            ],
            "application/vnd.google.colaboratory.intrinsic+json": {
              "type": "string"
            }
          },
          "metadata": {},
          "execution_count": 31
        }
      ]
    },
    {
      "cell_type": "code",
      "source": [
        "typeOfTriangle(21,10,10)"
      ],
      "metadata": {
        "colab": {
          "base_uri": "https://localhost:8080/",
          "height": 36
        },
        "id": "hj3DBWn3XkLj",
        "outputId": "cb8c27ef-028e-44b5-869a-38c59aa70bb8"
      },
      "execution_count": null,
      "outputs": [
        {
          "output_type": "execute_result",
          "data": {
            "text/plain": [
              "'Isosceles'"
            ],
            "application/vnd.google.colaboratory.intrinsic+json": {
              "type": "string"
            }
          },
          "metadata": {},
          "execution_count": 32
        }
      ]
    },
    {
      "cell_type": "code",
      "source": [
        "typeOfTriangle(21,10,20)"
      ],
      "metadata": {
        "colab": {
          "base_uri": "https://localhost:8080/",
          "height": 36
        },
        "id": "wz503tu8Xmto",
        "outputId": "3dcffbdc-4db7-4cb0-82aa-2b33798a4af8"
      },
      "execution_count": null,
      "outputs": [
        {
          "output_type": "execute_result",
          "data": {
            "text/plain": [
              "'Scalene'"
            ],
            "application/vnd.google.colaboratory.intrinsic+json": {
              "type": "string"
            }
          },
          "metadata": {},
          "execution_count": 33
        }
      ]
    },
    {
      "cell_type": "markdown",
      "source": [
        "### 13. Develop a program that checks if a year is a leap year and also if it is a century year."
      ],
      "metadata": {
        "id": "Zhpr1IQU4bFF"
      }
    },
    {
      "cell_type": "code",
      "source": [
        "def leapAndCentury(year):\n",
        "  '''check if year is a leap and century year\n",
        "\n",
        "  Parameters\n",
        "  year: int value\n",
        "  '''\n",
        "  leap = False\n",
        "  if year%4 != 0:\n",
        "    print(year,'is not a Leap Year.')\n",
        "    if year%100 == 0:\n",
        "      print(year,'is a Century Year.')\n",
        "    else:\n",
        "      print(year,'is not a Century Year.')\n",
        "  else:\n",
        "    if year%100 == 0:\n",
        "      if year%400 == 0:\n",
        "        print(year,'is a Leap Year.')\n",
        "      else:\n",
        "        print(year,'is not a Leap Year.')\n",
        "      print(year,'is a Century Year.')\n",
        "    else:\n",
        "      print(year,'is a Leap Year.')\n",
        "      print(year,'is not a Century Year.')\n",
        "  print()\n",
        "leapAndCentury(2020)\n",
        "leapAndCentury(2021)\n",
        "leapAndCentury(2000)\n",
        "leapAndCentury(1900)"
      ],
      "metadata": {
        "colab": {
          "base_uri": "https://localhost:8080/"
        },
        "id": "5HU63BfC4-aO",
        "outputId": "c14cf920-4699-4625-c23e-add377098b4f"
      },
      "execution_count": null,
      "outputs": [
        {
          "output_type": "stream",
          "name": "stdout",
          "text": [
            "2020 is a Leap Year.\n",
            "2020 is not a Century Year.\n",
            "\n",
            "2021 is not a Leap Year.\n",
            "2021 is not a Century Year.\n",
            "\n",
            "2000 is a Leap Year.\n",
            "2000 is a Century Year.\n",
            "\n",
            "1900 is not a Leap Year.\n",
            "1900 is a Century Year.\n",
            "\n"
          ]
        }
      ]
    },
    {
      "cell_type": "markdown",
      "source": [
        "### 14. Write a Python script to determine if a number is positive, negative, or zero."
      ],
      "metadata": {
        "id": "O4tF-u3P4cuY"
      }
    },
    {
      "cell_type": "markdown",
      "source": [
        "https://github.com/joel2982/PW-Skills-Assignment/blob/master/Q14PositiveNegativeZero.py"
      ],
      "metadata": {
        "id": "ziwkC-MCc-Dv"
      }
    },
    {
      "cell_type": "code",
      "source": [
        "# code\n",
        "num = int(input('Enter the Year = '))\n",
        "if num > 0:\n",
        "    print('Positve')\n",
        "elif num == 0:\n",
        "    print('Zero')\n",
        "else:\n",
        "    print('Negative')"
      ],
      "metadata": {
        "id": "IEOPWrp35Bdd"
      },
      "execution_count": null,
      "outputs": []
    },
    {
      "cell_type": "markdown",
      "source": [
        "### 15. Create a program to check if a person is a teenager (between 13 and 19 years old)."
      ],
      "metadata": {
        "id": "E37HuWDK4hw0"
      }
    },
    {
      "cell_type": "code",
      "source": [
        "def checkTeenager(age):\n",
        "  '''check if the person is a teenager\n",
        "\n",
        "  Parameters\n",
        "  age: int/float value\n",
        "\n",
        "  Returns\n",
        "  bool value\n",
        "  '''\n",
        "  if age >= 13:\n",
        "    if age <= 19:\n",
        "      return True\n",
        "  return False\n",
        "checkTeenager(21)"
      ],
      "metadata": {
        "colab": {
          "base_uri": "https://localhost:8080/"
        },
        "id": "bouz4Iur5Bxl",
        "outputId": "7b5d4efe-4eae-4b3b-b53f-51260aaeee5c"
      },
      "execution_count": null,
      "outputs": [
        {
          "output_type": "execute_result",
          "data": {
            "text/plain": [
              "False"
            ]
          },
          "metadata": {},
          "execution_count": 41
        }
      ]
    },
    {
      "cell_type": "code",
      "source": [
        "checkTeenager(10)"
      ],
      "metadata": {
        "colab": {
          "base_uri": "https://localhost:8080/"
        },
        "id": "QQwvJ06hemSj",
        "outputId": "fc1fb1a4-361e-4af0-9a2b-f0f8e917643a"
      },
      "execution_count": null,
      "outputs": [
        {
          "output_type": "execute_result",
          "data": {
            "text/plain": [
              "False"
            ]
          },
          "metadata": {},
          "execution_count": 42
        }
      ]
    },
    {
      "cell_type": "code",
      "source": [
        "checkTeenager(15)"
      ],
      "metadata": {
        "colab": {
          "base_uri": "https://localhost:8080/"
        },
        "id": "TrxIBToeepaC",
        "outputId": "a78e1b08-dc79-45af-b2be-2aced0fd4192"
      },
      "execution_count": null,
      "outputs": [
        {
          "output_type": "execute_result",
          "data": {
            "text/plain": [
              "True"
            ]
          },
          "metadata": {},
          "execution_count": 43
        }
      ]
    },
    {
      "cell_type": "markdown",
      "source": [
        "### 16. Develop a program that determines the type of angle based on its measure (acute, obtuse, or right)."
      ],
      "metadata": {
        "id": "J6f-CETt4jA-"
      }
    },
    {
      "cell_type": "code",
      "source": [
        "def typeOfAngle(angle):\n",
        "  '''find the type of angle\n",
        "\n",
        "  Parameters\n",
        "  angle: int/float value\n",
        "  '''\n",
        "  if angle > 90:\n",
        "    if angle < 180:\n",
        "      print('Obtuse')\n",
        "  if angle < 90:\n",
        "    print('Acute')\n",
        "  elif angle == 90:\n",
        "    print('Right')\n",
        "typeOfAngle(45)\n",
        "typeOfAngle(120)\n",
        "typeOfAngle(90)"
      ],
      "metadata": {
        "colab": {
          "base_uri": "https://localhost:8080/"
        },
        "id": "dQzZn1fy5A1z",
        "outputId": "a4c1238c-fb78-413f-a4b7-746f2740aa3f"
      },
      "execution_count": null,
      "outputs": [
        {
          "output_type": "stream",
          "name": "stdout",
          "text": [
            "Acute\n",
            "Obtuse\n",
            "Right\n"
          ]
        }
      ]
    },
    {
      "cell_type": "markdown",
      "source": [
        "### 17. Write a Python program to calculate the roots of a quadratic equation."
      ],
      "metadata": {
        "id": "XRI7TeYv4qPx"
      }
    },
    {
      "cell_type": "code",
      "source": [
        "def quadraticRoots(a,b,c):\n",
        "  ''' find the roots of the quadratic equation\n",
        "\n",
        "  Parameters\n",
        "  a,b,c: coefficients of the equation\n",
        "  '''\n",
        "  val = b**2 - 4*a*c\n",
        "  if val < 0:\n",
        "    print('Imaginary Roots')\n",
        "  else:\n",
        "    root1 = (-b + val)/(2*a)\n",
        "    if val > 0:\n",
        "      root2 = (-b - val)/(2*a)\n",
        "      print('Distinct Real Roots:',root1,',',root2)\n",
        "    else:\n",
        "      print('Equal Real Roots:',root1,',',root1)\n",
        "quadraticRoots(10,20,30)\n",
        "quadraticRoots(10,20,10)\n",
        "quadraticRoots(20,40,10)"
      ],
      "metadata": {
        "colab": {
          "base_uri": "https://localhost:8080/"
        },
        "id": "LdvXq6FW5Ab9",
        "outputId": "9af09c4f-5080-40b6-ff1d-03d541bbe728"
      },
      "execution_count": null,
      "outputs": [
        {
          "output_type": "stream",
          "name": "stdout",
          "text": [
            "Imaginary Roots\n",
            "Equal Real Roots: -1.0 , -1.0\n",
            "Distinct Real Roots: 19.0 , -21.0\n"
          ]
        }
      ]
    },
    {
      "cell_type": "markdown",
      "source": [
        "### 18. Implement a program to determine the day of the week based on a user-provided number (1 for Monday, 2 for Tuesday, etc.)."
      ],
      "metadata": {
        "id": "nYIuEtkv4t_I"
      }
    },
    {
      "cell_type": "code",
      "source": [
        "def dayOfWeek(num):\n",
        "  '''print the corresponding day of the week based on the number\n",
        "\n",
        "  Parameters\n",
        "  num: int value\n",
        "  '''\n",
        "  if num == 1:\n",
        "    print('Monday')\n",
        "  elif num == 2:\n",
        "    print('Tuesday')\n",
        "  elif num == 3:\n",
        "    print('Wednesday')\n",
        "  elif num == 4:\n",
        "    print('Thursday')\n",
        "  elif num == 5:\n",
        "    print('Friday')\n",
        "  elif num == 6:\n",
        "    print('Saturday')\n",
        "  elif num == 7:\n",
        "    print('Sunday')\n",
        "  else:\n",
        "    print('Invalid Input')\n",
        "dayOfWeek(10)\n",
        "dayOfWeek(4)\n",
        "dayOfWeek(2)"
      ],
      "metadata": {
        "colab": {
          "base_uri": "https://localhost:8080/"
        },
        "id": "IdZmFjOI5AF8",
        "outputId": "7417cff8-5c55-4fc4-8ba1-fcf0a247ccad"
      },
      "execution_count": null,
      "outputs": [
        {
          "output_type": "stream",
          "name": "stdout",
          "text": [
            "Invalid Input\n",
            "Thursday\n",
            "Tuesday\n"
          ]
        }
      ]
    },
    {
      "cell_type": "markdown",
      "source": [
        "### 19. Create a program that determines if a year is a leap year and also if it is evenly divisible by 400."
      ],
      "metadata": {
        "id": "YS_EwRW44xlJ"
      }
    },
    {
      "cell_type": "code",
      "source": [
        "def leapYearAndDivisibleBy400(year):\n",
        "  '''check if a year is a leap year and also evenly divisible by 400\n",
        "\n",
        "  Parameters\n",
        "  year: int value\n",
        "  '''\n",
        "  if year%400 == 0:\n",
        "    print(year,'is a Leap Year and evenly divisible by 400.')\n",
        "    print(year,'is a Centurian Leap Year.')\n",
        "  elif year%4 == 0:\n",
        "    if year%100 != 0:\n",
        "      print(year,'is a Leap Year but not a century Year')\n",
        "    else:\n",
        "      print(year,'is a not Leap Year as not evenly divisible by 400.')\n",
        "  else:\n",
        "    print(year,'is not a Leap Year')\n",
        "leapYearAndDivisibleBy400(1900)\n",
        "leapYearAndDivisibleBy400(1600)"
      ],
      "metadata": {
        "colab": {
          "base_uri": "https://localhost:8080/"
        },
        "id": "BhJgiQ5a4_tK",
        "outputId": "6264ea29-d6c1-426b-b7fa-a6eb00117463"
      },
      "execution_count": null,
      "outputs": [
        {
          "output_type": "stream",
          "name": "stdout",
          "text": [
            "1900 is a not Leap Year as not evenly divisible by 400.\n",
            "1600 is a Leap Year and evenly divisible by 400.\n",
            "1600 is a Centurian Leap Year.\n"
          ]
        }
      ]
    },
    {
      "cell_type": "markdown",
      "source": [
        "### 20. Develop a program that checks if a given number is prime or not using nested if-else statements."
      ],
      "metadata": {
        "id": "7WmEsB7j4SBR"
      }
    },
    {
      "cell_type": "code",
      "source": [
        "def prime(num):\n",
        "  '''check for prime number\n",
        "\n",
        "  Parameters\n",
        "  num: int value\n",
        "\n",
        "  Returns\n",
        "  bool value\n",
        "  '''\n",
        "  if num <= 1:\n",
        "    return False\n",
        "  else:\n",
        "    if num <= 3:\n",
        "      return True\n",
        "    elif num%2 == 0:\n",
        "      return False\n",
        "    elif num%3 == 0:\n",
        "      return False\n",
        "    else:\n",
        "      for i in range(5,int(num**0.5)+1):\n",
        "        if num%i == 0:\n",
        "          return False\n",
        "  return True\n",
        "prime(195)"
      ],
      "metadata": {
        "colab": {
          "base_uri": "https://localhost:8080/"
        },
        "id": "ufuKMLA54_OB",
        "outputId": "05873856-2d35-447f-9f86-9b701eeea4b9"
      },
      "execution_count": null,
      "outputs": [
        {
          "output_type": "execute_result",
          "data": {
            "text/plain": [
              "False"
            ]
          },
          "metadata": {},
          "execution_count": 13
        }
      ]
    },
    {
      "cell_type": "code",
      "source": [
        "prime(7)"
      ],
      "metadata": {
        "colab": {
          "base_uri": "https://localhost:8080/"
        },
        "id": "_t-y3PEVY30g",
        "outputId": "aec01ed9-a6e8-4b4e-ae4b-fc1cbaa3a13e"
      },
      "execution_count": null,
      "outputs": [
        {
          "output_type": "execute_result",
          "data": {
            "text/plain": [
              "True"
            ]
          },
          "metadata": {},
          "execution_count": 16
        }
      ]
    },
    {
      "cell_type": "markdown",
      "source": [
        "## Elif Statements"
      ],
      "metadata": {
        "id": "8DCHSLC4bMio"
      }
    },
    {
      "cell_type": "markdown",
      "source": [
        "### 21. Write a Python program to assign grades based on different ranges of scores using elif statements."
      ],
      "metadata": {
        "id": "_poAavwnbMiy"
      }
    },
    {
      "cell_type": "code",
      "source": [
        "def grade(score):\n",
        "  '''find the grade based on the score\n",
        "\n",
        "  Parameters\n",
        "  n: int/float value\n",
        "\n",
        "  Returns\n",
        "  str value\n",
        "  '''\n",
        "  if score > 90:\n",
        "    return \"A1\"\n",
        "  elif score > 80:\n",
        "    return \"A2\"\n",
        "  elif score > 70:\n",
        "    return \"B1\"\n",
        "  elif score > 60:\n",
        "    return \"B2\"\n",
        "  elif score > 50:\n",
        "    return \"C1\"\n",
        "  elif score > 40:\n",
        "    return \"C2\"\n",
        "  elif score > 33:\n",
        "    return \"D\"\n",
        "  else:\n",
        "    return \"E\"\n",
        "grade(90.12)"
      ],
      "metadata": {
        "colab": {
          "base_uri": "https://localhost:8080/",
          "height": 36
        },
        "outputId": "7576a10a-8b16-4324-8e52-f4a64d9dd25f",
        "id": "jMARyfcgbMiy"
      },
      "execution_count": null,
      "outputs": [
        {
          "output_type": "execute_result",
          "data": {
            "text/plain": [
              "'A1'"
            ],
            "application/vnd.google.colaboratory.intrinsic+json": {
              "type": "string"
            }
          },
          "metadata": {},
          "execution_count": 1
        }
      ]
    },
    {
      "cell_type": "markdown",
      "source": [
        "### 22. Implement a program to determine the type of a triangle based on its angles."
      ],
      "metadata": {
        "id": "12bTGhApbMiz"
      }
    },
    {
      "cell_type": "code",
      "source": [
        "def typeOfTriangle(a1,a2,a3):\n",
        "  '''find the type of triangle based on its angles(given angles are of a triangle)\n",
        "\n",
        "  Parameters\n",
        "  a1,a2,a3: int/float value\n",
        "  '''\n",
        "  if a1 > 90 or a2 > 90 or a3 > 90:\n",
        "    print('Obtuse Angle Triangle')\n",
        "  elif a1 < 90 and a2 < 90 and a2 < 90:\n",
        "    print('Acute Angle Triangle')\n",
        "  elif a1 == 90 or a2 == 90 or a3 == 90:\n",
        "    print('Right Angle Triangle')\n",
        "typeOfTriangle(70,70,40)\n",
        "typeOfTriangle(120,20,40)\n",
        "typeOfTriangle(90,20,70)"
      ],
      "metadata": {
        "colab": {
          "base_uri": "https://localhost:8080/"
        },
        "outputId": "0ea4fc33-6cae-402b-e20a-0718c252482b",
        "id": "0o-pI5VzbMiz"
      },
      "execution_count": null,
      "outputs": [
        {
          "output_type": "stream",
          "name": "stdout",
          "text": [
            "Acute Angle Triangle\n",
            "Obtuse Angle Triangle\n",
            "Right Angle Triangle\n"
          ]
        }
      ]
    },
    {
      "cell_type": "markdown",
      "source": [
        "### 23. Develop a program to categorize a given person's BMI into underweight, normal, overweight, or obese using elif statements."
      ],
      "metadata": {
        "id": "2u94Vpw_bMiz"
      }
    },
    {
      "cell_type": "code",
      "source": [
        "def bmiCategory(bmi):\n",
        "  '''categorize a given person into underweight, normal, overweight or obese\n",
        "\n",
        "  Parameters\n",
        "  bmi: int/float value\n",
        "  '''\n",
        "  if bmi < 18.5:\n",
        "    print(bmi,'is Underweight')\n",
        "  elif 18.5 <= bmi <= 24.9:\n",
        "    print(bmi,'is Normal')\n",
        "  elif 25.0 <= bmi <= 29.9:\n",
        "    print(bmi,'is Overweight')\n",
        "  elif 30.0 <= bmi <= 34.9:\n",
        "    print(bmi,'is Obese')\n",
        "  elif bmi > 34.9:\n",
        "    print(bmi,'is Morbidly Obese')\n",
        "bmiCategory(23)\n",
        "bmiCategory(18.1)\n",
        "bmiCategory(26.1)\n",
        "bmiCategory(30.1)\n",
        "bmiCategory(39.1)"
      ],
      "metadata": {
        "colab": {
          "base_uri": "https://localhost:8080/"
        },
        "outputId": "703f52e5-8765-41a7-af48-c34e092cdf6f",
        "id": "FCD0vlFlbMiz"
      },
      "execution_count": null,
      "outputs": [
        {
          "output_type": "stream",
          "name": "stdout",
          "text": [
            "23 is Normal\n",
            "18.1 is Underweight\n",
            "26.1 is Overweight\n",
            "30.1 is Obese\n",
            "39.1 is Morbidly Obese\n"
          ]
        }
      ]
    },
    {
      "cell_type": "markdown",
      "source": [
        "### 24. Create a program that determines whether a given number is positive, negative, or zero using elif statements."
      ],
      "metadata": {
        "id": "keIyY_JLbMiz"
      }
    },
    {
      "cell_type": "code",
      "source": [
        "def negativePositiveZero(num):\n",
        "  ''' check if number is positive, negative or zero\n",
        "\n",
        "  Parameters\n",
        "  num: int/float value\n",
        "  '''\n",
        "  if num > 0:\n",
        "    print('Positve')\n",
        "  elif num == 0:\n",
        "    print('Zero')\n",
        "  else:\n",
        "    print('Negative')\n",
        "negativePositiveZero(0.0)\n",
        "negativePositiveZero(13.0)\n",
        "negativePositiveZero(-1.0)"
      ],
      "metadata": {
        "colab": {
          "base_uri": "https://localhost:8080/"
        },
        "outputId": "9b8af12b-7051-478d-b1fa-43d86dbd8607",
        "id": "T8A4Uls3bMiz"
      },
      "execution_count": null,
      "outputs": [
        {
          "output_type": "stream",
          "name": "stdout",
          "text": [
            "Zero\n",
            "Positve\n",
            "Negative\n"
          ]
        }
      ]
    },
    {
      "cell_type": "markdown",
      "source": [
        "### 25. Write a Python script to determine the type of a character (uppercase, lowercase, or special) using elif statements."
      ],
      "metadata": {
        "id": "uPTMQxUkbMi0"
      }
    },
    {
      "cell_type": "markdown",
      "source": [
        "https://github.com/joel2982/PW-Skills-Assignment/blob/master/Q25TypeOfChar.py"
      ],
      "metadata": {
        "id": "acHcYsiJ2U8R"
      }
    },
    {
      "cell_type": "code",
      "source": [
        "# code\n",
        "char = input('Enter a character = ')\n",
        "special_char = '[@_!#$%^&*()<>?/\\|}{~:]'\n",
        "if char.islower():\n",
        "    print('Lowercase')\n",
        "elif char.isupper():\n",
        "    print('Uppercase')\n",
        "elif char in special_char:\n",
        "    print('Special char')"
      ],
      "metadata": {
        "id": "DHnxF_h4bMi0"
      },
      "execution_count": null,
      "outputs": []
    },
    {
      "cell_type": "markdown",
      "source": [
        "### 26. Implement a program to calculate the discounted price based on different purchase amounts using elif statements."
      ],
      "metadata": {
        "id": "x9GH8CdKbMi0"
      }
    },
    {
      "cell_type": "code",
      "source": [
        "def calDiscountedPrice(purchase):\n",
        "  ''' calculate the discounted price based on the purchase amount\n",
        "\n",
        "  Parameters\n",
        "  purchase: int/float value\n",
        "  '''\n",
        "  discount = 0.0\n",
        "  if purchase <= 5000:\n",
        "      discount = 0.0\n",
        "  elif 5000 < purchase <= 10000:\n",
        "    discount = (purchase-5000)*(10/100.0)\n",
        "  elif 10000 < purchase <= 20000:\n",
        "    discount = (purchase-10000)*(20/100.0)\n",
        "  elif  20000 < purchase <= 30000:\n",
        "    discount = (purchase-20000)*(30/100.0)\n",
        "  else:\n",
        "    discount = (purchase-30000)*(40/100.0)\n",
        "  print('Discount Amount = {:.2f}'.format(discount))\n",
        "  print('Net Bill Amount = {:.2f}'.format(purchase-discount))\n",
        "calDiscountedPrice(7000)\n",
        "calDiscountedPrice(45000)"
      ],
      "metadata": {
        "colab": {
          "base_uri": "https://localhost:8080/"
        },
        "outputId": "70ac61e2-b64b-45d9-a549-dce6aff6b3ea",
        "id": "-nHKMdvObMi0"
      },
      "execution_count": null,
      "outputs": [
        {
          "output_type": "stream",
          "name": "stdout",
          "text": [
            "Discount Amount = 200.00\n",
            "Net Bill Amount = 6800.00\n",
            "Discount Amount = 6000.00\n",
            "Net Bill Amount = 39000.00\n"
          ]
        }
      ]
    },
    {
      "cell_type": "markdown",
      "source": [
        "### 27. Develop a program to calculate the electricity bill based on different consumption slabs using elif statements."
      ],
      "metadata": {
        "id": "vhNxks3qbMi0"
      }
    },
    {
      "cell_type": "code",
      "source": [
        "def billCalculator(usage):\n",
        "  ''' calculate the electricity bill based on the consumption slabs\n",
        "\n",
        "  Parameters\n",
        "  usage: int/float value\n",
        "  '''\n",
        "  # 1 to 100 units – Rs. 10/unit\n",
        "  # 100 to 200 units – Rs. 15/unit\n",
        "  # 200 to 300 units – Rs. 20/unit\n",
        "  # above 300 units – Rs. 25/unit\n",
        "  bill = 0.0\n",
        "  if usage <= 100:\n",
        "    bill = 10*usage\n",
        "  elif 100 < usage <= 200:\n",
        "    bill = 10*100 + (usage-100)*15\n",
        "  elif 200 < usage <= 300:\n",
        "    bill = 10*100 + 15*100 + (usage-200)*20\n",
        "  else:\n",
        "    bill = 10*100 + 15*100 + 20*100 + (usage-300)*25\n",
        "  print('Net Bill Amount = {:.2f}'.format(bill))\n",
        "billCalculator(40)\n",
        "billCalculator(400)"
      ],
      "metadata": {
        "colab": {
          "base_uri": "https://localhost:8080/"
        },
        "outputId": "006c4e95-94ec-4523-939b-e8bad6cef0f8",
        "id": "dRhsUi0cbMi0"
      },
      "execution_count": null,
      "outputs": [
        {
          "output_type": "stream",
          "name": "stdout",
          "text": [
            "Net Bill Amount = 400.00\n",
            "Net Bill Amount = 7000.00\n"
          ]
        }
      ]
    },
    {
      "cell_type": "markdown",
      "source": [
        "### 28. Create a program to determine the type of quadrilateral based on its angles and sides using elif statements."
      ],
      "metadata": {
        "id": "paMmAA5VbMi0"
      }
    },
    {
      "cell_type": "code",
      "source": [
        "def typeOfQuadrilateral(s1,s2,s3,s4,a1,a2,a3,a4):\n",
        "  ''' calculate the electricity bill based on the consumption slabs\n",
        "\n",
        "  Parameters\n",
        "  s1,s2,s3,s4: int/float value sides\n",
        "  a1,a2,a3,a4: int/float value angles\n",
        "  '''\n",
        "  if a1 + a2 + a3 + a4 != 360:\n",
        "    print('Not a Quadrilateral')\n",
        "  elif s1 == s3 == s2 == s4:\n",
        "    if a1 == a2 == a3 == a4 == 90:\n",
        "      print('Square')\n",
        "    else:\n",
        "      print('Rhombus')\n",
        "  elif s1 == s3 and s2 == s4:\n",
        "    if a1 == a2 == a3 == a4 == 90:\n",
        "      print('Rectangle')\n",
        "    elif a1 == a3 and a2 == a4:\n",
        "      print('Parallogram')\n",
        "  elif s1 == s2 and s3 == s4 and a1 == a4 and a2 == a3:\n",
        "      print('Kites')\n",
        "  else:\n",
        "    print('Trapizoid')\n",
        "typeOfQuadrilateral(20,20,20,20,90,90,90,90)\n",
        "typeOfQuadrilateral(20,10,20,10,90,90,90,90)\n",
        "typeOfQuadrilateral(20,10,20,10,60,120,60,120)\n",
        "typeOfQuadrilateral(20,20,20,20,60,120,60,120)\n",
        "typeOfQuadrilateral(10,10,20,20,60,120,120,60)\n",
        "typeOfQuadrilateral(10,20,20,10,150,30,70,110)\n",
        "typeOfQuadrilateral(10,20,20,10,150,50,70,110)"
      ],
      "metadata": {
        "colab": {
          "base_uri": "https://localhost:8080/"
        },
        "outputId": "a3ea8dba-ca92-47b3-e69f-8156fcb7715e",
        "id": "NTiWXdiMbMi0"
      },
      "execution_count": null,
      "outputs": [
        {
          "output_type": "stream",
          "name": "stdout",
          "text": [
            "Square\n",
            "Rectangle\n",
            "Parallogram\n",
            "Rhombus\n",
            "Kites\n",
            "Trapizoid\n",
            "Not a Quadrilateral\n"
          ]
        }
      ]
    },
    {
      "cell_type": "markdown",
      "source": [
        "### 29. Write a Python script to determine the season based on a user-provided month using elif statements."
      ],
      "metadata": {
        "id": "G81WvOwwbMi1"
      }
    },
    {
      "cell_type": "markdown",
      "source": [
        "https://github.com/joel2982/PW-Skills-Assignment/blob/master/Q29DetermineSeasons.py"
      ],
      "metadata": {
        "id": "2mevrH8wI5nT"
      }
    },
    {
      "cell_type": "code",
      "source": [
        "# code\n",
        "month = input('Enter the Month = ')\n",
        "spring = ['March','April']\n",
        "autumn = ['September','October']\n",
        "summer = ['May','June','July','August']\n",
        "winter = ['November','December','January','February']\n",
        "if month.title() in spring:\n",
        "    print('Spring Season')\n",
        "elif month.title() in autumn:\n",
        "    print('Autumn Season')\n",
        "elif month.title() in summer:\n",
        "    print('Summer Season')\n",
        "elif month.title() in winter:\n",
        "    print('Winter Season')"
      ],
      "metadata": {
        "colab": {
          "base_uri": "https://localhost:8080/"
        },
        "outputId": "61e286d0-528d-46eb-a8ba-13f13254e6b5",
        "id": "6HIt8z9_bMi1"
      },
      "execution_count": null,
      "outputs": [
        {
          "output_type": "execute_result",
          "data": {
            "text/plain": [
              "['A', 'A', 'e', 'a', 'a', 'e', 'e', 'o', 'o', 'a', 'a']"
            ]
          },
          "metadata": {},
          "execution_count": 2
        }
      ]
    },
    {
      "cell_type": "markdown",
      "source": [
        "### 30. Implement a program to determine the type of a year (leap or common) and month (30 or 31 days) using elif statements."
      ],
      "metadata": {
        "id": "xVRTa7I_bMi1"
      }
    },
    {
      "cell_type": "code",
      "source": [
        "def yearMonth(month,year):\n",
        "  '''determine the type of year and month days\n",
        "\n",
        "  Parameters\n",
        "  year: int/float value sides\n",
        "  month: str value\n",
        "  '''\n",
        "  month31 = ['January','March','May','July','August','October','December']\n",
        "  month30 = ['April','June','September','November']\n",
        "  leap = False\n",
        "  if year%4 != 0:\n",
        "    print(year,'is a Common Year.')\n",
        "  elif year%100 != 0:\n",
        "    print(year,'is a Leap Year.')\n",
        "    leap = True\n",
        "  elif year%400 == 0:\n",
        "    print(year,'is a Leap Year.')\n",
        "    leap = True\n",
        "  else:\n",
        "    print(year,'is a Common Year.')\n",
        "  if month in month31:\n",
        "    print(month,'has 31 days.')\n",
        "  elif month in month30:\n",
        "    print(month,'has 30 days.')\n",
        "  elif month == 'February' and leap:\n",
        "    print(month,'has 29 days.')\n",
        "  elif month == 'February' and not leap:\n",
        "    print(month,'has 28 days.')\n",
        "  print()\n",
        "\n",
        "yearMonth('February',2021)\n",
        "yearMonth('March',2021)\n",
        "yearMonth('April',2021)\n",
        "yearMonth('February',2020)"
      ],
      "metadata": {
        "colab": {
          "base_uri": "https://localhost:8080/"
        },
        "outputId": "00ab0f52-4d07-4d19-d6b3-598de2dde61a",
        "id": "0xtp6EQibMi1"
      },
      "execution_count": null,
      "outputs": [
        {
          "output_type": "stream",
          "name": "stdout",
          "text": [
            "2021 is a Common Year.\n",
            "February has 28 days.\n",
            "\n",
            "2021 is a Common Year.\n",
            "March has 31 days.\n",
            "\n",
            "2021 is a Common Year.\n",
            "April has 30 days.\n",
            "\n",
            "2020 is a Leap Year.\n",
            "February has 29 days.\n",
            "\n"
          ]
        }
      ]
    },
    {
      "cell_type": "markdown",
      "source": [
        "## Basic Level"
      ],
      "metadata": {
        "id": "zABLbGuRTCHP"
      }
    },
    {
      "cell_type": "markdown",
      "source": [
        "### 1. Write a Python program that checks if a given number is positive, negative, or zero."
      ],
      "metadata": {
        "id": "8Apiq3okTCHY"
      }
    },
    {
      "cell_type": "code",
      "execution_count": null,
      "metadata": {
        "colab": {
          "base_uri": "https://localhost:8080/",
          "height": 36
        },
        "outputId": "396fcba6-cfa2-438e-8b61-46d303843bd4",
        "id": "9w3iTQa_TCHZ"
      },
      "outputs": [
        {
          "output_type": "execute_result",
          "data": {
            "text/plain": [
              "'Negative'"
            ],
            "application/vnd.google.colaboratory.intrinsic+json": {
              "type": "string"
            }
          },
          "metadata": {},
          "execution_count": 2
        }
      ],
      "source": [
        "def positiveNegative(num):\n",
        "  '''check if num is positive or negative\n",
        "\n",
        "  Parameters\n",
        "  num: int/float value\n",
        "\n",
        "  Returns\n",
        "  str value\n",
        "  '''\n",
        "  if num >= 0:\n",
        "    return 'Positve'\n",
        "  else:\n",
        "    return 'Negative'\n",
        "positiveNegative(-12)"
      ]
    },
    {
      "cell_type": "code",
      "source": [
        "positiveNegative(12)"
      ],
      "metadata": {
        "colab": {
          "base_uri": "https://localhost:8080/",
          "height": 36
        },
        "outputId": "12184e13-926c-4717-8773-88034c6af8c9",
        "id": "UeEoPkYXTCHZ"
      },
      "execution_count": null,
      "outputs": [
        {
          "output_type": "execute_result",
          "data": {
            "text/plain": [
              "'Positve'"
            ],
            "application/vnd.google.colaboratory.intrinsic+json": {
              "type": "string"
            }
          },
          "metadata": {},
          "execution_count": 3
        }
      ]
    },
    {
      "cell_type": "markdown",
      "source": [
        "### 2. Create a program to determine if a person is eligible to vote based on their age."
      ],
      "metadata": {
        "id": "U7o7XcIcTCHZ"
      }
    },
    {
      "cell_type": "code",
      "source": [
        "def eligibleToVote(age):\n",
        "  '''check if the person is eligible to vote\n",
        "\n",
        "  Parameters\n",
        "  age: int/float value\n",
        "\n",
        "  Returns\n",
        "  bool value\n",
        "  '''\n",
        "  if age >= 18:\n",
        "    return True\n",
        "  else:\n",
        "    return False\n",
        "eligibleToVote(21)"
      ],
      "metadata": {
        "colab": {
          "base_uri": "https://localhost:8080/"
        },
        "outputId": "aa0b9b31-0d29-496c-c603-a2bb0d84026a",
        "id": "wvQ8DFHhTCHZ"
      },
      "execution_count": null,
      "outputs": [
        {
          "output_type": "execute_result",
          "data": {
            "text/plain": [
              "True"
            ]
          },
          "metadata": {},
          "execution_count": 4
        }
      ]
    },
    {
      "cell_type": "code",
      "source": [
        "eligibleToVote(16)"
      ],
      "metadata": {
        "colab": {
          "base_uri": "https://localhost:8080/"
        },
        "outputId": "95dfc25c-13ad-4036-eec2-acc8c5fa4fdc",
        "id": "wa-dU11DTCHZ"
      },
      "execution_count": null,
      "outputs": [
        {
          "output_type": "execute_result",
          "data": {
            "text/plain": [
              "False"
            ]
          },
          "metadata": {},
          "execution_count": 5
        }
      ]
    },
    {
      "cell_type": "markdown",
      "source": [
        "### 3. Write a program to find the maximum of two given numbers using conditional statements."
      ],
      "metadata": {
        "id": "QoH3M0syTCHZ"
      }
    },
    {
      "cell_type": "code",
      "source": [
        "def maximum(n1,n2):\n",
        "  '''check if which num is greater\n",
        "\n",
        "  Parameters\n",
        "  n1: int/float value\n",
        "  n2: int/float value\n",
        "\n",
        "  Returns\n",
        "  int/float value\n",
        "  '''\n",
        "  if n1 >= n2:\n",
        "    return n1\n",
        "  else:\n",
        "    return n2\n",
        "maximum(-12,20)"
      ],
      "metadata": {
        "colab": {
          "base_uri": "https://localhost:8080/"
        },
        "outputId": "2e1d2d08-a4c3-429f-aa7c-781e31a04830",
        "id": "KkvqCUmPTCHZ"
      },
      "execution_count": null,
      "outputs": [
        {
          "output_type": "execute_result",
          "data": {
            "text/plain": [
              "20"
            ]
          },
          "metadata": {},
          "execution_count": 6
        }
      ]
    },
    {
      "cell_type": "markdown",
      "source": [
        "### 4. Develop a program that calculates the grade of a student based on their exam score."
      ],
      "metadata": {
        "id": "v44hm0JCTCHc"
      }
    },
    {
      "cell_type": "code",
      "source": [
        "def grade(score):\n",
        "  '''find the grade based on the score\n",
        "\n",
        "  Parameters\n",
        "  n: int/float value\n",
        "\n",
        "  Returns\n",
        "  str value\n",
        "  '''\n",
        "  if score > 90:\n",
        "    return \"A1\"\n",
        "  elif score > 80:\n",
        "    return \"A2\"\n",
        "  elif score > 70:\n",
        "    return \"B1\"\n",
        "  elif score > 60:\n",
        "    return \"B2\"\n",
        "  elif score > 50:\n",
        "    return \"C1\"\n",
        "  elif score > 40:\n",
        "    return \"C2\"\n",
        "  elif score > 33:\n",
        "    return \"D\"\n",
        "  else:\n",
        "    return \"E\"\n",
        "grade(90.12)"
      ],
      "metadata": {
        "colab": {
          "base_uri": "https://localhost:8080/",
          "height": 36
        },
        "outputId": "18b1dc13-1059-4cf0-f640-cb9253e6c7bf",
        "id": "ACFsD4G_TCHc"
      },
      "execution_count": null,
      "outputs": [
        {
          "output_type": "execute_result",
          "data": {
            "text/plain": [
              "'A1'"
            ],
            "application/vnd.google.colaboratory.intrinsic+json": {
              "type": "string"
            }
          },
          "metadata": {},
          "execution_count": 13
        }
      ]
    },
    {
      "cell_type": "code",
      "source": [
        "grade(30.12)"
      ],
      "metadata": {
        "colab": {
          "base_uri": "https://localhost:8080/",
          "height": 36
        },
        "outputId": "c0db9ce0-3e67-4044-cab6-d3a47ec447f7",
        "id": "QHznyAHeTCHc"
      },
      "execution_count": null,
      "outputs": [
        {
          "output_type": "execute_result",
          "data": {
            "text/plain": [
              "'E'"
            ],
            "application/vnd.google.colaboratory.intrinsic+json": {
              "type": "string"
            }
          },
          "metadata": {},
          "execution_count": 14
        }
      ]
    },
    {
      "cell_type": "markdown",
      "source": [
        "### 5. Create a program that checks if a year is a leap year or not."
      ],
      "metadata": {
        "id": "D-BuvxnCTCHa"
      }
    },
    {
      "cell_type": "code",
      "source": [
        "def LeapYear(year):\n",
        "  '''find if the year is a leap year\n",
        "\n",
        "  Parameters\n",
        "  year: int value\n",
        "  '''\n",
        "  if year%4 != 0:\n",
        "    print(year,'is not a Leap Year.')\n",
        "  elif year%100 != 0:\n",
        "    print(year,'is a Leap Year.')\n",
        "  elif year%400 == 0:\n",
        "    print(year,'is a Leap Year.')\n",
        "  else:\n",
        "    print(year,'is not a Leap Year.')\n",
        "LeapYear(2020)\n",
        "LeapYear(2021)"
      ],
      "metadata": {
        "colab": {
          "base_uri": "https://localhost:8080/"
        },
        "id": "6FZmwvt7TCHa",
        "outputId": "32bc0cb1-cff6-43a6-c918-610bd3fe0553"
      },
      "execution_count": null,
      "outputs": [
        {
          "output_type": "stream",
          "name": "stdout",
          "text": [
            "2020 is a Leap Year.\n",
            "2021 is not a Leap Year.\n"
          ]
        }
      ]
    },
    {
      "cell_type": "markdown",
      "source": [
        "### 6. Write a program to classify a triangle based on its sides' lengths."
      ],
      "metadata": {
        "id": "tmmJa3LVTCHa"
      }
    },
    {
      "cell_type": "code",
      "source": [
        "def typeOfTriangle(side1,side2,side3):\n",
        "  '''find the type of triangle based on sides\n",
        "\n",
        "  Parameters\n",
        "  side1,side2,side3: int/float value\n",
        "\n",
        "  Returns\n",
        "  str value\n",
        "  '''\n",
        "  if side1 == side2:\n",
        "    if side3 == side2:\n",
        "      return 'Equilateral'\n",
        "    else:\n",
        "      return 'Isosceles'\n",
        "  elif side3 == side2:\n",
        "    return 'Isosceles'\n",
        "  elif side3 == side1:\n",
        "    return 'Isosceles'\n",
        "  else:\n",
        "    return 'Scalene'\n",
        "typeOfTriangle(10,10,10)"
      ],
      "metadata": {
        "colab": {
          "base_uri": "https://localhost:8080/",
          "height": 36
        },
        "outputId": "8ea85d7e-369c-45a2-b4fd-5a0a3dca4bee",
        "id": "o10FDIFjTCHd"
      },
      "execution_count": null,
      "outputs": [
        {
          "output_type": "execute_result",
          "data": {
            "text/plain": [
              "'Equilateral'"
            ],
            "application/vnd.google.colaboratory.intrinsic+json": {
              "type": "string"
            }
          },
          "metadata": {},
          "execution_count": 31
        }
      ]
    },
    {
      "cell_type": "code",
      "source": [
        "typeOfTriangle(21,10,10)"
      ],
      "metadata": {
        "colab": {
          "base_uri": "https://localhost:8080/",
          "height": 36
        },
        "outputId": "cb8c27ef-028e-44b5-869a-38c59aa70bb8",
        "id": "C3eLKs2DTCHd"
      },
      "execution_count": null,
      "outputs": [
        {
          "output_type": "execute_result",
          "data": {
            "text/plain": [
              "'Isosceles'"
            ],
            "application/vnd.google.colaboratory.intrinsic+json": {
              "type": "string"
            }
          },
          "metadata": {},
          "execution_count": 32
        }
      ]
    },
    {
      "cell_type": "code",
      "source": [
        "typeOfTriangle(21,10,20)"
      ],
      "metadata": {
        "colab": {
          "base_uri": "https://localhost:8080/",
          "height": 36
        },
        "outputId": "3dcffbdc-4db7-4cb0-82aa-2b33798a4af8",
        "id": "lClfWYAnTCHd"
      },
      "execution_count": null,
      "outputs": [
        {
          "output_type": "execute_result",
          "data": {
            "text/plain": [
              "'Scalene'"
            ],
            "application/vnd.google.colaboratory.intrinsic+json": {
              "type": "string"
            }
          },
          "metadata": {},
          "execution_count": 33
        }
      ]
    },
    {
      "cell_type": "markdown",
      "source": [
        "### 7. Build a program that determines the largest of three given numbers."
      ],
      "metadata": {
        "id": "DM4VruDdTCHb"
      }
    },
    {
      "cell_type": "code",
      "source": [
        "def largestNum(n1,n2,n3):\n",
        "  '''check if which num is greater\n",
        "\n",
        "  Parameters\n",
        "  n1,n2,n3: int/float value\n",
        "\n",
        "  Returns\n",
        "  int/float value\n",
        "  '''\n",
        "  if n1 > n2 and n1 > n3:\n",
        "    return n1\n",
        "  elif n3 > n2 and n3 > n1:\n",
        "    return n3\n",
        "  else:\n",
        "    return n2\n",
        "largestNum(-12,20,23)"
      ],
      "metadata": {
        "colab": {
          "base_uri": "https://localhost:8080/"
        },
        "outputId": "293b0070-61b8-493f-be4c-7fddbd8f4429",
        "id": "BjBo3uJGTCHb"
      },
      "execution_count": null,
      "outputs": [
        {
          "output_type": "execute_result",
          "data": {
            "text/plain": [
              "23"
            ]
          },
          "metadata": {},
          "execution_count": 7
        }
      ]
    },
    {
      "cell_type": "markdown",
      "source": [
        "### 8. Develop a program that checks whether a character is a vowel or a consonant."
      ],
      "metadata": {
        "id": "voi6-dcJgCDU"
      }
    },
    {
      "cell_type": "code",
      "source": [
        "def checkChar(char):\n",
        "  '''check if the char is vowel or consonant\n",
        "\n",
        "  Parameters\n",
        "  char: char value\n",
        "\n",
        "  Returns\n",
        "  bool value\n",
        "  '''\n",
        "  if char.lower() in 'aeiou':\n",
        "    return 'Vowel'\n",
        "  else:\n",
        "    return 'Consonant'\n",
        "checkChar('A')"
      ],
      "metadata": {
        "colab": {
          "base_uri": "https://localhost:8080/",
          "height": 36
        },
        "outputId": "8336ba5b-0a14-40e4-9c79-ec7e16d51d6a",
        "id": "nYWuK7xjTCHa"
      },
      "execution_count": null,
      "outputs": [
        {
          "output_type": "execute_result",
          "data": {
            "text/plain": [
              "'Vowel'"
            ],
            "application/vnd.google.colaboratory.intrinsic+json": {
              "type": "string"
            }
          },
          "metadata": {},
          "execution_count": 1
        }
      ]
    },
    {
      "cell_type": "code",
      "source": [
        "checkChar('b')"
      ],
      "metadata": {
        "colab": {
          "base_uri": "https://localhost:8080/",
          "height": 36
        },
        "outputId": "068199e9-2c1c-459b-b7ef-61fb917048e8",
        "id": "aLXwXt9ATCHa"
      },
      "execution_count": null,
      "outputs": [
        {
          "output_type": "execute_result",
          "data": {
            "text/plain": [
              "'Consonant'"
            ],
            "application/vnd.google.colaboratory.intrinsic+json": {
              "type": "string"
            }
          },
          "metadata": {},
          "execution_count": 2
        }
      ]
    },
    {
      "cell_type": "markdown",
      "source": [
        "### 9. Create a program to calculate the total cost of a shopping cart based on discounts."
      ],
      "metadata": {
        "id": "F7i9e4r8g--A"
      }
    },
    {
      "cell_type": "code",
      "source": [
        "def calDiscountedPrice(purchase):\n",
        "  ''' calculate the discounted price based on the purchase amount\n",
        "\n",
        "  Parameters\n",
        "  purchase: int/float value\n",
        "  '''\n",
        "  discount = 0.0\n",
        "  if purchase <= 5000:\n",
        "      discount = 0.0\n",
        "  elif 5000 < purchase <= 10000:\n",
        "    discount = (purchase-5000)*(10/100.0)\n",
        "  elif 10000 < purchase <= 20000:\n",
        "    discount = (purchase-10000)*(20/100.0)\n",
        "  elif  20000 < purchase <= 30000:\n",
        "    discount = (purchase-20000)*(30/100.0)\n",
        "  else:\n",
        "    discount = (purchase-30000)*(40/100.0)\n",
        "  print('Discount Amount = {:.2f}'.format(discount))\n",
        "  print('Net Bill Amount = {:.2f}'.format(purchase-discount))\n",
        "calDiscountedPrice(7000)\n",
        "calDiscountedPrice(45000)"
      ],
      "metadata": {
        "colab": {
          "base_uri": "https://localhost:8080/"
        },
        "id": "sjK7-226iNkX",
        "outputId": "a9fb9cdc-9dbb-4aa0-dd21-f59d748e2dcb"
      },
      "execution_count": null,
      "outputs": [
        {
          "output_type": "stream",
          "name": "stdout",
          "text": [
            "Discount Amount = 200.00\n",
            "Net Bill Amount = 6800.00\n",
            "Discount Amount = 6000.00\n",
            "Net Bill Amount = 39000.00\n"
          ]
        }
      ]
    },
    {
      "cell_type": "markdown",
      "source": [
        "### 10. Write a program that checks if a given number is even or odd."
      ],
      "metadata": {
        "id": "KpIy3dAZfxSd"
      }
    },
    {
      "cell_type": "code",
      "source": [
        "def checkOddEven(num):\n",
        "  '''find the number is even or odd\n",
        "\n",
        "  Parameters\n",
        "  num: int/float value\n",
        "\n",
        "  Returns\n",
        "  bool value\n",
        "  '''\n",
        "  if num%2 == 0:\n",
        "    return 'Even'\n",
        "  else:\n",
        "    return 'Odd'\n",
        "checkOddEven(14)"
      ],
      "metadata": {
        "colab": {
          "base_uri": "https://localhost:8080/",
          "height": 36
        },
        "outputId": "787d1f2a-e57f-49b1-e6f0-00861de7894f",
        "id": "3rZatxBATCHb"
      },
      "execution_count": null,
      "outputs": [
        {
          "output_type": "execute_result",
          "data": {
            "text/plain": [
              "'Even'"
            ],
            "application/vnd.google.colaboratory.intrinsic+json": {
              "type": "string"
            }
          },
          "metadata": {},
          "execution_count": 3
        }
      ]
    },
    {
      "cell_type": "code",
      "source": [
        "checkOddEven(11)"
      ],
      "metadata": {
        "colab": {
          "base_uri": "https://localhost:8080/",
          "height": 36
        },
        "outputId": "56f94ce0-1bbe-433b-eda1-9d9aadb05f27",
        "id": "0yf7wpcqTCHb"
      },
      "execution_count": null,
      "outputs": [
        {
          "output_type": "execute_result",
          "data": {
            "text/plain": [
              "'Odd'"
            ],
            "application/vnd.google.colaboratory.intrinsic+json": {
              "type": "string"
            }
          },
          "metadata": {},
          "execution_count": 4
        }
      ]
    },
    {
      "cell_type": "markdown",
      "source": [
        "## Intermediate Level"
      ],
      "metadata": {
        "id": "GAS6Uj5ETCHc"
      }
    },
    {
      "cell_type": "markdown",
      "source": [
        "### 11. Write a Python program to calculate the roots of a quadratic equation."
      ],
      "metadata": {
        "id": "OYenLwRoTCHe"
      }
    },
    {
      "cell_type": "code",
      "source": [
        "def quadraticRoots(a,b,c):\n",
        "  ''' find the roots of the quadratic equation\n",
        "\n",
        "  Parameters\n",
        "  a,b,c: coefficients of the equation\n",
        "  '''\n",
        "  val = b**2 - 4*a*c\n",
        "  if val < 0:\n",
        "    print('Imaginary Roots')\n",
        "  else:\n",
        "    root1 = (-b + val)/(2*a)\n",
        "    if val > 0:\n",
        "      root2 = (-b - val)/(2*a)\n",
        "      print('Distinct Real Roots:',root1,',',root2)\n",
        "    else:\n",
        "      print('Equal Real Roots:',root1,',',root1)\n",
        "quadraticRoots(10,20,30)\n",
        "quadraticRoots(10,20,10)\n",
        "quadraticRoots(20,40,10)"
      ],
      "metadata": {
        "colab": {
          "base_uri": "https://localhost:8080/"
        },
        "outputId": "9af09c4f-5080-40b6-ff1d-03d541bbe728",
        "id": "Ozt_xHj3TCHf"
      },
      "execution_count": null,
      "outputs": [
        {
          "output_type": "stream",
          "name": "stdout",
          "text": [
            "Imaginary Roots\n",
            "Equal Real Roots: -1.0 , -1.0\n",
            "Distinct Real Roots: 19.0 , -21.0\n"
          ]
        }
      ]
    },
    {
      "cell_type": "markdown",
      "source": [
        "### 12. Create a program that determines the day of the week based on the day number (1-7)."
      ],
      "metadata": {
        "id": "hl2VmZd2TCHf"
      }
    },
    {
      "cell_type": "code",
      "source": [
        "def dayOfWeek(num):\n",
        "  '''print the corresponding day of the week based on the number\n",
        "\n",
        "  Parameters\n",
        "  num: int value\n",
        "  '''\n",
        "  if num == 1:\n",
        "    print('Monday')\n",
        "  elif num == 2:\n",
        "    print('Tuesday')\n",
        "  elif num == 3:\n",
        "    print('Wednesday')\n",
        "  elif num == 4:\n",
        "    print('Thursday')\n",
        "  elif num == 5:\n",
        "    print('Friday')\n",
        "  elif num == 6:\n",
        "    print('Saturday')\n",
        "  elif num == 7:\n",
        "    print('Sunday')\n",
        "  else:\n",
        "    print('Invalid Input')\n",
        "dayOfWeek(10)\n",
        "dayOfWeek(4)\n",
        "dayOfWeek(2)"
      ],
      "metadata": {
        "colab": {
          "base_uri": "https://localhost:8080/"
        },
        "outputId": "7417cff8-5c55-4fc4-8ba1-fcf0a247ccad",
        "id": "DMNBOn_nTCHf"
      },
      "execution_count": null,
      "outputs": [
        {
          "output_type": "stream",
          "name": "stdout",
          "text": [
            "Invalid Input\n",
            "Thursday\n",
            "Tuesday\n"
          ]
        }
      ]
    },
    {
      "cell_type": "markdown",
      "source": [
        "### 13. Develop a program that calculates the factorial of a given number using recursion."
      ],
      "metadata": {
        "id": "mSB6aoUlj7Gr"
      }
    },
    {
      "cell_type": "code",
      "source": [
        "def factorial(n):\n",
        "  '''find the factorial of the number\n",
        "\n",
        "  Parameters\n",
        "  n: int value\n",
        "\n",
        "  Returns\n",
        "  int value\n",
        "  '''\n",
        "  if n <= 1:\n",
        "    return 1\n",
        "  return n*factorial(n-1)\n",
        "factorial(4)"
      ],
      "metadata": {
        "colab": {
          "base_uri": "https://localhost:8080/"
        },
        "id": "iv_hoRUTjPe1",
        "outputId": "1c43140a-9bad-4ede-d19f-80068e98b9c4"
      },
      "execution_count": null,
      "outputs": [
        {
          "output_type": "execute_result",
          "data": {
            "text/plain": [
              "24"
            ]
          },
          "metadata": {},
          "execution_count": 14
        }
      ]
    },
    {
      "cell_type": "markdown",
      "source": [
        "### 14. Write a program to find the largest among three numbers without using the `max()` function."
      ],
      "metadata": {
        "id": "IFSZP636kTVz"
      }
    },
    {
      "cell_type": "code",
      "source": [
        "def largestNum(n1,n2,n3):\n",
        "  '''check if which num is greater\n",
        "\n",
        "  Parameters\n",
        "  n1,n2,n3: int/float value\n",
        "\n",
        "  Returns\n",
        "  int/float value\n",
        "  '''\n",
        "  if n1 > n2 and n1 > n3:\n",
        "    return n1\n",
        "  elif n3 > n2 and n3 > n1:\n",
        "    return n3\n",
        "  else:\n",
        "    return n2\n",
        "largestNum(-12,20,23)"
      ],
      "metadata": {
        "colab": {
          "base_uri": "https://localhost:8080/"
        },
        "outputId": "293b0070-61b8-493f-be4c-7fddbd8f4429",
        "id": "xZRHKSUmkTV8"
      },
      "execution_count": null,
      "outputs": [
        {
          "output_type": "execute_result",
          "data": {
            "text/plain": [
              "23"
            ]
          },
          "metadata": {},
          "execution_count": 7
        }
      ]
    },
    {
      "cell_type": "markdown",
      "source": [
        "### 15. Create a program that simulates a basic ATM transaction menu."
      ],
      "metadata": {
        "id": "bK15QCiblrNi"
      }
    },
    {
      "cell_type": "code",
      "source": [
        "transaction = 'Y'\n",
        "balance = 50000\n",
        "while transaction == 'Y':\n",
        "  print('-------ATM Transaction Menu-------')\n",
        "  print('  1. Withdraw')\n",
        "  print('  2. Deposit')\n",
        "  print('  3. Exit')\n",
        "  choice = int(input('Enter Your Choice : '))\n",
        "  if choice == 1 :\n",
        "    amount = float(input('Enter the amount to be Withdrawn : '))\n",
        "    if balance - amount < 2500:\n",
        "      print('Minimum Balance should be Maintained.')\n",
        "    else:\n",
        "      balance -= amount\n",
        "      print(amount,'has been withdrawn.')\n",
        "      print('Updated Balance :',balance)\n",
        "  elif choice == 2 :\n",
        "    amount = float(input('Enter the amount to be Deposited : '))\n",
        "    balance += amount\n",
        "    print(amount,'has been deposited.')\n",
        "    print('Updated Balance :',balance)\n",
        "  elif choice == 3 :\n",
        "    print('Thank You')\n",
        "    break\n",
        "  else :\n",
        "    print('Invalid Choice')\n",
        "  transaction = input('Want to Continue(Y/N) : ')\n",
        "  transaction = transaction.upper()"
      ],
      "metadata": {
        "id": "UzUvBkLWlu8f",
        "colab": {
          "base_uri": "https://localhost:8080/"
        },
        "outputId": "152c97d4-80d5-475d-fac5-a1acbf787cf4"
      },
      "execution_count": 3,
      "outputs": [
        {
          "name": "stdout",
          "output_type": "stream",
          "text": [
            "-------ATM Transaction Menu-------\n",
            "  1. Withdraw\n",
            "  2. Deposit\n",
            "  3. Exit\n",
            "Enter Your Choice : 1\n",
            "Enter the amount to be Withdrawn : 250000\n",
            "Minimum Balance should be Maintained.\n",
            "Want to Continue(Y/N) : y\n",
            "-------ATM Transaction Menu-------\n",
            "  1. Withdraw\n",
            "  2. Deposit\n",
            "  3. Exit\n",
            "Enter Your Choice : 1\n",
            "Enter the amount to be Withdrawn : 25000\n",
            "25000.0 has been withdrawn.\n",
            "Updated Balance : 25000.0\n",
            "Want to Continue(Y/N) : y\n",
            "-------ATM Transaction Menu-------\n",
            "  1. Withdraw\n",
            "  2. Deposit\n",
            "  3. Exit\n",
            "Enter Your Choice : 2\n",
            "Enter the amount to be Deposited : 10000\n",
            "10000.0 has been deposited.\n",
            "Updated Balance : 35000.0\n",
            "Want to Continue(Y/N) : n\n"
          ]
        }
      ]
    },
    {
      "cell_type": "markdown",
      "source": [
        "### 16. Build a program that checks if a given string is a palindrome or not."
      ],
      "metadata": {
        "id": "vkTWv33_TCHb"
      }
    },
    {
      "cell_type": "code",
      "source": [
        "def checkPalindrome(string):\n",
        "  '''check if string is palindrom\n",
        "\n",
        "  Parameters\n",
        "  string: str value\n",
        "\n",
        "  Returns\n",
        "  bool value\n",
        "  '''\n",
        "  string = string.replace(' ','').lower()\n",
        "  if string == string[::-1]:\n",
        "    return True\n",
        "  else:\n",
        "    return False\n",
        "checkPalindrome('abc aacba')"
      ],
      "metadata": {
        "colab": {
          "base_uri": "https://localhost:8080/"
        },
        "outputId": "f9cb5b9b-c1c7-4d8c-ad8f-a88a853795ec",
        "id": "ZZ1xvCkTTCHb"
      },
      "execution_count": null,
      "outputs": [
        {
          "output_type": "execute_result",
          "data": {
            "text/plain": [
              "True"
            ]
          },
          "metadata": {},
          "execution_count": 11
        }
      ]
    },
    {
      "cell_type": "markdown",
      "source": [
        "### 17. Write a program that calculates the average of a list of numbers, excluding the smallest and largest values."
      ],
      "metadata": {
        "id": "wViYzWl3TCHd"
      }
    },
    {
      "cell_type": "code",
      "source": [
        "def listAvg(List):\n",
        "  '''calculate average of list of nums, excluding smallest and largest values\n",
        "\n",
        "  Parameters\n",
        "  List: list value\n",
        "\n",
        "  Returns\n",
        "  avg: float value\n",
        "  '''\n",
        "  sum = 0.0\n",
        "  length = 0\n",
        "  mini = min(List)\n",
        "  maxi = max(List)\n",
        "  for num in List:\n",
        "    if num != maxi or num != mini:\n",
        "      sum += num\n",
        "      length += 1\n",
        "  if length == 0:\n",
        "    avg = 0.0\n",
        "  else:\n",
        "    avg = sum/length\n",
        "  return avg\n",
        "listAvg([1,2,3,4,5,6])"
      ],
      "metadata": {
        "colab": {
          "base_uri": "https://localhost:8080/"
        },
        "id": "ez1Q8PAQTCHe",
        "outputId": "72e8ee57-d4a2-4c68-87f2-c48baefee5ae"
      },
      "execution_count": null,
      "outputs": [
        {
          "output_type": "execute_result",
          "data": {
            "text/plain": [
              "3.5"
            ]
          },
          "metadata": {},
          "execution_count": 26
        }
      ]
    },
    {
      "cell_type": "markdown",
      "source": [
        "### 18. Develop a program that converts a given temperature from Celsius to Fahrenheit."
      ],
      "metadata": {
        "id": "DkQPgdIZTCHe"
      }
    },
    {
      "cell_type": "code",
      "source": [
        "def celsiusToFahrenheit(celsius):\n",
        "  ''' convert a temp in Celsius to fahrenheit\n",
        "\n",
        "  Parameters\n",
        "  celsius: float value celsius temp\n",
        "\n",
        "  Returns\n",
        "  fahrenheit: float value fahrenheit temp\n",
        "  '''\n",
        "  fahrenheit = celsius*9/5 + 32\n",
        "  return fahrenheit\n",
        "celsiusToFahrenheit(-40)"
      ],
      "metadata": {
        "colab": {
          "base_uri": "https://localhost:8080/"
        },
        "outputId": "1041a59a-a7eb-4f0f-fab4-4933cfd46add",
        "id": "-NZ3lpB-TCHe"
      },
      "execution_count": null,
      "outputs": [
        {
          "output_type": "execute_result",
          "data": {
            "text/plain": [
              "-40.0"
            ]
          },
          "metadata": {},
          "execution_count": 22
        }
      ]
    },
    {
      "cell_type": "code",
      "source": [
        "celsiusToFahrenheit(100.0)"
      ],
      "metadata": {
        "colab": {
          "base_uri": "https://localhost:8080/"
        },
        "outputId": "a30ac92b-6f05-4483-997e-02f62dee6f64",
        "id": "jUhdy0GUTCHe"
      },
      "execution_count": null,
      "outputs": [
        {
          "output_type": "execute_result",
          "data": {
            "text/plain": [
              "212.0"
            ]
          },
          "metadata": {},
          "execution_count": 24
        }
      ]
    },
    {
      "cell_type": "code",
      "source": [
        "celsiusToFahrenheit(0.0)"
      ],
      "metadata": {
        "colab": {
          "base_uri": "https://localhost:8080/"
        },
        "outputId": "3c3f27a6-a50d-4e92-c035-c6aa1683a17e",
        "id": "9Z2R3eyaTCHe"
      },
      "execution_count": null,
      "outputs": [
        {
          "output_type": "execute_result",
          "data": {
            "text/plain": [
              "32.0"
            ]
          },
          "metadata": {},
          "execution_count": 23
        }
      ]
    },
    {
      "cell_type": "markdown",
      "source": [
        "### 19. Create a program that simulates a basic calculator for addition, subtraction, multiplication, and division."
      ],
      "metadata": {
        "id": "QTmsZmwoTCHf"
      }
    },
    {
      "cell_type": "code",
      "source": [
        "calculator = 'Y'\n",
        "while calculator == 'Y':\n",
        "  print('-------Calculator-------')\n",
        "  print('  1. Addition')\n",
        "  print('  2. Subtraction')\n",
        "  print('  3. Multiplication')\n",
        "  print('  4. Division')\n",
        "  print('  5. Exit')\n",
        "  choice = int(input('Enter Your Choice : '))\n",
        "  if choice == 5 :\n",
        "    print('Thank You')\n",
        "    break\n",
        "  a = float(input('Enter the first number : '))\n",
        "  b = float(input('Enter the second number : '))\n",
        "  if choice == 1 :\n",
        "    print('{:.2f} + {:.2f} = {:.2f}'.format(a,b,a+b))\n",
        "  elif choice == 2 :\n",
        "    print('{:.2f} - {:.2f} = {:.2f}'.format(a,b,a-b))\n",
        "  elif choice == 3 :\n",
        "    print('{:.2f} x {:.2f} = {:.2f}'.format(a,b,a*b))\n",
        "  elif choice == 4 :\n",
        "    print('{:.2f} / {:.2f} = {:.2f}'.format(a,b,a/b))\n",
        "  else :\n",
        "    print('Invalid Choice')\n",
        "  calculator = input('Want to Continue(Y/N) : ')\n",
        "  calculator = calculator.upper()"
      ],
      "metadata": {
        "colab": {
          "base_uri": "https://localhost:8080/"
        },
        "outputId": "3baa57ea-8013-4aee-8ff7-061f8ffba493",
        "id": "k-vlF9VVTCHf"
      },
      "execution_count": 6,
      "outputs": [
        {
          "output_type": "stream",
          "name": "stdout",
          "text": [
            "-------Calculator-------\n",
            "  1. Addition\n",
            "  2. Subtraction\n",
            "  3. Multiplication\n",
            "  4. Division\n",
            "  5. Exit\n",
            "Enter Your Choice : 1\n",
            "Enter the first number : 22\n",
            "Enter the second number : 2\n",
            "22.00 + 2.00 = 24.00\n",
            "Want to Continue(Y/N) : y\n",
            "-------Calculator-------\n",
            "  1. Addition\n",
            "  2. Subtraction\n",
            "  3. Multiplication\n",
            "  4. Division\n",
            "  5. Exit\n",
            "Enter Your Choice : 2\n",
            "Enter the first number : 29\n",
            "Enter the second number : 8\n",
            "29.00 - 8.00 = 21.00\n",
            "Want to Continue(Y/N) : y\n",
            "-------Calculator-------\n",
            "  1. Addition\n",
            "  2. Subtraction\n",
            "  3. Multiplication\n",
            "  4. Division\n",
            "  5. Exit\n",
            "Enter Your Choice : 3\n",
            "Enter the first number : 201\n",
            "Enter the second number : 44\n",
            "201.00 x 44.00 = 8844.00\n",
            "Want to Continue(Y/N) : y\n",
            "-------Calculator-------\n",
            "  1. Addition\n",
            "  2. Subtraction\n",
            "  3. Multiplication\n",
            "  4. Division\n",
            "  5. Exit\n",
            "Enter Your Choice : 201\n",
            "Enter the first number : 12\n",
            "Enter the second number : 11\n",
            "Invalid Choice\n",
            "Want to Continue(Y/N) : y\n",
            "-------Calculator-------\n",
            "  1. Addition\n",
            "  2. Subtraction\n",
            "  3. Multiplication\n",
            "  4. Division\n",
            "  5. Exit\n",
            "Enter Your Choice : 4\n",
            "Enter the first number : 132\n",
            "Enter the second number : 11\n",
            "132.00 / 11.00 = 12.00\n",
            "Want to Continue(Y/N) : y\n",
            "-------Calculator-------\n",
            "  1. Addition\n",
            "  2. Subtraction\n",
            "  3. Multiplication\n",
            "  4. Division\n",
            "  5. Exit\n",
            "Enter Your Choice : 5\n",
            "Thank You\n"
          ]
        }
      ]
    },
    {
      "cell_type": "markdown",
      "source": [
        "### 20. Write a program that determines the roots of a cubic equation using the Cardano formula."
      ],
      "metadata": {
        "id": "Lvucng2wTCHf"
      }
    },
    {
      "cell_type": "code",
      "source": [
        "def cubicRoots(a,b,c,d):\n",
        "  ''' determine the roots of a cubic equation using cardano's formula\n",
        "\n",
        "  Parameters\n",
        "  a,b,c,d: coefficients of a cubic equation\n",
        "  '''\n",
        "  # calculate intermediate values\n",
        "  p = (3*a*c - pow(b,2)) / (3*pow(a,2))\n",
        "  q = (2*pow(b,3) - 9*a*b*c + 27*pow(a,2)*d) / (27*pow(a,3))\n",
        "  delta = (pow(q,2) / 4 + pow(p,3) / 27)\n",
        "  # determine number and type of roots\n",
        "  if delta > 0:  # one real and two complex roots\n",
        "    u = (-q/2 + pow(delta,1/2))**(1/3)\n",
        "    v = (-q/2 - pow(delta,1/2))**(1/3)\n",
        "    x1 = u + v - b / (3*a)\n",
        "    x2 = -(u + v)/2 - b/(3*a) + (u - v)*pow(3,1/2)/2j\n",
        "    x3 = -(u + v)/2 - b/(3*a) - (u - v)*pow(3,1/2)/2j\n",
        "    print(\"One real root and two complex roots:\")\n",
        "    print(\"x1 = \", x1.real)\n",
        "    print(\"x2 = \", x2)\n",
        "    print(\"x3 = \", x3)\n",
        "  elif delta == 0:  # three real roots, two are equal\n",
        "    u = (-q/2)**(1/3)\n",
        "    v = u\n",
        "    x1 = 2*u - b/(3*a)\n",
        "    x2 = -u - b/(3*a)\n",
        "    print(\"Three real roots, two are equal:\")\n",
        "    print(\"x1 = \", x1.real)\n",
        "    print(\"x2 = \", x2.real)\n",
        "    print(\"x3 = \", x3.real)\n",
        "  else:  # three distinct real roots\n",
        "    u = (-q/2 + pow(delta,1/2))**(1/3)\n",
        "    v = (-q/2 - pow(delta,1/2))**(1/3)\n",
        "    x1 = u + v - b/(3*a)\n",
        "    x2 = -(u + v)/2 - b/(3*a) + (u - v)*pow(3,1/2)/2j\n",
        "    x3 = -(u + v)/2 - b/(3*a) - (u - v)*pow(3,1/2)/2j\n",
        "    print(\"Three distinct real roots:\")\n",
        "    print(\"x1 = \", x1.real)\n",
        "    print(\"x2 = \", x2.real)\n",
        "    print(\"x3 = \", x3.real)\n",
        "cubicRoots(1,3,-2,-6)"
      ],
      "metadata": {
        "colab": {
          "base_uri": "https://localhost:8080/"
        },
        "outputId": "73f6325b-a218-4d18-9abc-4bcd5077540a",
        "id": "tnKA2G3sTCHf"
      },
      "execution_count": 11,
      "outputs": [
        {
          "output_type": "stream",
          "name": "stdout",
          "text": [
            "Three distinct real roots:\n",
            "x1 =  1.414213562373095\n",
            "x2 =  -1.4142135623730951\n",
            "x3 =  -3.0\n"
          ]
        }
      ]
    },
    {
      "cell_type": "code",
      "source": [
        "prime(7)"
      ],
      "metadata": {
        "colab": {
          "base_uri": "https://localhost:8080/"
        },
        "outputId": "aec01ed9-a6e8-4b4e-ae4b-fc1cbaa3a13e",
        "id": "utNARoh8TCHf"
      },
      "execution_count": null,
      "outputs": [
        {
          "output_type": "execute_result",
          "data": {
            "text/plain": [
              "True"
            ]
          },
          "metadata": {},
          "execution_count": 16
        }
      ]
    },
    {
      "cell_type": "markdown",
      "source": [
        "## Advanced Level"
      ],
      "metadata": {
        "id": "wkd9NXhpTCHg"
      }
    },
    {
      "cell_type": "markdown",
      "source": [
        "### 21. Create a program that calculates the income tax based on the user's income and tax brackets."
      ],
      "metadata": {
        "id": "7tT-cxElTCHg"
      }
    },
    {
      "cell_type": "markdown",
      "source": [
        "https://www.hdfclife.com/insurance-knowledge-centre/tax-saving-insurance/income-tax-slab-rates\n"
      ],
      "metadata": {
        "id": "dhUJ_swD8f67"
      }
    },
    {
      "cell_type": "code",
      "source": [
        "def incomeTaxCalculator(income):\n",
        "  '''find the income tax based on the user's income and tax barckets  new tax regime\n",
        "\n",
        "  Parameters\n",
        "  income: int/float value\n",
        "\n",
        "  Returns\n",
        "  str value\n",
        "  '''\n",
        "  print('Income before Taxcut = {:.2f}'.format(income))\n",
        "  tax = 0.0\n",
        "  if income <= 300000:\n",
        "    print('No Tax')\n",
        "  elif 300000 < income <= 600000:\n",
        "    print('5% Income Tax Rate')\n",
        "    tax = 0.05*income\n",
        "    print('Tax = {:.2f}'.format(tax))\n",
        "  elif 600000 < income <= 900000:\n",
        "    print('10% Income Tax Rate')\n",
        "    tax = 0.10*income\n",
        "    print('Tax = {:.2f}'.format(tax))\n",
        "  elif 900000 < income <= 1200000:\n",
        "    print('15% Income Tax Rate')\n",
        "    tax = 0.15*income\n",
        "    print('Tax = {:.2f}'.format(tax))\n",
        "  elif 1200000 < income <= 1500000:\n",
        "    print('20% Income Tax Rate')\n",
        "    tax = 0.20*income\n",
        "    print('Tax = {:.2f}'.format(tax))\n",
        "  else:\n",
        "    print('30% Income Tax Rate')\n",
        "    tax = 0.30*income\n",
        "    print('Tax = {:.2f}'.format(tax))\n",
        "  print('Income after Taxcut = {:.2f}'.format(income - tax))\n",
        "  print()\n",
        "\n",
        "incomeTaxCalculator(250000)\n",
        "incomeTaxCalculator(475000)\n",
        "incomeTaxCalculator(750000)\n",
        "incomeTaxCalculator(125000)\n",
        "incomeTaxCalculator(1250000)\n",
        "incomeTaxCalculator(8000000)"
      ],
      "metadata": {
        "colab": {
          "base_uri": "https://localhost:8080/"
        },
        "outputId": "89ce8a4a-eace-4de6-f36b-c5c5c3a83ac4",
        "id": "jp2d2Fl2TCHg"
      },
      "execution_count": 19,
      "outputs": [
        {
          "output_type": "stream",
          "name": "stdout",
          "text": [
            "Income before Taxcut = 250000.00\n",
            "No Tax\n",
            "Income after Taxcut = 250000.00\n",
            "\n",
            "Income before Taxcut = 475000.00\n",
            "5% Income Tax Rate\n",
            "Tax = 23750.00\n",
            "Income after Taxcut = 451250.00\n",
            "\n",
            "Income before Taxcut = 750000.00\n",
            "10% Income Tax Rate\n",
            "Tax = 75000.00\n",
            "Income after Taxcut = 675000.00\n",
            "\n",
            "Income before Taxcut = 125000.00\n",
            "No Tax\n",
            "Income after Taxcut = 125000.00\n",
            "\n",
            "Income before Taxcut = 1250000.00\n",
            "20% Income Tax Rate\n",
            "Tax = 250000.00\n",
            "Income after Taxcut = 1000000.00\n",
            "\n",
            "Income before Taxcut = 8000000.00\n",
            "30% Income Tax Rate\n",
            "Tax = 2400000.00\n",
            "Income after Taxcut = 5600000.00\n",
            "\n"
          ]
        }
      ]
    },
    {
      "cell_type": "markdown",
      "source": [
        "### 22. Write a program that simulates a rock-paper-scissors game against the computer."
      ],
      "metadata": {
        "id": "S0H5BX9RTCHg"
      }
    },
    {
      "cell_type": "code",
      "source": [
        "import random\n",
        "simulation = 'Y'\n",
        "computer_wins = 0\n",
        "player_wins = 0\n",
        "print('-------Rock Paper Sissors-------')\n",
        "while simulation == 'Y':\n",
        "  print('  Rock = R')\n",
        "  print('  Paper = P')\n",
        "  print('  Scissors = S')\n",
        "  computer = random.choice(['R','P','S'])\n",
        "  player = input('Enter Your Choice : ').upper()\n",
        "  print(f'Computer : {computer}   Player : {player}')\n",
        "  if player not in ['R','P','S'] :\n",
        "    print('Wrong Option Given.\\nTry Again.')\n",
        "  elif computer == player :\n",
        "    print('It\\'s a Draw.')\n",
        "  elif computer == 'R' and player == 'S' :\n",
        "    print('Computer Won the Round.')\n",
        "    computer_wins += 1\n",
        "  elif computer == 'S' and player == 'P' :\n",
        "    print('Computer Won the Round.')\n",
        "    computer_wins += 1\n",
        "  elif computer == 'P' and player == 'R' :\n",
        "    print('Computer Won the Round.')\n",
        "    computer_wins += 1\n",
        "  else :\n",
        "    print('Player Won the Round.')\n",
        "    player_wins += 1\n",
        "  simulation = input('Want to Continue Playing? (Y/N) : ')\n",
        "  simulation = simulation.upper()\n",
        "  print('----------------------------')\n",
        "\n",
        "print('Rounds won by the Player :',player_wins)\n",
        "print('Rounds won by the Computer :',computer_wins)\n",
        "if player_wins > computer_wins :\n",
        "  print('Player Won the Game.')\n",
        "elif player_wins < computer_wins :\n",
        "  print('Computer Won the Game.')\n",
        "else :\n",
        "  print('It\\'s a Draw.')"
      ],
      "metadata": {
        "colab": {
          "base_uri": "https://localhost:8080/"
        },
        "outputId": "45c9080b-e1e5-46d2-d098-2e8e1aced1b6",
        "id": "ooWPq8FkTCHj"
      },
      "execution_count": 23,
      "outputs": [
        {
          "output_type": "stream",
          "name": "stdout",
          "text": [
            "-------Rock Paper Sissors-------\n",
            "  Rock = R\n",
            "  Paper = P\n",
            "  Scissors = S\n",
            "Enter Your Choice : R\n",
            "Computer : R   Player : R\n",
            "It's a Draw.\n",
            "Want to Continue Playing? (Y/N) : Y\n",
            "----------------------------\n",
            "  Rock = R\n",
            "  Paper = P\n",
            "  Scissors = S\n",
            "Enter Your Choice : S\n",
            "Computer : P   Player : S\n",
            "Player Won the Round.\n",
            "Want to Continue Playing? (Y/N) : Y\n",
            "----------------------------\n",
            "  Rock = R\n",
            "  Paper = P\n",
            "  Scissors = S\n",
            "Enter Your Choice : R\n",
            "Computer : S   Player : R\n",
            "Player Won the Round.\n",
            "Want to Continue Playing? (Y/N) : Y\n",
            "----------------------------\n",
            "  Rock = R\n",
            "  Paper = P\n",
            "  Scissors = S\n",
            "Enter Your Choice : S\n",
            "Computer : R   Player : S\n",
            "Computer Won the Round.\n",
            "Want to Continue Playing? (Y/N) : N\n",
            "----------------------------\n",
            "Rounds won by the Player : 2\n",
            "Rounds won by the Computer : 1\n",
            "Player Won the Game.\n"
          ]
        }
      ]
    },
    {
      "cell_type": "markdown",
      "source": [
        "### 23. Develop a program that generates a random password based on user preferences (length, complexity)."
      ],
      "metadata": {
        "id": "hTy1z2Q1TCHj"
      }
    },
    {
      "cell_type": "code",
      "source": [
        "import string\n",
        "import random\n",
        "# Getting password length\n",
        "length = int(input(\"Enter password length: \"))\n",
        "print('''Choose character set for password from these :\n",
        "         1. Digits\n",
        "         2. Letters\n",
        "         3. Special characters''')\n",
        "characterList = \"\"\n",
        "choice = input(\"Enter the Character Set(comma separated options) : \").split(',')\n",
        "if '1' in choice :\n",
        "  characterList += string.digits\n",
        "if '2' in choice :\n",
        "  characterList += string.ascii_letters\n",
        "if '3' in choice :\n",
        "  characterList += string.punctuation\n",
        "password = []\n",
        "for i in range(length):\n",
        "  randomchar = random.choice(characterList)\n",
        "  password.append(randomchar)\n",
        "print(\"The random password is \" + \"\".join(password))"
      ],
      "metadata": {
        "colab": {
          "base_uri": "https://localhost:8080/"
        },
        "outputId": "5bb14369-f4cb-4691-fb33-02531112b760",
        "id": "N48rV9afTCHk"
      },
      "execution_count": 1,
      "outputs": [
        {
          "output_type": "stream",
          "name": "stdout",
          "text": [
            "Enter password length: 10\n",
            "Choose character set for password from these : \n",
            "         1. Digits\n",
            "         2. Letters\n",
            "         3. Special characters\n",
            "         \n",
            "Enter the Character Set(comma separated options) : 1,2,3\n",
            "The random password is Fr~v&9d?Sf\n"
          ]
        }
      ]
    },
    {
      "cell_type": "markdown",
      "source": [
        "### 24. Create a program that implements a simple text-based adventure game with branching scenarios."
      ],
      "metadata": {
        "id": "QMwTDThzTCHk"
      }
    },
    {
      "cell_type": "code",
      "source": [
        "# Setup\n",
        "yes_no = [\"Y\", \"N\"]\n",
        "directions = [\"left\", \"right\", \"forward\", \"backward\"]\n",
        "\n",
        "# Introduction\n",
        "name = input(\"What is your name, adventurer?\\n\")\n",
        "print(\"Greetings, \" + name + \". Let us go on a quest!\")\n",
        "print(\"You find yourself on the edge of a dark forest.\")\n",
        "print(\"Can you find your way through?\\n\")\n",
        "\n",
        "# Start of game\n",
        "start = \"\"\n",
        "while start not in yes_no:\n",
        "  start = input(\"Would you like to step into the forest? (Y/N) : \").upper()\n",
        "  if start == 'Y':\n",
        "    print(\"You head into the forest. You hear crows cawwing in the distance.\\n\")\n",
        "  elif start == 'N':\n",
        "    print(\"You are not ready for this quest. Goodbye, \" + name + \".\")\n",
        "    break\n",
        "  else:\n",
        "    print(\"I didn't understand that.\\n\")\n",
        "\n",
        "# Next part of game\n",
        "response = \"\"\n",
        "while start == 'Y':\n",
        "  response = input(\"What direction do you move?\\nleft/right/forward/backward\\n\")\n",
        "  if response == \"left\":\n",
        "    print(\"The bear eats you. Farewell, \" + name + \".\")\n",
        "    break\n",
        "  elif response == \"right\":\n",
        "    print(\"You head deeper into the forest.\\n\")\n",
        "  elif response == \"forward\":\n",
        "    print(\"You cannot scale the wall.\\n\")\n",
        "  elif response == \"backward\":\n",
        "    print(\"You leave the forest. Goodbye, \" + name + \".\")\n",
        "    break\n",
        "  else:\n",
        "    print(\"I didn't understand that.\\n\")"
      ],
      "metadata": {
        "id": "Yt-Hu3t8TCHk",
        "colab": {
          "base_uri": "https://localhost:8080/"
        },
        "outputId": "02c53fef-bc35-4397-f904-ee60e2abc525"
      },
      "execution_count": 15,
      "outputs": [
        {
          "output_type": "stream",
          "name": "stdout",
          "text": [
            "What is your name, adventurer?\n",
            "Joey\n",
            "Greetings, Joey. Let us go on a quest!\n",
            "You find yourself on the edge of a dark forest.\n",
            "Can you find your way through?\n",
            "\n",
            "Would you like to step into the forest? (Y/N) : Y\n",
            "You head into the forest. You hear crows cawwing in the distance.\n",
            "\n",
            "What direction do you move?\n",
            "left/right/forward/backward\n",
            "right\n",
            "You head deeper into the forest.\n",
            "\n",
            "What direction do you move?\n",
            "left/right/forward/backward\n",
            "left\n",
            "The bear eats you. Farewell, Joey.\n"
          ]
        }
      ]
    },
    {
      "cell_type": "markdown",
      "source": [
        "### 25. Build a program that solves a linear equation for x, considering different cases."
      ],
      "metadata": {
        "id": "wA8Ze67GTCHk"
      }
    },
    {
      "cell_type": "code",
      "source": [
        "def solveEquation(equation):\n",
        "  n = len(equation)\n",
        "  sign = 1\n",
        "  coeff = 0\n",
        "  total = 0\n",
        "  i = 0\n",
        "\t# Traverse the equation\n",
        "  for j in range(n):\n",
        "    if equation[j] == '+' or equation[j] == '-' :\n",
        "      if j > i :\n",
        "        total += sign*int(equation[i: j])\n",
        "      i = j\n",
        "    elif equation[j] == 'x' :\n",
        "      if i == j or equation[j - 1] == '+' :\n",
        "        coeff += sign\n",
        "      elif equation[j - 1] == '-' :\n",
        "        coeff -= sign\n",
        "      else :\n",
        "        coeff += sign*int(equation[i: j])\n",
        "      i = j + 1\n",
        "\t\t# Flip sign once '=' is seen\n",
        "    elif equation[j] == '=' :\n",
        "      if j > i :\n",
        "        total += sign*int(equation[i: j])\n",
        "      sign = -1\n",
        "      i = j + 1\n",
        "  if i < n :\n",
        "    total += sign*int(equation[i: len(equation)])\n",
        "  if coeff != 0 and total :\n",
        "    return int(-total/coeff)\n",
        "  if coeff == 0 and total :\n",
        "    return \"No solution\"\n",
        "  if coeff == 0 and total == 0 :\n",
        "\t  return \"Infinite solutions\"\n",
        "# Driver code\n",
        "equation = \"x+5-3+x=6+x-2\"\n",
        "print (\"x = {}\".format(solveEquation(equation)))"
      ],
      "metadata": {
        "colab": {
          "base_uri": "https://localhost:8080/"
        },
        "outputId": "0f876021-342a-4eed-e160-fbc1dce82791",
        "id": "pBP-kRxMTCHk"
      },
      "execution_count": 7,
      "outputs": [
        {
          "output_type": "stream",
          "name": "stdout",
          "text": [
            "x = 2\n"
          ]
        }
      ]
    },
    {
      "cell_type": "markdown",
      "source": [
        "### 26. Write a program that simulates a basic quiz game with multiple-choice questions and scoring."
      ],
      "metadata": {
        "id": "k6rtgiC6TCHk"
      }
    },
    {
      "cell_type": "code",
      "source": [
        "score = 0\n",
        "print('------------KAUN BANEGA CROREPATI------------')\n",
        "print('You will be given a set of 5 Questions.\\nYou have to answer 3 of the 5 questions.')\n",
        "# Q1\n",
        "answer = input('Q1. Who is the Prime Minister of India? : ').lower()\n",
        "if answer == 'narendra modi' :\n",
        "  score += 1\n",
        "  print('Yes, you are correct.')\n",
        "else :\n",
        "  print(f'Oops, {answer} is the wrong answer.\\nNarendra Modi is the Prime Minister of India.')\n",
        "print('---------------------------------------------')\n",
        "# Q2\n",
        "answer = input('Q2. Who was the Chief Guest of the 75th Republic Day? : ').lower()\n",
        "if answer == 'emmanuel macron' :\n",
        "  score += 1\n",
        "  print('Yes, you are correct.')\n",
        "else :\n",
        "  print(f'Oops, {answer} is the wrong answer.\\nEmmanuel Macron was the Chief Guest of the 75th Republic Day.')\n",
        "print('---------------------------------------------')\n",
        "# Q3\n",
        "answer = input('Q3. What is the Captial of Arunachal Pradesh? : ').lower()\n",
        "if answer == 'itanagar' :\n",
        "  score += 1\n",
        "  print('Yes, you are correct.')\n",
        "else :\n",
        "  print(f'Oops, {answer} is the wrong answer.\\nItanagar is the Captial of Arunachal Pradesh.')\n",
        "print('---------------------------------------------')\n",
        "# Q4\n",
        "answer = input('Q4. Who created Bitcoin?? : ').lower()\n",
        "if answer == 'satoshi nakamoto' :\n",
        "  score += 1\n",
        "  print('Yes, you are correct.')\n",
        "else :\n",
        "  print(f'Oops, {answer} is the wrong answer.\\nSatoshi Nakamoto created bitcoin.')\n",
        "print('---------------------------------------------')\n",
        "# Q5\n",
        "answer = input('Q5. What is the name of the smallest country in the world by area?? : ').lower()\n",
        "if answer == 'vatican city' :\n",
        "  score += 1\n",
        "  print('Yes, you are correct.')\n",
        "else :\n",
        "  print(f'Oops, {answer} is the wrong answer.\\nVatican City is the smallest country in the world by area.')\n",
        "print('---------------------------------------------')\n",
        "\n",
        "if score == 5 :\n",
        "  print('You answered all the questions correctly.\\nCongratulations! You Won.')\n",
        "elif score >= 3 :\n",
        "  print(f'You answered {score}/n5 questions correctly.\\nYou Won.')\n",
        "else :\n",
        "  print(f'You did not cross the desired limit to win.\\nYou only answered {score} questions correct.')"
      ],
      "metadata": {
        "colab": {
          "base_uri": "https://localhost:8080/"
        },
        "outputId": "f2e4ca7f-83c7-4f72-8e62-ef4160e7f1f1",
        "id": "YWqvXdZnTCHk"
      },
      "execution_count": 2,
      "outputs": [
        {
          "output_type": "stream",
          "name": "stdout",
          "text": [
            "------------KAUN BANEGA CROREPATI------------\n",
            "You will be given a set of 5 Questions.\n",
            "You have to answer 3 of the 5 questions.\n",
            "Q1. Who is the Prime Minister of India? : narendra modi\n",
            "Yes, you are correct.\n",
            "---------------------------------------------\n",
            "Q2. Who was the Chief Guest of the 75th Republic Day? : president\n",
            "Oops, president is the wrong answer.\n",
            "Emmanuel Macron was the Chief Guest of the 75th Republic Day.\n",
            "---------------------------------------------\n",
            "Q3. What is the Captial of Arunachal Pradesh? : itanagar\n",
            "Yes, you are correct.\n",
            "---------------------------------------------\n",
            "Q4. Who created Bitcoin?? : \n",
            "Oops,  is the wrong answer.\n",
            "Satoshi Nakamoto created bitcoin.\n",
            "---------------------------------------------\n",
            "Q5. What is the name of the smallest country in the world by area?? : vatican\n",
            "Oops, vatican is the wrong answer.\n",
            "Vatican City is the smallest country in the world by area.\n",
            "---------------------------------------------\n",
            "You did not cross the desired limit to win.\n",
            "You only answered 2 questions correct.\n"
          ]
        }
      ]
    },
    {
      "cell_type": "markdown",
      "source": [
        "### 27. Develop a program that determines whether a given year is a prime number or not."
      ],
      "metadata": {
        "id": "bE9AEkSSTCHl"
      }
    },
    {
      "cell_type": "code",
      "source": [
        "def isPrime(num):\n",
        "  '''check if the number is prime\n",
        "\n",
        "  Parameters\n",
        "  num: int value\n",
        "\n",
        "  Returns\n",
        "  bool value\n",
        "  '''\n",
        "  for i in range(2,int(num**0.5)+1):\n",
        "    if num%i == 0:\n",
        "      return False\n",
        "  return True\n",
        "isPrime(2021)"
      ],
      "metadata": {
        "colab": {
          "base_uri": "https://localhost:8080/"
        },
        "outputId": "f1041729-4cc2-41b9-c999-7f4e42ca4dd9",
        "id": "V1WCwn7yTCHl"
      },
      "execution_count": 4,
      "outputs": [
        {
          "output_type": "execute_result",
          "data": {
            "text/plain": [
              "False"
            ]
          },
          "metadata": {},
          "execution_count": 4
        }
      ]
    },
    {
      "cell_type": "code",
      "source": [
        "isPrime(2027)"
      ],
      "metadata": {
        "colab": {
          "base_uri": "https://localhost:8080/"
        },
        "id": "U0vV4e9Mcw7V",
        "outputId": "5db77253-fbb2-49c0-a985-ca2631683ea8"
      },
      "execution_count": 5,
      "outputs": [
        {
          "output_type": "execute_result",
          "data": {
            "text/plain": [
              "True"
            ]
          },
          "metadata": {},
          "execution_count": 5
        }
      ]
    },
    {
      "cell_type": "markdown",
      "source": [
        "### 28. Create a program that sorts three numbers in ascending order using conditional statements."
      ],
      "metadata": {
        "id": "7hfXgeI7TCHl"
      }
    },
    {
      "cell_type": "code",
      "source": [
        "def sortList(List):\n",
        "  '''sort a list with 3 nums in ascending order\n",
        "\n",
        "  Parameters\n",
        "  List: list value\n",
        "\n",
        "  Returns\n",
        "  list value\n",
        "  '''\n",
        "  if List[0] > List[1] :\n",
        "    List[0],List[1] = List[1],List[0]\n",
        "  if List[0] > List[2] :\n",
        "    List[2],List[0] = List[0],List[2]\n",
        "  if List[1] > List[2] :\n",
        "    List[2],List[1] = List[1],List[2]\n",
        "  return List\n",
        "\n",
        "sortList([-12,-111,12])"
      ],
      "metadata": {
        "colab": {
          "base_uri": "https://localhost:8080/"
        },
        "outputId": "abdd7be2-b0e5-44c8-87b5-17a6d62c6381",
        "id": "l3pVMsrBTCHl"
      },
      "execution_count": 10,
      "outputs": [
        {
          "output_type": "execute_result",
          "data": {
            "text/plain": [
              "[-111, -12, 12]"
            ]
          },
          "metadata": {},
          "execution_count": 10
        }
      ]
    },
    {
      "cell_type": "markdown",
      "source": [
        "### 29. Build a program that determines the roots of a quartic equation using numerical methods."
      ],
      "metadata": {
        "id": "0G-By7QsTCHl"
      }
    },
    {
      "cell_type": "code",
      "source": [
        "def newtonRaphson(a,b,c,e):\n",
        "  '''finding approx value of roots\n",
        "\n",
        "  Parameters\n",
        "  a,b,c: int/float value; coefficents of func\n",
        "  e: float value; error approximation\n",
        "  '''\n",
        "  x = 1\n",
        "  fx = lambda x : a*pow(x,2) + b*x + c\n",
        "  dfx = lambda x : 2*a*x + b\n",
        "  while abs(fx(x)) > e :\n",
        "    x = x - fx(x)/dfx(x)\n",
        "  return round(x,2)\n",
        "newtonRaphson(1,-4,-7,0.0005)"
      ],
      "metadata": {
        "colab": {
          "base_uri": "https://localhost:8080/"
        },
        "outputId": "77b14f7e-06a7-4796-f680-a324a208c626",
        "id": "ZbvmBp4ITCHl"
      },
      "execution_count": 13,
      "outputs": [
        {
          "output_type": "execute_result",
          "data": {
            "text/plain": [
              "-1.32"
            ]
          },
          "metadata": {},
          "execution_count": 13
        }
      ]
    },
    {
      "cell_type": "markdown",
      "source": [
        "### 30. Write a program that calculates the BMI (Body Mass Index) and provides health recommendations based on the user's input."
      ],
      "metadata": {
        "id": "6Pnb81KzTCHj"
      }
    },
    {
      "cell_type": "code",
      "source": [
        "def BMICalculator(height, weight):\n",
        "  '''find the bmi and categorize a given person into underweight, normal, overweight or obese\n",
        "\n",
        "  Parameters\n",
        "  height: int/float value unit = m2\n",
        "  weight: int/float value unit = kg\n",
        "  '''\n",
        "  bmi = weight/height**2\n",
        "  print('You BMI = {:.2f}'.format(bmi))\n",
        "  if bmi < 18.5:\n",
        "    print('''Underweight (BMI < 18.5)\n",
        "    1. Consult a healthcare professional to rule out any underlying health issues.\n",
        "    2. Focus on a balanced diet with sufficient calories to support overall health and well-being.\n",
        "    3. Consider strength training to build muscle mass.''')\n",
        "  elif 18.5 <= bmi <= 24.9:\n",
        "    print('''Normal weight (BMI 18.5 - 24.9).\n",
        "    1. Maintain a balanced and nutritious diet.\n",
        "    2. Engage in regular physical activity for overall health.\n",
        "    3. Continue practicing healthy lifestyle habits.''')\n",
        "  elif 25.0 <= bmi <= 29.9:\n",
        "    print('''Overweight (BMI 25 - 29.9)\n",
        "      1. Adopt a well-rounded, balanced diet with a focus on whole foods.\n",
        "      2. Increase physical activity, including both cardiovascular exercise and strength training.\n",
        "      3. Consult with a healthcare professional for personalized advice.''')\n",
        "  elif 30.0 <= bmi <= 34.9:\n",
        "    print('''Obese Class I (BMI 30 - 34.9)\n",
        "      1. Seek guidance from a healthcare professional for a structured weight management plan.\n",
        "      2. Incorporate regular exercise, combining aerobic and strength training.\n",
        "      3. Consider dietary changes, emphasizing portion control and nutrient-dense foods.''')\n",
        "  elif 35.0 <= bmi <= 39.9:\n",
        "    print('''Obese Class II (BMI 35 - 39.9)\n",
        "      1. Consult with a healthcare professional to assess potential health risks and create a personalized plan.\n",
        "      2. Implement lifestyle changes, including a well-balanced diet and increased physical activity.\n",
        "      3. Consider professional support such as a registered dietitian or fitness trainer..''')\n",
        "BMICalculator(1.81, 75)"
      ],
      "metadata": {
        "colab": {
          "base_uri": "https://localhost:8080/"
        },
        "outputId": "a71cd311-090a-4f69-9f70-3ba32e5becb2",
        "id": "qX8Krw-BTCHj"
      },
      "execution_count": 1,
      "outputs": [
        {
          "output_type": "stream",
          "name": "stdout",
          "text": [
            "You BMI = 22.89\n",
            "Normal weight (BMI 18.5 - 24.9).\n",
            "    1. Maintain a balanced and nutritious diet.\n",
            "    2. Engage in regular physical activity for overall health.\n",
            "    3. Continue practicing healthy lifestyle habits.\n"
          ]
        }
      ]
    }
  ]
}