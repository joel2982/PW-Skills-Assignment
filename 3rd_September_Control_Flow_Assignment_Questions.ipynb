{
  "nbformat": 4,
  "nbformat_minor": 0,
  "metadata": {
    "colab": {
      "provenance": [],
      "collapsed_sections": [
        "4NHHrUd1-sXN"
      ],
      "authorship_tag": "ABX9TyPfSebE75jhQlzAl7Va4oPM",
      "include_colab_link": true
    },
    "kernelspec": {
      "name": "python3",
      "display_name": "Python 3"
    },
    "language_info": {
      "name": "python"
    }
  },
  "cells": [
    {
      "cell_type": "markdown",
      "metadata": {
        "id": "view-in-github",
        "colab_type": "text"
      },
      "source": [
        "<a href=\"https://colab.research.google.com/github/joel2982/PW-Skills-Assignment/blob/master/3rd_September_Control_Flow_Assignment_Questions.ipynb\" target=\"_parent\"><img src=\"https://colab.research.google.com/assets/colab-badge.svg\" alt=\"Open In Colab\"/></a>"
      ]
    },
    {
      "cell_type": "markdown",
      "source": [
        "## Basic If-Else Statements"
      ],
      "metadata": {
        "id": "lpbCUtU8q71m"
      }
    },
    {
      "cell_type": "markdown",
      "source": [
        "### 1. Write a Python program to check if a given number is positive or negative."
      ],
      "metadata": {
        "id": "xuAwpXDxrFtp"
      }
    },
    {
      "cell_type": "code",
      "execution_count": null,
      "metadata": {
        "colab": {
          "base_uri": "https://localhost:8080/",
          "height": 36
        },
        "id": "Sio_lN26qAXa",
        "outputId": "396fcba6-cfa2-438e-8b61-46d303843bd4"
      },
      "outputs": [
        {
          "output_type": "execute_result",
          "data": {
            "text/plain": [
              "'Negative'"
            ],
            "application/vnd.google.colaboratory.intrinsic+json": {
              "type": "string"
            }
          },
          "metadata": {},
          "execution_count": 2
        }
      ],
      "source": [
        "def positiveNegative(num):\n",
        "  '''check if num is positive or negative\n",
        "\n",
        "  Parameters\n",
        "  num: int/float value\n",
        "\n",
        "  Returns\n",
        "  str value\n",
        "  '''\n",
        "  if num >= 0:\n",
        "    return 'Positve'\n",
        "  else:\n",
        "    return 'Negative'\n",
        "positiveNegative(-12)"
      ]
    },
    {
      "cell_type": "code",
      "source": [
        "positiveNegative(12)"
      ],
      "metadata": {
        "colab": {
          "base_uri": "https://localhost:8080/",
          "height": 36
        },
        "id": "BAwvxy9945YD",
        "outputId": "12184e13-926c-4717-8773-88034c6af8c9"
      },
      "execution_count": null,
      "outputs": [
        {
          "output_type": "execute_result",
          "data": {
            "text/plain": [
              "'Positve'"
            ],
            "application/vnd.google.colaboratory.intrinsic+json": {
              "type": "string"
            }
          },
          "metadata": {},
          "execution_count": 3
        }
      ]
    },
    {
      "cell_type": "markdown",
      "source": [
        "### 2. Create a program that determines if a person is eligible to vote based on their age."
      ],
      "metadata": {
        "id": "0iJ8kDfhscLB"
      }
    },
    {
      "cell_type": "code",
      "source": [
        "def eligibleToVote(age):\n",
        "  '''check if the person is eligible to vote\n",
        "\n",
        "  Parameters\n",
        "  age: int/float value\n",
        "\n",
        "  Returns\n",
        "  bool value\n",
        "  '''\n",
        "  if age >= 18:\n",
        "    return True\n",
        "  else:\n",
        "    return False\n",
        "eligibleToVote(21)"
      ],
      "metadata": {
        "colab": {
          "base_uri": "https://localhost:8080/"
        },
        "id": "tNg4Rpb0tS-Z",
        "outputId": "aa0b9b31-0d29-496c-c603-a2bb0d84026a"
      },
      "execution_count": null,
      "outputs": [
        {
          "output_type": "execute_result",
          "data": {
            "text/plain": [
              "True"
            ]
          },
          "metadata": {},
          "execution_count": 4
        }
      ]
    },
    {
      "cell_type": "code",
      "source": [
        "eligibleToVote(16)"
      ],
      "metadata": {
        "colab": {
          "base_uri": "https://localhost:8080/"
        },
        "id": "Mvte062w593L",
        "outputId": "95dfc25c-13ad-4036-eec2-acc8c5fa4fdc"
      },
      "execution_count": null,
      "outputs": [
        {
          "output_type": "execute_result",
          "data": {
            "text/plain": [
              "False"
            ]
          },
          "metadata": {},
          "execution_count": 5
        }
      ]
    },
    {
      "cell_type": "markdown",
      "source": [
        "### 3. Develop a program to find the maximum of two numbers using if-else statements."
      ],
      "metadata": {
        "id": "gkI3IYwRspbS"
      }
    },
    {
      "cell_type": "code",
      "source": [
        "def maximum(n1,n2):\n",
        "  '''check if which num is greater\n",
        "\n",
        "  Parameters\n",
        "  n1: int/float value\n",
        "  n2: int/float value\n",
        "\n",
        "  Returns\n",
        "  int/float value\n",
        "  '''\n",
        "  if n1 >= n2:\n",
        "    return n1\n",
        "  else:\n",
        "    return n2\n",
        "maximum(-12,20)"
      ],
      "metadata": {
        "colab": {
          "base_uri": "https://localhost:8080/"
        },
        "id": "OSJXZQfTrVUp",
        "outputId": "2e1d2d08-a4c3-429f-aa7c-781e31a04830"
      },
      "execution_count": null,
      "outputs": [
        {
          "output_type": "execute_result",
          "data": {
            "text/plain": [
              "20"
            ]
          },
          "metadata": {},
          "execution_count": 6
        }
      ]
    },
    {
      "cell_type": "markdown",
      "source": [
        "### 4. Write a Python script to classify a given year as a leap year or not."
      ],
      "metadata": {
        "id": "NIyruAvpsw6t"
      }
    },
    {
      "cell_type": "markdown",
      "source": [
        "https://github.com/joel2982/PW-Skills-Assignment/blob/master/Q4PythonScript.py"
      ],
      "metadata": {
        "id": "wIgPByVG8dbr"
      }
    },
    {
      "cell_type": "code",
      "source": [
        "# code\n",
        "year = int(input('Enter the Year = '))\n",
        "if year%4 != 0:\n",
        "    print(year,'is not a Leap Year.')\n",
        "elif year%100 != 0:\n",
        "    print(year,'is a Leap Year.')\n",
        "elif year%400 == 0:\n",
        "    print(year,'is a Leap Year.')\n",
        "else:\n",
        "    print(year,'is not a Leap Year.')"
      ],
      "metadata": {
        "id": "jZ57Z4DnKhrq"
      },
      "execution_count": null,
      "outputs": []
    },
    {
      "cell_type": "markdown",
      "source": [
        "### 5. Create a program that checks whether a character is a vowel or a consonant."
      ],
      "metadata": {
        "id": "LINkWGgrs2V_"
      }
    },
    {
      "cell_type": "code",
      "source": [
        "def checkChar(char):\n",
        "  '''check if the char is vowel or consonant\n",
        "\n",
        "  Parameters\n",
        "  char: char value\n",
        "\n",
        "  Returns\n",
        "  bool value\n",
        "  '''\n",
        "  if char.lower() in 'aeiou':\n",
        "    return 'Vowel'\n",
        "  else:\n",
        "    return 'Consonant'\n",
        "checkChar('A')"
      ],
      "metadata": {
        "colab": {
          "base_uri": "https://localhost:8080/",
          "height": 36
        },
        "id": "GQ_CZDohsQTi",
        "outputId": "8336ba5b-0a14-40e4-9c79-ec7e16d51d6a"
      },
      "execution_count": null,
      "outputs": [
        {
          "output_type": "execute_result",
          "data": {
            "text/plain": [
              "'Vowel'"
            ],
            "application/vnd.google.colaboratory.intrinsic+json": {
              "type": "string"
            }
          },
          "metadata": {},
          "execution_count": 1
        }
      ]
    },
    {
      "cell_type": "code",
      "source": [
        "checkChar('b')"
      ],
      "metadata": {
        "colab": {
          "base_uri": "https://localhost:8080/",
          "height": 36
        },
        "id": "MuaujRd9KJWs",
        "outputId": "068199e9-2c1c-459b-b7ef-61fb917048e8"
      },
      "execution_count": null,
      "outputs": [
        {
          "output_type": "execute_result",
          "data": {
            "text/plain": [
              "'Consonant'"
            ],
            "application/vnd.google.colaboratory.intrinsic+json": {
              "type": "string"
            }
          },
          "metadata": {},
          "execution_count": 2
        }
      ]
    },
    {
      "cell_type": "markdown",
      "source": [
        "### 6. Implement a program to determine whether a given number is even or odd."
      ],
      "metadata": {
        "id": "2t3ui53Ds-SO"
      }
    },
    {
      "cell_type": "code",
      "source": [
        "def checkOddEven(num):\n",
        "  '''find the number is even or odd\n",
        "\n",
        "  Parameters\n",
        "  num: int/float value\n",
        "\n",
        "  Returns\n",
        "  bool value\n",
        "  '''\n",
        "  if num%2 == 0:\n",
        "    return 'Even'\n",
        "  else:\n",
        "    return 'Odd'\n",
        "checkOddEven(14)"
      ],
      "metadata": {
        "colab": {
          "base_uri": "https://localhost:8080/",
          "height": 36
        },
        "id": "4WuBZKGXs9za",
        "outputId": "787d1f2a-e57f-49b1-e6f0-00861de7894f"
      },
      "execution_count": null,
      "outputs": [
        {
          "output_type": "execute_result",
          "data": {
            "text/plain": [
              "'Even'"
            ],
            "application/vnd.google.colaboratory.intrinsic+json": {
              "type": "string"
            }
          },
          "metadata": {},
          "execution_count": 3
        }
      ]
    },
    {
      "cell_type": "code",
      "source": [
        "checkOddEven(11)"
      ],
      "metadata": {
        "colab": {
          "base_uri": "https://localhost:8080/",
          "height": 36
        },
        "id": "fhmPgSycLXTX",
        "outputId": "56f94ce0-1bbe-433b-eda1-9d9aadb05f27"
      },
      "execution_count": null,
      "outputs": [
        {
          "output_type": "execute_result",
          "data": {
            "text/plain": [
              "'Odd'"
            ],
            "application/vnd.google.colaboratory.intrinsic+json": {
              "type": "string"
            }
          },
          "metadata": {},
          "execution_count": 4
        }
      ]
    },
    {
      "cell_type": "markdown",
      "source": [
        "### 7. Write a Python function to calculate the absolute value of a number without using the `abs()` function."
      ],
      "metadata": {
        "id": "GVVPptkotALy"
      }
    },
    {
      "cell_type": "code",
      "source": [
        "def absolute(num):\n",
        "  '''return the absolute value\n",
        "\n",
        "  Parameters\n",
        "  num: int/float value\n",
        "\n",
        "  Returns\n",
        "  int/float value\n",
        "  '''\n",
        "  if num > 0:\n",
        "    return num\n",
        "  else:\n",
        "    return -num\n",
        "absolute(-12)"
      ],
      "metadata": {
        "colab": {
          "base_uri": "https://localhost:8080/"
        },
        "id": "Au2UpvuWtETK",
        "outputId": "c2d3f8b6-c44b-4ee4-c6c7-edbe01971952"
      },
      "execution_count": null,
      "outputs": [
        {
          "output_type": "execute_result",
          "data": {
            "text/plain": [
              "12"
            ]
          },
          "metadata": {},
          "execution_count": 6
        }
      ]
    },
    {
      "cell_type": "markdown",
      "source": [
        "### 8. Develop a program that determines the largest of three given numbers using if-else statements."
      ],
      "metadata": {
        "id": "0L3z2zzWtGqj"
      }
    },
    {
      "cell_type": "code",
      "source": [
        "def largestNum(n1,n2,n3):\n",
        "  '''check if which num is greater\n",
        "\n",
        "  Parameters\n",
        "  n1,n2,n3: int/float value\n",
        "\n",
        "  Returns\n",
        "  int/float value\n",
        "  '''\n",
        "  if n1 > n2 and n1 > n3:\n",
        "    return n1\n",
        "  elif n3 > n2 and n3 > n1:\n",
        "    return n3\n",
        "  else:\n",
        "    return n2\n",
        "largestNum(-12,20,23)"
      ],
      "metadata": {
        "colab": {
          "base_uri": "https://localhost:8080/"
        },
        "id": "vyjvAsJatJW2",
        "outputId": "293b0070-61b8-493f-be4c-7fddbd8f4429"
      },
      "execution_count": null,
      "outputs": [
        {
          "output_type": "execute_result",
          "data": {
            "text/plain": [
              "23"
            ]
          },
          "metadata": {},
          "execution_count": 7
        }
      ]
    },
    {
      "cell_type": "markdown",
      "source": [
        "### 9. Create a program that checks if a given string is a palindrome."
      ],
      "metadata": {
        "id": "ZCo3ParLtM8B"
      }
    },
    {
      "cell_type": "code",
      "source": [
        "def checkPalindrome(string):\n",
        "  '''check if string is palindrom\n",
        "\n",
        "  Parameters\n",
        "  string: str value\n",
        "\n",
        "  Returns\n",
        "  bool value\n",
        "  '''\n",
        "  string = string.replace(' ','').lower()\n",
        "  if string == string[::-1]:\n",
        "    return True\n",
        "  else:\n",
        "    return False\n",
        "checkPalindrome('abc aacba')"
      ],
      "metadata": {
        "colab": {
          "base_uri": "https://localhost:8080/"
        },
        "id": "jRPKNK7QtO7I",
        "outputId": "f9cb5b9b-c1c7-4d8c-ad8f-a88a853795ec"
      },
      "execution_count": null,
      "outputs": [
        {
          "output_type": "execute_result",
          "data": {
            "text/plain": [
              "True"
            ]
          },
          "metadata": {},
          "execution_count": 11
        }
      ]
    },
    {
      "cell_type": "markdown",
      "source": [
        "### 10. Write a Python program to calculate the grade based on a student's score."
      ],
      "metadata": {
        "id": "QYlmisRvtPXR"
      }
    },
    {
      "cell_type": "code",
      "source": [
        "def grade(score):\n",
        "  '''find the grade based on the score\n",
        "\n",
        "  Parameters\n",
        "  n: int/float value\n",
        "\n",
        "  Returns\n",
        "  str value\n",
        "  '''\n",
        "  if score > 90:\n",
        "    return \"A1\"\n",
        "  elif score > 80:\n",
        "    return \"A2\"\n",
        "  elif score > 70:\n",
        "    return \"B1\"\n",
        "  elif score > 60:\n",
        "    return \"B2\"\n",
        "  elif score > 50:\n",
        "    return \"C1\"\n",
        "  elif score > 40:\n",
        "    return \"C2\"\n",
        "  elif score > 33:\n",
        "    return \"D\"\n",
        "  else:\n",
        "    return \"E\"\n",
        "grade(90.12)"
      ],
      "metadata": {
        "colab": {
          "base_uri": "https://localhost:8080/",
          "height": 36
        },
        "id": "xXWqcE6etWxt",
        "outputId": "18b1dc13-1059-4cf0-f640-cb9253e6c7bf"
      },
      "execution_count": null,
      "outputs": [
        {
          "output_type": "execute_result",
          "data": {
            "text/plain": [
              "'A1'"
            ],
            "application/vnd.google.colaboratory.intrinsic+json": {
              "type": "string"
            }
          },
          "metadata": {},
          "execution_count": 13
        }
      ]
    },
    {
      "cell_type": "code",
      "source": [
        "grade(30.12)"
      ],
      "metadata": {
        "colab": {
          "base_uri": "https://localhost:8080/",
          "height": 36
        },
        "id": "b6d9WjC2Qszm",
        "outputId": "c0db9ce0-3e67-4044-cab6-d3a47ec447f7"
      },
      "execution_count": null,
      "outputs": [
        {
          "output_type": "execute_result",
          "data": {
            "text/plain": [
              "'E'"
            ],
            "application/vnd.google.colaboratory.intrinsic+json": {
              "type": "string"
            }
          },
          "metadata": {},
          "execution_count": 14
        }
      ]
    },
    {
      "cell_type": "markdown",
      "source": [
        "## Nested If-Else Statements"
      ],
      "metadata": {
        "id": "41CoAVqU4HfU"
      }
    },
    {
      "cell_type": "markdown",
      "source": [
        "### 11. Write a program to find the largest among three numbers using nested if-else statements."
      ],
      "metadata": {
        "id": "HX0huXd_4PTZ"
      }
    },
    {
      "cell_type": "code",
      "source": [
        "def largestNum11(n1,n2,n3):\n",
        "  '''check if which num is greater\n",
        "\n",
        "  Parameters\n",
        "  n1,n2,n3: int/float value\n",
        "\n",
        "  Returns\n",
        "  int/float value\n",
        "  '''\n",
        "  if n1 >= n2:\n",
        "    if n1 > n3:\n",
        "      return n1\n",
        "    else:\n",
        "      return n3\n",
        "  elif n2 > n1:\n",
        "    if n2 > n3:\n",
        "      return n2\n",
        "    else:\n",
        "      return n3\n",
        "largestNum11(24,25,23)"
      ],
      "metadata": {
        "colab": {
          "base_uri": "https://localhost:8080/"
        },
        "id": "RJgNItJ749ms",
        "outputId": "d34f3743-280d-414a-b915-43d5b15cc7b0"
      },
      "execution_count": null,
      "outputs": [
        {
          "output_type": "execute_result",
          "data": {
            "text/plain": [
              "25"
            ]
          },
          "metadata": {},
          "execution_count": 28
        }
      ]
    },
    {
      "cell_type": "code",
      "source": [
        "largestNum11(20,20,21)"
      ],
      "metadata": {
        "colab": {
          "base_uri": "https://localhost:8080/"
        },
        "id": "cR3fvLW06LmR",
        "outputId": "7ff62f6e-d3c9-4644-9f71-2a4b9a7cbbf4"
      },
      "execution_count": null,
      "outputs": [
        {
          "output_type": "execute_result",
          "data": {
            "text/plain": [
              "21"
            ]
          },
          "metadata": {},
          "execution_count": 30
        }
      ]
    },
    {
      "cell_type": "markdown",
      "source": [
        "### 12. Implement a program to determine if a triangle is equilateral, isosceles, or scalene."
      ],
      "metadata": {
        "id": "tkK84hcg4V81"
      }
    },
    {
      "cell_type": "code",
      "source": [
        "def typeOfTriangle(side1,side2,side3):\n",
        "  '''find the type of triangle based on sides\n",
        "\n",
        "  Parameters\n",
        "  side1,side2,side3: int/float value\n",
        "\n",
        "  Returns\n",
        "  str value\n",
        "  '''\n",
        "  if side1 == side2:\n",
        "    if side3 == side2:\n",
        "      return 'Equilateral'\n",
        "    else:\n",
        "      return 'Isosceles'\n",
        "  elif side3 == side2:\n",
        "    return 'Isosceles'\n",
        "  elif side3 == side1:\n",
        "    return 'Isosceles'\n",
        "  else:\n",
        "    return 'Scalene'\n",
        "typeOfTriangle(10,10,10)"
      ],
      "metadata": {
        "colab": {
          "base_uri": "https://localhost:8080/",
          "height": 36
        },
        "id": "mQQhURay4-Cq",
        "outputId": "8ea85d7e-369c-45a2-b4fd-5a0a3dca4bee"
      },
      "execution_count": null,
      "outputs": [
        {
          "output_type": "execute_result",
          "data": {
            "text/plain": [
              "'Equilateral'"
            ],
            "application/vnd.google.colaboratory.intrinsic+json": {
              "type": "string"
            }
          },
          "metadata": {},
          "execution_count": 31
        }
      ]
    },
    {
      "cell_type": "code",
      "source": [
        "typeOfTriangle(21,10,10)"
      ],
      "metadata": {
        "colab": {
          "base_uri": "https://localhost:8080/",
          "height": 36
        },
        "id": "hj3DBWn3XkLj",
        "outputId": "cb8c27ef-028e-44b5-869a-38c59aa70bb8"
      },
      "execution_count": null,
      "outputs": [
        {
          "output_type": "execute_result",
          "data": {
            "text/plain": [
              "'Isosceles'"
            ],
            "application/vnd.google.colaboratory.intrinsic+json": {
              "type": "string"
            }
          },
          "metadata": {},
          "execution_count": 32
        }
      ]
    },
    {
      "cell_type": "code",
      "source": [
        "typeOfTriangle(21,10,20)"
      ],
      "metadata": {
        "colab": {
          "base_uri": "https://localhost:8080/",
          "height": 36
        },
        "id": "wz503tu8Xmto",
        "outputId": "3dcffbdc-4db7-4cb0-82aa-2b33798a4af8"
      },
      "execution_count": null,
      "outputs": [
        {
          "output_type": "execute_result",
          "data": {
            "text/plain": [
              "'Scalene'"
            ],
            "application/vnd.google.colaboratory.intrinsic+json": {
              "type": "string"
            }
          },
          "metadata": {},
          "execution_count": 33
        }
      ]
    },
    {
      "cell_type": "markdown",
      "source": [
        "### 13. Develop a program that checks if a year is a leap year and also if it is a century year."
      ],
      "metadata": {
        "id": "Zhpr1IQU4bFF"
      }
    },
    {
      "cell_type": "code",
      "source": [
        "def leapAndCentury(year):\n",
        "  '''check if year is a leap and century year\n",
        "\n",
        "  Parameters\n",
        "  year: int value\n",
        "  '''\n",
        "  leap = False\n",
        "  if year%4 != 0:\n",
        "    print(year,'is not a Leap Year.')\n",
        "    if year%100 == 0:\n",
        "      print(year,'is a Century Year.')\n",
        "    else:\n",
        "      print(year,'is not a Century Year.')\n",
        "  else:\n",
        "    if year%100 == 0:\n",
        "      if year%400 == 0:\n",
        "        print(year,'is a Leap Year.')\n",
        "      else:\n",
        "        print(year,'is not a Leap Year.')\n",
        "      print(year,'is a Century Year.')\n",
        "    else:\n",
        "      print(year,'is a Leap Year.')\n",
        "      print(year,'is not a Century Year.')\n",
        "  print()\n",
        "leapAndCentury(2020)\n",
        "leapAndCentury(2021)\n",
        "leapAndCentury(2000)\n",
        "leapAndCentury(1900)"
      ],
      "metadata": {
        "colab": {
          "base_uri": "https://localhost:8080/"
        },
        "id": "5HU63BfC4-aO",
        "outputId": "c14cf920-4699-4625-c23e-add377098b4f"
      },
      "execution_count": null,
      "outputs": [
        {
          "output_type": "stream",
          "name": "stdout",
          "text": [
            "2020 is a Leap Year.\n",
            "2020 is not a Century Year.\n",
            "\n",
            "2021 is not a Leap Year.\n",
            "2021 is not a Century Year.\n",
            "\n",
            "2000 is a Leap Year.\n",
            "2000 is a Century Year.\n",
            "\n",
            "1900 is not a Leap Year.\n",
            "1900 is a Century Year.\n",
            "\n"
          ]
        }
      ]
    },
    {
      "cell_type": "markdown",
      "source": [
        "### 14. Write a Python script to determine if a number is positive, negative, or zero."
      ],
      "metadata": {
        "id": "O4tF-u3P4cuY"
      }
    },
    {
      "cell_type": "markdown",
      "source": [
        "https://github.com/joel2982/PW-Skills-Assignment/blob/master/Q14PositiveNegativeZero.py"
      ],
      "metadata": {
        "id": "ziwkC-MCc-Dv"
      }
    },
    {
      "cell_type": "code",
      "source": [
        "# code\n",
        "num = int(input('Enter the Year = '))\n",
        "if num > 0:\n",
        "    print('Positve')\n",
        "elif num == 0:\n",
        "    print('Zero')\n",
        "else:\n",
        "    print('Negative')"
      ],
      "metadata": {
        "id": "IEOPWrp35Bdd"
      },
      "execution_count": null,
      "outputs": []
    },
    {
      "cell_type": "markdown",
      "source": [
        "### 15. Create a program to check if a person is a teenager (between 13 and 19 years old)."
      ],
      "metadata": {
        "id": "E37HuWDK4hw0"
      }
    },
    {
      "cell_type": "code",
      "source": [
        "def checkTeenager(age):\n",
        "  '''check if the person is a teenager\n",
        "\n",
        "  Parameters\n",
        "  age: int/float value\n",
        "\n",
        "  Returns\n",
        "  bool value\n",
        "  '''\n",
        "  if age >= 13:\n",
        "    if age <= 19:\n",
        "      return True\n",
        "  return False\n",
        "checkTeenager(21)"
      ],
      "metadata": {
        "colab": {
          "base_uri": "https://localhost:8080/"
        },
        "id": "bouz4Iur5Bxl",
        "outputId": "7b5d4efe-4eae-4b3b-b53f-51260aaeee5c"
      },
      "execution_count": null,
      "outputs": [
        {
          "output_type": "execute_result",
          "data": {
            "text/plain": [
              "False"
            ]
          },
          "metadata": {},
          "execution_count": 41
        }
      ]
    },
    {
      "cell_type": "code",
      "source": [
        "checkTeenager(10)"
      ],
      "metadata": {
        "colab": {
          "base_uri": "https://localhost:8080/"
        },
        "id": "QQwvJ06hemSj",
        "outputId": "fc1fb1a4-361e-4af0-9a2b-f0f8e917643a"
      },
      "execution_count": null,
      "outputs": [
        {
          "output_type": "execute_result",
          "data": {
            "text/plain": [
              "False"
            ]
          },
          "metadata": {},
          "execution_count": 42
        }
      ]
    },
    {
      "cell_type": "code",
      "source": [
        "checkTeenager(15)"
      ],
      "metadata": {
        "colab": {
          "base_uri": "https://localhost:8080/"
        },
        "id": "TrxIBToeepaC",
        "outputId": "a78e1b08-dc79-45af-b2be-2aced0fd4192"
      },
      "execution_count": null,
      "outputs": [
        {
          "output_type": "execute_result",
          "data": {
            "text/plain": [
              "True"
            ]
          },
          "metadata": {},
          "execution_count": 43
        }
      ]
    },
    {
      "cell_type": "markdown",
      "source": [
        "### 16. Develop a program that determines the type of angle based on its measure (acute, obtuse, or right)."
      ],
      "metadata": {
        "id": "J6f-CETt4jA-"
      }
    },
    {
      "cell_type": "code",
      "source": [
        "def typeOfAngle(angle):\n",
        "  '''find the type of angle\n",
        "\n",
        "  Parameters\n",
        "  angle: int/float value\n",
        "  '''\n",
        "  if angle > 90:\n",
        "    if angle < 180:\n",
        "      print('Obtuse')\n",
        "  if angle < 90:\n",
        "    print('Acute')\n",
        "  elif angle == 90:\n",
        "    print('Right')\n",
        "typeOfAngle(45)\n",
        "typeOfAngle(120)\n",
        "typeOfAngle(90)"
      ],
      "metadata": {
        "colab": {
          "base_uri": "https://localhost:8080/"
        },
        "id": "dQzZn1fy5A1z",
        "outputId": "a4c1238c-fb78-413f-a4b7-746f2740aa3f"
      },
      "execution_count": null,
      "outputs": [
        {
          "output_type": "stream",
          "name": "stdout",
          "text": [
            "Acute\n",
            "Obtuse\n",
            "Right\n"
          ]
        }
      ]
    },
    {
      "cell_type": "markdown",
      "source": [
        "### 17. Write a Python program to calculate the roots of a quadratic equation."
      ],
      "metadata": {
        "id": "XRI7TeYv4qPx"
      }
    },
    {
      "cell_type": "code",
      "source": [
        "def quadraticRoots(a,b,c):\n",
        "  ''' find the roots of the quadratic equation\n",
        "\n",
        "  Parameters\n",
        "  a,b,c: coefficients of the equation\n",
        "  '''\n",
        "  val = b**2 - 4*a*c\n",
        "  if val < 0:\n",
        "    print('Imaginary Roots')\n",
        "  else:\n",
        "    root1 = (-b + val)/(2*a)\n",
        "    if val > 0:\n",
        "      root2 = (-b - val)/(2*a)\n",
        "      print('Distinct Real Roots:',root1,',',root2)\n",
        "    else:\n",
        "      print('Equal Real Roots:',root1,',',root1)\n",
        "quadraticRoots(10,20,30)\n",
        "quadraticRoots(10,20,10)\n",
        "quadraticRoots(20,40,10)"
      ],
      "metadata": {
        "colab": {
          "base_uri": "https://localhost:8080/"
        },
        "id": "LdvXq6FW5Ab9",
        "outputId": "9af09c4f-5080-40b6-ff1d-03d541bbe728"
      },
      "execution_count": null,
      "outputs": [
        {
          "output_type": "stream",
          "name": "stdout",
          "text": [
            "Imaginary Roots\n",
            "Equal Real Roots: -1.0 , -1.0\n",
            "Distinct Real Roots: 19.0 , -21.0\n"
          ]
        }
      ]
    },
    {
      "cell_type": "markdown",
      "source": [
        "### 18. Implement a program to determine the day of the week based on a user-provided number (1 for Monday, 2 for Tuesday, etc.)."
      ],
      "metadata": {
        "id": "nYIuEtkv4t_I"
      }
    },
    {
      "cell_type": "code",
      "source": [
        "def dayOfWeek(num):\n",
        "  '''print the corresponding day of the week based on the number\n",
        "\n",
        "  Parameters\n",
        "  num: int value\n",
        "  '''\n",
        "  if num == 1:\n",
        "    print('Monday')\n",
        "  elif num == 2:\n",
        "    print('Tuesday')\n",
        "  elif num == 3:\n",
        "    print('Wednesday')\n",
        "  elif num == 4:\n",
        "    print('Thursday')\n",
        "  elif num == 5:\n",
        "    print('Friday')\n",
        "  elif num == 6:\n",
        "    print('Saturday')\n",
        "  elif num == 7:\n",
        "    print('Sunday')\n",
        "  else:\n",
        "    print('Invalid Input')\n",
        "dayOfWeek(10)\n",
        "dayOfWeek(4)\n",
        "dayOfWeek(2)"
      ],
      "metadata": {
        "colab": {
          "base_uri": "https://localhost:8080/"
        },
        "id": "IdZmFjOI5AF8",
        "outputId": "7417cff8-5c55-4fc4-8ba1-fcf0a247ccad"
      },
      "execution_count": null,
      "outputs": [
        {
          "output_type": "stream",
          "name": "stdout",
          "text": [
            "Invalid Input\n",
            "Thursday\n",
            "Tuesday\n"
          ]
        }
      ]
    },
    {
      "cell_type": "markdown",
      "source": [
        "### 19. Create a program that determines if a year is a leap year and also if it is evenly divisible by 400."
      ],
      "metadata": {
        "id": "YS_EwRW44xlJ"
      }
    },
    {
      "cell_type": "code",
      "source": [
        "def leapYearAndDivisibleBy400(year):\n",
        "  '''check if a year is a leap year and also evenly divisible by 400\n",
        "\n",
        "  Parameters\n",
        "  year: int value\n",
        "  '''\n",
        "  if year%400 == 0:\n",
        "    print(year,'is a Leap Year and evenly divisible by 400.')\n",
        "    print(year,'is a Centurian Leap Year.')\n",
        "  elif year%4 == 0:\n",
        "    if year%100 != 0:\n",
        "      print(year,'is a Leap Year but not a century Year')\n",
        "    else:\n",
        "      print(year,'is a not Leap Year as not evenly divisible by 400.')\n",
        "  else:\n",
        "    print(year,'is not a Leap Year')\n",
        "leapYearAndDivisibleBy400(1900)\n",
        "leapYearAndDivisibleBy400(1600)"
      ],
      "metadata": {
        "colab": {
          "base_uri": "https://localhost:8080/"
        },
        "id": "BhJgiQ5a4_tK",
        "outputId": "6264ea29-d6c1-426b-b7fa-a6eb00117463"
      },
      "execution_count": null,
      "outputs": [
        {
          "output_type": "stream",
          "name": "stdout",
          "text": [
            "1900 is a not Leap Year as not evenly divisible by 400.\n",
            "1600 is a Leap Year and evenly divisible by 400.\n",
            "1600 is a Centurian Leap Year.\n"
          ]
        }
      ]
    },
    {
      "cell_type": "markdown",
      "source": [
        "### 20. Develop a program that checks if a given number is prime or not using nested if-else statements."
      ],
      "metadata": {
        "id": "7WmEsB7j4SBR"
      }
    },
    {
      "cell_type": "code",
      "source": [
        "def prime(num):\n",
        "  '''check for prime number\n",
        "\n",
        "  Parameters\n",
        "  num: int value\n",
        "\n",
        "  Returns\n",
        "  bool value\n",
        "  '''\n",
        "  if num <= 1:\n",
        "    return False\n",
        "  else:\n",
        "    if num <= 3:\n",
        "      return True\n",
        "    elif num%2 == 0:\n",
        "      return False\n",
        "    elif num%3 == 0:\n",
        "      return False\n",
        "    else:\n",
        "      for i in range(5,int(num**0.5)+1):\n",
        "        if num%i == 0:\n",
        "          return False\n",
        "  return True\n",
        "prime(195)"
      ],
      "metadata": {
        "colab": {
          "base_uri": "https://localhost:8080/"
        },
        "id": "ufuKMLA54_OB",
        "outputId": "05873856-2d35-447f-9f86-9b701eeea4b9"
      },
      "execution_count": null,
      "outputs": [
        {
          "output_type": "execute_result",
          "data": {
            "text/plain": [
              "False"
            ]
          },
          "metadata": {},
          "execution_count": 13
        }
      ]
    },
    {
      "cell_type": "code",
      "source": [
        "prime(7)"
      ],
      "metadata": {
        "colab": {
          "base_uri": "https://localhost:8080/"
        },
        "id": "_t-y3PEVY30g",
        "outputId": "aec01ed9-a6e8-4b4e-ae4b-fc1cbaa3a13e"
      },
      "execution_count": null,
      "outputs": [
        {
          "output_type": "execute_result",
          "data": {
            "text/plain": [
              "True"
            ]
          },
          "metadata": {},
          "execution_count": 16
        }
      ]
    },
    {
      "cell_type": "markdown",
      "source": [
        "## Elif Statements"
      ],
      "metadata": {
        "id": "8DCHSLC4bMio"
      }
    },
    {
      "cell_type": "markdown",
      "source": [
        "### 21. Write a Python program to assign grades based on different ranges of scores using elif statements."
      ],
      "metadata": {
        "id": "_poAavwnbMiy"
      }
    },
    {
      "cell_type": "code",
      "source": [
        "# using sum function on list comprehension\n",
        "sum_of_digits = lambda List: sum(i for i in List)\n",
        "sum_of_digits([1,2,3,4,5,6])"
      ],
      "metadata": {
        "colab": {
          "base_uri": "https://localhost:8080/"
        },
        "outputId": "7c1ec9d8-0f2c-48bd-a746-20ed64617842",
        "id": "jMARyfcgbMiy"
      },
      "execution_count": null,
      "outputs": [
        {
          "output_type": "execute_result",
          "data": {
            "text/plain": [
              "21"
            ]
          },
          "metadata": {},
          "execution_count": 18
        }
      ]
    },
    {
      "cell_type": "markdown",
      "source": [
        "### 22. Implement a program to determine the type of a triangle based on its angles."
      ],
      "metadata": {
        "id": "12bTGhApbMiz"
      }
    },
    {
      "cell_type": "code",
      "source": [
        "# check if i divides n and check if i is prime and has no factors\n",
        "prime_factors = lambda n: [i for i in range(2, n+1) if n%i == 0 and all(i % j != 0 for j in range(2, int(i**0.5)+1))]\n",
        "print('Prime Factors of 210:',prime_factors(210))\n",
        "print('Prime Factors of 97:',prime_factors(97))"
      ],
      "metadata": {
        "colab": {
          "base_uri": "https://localhost:8080/"
        },
        "outputId": "a5ab761a-7fae-4303-da2d-b2da8b23f925",
        "id": "0o-pI5VzbMiz"
      },
      "execution_count": null,
      "outputs": [
        {
          "output_type": "stream",
          "name": "stdout",
          "text": [
            "Prime Factors of 210: [2, 3, 5, 7]\n",
            "Prime Factors of 97: [97]\n"
          ]
        }
      ]
    },
    {
      "cell_type": "markdown",
      "source": [
        "### 23. Develop a program to categorize a given person's BMI into underweight, normal, overweight, or obese using elif statements."
      ],
      "metadata": {
        "id": "2u94Vpw_bMiz"
      }
    },
    {
      "cell_type": "code",
      "source": [
        "from functools import reduce"
      ],
      "metadata": {
        "id": "BZr5fHAFwnvD"
      },
      "execution_count": null,
      "outputs": []
    },
    {
      "cell_type": "code",
      "source": [
        "# reducing the list such that if i is in the new list it is added else not, and the initializer is an empty list\n",
        "uniqueListElements = lambda List : list(reduce(lambda li,i : li+[i] if i not in li else li, List,[]))\n",
        "uniqueListElements([1,2,3,4,1,2,35,6,5,4,4,5])"
      ],
      "metadata": {
        "colab": {
          "base_uri": "https://localhost:8080/"
        },
        "outputId": "777bb7f8-f4b4-4962-f021-ab4fbca6d074",
        "id": "FCD0vlFlbMiz"
      },
      "execution_count": null,
      "outputs": [
        {
          "output_type": "execute_result",
          "data": {
            "text/plain": [
              "[1, 2, 3, 4, 35, 6, 5]"
            ]
          },
          "metadata": {},
          "execution_count": 34
        }
      ]
    },
    {
      "cell_type": "markdown",
      "source": [
        "### 24. Create a program that determines whether a given number is positive, negative, or zero using elif statements."
      ],
      "metadata": {
        "id": "keIyY_JLbMiz"
      }
    },
    {
      "cell_type": "code",
      "source": [
        "# for loop iterates over the given range and filters only those numbers that are palindrome\n",
        "palindromic_nums = lambda lower, upper : list(filter(lambda a: str(a) == str(a)[::-1],[i for i in range(lower,upper+1)]))\n",
        "palindromic_nums(lower = 50, upper = 200)"
      ],
      "metadata": {
        "colab": {
          "base_uri": "https://localhost:8080/"
        },
        "outputId": "339b9139-3c3f-48ff-bbc9-58df8d54559d",
        "id": "T8A4Uls3bMiz"
      },
      "execution_count": null,
      "outputs": [
        {
          "output_type": "execute_result",
          "data": {
            "text/plain": [
              "[55, 66, 77, 88, 99, 101, 111, 121, 131, 141, 151, 161, 171, 181, 191]"
            ]
          },
          "metadata": {},
          "execution_count": 3
        }
      ]
    },
    {
      "cell_type": "markdown",
      "source": [
        "### 25. Write a Python script to determine the type of a character (uppercase, lowercase, or special) using elif statements."
      ],
      "metadata": {
        "id": "uPTMQxUkbMi0"
      }
    },
    {
      "cell_type": "code",
      "source": [
        "# checking if ith row is a list, if yes add it as a list else append the element\n",
        "flattenNestedList = lambda List :  list(reduce(lambda li,i : li+[i] if type(i) != list else li + i, List,[]))\n",
        "print('Flattened List:',flattenNestedList([[0, 1, 2, 3, 4], [5, 6, 7, 8, 9, 10], [11, 12, 13, 14, 15]]))\n",
        "print('Flattened List:',flattenNestedList([[0, 1, 2, 3, 4], 5, 6, 7, 8, 9, 10 , [11, 12, 13, 14, 15]]))"
      ],
      "metadata": {
        "colab": {
          "base_uri": "https://localhost:8080/"
        },
        "outputId": "a73c20bf-4762-4c7d-ff7f-679f07abef6d",
        "id": "DHnxF_h4bMi0"
      },
      "execution_count": null,
      "outputs": [
        {
          "output_type": "stream",
          "name": "stdout",
          "text": [
            "Flattened List: [0, 1, 2, 3, 4, 5, 6, 7, 8, 9, 10, 11, 12, 13, 14, 15]\n",
            "Flattened List: [0, 1, 2, 3, 4, 5, 6, 7, 8, 9, 10, 11, 12, 13, 14, 15]\n"
          ]
        }
      ]
    },
    {
      "cell_type": "markdown",
      "source": [
        "### 26. Implement a program to calculate the discounted price based on different purchase amounts using elif statements."
      ],
      "metadata": {
        "id": "x9GH8CdKbMi0"
      }
    },
    {
      "cell_type": "code",
      "source": [
        "# solving the sum of even and odd numbers individually\n",
        "sumOddEvenNos = lambda List : (sum(i for i in List if i%2==0),sum(i for i in List if i%2==1))\n",
        "sumOddEvenNos([1, 2, 3, 4, 5, 6, 7, 8, 9, 10, 11, 12, 13, 14, 15])"
      ],
      "metadata": {
        "colab": {
          "base_uri": "https://localhost:8080/"
        },
        "outputId": "9272a39f-f7d7-4d53-aabc-e7928bd230bd",
        "id": "-nHKMdvObMi0"
      },
      "execution_count": null,
      "outputs": [
        {
          "output_type": "execute_result",
          "data": {
            "text/plain": [
              "(56, 64)"
            ]
          },
          "metadata": {},
          "execution_count": 1
        }
      ]
    },
    {
      "cell_type": "markdown",
      "source": [
        "### 27. Develop a program to calculate the electricity bill based on different consumption slabs using elif statements."
      ],
      "metadata": {
        "id": "vhNxks3qbMi0"
      }
    },
    {
      "cell_type": "code",
      "source": [
        "oddSquares = [i**2 for i in range(1,10) if i%2==1]\n",
        "oddSquares"
      ],
      "metadata": {
        "colab": {
          "base_uri": "https://localhost:8080/"
        },
        "outputId": "f1cb2275-78a2-4edb-c2f8-6e67da305396",
        "id": "dRhsUi0cbMi0"
      },
      "execution_count": null,
      "outputs": [
        {
          "output_type": "execute_result",
          "data": {
            "text/plain": [
              "[1, 9, 25, 49, 81]"
            ]
          },
          "metadata": {},
          "execution_count": 54
        }
      ]
    },
    {
      "cell_type": "markdown",
      "source": [
        "### 28. Create a program to determine the type of quadrilateral based on its angles and sides using elif statements."
      ],
      "metadata": {
        "id": "paMmAA5VbMi0"
      }
    },
    {
      "cell_type": "code",
      "source": [
        "# combining lists as dict\n",
        "combineListToDict = lambda list1,list2 : {list1[i]:list2[i] for i in range(len(list1))}\n",
        "combineListToDict([1,2,3,4,5],[1,4,9,16,25])"
      ],
      "metadata": {
        "colab": {
          "base_uri": "https://localhost:8080/"
        },
        "outputId": "01b63f39-f940-4d10-b8e8-2ae862ebdff9",
        "id": "NTiWXdiMbMi0"
      },
      "execution_count": null,
      "outputs": [
        {
          "output_type": "execute_result",
          "data": {
            "text/plain": [
              "{1: 1, 2: 4, 3: 9, 4: 16, 5: 25}"
            ]
          },
          "metadata": {},
          "execution_count": 58
        }
      ]
    },
    {
      "cell_type": "code",
      "source": [
        "# using map function to map the elements and then convert the map object into dict\n",
        "combinedListToDict = lambda keys, values : dict(map(lambda i,j : (i,j) , keys,values))\n",
        "combinedListToDict([1,2,3,4,5],[i**3 for i in range(1,6)])"
      ],
      "metadata": {
        "colab": {
          "base_uri": "https://localhost:8080/"
        },
        "id": "w9hZhkhQ3_BE",
        "outputId": "2b8e18ef-79db-4f34-e65b-a6408e351344"
      },
      "execution_count": null,
      "outputs": [
        {
          "output_type": "execute_result",
          "data": {
            "text/plain": [
              "{1: 1, 2: 8, 3: 27, 4: 64, 5: 125}"
            ]
          },
          "metadata": {},
          "execution_count": 59
        }
      ]
    },
    {
      "cell_type": "markdown",
      "source": [
        "### 29. Write a Python script to determine the season based on a user-provided month using elif statements."
      ],
      "metadata": {
        "id": "G81WvOwwbMi1"
      }
    },
    {
      "cell_type": "code",
      "source": [
        "# filter the vowels from the sting\n",
        "extractVowels = lambda string: list(filter(lambda char : char.lower() in 'aeiou', string))\n",
        "extractVowels(\"An Apple a day, keeps doctor away.\")"
      ],
      "metadata": {
        "colab": {
          "base_uri": "https://localhost:8080/"
        },
        "outputId": "61e286d0-528d-46eb-a8ba-13f13254e6b5",
        "id": "6HIt8z9_bMi1"
      },
      "execution_count": null,
      "outputs": [
        {
          "output_type": "execute_result",
          "data": {
            "text/plain": [
              "['A', 'A', 'e', 'a', 'a', 'e', 'e', 'o', 'o', 'a', 'a']"
            ]
          },
          "metadata": {},
          "execution_count": 2
        }
      ]
    },
    {
      "cell_type": "markdown",
      "source": [
        "### 30. Implement a program to determine the type of a year (leap or common) and month (30 or 31 days) using elif statements."
      ],
      "metadata": {
        "id": "xVRTa7I_bMi1"
      }
    },
    {
      "cell_type": "code",
      "source": [
        "# filter the digits from the strings and then join the respective values\n",
        "removeNonNumericChars1 = lambda List: list((''.join(list(filter(lambda x: x.isdigit(),string))) for string in List))\n",
        "removeNonNumericChars1(['Apple11','12311','alph@_,,.'])"
      ],
      "metadata": {
        "colab": {
          "base_uri": "https://localhost:8080/"
        },
        "outputId": "b939c59f-9f4c-4f6f-ea5c-abfcfcf65c91",
        "id": "0xtp6EQibMi1"
      },
      "execution_count": null,
      "outputs": [
        {
          "output_type": "execute_result",
          "data": {
            "text/plain": [
              "['11', '12311', '']"
            ]
          },
          "metadata": {},
          "execution_count": 3
        }
      ]
    },
    {
      "cell_type": "code",
      "source": [
        "removeNonNumericChars2 = lambda List: [''.join(list(i for i in string if i.isdigit())) for string in List]\n",
        "removeNonNumericChars2(['Apple11','12311','alph@_,,.'])"
      ],
      "metadata": {
        "colab": {
          "base_uri": "https://localhost:8080/"
        },
        "id": "w6ISB6ig7rJ5",
        "outputId": "dabefeee-05a9-4d26-ed40-22ed23a2000f"
      },
      "execution_count": null,
      "outputs": [
        {
          "output_type": "execute_result",
          "data": {
            "text/plain": [
              "['11', '12311', '']"
            ]
          },
          "metadata": {},
          "execution_count": 79
        }
      ]
    },
    {
      "cell_type": "markdown",
      "source": [
        "## Challenge Level"
      ],
      "metadata": {
        "id": "dP0KXaJt-sXA"
      }
    },
    {
      "cell_type": "markdown",
      "source": [
        "### 31. Write a program to generate a list of prime numbers using the Sieve of Eratosthenes algorithm and list comprehension."
      ],
      "metadata": {
        "id": "Rb71S5xR-sXL"
      }
    },
    {
      "cell_type": "code",
      "source": [
        "def sieveOfEratosthenes(limit):\n",
        "    is_prime = [True] * (limit + 1)\n",
        "    is_prime[0], is_prime[1] = False, False  # 0 and 1 are not prime numbers\n",
        "    # Use list comprehension to mark multiples of prime numbers as not prime by setting index value to False\n",
        "    [is_prime.__setitem__(slice(i*i, limit+1, i), [False]*len(range(i*i, limit+1, i))) for i in range(2, int(limit**0.5) + 1) if is_prime[i]]\n",
        "    # Use list comprehension to generate a list of prime numbers\n",
        "    primes = [num for num in range(2, limit + 1) if is_prime[num]]\n",
        "    return primes\n",
        "sieveOfEratosthenes(50)"
      ],
      "metadata": {
        "colab": {
          "base_uri": "https://localhost:8080/"
        },
        "id": "Fwio6V26ZlwZ",
        "outputId": "454c23ca-5ba9-494a-aafc-003727f3a1ba"
      },
      "execution_count": null,
      "outputs": [
        {
          "output_type": "execute_result",
          "data": {
            "text/plain": [
              "[2, 3, 5, 7, 11, 13, 17, 19, 23, 29, 31, 37, 41, 43, 47]"
            ]
          },
          "metadata": {},
          "execution_count": 50
        }
      ]
    },
    {
      "cell_type": "markdown",
      "source": [
        "### 32. Create a program that generates a list of all Pythagorean triplets up to a specified limit using list comprehension."
      ],
      "metadata": {
        "id": "CuAGpF98-sXL"
      }
    },
    {
      "cell_type": "code",
      "source": [
        "# combining the pythagorean triplets using 3 for loops and then check if they are triplets\n",
        "pythongoreanTriplets = lambda limit: [(i,j,k) for i in range(1, limit + 1) for j in range(i, limit + 1)for k in range(j, limit + 1) if i**2 + j**2 == k**2]\n",
        "pythongoreanTriplets(20)"
      ],
      "metadata": {
        "colab": {
          "base_uri": "https://localhost:8080/"
        },
        "outputId": "29c60e46-d55b-40dd-f65b-900d0ff25839",
        "id": "ILhWcS8M-sXL"
      },
      "execution_count": null,
      "outputs": [
        {
          "output_type": "execute_result",
          "data": {
            "text/plain": [
              "[(3, 4, 5), (5, 12, 13), (6, 8, 10), (8, 15, 17), (9, 12, 15), (12, 16, 20)]"
            ]
          },
          "metadata": {},
          "execution_count": 26
        }
      ]
    },
    {
      "cell_type": "markdown",
      "source": [
        "### 33. Develop a program that generates a list of all possible combinations of two lists using list comprehension."
      ],
      "metadata": {
        "id": "PWNtSS3q-sXM"
      }
    },
    {
      "cell_type": "code",
      "source": [
        "from itertools import product\n",
        "# product creates a cartisian product of list2 for length of list1 times, and then zips each Cartesian product and list1 and combine it as a list\n",
        "possibleCombinations = lambda list1,list2: [list(zip(list1,element))for element in product(list2, repeat = len(list1))]\n",
        "possibleCombinations([1,2,3],[5,6])"
      ],
      "metadata": {
        "colab": {
          "base_uri": "https://localhost:8080/"
        },
        "id": "S1Iv4YggPeOi",
        "outputId": "5dbc4063-9bd5-4aef-f708-274c785e6415"
      },
      "execution_count": null,
      "outputs": [
        {
          "output_type": "execute_result",
          "data": {
            "text/plain": [
              "[[(1, 5), (2, 5), (3, 5)],\n",
              " [(1, 5), (2, 5), (3, 6)],\n",
              " [(1, 5), (2, 6), (3, 5)],\n",
              " [(1, 5), (2, 6), (3, 6)],\n",
              " [(1, 6), (2, 5), (3, 5)],\n",
              " [(1, 6), (2, 5), (3, 6)],\n",
              " [(1, 6), (2, 6), (3, 5)],\n",
              " [(1, 6), (2, 6), (3, 6)]]"
            ]
          },
          "metadata": {},
          "execution_count": 4
        }
      ]
    },
    {
      "cell_type": "markdown",
      "source": [
        "### 34. Write a program that calculates the mean, median, and mode of a list of numbers using list comprehension."
      ],
      "metadata": {
        "id": "do56We39-sXM"
      }
    },
    {
      "cell_type": "code",
      "source": [
        "# using basic formula for finding the mean and median of the list\n",
        "Mean = lambda List: sum(i for i in List)/len(List)\n",
        "Median = lambda List: (List[len(List)//2]+List[len(List)//2-1])/2 if len(List)%2==0 else List[len(List)//2]\n",
        "list1 = [1,3,4,4,4,43,67,67,79,81]\n",
        "print('Mean:',Mean(list1))\n",
        "print('Median:',Median(list1))"
      ],
      "metadata": {
        "colab": {
          "base_uri": "https://localhost:8080/"
        },
        "outputId": "ecfea8c4-2757-4b52-cea0-e843fabce71b",
        "id": "bhxSZ46T-sXM"
      },
      "execution_count": null,
      "outputs": [
        {
          "output_type": "stream",
          "name": "stdout",
          "text": [
            "Mean: 35.3\n",
            "Median: 23.5\n"
          ]
        }
      ]
    },
    {
      "cell_type": "code",
      "source": [
        "from collections import Counter\n",
        "def Mode(List):\n",
        "  n = len(List)\n",
        "  # counter checks how many times each value is present in the list\n",
        "  data_count = Counter(List)\n",
        "  # convert the counter value into a dictionary\n",
        "  get_mode = dict(data_count)\n",
        "  # find the mode and append which value has max occurrence and returns no mode if all occur elements occur once\n",
        "  mode = [k for k, v in get_mode.items() if v == max(list(data_count.values()))]\n",
        "  if len(mode) == n:\n",
        "    return 'No Mode'\n",
        "  else:\n",
        "    return mode"
      ],
      "metadata": {
        "id": "k2fkDrwz48ps"
      },
      "execution_count": null,
      "outputs": []
    },
    {
      "cell_type": "code",
      "source": [
        "print('Mode:',Mode(list1))"
      ],
      "metadata": {
        "colab": {
          "base_uri": "https://localhost:8080/"
        },
        "id": "0oN2dKhU6sF8",
        "outputId": "4e8179ce-2fbe-4587-f703-26743a51ef25"
      },
      "execution_count": null,
      "outputs": [
        {
          "output_type": "stream",
          "name": "stdout",
          "text": [
            "Mode: [4]\n"
          ]
        }
      ]
    },
    {
      "cell_type": "markdown",
      "source": [
        "### 35. Create a program that generates Pascal's triangle up to a specified number of rows using list comprehension."
      ],
      "metadata": {
        "id": "FrRY8zi1-sXM"
      }
    },
    {
      "cell_type": "markdown",
      "source": [
        "https://www.britannica.com/science/Pascals-triangle"
      ],
      "metadata": {
        "id": "jFcMvZ-ZFKvx"
      }
    },
    {
      "cell_type": "code",
      "source": [
        "from math import factorial as fact\n",
        "# generate a sub list for each line of pascal triangle using the inner loop\n",
        "rows = lambda n: [[int(fact(i) / (fact(k) * fact(i - k))) for k in range(i + 1)] for i in range(n)]\n",
        "print(*rows(5), sep=\"\\n\")"
      ],
      "metadata": {
        "colab": {
          "base_uri": "https://localhost:8080/"
        },
        "id": "8cbsiFLx9R57",
        "outputId": "5e3e1f34-dde9-4415-8db1-589d7d99b06d"
      },
      "execution_count": null,
      "outputs": [
        {
          "output_type": "stream",
          "name": "stdout",
          "text": [
            "[1]\n",
            "[1, 1]\n",
            "[1, 2, 1]\n",
            "[1, 3, 3, 1]\n",
            "[1, 4, 6, 4, 1]\n"
          ]
        }
      ]
    },
    {
      "cell_type": "markdown",
      "source": [
        "### 36. Develop a program that calculates the sum of the digits of a factorial of numbers from 1 to 5 using list comprehension."
      ],
      "metadata": {
        "id": "YW95dH96-sXM"
      }
    },
    {
      "cell_type": "code",
      "source": [
        "# using reduce to find the sum of the factorial of nos. factorial is found using the fact function\n",
        "sum_of_digits = reduce(lambda a,b : a+b ,[fact(i) for i in range(1,6)])\n",
        "sum_of_digits"
      ],
      "metadata": {
        "colab": {
          "base_uri": "https://localhost:8080/"
        },
        "outputId": "fbc6efe6-12b0-4b97-b00c-ba7847ea247a",
        "id": "05W_tDFJ-sXN"
      },
      "execution_count": null,
      "outputs": [
        {
          "output_type": "execute_result",
          "data": {
            "text/plain": [
              "153"
            ]
          },
          "metadata": {},
          "execution_count": 10
        }
      ]
    },
    {
      "cell_type": "code",
      "source": [
        "# using reduce to find the sum of the factorial of nos.\n",
        "# using reduce function to find the factorial of the ith no\n",
        "sum_of_digits = reduce(lambda a,b : a+b ,[reduce(lambda a,b : a*b ,range(1,i+1)) for i in range(1,6)])\n",
        "sum_of_digits"
      ],
      "metadata": {
        "colab": {
          "base_uri": "https://localhost:8080/"
        },
        "id": "kTQcRJXaEMJh",
        "outputId": "c51f5d6c-3c7f-4191-cca2-4afada05e5bf"
      },
      "execution_count": null,
      "outputs": [
        {
          "output_type": "execute_result",
          "data": {
            "text/plain": [
              "153"
            ]
          },
          "metadata": {},
          "execution_count": 15
        }
      ]
    },
    {
      "cell_type": "markdown",
      "source": [
        "### 37. Write a program that finds the longest word in a sentence using list comprehension."
      ],
      "metadata": {
        "id": "a5MFZPfP-sXN"
      }
    },
    {
      "cell_type": "code",
      "source": [
        "def longestWord(string):\n",
        "  # Find the length of the longest word(s)\n",
        "  max_length = max(len(word) for word in string.split())\n",
        "  # Filter and collect the longest word(s)\n",
        "  longest_words = [word for word in string.split() if len(word) == max_length]\n",
        "  return longest_words\n",
        "longestWord('This is a sample sentence')"
      ],
      "metadata": {
        "colab": {
          "base_uri": "https://localhost:8080/"
        },
        "outputId": "bb476645-0d20-4459-c881-a17db4762127",
        "id": "eWqd70M3-sXN"
      },
      "execution_count": null,
      "outputs": [
        {
          "output_type": "execute_result",
          "data": {
            "text/plain": [
              "['sentence']"
            ]
          },
          "metadata": {},
          "execution_count": 13
        }
      ]
    },
    {
      "cell_type": "markdown",
      "source": [
        "### 38. Create a program that filters a list of strings to include only those with more than three vowels using list comprehension."
      ],
      "metadata": {
        "id": "tmRPFGWv-sXN"
      }
    },
    {
      "cell_type": "code",
      "source": [
        "# split the string wrt spaces, and find the sum of all the vowels in it. If sum is more than 3 it get added to the list\n",
        "filterStringsWithMoreVowels = lambda strings : [word for word in strings.split() if sum(1 for i in word if i.lower() in 'aeiou') > 3 ]\n",
        "filterStringsWithMoreVowels('In English and many other languages, the first word of a written sentence has a capital letter.')"
      ],
      "metadata": {
        "colab": {
          "base_uri": "https://localhost:8080/"
        },
        "outputId": "c0db6539-cfc9-4b61-a4be-877cbb5f85d9",
        "id": "0MFN6_8a-sXN"
      },
      "execution_count": null,
      "outputs": [
        {
          "output_type": "execute_result",
          "data": {
            "text/plain": [
              "['languages,']"
            ]
          },
          "metadata": {},
          "execution_count": 17
        }
      ]
    },
    {
      "cell_type": "markdown",
      "source": [
        "### 39. Develop a program that calculates the sum of the digits of numbers from 1 to 1000 using list comprehension."
      ],
      "metadata": {
        "id": "4NHHrUd1-sXN"
      }
    },
    {
      "cell_type": "code",
      "source": [
        "# converting each number into string and then iterating over it for individual digits and then converting it to int to sum it up\n",
        "sum_of_digits_1_1000 = [sum(int(i)for i in str(num)) for num in range(1,1001)]\n",
        "sum_of_digits_1_1000"
      ],
      "metadata": {
        "colab": {
          "base_uri": "https://localhost:8080/"
        },
        "outputId": "807c3c96-1275-43cf-900e-6e7594a48c3f",
        "id": "AtGRyJEN-sXN"
      },
      "execution_count": null,
      "outputs": [
        {
          "output_type": "execute_result",
          "data": {
            "text/plain": [
              "[1,\n",
              " 2,\n",
              " 3,\n",
              " 4,\n",
              " 5,\n",
              " 6,\n",
              " 7,\n",
              " 8,\n",
              " 9,\n",
              " 1,\n",
              " 2,\n",
              " 3,\n",
              " 4,\n",
              " 5,\n",
              " 6,\n",
              " 7,\n",
              " 8,\n",
              " 9,\n",
              " 10,\n",
              " 2,\n",
              " 3,\n",
              " 4,\n",
              " 5,\n",
              " 6,\n",
              " 7,\n",
              " 8,\n",
              " 9,\n",
              " 10,\n",
              " 11,\n",
              " 3,\n",
              " 4,\n",
              " 5,\n",
              " 6,\n",
              " 7,\n",
              " 8,\n",
              " 9,\n",
              " 10,\n",
              " 11,\n",
              " 12,\n",
              " 4,\n",
              " 5,\n",
              " 6,\n",
              " 7,\n",
              " 8,\n",
              " 9,\n",
              " 10,\n",
              " 11,\n",
              " 12,\n",
              " 13,\n",
              " 5,\n",
              " 6,\n",
              " 7,\n",
              " 8,\n",
              " 9,\n",
              " 10,\n",
              " 11,\n",
              " 12,\n",
              " 13,\n",
              " 14,\n",
              " 6,\n",
              " 7,\n",
              " 8,\n",
              " 9,\n",
              " 10,\n",
              " 11,\n",
              " 12,\n",
              " 13,\n",
              " 14,\n",
              " 15,\n",
              " 7,\n",
              " 8,\n",
              " 9,\n",
              " 10,\n",
              " 11,\n",
              " 12,\n",
              " 13,\n",
              " 14,\n",
              " 15,\n",
              " 16,\n",
              " 8,\n",
              " 9,\n",
              " 10,\n",
              " 11,\n",
              " 12,\n",
              " 13,\n",
              " 14,\n",
              " 15,\n",
              " 16,\n",
              " 17,\n",
              " 9,\n",
              " 10,\n",
              " 11,\n",
              " 12,\n",
              " 13,\n",
              " 14,\n",
              " 15,\n",
              " 16,\n",
              " 17,\n",
              " 18,\n",
              " 1,\n",
              " 2,\n",
              " 3,\n",
              " 4,\n",
              " 5,\n",
              " 6,\n",
              " 7,\n",
              " 8,\n",
              " 9,\n",
              " 10,\n",
              " 2,\n",
              " 3,\n",
              " 4,\n",
              " 5,\n",
              " 6,\n",
              " 7,\n",
              " 8,\n",
              " 9,\n",
              " 10,\n",
              " 11,\n",
              " 3,\n",
              " 4,\n",
              " 5,\n",
              " 6,\n",
              " 7,\n",
              " 8,\n",
              " 9,\n",
              " 10,\n",
              " 11,\n",
              " 12,\n",
              " 4,\n",
              " 5,\n",
              " 6,\n",
              " 7,\n",
              " 8,\n",
              " 9,\n",
              " 10,\n",
              " 11,\n",
              " 12,\n",
              " 13,\n",
              " 5,\n",
              " 6,\n",
              " 7,\n",
              " 8,\n",
              " 9,\n",
              " 10,\n",
              " 11,\n",
              " 12,\n",
              " 13,\n",
              " 14,\n",
              " 6,\n",
              " 7,\n",
              " 8,\n",
              " 9,\n",
              " 10,\n",
              " 11,\n",
              " 12,\n",
              " 13,\n",
              " 14,\n",
              " 15,\n",
              " 7,\n",
              " 8,\n",
              " 9,\n",
              " 10,\n",
              " 11,\n",
              " 12,\n",
              " 13,\n",
              " 14,\n",
              " 15,\n",
              " 16,\n",
              " 8,\n",
              " 9,\n",
              " 10,\n",
              " 11,\n",
              " 12,\n",
              " 13,\n",
              " 14,\n",
              " 15,\n",
              " 16,\n",
              " 17,\n",
              " 9,\n",
              " 10,\n",
              " 11,\n",
              " 12,\n",
              " 13,\n",
              " 14,\n",
              " 15,\n",
              " 16,\n",
              " 17,\n",
              " 18,\n",
              " 10,\n",
              " 11,\n",
              " 12,\n",
              " 13,\n",
              " 14,\n",
              " 15,\n",
              " 16,\n",
              " 17,\n",
              " 18,\n",
              " 19,\n",
              " 2,\n",
              " 3,\n",
              " 4,\n",
              " 5,\n",
              " 6,\n",
              " 7,\n",
              " 8,\n",
              " 9,\n",
              " 10,\n",
              " 11,\n",
              " 3,\n",
              " 4,\n",
              " 5,\n",
              " 6,\n",
              " 7,\n",
              " 8,\n",
              " 9,\n",
              " 10,\n",
              " 11,\n",
              " 12,\n",
              " 4,\n",
              " 5,\n",
              " 6,\n",
              " 7,\n",
              " 8,\n",
              " 9,\n",
              " 10,\n",
              " 11,\n",
              " 12,\n",
              " 13,\n",
              " 5,\n",
              " 6,\n",
              " 7,\n",
              " 8,\n",
              " 9,\n",
              " 10,\n",
              " 11,\n",
              " 12,\n",
              " 13,\n",
              " 14,\n",
              " 6,\n",
              " 7,\n",
              " 8,\n",
              " 9,\n",
              " 10,\n",
              " 11,\n",
              " 12,\n",
              " 13,\n",
              " 14,\n",
              " 15,\n",
              " 7,\n",
              " 8,\n",
              " 9,\n",
              " 10,\n",
              " 11,\n",
              " 12,\n",
              " 13,\n",
              " 14,\n",
              " 15,\n",
              " 16,\n",
              " 8,\n",
              " 9,\n",
              " 10,\n",
              " 11,\n",
              " 12,\n",
              " 13,\n",
              " 14,\n",
              " 15,\n",
              " 16,\n",
              " 17,\n",
              " 9,\n",
              " 10,\n",
              " 11,\n",
              " 12,\n",
              " 13,\n",
              " 14,\n",
              " 15,\n",
              " 16,\n",
              " 17,\n",
              " 18,\n",
              " 10,\n",
              " 11,\n",
              " 12,\n",
              " 13,\n",
              " 14,\n",
              " 15,\n",
              " 16,\n",
              " 17,\n",
              " 18,\n",
              " 19,\n",
              " 11,\n",
              " 12,\n",
              " 13,\n",
              " 14,\n",
              " 15,\n",
              " 16,\n",
              " 17,\n",
              " 18,\n",
              " 19,\n",
              " 20,\n",
              " 3,\n",
              " 4,\n",
              " 5,\n",
              " 6,\n",
              " 7,\n",
              " 8,\n",
              " 9,\n",
              " 10,\n",
              " 11,\n",
              " 12,\n",
              " 4,\n",
              " 5,\n",
              " 6,\n",
              " 7,\n",
              " 8,\n",
              " 9,\n",
              " 10,\n",
              " 11,\n",
              " 12,\n",
              " 13,\n",
              " 5,\n",
              " 6,\n",
              " 7,\n",
              " 8,\n",
              " 9,\n",
              " 10,\n",
              " 11,\n",
              " 12,\n",
              " 13,\n",
              " 14,\n",
              " 6,\n",
              " 7,\n",
              " 8,\n",
              " 9,\n",
              " 10,\n",
              " 11,\n",
              " 12,\n",
              " 13,\n",
              " 14,\n",
              " 15,\n",
              " 7,\n",
              " 8,\n",
              " 9,\n",
              " 10,\n",
              " 11,\n",
              " 12,\n",
              " 13,\n",
              " 14,\n",
              " 15,\n",
              " 16,\n",
              " 8,\n",
              " 9,\n",
              " 10,\n",
              " 11,\n",
              " 12,\n",
              " 13,\n",
              " 14,\n",
              " 15,\n",
              " 16,\n",
              " 17,\n",
              " 9,\n",
              " 10,\n",
              " 11,\n",
              " 12,\n",
              " 13,\n",
              " 14,\n",
              " 15,\n",
              " 16,\n",
              " 17,\n",
              " 18,\n",
              " 10,\n",
              " 11,\n",
              " 12,\n",
              " 13,\n",
              " 14,\n",
              " 15,\n",
              " 16,\n",
              " 17,\n",
              " 18,\n",
              " 19,\n",
              " 11,\n",
              " 12,\n",
              " 13,\n",
              " 14,\n",
              " 15,\n",
              " 16,\n",
              " 17,\n",
              " 18,\n",
              " 19,\n",
              " 20,\n",
              " 12,\n",
              " 13,\n",
              " 14,\n",
              " 15,\n",
              " 16,\n",
              " 17,\n",
              " 18,\n",
              " 19,\n",
              " 20,\n",
              " 21,\n",
              " 4,\n",
              " 5,\n",
              " 6,\n",
              " 7,\n",
              " 8,\n",
              " 9,\n",
              " 10,\n",
              " 11,\n",
              " 12,\n",
              " 13,\n",
              " 5,\n",
              " 6,\n",
              " 7,\n",
              " 8,\n",
              " 9,\n",
              " 10,\n",
              " 11,\n",
              " 12,\n",
              " 13,\n",
              " 14,\n",
              " 6,\n",
              " 7,\n",
              " 8,\n",
              " 9,\n",
              " 10,\n",
              " 11,\n",
              " 12,\n",
              " 13,\n",
              " 14,\n",
              " 15,\n",
              " 7,\n",
              " 8,\n",
              " 9,\n",
              " 10,\n",
              " 11,\n",
              " 12,\n",
              " 13,\n",
              " 14,\n",
              " 15,\n",
              " 16,\n",
              " 8,\n",
              " 9,\n",
              " 10,\n",
              " 11,\n",
              " 12,\n",
              " 13,\n",
              " 14,\n",
              " 15,\n",
              " 16,\n",
              " 17,\n",
              " 9,\n",
              " 10,\n",
              " 11,\n",
              " 12,\n",
              " 13,\n",
              " 14,\n",
              " 15,\n",
              " 16,\n",
              " 17,\n",
              " 18,\n",
              " 10,\n",
              " 11,\n",
              " 12,\n",
              " 13,\n",
              " 14,\n",
              " 15,\n",
              " 16,\n",
              " 17,\n",
              " 18,\n",
              " 19,\n",
              " 11,\n",
              " 12,\n",
              " 13,\n",
              " 14,\n",
              " 15,\n",
              " 16,\n",
              " 17,\n",
              " 18,\n",
              " 19,\n",
              " 20,\n",
              " 12,\n",
              " 13,\n",
              " 14,\n",
              " 15,\n",
              " 16,\n",
              " 17,\n",
              " 18,\n",
              " 19,\n",
              " 20,\n",
              " 21,\n",
              " 13,\n",
              " 14,\n",
              " 15,\n",
              " 16,\n",
              " 17,\n",
              " 18,\n",
              " 19,\n",
              " 20,\n",
              " 21,\n",
              " 22,\n",
              " 5,\n",
              " 6,\n",
              " 7,\n",
              " 8,\n",
              " 9,\n",
              " 10,\n",
              " 11,\n",
              " 12,\n",
              " 13,\n",
              " 14,\n",
              " 6,\n",
              " 7,\n",
              " 8,\n",
              " 9,\n",
              " 10,\n",
              " 11,\n",
              " 12,\n",
              " 13,\n",
              " 14,\n",
              " 15,\n",
              " 7,\n",
              " 8,\n",
              " 9,\n",
              " 10,\n",
              " 11,\n",
              " 12,\n",
              " 13,\n",
              " 14,\n",
              " 15,\n",
              " 16,\n",
              " 8,\n",
              " 9,\n",
              " 10,\n",
              " 11,\n",
              " 12,\n",
              " 13,\n",
              " 14,\n",
              " 15,\n",
              " 16,\n",
              " 17,\n",
              " 9,\n",
              " 10,\n",
              " 11,\n",
              " 12,\n",
              " 13,\n",
              " 14,\n",
              " 15,\n",
              " 16,\n",
              " 17,\n",
              " 18,\n",
              " 10,\n",
              " 11,\n",
              " 12,\n",
              " 13,\n",
              " 14,\n",
              " 15,\n",
              " 16,\n",
              " 17,\n",
              " 18,\n",
              " 19,\n",
              " 11,\n",
              " 12,\n",
              " 13,\n",
              " 14,\n",
              " 15,\n",
              " 16,\n",
              " 17,\n",
              " 18,\n",
              " 19,\n",
              " 20,\n",
              " 12,\n",
              " 13,\n",
              " 14,\n",
              " 15,\n",
              " 16,\n",
              " 17,\n",
              " 18,\n",
              " 19,\n",
              " 20,\n",
              " 21,\n",
              " 13,\n",
              " 14,\n",
              " 15,\n",
              " 16,\n",
              " 17,\n",
              " 18,\n",
              " 19,\n",
              " 20,\n",
              " 21,\n",
              " 22,\n",
              " 14,\n",
              " 15,\n",
              " 16,\n",
              " 17,\n",
              " 18,\n",
              " 19,\n",
              " 20,\n",
              " 21,\n",
              " 22,\n",
              " 23,\n",
              " 6,\n",
              " 7,\n",
              " 8,\n",
              " 9,\n",
              " 10,\n",
              " 11,\n",
              " 12,\n",
              " 13,\n",
              " 14,\n",
              " 15,\n",
              " 7,\n",
              " 8,\n",
              " 9,\n",
              " 10,\n",
              " 11,\n",
              " 12,\n",
              " 13,\n",
              " 14,\n",
              " 15,\n",
              " 16,\n",
              " 8,\n",
              " 9,\n",
              " 10,\n",
              " 11,\n",
              " 12,\n",
              " 13,\n",
              " 14,\n",
              " 15,\n",
              " 16,\n",
              " 17,\n",
              " 9,\n",
              " 10,\n",
              " 11,\n",
              " 12,\n",
              " 13,\n",
              " 14,\n",
              " 15,\n",
              " 16,\n",
              " 17,\n",
              " 18,\n",
              " 10,\n",
              " 11,\n",
              " 12,\n",
              " 13,\n",
              " 14,\n",
              " 15,\n",
              " 16,\n",
              " 17,\n",
              " 18,\n",
              " 19,\n",
              " 11,\n",
              " 12,\n",
              " 13,\n",
              " 14,\n",
              " 15,\n",
              " 16,\n",
              " 17,\n",
              " 18,\n",
              " 19,\n",
              " 20,\n",
              " 12,\n",
              " 13,\n",
              " 14,\n",
              " 15,\n",
              " 16,\n",
              " 17,\n",
              " 18,\n",
              " 19,\n",
              " 20,\n",
              " 21,\n",
              " 13,\n",
              " 14,\n",
              " 15,\n",
              " 16,\n",
              " 17,\n",
              " 18,\n",
              " 19,\n",
              " 20,\n",
              " 21,\n",
              " 22,\n",
              " 14,\n",
              " 15,\n",
              " 16,\n",
              " 17,\n",
              " 18,\n",
              " 19,\n",
              " 20,\n",
              " 21,\n",
              " 22,\n",
              " 23,\n",
              " 15,\n",
              " 16,\n",
              " 17,\n",
              " 18,\n",
              " 19,\n",
              " 20,\n",
              " 21,\n",
              " 22,\n",
              " 23,\n",
              " 24,\n",
              " 7,\n",
              " 8,\n",
              " 9,\n",
              " 10,\n",
              " 11,\n",
              " 12,\n",
              " 13,\n",
              " 14,\n",
              " 15,\n",
              " 16,\n",
              " 8,\n",
              " 9,\n",
              " 10,\n",
              " 11,\n",
              " 12,\n",
              " 13,\n",
              " 14,\n",
              " 15,\n",
              " 16,\n",
              " 17,\n",
              " 9,\n",
              " 10,\n",
              " 11,\n",
              " 12,\n",
              " 13,\n",
              " 14,\n",
              " 15,\n",
              " 16,\n",
              " 17,\n",
              " 18,\n",
              " 10,\n",
              " 11,\n",
              " 12,\n",
              " 13,\n",
              " 14,\n",
              " 15,\n",
              " 16,\n",
              " 17,\n",
              " 18,\n",
              " 19,\n",
              " 11,\n",
              " 12,\n",
              " 13,\n",
              " 14,\n",
              " 15,\n",
              " 16,\n",
              " 17,\n",
              " 18,\n",
              " 19,\n",
              " 20,\n",
              " 12,\n",
              " 13,\n",
              " 14,\n",
              " 15,\n",
              " 16,\n",
              " 17,\n",
              " 18,\n",
              " 19,\n",
              " 20,\n",
              " 21,\n",
              " 13,\n",
              " 14,\n",
              " 15,\n",
              " 16,\n",
              " 17,\n",
              " 18,\n",
              " 19,\n",
              " 20,\n",
              " 21,\n",
              " 22,\n",
              " 14,\n",
              " 15,\n",
              " 16,\n",
              " 17,\n",
              " 18,\n",
              " 19,\n",
              " 20,\n",
              " 21,\n",
              " 22,\n",
              " 23,\n",
              " 15,\n",
              " 16,\n",
              " 17,\n",
              " 18,\n",
              " 19,\n",
              " 20,\n",
              " 21,\n",
              " 22,\n",
              " 23,\n",
              " 24,\n",
              " 16,\n",
              " 17,\n",
              " 18,\n",
              " 19,\n",
              " 20,\n",
              " 21,\n",
              " 22,\n",
              " 23,\n",
              " 24,\n",
              " 25,\n",
              " 8,\n",
              " 9,\n",
              " 10,\n",
              " 11,\n",
              " 12,\n",
              " 13,\n",
              " 14,\n",
              " 15,\n",
              " 16,\n",
              " 17,\n",
              " 9,\n",
              " 10,\n",
              " 11,\n",
              " 12,\n",
              " 13,\n",
              " 14,\n",
              " 15,\n",
              " 16,\n",
              " 17,\n",
              " 18,\n",
              " 10,\n",
              " 11,\n",
              " 12,\n",
              " 13,\n",
              " 14,\n",
              " 15,\n",
              " 16,\n",
              " 17,\n",
              " 18,\n",
              " 19,\n",
              " 11,\n",
              " 12,\n",
              " 13,\n",
              " 14,\n",
              " 15,\n",
              " 16,\n",
              " 17,\n",
              " 18,\n",
              " 19,\n",
              " 20,\n",
              " 12,\n",
              " 13,\n",
              " 14,\n",
              " 15,\n",
              " 16,\n",
              " 17,\n",
              " 18,\n",
              " 19,\n",
              " 20,\n",
              " 21,\n",
              " 13,\n",
              " 14,\n",
              " 15,\n",
              " 16,\n",
              " 17,\n",
              " 18,\n",
              " 19,\n",
              " 20,\n",
              " 21,\n",
              " 22,\n",
              " 14,\n",
              " 15,\n",
              " 16,\n",
              " 17,\n",
              " 18,\n",
              " 19,\n",
              " 20,\n",
              " 21,\n",
              " 22,\n",
              " 23,\n",
              " 15,\n",
              " 16,\n",
              " 17,\n",
              " 18,\n",
              " 19,\n",
              " 20,\n",
              " 21,\n",
              " 22,\n",
              " 23,\n",
              " 24,\n",
              " 16,\n",
              " 17,\n",
              " 18,\n",
              " 19,\n",
              " 20,\n",
              " 21,\n",
              " 22,\n",
              " 23,\n",
              " 24,\n",
              " 25,\n",
              " 17,\n",
              " 18,\n",
              " 19,\n",
              " 20,\n",
              " 21,\n",
              " 22,\n",
              " 23,\n",
              " 24,\n",
              " 25,\n",
              " 26,\n",
              " 9,\n",
              " 10,\n",
              " 11,\n",
              " 12,\n",
              " 13,\n",
              " 14,\n",
              " 15,\n",
              " 16,\n",
              " 17,\n",
              " 18,\n",
              " 10,\n",
              " 11,\n",
              " 12,\n",
              " 13,\n",
              " 14,\n",
              " 15,\n",
              " 16,\n",
              " 17,\n",
              " 18,\n",
              " 19,\n",
              " 11,\n",
              " 12,\n",
              " 13,\n",
              " 14,\n",
              " 15,\n",
              " 16,\n",
              " 17,\n",
              " 18,\n",
              " 19,\n",
              " 20,\n",
              " 12,\n",
              " 13,\n",
              " 14,\n",
              " 15,\n",
              " 16,\n",
              " 17,\n",
              " 18,\n",
              " 19,\n",
              " 20,\n",
              " 21,\n",
              " 13,\n",
              " 14,\n",
              " 15,\n",
              " 16,\n",
              " 17,\n",
              " 18,\n",
              " 19,\n",
              " 20,\n",
              " 21,\n",
              " 22,\n",
              " 14,\n",
              " 15,\n",
              " 16,\n",
              " 17,\n",
              " 18,\n",
              " 19,\n",
              " 20,\n",
              " 21,\n",
              " 22,\n",
              " 23,\n",
              " 15,\n",
              " 16,\n",
              " 17,\n",
              " 18,\n",
              " 19,\n",
              " 20,\n",
              " 21,\n",
              " 22,\n",
              " 23,\n",
              " 24,\n",
              " 16,\n",
              " 17,\n",
              " 18,\n",
              " 19,\n",
              " 20,\n",
              " 21,\n",
              " 22,\n",
              " 23,\n",
              " 24,\n",
              " 25,\n",
              " 17,\n",
              " 18,\n",
              " 19,\n",
              " 20,\n",
              " 21,\n",
              " 22,\n",
              " 23,\n",
              " 24,\n",
              " 25,\n",
              " 26,\n",
              " 18,\n",
              " 19,\n",
              " 20,\n",
              " 21,\n",
              " 22,\n",
              " 23,\n",
              " 24,\n",
              " 25,\n",
              " 26,\n",
              " 27,\n",
              " 1]"
            ]
          },
          "metadata": {},
          "execution_count": 16
        }
      ]
    },
    {
      "cell_type": "markdown",
      "source": [
        "### 40. Write a program that generates a list of prime palindromic numbers using list comprehension."
      ],
      "metadata": {
        "id": "Mxr7AZFA-sXO"
      }
    },
    {
      "cell_type": "code",
      "source": [
        "# first extracting all the prime numbers in the given limit and then finding which numbers are palindrome using filter\n",
        "primePlaindromicNumbers = lambda lower,upper : list(filter(lambda a: str(a) == str(a)[::-1] ,[i for i in range(lower,upper+1) if all(i%j != 0 for j in range(2,int(i**0.5)+1))]))\n",
        "primePlaindromicNumbers(1,500)"
      ],
      "metadata": {
        "colab": {
          "base_uri": "https://localhost:8080/"
        },
        "outputId": "639e3354-4638-4e7f-b105-e334370d29cc",
        "id": "LaY-kq8r-sXO"
      },
      "execution_count": null,
      "outputs": [
        {
          "output_type": "execute_result",
          "data": {
            "text/plain": [
              "[1, 2, 3, 5, 7, 11, 101, 131, 151, 181, 191, 313, 353, 373, 383]"
            ]
          },
          "metadata": {},
          "execution_count": 29
        }
      ]
    }
  ]
}