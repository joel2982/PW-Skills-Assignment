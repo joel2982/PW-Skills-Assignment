{
  "nbformat": 4,
  "nbformat_minor": 0,
  "metadata": {
    "colab": {
      "provenance": [],
      "collapsed_sections": [
        "lpbCUtU8q71m",
        "41CoAVqU4HfU",
        "8DCHSLC4bMio",
        "v44hm0JCTCHc",
        "D-BuvxnCTCHa",
        "tmmJa3LVTCHa",
        "DM4VruDdTCHb",
        "voi6-dcJgCDU",
        "F7i9e4r8g--A",
        "KpIy3dAZfxSd",
        "OYenLwRoTCHe",
        "hl2VmZd2TCHf",
        "mSB6aoUlj7Gr",
        "IFSZP636kTVz",
        "bK15QCiblrNi",
        "vkTWv33_TCHb",
        "wViYzWl3TCHd",
        "DkQPgdIZTCHe",
        "QTmsZmwoTCHf",
        "Lvucng2wTCHf",
        "7tT-cxElTCHg",
        "S0H5BX9RTCHg",
        "hTy1z2Q1TCHj",
        "QMwTDThzTCHk",
        "wA8Ze67GTCHk",
        "k6rtgiC6TCHk",
        "bE9AEkSSTCHl",
        "6Pnb81KzTCHj",
        "7hfXgeI7TCHl",
        "0G-By7QsTCHl"
      ],
      "authorship_tag": "ABX9TyMGbvwSkj3CfJXzkRlc+KQd",
      "include_colab_link": true
    },
    "kernelspec": {
      "name": "python3",
      "display_name": "Python 3"
    },
    "language_info": {
      "name": "python"
    }
  },
  "cells": [
    {
      "cell_type": "markdown",
      "metadata": {
        "id": "view-in-github",
        "colab_type": "text"
      },
      "source": [
        "<a href=\"https://colab.research.google.com/github/joel2982/PW-Skills-Assignment/blob/master/3rd_September_Control_Flow_Assignment_Questions.ipynb\" target=\"_parent\"><img src=\"https://colab.research.google.com/assets/colab-badge.svg\" alt=\"Open In Colab\"/></a>"
      ]
    },
    {
      "cell_type": "markdown",
      "source": [
        "## Basic If-Else Statements"
      ],
      "metadata": {
        "id": "lpbCUtU8q71m"
      }
    },
    {
      "cell_type": "markdown",
      "source": [
        "### 1. Write a Python program to check if a given number is positive or negative."
      ],
      "metadata": {
        "id": "xuAwpXDxrFtp"
      }
    },
    {
      "cell_type": "code",
      "execution_count": null,
      "metadata": {
        "colab": {
          "base_uri": "https://localhost:8080/",
          "height": 36
        },
        "id": "Sio_lN26qAXa",
        "outputId": "396fcba6-cfa2-438e-8b61-46d303843bd4"
      },
      "outputs": [
        {
          "output_type": "execute_result",
          "data": {
            "text/plain": [
              "'Negative'"
            ],
            "application/vnd.google.colaboratory.intrinsic+json": {
              "type": "string"
            }
          },
          "metadata": {},
          "execution_count": 2
        }
      ],
      "source": [
        "def positiveNegative(num):\n",
        "  '''check if num is positive or negative\n",
        "\n",
        "  Parameters\n",
        "  num: int/float value\n",
        "\n",
        "  Returns\n",
        "  str value\n",
        "  '''\n",
        "  if num >= 0:\n",
        "    return 'Positve'\n",
        "  else:\n",
        "    return 'Negative'\n",
        "positiveNegative(-12)"
      ]
    },
    {
      "cell_type": "code",
      "source": [
        "positiveNegative(12)"
      ],
      "metadata": {
        "colab": {
          "base_uri": "https://localhost:8080/",
          "height": 36
        },
        "id": "BAwvxy9945YD",
        "outputId": "12184e13-926c-4717-8773-88034c6af8c9"
      },
      "execution_count": null,
      "outputs": [
        {
          "output_type": "execute_result",
          "data": {
            "text/plain": [
              "'Positve'"
            ],
            "application/vnd.google.colaboratory.intrinsic+json": {
              "type": "string"
            }
          },
          "metadata": {},
          "execution_count": 3
        }
      ]
    },
    {
      "cell_type": "markdown",
      "source": [
        "### 2. Create a program that determines if a person is eligible to vote based on their age."
      ],
      "metadata": {
        "id": "0iJ8kDfhscLB"
      }
    },
    {
      "cell_type": "code",
      "source": [
        "def eligibleToVote(age):\n",
        "  '''check if the person is eligible to vote\n",
        "\n",
        "  Parameters\n",
        "  age: int/float value\n",
        "\n",
        "  Returns\n",
        "  bool value\n",
        "  '''\n",
        "  if age >= 18:\n",
        "    return True\n",
        "  else:\n",
        "    return False\n",
        "eligibleToVote(21)"
      ],
      "metadata": {
        "colab": {
          "base_uri": "https://localhost:8080/"
        },
        "id": "tNg4Rpb0tS-Z",
        "outputId": "aa0b9b31-0d29-496c-c603-a2bb0d84026a"
      },
      "execution_count": null,
      "outputs": [
        {
          "output_type": "execute_result",
          "data": {
            "text/plain": [
              "True"
            ]
          },
          "metadata": {},
          "execution_count": 4
        }
      ]
    },
    {
      "cell_type": "code",
      "source": [
        "eligibleToVote(16)"
      ],
      "metadata": {
        "colab": {
          "base_uri": "https://localhost:8080/"
        },
        "id": "Mvte062w593L",
        "outputId": "95dfc25c-13ad-4036-eec2-acc8c5fa4fdc"
      },
      "execution_count": null,
      "outputs": [
        {
          "output_type": "execute_result",
          "data": {
            "text/plain": [
              "False"
            ]
          },
          "metadata": {},
          "execution_count": 5
        }
      ]
    },
    {
      "cell_type": "markdown",
      "source": [
        "### 3. Develop a program to find the maximum of two numbers using if-else statements."
      ],
      "metadata": {
        "id": "gkI3IYwRspbS"
      }
    },
    {
      "cell_type": "code",
      "source": [
        "def maximum(n1,n2):\n",
        "  '''check if which num is greater\n",
        "\n",
        "  Parameters\n",
        "  n1: int/float value\n",
        "  n2: int/float value\n",
        "\n",
        "  Returns\n",
        "  int/float value\n",
        "  '''\n",
        "  if n1 >= n2:\n",
        "    return n1\n",
        "  else:\n",
        "    return n2\n",
        "maximum(-12,20)"
      ],
      "metadata": {
        "colab": {
          "base_uri": "https://localhost:8080/"
        },
        "id": "OSJXZQfTrVUp",
        "outputId": "2e1d2d08-a4c3-429f-aa7c-781e31a04830"
      },
      "execution_count": null,
      "outputs": [
        {
          "output_type": "execute_result",
          "data": {
            "text/plain": [
              "20"
            ]
          },
          "metadata": {},
          "execution_count": 6
        }
      ]
    },
    {
      "cell_type": "markdown",
      "source": [
        "### 4. Write a Python script to classify a given year as a leap year or not."
      ],
      "metadata": {
        "id": "NIyruAvpsw6t"
      }
    },
    {
      "cell_type": "markdown",
      "source": [
        "https://github.com/joel2982/PW-Skills-Assignment/blob/master/Q4PythonScript.py"
      ],
      "metadata": {
        "id": "wIgPByVG8dbr"
      }
    },
    {
      "cell_type": "code",
      "source": [
        "# code\n",
        "year = int(input('Enter the Year = '))\n",
        "if year%4 != 0:\n",
        "    print(year,'is not a Leap Year.')\n",
        "elif year%100 != 0:\n",
        "    print(year,'is a Leap Year.')\n",
        "elif year%400 == 0:\n",
        "    print(year,'is a Leap Year.')\n",
        "else:\n",
        "    print(year,'is not a Leap Year.')"
      ],
      "metadata": {
        "id": "jZ57Z4DnKhrq"
      },
      "execution_count": null,
      "outputs": []
    },
    {
      "cell_type": "markdown",
      "source": [
        "### 5. Create a program that checks whether a character is a vowel or a consonant."
      ],
      "metadata": {
        "id": "LINkWGgrs2V_"
      }
    },
    {
      "cell_type": "code",
      "source": [
        "def checkChar(char):\n",
        "  '''check if the char is vowel or consonant\n",
        "\n",
        "  Parameters\n",
        "  char: char value\n",
        "\n",
        "  Returns\n",
        "  bool value\n",
        "  '''\n",
        "  if char.lower() in 'aeiou':\n",
        "    return 'Vowel'\n",
        "  else:\n",
        "    return 'Consonant'\n",
        "checkChar('A')"
      ],
      "metadata": {
        "colab": {
          "base_uri": "https://localhost:8080/",
          "height": 36
        },
        "id": "GQ_CZDohsQTi",
        "outputId": "8336ba5b-0a14-40e4-9c79-ec7e16d51d6a"
      },
      "execution_count": null,
      "outputs": [
        {
          "output_type": "execute_result",
          "data": {
            "text/plain": [
              "'Vowel'"
            ],
            "application/vnd.google.colaboratory.intrinsic+json": {
              "type": "string"
            }
          },
          "metadata": {},
          "execution_count": 1
        }
      ]
    },
    {
      "cell_type": "code",
      "source": [
        "checkChar('b')"
      ],
      "metadata": {
        "colab": {
          "base_uri": "https://localhost:8080/",
          "height": 36
        },
        "id": "MuaujRd9KJWs",
        "outputId": "068199e9-2c1c-459b-b7ef-61fb917048e8"
      },
      "execution_count": null,
      "outputs": [
        {
          "output_type": "execute_result",
          "data": {
            "text/plain": [
              "'Consonant'"
            ],
            "application/vnd.google.colaboratory.intrinsic+json": {
              "type": "string"
            }
          },
          "metadata": {},
          "execution_count": 2
        }
      ]
    },
    {
      "cell_type": "markdown",
      "source": [
        "### 6. Implement a program to determine whether a given number is even or odd."
      ],
      "metadata": {
        "id": "2t3ui53Ds-SO"
      }
    },
    {
      "cell_type": "code",
      "source": [
        "def checkOddEven(num):\n",
        "  '''find the number is even or odd\n",
        "\n",
        "  Parameters\n",
        "  num: int/float value\n",
        "\n",
        "  Returns\n",
        "  bool value\n",
        "  '''\n",
        "  if num%2 == 0:\n",
        "    return 'Even'\n",
        "  else:\n",
        "    return 'Odd'\n",
        "checkOddEven(14)"
      ],
      "metadata": {
        "colab": {
          "base_uri": "https://localhost:8080/",
          "height": 36
        },
        "id": "4WuBZKGXs9za",
        "outputId": "787d1f2a-e57f-49b1-e6f0-00861de7894f"
      },
      "execution_count": null,
      "outputs": [
        {
          "output_type": "execute_result",
          "data": {
            "text/plain": [
              "'Even'"
            ],
            "application/vnd.google.colaboratory.intrinsic+json": {
              "type": "string"
            }
          },
          "metadata": {},
          "execution_count": 3
        }
      ]
    },
    {
      "cell_type": "code",
      "source": [
        "checkOddEven(11)"
      ],
      "metadata": {
        "colab": {
          "base_uri": "https://localhost:8080/",
          "height": 36
        },
        "id": "fhmPgSycLXTX",
        "outputId": "56f94ce0-1bbe-433b-eda1-9d9aadb05f27"
      },
      "execution_count": null,
      "outputs": [
        {
          "output_type": "execute_result",
          "data": {
            "text/plain": [
              "'Odd'"
            ],
            "application/vnd.google.colaboratory.intrinsic+json": {
              "type": "string"
            }
          },
          "metadata": {},
          "execution_count": 4
        }
      ]
    },
    {
      "cell_type": "markdown",
      "source": [
        "### 7. Write a Python function to calculate the absolute value of a number without using the `abs()` function."
      ],
      "metadata": {
        "id": "GVVPptkotALy"
      }
    },
    {
      "cell_type": "code",
      "source": [
        "def absolute(num):\n",
        "  '''return the absolute value\n",
        "\n",
        "  Parameters\n",
        "  num: int/float value\n",
        "\n",
        "  Returns\n",
        "  int/float value\n",
        "  '''\n",
        "  if num > 0:\n",
        "    return num\n",
        "  else:\n",
        "    return -num\n",
        "absolute(-12)"
      ],
      "metadata": {
        "colab": {
          "base_uri": "https://localhost:8080/"
        },
        "id": "Au2UpvuWtETK",
        "outputId": "c2d3f8b6-c44b-4ee4-c6c7-edbe01971952"
      },
      "execution_count": null,
      "outputs": [
        {
          "output_type": "execute_result",
          "data": {
            "text/plain": [
              "12"
            ]
          },
          "metadata": {},
          "execution_count": 6
        }
      ]
    },
    {
      "cell_type": "markdown",
      "source": [
        "### 8. Develop a program that determines the largest of three given numbers using if-else statements."
      ],
      "metadata": {
        "id": "0L3z2zzWtGqj"
      }
    },
    {
      "cell_type": "code",
      "source": [
        "def largestNum(n1,n2,n3):\n",
        "  '''check if which num is greater\n",
        "\n",
        "  Parameters\n",
        "  n1,n2,n3: int/float value\n",
        "\n",
        "  Returns\n",
        "  int/float value\n",
        "  '''\n",
        "  if n1 > n2 and n1 > n3:\n",
        "    return n1\n",
        "  elif n3 > n2 and n3 > n1:\n",
        "    return n3\n",
        "  else:\n",
        "    return n2\n",
        "largestNum(-12,20,23)"
      ],
      "metadata": {
        "colab": {
          "base_uri": "https://localhost:8080/"
        },
        "id": "vyjvAsJatJW2",
        "outputId": "293b0070-61b8-493f-be4c-7fddbd8f4429"
      },
      "execution_count": null,
      "outputs": [
        {
          "output_type": "execute_result",
          "data": {
            "text/plain": [
              "23"
            ]
          },
          "metadata": {},
          "execution_count": 7
        }
      ]
    },
    {
      "cell_type": "markdown",
      "source": [
        "### 9. Create a program that checks if a given string is a palindrome."
      ],
      "metadata": {
        "id": "ZCo3ParLtM8B"
      }
    },
    {
      "cell_type": "code",
      "source": [
        "def checkPalindrome(string):\n",
        "  '''check if string is palindrom\n",
        "\n",
        "  Parameters\n",
        "  string: str value\n",
        "\n",
        "  Returns\n",
        "  bool value\n",
        "  '''\n",
        "  string = string.replace(' ','').lower()\n",
        "  if string == string[::-1]:\n",
        "    return True\n",
        "  else:\n",
        "    return False\n",
        "checkPalindrome('abc aacba')"
      ],
      "metadata": {
        "colab": {
          "base_uri": "https://localhost:8080/"
        },
        "id": "jRPKNK7QtO7I",
        "outputId": "f9cb5b9b-c1c7-4d8c-ad8f-a88a853795ec"
      },
      "execution_count": null,
      "outputs": [
        {
          "output_type": "execute_result",
          "data": {
            "text/plain": [
              "True"
            ]
          },
          "metadata": {},
          "execution_count": 11
        }
      ]
    },
    {
      "cell_type": "markdown",
      "source": [
        "### 10. Write a Python program to calculate the grade based on a student's score."
      ],
      "metadata": {
        "id": "QYlmisRvtPXR"
      }
    },
    {
      "cell_type": "code",
      "source": [
        "def grade(score):\n",
        "  '''find the grade based on the score\n",
        "\n",
        "  Parameters\n",
        "  n: int/float value\n",
        "\n",
        "  Returns\n",
        "  str value\n",
        "  '''\n",
        "  if score > 90:\n",
        "    return \"A1\"\n",
        "  elif score > 80:\n",
        "    return \"A2\"\n",
        "  elif score > 70:\n",
        "    return \"B1\"\n",
        "  elif score > 60:\n",
        "    return \"B2\"\n",
        "  elif score > 50:\n",
        "    return \"C1\"\n",
        "  elif score > 40:\n",
        "    return \"C2\"\n",
        "  elif score > 33:\n",
        "    return \"D\"\n",
        "  else:\n",
        "    return \"E\"\n",
        "grade(90.12)"
      ],
      "metadata": {
        "colab": {
          "base_uri": "https://localhost:8080/",
          "height": 36
        },
        "id": "xXWqcE6etWxt",
        "outputId": "18b1dc13-1059-4cf0-f640-cb9253e6c7bf"
      },
      "execution_count": null,
      "outputs": [
        {
          "output_type": "execute_result",
          "data": {
            "text/plain": [
              "'A1'"
            ],
            "application/vnd.google.colaboratory.intrinsic+json": {
              "type": "string"
            }
          },
          "metadata": {},
          "execution_count": 13
        }
      ]
    },
    {
      "cell_type": "code",
      "source": [
        "grade(30.12)"
      ],
      "metadata": {
        "colab": {
          "base_uri": "https://localhost:8080/",
          "height": 36
        },
        "id": "b6d9WjC2Qszm",
        "outputId": "c0db9ce0-3e67-4044-cab6-d3a47ec447f7"
      },
      "execution_count": null,
      "outputs": [
        {
          "output_type": "execute_result",
          "data": {
            "text/plain": [
              "'E'"
            ],
            "application/vnd.google.colaboratory.intrinsic+json": {
              "type": "string"
            }
          },
          "metadata": {},
          "execution_count": 14
        }
      ]
    },
    {
      "cell_type": "markdown",
      "source": [
        "## Nested If-Else Statements"
      ],
      "metadata": {
        "id": "41CoAVqU4HfU"
      }
    },
    {
      "cell_type": "markdown",
      "source": [
        "### 11. Write a program to find the largest among three numbers using nested if-else statements."
      ],
      "metadata": {
        "id": "HX0huXd_4PTZ"
      }
    },
    {
      "cell_type": "code",
      "source": [
        "def largestNum11(n1,n2,n3):\n",
        "  '''check if which num is greater\n",
        "\n",
        "  Parameters\n",
        "  n1,n2,n3: int/float value\n",
        "\n",
        "  Returns\n",
        "  int/float value\n",
        "  '''\n",
        "  if n1 >= n2:\n",
        "    if n1 > n3:\n",
        "      return n1\n",
        "    else:\n",
        "      return n3\n",
        "  elif n2 > n1:\n",
        "    if n2 > n3:\n",
        "      return n2\n",
        "    else:\n",
        "      return n3\n",
        "largestNum11(24,25,23)"
      ],
      "metadata": {
        "colab": {
          "base_uri": "https://localhost:8080/"
        },
        "id": "RJgNItJ749ms",
        "outputId": "d34f3743-280d-414a-b915-43d5b15cc7b0"
      },
      "execution_count": null,
      "outputs": [
        {
          "output_type": "execute_result",
          "data": {
            "text/plain": [
              "25"
            ]
          },
          "metadata": {},
          "execution_count": 28
        }
      ]
    },
    {
      "cell_type": "code",
      "source": [
        "largestNum11(20,20,21)"
      ],
      "metadata": {
        "colab": {
          "base_uri": "https://localhost:8080/"
        },
        "id": "cR3fvLW06LmR",
        "outputId": "7ff62f6e-d3c9-4644-9f71-2a4b9a7cbbf4"
      },
      "execution_count": null,
      "outputs": [
        {
          "output_type": "execute_result",
          "data": {
            "text/plain": [
              "21"
            ]
          },
          "metadata": {},
          "execution_count": 30
        }
      ]
    },
    {
      "cell_type": "markdown",
      "source": [
        "### 12. Implement a program to determine if a triangle is equilateral, isosceles, or scalene."
      ],
      "metadata": {
        "id": "tkK84hcg4V81"
      }
    },
    {
      "cell_type": "code",
      "source": [
        "def typeOfTriangle(side1,side2,side3):\n",
        "  '''find the type of triangle based on sides\n",
        "\n",
        "  Parameters\n",
        "  side1,side2,side3: int/float value\n",
        "\n",
        "  Returns\n",
        "  str value\n",
        "  '''\n",
        "  if side1 == side2:\n",
        "    if side3 == side2:\n",
        "      return 'Equilateral'\n",
        "    else:\n",
        "      return 'Isosceles'\n",
        "  elif side3 == side2:\n",
        "    return 'Isosceles'\n",
        "  elif side3 == side1:\n",
        "    return 'Isosceles'\n",
        "  else:\n",
        "    return 'Scalene'\n",
        "typeOfTriangle(10,10,10)"
      ],
      "metadata": {
        "colab": {
          "base_uri": "https://localhost:8080/",
          "height": 36
        },
        "id": "mQQhURay4-Cq",
        "outputId": "8ea85d7e-369c-45a2-b4fd-5a0a3dca4bee"
      },
      "execution_count": null,
      "outputs": [
        {
          "output_type": "execute_result",
          "data": {
            "text/plain": [
              "'Equilateral'"
            ],
            "application/vnd.google.colaboratory.intrinsic+json": {
              "type": "string"
            }
          },
          "metadata": {},
          "execution_count": 31
        }
      ]
    },
    {
      "cell_type": "code",
      "source": [
        "typeOfTriangle(21,10,10)"
      ],
      "metadata": {
        "colab": {
          "base_uri": "https://localhost:8080/",
          "height": 36
        },
        "id": "hj3DBWn3XkLj",
        "outputId": "cb8c27ef-028e-44b5-869a-38c59aa70bb8"
      },
      "execution_count": null,
      "outputs": [
        {
          "output_type": "execute_result",
          "data": {
            "text/plain": [
              "'Isosceles'"
            ],
            "application/vnd.google.colaboratory.intrinsic+json": {
              "type": "string"
            }
          },
          "metadata": {},
          "execution_count": 32
        }
      ]
    },
    {
      "cell_type": "code",
      "source": [
        "typeOfTriangle(21,10,20)"
      ],
      "metadata": {
        "colab": {
          "base_uri": "https://localhost:8080/",
          "height": 36
        },
        "id": "wz503tu8Xmto",
        "outputId": "3dcffbdc-4db7-4cb0-82aa-2b33798a4af8"
      },
      "execution_count": null,
      "outputs": [
        {
          "output_type": "execute_result",
          "data": {
            "text/plain": [
              "'Scalene'"
            ],
            "application/vnd.google.colaboratory.intrinsic+json": {
              "type": "string"
            }
          },
          "metadata": {},
          "execution_count": 33
        }
      ]
    },
    {
      "cell_type": "markdown",
      "source": [
        "### 13. Develop a program that checks if a year is a leap year and also if it is a century year."
      ],
      "metadata": {
        "id": "Zhpr1IQU4bFF"
      }
    },
    {
      "cell_type": "code",
      "source": [
        "def leapAndCentury(year):\n",
        "  '''check if year is a leap and century year\n",
        "\n",
        "  Parameters\n",
        "  year: int value\n",
        "  '''\n",
        "  leap = False\n",
        "  if year%4 != 0:\n",
        "    print(year,'is not a Leap Year.')\n",
        "    if year%100 == 0:\n",
        "      print(year,'is a Century Year.')\n",
        "    else:\n",
        "      print(year,'is not a Century Year.')\n",
        "  else:\n",
        "    if year%100 == 0:\n",
        "      if year%400 == 0:\n",
        "        print(year,'is a Leap Year.')\n",
        "      else:\n",
        "        print(year,'is not a Leap Year.')\n",
        "      print(year,'is a Century Year.')\n",
        "    else:\n",
        "      print(year,'is a Leap Year.')\n",
        "      print(year,'is not a Century Year.')\n",
        "  print()\n",
        "leapAndCentury(2020)\n",
        "leapAndCentury(2021)\n",
        "leapAndCentury(2000)\n",
        "leapAndCentury(1900)"
      ],
      "metadata": {
        "colab": {
          "base_uri": "https://localhost:8080/"
        },
        "id": "5HU63BfC4-aO",
        "outputId": "c14cf920-4699-4625-c23e-add377098b4f"
      },
      "execution_count": null,
      "outputs": [
        {
          "output_type": "stream",
          "name": "stdout",
          "text": [
            "2020 is a Leap Year.\n",
            "2020 is not a Century Year.\n",
            "\n",
            "2021 is not a Leap Year.\n",
            "2021 is not a Century Year.\n",
            "\n",
            "2000 is a Leap Year.\n",
            "2000 is a Century Year.\n",
            "\n",
            "1900 is not a Leap Year.\n",
            "1900 is a Century Year.\n",
            "\n"
          ]
        }
      ]
    },
    {
      "cell_type": "markdown",
      "source": [
        "### 14. Write a Python script to determine if a number is positive, negative, or zero."
      ],
      "metadata": {
        "id": "O4tF-u3P4cuY"
      }
    },
    {
      "cell_type": "markdown",
      "source": [
        "https://github.com/joel2982/PW-Skills-Assignment/blob/master/Q14PositiveNegativeZero.py"
      ],
      "metadata": {
        "id": "ziwkC-MCc-Dv"
      }
    },
    {
      "cell_type": "code",
      "source": [
        "# code\n",
        "num = int(input('Enter the Year = '))\n",
        "if num > 0:\n",
        "    print('Positve')\n",
        "elif num == 0:\n",
        "    print('Zero')\n",
        "else:\n",
        "    print('Negative')"
      ],
      "metadata": {
        "id": "IEOPWrp35Bdd"
      },
      "execution_count": null,
      "outputs": []
    },
    {
      "cell_type": "markdown",
      "source": [
        "### 15. Create a program to check if a person is a teenager (between 13 and 19 years old)."
      ],
      "metadata": {
        "id": "E37HuWDK4hw0"
      }
    },
    {
      "cell_type": "code",
      "source": [
        "def checkTeenager(age):\n",
        "  '''check if the person is a teenager\n",
        "\n",
        "  Parameters\n",
        "  age: int/float value\n",
        "\n",
        "  Returns\n",
        "  bool value\n",
        "  '''\n",
        "  if age >= 13:\n",
        "    if age <= 19:\n",
        "      return True\n",
        "  return False\n",
        "checkTeenager(21)"
      ],
      "metadata": {
        "colab": {
          "base_uri": "https://localhost:8080/"
        },
        "id": "bouz4Iur5Bxl",
        "outputId": "7b5d4efe-4eae-4b3b-b53f-51260aaeee5c"
      },
      "execution_count": null,
      "outputs": [
        {
          "output_type": "execute_result",
          "data": {
            "text/plain": [
              "False"
            ]
          },
          "metadata": {},
          "execution_count": 41
        }
      ]
    },
    {
      "cell_type": "code",
      "source": [
        "checkTeenager(10)"
      ],
      "metadata": {
        "colab": {
          "base_uri": "https://localhost:8080/"
        },
        "id": "QQwvJ06hemSj",
        "outputId": "fc1fb1a4-361e-4af0-9a2b-f0f8e917643a"
      },
      "execution_count": null,
      "outputs": [
        {
          "output_type": "execute_result",
          "data": {
            "text/plain": [
              "False"
            ]
          },
          "metadata": {},
          "execution_count": 42
        }
      ]
    },
    {
      "cell_type": "code",
      "source": [
        "checkTeenager(15)"
      ],
      "metadata": {
        "colab": {
          "base_uri": "https://localhost:8080/"
        },
        "id": "TrxIBToeepaC",
        "outputId": "a78e1b08-dc79-45af-b2be-2aced0fd4192"
      },
      "execution_count": null,
      "outputs": [
        {
          "output_type": "execute_result",
          "data": {
            "text/plain": [
              "True"
            ]
          },
          "metadata": {},
          "execution_count": 43
        }
      ]
    },
    {
      "cell_type": "markdown",
      "source": [
        "### 16. Develop a program that determines the type of angle based on its measure (acute, obtuse, or right)."
      ],
      "metadata": {
        "id": "J6f-CETt4jA-"
      }
    },
    {
      "cell_type": "code",
      "source": [
        "def typeOfAngle(angle):\n",
        "  '''find the type of angle\n",
        "\n",
        "  Parameters\n",
        "  angle: int/float value\n",
        "  '''\n",
        "  if angle > 90:\n",
        "    if angle < 180:\n",
        "      print('Obtuse')\n",
        "  if angle < 90:\n",
        "    print('Acute')\n",
        "  elif angle == 90:\n",
        "    print('Right')\n",
        "typeOfAngle(45)\n",
        "typeOfAngle(120)\n",
        "typeOfAngle(90)"
      ],
      "metadata": {
        "colab": {
          "base_uri": "https://localhost:8080/"
        },
        "id": "dQzZn1fy5A1z",
        "outputId": "a4c1238c-fb78-413f-a4b7-746f2740aa3f"
      },
      "execution_count": null,
      "outputs": [
        {
          "output_type": "stream",
          "name": "stdout",
          "text": [
            "Acute\n",
            "Obtuse\n",
            "Right\n"
          ]
        }
      ]
    },
    {
      "cell_type": "markdown",
      "source": [
        "### 17. Write a Python program to calculate the roots of a quadratic equation."
      ],
      "metadata": {
        "id": "XRI7TeYv4qPx"
      }
    },
    {
      "cell_type": "code",
      "source": [
        "def quadraticRoots(a,b,c):\n",
        "  ''' find the roots of the quadratic equation\n",
        "\n",
        "  Parameters\n",
        "  a,b,c: coefficients of the equation\n",
        "  '''\n",
        "  val = b**2 - 4*a*c\n",
        "  if val < 0:\n",
        "    print('Imaginary Roots')\n",
        "  else:\n",
        "    root1 = (-b + val)/(2*a)\n",
        "    if val > 0:\n",
        "      root2 = (-b - val)/(2*a)\n",
        "      print('Distinct Real Roots:',root1,',',root2)\n",
        "    else:\n",
        "      print('Equal Real Roots:',root1,',',root1)\n",
        "quadraticRoots(10,20,30)\n",
        "quadraticRoots(10,20,10)\n",
        "quadraticRoots(20,40,10)"
      ],
      "metadata": {
        "colab": {
          "base_uri": "https://localhost:8080/"
        },
        "id": "LdvXq6FW5Ab9",
        "outputId": "9af09c4f-5080-40b6-ff1d-03d541bbe728"
      },
      "execution_count": null,
      "outputs": [
        {
          "output_type": "stream",
          "name": "stdout",
          "text": [
            "Imaginary Roots\n",
            "Equal Real Roots: -1.0 , -1.0\n",
            "Distinct Real Roots: 19.0 , -21.0\n"
          ]
        }
      ]
    },
    {
      "cell_type": "markdown",
      "source": [
        "### 18. Implement a program to determine the day of the week based on a user-provided number (1 for Monday, 2 for Tuesday, etc.)."
      ],
      "metadata": {
        "id": "nYIuEtkv4t_I"
      }
    },
    {
      "cell_type": "code",
      "source": [
        "def dayOfWeek(num):\n",
        "  '''print the corresponding day of the week based on the number\n",
        "\n",
        "  Parameters\n",
        "  num: int value\n",
        "  '''\n",
        "  if num == 1:\n",
        "    print('Monday')\n",
        "  elif num == 2:\n",
        "    print('Tuesday')\n",
        "  elif num == 3:\n",
        "    print('Wednesday')\n",
        "  elif num == 4:\n",
        "    print('Thursday')\n",
        "  elif num == 5:\n",
        "    print('Friday')\n",
        "  elif num == 6:\n",
        "    print('Saturday')\n",
        "  elif num == 7:\n",
        "    print('Sunday')\n",
        "  else:\n",
        "    print('Invalid Input')\n",
        "dayOfWeek(10)\n",
        "dayOfWeek(4)\n",
        "dayOfWeek(2)"
      ],
      "metadata": {
        "colab": {
          "base_uri": "https://localhost:8080/"
        },
        "id": "IdZmFjOI5AF8",
        "outputId": "7417cff8-5c55-4fc4-8ba1-fcf0a247ccad"
      },
      "execution_count": null,
      "outputs": [
        {
          "output_type": "stream",
          "name": "stdout",
          "text": [
            "Invalid Input\n",
            "Thursday\n",
            "Tuesday\n"
          ]
        }
      ]
    },
    {
      "cell_type": "markdown",
      "source": [
        "### 19. Create a program that determines if a year is a leap year and also if it is evenly divisible by 400."
      ],
      "metadata": {
        "id": "YS_EwRW44xlJ"
      }
    },
    {
      "cell_type": "code",
      "source": [
        "def leapYearAndDivisibleBy400(year):\n",
        "  '''check if a year is a leap year and also evenly divisible by 400\n",
        "\n",
        "  Parameters\n",
        "  year: int value\n",
        "  '''\n",
        "  if year%400 == 0:\n",
        "    print(year,'is a Leap Year and evenly divisible by 400.')\n",
        "    print(year,'is a Centurian Leap Year.')\n",
        "  elif year%4 == 0:\n",
        "    if year%100 != 0:\n",
        "      print(year,'is a Leap Year but not a century Year')\n",
        "    else:\n",
        "      print(year,'is a not Leap Year as not evenly divisible by 400.')\n",
        "  else:\n",
        "    print(year,'is not a Leap Year')\n",
        "leapYearAndDivisibleBy400(1900)\n",
        "leapYearAndDivisibleBy400(1600)"
      ],
      "metadata": {
        "colab": {
          "base_uri": "https://localhost:8080/"
        },
        "id": "BhJgiQ5a4_tK",
        "outputId": "6264ea29-d6c1-426b-b7fa-a6eb00117463"
      },
      "execution_count": null,
      "outputs": [
        {
          "output_type": "stream",
          "name": "stdout",
          "text": [
            "1900 is a not Leap Year as not evenly divisible by 400.\n",
            "1600 is a Leap Year and evenly divisible by 400.\n",
            "1600 is a Centurian Leap Year.\n"
          ]
        }
      ]
    },
    {
      "cell_type": "markdown",
      "source": [
        "### 20. Develop a program that checks if a given number is prime or not using nested if-else statements."
      ],
      "metadata": {
        "id": "7WmEsB7j4SBR"
      }
    },
    {
      "cell_type": "code",
      "source": [
        "def prime(num):\n",
        "  '''check for prime number\n",
        "\n",
        "  Parameters\n",
        "  num: int value\n",
        "\n",
        "  Returns\n",
        "  bool value\n",
        "  '''\n",
        "  if num <= 1:\n",
        "    return False\n",
        "  else:\n",
        "    if num <= 3:\n",
        "      return True\n",
        "    elif num%2 == 0:\n",
        "      return False\n",
        "    elif num%3 == 0:\n",
        "      return False\n",
        "    else:\n",
        "      for i in range(5,int(num**0.5)+1):\n",
        "        if num%i == 0:\n",
        "          return False\n",
        "  return True\n",
        "prime(195)"
      ],
      "metadata": {
        "colab": {
          "base_uri": "https://localhost:8080/"
        },
        "id": "ufuKMLA54_OB",
        "outputId": "05873856-2d35-447f-9f86-9b701eeea4b9"
      },
      "execution_count": null,
      "outputs": [
        {
          "output_type": "execute_result",
          "data": {
            "text/plain": [
              "False"
            ]
          },
          "metadata": {},
          "execution_count": 13
        }
      ]
    },
    {
      "cell_type": "code",
      "source": [
        "prime(7)"
      ],
      "metadata": {
        "colab": {
          "base_uri": "https://localhost:8080/"
        },
        "id": "_t-y3PEVY30g",
        "outputId": "aec01ed9-a6e8-4b4e-ae4b-fc1cbaa3a13e"
      },
      "execution_count": null,
      "outputs": [
        {
          "output_type": "execute_result",
          "data": {
            "text/plain": [
              "True"
            ]
          },
          "metadata": {},
          "execution_count": 16
        }
      ]
    },
    {
      "cell_type": "markdown",
      "source": [
        "## Elif Statements"
      ],
      "metadata": {
        "id": "8DCHSLC4bMio"
      }
    },
    {
      "cell_type": "markdown",
      "source": [
        "### 21. Write a Python program to assign grades based on different ranges of scores using elif statements."
      ],
      "metadata": {
        "id": "_poAavwnbMiy"
      }
    },
    {
      "cell_type": "code",
      "source": [
        "def grade(score):\n",
        "  '''find the grade based on the score\n",
        "\n",
        "  Parameters\n",
        "  n: int/float value\n",
        "\n",
        "  Returns\n",
        "  str value\n",
        "  '''\n",
        "  if score > 90:\n",
        "    return \"A1\"\n",
        "  elif score > 80:\n",
        "    return \"A2\"\n",
        "  elif score > 70:\n",
        "    return \"B1\"\n",
        "  elif score > 60:\n",
        "    return \"B2\"\n",
        "  elif score > 50:\n",
        "    return \"C1\"\n",
        "  elif score > 40:\n",
        "    return \"C2\"\n",
        "  elif score > 33:\n",
        "    return \"D\"\n",
        "  else:\n",
        "    return \"E\"\n",
        "grade(90.12)"
      ],
      "metadata": {
        "colab": {
          "base_uri": "https://localhost:8080/",
          "height": 36
        },
        "outputId": "7576a10a-8b16-4324-8e52-f4a64d9dd25f",
        "id": "jMARyfcgbMiy"
      },
      "execution_count": 1,
      "outputs": [
        {
          "output_type": "execute_result",
          "data": {
            "text/plain": [
              "'A1'"
            ],
            "application/vnd.google.colaboratory.intrinsic+json": {
              "type": "string"
            }
          },
          "metadata": {},
          "execution_count": 1
        }
      ]
    },
    {
      "cell_type": "markdown",
      "source": [
        "### 22. Implement a program to determine the type of a triangle based on its angles."
      ],
      "metadata": {
        "id": "12bTGhApbMiz"
      }
    },
    {
      "cell_type": "code",
      "source": [
        "def typeOfTriangle(a1,a2,a3):\n",
        "  '''find the type of triangle based on its angles(given angles are of a triangle)\n",
        "\n",
        "  Parameters\n",
        "  a1,a2,a3: int/float value\n",
        "  '''\n",
        "  if a1 > 90 or a2 > 90 or a3 > 90:\n",
        "    print('Obtuse Angle Triangle')\n",
        "  elif a1 < 90 and a2 < 90 and a2 < 90:\n",
        "    print('Acute Angle Triangle')\n",
        "  elif a1 == 90 or a2 == 90 or a3 == 90:\n",
        "    print('Right Angle Triangle')\n",
        "typeOfTriangle(70,70,40)\n",
        "typeOfTriangle(120,20,40)\n",
        "typeOfTriangle(90,20,70)"
      ],
      "metadata": {
        "colab": {
          "base_uri": "https://localhost:8080/"
        },
        "outputId": "0ea4fc33-6cae-402b-e20a-0718c252482b",
        "id": "0o-pI5VzbMiz"
      },
      "execution_count": 3,
      "outputs": [
        {
          "output_type": "stream",
          "name": "stdout",
          "text": [
            "Acute Angle Triangle\n",
            "Obtuse Angle Triangle\n",
            "Right Angle Triangle\n"
          ]
        }
      ]
    },
    {
      "cell_type": "markdown",
      "source": [
        "### 23. Develop a program to categorize a given person's BMI into underweight, normal, overweight, or obese using elif statements."
      ],
      "metadata": {
        "id": "2u94Vpw_bMiz"
      }
    },
    {
      "cell_type": "code",
      "source": [
        "def bmiCategory(bmi):\n",
        "  '''categorize a given person into underweight, normal, overweight or obese\n",
        "\n",
        "  Parameters\n",
        "  bmi: int/float value\n",
        "  '''\n",
        "  if bmi < 18.5:\n",
        "    print(bmi,'is Underweight')\n",
        "  elif 18.5 <= bmi <= 24.9:\n",
        "    print(bmi,'is Normal')\n",
        "  elif 25.0 <= bmi <= 29.9:\n",
        "    print(bmi,'is Overweight')\n",
        "  elif 30.0 <= bmi <= 34.9:\n",
        "    print(bmi,'is Obese')\n",
        "  elif bmi > 34.9:\n",
        "    print(bmi,'is Morbidly Obese')\n",
        "bmiCategory(23)\n",
        "bmiCategory(18.1)\n",
        "bmiCategory(26.1)\n",
        "bmiCategory(30.1)\n",
        "bmiCategory(39.1)"
      ],
      "metadata": {
        "colab": {
          "base_uri": "https://localhost:8080/"
        },
        "outputId": "703f52e5-8765-41a7-af48-c34e092cdf6f",
        "id": "FCD0vlFlbMiz"
      },
      "execution_count": 5,
      "outputs": [
        {
          "output_type": "stream",
          "name": "stdout",
          "text": [
            "23 is Normal\n",
            "18.1 is Underweight\n",
            "26.1 is Overweight\n",
            "30.1 is Obese\n",
            "39.1 is Morbidly Obese\n"
          ]
        }
      ]
    },
    {
      "cell_type": "markdown",
      "source": [
        "### 24. Create a program that determines whether a given number is positive, negative, or zero using elif statements."
      ],
      "metadata": {
        "id": "keIyY_JLbMiz"
      }
    },
    {
      "cell_type": "code",
      "source": [
        "def negativePositiveZero(num):\n",
        "  ''' check if number is positive, negative or zero\n",
        "\n",
        "  Parameters\n",
        "  num: int/float value\n",
        "  '''\n",
        "  if num > 0:\n",
        "    print('Positve')\n",
        "  elif num == 0:\n",
        "    print('Zero')\n",
        "  else:\n",
        "    print('Negative')\n",
        "negativePositiveZero(0.0)\n",
        "negativePositiveZero(13.0)\n",
        "negativePositiveZero(-1.0)"
      ],
      "metadata": {
        "colab": {
          "base_uri": "https://localhost:8080/"
        },
        "outputId": "9b8af12b-7051-478d-b1fa-43d86dbd8607",
        "id": "T8A4Uls3bMiz"
      },
      "execution_count": 6,
      "outputs": [
        {
          "output_type": "stream",
          "name": "stdout",
          "text": [
            "Zero\n",
            "Positve\n",
            "Negative\n"
          ]
        }
      ]
    },
    {
      "cell_type": "markdown",
      "source": [
        "### 25. Write a Python script to determine the type of a character (uppercase, lowercase, or special) using elif statements."
      ],
      "metadata": {
        "id": "uPTMQxUkbMi0"
      }
    },
    {
      "cell_type": "markdown",
      "source": [
        "https://github.com/joel2982/PW-Skills-Assignment/blob/master/Q25TypeOfChar.py"
      ],
      "metadata": {
        "id": "acHcYsiJ2U8R"
      }
    },
    {
      "cell_type": "code",
      "source": [
        "# code\n",
        "char = input('Enter a character = ')\n",
        "special_char = '[@_!#$%^&*()<>?/\\|}{~:]'\n",
        "if char.islower():\n",
        "    print('Lowercase')\n",
        "elif char.isupper():\n",
        "    print('Uppercase')\n",
        "elif char in special_char:\n",
        "    print('Special char')"
      ],
      "metadata": {
        "id": "DHnxF_h4bMi0"
      },
      "execution_count": null,
      "outputs": []
    },
    {
      "cell_type": "markdown",
      "source": [
        "### 26. Implement a program to calculate the discounted price based on different purchase amounts using elif statements."
      ],
      "metadata": {
        "id": "x9GH8CdKbMi0"
      }
    },
    {
      "cell_type": "code",
      "source": [
        "def calDiscountedPrice(purchase):\n",
        "  ''' calculate the discounted price based on the purchase amount\n",
        "\n",
        "  Parameters\n",
        "  purchase: int/float value\n",
        "  '''\n",
        "  discount = 0.0\n",
        "  if purchase <= 5000:\n",
        "      discount = 0.0\n",
        "  elif 5000 < purchase <= 10000:\n",
        "    discount = (purchase-5000)*(10/100.0)\n",
        "  elif 10000 < purchase <= 20000:\n",
        "    discount = (purchase-10000)*(20/100.0)\n",
        "  elif  20000 < purchase <= 30000:\n",
        "    discount = (purchase-20000)*(30/100.0)\n",
        "  else:\n",
        "    discount = (purchase-30000)*(40/100.0)\n",
        "  print('Discount Amount = {:.2f}'.format(discount))\n",
        "  print('Net Bill Amount = {:.2f}'.format(purchase-discount))\n",
        "calDiscountedPrice(7000)\n",
        "calDiscountedPrice(45000)"
      ],
      "metadata": {
        "colab": {
          "base_uri": "https://localhost:8080/"
        },
        "outputId": "70ac61e2-b64b-45d9-a549-dce6aff6b3ea",
        "id": "-nHKMdvObMi0"
      },
      "execution_count": 11,
      "outputs": [
        {
          "output_type": "stream",
          "name": "stdout",
          "text": [
            "Discount Amount = 200.00\n",
            "Net Bill Amount = 6800.00\n",
            "Discount Amount = 6000.00\n",
            "Net Bill Amount = 39000.00\n"
          ]
        }
      ]
    },
    {
      "cell_type": "markdown",
      "source": [
        "### 27. Develop a program to calculate the electricity bill based on different consumption slabs using elif statements."
      ],
      "metadata": {
        "id": "vhNxks3qbMi0"
      }
    },
    {
      "cell_type": "code",
      "source": [
        "def billCalculator(usage):\n",
        "  ''' calculate the electricity bill based on the consumption slabs\n",
        "\n",
        "  Parameters\n",
        "  usage: int/float value\n",
        "  '''\n",
        "  # 1 to 100 units – Rs. 10/unit\n",
        "  # 100 to 200 units – Rs. 15/unit\n",
        "  # 200 to 300 units – Rs. 20/unit\n",
        "  # above 300 units – Rs. 25/unit\n",
        "  bill = 0.0\n",
        "  if usage <= 100:\n",
        "    bill = 10*usage\n",
        "  elif 100 < usage <= 200:\n",
        "    bill = 10*100 + (usage-100)*15\n",
        "  elif 200 < usage <= 300:\n",
        "    bill = 10*100 + 15*100 + (usage-200)*20\n",
        "  else:\n",
        "    bill = 10*100 + 15*100 + 20*100 + (usage-300)*25\n",
        "  print('Net Bill Amount = {:.2f}'.format(bill))\n",
        "billCalculator(40)\n",
        "billCalculator(400)"
      ],
      "metadata": {
        "colab": {
          "base_uri": "https://localhost:8080/"
        },
        "outputId": "006c4e95-94ec-4523-939b-e8bad6cef0f8",
        "id": "dRhsUi0cbMi0"
      },
      "execution_count": 3,
      "outputs": [
        {
          "output_type": "stream",
          "name": "stdout",
          "text": [
            "Net Bill Amount = 400.00\n",
            "Net Bill Amount = 7000.00\n"
          ]
        }
      ]
    },
    {
      "cell_type": "markdown",
      "source": [
        "### 28. Create a program to determine the type of quadrilateral based on its angles and sides using elif statements."
      ],
      "metadata": {
        "id": "paMmAA5VbMi0"
      }
    },
    {
      "cell_type": "code",
      "source": [
        "def typeOfQuadrilateral(s1,s2,s3,s4,a1,a2,a3,a4):\n",
        "  ''' calculate the electricity bill based on the consumption slabs\n",
        "\n",
        "  Parameters\n",
        "  s1,s2,s3,s4: int/float value sides\n",
        "  a1,a2,a3,a4: int/float value angles\n",
        "  '''\n",
        "  if a1 + a2 + a3 + a4 != 360:\n",
        "    print('Not a Quadrilateral')\n",
        "  elif s1 == s3 == s2 == s4:\n",
        "    if a1 == a2 == a3 == a4 == 90:\n",
        "      print('Square')\n",
        "    else:\n",
        "      print('Rhombus')\n",
        "  elif s1 == s3 and s2 == s4:\n",
        "    if a1 == a2 == a3 == a4 == 90:\n",
        "      print('Rectangle')\n",
        "    elif a1 == a3 and a2 == a4:\n",
        "      print('Parallogram')\n",
        "  elif s1 == s2 and s3 == s4 and a1 == a4 and a2 == a3:\n",
        "      print('Kites')\n",
        "  else:\n",
        "    print('Trapizoid')\n",
        "typeOfQuadrilateral(20,20,20,20,90,90,90,90)\n",
        "typeOfQuadrilateral(20,10,20,10,90,90,90,90)\n",
        "typeOfQuadrilateral(20,10,20,10,60,120,60,120)\n",
        "typeOfQuadrilateral(20,20,20,20,60,120,60,120)\n",
        "typeOfQuadrilateral(10,10,20,20,60,120,120,60)\n",
        "typeOfQuadrilateral(10,20,20,10,150,30,70,110)\n",
        "typeOfQuadrilateral(10,20,20,10,150,50,70,110)"
      ],
      "metadata": {
        "colab": {
          "base_uri": "https://localhost:8080/"
        },
        "outputId": "a3ea8dba-ca92-47b3-e69f-8156fcb7715e",
        "id": "NTiWXdiMbMi0"
      },
      "execution_count": 4,
      "outputs": [
        {
          "output_type": "stream",
          "name": "stdout",
          "text": [
            "Square\n",
            "Rectangle\n",
            "Parallogram\n",
            "Rhombus\n",
            "Kites\n",
            "Trapizoid\n",
            "Not a Quadrilateral\n"
          ]
        }
      ]
    },
    {
      "cell_type": "markdown",
      "source": [
        "### 29. Write a Python script to determine the season based on a user-provided month using elif statements."
      ],
      "metadata": {
        "id": "G81WvOwwbMi1"
      }
    },
    {
      "cell_type": "markdown",
      "source": [
        "https://github.com/joel2982/PW-Skills-Assignment/blob/master/Q29DetermineSeasons.py"
      ],
      "metadata": {
        "id": "2mevrH8wI5nT"
      }
    },
    {
      "cell_type": "code",
      "source": [
        "# code\n",
        "month = input('Enter the Month = ')\n",
        "spring = ['March','April']\n",
        "autumn = ['September','October']\n",
        "summer = ['May','June','July','August']\n",
        "winter = ['November','December','January','February']\n",
        "if month.title() in spring:\n",
        "    print('Spring Season')\n",
        "elif month.title() in autumn:\n",
        "    print('Autumn Season')\n",
        "elif month.title() in summer:\n",
        "    print('Summer Season')\n",
        "elif month.title() in winter:\n",
        "    print('Winter Season')"
      ],
      "metadata": {
        "colab": {
          "base_uri": "https://localhost:8080/"
        },
        "outputId": "61e286d0-528d-46eb-a8ba-13f13254e6b5",
        "id": "6HIt8z9_bMi1"
      },
      "execution_count": null,
      "outputs": [
        {
          "output_type": "execute_result",
          "data": {
            "text/plain": [
              "['A', 'A', 'e', 'a', 'a', 'e', 'e', 'o', 'o', 'a', 'a']"
            ]
          },
          "metadata": {},
          "execution_count": 2
        }
      ]
    },
    {
      "cell_type": "markdown",
      "source": [
        "### 30. Implement a program to determine the type of a year (leap or common) and month (30 or 31 days) using elif statements."
      ],
      "metadata": {
        "id": "xVRTa7I_bMi1"
      }
    },
    {
      "cell_type": "code",
      "source": [
        "def yearMonth(month,year):\n",
        "  '''determine the type of year and month days\n",
        "\n",
        "  Parameters\n",
        "  year: int/float value sides\n",
        "  month: str value\n",
        "  '''\n",
        "  month31 = ['January','March','May','July','August','October','December']\n",
        "  month30 = ['April','June','September','November']\n",
        "  leap = False\n",
        "  if year%4 != 0:\n",
        "    print(year,'is a Common Year.')\n",
        "  elif year%100 != 0:\n",
        "    print(year,'is a Leap Year.')\n",
        "    leap = True\n",
        "  elif year%400 == 0:\n",
        "    print(year,'is a Leap Year.')\n",
        "    leap = True\n",
        "  else:\n",
        "    print(year,'is a Common Year.')\n",
        "  if month in month31:\n",
        "    print(month,'has 31 days.')\n",
        "  elif month in month30:\n",
        "    print(month,'has 30 days.')\n",
        "  elif month == 'February' and leap:\n",
        "    print(month,'has 29 days.')\n",
        "  elif month == 'February' and not leap:\n",
        "    print(month,'has 28 days.')\n",
        "  print()\n",
        "\n",
        "yearMonth('February',2021)\n",
        "yearMonth('March',2021)\n",
        "yearMonth('April',2021)\n",
        "yearMonth('February',2020)"
      ],
      "metadata": {
        "colab": {
          "base_uri": "https://localhost:8080/"
        },
        "outputId": "00ab0f52-4d07-4d19-d6b3-598de2dde61a",
        "id": "0xtp6EQibMi1"
      },
      "execution_count": 8,
      "outputs": [
        {
          "output_type": "stream",
          "name": "stdout",
          "text": [
            "2021 is a Common Year.\n",
            "February has 28 days.\n",
            "\n",
            "2021 is a Common Year.\n",
            "March has 31 days.\n",
            "\n",
            "2021 is a Common Year.\n",
            "April has 30 days.\n",
            "\n",
            "2020 is a Leap Year.\n",
            "February has 29 days.\n",
            "\n"
          ]
        }
      ]
    },
    {
      "cell_type": "markdown",
      "source": [
        "## Basic Level"
      ],
      "metadata": {
        "id": "zABLbGuRTCHP"
      }
    },
    {
      "cell_type": "markdown",
      "source": [
        "### 1. Write a Python program that checks if a given number is positive, negative, or zero."
      ],
      "metadata": {
        "id": "8Apiq3okTCHY"
      }
    },
    {
      "cell_type": "code",
      "execution_count": null,
      "metadata": {
        "colab": {
          "base_uri": "https://localhost:8080/",
          "height": 36
        },
        "outputId": "396fcba6-cfa2-438e-8b61-46d303843bd4",
        "id": "9w3iTQa_TCHZ"
      },
      "outputs": [
        {
          "output_type": "execute_result",
          "data": {
            "text/plain": [
              "'Negative'"
            ],
            "application/vnd.google.colaboratory.intrinsic+json": {
              "type": "string"
            }
          },
          "metadata": {},
          "execution_count": 2
        }
      ],
      "source": [
        "def positiveNegative(num):\n",
        "  '''check if num is positive or negative\n",
        "\n",
        "  Parameters\n",
        "  num: int/float value\n",
        "\n",
        "  Returns\n",
        "  str value\n",
        "  '''\n",
        "  if num >= 0:\n",
        "    return 'Positve'\n",
        "  else:\n",
        "    return 'Negative'\n",
        "positiveNegative(-12)"
      ]
    },
    {
      "cell_type": "code",
      "source": [
        "positiveNegative(12)"
      ],
      "metadata": {
        "colab": {
          "base_uri": "https://localhost:8080/",
          "height": 36
        },
        "outputId": "12184e13-926c-4717-8773-88034c6af8c9",
        "id": "UeEoPkYXTCHZ"
      },
      "execution_count": null,
      "outputs": [
        {
          "output_type": "execute_result",
          "data": {
            "text/plain": [
              "'Positve'"
            ],
            "application/vnd.google.colaboratory.intrinsic+json": {
              "type": "string"
            }
          },
          "metadata": {},
          "execution_count": 3
        }
      ]
    },
    {
      "cell_type": "markdown",
      "source": [
        "### 2. Create a program to determine if a person is eligible to vote based on their age."
      ],
      "metadata": {
        "id": "U7o7XcIcTCHZ"
      }
    },
    {
      "cell_type": "code",
      "source": [
        "def eligibleToVote(age):\n",
        "  '''check if the person is eligible to vote\n",
        "\n",
        "  Parameters\n",
        "  age: int/float value\n",
        "\n",
        "  Returns\n",
        "  bool value\n",
        "  '''\n",
        "  if age >= 18:\n",
        "    return True\n",
        "  else:\n",
        "    return False\n",
        "eligibleToVote(21)"
      ],
      "metadata": {
        "colab": {
          "base_uri": "https://localhost:8080/"
        },
        "outputId": "aa0b9b31-0d29-496c-c603-a2bb0d84026a",
        "id": "wvQ8DFHhTCHZ"
      },
      "execution_count": null,
      "outputs": [
        {
          "output_type": "execute_result",
          "data": {
            "text/plain": [
              "True"
            ]
          },
          "metadata": {},
          "execution_count": 4
        }
      ]
    },
    {
      "cell_type": "code",
      "source": [
        "eligibleToVote(16)"
      ],
      "metadata": {
        "colab": {
          "base_uri": "https://localhost:8080/"
        },
        "outputId": "95dfc25c-13ad-4036-eec2-acc8c5fa4fdc",
        "id": "wa-dU11DTCHZ"
      },
      "execution_count": null,
      "outputs": [
        {
          "output_type": "execute_result",
          "data": {
            "text/plain": [
              "False"
            ]
          },
          "metadata": {},
          "execution_count": 5
        }
      ]
    },
    {
      "cell_type": "markdown",
      "source": [
        "### 3. Write a program to find the maximum of two given numbers using conditional statements."
      ],
      "metadata": {
        "id": "QoH3M0syTCHZ"
      }
    },
    {
      "cell_type": "code",
      "source": [
        "def maximum(n1,n2):\n",
        "  '''check if which num is greater\n",
        "\n",
        "  Parameters\n",
        "  n1: int/float value\n",
        "  n2: int/float value\n",
        "\n",
        "  Returns\n",
        "  int/float value\n",
        "  '''\n",
        "  if n1 >= n2:\n",
        "    return n1\n",
        "  else:\n",
        "    return n2\n",
        "maximum(-12,20)"
      ],
      "metadata": {
        "colab": {
          "base_uri": "https://localhost:8080/"
        },
        "outputId": "2e1d2d08-a4c3-429f-aa7c-781e31a04830",
        "id": "KkvqCUmPTCHZ"
      },
      "execution_count": null,
      "outputs": [
        {
          "output_type": "execute_result",
          "data": {
            "text/plain": [
              "20"
            ]
          },
          "metadata": {},
          "execution_count": 6
        }
      ]
    },
    {
      "cell_type": "markdown",
      "source": [
        "### 4. Develop a program that calculates the grade of a student based on their exam score."
      ],
      "metadata": {
        "id": "v44hm0JCTCHc"
      }
    },
    {
      "cell_type": "code",
      "source": [
        "def grade(score):\n",
        "  '''find the grade based on the score\n",
        "\n",
        "  Parameters\n",
        "  n: int/float value\n",
        "\n",
        "  Returns\n",
        "  str value\n",
        "  '''\n",
        "  if score > 90:\n",
        "    return \"A1\"\n",
        "  elif score > 80:\n",
        "    return \"A2\"\n",
        "  elif score > 70:\n",
        "    return \"B1\"\n",
        "  elif score > 60:\n",
        "    return \"B2\"\n",
        "  elif score > 50:\n",
        "    return \"C1\"\n",
        "  elif score > 40:\n",
        "    return \"C2\"\n",
        "  elif score > 33:\n",
        "    return \"D\"\n",
        "  else:\n",
        "    return \"E\"\n",
        "grade(90.12)"
      ],
      "metadata": {
        "colab": {
          "base_uri": "https://localhost:8080/",
          "height": 36
        },
        "outputId": "18b1dc13-1059-4cf0-f640-cb9253e6c7bf",
        "id": "ACFsD4G_TCHc"
      },
      "execution_count": null,
      "outputs": [
        {
          "output_type": "execute_result",
          "data": {
            "text/plain": [
              "'A1'"
            ],
            "application/vnd.google.colaboratory.intrinsic+json": {
              "type": "string"
            }
          },
          "metadata": {},
          "execution_count": 13
        }
      ]
    },
    {
      "cell_type": "code",
      "source": [
        "grade(30.12)"
      ],
      "metadata": {
        "colab": {
          "base_uri": "https://localhost:8080/",
          "height": 36
        },
        "outputId": "c0db9ce0-3e67-4044-cab6-d3a47ec447f7",
        "id": "QHznyAHeTCHc"
      },
      "execution_count": null,
      "outputs": [
        {
          "output_type": "execute_result",
          "data": {
            "text/plain": [
              "'E'"
            ],
            "application/vnd.google.colaboratory.intrinsic+json": {
              "type": "string"
            }
          },
          "metadata": {},
          "execution_count": 14
        }
      ]
    },
    {
      "cell_type": "markdown",
      "source": [
        "### 5. Create a program that checks if a year is a leap year or not."
      ],
      "metadata": {
        "id": "D-BuvxnCTCHa"
      }
    },
    {
      "cell_type": "code",
      "source": [
        "def LeapYear(year):\n",
        "  '''find if the year is a leap year\n",
        "\n",
        "  Parameters\n",
        "  year: int value\n",
        "  '''\n",
        "  if year%4 != 0:\n",
        "    print(year,'is not a Leap Year.')\n",
        "  elif year%100 != 0:\n",
        "    print(year,'is a Leap Year.')\n",
        "  elif year%400 == 0:\n",
        "    print(year,'is a Leap Year.')\n",
        "  else:\n",
        "    print(year,'is not a Leap Year.')\n",
        "LeapYear(2020)\n",
        "LeapYear(2021)"
      ],
      "metadata": {
        "colab": {
          "base_uri": "https://localhost:8080/"
        },
        "id": "6FZmwvt7TCHa",
        "outputId": "32bc0cb1-cff6-43a6-c918-610bd3fe0553"
      },
      "execution_count": 9,
      "outputs": [
        {
          "output_type": "stream",
          "name": "stdout",
          "text": [
            "2020 is a Leap Year.\n",
            "2021 is not a Leap Year.\n"
          ]
        }
      ]
    },
    {
      "cell_type": "markdown",
      "source": [
        "### 6. Write a program to classify a triangle based on its sides' lengths."
      ],
      "metadata": {
        "id": "tmmJa3LVTCHa"
      }
    },
    {
      "cell_type": "code",
      "source": [
        "def typeOfTriangle(side1,side2,side3):\n",
        "  '''find the type of triangle based on sides\n",
        "\n",
        "  Parameters\n",
        "  side1,side2,side3: int/float value\n",
        "\n",
        "  Returns\n",
        "  str value\n",
        "  '''\n",
        "  if side1 == side2:\n",
        "    if side3 == side2:\n",
        "      return 'Equilateral'\n",
        "    else:\n",
        "      return 'Isosceles'\n",
        "  elif side3 == side2:\n",
        "    return 'Isosceles'\n",
        "  elif side3 == side1:\n",
        "    return 'Isosceles'\n",
        "  else:\n",
        "    return 'Scalene'\n",
        "typeOfTriangle(10,10,10)"
      ],
      "metadata": {
        "colab": {
          "base_uri": "https://localhost:8080/",
          "height": 36
        },
        "outputId": "8ea85d7e-369c-45a2-b4fd-5a0a3dca4bee",
        "id": "o10FDIFjTCHd"
      },
      "execution_count": null,
      "outputs": [
        {
          "output_type": "execute_result",
          "data": {
            "text/plain": [
              "'Equilateral'"
            ],
            "application/vnd.google.colaboratory.intrinsic+json": {
              "type": "string"
            }
          },
          "metadata": {},
          "execution_count": 31
        }
      ]
    },
    {
      "cell_type": "code",
      "source": [
        "typeOfTriangle(21,10,10)"
      ],
      "metadata": {
        "colab": {
          "base_uri": "https://localhost:8080/",
          "height": 36
        },
        "outputId": "cb8c27ef-028e-44b5-869a-38c59aa70bb8",
        "id": "C3eLKs2DTCHd"
      },
      "execution_count": null,
      "outputs": [
        {
          "output_type": "execute_result",
          "data": {
            "text/plain": [
              "'Isosceles'"
            ],
            "application/vnd.google.colaboratory.intrinsic+json": {
              "type": "string"
            }
          },
          "metadata": {},
          "execution_count": 32
        }
      ]
    },
    {
      "cell_type": "code",
      "source": [
        "typeOfTriangle(21,10,20)"
      ],
      "metadata": {
        "colab": {
          "base_uri": "https://localhost:8080/",
          "height": 36
        },
        "outputId": "3dcffbdc-4db7-4cb0-82aa-2b33798a4af8",
        "id": "lClfWYAnTCHd"
      },
      "execution_count": null,
      "outputs": [
        {
          "output_type": "execute_result",
          "data": {
            "text/plain": [
              "'Scalene'"
            ],
            "application/vnd.google.colaboratory.intrinsic+json": {
              "type": "string"
            }
          },
          "metadata": {},
          "execution_count": 33
        }
      ]
    },
    {
      "cell_type": "markdown",
      "source": [
        "### 7. Build a program that determines the largest of three given numbers."
      ],
      "metadata": {
        "id": "DM4VruDdTCHb"
      }
    },
    {
      "cell_type": "code",
      "source": [
        "def largestNum(n1,n2,n3):\n",
        "  '''check if which num is greater\n",
        "\n",
        "  Parameters\n",
        "  n1,n2,n3: int/float value\n",
        "\n",
        "  Returns\n",
        "  int/float value\n",
        "  '''\n",
        "  if n1 > n2 and n1 > n3:\n",
        "    return n1\n",
        "  elif n3 > n2 and n3 > n1:\n",
        "    return n3\n",
        "  else:\n",
        "    return n2\n",
        "largestNum(-12,20,23)"
      ],
      "metadata": {
        "colab": {
          "base_uri": "https://localhost:8080/"
        },
        "outputId": "293b0070-61b8-493f-be4c-7fddbd8f4429",
        "id": "BjBo3uJGTCHb"
      },
      "execution_count": null,
      "outputs": [
        {
          "output_type": "execute_result",
          "data": {
            "text/plain": [
              "23"
            ]
          },
          "metadata": {},
          "execution_count": 7
        }
      ]
    },
    {
      "cell_type": "markdown",
      "source": [
        "### 8. Develop a program that checks whether a character is a vowel or a consonant."
      ],
      "metadata": {
        "id": "voi6-dcJgCDU"
      }
    },
    {
      "cell_type": "code",
      "source": [
        "def checkChar(char):\n",
        "  '''check if the char is vowel or consonant\n",
        "\n",
        "  Parameters\n",
        "  char: char value\n",
        "\n",
        "  Returns\n",
        "  bool value\n",
        "  '''\n",
        "  if char.lower() in 'aeiou':\n",
        "    return 'Vowel'\n",
        "  else:\n",
        "    return 'Consonant'\n",
        "checkChar('A')"
      ],
      "metadata": {
        "colab": {
          "base_uri": "https://localhost:8080/",
          "height": 36
        },
        "outputId": "8336ba5b-0a14-40e4-9c79-ec7e16d51d6a",
        "id": "nYWuK7xjTCHa"
      },
      "execution_count": null,
      "outputs": [
        {
          "output_type": "execute_result",
          "data": {
            "text/plain": [
              "'Vowel'"
            ],
            "application/vnd.google.colaboratory.intrinsic+json": {
              "type": "string"
            }
          },
          "metadata": {},
          "execution_count": 1
        }
      ]
    },
    {
      "cell_type": "code",
      "source": [
        "checkChar('b')"
      ],
      "metadata": {
        "colab": {
          "base_uri": "https://localhost:8080/",
          "height": 36
        },
        "outputId": "068199e9-2c1c-459b-b7ef-61fb917048e8",
        "id": "aLXwXt9ATCHa"
      },
      "execution_count": null,
      "outputs": [
        {
          "output_type": "execute_result",
          "data": {
            "text/plain": [
              "'Consonant'"
            ],
            "application/vnd.google.colaboratory.intrinsic+json": {
              "type": "string"
            }
          },
          "metadata": {},
          "execution_count": 2
        }
      ]
    },
    {
      "cell_type": "markdown",
      "source": [
        "### 9. Create a program to calculate the total cost of a shopping cart based on discounts."
      ],
      "metadata": {
        "id": "F7i9e4r8g--A"
      }
    },
    {
      "cell_type": "code",
      "source": [
        "def calDiscountedPrice(purchase):\n",
        "  ''' calculate the discounted price based on the purchase amount\n",
        "\n",
        "  Parameters\n",
        "  purchase: int/float value\n",
        "  '''\n",
        "  discount = 0.0\n",
        "  if purchase <= 5000:\n",
        "      discount = 0.0\n",
        "  elif 5000 < purchase <= 10000:\n",
        "    discount = (purchase-5000)*(10/100.0)\n",
        "  elif 10000 < purchase <= 20000:\n",
        "    discount = (purchase-10000)*(20/100.0)\n",
        "  elif  20000 < purchase <= 30000:\n",
        "    discount = (purchase-20000)*(30/100.0)\n",
        "  else:\n",
        "    discount = (purchase-30000)*(40/100.0)\n",
        "  print('Discount Amount = {:.2f}'.format(discount))\n",
        "  print('Net Bill Amount = {:.2f}'.format(purchase-discount))\n",
        "calDiscountedPrice(7000)\n",
        "calDiscountedPrice(45000)"
      ],
      "metadata": {
        "colab": {
          "base_uri": "https://localhost:8080/"
        },
        "id": "sjK7-226iNkX",
        "outputId": "a9fb9cdc-9dbb-4aa0-dd21-f59d748e2dcb"
      },
      "execution_count": 13,
      "outputs": [
        {
          "output_type": "stream",
          "name": "stdout",
          "text": [
            "Discount Amount = 200.00\n",
            "Net Bill Amount = 6800.00\n",
            "Discount Amount = 6000.00\n",
            "Net Bill Amount = 39000.00\n"
          ]
        }
      ]
    },
    {
      "cell_type": "markdown",
      "source": [
        "### 10. Write a program that checks if a given number is even or odd."
      ],
      "metadata": {
        "id": "KpIy3dAZfxSd"
      }
    },
    {
      "cell_type": "code",
      "source": [
        "def checkOddEven(num):\n",
        "  '''find the number is even or odd\n",
        "\n",
        "  Parameters\n",
        "  num: int/float value\n",
        "\n",
        "  Returns\n",
        "  bool value\n",
        "  '''\n",
        "  if num%2 == 0:\n",
        "    return 'Even'\n",
        "  else:\n",
        "    return 'Odd'\n",
        "checkOddEven(14)"
      ],
      "metadata": {
        "colab": {
          "base_uri": "https://localhost:8080/",
          "height": 36
        },
        "outputId": "787d1f2a-e57f-49b1-e6f0-00861de7894f",
        "id": "3rZatxBATCHb"
      },
      "execution_count": null,
      "outputs": [
        {
          "output_type": "execute_result",
          "data": {
            "text/plain": [
              "'Even'"
            ],
            "application/vnd.google.colaboratory.intrinsic+json": {
              "type": "string"
            }
          },
          "metadata": {},
          "execution_count": 3
        }
      ]
    },
    {
      "cell_type": "code",
      "source": [
        "checkOddEven(11)"
      ],
      "metadata": {
        "colab": {
          "base_uri": "https://localhost:8080/",
          "height": 36
        },
        "outputId": "56f94ce0-1bbe-433b-eda1-9d9aadb05f27",
        "id": "0yf7wpcqTCHb"
      },
      "execution_count": null,
      "outputs": [
        {
          "output_type": "execute_result",
          "data": {
            "text/plain": [
              "'Odd'"
            ],
            "application/vnd.google.colaboratory.intrinsic+json": {
              "type": "string"
            }
          },
          "metadata": {},
          "execution_count": 4
        }
      ]
    },
    {
      "cell_type": "markdown",
      "source": [
        "## Intermediate Level"
      ],
      "metadata": {
        "id": "GAS6Uj5ETCHc"
      }
    },
    {
      "cell_type": "markdown",
      "source": [
        "### 11. Write a Python program to calculate the roots of a quadratic equation."
      ],
      "metadata": {
        "id": "OYenLwRoTCHe"
      }
    },
    {
      "cell_type": "code",
      "source": [
        "def quadraticRoots(a,b,c):\n",
        "  ''' find the roots of the quadratic equation\n",
        "\n",
        "  Parameters\n",
        "  a,b,c: coefficients of the equation\n",
        "  '''\n",
        "  val = b**2 - 4*a*c\n",
        "  if val < 0:\n",
        "    print('Imaginary Roots')\n",
        "  else:\n",
        "    root1 = (-b + val)/(2*a)\n",
        "    if val > 0:\n",
        "      root2 = (-b - val)/(2*a)\n",
        "      print('Distinct Real Roots:',root1,',',root2)\n",
        "    else:\n",
        "      print('Equal Real Roots:',root1,',',root1)\n",
        "quadraticRoots(10,20,30)\n",
        "quadraticRoots(10,20,10)\n",
        "quadraticRoots(20,40,10)"
      ],
      "metadata": {
        "colab": {
          "base_uri": "https://localhost:8080/"
        },
        "outputId": "9af09c4f-5080-40b6-ff1d-03d541bbe728",
        "id": "Ozt_xHj3TCHf"
      },
      "execution_count": null,
      "outputs": [
        {
          "output_type": "stream",
          "name": "stdout",
          "text": [
            "Imaginary Roots\n",
            "Equal Real Roots: -1.0 , -1.0\n",
            "Distinct Real Roots: 19.0 , -21.0\n"
          ]
        }
      ]
    },
    {
      "cell_type": "markdown",
      "source": [
        "### 12. Create a program that determines the day of the week based on the day number (1-7)."
      ],
      "metadata": {
        "id": "hl2VmZd2TCHf"
      }
    },
    {
      "cell_type": "code",
      "source": [
        "def dayOfWeek(num):\n",
        "  '''print the corresponding day of the week based on the number\n",
        "\n",
        "  Parameters\n",
        "  num: int value\n",
        "  '''\n",
        "  if num == 1:\n",
        "    print('Monday')\n",
        "  elif num == 2:\n",
        "    print('Tuesday')\n",
        "  elif num == 3:\n",
        "    print('Wednesday')\n",
        "  elif num == 4:\n",
        "    print('Thursday')\n",
        "  elif num == 5:\n",
        "    print('Friday')\n",
        "  elif num == 6:\n",
        "    print('Saturday')\n",
        "  elif num == 7:\n",
        "    print('Sunday')\n",
        "  else:\n",
        "    print('Invalid Input')\n",
        "dayOfWeek(10)\n",
        "dayOfWeek(4)\n",
        "dayOfWeek(2)"
      ],
      "metadata": {
        "colab": {
          "base_uri": "https://localhost:8080/"
        },
        "outputId": "7417cff8-5c55-4fc4-8ba1-fcf0a247ccad",
        "id": "DMNBOn_nTCHf"
      },
      "execution_count": null,
      "outputs": [
        {
          "output_type": "stream",
          "name": "stdout",
          "text": [
            "Invalid Input\n",
            "Thursday\n",
            "Tuesday\n"
          ]
        }
      ]
    },
    {
      "cell_type": "markdown",
      "source": [
        "### 13. Develop a program that calculates the factorial of a given number using recursion."
      ],
      "metadata": {
        "id": "mSB6aoUlj7Gr"
      }
    },
    {
      "cell_type": "code",
      "source": [
        "def factorial(n):\n",
        "  '''find the factorial of the number\n",
        "\n",
        "  Parameters\n",
        "  n: int value\n",
        "\n",
        "  Returns\n",
        "  int value\n",
        "  '''\n",
        "  if n <= 1:\n",
        "    return 1\n",
        "  return n*factorial(n-1)\n",
        "factorial(4)"
      ],
      "metadata": {
        "colab": {
          "base_uri": "https://localhost:8080/"
        },
        "id": "iv_hoRUTjPe1",
        "outputId": "1c43140a-9bad-4ede-d19f-80068e98b9c4"
      },
      "execution_count": 14,
      "outputs": [
        {
          "output_type": "execute_result",
          "data": {
            "text/plain": [
              "24"
            ]
          },
          "metadata": {},
          "execution_count": 14
        }
      ]
    },
    {
      "cell_type": "markdown",
      "source": [
        "### 14. Write a program to find the largest among three numbers without using the `max()` function."
      ],
      "metadata": {
        "id": "IFSZP636kTVz"
      }
    },
    {
      "cell_type": "code",
      "source": [
        "def largestNum(n1,n2,n3):\n",
        "  '''check if which num is greater\n",
        "\n",
        "  Parameters\n",
        "  n1,n2,n3: int/float value\n",
        "\n",
        "  Returns\n",
        "  int/float value\n",
        "  '''\n",
        "  if n1 > n2 and n1 > n3:\n",
        "    return n1\n",
        "  elif n3 > n2 and n3 > n1:\n",
        "    return n3\n",
        "  else:\n",
        "    return n2\n",
        "largestNum(-12,20,23)"
      ],
      "metadata": {
        "colab": {
          "base_uri": "https://localhost:8080/"
        },
        "outputId": "293b0070-61b8-493f-be4c-7fddbd8f4429",
        "id": "xZRHKSUmkTV8"
      },
      "execution_count": null,
      "outputs": [
        {
          "output_type": "execute_result",
          "data": {
            "text/plain": [
              "23"
            ]
          },
          "metadata": {},
          "execution_count": 7
        }
      ]
    },
    {
      "cell_type": "markdown",
      "source": [
        "### 15. Create a program that simulates a basic ATM transaction menu."
      ],
      "metadata": {
        "id": "bK15QCiblrNi"
      }
    },
    {
      "cell_type": "code",
      "source": [
        "transaction = 'Y'\n",
        "from google.colab import output\n",
        "while transaction == 'Y':\n",
        "  balance = 50000\n",
        "  print('-------ATM Transaction Menu-------')\n",
        "  print('  1. Withdraw')\n",
        "  print('  2. Deposit')\n",
        "  print('  3. Exit')\n",
        "  choice = int(input('Enter Your Choice : '))\n",
        "  if choice == 1 :\n",
        "    amount = float(input('Enter the amount to be Withdrawn : '))\n",
        "    if balance - amount < 2500:\n",
        "      print('Minimum Balance should be Maintained.')\n",
        "    else:\n",
        "      balance -= amount\n",
        "      print(amount,'has been withdrawn.')\n",
        "      print('Updated Balance :',balance)\n",
        "  elif choice == 2 :\n",
        "    amount = float(input('Enter the amount to be Deposited : '))\n",
        "    balance += amount\n",
        "    print(amount,'has been deposited.')\n",
        "    print('Updated Balance :',balance)\n",
        "  elif choice == 3 :\n",
        "    print('Thank You')\n",
        "    transaction = False\n",
        "  else :\n",
        "    print('Invalid Choice')\n",
        "  transaction = input('Want to Continue(Y/N) : ')\n",
        "  transaction = transaction.upper()"
      ],
      "metadata": {
        "id": "UzUvBkLWlu8f"
      },
      "execution_count": 21,
      "outputs": []
    },
    {
      "cell_type": "markdown",
      "source": [
        "### 16. Build a program that checks if a given string is a palindrome or not."
      ],
      "metadata": {
        "id": "vkTWv33_TCHb"
      }
    },
    {
      "cell_type": "code",
      "source": [
        "def checkPalindrome(string):\n",
        "  '''check if string is palindrom\n",
        "\n",
        "  Parameters\n",
        "  string: str value\n",
        "\n",
        "  Returns\n",
        "  bool value\n",
        "  '''\n",
        "  string = string.replace(' ','').lower()\n",
        "  if string == string[::-1]:\n",
        "    return True\n",
        "  else:\n",
        "    return False\n",
        "checkPalindrome('abc aacba')"
      ],
      "metadata": {
        "colab": {
          "base_uri": "https://localhost:8080/"
        },
        "outputId": "f9cb5b9b-c1c7-4d8c-ad8f-a88a853795ec",
        "id": "ZZ1xvCkTTCHb"
      },
      "execution_count": null,
      "outputs": [
        {
          "output_type": "execute_result",
          "data": {
            "text/plain": [
              "True"
            ]
          },
          "metadata": {},
          "execution_count": 11
        }
      ]
    },
    {
      "cell_type": "markdown",
      "source": [
        "### 17. Write a program that calculates the average of a list of numbers, excluding the smallest and largest values."
      ],
      "metadata": {
        "id": "wViYzWl3TCHd"
      }
    },
    {
      "cell_type": "code",
      "source": [
        "def listAvg(List):\n",
        "  '''calculate average of list of nums, excluding smallest and largest values\n",
        "\n",
        "  Parameters\n",
        "  List: list value\n",
        "\n",
        "  Returns\n",
        "  avg: float value\n",
        "  '''\n",
        "  sum = 0.0\n",
        "  length = 0\n",
        "  mini = min(List)\n",
        "  maxi = max(List)\n",
        "  for num in List:\n",
        "    if num != maxi or num != mini:\n",
        "      sum += num\n",
        "      length += 1\n",
        "  if length == 0:\n",
        "    avg = 0.0\n",
        "  else:\n",
        "    avg = sum/length\n",
        "  return avg\n",
        "listAvg([1,2,3,4,5,6])"
      ],
      "metadata": {
        "colab": {
          "base_uri": "https://localhost:8080/"
        },
        "id": "ez1Q8PAQTCHe",
        "outputId": "72e8ee57-d4a2-4c68-87f2-c48baefee5ae"
      },
      "execution_count": 26,
      "outputs": [
        {
          "output_type": "execute_result",
          "data": {
            "text/plain": [
              "3.5"
            ]
          },
          "metadata": {},
          "execution_count": 26
        }
      ]
    },
    {
      "cell_type": "markdown",
      "source": [
        "### 18. Develop a program that converts a given temperature from Celsius to Fahrenheit."
      ],
      "metadata": {
        "id": "DkQPgdIZTCHe"
      }
    },
    {
      "cell_type": "code",
      "source": [
        "def celsiusToFahrenheit(celsius):\n",
        "  ''' convert a temp in Celsius to fahrenheit\n",
        "\n",
        "  Parameters\n",
        "  celsius: float value celsius temp\n",
        "\n",
        "  Returns\n",
        "  fahrenheit: float value fahrenheit temp\n",
        "  '''\n",
        "  fahrenheit = celsius*9/5 + 32\n",
        "  return fahrenheit\n",
        "celsiusToFahrenheit(-40)"
      ],
      "metadata": {
        "colab": {
          "base_uri": "https://localhost:8080/"
        },
        "outputId": "1041a59a-a7eb-4f0f-fab4-4933cfd46add",
        "id": "-NZ3lpB-TCHe"
      },
      "execution_count": 22,
      "outputs": [
        {
          "output_type": "execute_result",
          "data": {
            "text/plain": [
              "-40.0"
            ]
          },
          "metadata": {},
          "execution_count": 22
        }
      ]
    },
    {
      "cell_type": "code",
      "source": [
        "celsiusToFahrenheit(100.0)"
      ],
      "metadata": {
        "colab": {
          "base_uri": "https://localhost:8080/"
        },
        "outputId": "a30ac92b-6f05-4483-997e-02f62dee6f64",
        "id": "jUhdy0GUTCHe"
      },
      "execution_count": 24,
      "outputs": [
        {
          "output_type": "execute_result",
          "data": {
            "text/plain": [
              "212.0"
            ]
          },
          "metadata": {},
          "execution_count": 24
        }
      ]
    },
    {
      "cell_type": "code",
      "source": [
        "celsiusToFahrenheit(0.0)"
      ],
      "metadata": {
        "colab": {
          "base_uri": "https://localhost:8080/"
        },
        "outputId": "3c3f27a6-a50d-4e92-c035-c6aa1683a17e",
        "id": "9Z2R3eyaTCHe"
      },
      "execution_count": 23,
      "outputs": [
        {
          "output_type": "execute_result",
          "data": {
            "text/plain": [
              "32.0"
            ]
          },
          "metadata": {},
          "execution_count": 23
        }
      ]
    },
    {
      "cell_type": "markdown",
      "source": [
        "### 19. Create a program that simulates a basic calculator for addition, subtraction, multiplication, and division."
      ],
      "metadata": {
        "id": "QTmsZmwoTCHf"
      }
    },
    {
      "cell_type": "code",
      "source": [
        "def leapYearAndDivisibleBy400(year):\n",
        "  '''check if a year is a leap year and also evenly divisible by 400\n",
        "\n",
        "  Parameters\n",
        "  year: int value\n",
        "  '''\n",
        "  if year%400 == 0:\n",
        "    print(year,'is a Leap Year and evenly divisible by 400.')\n",
        "    print(year,'is a Centurian Leap Year.')\n",
        "  elif year%4 == 0:\n",
        "    if year%100 != 0:\n",
        "      print(year,'is a Leap Year but not a century Year')\n",
        "    else:\n",
        "      print(year,'is a not Leap Year as not evenly divisible by 400.')\n",
        "  else:\n",
        "    print(year,'is not a Leap Year')\n",
        "leapYearAndDivisibleBy400(1900)\n",
        "leapYearAndDivisibleBy400(1600)"
      ],
      "metadata": {
        "colab": {
          "base_uri": "https://localhost:8080/"
        },
        "outputId": "6264ea29-d6c1-426b-b7fa-a6eb00117463",
        "id": "k-vlF9VVTCHf"
      },
      "execution_count": null,
      "outputs": [
        {
          "output_type": "stream",
          "name": "stdout",
          "text": [
            "1900 is a not Leap Year as not evenly divisible by 400.\n",
            "1600 is a Leap Year and evenly divisible by 400.\n",
            "1600 is a Centurian Leap Year.\n"
          ]
        }
      ]
    },
    {
      "cell_type": "markdown",
      "source": [
        "### 20. Write a program that determines the roots of a cubic equation using the Cardano formula."
      ],
      "metadata": {
        "id": "Lvucng2wTCHf"
      }
    },
    {
      "cell_type": "code",
      "source": [
        "def prime(num):\n",
        "  '''check for prime number\n",
        "\n",
        "  Parameters\n",
        "  num: int value\n",
        "\n",
        "  Returns\n",
        "  bool value\n",
        "  '''\n",
        "  if num <= 1:\n",
        "    return False\n",
        "  else:\n",
        "    if num <= 3:\n",
        "      return True\n",
        "    elif num%2 == 0:\n",
        "      return False\n",
        "    elif num%3 == 0:\n",
        "      return False\n",
        "    else:\n",
        "      for i in range(5,int(num**0.5)+1):\n",
        "        if num%i == 0:\n",
        "          return False\n",
        "  return True\n",
        "prime(195)"
      ],
      "metadata": {
        "colab": {
          "base_uri": "https://localhost:8080/"
        },
        "outputId": "05873856-2d35-447f-9f86-9b701eeea4b9",
        "id": "tnKA2G3sTCHf"
      },
      "execution_count": null,
      "outputs": [
        {
          "output_type": "execute_result",
          "data": {
            "text/plain": [
              "False"
            ]
          },
          "metadata": {},
          "execution_count": 13
        }
      ]
    },
    {
      "cell_type": "code",
      "source": [
        "prime(7)"
      ],
      "metadata": {
        "colab": {
          "base_uri": "https://localhost:8080/"
        },
        "outputId": "aec01ed9-a6e8-4b4e-ae4b-fc1cbaa3a13e",
        "id": "utNARoh8TCHf"
      },
      "execution_count": null,
      "outputs": [
        {
          "output_type": "execute_result",
          "data": {
            "text/plain": [
              "True"
            ]
          },
          "metadata": {},
          "execution_count": 16
        }
      ]
    },
    {
      "cell_type": "markdown",
      "source": [
        "## Elif Statements"
      ],
      "metadata": {
        "id": "wkd9NXhpTCHg"
      }
    },
    {
      "cell_type": "markdown",
      "source": [
        "### 21. Create a program that calculates the income tax based on the user's income and tax brackets."
      ],
      "metadata": {
        "id": "7tT-cxElTCHg"
      }
    },
    {
      "cell_type": "code",
      "source": [
        "def grade(score):\n",
        "  '''find the grade based on the score\n",
        "\n",
        "  Parameters\n",
        "  n: int/float value\n",
        "\n",
        "  Returns\n",
        "  str value\n",
        "  '''\n",
        "  if score > 90:\n",
        "    return \"A1\"\n",
        "  elif score > 80:\n",
        "    return \"A2\"\n",
        "  elif score > 70:\n",
        "    return \"B1\"\n",
        "  elif score > 60:\n",
        "    return \"B2\"\n",
        "  elif score > 50:\n",
        "    return \"C1\"\n",
        "  elif score > 40:\n",
        "    return \"C2\"\n",
        "  elif score > 33:\n",
        "    return \"D\"\n",
        "  else:\n",
        "    return \"E\"\n",
        "grade(90.12)"
      ],
      "metadata": {
        "colab": {
          "base_uri": "https://localhost:8080/",
          "height": 36
        },
        "outputId": "7576a10a-8b16-4324-8e52-f4a64d9dd25f",
        "id": "jp2d2Fl2TCHg"
      },
      "execution_count": null,
      "outputs": [
        {
          "output_type": "execute_result",
          "data": {
            "text/plain": [
              "'A1'"
            ],
            "application/vnd.google.colaboratory.intrinsic+json": {
              "type": "string"
            }
          },
          "metadata": {},
          "execution_count": 1
        }
      ]
    },
    {
      "cell_type": "markdown",
      "source": [
        "### 22. Write a program that simulates a rock-paper-scissors game against the computer."
      ],
      "metadata": {
        "id": "S0H5BX9RTCHg"
      }
    },
    {
      "cell_type": "code",
      "source": [
        "def typeOfTriangle(a1,a2,a3):\n",
        "  '''find the type of triangle based on its angles(given angles are of a triangle)\n",
        "\n",
        "  Parameters\n",
        "  a1,a2,a3: int/float value\n",
        "  '''\n",
        "  if a1 > 90 or a2 > 90 or a3 > 90:\n",
        "    print('Obtuse Angle Triangle')\n",
        "  elif a1 < 90 and a2 < 90 and a2 < 90:\n",
        "    print('Acute Angle Triangle')\n",
        "  elif a1 == 90 or a2 == 90 or a3 == 90:\n",
        "    print('Right Angle Triangle')\n",
        "typeOfTriangle(70,70,40)\n",
        "typeOfTriangle(120,20,40)\n",
        "typeOfTriangle(90,20,70)"
      ],
      "metadata": {
        "colab": {
          "base_uri": "https://localhost:8080/"
        },
        "outputId": "0ea4fc33-6cae-402b-e20a-0718c252482b",
        "id": "ooWPq8FkTCHj"
      },
      "execution_count": null,
      "outputs": [
        {
          "output_type": "stream",
          "name": "stdout",
          "text": [
            "Acute Angle Triangle\n",
            "Obtuse Angle Triangle\n",
            "Right Angle Triangle\n"
          ]
        }
      ]
    },
    {
      "cell_type": "markdown",
      "source": [
        "### 23. Develop a program that generates a random password based on user preferences (length, complexity)."
      ],
      "metadata": {
        "id": "hTy1z2Q1TCHj"
      }
    },
    {
      "cell_type": "code",
      "source": [
        "def negativePositiveZero(num):\n",
        "  ''' check if number is positive, negative or zero\n",
        "\n",
        "  Parameters\n",
        "  num: int/float value\n",
        "  '''\n",
        "  if num > 0:\n",
        "    print('Positve')\n",
        "  elif num == 0:\n",
        "    print('Zero')\n",
        "  else:\n",
        "    print('Negative')\n",
        "negativePositiveZero(0.0)\n",
        "negativePositiveZero(13.0)\n",
        "negativePositiveZero(-1.0)"
      ],
      "metadata": {
        "colab": {
          "base_uri": "https://localhost:8080/"
        },
        "outputId": "9b8af12b-7051-478d-b1fa-43d86dbd8607",
        "id": "N48rV9afTCHk"
      },
      "execution_count": null,
      "outputs": [
        {
          "output_type": "stream",
          "name": "stdout",
          "text": [
            "Zero\n",
            "Positve\n",
            "Negative\n"
          ]
        }
      ]
    },
    {
      "cell_type": "markdown",
      "source": [
        "### 24. Create a program that implements a simple text-based adventure game with branching scenarios."
      ],
      "metadata": {
        "id": "QMwTDThzTCHk"
      }
    },
    {
      "cell_type": "markdown",
      "source": [
        "https://github.com/joel2982/PW-Skills-Assignment/blob/master/Q25TypeOfChar.py"
      ],
      "metadata": {
        "id": "bqpm1PaHTCHk"
      }
    },
    {
      "cell_type": "code",
      "source": [
        "# code\n",
        "char = input('Enter a character = ')\n",
        "special_char = '[@_!#$%^&*()<>?/\\|}{~:]'\n",
        "if char.islower():\n",
        "    print('Lowercase')\n",
        "elif char.isupper():\n",
        "    print('Uppercase')\n",
        "elif char in special_char:\n",
        "    print('Special char')"
      ],
      "metadata": {
        "id": "Yt-Hu3t8TCHk"
      },
      "execution_count": null,
      "outputs": []
    },
    {
      "cell_type": "markdown",
      "source": [
        "### 25. Build a program that solves a linear equation for x, considering different cases."
      ],
      "metadata": {
        "id": "wA8Ze67GTCHk"
      }
    },
    {
      "cell_type": "code",
      "source": [
        "def calDiscountedPrice(purchase):\n",
        "  ''' calculate the discounted price based on the purchase amount\n",
        "\n",
        "  Parameters\n",
        "  purchase: int/float value\n",
        "  '''\n",
        "  discount = 0.0\n",
        "  if purchase <= 5000:\n",
        "      discount = 0.0\n",
        "  elif 5000 < purchase <= 10000:\n",
        "    discount = (purchase-5000)*(10/100.0)\n",
        "  elif 10000 < purchase <= 20000:\n",
        "    discount = (purchase-10000)*(20/100.0)\n",
        "  elif  20000 < purchase <= 30000:\n",
        "    discount = (purchase-20000)*(30/100.0)\n",
        "  else:\n",
        "    discount = (purchase-30000)*(40/100.0)\n",
        "  print('Discount Amount = {:.2f}'.format(discount))\n",
        "  print('Net Bill Amount = {:.2f}'.format(purchase-discount))\n",
        "calDiscountedPrice(7000)\n",
        "calDiscountedPrice(45000)"
      ],
      "metadata": {
        "colab": {
          "base_uri": "https://localhost:8080/"
        },
        "outputId": "70ac61e2-b64b-45d9-a549-dce6aff6b3ea",
        "id": "pBP-kRxMTCHk"
      },
      "execution_count": null,
      "outputs": [
        {
          "output_type": "stream",
          "name": "stdout",
          "text": [
            "Discount Amount = 200.00\n",
            "Net Bill Amount = 6800.00\n",
            "Discount Amount = 6000.00\n",
            "Net Bill Amount = 39000.00\n"
          ]
        }
      ]
    },
    {
      "cell_type": "markdown",
      "source": [
        "### 26. Write a program that simulates a basic quiz game with multiple-choice questions and scoring."
      ],
      "metadata": {
        "id": "k6rtgiC6TCHk"
      }
    },
    {
      "cell_type": "code",
      "source": [
        "def billCalculator(usage):\n",
        "  ''' calculate the electricity bill based on the consumption slabs\n",
        "\n",
        "  Parameters\n",
        "  usage: int/float value\n",
        "  '''\n",
        "  # 1 to 100 units – Rs. 10/unit\n",
        "  # 100 to 200 units – Rs. 15/unit\n",
        "  # 200 to 300 units – Rs. 20/unit\n",
        "  # above 300 units – Rs. 25/unit\n",
        "  bill = 0.0\n",
        "  if usage <= 100:\n",
        "    bill = 10*usage\n",
        "  elif 100 < usage <= 200:\n",
        "    bill = 10*100 + (usage-100)*15\n",
        "  elif 200 < usage <= 300:\n",
        "    bill = 10*100 + 15*100 + (usage-200)*20\n",
        "  else:\n",
        "    bill = 10*100 + 15*100 + 20*100 + (usage-300)*25\n",
        "  print('Net Bill Amount = {:.2f}'.format(bill))\n",
        "billCalculator(40)\n",
        "billCalculator(400)"
      ],
      "metadata": {
        "colab": {
          "base_uri": "https://localhost:8080/"
        },
        "outputId": "006c4e95-94ec-4523-939b-e8bad6cef0f8",
        "id": "YWqvXdZnTCHk"
      },
      "execution_count": null,
      "outputs": [
        {
          "output_type": "stream",
          "name": "stdout",
          "text": [
            "Net Bill Amount = 400.00\n",
            "Net Bill Amount = 7000.00\n"
          ]
        }
      ]
    },
    {
      "cell_type": "markdown",
      "source": [
        "### 27. Develop a program that determines whether a given year is a prime number or not."
      ],
      "metadata": {
        "id": "bE9AEkSSTCHl"
      }
    },
    {
      "cell_type": "code",
      "source": [
        "def typeOfQuadrilateral(s1,s2,s3,s4,a1,a2,a3,a4):\n",
        "  ''' calculate the electricity bill based on the consumption slabs\n",
        "\n",
        "  Parameters\n",
        "  s1,s2,s3,s4: int/float value sides\n",
        "  a1,a2,a3,a4: int/float value angles\n",
        "  '''\n",
        "  if a1 + a2 + a3 + a4 != 360:\n",
        "    print('Not a Quadrilateral')\n",
        "  elif s1 == s3 == s2 == s4:\n",
        "    if a1 == a2 == a3 == a4 == 90:\n",
        "      print('Square')\n",
        "    else:\n",
        "      print('Rhombus')\n",
        "  elif s1 == s3 and s2 == s4:\n",
        "    if a1 == a2 == a3 == a4 == 90:\n",
        "      print('Rectangle')\n",
        "    elif a1 == a3 and a2 == a4:\n",
        "      print('Parallogram')\n",
        "  elif s1 == s2 and s3 == s4 and a1 == a4 and a2 == a3:\n",
        "      print('Kites')\n",
        "  else:\n",
        "    print('Trapizoid')\n",
        "typeOfQuadrilateral(20,20,20,20,90,90,90,90)\n",
        "typeOfQuadrilateral(20,10,20,10,90,90,90,90)\n",
        "typeOfQuadrilateral(20,10,20,10,60,120,60,120)\n",
        "typeOfQuadrilateral(20,20,20,20,60,120,60,120)\n",
        "typeOfQuadrilateral(10,10,20,20,60,120,120,60)\n",
        "typeOfQuadrilateral(10,20,20,10,150,30,70,110)\n",
        "typeOfQuadrilateral(10,20,20,10,150,50,70,110)"
      ],
      "metadata": {
        "colab": {
          "base_uri": "https://localhost:8080/"
        },
        "outputId": "a3ea8dba-ca92-47b3-e69f-8156fcb7715e",
        "id": "V1WCwn7yTCHl"
      },
      "execution_count": null,
      "outputs": [
        {
          "output_type": "stream",
          "name": "stdout",
          "text": [
            "Square\n",
            "Rectangle\n",
            "Parallogram\n",
            "Rhombus\n",
            "Kites\n",
            "Trapizoid\n",
            "Not a Quadrilateral\n"
          ]
        }
      ]
    },
    {
      "cell_type": "markdown",
      "source": [
        "### 30. Write a program that calculates the BMI (Body Mass Index) and provides health recommendations based on the user's input."
      ],
      "metadata": {
        "id": "6Pnb81KzTCHj"
      }
    },
    {
      "cell_type": "code",
      "source": [
        "def bmiCategory(bmi):\n",
        "  '''categorize a given person into underweight, normal, overweight or obese\n",
        "\n",
        "  Parameters\n",
        "  bmi: int/float value\n",
        "  '''\n",
        "  if bmi < 18.5:\n",
        "    print(bmi,'is Underweight')\n",
        "  elif 18.5 <= bmi <= 24.9:\n",
        "    print(bmi,'is Normal')\n",
        "  elif 25.0 <= bmi <= 29.9:\n",
        "    print(bmi,'is Overweight')\n",
        "  elif 30.0 <= bmi <= 34.9:\n",
        "    print(bmi,'is Obese')\n",
        "  elif bmi > 34.9:\n",
        "    print(bmi,'is Morbidly Obese')\n",
        "bmiCategory(23)\n",
        "bmiCategory(18.1)\n",
        "bmiCategory(26.1)\n",
        "bmiCategory(30.1)\n",
        "bmiCategory(39.1)"
      ],
      "metadata": {
        "colab": {
          "base_uri": "https://localhost:8080/"
        },
        "outputId": "703f52e5-8765-41a7-af48-c34e092cdf6f",
        "id": "qX8Krw-BTCHj"
      },
      "execution_count": null,
      "outputs": [
        {
          "output_type": "stream",
          "name": "stdout",
          "text": [
            "23 is Normal\n",
            "18.1 is Underweight\n",
            "26.1 is Overweight\n",
            "30.1 is Obese\n",
            "39.1 is Morbidly Obese\n"
          ]
        }
      ]
    },
    {
      "cell_type": "markdown",
      "source": [
        "### 28. Create a program that sorts three numbers in ascending order using conditional statements."
      ],
      "metadata": {
        "id": "7hfXgeI7TCHl"
      }
    },
    {
      "cell_type": "markdown",
      "source": [
        "https://github.com/joel2982/PW-Skills-Assignment/blob/master/Q29DetermineSeasons.py"
      ],
      "metadata": {
        "id": "0Nyz5YaOTCHl"
      }
    },
    {
      "cell_type": "code",
      "source": [
        "# code\n",
        "month = input('Enter the Month = ')\n",
        "spring = ['March','April']\n",
        "autumn = ['September','October']\n",
        "summer = ['May','June','July','August']\n",
        "winter = ['November','December','January','February']\n",
        "if month.title() in spring:\n",
        "    print('Spring Season')\n",
        "elif month.title() in autumn:\n",
        "    print('Autumn Season')\n",
        "elif month.title() in summer:\n",
        "    print('Summer Season')\n",
        "elif month.title() in winter:\n",
        "    print('Winter Season')"
      ],
      "metadata": {
        "colab": {
          "base_uri": "https://localhost:8080/"
        },
        "outputId": "61e286d0-528d-46eb-a8ba-13f13254e6b5",
        "id": "l3pVMsrBTCHl"
      },
      "execution_count": null,
      "outputs": [
        {
          "output_type": "execute_result",
          "data": {
            "text/plain": [
              "['A', 'A', 'e', 'a', 'a', 'e', 'e', 'o', 'o', 'a', 'a']"
            ]
          },
          "metadata": {},
          "execution_count": 2
        }
      ]
    },
    {
      "cell_type": "markdown",
      "source": [
        "### 29. Build a program that determines the roots of a quartic equation using numerical methods."
      ],
      "metadata": {
        "id": "0G-By7QsTCHl"
      }
    },
    {
      "cell_type": "code",
      "source": [
        "def yearMonth(month,year):\n",
        "  '''determine the type of year and month days\n",
        "\n",
        "  Parameters\n",
        "  year: int/float value sides\n",
        "  month: str value\n",
        "  '''\n",
        "  month31 = ['January','March','May','July','August','October','December']\n",
        "  month30 = ['April','June','September','November']\n",
        "  leap = False\n",
        "  if year%4 != 0:\n",
        "    print(year,'is a Common Year.')\n",
        "  elif year%100 != 0:\n",
        "    print(year,'is a Leap Year.')\n",
        "    leap = True\n",
        "  elif year%400 == 0:\n",
        "    print(year,'is a Leap Year.')\n",
        "    leap = True\n",
        "  else:\n",
        "    print(year,'is a Common Year.')\n",
        "  if month in month31:\n",
        "    print(month,'has 31 days.')\n",
        "  elif month in month30:\n",
        "    print(month,'has 30 days.')\n",
        "  elif month == 'February' and leap:\n",
        "    print(month,'has 29 days.')\n",
        "  elif month == 'February' and not leap:\n",
        "    print(month,'has 28 days.')\n",
        "  print()\n",
        "\n",
        "yearMonth('February',2021)\n",
        "yearMonth('March',2021)\n",
        "yearMonth('April',2021)\n",
        "yearMonth('February',2020)"
      ],
      "metadata": {
        "colab": {
          "base_uri": "https://localhost:8080/"
        },
        "outputId": "00ab0f52-4d07-4d19-d6b3-598de2dde61a",
        "id": "ZbvmBp4ITCHl"
      },
      "execution_count": null,
      "outputs": [
        {
          "output_type": "stream",
          "name": "stdout",
          "text": [
            "2021 is a Common Year.\n",
            "February has 28 days.\n",
            "\n",
            "2021 is a Common Year.\n",
            "March has 31 days.\n",
            "\n",
            "2021 is a Common Year.\n",
            "April has 30 days.\n",
            "\n",
            "2020 is a Leap Year.\n",
            "February has 29 days.\n",
            "\n"
          ]
        }
      ]
    }
  ]
}